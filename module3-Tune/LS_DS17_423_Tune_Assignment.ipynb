{
  "nbformat": 4,
  "nbformat_minor": 0,
  "metadata": {
    "colab": {
      "name": "LS_DS17_423_Tune_Assignment.ipynb",
      "provenance": [],
      "collapsed_sections": [],
      "include_colab_link": true
    },
    "kernelspec": {
      "display_name": "Python 3",
      "language": "python",
      "name": "python3"
    },
    "language_info": {
      "codemirror_mode": {
        "name": "ipython",
        "version": 3
      },
      "file_extension": ".py",
      "mimetype": "text/x-python",
      "name": "python",
      "nbconvert_exporter": "python",
      "pygments_lexer": "ipython3",
      "version": "3.7.3"
    },
    "nteract": {
      "version": "0.22.4"
    },
    "accelerator": "TPU"
  },
  "cells": [
    {
      "cell_type": "markdown",
      "metadata": {
        "id": "view-in-github",
        "colab_type": "text"
      },
      "source": [
        "<a href=\"https://colab.research.google.com/github/skhabiri/DS-Unit-4-Sprint-2-Neural-Networks/blob/main/module3-Tune/LS_DS17_423_Tune_Assignment.ipynb\" target=\"_parent\"><img src=\"https://colab.research.google.com/assets/colab-badge.svg\" alt=\"Open In Colab\"/></a>"
      ]
    },
    {
      "cell_type": "markdown",
      "metadata": {
        "colab_type": "text",
        "id": "NGGrt9EYlCqY"
      },
      "source": [
        "<img align=\"left\" src=\"https://lever-client-logos.s3.amazonaws.com/864372b1-534c-480e-acd5-9711f850815c-1524247202159.png\" width=200>\n",
        "<br></br>\n",
        "<br></br>\n",
        "\n",
        "# Train Practice\n",
        "\n",
        "## *Data Science Unit 4 Sprint 2 Assignment 3*\n",
        "\n",
        "Continue to use TensorFlow Keras & a sample of the [Quickdraw dataset](https://github.com/googlecreativelab/quickdraw-dataset) to build a sketch classification model. The dataset has been sampled to only 10 classes and 10000 observations per class. Using your baseline model from yesterday, hyperparameter tune it and report on your highest validation accuracy. Your singular goal today is to achieve the highest accuracy possible.\n",
        "\n",
        "*Don't forgot to switch to GPU on Colab!*"
      ]
    },
    {
      "cell_type": "markdown",
      "metadata": {
        "id": "ptJ2b3wk62Ud",
        "colab_type": "text"
      },
      "source": [
        "### Hyperparameters to Tune\n",
        "\n",
        "At a minimum, tune each of these hyperparameters using any strategy we discussed during lecture today: \n",
        "- Optimizer\n",
        "- Learning Rate\n",
        "- Activiation Function\n",
        "  - At least 1 subparameter within the Relu activation function\n",
        "- Number of Neurons in Hidden Layers\n",
        "- Number of Hidden Layers\n",
        "- Weight Initialization"
      ]
    },
    {
      "cell_type": "code",
      "metadata": {
        "id": "USXjs7Hk71Hy",
        "colab_type": "code",
        "colab": {
          "base_uri": "https://localhost:8080/",
          "height": 34
        },
        "outputId": "e0dd98ab-86a4-41aa-addd-71d8bef14136"
      },
      "source": [
        "pip install wget"
      ],
      "execution_count": 2,
      "outputs": [
        {
          "output_type": "stream",
          "text": [
            "Requirement already satisfied: wget in /usr/local/lib/python3.6/dist-packages (3.2)\n"
          ],
          "name": "stdout"
        }
      ]
    },
    {
      "cell_type": "code",
      "metadata": {
        "id": "OV4CdfLNAY26",
        "colab_type": "code",
        "colab": {}
      },
      "source": [
        "import numpy as np\n",
        "import tensorflow as tf\n",
        "from sklearn.utils import shuffle\n",
        "from sklearn.model_selection import train_test_split\n",
        "import wget"
      ],
      "execution_count": 3,
      "outputs": []
    },
    {
      "cell_type": "code",
      "metadata": {
        "id": "bx_O6QmOAe7f",
        "colab_type": "code",
        "colab": {}
      },
      "source": [
        "def load_quickdraw10(path):\n",
        "  wget.download(path)\n",
        "  data = np.load('quickdraw10.npz')\n",
        "  X = data['arr_0']\n",
        "  y = data['arr_1']\n",
        "\n",
        "  print(X.shape)\n",
        "  print(y.shape)\n",
        "\n",
        "  X, y = shuffle(X, y)\n",
        "  X_train, X_test, y_train, y_test = train_test_split(X, y, test_size=0.2, random_state=42)\n",
        "  \n",
        "  return X_train, y_train, X_test, y_test"
      ],
      "execution_count": 4,
      "outputs": []
    },
    {
      "cell_type": "code",
      "metadata": {
        "id": "K7orCsknR3to",
        "colab_type": "code",
        "colab": {
          "base_uri": "https://localhost:8080/",
          "height": 51
        },
        "outputId": "d165d922-fcc2-4a08-b92a-93e8368df140"
      },
      "source": [
        "path = 'https://github.com/skhabiri/DS-Unit-4-Sprint-2-Neural-Networks/raw/main/module1-Architect/quickdraw10.npz'\n",
        "X_train, y_train, X_test, y_test = load_quickdraw10(path)"
      ],
      "execution_count": 5,
      "outputs": [
        {
          "output_type": "stream",
          "text": [
            "(100000, 784)\n",
            "(100000,)\n"
          ],
          "name": "stdout"
        }
      ]
    },
    {
      "cell_type": "code",
      "metadata": {
        "id": "MKHoIuakAn70",
        "colab_type": "code",
        "colab": {}
      },
      "source": [
        "from tensorflow.keras import Sequential\n",
        "from tensorflow.keras.layers import Dense\n",
        "from tensorflow.keras.optimizers import SGD, Adam"
      ],
      "execution_count": 6,
      "outputs": []
    },
    {
      "cell_type": "markdown",
      "metadata": {
        "id": "BaCQ_q2kBHDx",
        "colab_type": "text"
      },
      "source": [
        "### Keras Tuner"
      ]
    },
    {
      "cell_type": "code",
      "metadata": {
        "id": "ZUIXN8CgBPUN",
        "colab_type": "code",
        "colab": {
          "base_uri": "https://localhost:8080/",
          "height": 530
        },
        "outputId": "9df63e55-bf33-45e0-921d-ed0d8b4c95f9"
      },
      "source": [
        "!pip install keras-tuner"
      ],
      "execution_count": 7,
      "outputs": [
        {
          "output_type": "stream",
          "text": [
            "Collecting keras-tuner\n",
            "\u001b[?25l  Downloading https://files.pythonhosted.org/packages/a7/f7/4b41b6832abf4c9bef71a664dc563adb25afc5812831667c6db572b1a261/keras-tuner-1.0.1.tar.gz (54kB)\n",
            "\u001b[K     |████████████████████████████████| 61kB 1.8MB/s \n",
            "\u001b[?25hRequirement already satisfied: future in /usr/local/lib/python3.6/dist-packages (from keras-tuner) (0.16.0)\n",
            "Requirement already satisfied: numpy in /usr/local/lib/python3.6/dist-packages (from keras-tuner) (1.18.5)\n",
            "Requirement already satisfied: tabulate in /usr/local/lib/python3.6/dist-packages (from keras-tuner) (0.8.7)\n",
            "Collecting terminaltables\n",
            "  Downloading https://files.pythonhosted.org/packages/9b/c4/4a21174f32f8a7e1104798c445dacdc1d4df86f2f26722767034e4de4bff/terminaltables-3.1.0.tar.gz\n",
            "Collecting colorama\n",
            "  Downloading https://files.pythonhosted.org/packages/c9/dc/45cdef1b4d119eb96316b3117e6d5708a08029992b2fee2c143c7a0a5cc5/colorama-0.4.3-py2.py3-none-any.whl\n",
            "Requirement already satisfied: tqdm in /usr/local/lib/python3.6/dist-packages (from keras-tuner) (4.41.1)\n",
            "Requirement already satisfied: requests in /usr/local/lib/python3.6/dist-packages (from keras-tuner) (2.23.0)\n",
            "Requirement already satisfied: scipy in /usr/local/lib/python3.6/dist-packages (from keras-tuner) (1.4.1)\n",
            "Requirement already satisfied: scikit-learn in /usr/local/lib/python3.6/dist-packages (from keras-tuner) (0.22.2.post1)\n",
            "Requirement already satisfied: chardet<4,>=3.0.2 in /usr/local/lib/python3.6/dist-packages (from requests->keras-tuner) (3.0.4)\n",
            "Requirement already satisfied: idna<3,>=2.5 in /usr/local/lib/python3.6/dist-packages (from requests->keras-tuner) (2.10)\n",
            "Requirement already satisfied: urllib3!=1.25.0,!=1.25.1,<1.26,>=1.21.1 in /usr/local/lib/python3.6/dist-packages (from requests->keras-tuner) (1.24.3)\n",
            "Requirement already satisfied: certifi>=2017.4.17 in /usr/local/lib/python3.6/dist-packages (from requests->keras-tuner) (2020.6.20)\n",
            "Requirement already satisfied: joblib>=0.11 in /usr/local/lib/python3.6/dist-packages (from scikit-learn->keras-tuner) (0.16.0)\n",
            "Building wheels for collected packages: keras-tuner, terminaltables\n",
            "  Building wheel for keras-tuner (setup.py) ... \u001b[?25l\u001b[?25hdone\n",
            "  Created wheel for keras-tuner: filename=keras_tuner-1.0.1-cp36-none-any.whl size=73200 sha256=2f4e84800ed137ab362f80081138b298945fdf0a39e623f58a5984d1034a515c\n",
            "  Stored in directory: /root/.cache/pip/wheels/b9/cc/62/52716b70dd90f3db12519233c3a93a5360bc672da1a10ded43\n",
            "  Building wheel for terminaltables (setup.py) ... \u001b[?25l\u001b[?25hdone\n",
            "  Created wheel for terminaltables: filename=terminaltables-3.1.0-cp36-none-any.whl size=15356 sha256=67a31b46b138eb73ff68d91d2cd814ba324f1207c5f1e5a290df0e88a6697db3\n",
            "  Stored in directory: /root/.cache/pip/wheels/30/6b/50/6c75775b681fb36cdfac7f19799888ef9d8813aff9e379663e\n",
            "Successfully built keras-tuner terminaltables\n",
            "Installing collected packages: terminaltables, colorama, keras-tuner\n",
            "Successfully installed colorama-0.4.3 keras-tuner-1.0.1 terminaltables-3.1.0\n"
          ],
          "name": "stdout"
        }
      ]
    },
    {
      "cell_type": "code",
      "metadata": {
        "id": "Kfl8evtcBVN2",
        "colab_type": "code",
        "colab": {}
      },
      "source": [
        "from tensorflow import keras\n",
        "from tensorflow.keras import layers\n",
        "import kerastuner.tuners as kt\n",
        "from tensorflow.keras.optimizers import *\n",
        "\n",
        "\"\"\"\n",
        "This model Tunes:\n",
        "- Number of Neurons in three Hidden Layers\n",
        "- Learning Rate\n",
        "- optimizer\n",
        "- activation function\n",
        "\"\"\"\n",
        "\n",
        "def build_model(hp):\n",
        "    hp_units1 = hp.Int('units_1', min_value=32, max_value=128, step=32)\n",
        "    hp_lrate = hp.Choice('lrate', values = [1e-3]) \n",
        "    hp_optimizer = hp.Choice('optimizer', ['adam', 'rmsprop']) # 'sgd', \n",
        "\n",
        "    hp_activation = hp.Choice('activationfn',\n",
        "                            [\n",
        "                              # 'softmax',\n",
        "                              # 'softplus',\n",
        "                              # 'softsign',\n",
        "                              'relu',\n",
        "                              # 'tanh',\n",
        "                              'sigmoid',\n",
        "                              # 'hard_sigmoid',\n",
        "                              'linear'\n",
        "                            ])\n",
        "\n",
        "    model = keras.Sequential()\n",
        "    model.add(layers.Dense(units=hp_units1, input_dim=784, activation='relu'))\n",
        "    for i in range(2,4,1):\n",
        "      hp_units = hp.Int(\n",
        "          'units_' + str(i),\n",
        "          min_value=8,\n",
        "          max_value=64,\n",
        "          step=8\n",
        "      )\n",
        "      model.add(layers.Dense(units=hp_units, activation=hp_activation))\n",
        "    model.add(layers.Dense(10, activation='softmax'))\n",
        "\n",
        "    \n",
        "    # if hp_optimizer == 'adam':\n",
        "    #   opt = keras.optimizers.Adam(learning_rate=hp_lrate)\n",
        "    # elif hp_optimizer== 'sgd':\n",
        "    #   opt = keras.optimizers.SGD(learning_rate=hp_lrate)\n",
        "    # elif hp_optimizer== 'rmsprop':\n",
        "    #   opt = keras.optimizers.RMSprop(learning_rate=hp_lrate)\n",
        "    # else:\n",
        "    #   raise ValueError(f'Unexpected optimizer: {hp_optimizer}')\n",
        "    \n",
        "    opt_dic = {'adam': keras.optimizers.Adam(learning_rate=hp_lrate), \n",
        "            'sgd': keras.optimizers.SGD(learning_rate=hp_lrate),\n",
        "            'rmsprop': keras.optimizers.RMSprop(learning_rate=hp_lrate)\n",
        "            }\n",
        "\n",
        "    model.compile(optimizer=opt_dic[hp_optimizer], loss='sparse_categorical_crossentropy', metrics=['accuracy'])\n",
        "    # model.compile(optimizer=opt, loss='sparse_categorical_crossentropy', metrics=['accuracy'])\n",
        "    return model\n"
      ],
      "execution_count": 9,
      "outputs": []
    },
    {
      "cell_type": "code",
      "metadata": {
        "id": "-3Xm1cNWM9Zb",
        "colab_type": "code",
        "colab": {}
      },
      "source": [
        "tuner_rs = kt.RandomSearch(build_model, objective='val_accuracy', max_trials=8, \n",
        "                           executions_per_trial=5, directory='./kt-randomsearch', \n",
        "                           project_name='kt-RS')"
      ],
      "execution_count": 10,
      "outputs": []
    },
    {
      "cell_type": "code",
      "metadata": {
        "id": "M-76ytUtODW8",
        "colab_type": "code",
        "colab": {
          "base_uri": "https://localhost:8080/",
          "height": 698
        },
        "outputId": "9e288d37-2c14-4212-81bb-d1a833baa74a"
      },
      "source": [
        "tuner_rs.search_space_summary()"
      ],
      "execution_count": 11,
      "outputs": [
        {
          "output_type": "display_data",
          "data": {
            "text/html": [
              "<span style=\"color:#4527A0\"><h1 style=\"font-size:18px\">Search space summary</h1></span>"
            ],
            "text/plain": [
              "<IPython.core.display.HTML object>"
            ]
          },
          "metadata": {
            "tags": []
          }
        },
        {
          "output_type": "display_data",
          "data": {
            "text/html": [
              "<span style=\"color:cyan\"> |-Default search space size: 6</span>"
            ],
            "text/plain": [
              "<IPython.core.display.HTML object>"
            ]
          },
          "metadata": {
            "tags": []
          }
        },
        {
          "output_type": "display_data",
          "data": {
            "text/html": [
              "<span style=\"color:#7E57C2\"><h2 style=\"font-size:16px\">units_1 (Int)</h2></span>"
            ],
            "text/plain": [
              "<IPython.core.display.HTML object>"
            ]
          },
          "metadata": {
            "tags": []
          }
        },
        {
          "output_type": "display_data",
          "data": {
            "text/html": [
              "<span style=\"color:cyan\"> |-default: None</span>"
            ],
            "text/plain": [
              "<IPython.core.display.HTML object>"
            ]
          },
          "metadata": {
            "tags": []
          }
        },
        {
          "output_type": "display_data",
          "data": {
            "text/html": [
              "<span style=\"color:blue\"> |-max_value: 128</span>"
            ],
            "text/plain": [
              "<IPython.core.display.HTML object>"
            ]
          },
          "metadata": {
            "tags": []
          }
        },
        {
          "output_type": "display_data",
          "data": {
            "text/html": [
              "<span style=\"color:cyan\"> |-min_value: 32</span>"
            ],
            "text/plain": [
              "<IPython.core.display.HTML object>"
            ]
          },
          "metadata": {
            "tags": []
          }
        },
        {
          "output_type": "display_data",
          "data": {
            "text/html": [
              "<span style=\"color:blue\"> |-sampling: None</span>"
            ],
            "text/plain": [
              "<IPython.core.display.HTML object>"
            ]
          },
          "metadata": {
            "tags": []
          }
        },
        {
          "output_type": "display_data",
          "data": {
            "text/html": [
              "<span style=\"color:cyan\"> |-step: 32</span>"
            ],
            "text/plain": [
              "<IPython.core.display.HTML object>"
            ]
          },
          "metadata": {
            "tags": []
          }
        },
        {
          "output_type": "display_data",
          "data": {
            "text/html": [
              "<span style=\"color:#7E57C2\"><h2 style=\"font-size:16px\">lrate (Choice)</h2></span>"
            ],
            "text/plain": [
              "<IPython.core.display.HTML object>"
            ]
          },
          "metadata": {
            "tags": []
          }
        },
        {
          "output_type": "display_data",
          "data": {
            "text/html": [
              "<span style=\"color:cyan\"> |-default: 0.001</span>"
            ],
            "text/plain": [
              "<IPython.core.display.HTML object>"
            ]
          },
          "metadata": {
            "tags": []
          }
        },
        {
          "output_type": "display_data",
          "data": {
            "text/html": [
              "<span style=\"color:blue\"> |-ordered: True</span>"
            ],
            "text/plain": [
              "<IPython.core.display.HTML object>"
            ]
          },
          "metadata": {
            "tags": []
          }
        },
        {
          "output_type": "display_data",
          "data": {
            "text/html": [
              "<span style=\"color:cyan\"> |-values: [0.001]</span>"
            ],
            "text/plain": [
              "<IPython.core.display.HTML object>"
            ]
          },
          "metadata": {
            "tags": []
          }
        },
        {
          "output_type": "display_data",
          "data": {
            "text/html": [
              "<span style=\"color:#7E57C2\"><h2 style=\"font-size:16px\">optimizer (Choice)</h2></span>"
            ],
            "text/plain": [
              "<IPython.core.display.HTML object>"
            ]
          },
          "metadata": {
            "tags": []
          }
        },
        {
          "output_type": "display_data",
          "data": {
            "text/html": [
              "<span style=\"color:cyan\"> |-default: adam</span>"
            ],
            "text/plain": [
              "<IPython.core.display.HTML object>"
            ]
          },
          "metadata": {
            "tags": []
          }
        },
        {
          "output_type": "display_data",
          "data": {
            "text/html": [
              "<span style=\"color:blue\"> |-ordered: False</span>"
            ],
            "text/plain": [
              "<IPython.core.display.HTML object>"
            ]
          },
          "metadata": {
            "tags": []
          }
        },
        {
          "output_type": "display_data",
          "data": {
            "text/html": [
              "<span style=\"color:cyan\"> |-values: ['adam', 'rmsprop']</span>"
            ],
            "text/plain": [
              "<IPython.core.display.HTML object>"
            ]
          },
          "metadata": {
            "tags": []
          }
        },
        {
          "output_type": "display_data",
          "data": {
            "text/html": [
              "<span style=\"color:#7E57C2\"><h2 style=\"font-size:16px\">activationfn (Choice)</h2></span>"
            ],
            "text/plain": [
              "<IPython.core.display.HTML object>"
            ]
          },
          "metadata": {
            "tags": []
          }
        },
        {
          "output_type": "display_data",
          "data": {
            "text/html": [
              "<span style=\"color:cyan\"> |-default: relu</span>"
            ],
            "text/plain": [
              "<IPython.core.display.HTML object>"
            ]
          },
          "metadata": {
            "tags": []
          }
        },
        {
          "output_type": "display_data",
          "data": {
            "text/html": [
              "<span style=\"color:blue\"> |-ordered: False</span>"
            ],
            "text/plain": [
              "<IPython.core.display.HTML object>"
            ]
          },
          "metadata": {
            "tags": []
          }
        },
        {
          "output_type": "display_data",
          "data": {
            "text/html": [
              "<span style=\"color:cyan\"> |-values: ['relu', 'sigmoid', 'linear']</span>"
            ],
            "text/plain": [
              "<IPython.core.display.HTML object>"
            ]
          },
          "metadata": {
            "tags": []
          }
        },
        {
          "output_type": "display_data",
          "data": {
            "text/html": [
              "<span style=\"color:#7E57C2\"><h2 style=\"font-size:16px\">units_2 (Int)</h2></span>"
            ],
            "text/plain": [
              "<IPython.core.display.HTML object>"
            ]
          },
          "metadata": {
            "tags": []
          }
        },
        {
          "output_type": "display_data",
          "data": {
            "text/html": [
              "<span style=\"color:cyan\"> |-default: None</span>"
            ],
            "text/plain": [
              "<IPython.core.display.HTML object>"
            ]
          },
          "metadata": {
            "tags": []
          }
        },
        {
          "output_type": "display_data",
          "data": {
            "text/html": [
              "<span style=\"color:blue\"> |-max_value: 64</span>"
            ],
            "text/plain": [
              "<IPython.core.display.HTML object>"
            ]
          },
          "metadata": {
            "tags": []
          }
        },
        {
          "output_type": "display_data",
          "data": {
            "text/html": [
              "<span style=\"color:cyan\"> |-min_value: 8</span>"
            ],
            "text/plain": [
              "<IPython.core.display.HTML object>"
            ]
          },
          "metadata": {
            "tags": []
          }
        },
        {
          "output_type": "display_data",
          "data": {
            "text/html": [
              "<span style=\"color:blue\"> |-sampling: None</span>"
            ],
            "text/plain": [
              "<IPython.core.display.HTML object>"
            ]
          },
          "metadata": {
            "tags": []
          }
        },
        {
          "output_type": "display_data",
          "data": {
            "text/html": [
              "<span style=\"color:cyan\"> |-step: 8</span>"
            ],
            "text/plain": [
              "<IPython.core.display.HTML object>"
            ]
          },
          "metadata": {
            "tags": []
          }
        },
        {
          "output_type": "display_data",
          "data": {
            "text/html": [
              "<span style=\"color:#7E57C2\"><h2 style=\"font-size:16px\">units_3 (Int)</h2></span>"
            ],
            "text/plain": [
              "<IPython.core.display.HTML object>"
            ]
          },
          "metadata": {
            "tags": []
          }
        },
        {
          "output_type": "display_data",
          "data": {
            "text/html": [
              "<span style=\"color:cyan\"> |-default: None</span>"
            ],
            "text/plain": [
              "<IPython.core.display.HTML object>"
            ]
          },
          "metadata": {
            "tags": []
          }
        },
        {
          "output_type": "display_data",
          "data": {
            "text/html": [
              "<span style=\"color:blue\"> |-max_value: 64</span>"
            ],
            "text/plain": [
              "<IPython.core.display.HTML object>"
            ]
          },
          "metadata": {
            "tags": []
          }
        },
        {
          "output_type": "display_data",
          "data": {
            "text/html": [
              "<span style=\"color:cyan\"> |-min_value: 8</span>"
            ],
            "text/plain": [
              "<IPython.core.display.HTML object>"
            ]
          },
          "metadata": {
            "tags": []
          }
        },
        {
          "output_type": "display_data",
          "data": {
            "text/html": [
              "<span style=\"color:blue\"> |-sampling: None</span>"
            ],
            "text/plain": [
              "<IPython.core.display.HTML object>"
            ]
          },
          "metadata": {
            "tags": []
          }
        },
        {
          "output_type": "display_data",
          "data": {
            "text/html": [
              "<span style=\"color:cyan\"> |-step: 8</span>"
            ],
            "text/plain": [
              "<IPython.core.display.HTML object>"
            ]
          },
          "metadata": {
            "tags": []
          }
        }
      ]
    },
    {
      "cell_type": "code",
      "metadata": {
        "id": "HsKdAEwCOOzJ",
        "colab_type": "code",
        "colab": {
          "base_uri": "https://localhost:8080/",
          "height": 1000
        },
        "outputId": "2a2ac3c7-4d84-4627-c07f-428bb2d89073"
      },
      "source": [
        "tuner_rs.search(X_train, y_train, epochs=5, validation_data=(X_test, y_test))"
      ],
      "execution_count": 10,
      "outputs": [
        {
          "output_type": "stream",
          "text": [
            "Epoch 1/5\n",
            "2500/2500 [==============================] - 6s 2ms/step - loss: 1.5498 - accuracy: 0.5894 - val_loss: 0.9307 - val_accuracy: 0.7191\n",
            "Epoch 2/5\n",
            "2500/2500 [==============================] - 6s 2ms/step - loss: 0.8227 - accuracy: 0.7496 - val_loss: 0.7753 - val_accuracy: 0.7731\n",
            "Epoch 3/5\n",
            "2500/2500 [==============================] - 6s 2ms/step - loss: 0.7426 - accuracy: 0.7787 - val_loss: 0.7122 - val_accuracy: 0.7884\n",
            "Epoch 4/5\n",
            "2500/2500 [==============================] - 6s 2ms/step - loss: 0.6902 - accuracy: 0.7950 - val_loss: 0.7163 - val_accuracy: 0.7893\n",
            "Epoch 5/5\n",
            "2500/2500 [==============================] - 6s 2ms/step - loss: 0.6467 - accuracy: 0.8074 - val_loss: 0.6817 - val_accuracy: 0.8007\n",
            "Epoch 1/5\n",
            "2500/2500 [==============================] - 6s 2ms/step - loss: 1.6410 - accuracy: 0.4587 - val_loss: 1.1773 - val_accuracy: 0.6000\n",
            "Epoch 2/5\n",
            "2500/2500 [==============================] - 6s 2ms/step - loss: 1.0274 - accuracy: 0.6535 - val_loss: 0.9349 - val_accuracy: 0.6951\n",
            "Epoch 3/5\n",
            "2500/2500 [==============================] - 6s 2ms/step - loss: 0.8798 - accuracy: 0.7136 - val_loss: 0.8449 - val_accuracy: 0.7369\n",
            "Epoch 4/5\n",
            "2500/2500 [==============================] - 6s 2ms/step - loss: 0.7664 - accuracy: 0.7722 - val_loss: 0.7630 - val_accuracy: 0.7729\n",
            "Epoch 5/5\n",
            "2500/2500 [==============================] - 6s 2ms/step - loss: 0.6958 - accuracy: 0.7964 - val_loss: 0.6850 - val_accuracy: 0.8013\n",
            "Epoch 1/5\n",
            "2500/2500 [==============================] - 6s 2ms/step - loss: 1.5097 - accuracy: 0.6039 - val_loss: 0.8611 - val_accuracy: 0.7438\n",
            "Epoch 2/5\n",
            "2500/2500 [==============================] - 6s 2ms/step - loss: 0.8083 - accuracy: 0.7581 - val_loss: 0.7525 - val_accuracy: 0.7810\n",
            "Epoch 3/5\n",
            "2500/2500 [==============================] - 6s 2ms/step - loss: 0.7212 - accuracy: 0.7849 - val_loss: 0.7265 - val_accuracy: 0.7836\n",
            "Epoch 4/5\n",
            "2500/2500 [==============================] - 6s 2ms/step - loss: 0.6683 - accuracy: 0.7991 - val_loss: 0.6632 - val_accuracy: 0.8068\n",
            "Epoch 5/5\n",
            "2500/2500 [==============================] - 6s 2ms/step - loss: 0.6275 - accuracy: 0.8108 - val_loss: 0.6297 - val_accuracy: 0.8148\n",
            "Epoch 1/5\n",
            "2500/2500 [==============================] - 6s 2ms/step - loss: 1.6616 - accuracy: 0.4376 - val_loss: 1.2098 - val_accuracy: 0.5548\n",
            "Epoch 2/5\n",
            "2500/2500 [==============================] - 6s 2ms/step - loss: 1.0401 - accuracy: 0.6376 - val_loss: 0.9034 - val_accuracy: 0.7048\n",
            "Epoch 3/5\n",
            "2500/2500 [==============================] - 6s 2ms/step - loss: 0.8365 - accuracy: 0.7315 - val_loss: 0.7920 - val_accuracy: 0.7407\n",
            "Epoch 4/5\n",
            "2500/2500 [==============================] - 6s 2ms/step - loss: 0.7521 - accuracy: 0.7536 - val_loss: 0.7412 - val_accuracy: 0.7649\n",
            "Epoch 5/5\n",
            "2500/2500 [==============================] - 6s 2ms/step - loss: 0.7024 - accuracy: 0.7671 - val_loss: 0.7111 - val_accuracy: 0.7796\n",
            "Epoch 1/5\n",
            "2500/2500 [==============================] - 6s 2ms/step - loss: 1.6596 - accuracy: 0.4655 - val_loss: 1.1828 - val_accuracy: 0.6072\n",
            "Epoch 2/5\n",
            "2500/2500 [==============================] - 6s 2ms/step - loss: 1.0754 - accuracy: 0.6253 - val_loss: 0.9606 - val_accuracy: 0.6820\n",
            "Epoch 3/5\n",
            "2500/2500 [==============================] - 6s 2ms/step - loss: 0.8792 - accuracy: 0.7287 - val_loss: 0.8229 - val_accuracy: 0.7575\n",
            "Epoch 4/5\n",
            "2500/2500 [==============================] - 6s 3ms/step - loss: 0.7535 - accuracy: 0.7790 - val_loss: 0.7432 - val_accuracy: 0.7845\n",
            "Epoch 5/5\n",
            "2500/2500 [==============================] - 6s 3ms/step - loss: 0.6971 - accuracy: 0.7972 - val_loss: 0.7158 - val_accuracy: 0.7996\n"
          ],
          "name": "stdout"
        },
        {
          "output_type": "display_data",
          "data": {
            "text/html": [
              "<span style=\"color:#4527A0\"><h1 style=\"font-size:18px\">Trial complete</h1></span>"
            ],
            "text/plain": [
              "<IPython.core.display.HTML object>"
            ]
          },
          "metadata": {
            "tags": []
          }
        },
        {
          "output_type": "display_data",
          "data": {
            "text/html": [
              "<span style=\"color:#4527A0\"><h1 style=\"font-size:18px\">Trial summary</h1></span>"
            ],
            "text/plain": [
              "<IPython.core.display.HTML object>"
            ]
          },
          "metadata": {
            "tags": []
          }
        },
        {
          "output_type": "display_data",
          "data": {
            "text/html": [
              "<span style=\"color:cyan\"> |-Trial ID: 3f4f8edc679e796be90eb61b34ed5bd4</span>"
            ],
            "text/plain": [
              "<IPython.core.display.HTML object>"
            ]
          },
          "metadata": {
            "tags": []
          }
        },
        {
          "output_type": "display_data",
          "data": {
            "text/html": [
              "<span style=\"color:cyan\"> |-Score: 0.799210000038147</span>"
            ],
            "text/plain": [
              "<IPython.core.display.HTML object>"
            ]
          },
          "metadata": {
            "tags": []
          }
        },
        {
          "output_type": "display_data",
          "data": {
            "text/html": [
              "<span style=\"color:cyan\"> |-Best step: 0</span>"
            ],
            "text/plain": [
              "<IPython.core.display.HTML object>"
            ]
          },
          "metadata": {
            "tags": []
          }
        },
        {
          "output_type": "display_data",
          "data": {
            "text/html": [
              "<span style=\"color:#7E57C2\"><h2 style=\"font-size:16px\">Hyperparameters:</h2></span>"
            ],
            "text/plain": [
              "<IPython.core.display.HTML object>"
            ]
          },
          "metadata": {
            "tags": []
          }
        },
        {
          "output_type": "display_data",
          "data": {
            "text/html": [
              "<span style=\"color:cyan\"> |-activationfn: relu</span>"
            ],
            "text/plain": [
              "<IPython.core.display.HTML object>"
            ]
          },
          "metadata": {
            "tags": []
          }
        },
        {
          "output_type": "display_data",
          "data": {
            "text/html": [
              "<span style=\"color:blue\"> |-lrate: 0.001</span>"
            ],
            "text/plain": [
              "<IPython.core.display.HTML object>"
            ]
          },
          "metadata": {
            "tags": []
          }
        },
        {
          "output_type": "display_data",
          "data": {
            "text/html": [
              "<span style=\"color:cyan\"> |-optimizer: adam</span>"
            ],
            "text/plain": [
              "<IPython.core.display.HTML object>"
            ]
          },
          "metadata": {
            "tags": []
          }
        },
        {
          "output_type": "display_data",
          "data": {
            "text/html": [
              "<span style=\"color:blue\"> |-units_1: 64</span>"
            ],
            "text/plain": [
              "<IPython.core.display.HTML object>"
            ]
          },
          "metadata": {
            "tags": []
          }
        },
        {
          "output_type": "display_data",
          "data": {
            "text/html": [
              "<span style=\"color:cyan\"> |-units_2: 24</span>"
            ],
            "text/plain": [
              "<IPython.core.display.HTML object>"
            ]
          },
          "metadata": {
            "tags": []
          }
        },
        {
          "output_type": "display_data",
          "data": {
            "text/html": [
              "<span style=\"color:blue\"> |-units_3: 64</span>"
            ],
            "text/plain": [
              "<IPython.core.display.HTML object>"
            ]
          },
          "metadata": {
            "tags": []
          }
        },
        {
          "output_type": "stream",
          "text": [
            "Epoch 1/5\n",
            "2500/2500 [==============================] - 6s 2ms/step - loss: 2.3096 - accuracy: 0.1433 - val_loss: 2.1461 - val_accuracy: 0.1632\n",
            "Epoch 2/5\n",
            "2500/2500 [==============================] - 6s 2ms/step - loss: 2.1402 - accuracy: 0.1675 - val_loss: 2.1028 - val_accuracy: 0.1792\n",
            "Epoch 3/5\n",
            "2500/2500 [==============================] - 6s 2ms/step - loss: 2.0104 - accuracy: 0.2140 - val_loss: 1.7834 - val_accuracy: 0.2826\n",
            "Epoch 4/5\n",
            "2500/2500 [==============================] - 6s 2ms/step - loss: 1.6029 - accuracy: 0.3979 - val_loss: 1.4132 - val_accuracy: 0.4635\n",
            "Epoch 5/5\n",
            "2500/2500 [==============================] - 6s 2ms/step - loss: 1.2267 - accuracy: 0.5755 - val_loss: 1.0903 - val_accuracy: 0.6726\n",
            "Epoch 1/5\n",
            "2500/2500 [==============================] - 6s 2ms/step - loss: 2.3292 - accuracy: 0.1113 - val_loss: 2.3033 - val_accuracy: 0.0980\n",
            "Epoch 2/5\n",
            "2500/2500 [==============================] - 6s 2ms/step - loss: 2.3029 - accuracy: 0.0996 - val_loss: 2.3027 - val_accuracy: 0.0993\n",
            "Epoch 3/5\n",
            "2500/2500 [==============================] - 6s 2ms/step - loss: 2.3028 - accuracy: 0.0982 - val_loss: 2.3027 - val_accuracy: 0.0994\n",
            "Epoch 4/5\n",
            "2500/2500 [==============================] - 6s 2ms/step - loss: 2.3028 - accuracy: 0.0994 - val_loss: 2.3026 - val_accuracy: 0.1010\n",
            "Epoch 5/5\n",
            "2500/2500 [==============================] - 6s 2ms/step - loss: 2.3027 - accuracy: 0.0988 - val_loss: 2.3027 - val_accuracy: 0.0992\n",
            "Epoch 1/5\n",
            "2500/2500 [==============================] - 6s 2ms/step - loss: 2.1765 - accuracy: 0.2093 - val_loss: 1.7550 - val_accuracy: 0.3004\n",
            "Epoch 2/5\n",
            "2500/2500 [==============================] - 6s 2ms/step - loss: 1.5495 - accuracy: 0.4092 - val_loss: 1.4181 - val_accuracy: 0.4861\n",
            "Epoch 3/5\n",
            "2500/2500 [==============================] - 6s 2ms/step - loss: 1.2687 - accuracy: 0.5324 - val_loss: 1.0833 - val_accuracy: 0.6488\n",
            "Epoch 4/5\n",
            "2500/2500 [==============================] - 6s 2ms/step - loss: 0.9957 - accuracy: 0.6625 - val_loss: 0.9529 - val_accuracy: 0.6763\n",
            "Epoch 5/5\n",
            "2500/2500 [==============================] - 6s 2ms/step - loss: 0.9062 - accuracy: 0.6853 - val_loss: 0.9099 - val_accuracy: 0.6925\n",
            "Epoch 1/5\n",
            "2500/2500 [==============================] - 6s 2ms/step - loss: 1.9999 - accuracy: 0.2865 - val_loss: 1.5601 - val_accuracy: 0.4341\n",
            "Epoch 2/5\n",
            "2500/2500 [==============================] - 6s 2ms/step - loss: 1.3357 - accuracy: 0.5069 - val_loss: 1.1656 - val_accuracy: 0.5896\n",
            "Epoch 3/5\n",
            "2500/2500 [==============================] - 6s 2ms/step - loss: 1.0634 - accuracy: 0.6607 - val_loss: 1.0137 - val_accuracy: 0.7101\n",
            "Epoch 4/5\n",
            "2500/2500 [==============================] - 6s 2ms/step - loss: 0.9202 - accuracy: 0.7329 - val_loss: 0.9216 - val_accuracy: 0.7398\n",
            "Epoch 5/5\n",
            "2500/2500 [==============================] - 6s 2ms/step - loss: 0.8300 - accuracy: 0.7537 - val_loss: 0.8748 - val_accuracy: 0.7649\n",
            "Epoch 1/5\n",
            "2500/2500 [==============================] - 6s 2ms/step - loss: 1.8554 - accuracy: 0.3920 - val_loss: 1.3022 - val_accuracy: 0.5774\n",
            "Epoch 2/5\n",
            "2500/2500 [==============================] - 6s 2ms/step - loss: 1.1462 - accuracy: 0.6266 - val_loss: 1.0438 - val_accuracy: 0.6680\n",
            "Epoch 3/5\n",
            "2500/2500 [==============================] - 6s 2ms/step - loss: 0.9315 - accuracy: 0.7088 - val_loss: 0.8720 - val_accuracy: 0.7375\n",
            "Epoch 4/5\n",
            "2500/2500 [==============================] - 6s 2ms/step - loss: 0.7846 - accuracy: 0.7567 - val_loss: 0.7316 - val_accuracy: 0.7861\n",
            "Epoch 5/5\n",
            "2500/2500 [==============================] - 6s 2ms/step - loss: 0.6666 - accuracy: 0.7984 - val_loss: 0.6978 - val_accuracy: 0.7941\n"
          ],
          "name": "stdout"
        },
        {
          "output_type": "display_data",
          "data": {
            "text/html": [
              "<span style=\"color:#4527A0\"><h1 style=\"font-size:18px\">Trial complete</h1></span>"
            ],
            "text/plain": [
              "<IPython.core.display.HTML object>"
            ]
          },
          "metadata": {
            "tags": []
          }
        },
        {
          "output_type": "display_data",
          "data": {
            "text/html": [
              "<span style=\"color:#4527A0\"><h1 style=\"font-size:18px\">Trial summary</h1></span>"
            ],
            "text/plain": [
              "<IPython.core.display.HTML object>"
            ]
          },
          "metadata": {
            "tags": []
          }
        },
        {
          "output_type": "display_data",
          "data": {
            "text/html": [
              "<span style=\"color:cyan\"> |-Trial ID: f5e2d7215d865ac6c59878a210598166</span>"
            ],
            "text/plain": [
              "<IPython.core.display.HTML object>"
            ]
          },
          "metadata": {
            "tags": []
          }
        },
        {
          "output_type": "display_data",
          "data": {
            "text/html": [
              "<span style=\"color:cyan\"> |-Score: 0.6050000071525574</span>"
            ],
            "text/plain": [
              "<IPython.core.display.HTML object>"
            ]
          },
          "metadata": {
            "tags": []
          }
        },
        {
          "output_type": "display_data",
          "data": {
            "text/html": [
              "<span style=\"color:cyan\"> |-Best step: 0</span>"
            ],
            "text/plain": [
              "<IPython.core.display.HTML object>"
            ]
          },
          "metadata": {
            "tags": []
          }
        },
        {
          "output_type": "display_data",
          "data": {
            "text/html": [
              "<span style=\"color:#7E57C2\"><h2 style=\"font-size:16px\">Hyperparameters:</h2></span>"
            ],
            "text/plain": [
              "<IPython.core.display.HTML object>"
            ]
          },
          "metadata": {
            "tags": []
          }
        },
        {
          "output_type": "display_data",
          "data": {
            "text/html": [
              "<span style=\"color:cyan\"> |-activationfn: relu</span>"
            ],
            "text/plain": [
              "<IPython.core.display.HTML object>"
            ]
          },
          "metadata": {
            "tags": []
          }
        },
        {
          "output_type": "display_data",
          "data": {
            "text/html": [
              "<span style=\"color:blue\"> |-lrate: 0.001</span>"
            ],
            "text/plain": [
              "<IPython.core.display.HTML object>"
            ]
          },
          "metadata": {
            "tags": []
          }
        },
        {
          "output_type": "display_data",
          "data": {
            "text/html": [
              "<span style=\"color:cyan\"> |-optimizer: adam</span>"
            ],
            "text/plain": [
              "<IPython.core.display.HTML object>"
            ]
          },
          "metadata": {
            "tags": []
          }
        },
        {
          "output_type": "display_data",
          "data": {
            "text/html": [
              "<span style=\"color:blue\"> |-units_1: 64</span>"
            ],
            "text/plain": [
              "<IPython.core.display.HTML object>"
            ]
          },
          "metadata": {
            "tags": []
          }
        },
        {
          "output_type": "display_data",
          "data": {
            "text/html": [
              "<span style=\"color:cyan\"> |-units_2: 24</span>"
            ],
            "text/plain": [
              "<IPython.core.display.HTML object>"
            ]
          },
          "metadata": {
            "tags": []
          }
        },
        {
          "output_type": "display_data",
          "data": {
            "text/html": [
              "<span style=\"color:blue\"> |-units_3: 8</span>"
            ],
            "text/plain": [
              "<IPython.core.display.HTML object>"
            ]
          },
          "metadata": {
            "tags": []
          }
        },
        {
          "output_type": "stream",
          "text": [
            "Epoch 1/5\n",
            "2500/2500 [==============================] - 10s 4ms/step - loss: 1.1519 - accuracy: 0.6322 - val_loss: 0.8953 - val_accuracy: 0.7203\n",
            "Epoch 2/5\n",
            "2500/2500 [==============================] - 9s 4ms/step - loss: 0.8764 - accuracy: 0.7228 - val_loss: 0.8463 - val_accuracy: 0.7331\n",
            "Epoch 3/5\n",
            "2500/2500 [==============================] - 9s 4ms/step - loss: 0.8250 - accuracy: 0.7398 - val_loss: 0.7868 - val_accuracy: 0.7562\n",
            "Epoch 4/5\n",
            "2500/2500 [==============================] - 9s 4ms/step - loss: 0.7898 - accuracy: 0.7538 - val_loss: 0.7684 - val_accuracy: 0.7609\n",
            "Epoch 5/5\n",
            "2500/2500 [==============================] - 9s 4ms/step - loss: 0.7630 - accuracy: 0.7635 - val_loss: 0.7592 - val_accuracy: 0.7654\n",
            "Epoch 1/5\n",
            "2500/2500 [==============================] - 9s 4ms/step - loss: 1.1548 - accuracy: 0.6383 - val_loss: 0.8980 - val_accuracy: 0.7133\n",
            "Epoch 2/5\n",
            "2500/2500 [==============================] - 9s 4ms/step - loss: 0.8422 - accuracy: 0.7376 - val_loss: 0.7737 - val_accuracy: 0.7603\n",
            "Epoch 3/5\n",
            "2500/2500 [==============================] - 10s 4ms/step - loss: 0.7801 - accuracy: 0.7570 - val_loss: 0.7614 - val_accuracy: 0.7655\n",
            "Epoch 4/5\n",
            "2500/2500 [==============================] - 9s 4ms/step - loss: 0.7464 - accuracy: 0.7695 - val_loss: 0.7341 - val_accuracy: 0.7729\n",
            "Epoch 5/5\n",
            "2500/2500 [==============================] - 9s 4ms/step - loss: 0.7313 - accuracy: 0.7732 - val_loss: 0.7338 - val_accuracy: 0.7753\n",
            "Epoch 1/5\n",
            "2500/2500 [==============================] - 10s 4ms/step - loss: 1.1453 - accuracy: 0.6425 - val_loss: 0.8533 - val_accuracy: 0.7285\n",
            "Epoch 2/5\n",
            "2500/2500 [==============================] - 9s 4ms/step - loss: 0.8635 - accuracy: 0.7270 - val_loss: 0.8283 - val_accuracy: 0.7375\n",
            "Epoch 3/5\n",
            "2500/2500 [==============================] - 9s 4ms/step - loss: 0.8190 - accuracy: 0.7444 - val_loss: 0.7959 - val_accuracy: 0.7516\n",
            "Epoch 4/5\n",
            "2500/2500 [==============================] - 9s 4ms/step - loss: 0.7839 - accuracy: 0.7560 - val_loss: 0.7763 - val_accuracy: 0.7563\n",
            "Epoch 5/5\n",
            "2500/2500 [==============================] - 9s 4ms/step - loss: 0.7618 - accuracy: 0.7635 - val_loss: 0.7389 - val_accuracy: 0.7740\n",
            "Epoch 1/5\n",
            "2500/2500 [==============================] - 9s 4ms/step - loss: 1.1668 - accuracy: 0.6343 - val_loss: 0.8801 - val_accuracy: 0.7238\n",
            "Epoch 2/5\n",
            "2500/2500 [==============================] - 9s 3ms/step - loss: 0.8584 - accuracy: 0.7313 - val_loss: 0.8250 - val_accuracy: 0.7435\n",
            "Epoch 3/5\n",
            "2500/2500 [==============================] - 9s 4ms/step - loss: 0.7986 - accuracy: 0.7520 - val_loss: 0.7909 - val_accuracy: 0.7536\n",
            "Epoch 4/5\n",
            "2500/2500 [==============================] - 9s 4ms/step - loss: 0.7633 - accuracy: 0.7650 - val_loss: 0.7492 - val_accuracy: 0.7707\n",
            "Epoch 5/5\n",
            "2500/2500 [==============================] - 8s 3ms/step - loss: 0.7461 - accuracy: 0.7717 - val_loss: 0.7296 - val_accuracy: 0.7774\n",
            "Epoch 1/5\n",
            "2500/2500 [==============================] - 9s 4ms/step - loss: 1.1479 - accuracy: 0.6391 - val_loss: 0.8899 - val_accuracy: 0.7164\n",
            "Epoch 2/5\n",
            "2500/2500 [==============================] - 9s 4ms/step - loss: 0.8574 - accuracy: 0.7298 - val_loss: 0.8192 - val_accuracy: 0.7430\n",
            "Epoch 3/5\n",
            "2500/2500 [==============================] - 9s 3ms/step - loss: 0.8026 - accuracy: 0.7514 - val_loss: 0.8153 - val_accuracy: 0.7493\n",
            "Epoch 4/5\n",
            "2500/2500 [==============================] - 9s 4ms/step - loss: 0.7688 - accuracy: 0.7631 - val_loss: 0.7674 - val_accuracy: 0.7663\n",
            "Epoch 5/5\n",
            "2500/2500 [==============================] - 9s 4ms/step - loss: 0.7432 - accuracy: 0.7719 - val_loss: 0.7406 - val_accuracy: 0.7717\n"
          ],
          "name": "stdout"
        },
        {
          "output_type": "display_data",
          "data": {
            "text/html": [
              "<span style=\"color:#4527A0\"><h1 style=\"font-size:18px\">Trial complete</h1></span>"
            ],
            "text/plain": [
              "<IPython.core.display.HTML object>"
            ]
          },
          "metadata": {
            "tags": []
          }
        },
        {
          "output_type": "display_data",
          "data": {
            "text/html": [
              "<span style=\"color:#4527A0\"><h1 style=\"font-size:18px\">Trial summary</h1></span>"
            ],
            "text/plain": [
              "<IPython.core.display.HTML object>"
            ]
          },
          "metadata": {
            "tags": []
          }
        },
        {
          "output_type": "display_data",
          "data": {
            "text/html": [
              "<span style=\"color:cyan\"> |-Trial ID: 8ce61af7c3c1482068124b7c1cf26383</span>"
            ],
            "text/plain": [
              "<IPython.core.display.HTML object>"
            ]
          },
          "metadata": {
            "tags": []
          }
        },
        {
          "output_type": "display_data",
          "data": {
            "text/html": [
              "<span style=\"color:cyan\"> |-Score: 0.7727699875831604</span>"
            ],
            "text/plain": [
              "<IPython.core.display.HTML object>"
            ]
          },
          "metadata": {
            "tags": []
          }
        },
        {
          "output_type": "display_data",
          "data": {
            "text/html": [
              "<span style=\"color:cyan\"> |-Best step: 0</span>"
            ],
            "text/plain": [
              "<IPython.core.display.HTML object>"
            ]
          },
          "metadata": {
            "tags": []
          }
        },
        {
          "output_type": "display_data",
          "data": {
            "text/html": [
              "<span style=\"color:#7E57C2\"><h2 style=\"font-size:16px\">Hyperparameters:</h2></span>"
            ],
            "text/plain": [
              "<IPython.core.display.HTML object>"
            ]
          },
          "metadata": {
            "tags": []
          }
        },
        {
          "output_type": "display_data",
          "data": {
            "text/html": [
              "<span style=\"color:cyan\"> |-activationfn: sigmoid</span>"
            ],
            "text/plain": [
              "<IPython.core.display.HTML object>"
            ]
          },
          "metadata": {
            "tags": []
          }
        },
        {
          "output_type": "display_data",
          "data": {
            "text/html": [
              "<span style=\"color:blue\"> |-lrate: 0.001</span>"
            ],
            "text/plain": [
              "<IPython.core.display.HTML object>"
            ]
          },
          "metadata": {
            "tags": []
          }
        },
        {
          "output_type": "display_data",
          "data": {
            "text/html": [
              "<span style=\"color:cyan\"> |-optimizer: rmsprop</span>"
            ],
            "text/plain": [
              "<IPython.core.display.HTML object>"
            ]
          },
          "metadata": {
            "tags": []
          }
        },
        {
          "output_type": "display_data",
          "data": {
            "text/html": [
              "<span style=\"color:blue\"> |-units_1: 128</span>"
            ],
            "text/plain": [
              "<IPython.core.display.HTML object>"
            ]
          },
          "metadata": {
            "tags": []
          }
        },
        {
          "output_type": "display_data",
          "data": {
            "text/html": [
              "<span style=\"color:cyan\"> |-units_2: 56</span>"
            ],
            "text/plain": [
              "<IPython.core.display.HTML object>"
            ]
          },
          "metadata": {
            "tags": []
          }
        },
        {
          "output_type": "display_data",
          "data": {
            "text/html": [
              "<span style=\"color:blue\"> |-units_3: 32</span>"
            ],
            "text/plain": [
              "<IPython.core.display.HTML object>"
            ]
          },
          "metadata": {
            "tags": []
          }
        },
        {
          "output_type": "stream",
          "text": [
            "Epoch 1/5\n",
            "2500/2500 [==============================] - 7s 3ms/step - loss: 2.2046 - accuracy: 0.6797 - val_loss: 0.8161 - val_accuracy: 0.7806\n",
            "Epoch 2/5\n",
            "2500/2500 [==============================] - 7s 3ms/step - loss: 0.7742 - accuracy: 0.7833 - val_loss: 0.7344 - val_accuracy: 0.8008\n",
            "Epoch 3/5\n",
            "2500/2500 [==============================] - 7s 3ms/step - loss: 0.6719 - accuracy: 0.8067 - val_loss: 0.7274 - val_accuracy: 0.7968\n",
            "Epoch 4/5\n",
            "2500/2500 [==============================] - 7s 3ms/step - loss: 0.6121 - accuracy: 0.8238 - val_loss: 0.6075 - val_accuracy: 0.8274\n",
            "Epoch 5/5\n",
            "2500/2500 [==============================] - 7s 3ms/step - loss: 0.5745 - accuracy: 0.8347 - val_loss: 0.6228 - val_accuracy: 0.8322\n",
            "Epoch 1/5\n",
            "2500/2500 [==============================] - 7s 3ms/step - loss: 2.1967 - accuracy: 0.6972 - val_loss: 0.8756 - val_accuracy: 0.7602\n",
            "Epoch 2/5\n",
            "2500/2500 [==============================] - 7s 3ms/step - loss: 0.7606 - accuracy: 0.7867 - val_loss: 0.7021 - val_accuracy: 0.8000\n",
            "Epoch 3/5\n",
            "2500/2500 [==============================] - 7s 3ms/step - loss: 0.6666 - accuracy: 0.8100 - val_loss: 0.6791 - val_accuracy: 0.8159\n",
            "Epoch 4/5\n",
            "2500/2500 [==============================] - 7s 3ms/step - loss: 0.6167 - accuracy: 0.8238 - val_loss: 0.6475 - val_accuracy: 0.8299\n",
            "Epoch 5/5\n",
            "2500/2500 [==============================] - 7s 3ms/step - loss: 0.5771 - accuracy: 0.8368 - val_loss: 0.5861 - val_accuracy: 0.8342\n",
            "Epoch 1/5\n",
            "2500/2500 [==============================] - 7s 3ms/step - loss: 2.1353 - accuracy: 0.6974 - val_loss: 0.7743 - val_accuracy: 0.7714\n",
            "Epoch 2/5\n",
            "2500/2500 [==============================] - 7s 3ms/step - loss: 0.7475 - accuracy: 0.7856 - val_loss: 0.6737 - val_accuracy: 0.8108\n",
            "Epoch 3/5\n",
            "2500/2500 [==============================] - 7s 3ms/step - loss: 0.6529 - accuracy: 0.8108 - val_loss: 0.6483 - val_accuracy: 0.8201\n",
            "Epoch 4/5\n",
            "2500/2500 [==============================] - 8s 3ms/step - loss: 0.6009 - accuracy: 0.8268 - val_loss: 0.6579 - val_accuracy: 0.8112\n",
            "Epoch 5/5\n",
            "2500/2500 [==============================] - 8s 3ms/step - loss: 0.5685 - accuracy: 0.8377 - val_loss: 0.6369 - val_accuracy: 0.8309\n",
            "Epoch 1/5\n",
            "2500/2500 [==============================] - 8s 3ms/step - loss: 2.3302 - accuracy: 0.6727 - val_loss: 0.8095 - val_accuracy: 0.7783\n",
            "Epoch 2/5\n",
            "2500/2500 [==============================] - 8s 3ms/step - loss: 0.7558 - accuracy: 0.7843 - val_loss: 0.6950 - val_accuracy: 0.8063\n",
            "Epoch 3/5\n",
            "2500/2500 [==============================] - 8s 3ms/step - loss: 0.6512 - accuracy: 0.8106 - val_loss: 0.6721 - val_accuracy: 0.8217\n",
            "Epoch 4/5\n",
            "2500/2500 [==============================] - 8s 3ms/step - loss: 0.5957 - accuracy: 0.8291 - val_loss: 0.5916 - val_accuracy: 0.8343\n",
            "Epoch 5/5\n",
            "2500/2500 [==============================] - 8s 3ms/step - loss: 0.5598 - accuracy: 0.8384 - val_loss: 0.6631 - val_accuracy: 0.8205\n",
            "Epoch 1/5\n",
            "2500/2500 [==============================] - 8s 3ms/step - loss: 2.1877 - accuracy: 0.6859 - val_loss: 0.8712 - val_accuracy: 0.7588\n",
            "Epoch 2/5\n",
            "2500/2500 [==============================] - 7s 3ms/step - loss: 0.7463 - accuracy: 0.7879 - val_loss: 0.7278 - val_accuracy: 0.7972\n",
            "Epoch 3/5\n",
            "2500/2500 [==============================] - 8s 3ms/step - loss: 0.6415 - accuracy: 0.8133 - val_loss: 0.6283 - val_accuracy: 0.8191\n",
            "Epoch 4/5\n",
            "2500/2500 [==============================] - 8s 3ms/step - loss: 0.5907 - accuracy: 0.8294 - val_loss: 0.6054 - val_accuracy: 0.8315\n",
            "Epoch 5/5\n",
            "2500/2500 [==============================] - 8s 3ms/step - loss: 0.5614 - accuracy: 0.8388 - val_loss: 0.6123 - val_accuracy: 0.8324\n"
          ],
          "name": "stdout"
        },
        {
          "output_type": "display_data",
          "data": {
            "text/html": [
              "<span style=\"color:#4527A0\"><h1 style=\"font-size:18px\">Trial complete</h1></span>"
            ],
            "text/plain": [
              "<IPython.core.display.HTML object>"
            ]
          },
          "metadata": {
            "tags": []
          }
        },
        {
          "output_type": "display_data",
          "data": {
            "text/html": [
              "<span style=\"color:#4527A0\"><h1 style=\"font-size:18px\">Trial summary</h1></span>"
            ],
            "text/plain": [
              "<IPython.core.display.HTML object>"
            ]
          },
          "metadata": {
            "tags": []
          }
        },
        {
          "output_type": "display_data",
          "data": {
            "text/html": [
              "<span style=\"color:cyan\"> |-Trial ID: 9833cba8ec78de9d0ba67a75fffef60f</span>"
            ],
            "text/plain": [
              "<IPython.core.display.HTML object>"
            ]
          },
          "metadata": {
            "tags": []
          }
        },
        {
          "output_type": "display_data",
          "data": {
            "text/html": [
              "<span style=\"color:cyan\"> |-Score: 0.8328000068664551</span>"
            ],
            "text/plain": [
              "<IPython.core.display.HTML object>"
            ]
          },
          "metadata": {
            "tags": []
          }
        },
        {
          "output_type": "display_data",
          "data": {
            "text/html": [
              "<span style=\"color:cyan\"> |-Best step: 0</span>"
            ],
            "text/plain": [
              "<IPython.core.display.HTML object>"
            ]
          },
          "metadata": {
            "tags": []
          }
        },
        {
          "output_type": "display_data",
          "data": {
            "text/html": [
              "<span style=\"color:#7E57C2\"><h2 style=\"font-size:16px\">Hyperparameters:</h2></span>"
            ],
            "text/plain": [
              "<IPython.core.display.HTML object>"
            ]
          },
          "metadata": {
            "tags": []
          }
        },
        {
          "output_type": "display_data",
          "data": {
            "text/html": [
              "<span style=\"color:cyan\"> |-activationfn: linear</span>"
            ],
            "text/plain": [
              "<IPython.core.display.HTML object>"
            ]
          },
          "metadata": {
            "tags": []
          }
        },
        {
          "output_type": "display_data",
          "data": {
            "text/html": [
              "<span style=\"color:blue\"> |-lrate: 0.001</span>"
            ],
            "text/plain": [
              "<IPython.core.display.HTML object>"
            ]
          },
          "metadata": {
            "tags": []
          }
        },
        {
          "output_type": "display_data",
          "data": {
            "text/html": [
              "<span style=\"color:cyan\"> |-optimizer: rmsprop</span>"
            ],
            "text/plain": [
              "<IPython.core.display.HTML object>"
            ]
          },
          "metadata": {
            "tags": []
          }
        },
        {
          "output_type": "display_data",
          "data": {
            "text/html": [
              "<span style=\"color:blue\"> |-units_1: 96</span>"
            ],
            "text/plain": [
              "<IPython.core.display.HTML object>"
            ]
          },
          "metadata": {
            "tags": []
          }
        },
        {
          "output_type": "display_data",
          "data": {
            "text/html": [
              "<span style=\"color:cyan\"> |-units_2: 16</span>"
            ],
            "text/plain": [
              "<IPython.core.display.HTML object>"
            ]
          },
          "metadata": {
            "tags": []
          }
        },
        {
          "output_type": "display_data",
          "data": {
            "text/html": [
              "<span style=\"color:blue\"> |-units_3: 16</span>"
            ],
            "text/plain": [
              "<IPython.core.display.HTML object>"
            ]
          },
          "metadata": {
            "tags": []
          }
        },
        {
          "output_type": "stream",
          "text": [
            "Epoch 1/5\n",
            "2500/2500 [==============================] - 7s 3ms/step - loss: 2.4475 - accuracy: 0.6247 - val_loss: 0.9885 - val_accuracy: 0.7337\n",
            "Epoch 2/5\n",
            "2500/2500 [==============================] - 7s 3ms/step - loss: 0.9444 - accuracy: 0.7317 - val_loss: 0.9459 - val_accuracy: 0.7552\n",
            "Epoch 3/5\n",
            "2500/2500 [==============================] - 6s 2ms/step - loss: 0.8307 - accuracy: 0.7622 - val_loss: 0.7813 - val_accuracy: 0.7679\n",
            "Epoch 4/5\n",
            "2500/2500 [==============================] - 6s 3ms/step - loss: 0.7379 - accuracy: 0.7851 - val_loss: 0.7544 - val_accuracy: 0.7890\n",
            "Epoch 5/5\n",
            "2500/2500 [==============================] - 7s 3ms/step - loss: 0.6831 - accuracy: 0.7997 - val_loss: 0.7719 - val_accuracy: 0.7793\n",
            "Epoch 1/5\n",
            "2500/2500 [==============================] - 7s 3ms/step - loss: 2.2771 - accuracy: 0.5911 - val_loss: 1.1542 - val_accuracy: 0.6322\n",
            "Epoch 2/5\n",
            "2500/2500 [==============================] - 7s 3ms/step - loss: 0.9526 - accuracy: 0.7114 - val_loss: 0.8234 - val_accuracy: 0.7633\n",
            "Epoch 3/5\n",
            "2500/2500 [==============================] - 7s 3ms/step - loss: 0.7974 - accuracy: 0.7663 - val_loss: 0.7584 - val_accuracy: 0.7807\n",
            "Epoch 4/5\n",
            "2500/2500 [==============================] - 8s 3ms/step - loss: 0.7307 - accuracy: 0.7849 - val_loss: 0.7347 - val_accuracy: 0.7893\n",
            "Epoch 5/5\n",
            "2500/2500 [==============================] - 7s 3ms/step - loss: 0.6900 - accuracy: 0.7945 - val_loss: 0.7285 - val_accuracy: 0.7932\n",
            "Epoch 1/5\n",
            "2500/2500 [==============================] - 7s 3ms/step - loss: 2.1373 - accuracy: 0.6444 - val_loss: 0.9767 - val_accuracy: 0.7305\n",
            "Epoch 2/5\n",
            "2500/2500 [==============================] - 8s 3ms/step - loss: 0.9185 - accuracy: 0.7354 - val_loss: 0.9145 - val_accuracy: 0.7685\n",
            "Epoch 3/5\n",
            "2500/2500 [==============================] - 8s 3ms/step - loss: 0.7999 - accuracy: 0.7679 - val_loss: 0.7947 - val_accuracy: 0.7810\n",
            "Epoch 4/5\n",
            "2500/2500 [==============================] - 8s 3ms/step - loss: 0.7228 - accuracy: 0.7874 - val_loss: 0.7246 - val_accuracy: 0.7962\n",
            "Epoch 5/5\n",
            "2500/2500 [==============================] - 7s 3ms/step - loss: 0.6845 - accuracy: 0.7975 - val_loss: 0.7036 - val_accuracy: 0.7992\n",
            "Epoch 1/5\n",
            "2500/2500 [==============================] - 8s 3ms/step - loss: 2.3111 - accuracy: 0.6179 - val_loss: 1.0220 - val_accuracy: 0.7061\n",
            "Epoch 2/5\n",
            "2500/2500 [==============================] - 7s 3ms/step - loss: 0.9123 - accuracy: 0.7381 - val_loss: 0.8493 - val_accuracy: 0.7656\n",
            "Epoch 3/5\n",
            "2500/2500 [==============================] - 8s 3ms/step - loss: 0.7976 - accuracy: 0.7670 - val_loss: 0.7640 - val_accuracy: 0.7824\n",
            "Epoch 4/5\n",
            "2500/2500 [==============================] - 7s 3ms/step - loss: 0.7158 - accuracy: 0.7898 - val_loss: 0.7228 - val_accuracy: 0.7922\n",
            "Epoch 5/5\n",
            "2500/2500 [==============================] - 7s 3ms/step - loss: 0.6729 - accuracy: 0.8020 - val_loss: 0.7069 - val_accuracy: 0.7930\n",
            "Epoch 1/5\n",
            "2500/2500 [==============================] - 7s 3ms/step - loss: 2.2668 - accuracy: 0.6289 - val_loss: 0.9898 - val_accuracy: 0.7192\n",
            "Epoch 2/5\n",
            "2500/2500 [==============================] - 7s 3ms/step - loss: 0.9032 - accuracy: 0.7416 - val_loss: 0.8396 - val_accuracy: 0.7666\n",
            "Epoch 3/5\n",
            "2500/2500 [==============================] - 7s 3ms/step - loss: 0.7816 - accuracy: 0.7721 - val_loss: 0.7988 - val_accuracy: 0.7746\n",
            "Epoch 4/5\n",
            "2500/2500 [==============================] - 7s 3ms/step - loss: 0.7168 - accuracy: 0.7884 - val_loss: 0.7273 - val_accuracy: 0.7941\n",
            "Epoch 5/5\n",
            "2500/2500 [==============================] - 7s 3ms/step - loss: 0.6862 - accuracy: 0.7981 - val_loss: 0.7093 - val_accuracy: 0.7988\n"
          ],
          "name": "stdout"
        },
        {
          "output_type": "display_data",
          "data": {
            "text/html": [
              "<span style=\"color:#4527A0\"><h1 style=\"font-size:18px\">Trial complete</h1></span>"
            ],
            "text/plain": [
              "<IPython.core.display.HTML object>"
            ]
          },
          "metadata": {
            "tags": []
          }
        },
        {
          "output_type": "display_data",
          "data": {
            "text/html": [
              "<span style=\"color:#4527A0\"><h1 style=\"font-size:18px\">Trial summary</h1></span>"
            ],
            "text/plain": [
              "<IPython.core.display.HTML object>"
            ]
          },
          "metadata": {
            "tags": []
          }
        },
        {
          "output_type": "display_data",
          "data": {
            "text/html": [
              "<span style=\"color:cyan\"> |-Trial ID: a5fd8e3de169440ad90c1b3b815dca52</span>"
            ],
            "text/plain": [
              "<IPython.core.display.HTML object>"
            ]
          },
          "metadata": {
            "tags": []
          }
        },
        {
          "output_type": "display_data",
          "data": {
            "text/html": [
              "<span style=\"color:cyan\"> |-Score: 0.7946499943733215</span>"
            ],
            "text/plain": [
              "<IPython.core.display.HTML object>"
            ]
          },
          "metadata": {
            "tags": []
          }
        },
        {
          "output_type": "display_data",
          "data": {
            "text/html": [
              "<span style=\"color:cyan\"> |-Best step: 0</span>"
            ],
            "text/plain": [
              "<IPython.core.display.HTML object>"
            ]
          },
          "metadata": {
            "tags": []
          }
        },
        {
          "output_type": "display_data",
          "data": {
            "text/html": [
              "<span style=\"color:#7E57C2\"><h2 style=\"font-size:16px\">Hyperparameters:</h2></span>"
            ],
            "text/plain": [
              "<IPython.core.display.HTML object>"
            ]
          },
          "metadata": {
            "tags": []
          }
        },
        {
          "output_type": "display_data",
          "data": {
            "text/html": [
              "<span style=\"color:cyan\"> |-activationfn: linear</span>"
            ],
            "text/plain": [
              "<IPython.core.display.HTML object>"
            ]
          },
          "metadata": {
            "tags": []
          }
        },
        {
          "output_type": "display_data",
          "data": {
            "text/html": [
              "<span style=\"color:blue\"> |-lrate: 0.001</span>"
            ],
            "text/plain": [
              "<IPython.core.display.HTML object>"
            ]
          },
          "metadata": {
            "tags": []
          }
        },
        {
          "output_type": "display_data",
          "data": {
            "text/html": [
              "<span style=\"color:cyan\"> |-optimizer: adam</span>"
            ],
            "text/plain": [
              "<IPython.core.display.HTML object>"
            ]
          },
          "metadata": {
            "tags": []
          }
        },
        {
          "output_type": "display_data",
          "data": {
            "text/html": [
              "<span style=\"color:blue\"> |-units_1: 96</span>"
            ],
            "text/plain": [
              "<IPython.core.display.HTML object>"
            ]
          },
          "metadata": {
            "tags": []
          }
        },
        {
          "output_type": "display_data",
          "data": {
            "text/html": [
              "<span style=\"color:cyan\"> |-units_2: 32</span>"
            ],
            "text/plain": [
              "<IPython.core.display.HTML object>"
            ]
          },
          "metadata": {
            "tags": []
          }
        },
        {
          "output_type": "display_data",
          "data": {
            "text/html": [
              "<span style=\"color:blue\"> |-units_3: 56</span>"
            ],
            "text/plain": [
              "<IPython.core.display.HTML object>"
            ]
          },
          "metadata": {
            "tags": []
          }
        },
        {
          "output_type": "stream",
          "text": [
            "Epoch 1/5\n",
            "2500/2500 [==============================] - 7s 3ms/step - loss: 2.7597 - accuracy: 0.6289 - val_loss: 0.8954 - val_accuracy: 0.7293\n",
            "Epoch 2/5\n",
            "2500/2500 [==============================] - 7s 3ms/step - loss: 0.8585 - accuracy: 0.7477 - val_loss: 0.7950 - val_accuracy: 0.7620\n",
            "Epoch 3/5\n",
            "2500/2500 [==============================] - 7s 3ms/step - loss: 0.7592 - accuracy: 0.7740 - val_loss: 0.7444 - val_accuracy: 0.7841\n",
            "Epoch 4/5\n",
            "2500/2500 [==============================] - 7s 3ms/step - loss: 0.6847 - accuracy: 0.7970 - val_loss: 0.6810 - val_accuracy: 0.8030\n",
            "Epoch 5/5\n",
            "2500/2500 [==============================] - 7s 3ms/step - loss: 0.6331 - accuracy: 0.8115 - val_loss: 0.6946 - val_accuracy: 0.8015\n",
            "Epoch 1/5\n",
            "2500/2500 [==============================] - 7s 3ms/step - loss: 2.5820 - accuracy: 0.6354 - val_loss: 0.9977 - val_accuracy: 0.7272\n",
            "Epoch 2/5\n",
            "2500/2500 [==============================] - 7s 3ms/step - loss: 0.8826 - accuracy: 0.7468 - val_loss: 0.8612 - val_accuracy: 0.7521\n",
            "Epoch 3/5\n",
            "2500/2500 [==============================] - 7s 3ms/step - loss: 0.7943 - accuracy: 0.7696 - val_loss: 0.7987 - val_accuracy: 0.7707\n",
            "Epoch 4/5\n",
            "2500/2500 [==============================] - 7s 3ms/step - loss: 0.7107 - accuracy: 0.7883 - val_loss: 0.7236 - val_accuracy: 0.7965\n",
            "Epoch 5/5\n",
            "2500/2500 [==============================] - 7s 3ms/step - loss: 0.6604 - accuracy: 0.8026 - val_loss: 0.6869 - val_accuracy: 0.7929\n",
            "Epoch 1/5\n",
            "2500/2500 [==============================] - 7s 3ms/step - loss: 2.4500 - accuracy: 0.6570 - val_loss: 0.8784 - val_accuracy: 0.7437\n",
            "Epoch 2/5\n",
            "2500/2500 [==============================] - 7s 3ms/step - loss: 0.8486 - accuracy: 0.7504 - val_loss: 0.8409 - val_accuracy: 0.7703\n",
            "Epoch 3/5\n",
            "2500/2500 [==============================] - 7s 3ms/step - loss: 0.7622 - accuracy: 0.7772 - val_loss: 0.7332 - val_accuracy: 0.7923\n",
            "Epoch 4/5\n",
            "2500/2500 [==============================] - 7s 3ms/step - loss: 0.6890 - accuracy: 0.7970 - val_loss: 0.7137 - val_accuracy: 0.7987\n",
            "Epoch 5/5\n",
            "2500/2500 [==============================] - 7s 3ms/step - loss: 0.6426 - accuracy: 0.8109 - val_loss: 0.6729 - val_accuracy: 0.8117\n",
            "Epoch 1/5\n",
            "2500/2500 [==============================] - 7s 3ms/step - loss: 2.4770 - accuracy: 0.6503 - val_loss: 0.9095 - val_accuracy: 0.7430\n",
            "Epoch 2/5\n",
            "2500/2500 [==============================] - 7s 3ms/step - loss: 0.8376 - accuracy: 0.7579 - val_loss: 0.9358 - val_accuracy: 0.7422\n",
            "Epoch 3/5\n",
            "2500/2500 [==============================] - 7s 3ms/step - loss: 0.7588 - accuracy: 0.7783 - val_loss: 0.7383 - val_accuracy: 0.7922\n",
            "Epoch 4/5\n",
            "2500/2500 [==============================] - 8s 3ms/step - loss: 0.6980 - accuracy: 0.7936 - val_loss: 0.7279 - val_accuracy: 0.7905\n",
            "Epoch 5/5\n",
            "2500/2500 [==============================] - 7s 3ms/step - loss: 0.6527 - accuracy: 0.8038 - val_loss: 0.6754 - val_accuracy: 0.8047\n",
            "Epoch 1/5\n",
            "2500/2500 [==============================] - 7s 3ms/step - loss: 2.1636 - accuracy: 0.6467 - val_loss: 0.9454 - val_accuracy: 0.7183\n",
            "Epoch 2/5\n",
            "2500/2500 [==============================] - 7s 3ms/step - loss: 0.8242 - accuracy: 0.7615 - val_loss: 0.7621 - val_accuracy: 0.7777\n",
            "Epoch 3/5\n",
            "2500/2500 [==============================] - 7s 3ms/step - loss: 0.7367 - accuracy: 0.7832 - val_loss: 0.7242 - val_accuracy: 0.7911\n",
            "Epoch 4/5\n",
            "2500/2500 [==============================] - 7s 3ms/step - loss: 0.6866 - accuracy: 0.7965 - val_loss: 0.6793 - val_accuracy: 0.8009\n",
            "Epoch 5/5\n",
            "2500/2500 [==============================] - 7s 3ms/step - loss: 0.6534 - accuracy: 0.8044 - val_loss: 0.6989 - val_accuracy: 0.7949\n"
          ],
          "name": "stdout"
        },
        {
          "output_type": "display_data",
          "data": {
            "text/html": [
              "<span style=\"color:#4527A0\"><h1 style=\"font-size:18px\">Trial complete</h1></span>"
            ],
            "text/plain": [
              "<IPython.core.display.HTML object>"
            ]
          },
          "metadata": {
            "tags": []
          }
        },
        {
          "output_type": "display_data",
          "data": {
            "text/html": [
              "<span style=\"color:#4527A0\"><h1 style=\"font-size:18px\">Trial summary</h1></span>"
            ],
            "text/plain": [
              "<IPython.core.display.HTML object>"
            ]
          },
          "metadata": {
            "tags": []
          }
        },
        {
          "output_type": "display_data",
          "data": {
            "text/html": [
              "<span style=\"color:cyan\"> |-Trial ID: ae3e3cf2c01c1697ff523c4265a27979</span>"
            ],
            "text/plain": [
              "<IPython.core.display.HTML object>"
            ]
          },
          "metadata": {
            "tags": []
          }
        },
        {
          "output_type": "display_data",
          "data": {
            "text/html": [
              "<span style=\"color:cyan\"> |-Score: 0.8033999919891357</span>"
            ],
            "text/plain": [
              "<IPython.core.display.HTML object>"
            ]
          },
          "metadata": {
            "tags": []
          }
        },
        {
          "output_type": "display_data",
          "data": {
            "text/html": [
              "<span style=\"color:cyan\"> |-Best step: 0</span>"
            ],
            "text/plain": [
              "<IPython.core.display.HTML object>"
            ]
          },
          "metadata": {
            "tags": []
          }
        },
        {
          "output_type": "display_data",
          "data": {
            "text/html": [
              "<span style=\"color:#7E57C2\"><h2 style=\"font-size:16px\">Hyperparameters:</h2></span>"
            ],
            "text/plain": [
              "<IPython.core.display.HTML object>"
            ]
          },
          "metadata": {
            "tags": []
          }
        },
        {
          "output_type": "display_data",
          "data": {
            "text/html": [
              "<span style=\"color:cyan\"> |-activationfn: linear</span>"
            ],
            "text/plain": [
              "<IPython.core.display.HTML object>"
            ]
          },
          "metadata": {
            "tags": []
          }
        },
        {
          "output_type": "display_data",
          "data": {
            "text/html": [
              "<span style=\"color:blue\"> |-lrate: 0.001</span>"
            ],
            "text/plain": [
              "<IPython.core.display.HTML object>"
            ]
          },
          "metadata": {
            "tags": []
          }
        },
        {
          "output_type": "display_data",
          "data": {
            "text/html": [
              "<span style=\"color:cyan\"> |-optimizer: adam</span>"
            ],
            "text/plain": [
              "<IPython.core.display.HTML object>"
            ]
          },
          "metadata": {
            "tags": []
          }
        },
        {
          "output_type": "display_data",
          "data": {
            "text/html": [
              "<span style=\"color:blue\"> |-units_1: 128</span>"
            ],
            "text/plain": [
              "<IPython.core.display.HTML object>"
            ]
          },
          "metadata": {
            "tags": []
          }
        },
        {
          "output_type": "display_data",
          "data": {
            "text/html": [
              "<span style=\"color:cyan\"> |-units_2: 24</span>"
            ],
            "text/plain": [
              "<IPython.core.display.HTML object>"
            ]
          },
          "metadata": {
            "tags": []
          }
        },
        {
          "output_type": "display_data",
          "data": {
            "text/html": [
              "<span style=\"color:blue\"> |-units_3: 32</span>"
            ],
            "text/plain": [
              "<IPython.core.display.HTML object>"
            ]
          },
          "metadata": {
            "tags": []
          }
        },
        {
          "output_type": "stream",
          "text": [
            "Epoch 1/5\n",
            "2500/2500 [==============================] - 5s 2ms/step - loss: 1.7201 - accuracy: 0.5707 - val_loss: 1.0751 - val_accuracy: 0.6899\n",
            "Epoch 2/5\n",
            "2500/2500 [==============================] - 6s 2ms/step - loss: 0.9907 - accuracy: 0.7113 - val_loss: 0.9180 - val_accuracy: 0.7283\n",
            "Epoch 3/5\n",
            "2500/2500 [==============================] - 5s 2ms/step - loss: 0.8488 - accuracy: 0.7551 - val_loss: 0.7769 - val_accuracy: 0.7803\n",
            "Epoch 4/5\n",
            "2500/2500 [==============================] - 5s 2ms/step - loss: 0.7685 - accuracy: 0.7799 - val_loss: 0.7591 - val_accuracy: 0.7888\n",
            "Epoch 5/5\n",
            "2500/2500 [==============================] - 5s 2ms/step - loss: 0.7315 - accuracy: 0.7888 - val_loss: 0.7222 - val_accuracy: 0.8007\n",
            "Epoch 1/5\n",
            "2500/2500 [==============================] - 5s 2ms/step - loss: 1.7187 - accuracy: 0.5508 - val_loss: 1.1856 - val_accuracy: 0.6666\n",
            "Epoch 2/5\n",
            "2500/2500 [==============================] - 5s 2ms/step - loss: 1.0161 - accuracy: 0.7110 - val_loss: 0.9450 - val_accuracy: 0.7439\n",
            "Epoch 3/5\n",
            "2500/2500 [==============================] - 5s 2ms/step - loss: 0.9039 - accuracy: 0.7453 - val_loss: 1.0662 - val_accuracy: 0.7184\n",
            "Epoch 4/5\n",
            "2500/2500 [==============================] - 5s 2ms/step - loss: 0.8295 - accuracy: 0.7658 - val_loss: 0.8491 - val_accuracy: 0.7745\n",
            "Epoch 5/5\n",
            "2500/2500 [==============================] - 5s 2ms/step - loss: 0.7855 - accuracy: 0.7752 - val_loss: 0.8004 - val_accuracy: 0.7755\n",
            "Epoch 1/5\n",
            "2500/2500 [==============================] - 5s 2ms/step - loss: 1.7514 - accuracy: 0.5917 - val_loss: 1.0732 - val_accuracy: 0.6593\n",
            "Epoch 2/5\n",
            "2500/2500 [==============================] - 5s 2ms/step - loss: 1.0042 - accuracy: 0.7062 - val_loss: 0.9096 - val_accuracy: 0.7333\n",
            "Epoch 3/5\n",
            "2500/2500 [==============================] - 5s 2ms/step - loss: 0.8914 - accuracy: 0.7449 - val_loss: 0.8555 - val_accuracy: 0.7640\n",
            "Epoch 4/5\n",
            "2500/2500 [==============================] - 5s 2ms/step - loss: 0.8011 - accuracy: 0.7725 - val_loss: 0.8070 - val_accuracy: 0.7829\n",
            "Epoch 5/5\n",
            "2500/2500 [==============================] - 5s 2ms/step - loss: 0.7589 - accuracy: 0.7825 - val_loss: 0.7743 - val_accuracy: 0.7868\n",
            "Epoch 1/5\n",
            "2500/2500 [==============================] - 5s 2ms/step - loss: 1.7759 - accuracy: 0.5629 - val_loss: 1.1229 - val_accuracy: 0.6670\n",
            "Epoch 2/5\n",
            "2500/2500 [==============================] - 5s 2ms/step - loss: 1.0107 - accuracy: 0.7062 - val_loss: 0.9298 - val_accuracy: 0.7447\n",
            "Epoch 3/5\n",
            "2500/2500 [==============================] - 5s 2ms/step - loss: 0.8683 - accuracy: 0.7522 - val_loss: 0.8029 - val_accuracy: 0.7754\n",
            "Epoch 4/5\n",
            "2500/2500 [==============================] - 5s 2ms/step - loss: 0.7819 - accuracy: 0.7752 - val_loss: 0.8298 - val_accuracy: 0.7450\n",
            "Epoch 5/5\n",
            "2500/2500 [==============================] - 5s 2ms/step - loss: 0.7428 - accuracy: 0.7870 - val_loss: 0.7297 - val_accuracy: 0.7933\n",
            "Epoch 1/5\n",
            "2500/2500 [==============================] - 5s 2ms/step - loss: 1.9447 - accuracy: 0.5586 - val_loss: 1.1046 - val_accuracy: 0.6422\n",
            "Epoch 2/5\n",
            "2500/2500 [==============================] - 5s 2ms/step - loss: 1.0257 - accuracy: 0.6964 - val_loss: 1.1091 - val_accuracy: 0.6539\n",
            "Epoch 3/5\n",
            "2500/2500 [==============================] - 5s 2ms/step - loss: 0.8642 - accuracy: 0.7530 - val_loss: 0.8331 - val_accuracy: 0.7743\n",
            "Epoch 4/5\n",
            "2500/2500 [==============================] - 5s 2ms/step - loss: 0.7681 - accuracy: 0.7796 - val_loss: 0.7754 - val_accuracy: 0.7811\n",
            "Epoch 5/5\n",
            "2500/2500 [==============================] - 5s 2ms/step - loss: 0.7162 - accuracy: 0.7919 - val_loss: 0.7475 - val_accuracy: 0.7800\n"
          ],
          "name": "stdout"
        },
        {
          "output_type": "display_data",
          "data": {
            "text/html": [
              "<span style=\"color:#4527A0\"><h1 style=\"font-size:18px\">Trial complete</h1></span>"
            ],
            "text/plain": [
              "<IPython.core.display.HTML object>"
            ]
          },
          "metadata": {
            "tags": []
          }
        },
        {
          "output_type": "display_data",
          "data": {
            "text/html": [
              "<span style=\"color:#4527A0\"><h1 style=\"font-size:18px\">Trial summary</h1></span>"
            ],
            "text/plain": [
              "<IPython.core.display.HTML object>"
            ]
          },
          "metadata": {
            "tags": []
          }
        },
        {
          "output_type": "display_data",
          "data": {
            "text/html": [
              "<span style=\"color:cyan\"> |-Trial ID: fef38016031c7091c2b58dada2009354</span>"
            ],
            "text/plain": [
              "<IPython.core.display.HTML object>"
            ]
          },
          "metadata": {
            "tags": []
          }
        },
        {
          "output_type": "display_data",
          "data": {
            "text/html": [
              "<span style=\"color:cyan\"> |-Score: 0.7874600052833557</span>"
            ],
            "text/plain": [
              "<IPython.core.display.HTML object>"
            ]
          },
          "metadata": {
            "tags": []
          }
        },
        {
          "output_type": "display_data",
          "data": {
            "text/html": [
              "<span style=\"color:cyan\"> |-Best step: 0</span>"
            ],
            "text/plain": [
              "<IPython.core.display.HTML object>"
            ]
          },
          "metadata": {
            "tags": []
          }
        },
        {
          "output_type": "display_data",
          "data": {
            "text/html": [
              "<span style=\"color:#7E57C2\"><h2 style=\"font-size:16px\">Hyperparameters:</h2></span>"
            ],
            "text/plain": [
              "<IPython.core.display.HTML object>"
            ]
          },
          "metadata": {
            "tags": []
          }
        },
        {
          "output_type": "display_data",
          "data": {
            "text/html": [
              "<span style=\"color:cyan\"> |-activationfn: linear</span>"
            ],
            "text/plain": [
              "<IPython.core.display.HTML object>"
            ]
          },
          "metadata": {
            "tags": []
          }
        },
        {
          "output_type": "display_data",
          "data": {
            "text/html": [
              "<span style=\"color:blue\"> |-lrate: 0.001</span>"
            ],
            "text/plain": [
              "<IPython.core.display.HTML object>"
            ]
          },
          "metadata": {
            "tags": []
          }
        },
        {
          "output_type": "display_data",
          "data": {
            "text/html": [
              "<span style=\"color:cyan\"> |-optimizer: rmsprop</span>"
            ],
            "text/plain": [
              "<IPython.core.display.HTML object>"
            ]
          },
          "metadata": {
            "tags": []
          }
        },
        {
          "output_type": "display_data",
          "data": {
            "text/html": [
              "<span style=\"color:blue\"> |-units_1: 32</span>"
            ],
            "text/plain": [
              "<IPython.core.display.HTML object>"
            ]
          },
          "metadata": {
            "tags": []
          }
        },
        {
          "output_type": "display_data",
          "data": {
            "text/html": [
              "<span style=\"color:cyan\"> |-units_2: 16</span>"
            ],
            "text/plain": [
              "<IPython.core.display.HTML object>"
            ]
          },
          "metadata": {
            "tags": []
          }
        },
        {
          "output_type": "display_data",
          "data": {
            "text/html": [
              "<span style=\"color:blue\"> |-units_3: 32</span>"
            ],
            "text/plain": [
              "<IPython.core.display.HTML object>"
            ]
          },
          "metadata": {
            "tags": []
          }
        },
        {
          "output_type": "stream",
          "text": [
            "Epoch 1/5\n",
            "2500/2500 [==============================] - 5s 2ms/step - loss: 1.9566 - accuracy: 0.4793 - val_loss: 1.3072 - val_accuracy: 0.5662\n",
            "Epoch 2/5\n",
            "2500/2500 [==============================] - 5s 2ms/step - loss: 1.2491 - accuracy: 0.5978 - val_loss: 1.1474 - val_accuracy: 0.6155\n",
            "Epoch 3/5\n",
            "2500/2500 [==============================] - 5s 2ms/step - loss: 1.1020 - accuracy: 0.6532 - val_loss: 1.3252 - val_accuracy: 0.6210\n",
            "Epoch 4/5\n",
            "2500/2500 [==============================] - 5s 2ms/step - loss: 0.9285 - accuracy: 0.7192 - val_loss: 0.8474 - val_accuracy: 0.7495\n",
            "Epoch 5/5\n",
            "2500/2500 [==============================] - 5s 2ms/step - loss: 0.8043 - accuracy: 0.7669 - val_loss: 0.7925 - val_accuracy: 0.7756\n",
            "Epoch 1/5\n",
            "2500/2500 [==============================] - 5s 2ms/step - loss: 1.9147 - accuracy: 0.4594 - val_loss: 1.4715 - val_accuracy: 0.5079\n",
            "Epoch 2/5\n",
            "2500/2500 [==============================] - 5s 2ms/step - loss: 1.3187 - accuracy: 0.5549 - val_loss: 1.2603 - val_accuracy: 0.6083\n",
            "Epoch 3/5\n",
            "2500/2500 [==============================] - 5s 2ms/step - loss: 1.1284 - accuracy: 0.6277 - val_loss: 1.0312 - val_accuracy: 0.6836\n",
            "Epoch 4/5\n",
            "2500/2500 [==============================] - 5s 2ms/step - loss: 0.9320 - accuracy: 0.7041 - val_loss: 0.8845 - val_accuracy: 0.7384\n",
            "Epoch 5/5\n",
            "2500/2500 [==============================] - 5s 2ms/step - loss: 0.8043 - accuracy: 0.7526 - val_loss: 0.8194 - val_accuracy: 0.7679\n",
            "Epoch 1/5\n",
            "2500/2500 [==============================] - 5s 2ms/step - loss: 1.7569 - accuracy: 0.4992 - val_loss: 1.2899 - val_accuracy: 0.6308\n",
            "Epoch 2/5\n",
            "2500/2500 [==============================] - 5s 2ms/step - loss: 1.2026 - accuracy: 0.6402 - val_loss: 1.1243 - val_accuracy: 0.6479\n",
            "Epoch 3/5\n",
            "2500/2500 [==============================] - 5s 2ms/step - loss: 1.0157 - accuracy: 0.7001 - val_loss: 0.9663 - val_accuracy: 0.7181\n",
            "Epoch 4/5\n",
            "2500/2500 [==============================] - 5s 2ms/step - loss: 0.8474 - accuracy: 0.7493 - val_loss: 0.8615 - val_accuracy: 0.7530\n",
            "Epoch 5/5\n",
            "2500/2500 [==============================] - 5s 2ms/step - loss: 0.7509 - accuracy: 0.7804 - val_loss: 0.7807 - val_accuracy: 0.7776\n",
            "Epoch 1/5\n",
            "2500/2500 [==============================] - 5s 2ms/step - loss: 1.9260 - accuracy: 0.5182 - val_loss: 1.2596 - val_accuracy: 0.6511\n",
            "Epoch 2/5\n",
            "2500/2500 [==============================] - 5s 2ms/step - loss: 1.1887 - accuracy: 0.6528 - val_loss: 1.1186 - val_accuracy: 0.6974\n",
            "Epoch 3/5\n",
            "2500/2500 [==============================] - 5s 2ms/step - loss: 1.0225 - accuracy: 0.7092 - val_loss: 0.9056 - val_accuracy: 0.7581\n",
            "Epoch 4/5\n",
            "2500/2500 [==============================] - 5s 2ms/step - loss: 0.8543 - accuracy: 0.7598 - val_loss: 0.8121 - val_accuracy: 0.7716\n",
            "Epoch 5/5\n",
            "2500/2500 [==============================] - 5s 2ms/step - loss: 0.7558 - accuracy: 0.7840 - val_loss: 0.7349 - val_accuracy: 0.7947\n",
            "Epoch 1/5\n",
            "2500/2500 [==============================] - 5s 2ms/step - loss: 1.9182 - accuracy: 0.4928 - val_loss: 1.2929 - val_accuracy: 0.5923\n",
            "Epoch 2/5\n",
            "2500/2500 [==============================] - 5s 2ms/step - loss: 1.2432 - accuracy: 0.5974 - val_loss: 1.1750 - val_accuracy: 0.6338\n",
            "Epoch 3/5\n",
            "2500/2500 [==============================] - 5s 2ms/step - loss: 1.0900 - accuracy: 0.6549 - val_loss: 1.0249 - val_accuracy: 0.7024\n",
            "Epoch 4/5\n",
            "2500/2500 [==============================] - 5s 2ms/step - loss: 0.9134 - accuracy: 0.7324 - val_loss: 0.9016 - val_accuracy: 0.7442\n",
            "Epoch 5/5\n",
            "2500/2500 [==============================] - 5s 2ms/step - loss: 0.7812 - accuracy: 0.7726 - val_loss: 0.7364 - val_accuracy: 0.7835\n"
          ],
          "name": "stdout"
        },
        {
          "output_type": "display_data",
          "data": {
            "text/html": [
              "<span style=\"color:#4527A0\"><h1 style=\"font-size:18px\">Trial complete</h1></span>"
            ],
            "text/plain": [
              "<IPython.core.display.HTML object>"
            ]
          },
          "metadata": {
            "tags": []
          }
        },
        {
          "output_type": "display_data",
          "data": {
            "text/html": [
              "<span style=\"color:#4527A0\"><h1 style=\"font-size:18px\">Trial summary</h1></span>"
            ],
            "text/plain": [
              "<IPython.core.display.HTML object>"
            ]
          },
          "metadata": {
            "tags": []
          }
        },
        {
          "output_type": "display_data",
          "data": {
            "text/html": [
              "<span style=\"color:cyan\"> |-Trial ID: c1e64f16406a479de20a815238cbb720</span>"
            ],
            "text/plain": [
              "<IPython.core.display.HTML object>"
            ]
          },
          "metadata": {
            "tags": []
          }
        },
        {
          "output_type": "display_data",
          "data": {
            "text/html": [
              "<span style=\"color:cyan\"> |-Score: 0.7798799991607666</span>"
            ],
            "text/plain": [
              "<IPython.core.display.HTML object>"
            ]
          },
          "metadata": {
            "tags": []
          }
        },
        {
          "output_type": "display_data",
          "data": {
            "text/html": [
              "<span style=\"color:cyan\"> |-Best step: 0</span>"
            ],
            "text/plain": [
              "<IPython.core.display.HTML object>"
            ]
          },
          "metadata": {
            "tags": []
          }
        },
        {
          "output_type": "display_data",
          "data": {
            "text/html": [
              "<span style=\"color:#7E57C2\"><h2 style=\"font-size:16px\">Hyperparameters:</h2></span>"
            ],
            "text/plain": [
              "<IPython.core.display.HTML object>"
            ]
          },
          "metadata": {
            "tags": []
          }
        },
        {
          "output_type": "display_data",
          "data": {
            "text/html": [
              "<span style=\"color:cyan\"> |-activationfn: linear</span>"
            ],
            "text/plain": [
              "<IPython.core.display.HTML object>"
            ]
          },
          "metadata": {
            "tags": []
          }
        },
        {
          "output_type": "display_data",
          "data": {
            "text/html": [
              "<span style=\"color:blue\"> |-lrate: 0.001</span>"
            ],
            "text/plain": [
              "<IPython.core.display.HTML object>"
            ]
          },
          "metadata": {
            "tags": []
          }
        },
        {
          "output_type": "display_data",
          "data": {
            "text/html": [
              "<span style=\"color:cyan\"> |-optimizer: rmsprop</span>"
            ],
            "text/plain": [
              "<IPython.core.display.HTML object>"
            ]
          },
          "metadata": {
            "tags": []
          }
        },
        {
          "output_type": "display_data",
          "data": {
            "text/html": [
              "<span style=\"color:blue\"> |-units_1: 32</span>"
            ],
            "text/plain": [
              "<IPython.core.display.HTML object>"
            ]
          },
          "metadata": {
            "tags": []
          }
        },
        {
          "output_type": "display_data",
          "data": {
            "text/html": [
              "<span style=\"color:cyan\"> |-units_2: 48</span>"
            ],
            "text/plain": [
              "<IPython.core.display.HTML object>"
            ]
          },
          "metadata": {
            "tags": []
          }
        },
        {
          "output_type": "display_data",
          "data": {
            "text/html": [
              "<span style=\"color:blue\"> |-units_3: 48</span>"
            ],
            "text/plain": [
              "<IPython.core.display.HTML object>"
            ]
          },
          "metadata": {
            "tags": []
          }
        },
        {
          "output_type": "stream",
          "text": [
            "INFO:tensorflow:Oracle triggered exit\n"
          ],
          "name": "stdout"
        }
      ]
    },
    {
      "cell_type": "code",
      "metadata": {
        "id": "jVu7h-llO1iE",
        "colab_type": "code",
        "colab": {
          "base_uri": "https://localhost:8080/",
          "height": 1000
        },
        "outputId": "61fb19b4-6202-48b8-b04a-9dc2536e68d4"
      },
      "source": [
        "tuner_rs.results_summary()"
      ],
      "execution_count": 11,
      "outputs": [
        {
          "output_type": "display_data",
          "data": {
            "text/html": [
              "<span style=\"color:#4527A0\"><h1 style=\"font-size:18px\">Results summary</h1></span>"
            ],
            "text/plain": [
              "<IPython.core.display.HTML object>"
            ]
          },
          "metadata": {
            "tags": []
          }
        },
        {
          "output_type": "display_data",
          "data": {
            "text/html": [
              "<span style=\"color:cyan\"> |-Results in ./kt-randomsearch/kt-RS</span>"
            ],
            "text/plain": [
              "<IPython.core.display.HTML object>"
            ]
          },
          "metadata": {
            "tags": []
          }
        },
        {
          "output_type": "display_data",
          "data": {
            "text/html": [
              "<span style=\"color:cyan\"> |-Showing 10 best trials</span>"
            ],
            "text/plain": [
              "<IPython.core.display.HTML object>"
            ]
          },
          "metadata": {
            "tags": []
          }
        },
        {
          "output_type": "display_data",
          "data": {
            "text/html": [
              "<span style=\"color:cyan\"> |-Objective(name='val_accuracy', direction='max')</span>"
            ],
            "text/plain": [
              "<IPython.core.display.HTML object>"
            ]
          },
          "metadata": {
            "tags": []
          }
        },
        {
          "output_type": "display_data",
          "data": {
            "text/html": [
              "<span style=\"color:#4527A0\"><h1 style=\"font-size:18px\">Trial summary</h1></span>"
            ],
            "text/plain": [
              "<IPython.core.display.HTML object>"
            ]
          },
          "metadata": {
            "tags": []
          }
        },
        {
          "output_type": "display_data",
          "data": {
            "text/html": [
              "<span style=\"color:cyan\"> |-Trial ID: 9833cba8ec78de9d0ba67a75fffef60f</span>"
            ],
            "text/plain": [
              "<IPython.core.display.HTML object>"
            ]
          },
          "metadata": {
            "tags": []
          }
        },
        {
          "output_type": "display_data",
          "data": {
            "text/html": [
              "<span style=\"color:cyan\"> |-Score: 0.8328000068664551</span>"
            ],
            "text/plain": [
              "<IPython.core.display.HTML object>"
            ]
          },
          "metadata": {
            "tags": []
          }
        },
        {
          "output_type": "display_data",
          "data": {
            "text/html": [
              "<span style=\"color:cyan\"> |-Best step: 0</span>"
            ],
            "text/plain": [
              "<IPython.core.display.HTML object>"
            ]
          },
          "metadata": {
            "tags": []
          }
        },
        {
          "output_type": "display_data",
          "data": {
            "text/html": [
              "<span style=\"color:#7E57C2\"><h2 style=\"font-size:16px\">Hyperparameters:</h2></span>"
            ],
            "text/plain": [
              "<IPython.core.display.HTML object>"
            ]
          },
          "metadata": {
            "tags": []
          }
        },
        {
          "output_type": "display_data",
          "data": {
            "text/html": [
              "<span style=\"color:cyan\"> |-activationfn: linear</span>"
            ],
            "text/plain": [
              "<IPython.core.display.HTML object>"
            ]
          },
          "metadata": {
            "tags": []
          }
        },
        {
          "output_type": "display_data",
          "data": {
            "text/html": [
              "<span style=\"color:blue\"> |-lrate: 0.001</span>"
            ],
            "text/plain": [
              "<IPython.core.display.HTML object>"
            ]
          },
          "metadata": {
            "tags": []
          }
        },
        {
          "output_type": "display_data",
          "data": {
            "text/html": [
              "<span style=\"color:cyan\"> |-optimizer: rmsprop</span>"
            ],
            "text/plain": [
              "<IPython.core.display.HTML object>"
            ]
          },
          "metadata": {
            "tags": []
          }
        },
        {
          "output_type": "display_data",
          "data": {
            "text/html": [
              "<span style=\"color:blue\"> |-units_1: 96</span>"
            ],
            "text/plain": [
              "<IPython.core.display.HTML object>"
            ]
          },
          "metadata": {
            "tags": []
          }
        },
        {
          "output_type": "display_data",
          "data": {
            "text/html": [
              "<span style=\"color:cyan\"> |-units_2: 16</span>"
            ],
            "text/plain": [
              "<IPython.core.display.HTML object>"
            ]
          },
          "metadata": {
            "tags": []
          }
        },
        {
          "output_type": "display_data",
          "data": {
            "text/html": [
              "<span style=\"color:blue\"> |-units_3: 16</span>"
            ],
            "text/plain": [
              "<IPython.core.display.HTML object>"
            ]
          },
          "metadata": {
            "tags": []
          }
        },
        {
          "output_type": "display_data",
          "data": {
            "text/html": [
              "<span style=\"color:#4527A0\"><h1 style=\"font-size:18px\">Trial summary</h1></span>"
            ],
            "text/plain": [
              "<IPython.core.display.HTML object>"
            ]
          },
          "metadata": {
            "tags": []
          }
        },
        {
          "output_type": "display_data",
          "data": {
            "text/html": [
              "<span style=\"color:cyan\"> |-Trial ID: ae3e3cf2c01c1697ff523c4265a27979</span>"
            ],
            "text/plain": [
              "<IPython.core.display.HTML object>"
            ]
          },
          "metadata": {
            "tags": []
          }
        },
        {
          "output_type": "display_data",
          "data": {
            "text/html": [
              "<span style=\"color:cyan\"> |-Score: 0.8033999919891357</span>"
            ],
            "text/plain": [
              "<IPython.core.display.HTML object>"
            ]
          },
          "metadata": {
            "tags": []
          }
        },
        {
          "output_type": "display_data",
          "data": {
            "text/html": [
              "<span style=\"color:cyan\"> |-Best step: 0</span>"
            ],
            "text/plain": [
              "<IPython.core.display.HTML object>"
            ]
          },
          "metadata": {
            "tags": []
          }
        },
        {
          "output_type": "display_data",
          "data": {
            "text/html": [
              "<span style=\"color:#7E57C2\"><h2 style=\"font-size:16px\">Hyperparameters:</h2></span>"
            ],
            "text/plain": [
              "<IPython.core.display.HTML object>"
            ]
          },
          "metadata": {
            "tags": []
          }
        },
        {
          "output_type": "display_data",
          "data": {
            "text/html": [
              "<span style=\"color:cyan\"> |-activationfn: linear</span>"
            ],
            "text/plain": [
              "<IPython.core.display.HTML object>"
            ]
          },
          "metadata": {
            "tags": []
          }
        },
        {
          "output_type": "display_data",
          "data": {
            "text/html": [
              "<span style=\"color:blue\"> |-lrate: 0.001</span>"
            ],
            "text/plain": [
              "<IPython.core.display.HTML object>"
            ]
          },
          "metadata": {
            "tags": []
          }
        },
        {
          "output_type": "display_data",
          "data": {
            "text/html": [
              "<span style=\"color:cyan\"> |-optimizer: adam</span>"
            ],
            "text/plain": [
              "<IPython.core.display.HTML object>"
            ]
          },
          "metadata": {
            "tags": []
          }
        },
        {
          "output_type": "display_data",
          "data": {
            "text/html": [
              "<span style=\"color:blue\"> |-units_1: 128</span>"
            ],
            "text/plain": [
              "<IPython.core.display.HTML object>"
            ]
          },
          "metadata": {
            "tags": []
          }
        },
        {
          "output_type": "display_data",
          "data": {
            "text/html": [
              "<span style=\"color:cyan\"> |-units_2: 24</span>"
            ],
            "text/plain": [
              "<IPython.core.display.HTML object>"
            ]
          },
          "metadata": {
            "tags": []
          }
        },
        {
          "output_type": "display_data",
          "data": {
            "text/html": [
              "<span style=\"color:blue\"> |-units_3: 32</span>"
            ],
            "text/plain": [
              "<IPython.core.display.HTML object>"
            ]
          },
          "metadata": {
            "tags": []
          }
        },
        {
          "output_type": "display_data",
          "data": {
            "text/html": [
              "<span style=\"color:#4527A0\"><h1 style=\"font-size:18px\">Trial summary</h1></span>"
            ],
            "text/plain": [
              "<IPython.core.display.HTML object>"
            ]
          },
          "metadata": {
            "tags": []
          }
        },
        {
          "output_type": "display_data",
          "data": {
            "text/html": [
              "<span style=\"color:cyan\"> |-Trial ID: 3f4f8edc679e796be90eb61b34ed5bd4</span>"
            ],
            "text/plain": [
              "<IPython.core.display.HTML object>"
            ]
          },
          "metadata": {
            "tags": []
          }
        },
        {
          "output_type": "display_data",
          "data": {
            "text/html": [
              "<span style=\"color:cyan\"> |-Score: 0.799210000038147</span>"
            ],
            "text/plain": [
              "<IPython.core.display.HTML object>"
            ]
          },
          "metadata": {
            "tags": []
          }
        },
        {
          "output_type": "display_data",
          "data": {
            "text/html": [
              "<span style=\"color:cyan\"> |-Best step: 0</span>"
            ],
            "text/plain": [
              "<IPython.core.display.HTML object>"
            ]
          },
          "metadata": {
            "tags": []
          }
        },
        {
          "output_type": "display_data",
          "data": {
            "text/html": [
              "<span style=\"color:#7E57C2\"><h2 style=\"font-size:16px\">Hyperparameters:</h2></span>"
            ],
            "text/plain": [
              "<IPython.core.display.HTML object>"
            ]
          },
          "metadata": {
            "tags": []
          }
        },
        {
          "output_type": "display_data",
          "data": {
            "text/html": [
              "<span style=\"color:cyan\"> |-activationfn: relu</span>"
            ],
            "text/plain": [
              "<IPython.core.display.HTML object>"
            ]
          },
          "metadata": {
            "tags": []
          }
        },
        {
          "output_type": "display_data",
          "data": {
            "text/html": [
              "<span style=\"color:blue\"> |-lrate: 0.001</span>"
            ],
            "text/plain": [
              "<IPython.core.display.HTML object>"
            ]
          },
          "metadata": {
            "tags": []
          }
        },
        {
          "output_type": "display_data",
          "data": {
            "text/html": [
              "<span style=\"color:cyan\"> |-optimizer: adam</span>"
            ],
            "text/plain": [
              "<IPython.core.display.HTML object>"
            ]
          },
          "metadata": {
            "tags": []
          }
        },
        {
          "output_type": "display_data",
          "data": {
            "text/html": [
              "<span style=\"color:blue\"> |-units_1: 64</span>"
            ],
            "text/plain": [
              "<IPython.core.display.HTML object>"
            ]
          },
          "metadata": {
            "tags": []
          }
        },
        {
          "output_type": "display_data",
          "data": {
            "text/html": [
              "<span style=\"color:cyan\"> |-units_2: 24</span>"
            ],
            "text/plain": [
              "<IPython.core.display.HTML object>"
            ]
          },
          "metadata": {
            "tags": []
          }
        },
        {
          "output_type": "display_data",
          "data": {
            "text/html": [
              "<span style=\"color:blue\"> |-units_3: 64</span>"
            ],
            "text/plain": [
              "<IPython.core.display.HTML object>"
            ]
          },
          "metadata": {
            "tags": []
          }
        },
        {
          "output_type": "display_data",
          "data": {
            "text/html": [
              "<span style=\"color:#4527A0\"><h1 style=\"font-size:18px\">Trial summary</h1></span>"
            ],
            "text/plain": [
              "<IPython.core.display.HTML object>"
            ]
          },
          "metadata": {
            "tags": []
          }
        },
        {
          "output_type": "display_data",
          "data": {
            "text/html": [
              "<span style=\"color:cyan\"> |-Trial ID: a5fd8e3de169440ad90c1b3b815dca52</span>"
            ],
            "text/plain": [
              "<IPython.core.display.HTML object>"
            ]
          },
          "metadata": {
            "tags": []
          }
        },
        {
          "output_type": "display_data",
          "data": {
            "text/html": [
              "<span style=\"color:cyan\"> |-Score: 0.7946499943733215</span>"
            ],
            "text/plain": [
              "<IPython.core.display.HTML object>"
            ]
          },
          "metadata": {
            "tags": []
          }
        },
        {
          "output_type": "display_data",
          "data": {
            "text/html": [
              "<span style=\"color:cyan\"> |-Best step: 0</span>"
            ],
            "text/plain": [
              "<IPython.core.display.HTML object>"
            ]
          },
          "metadata": {
            "tags": []
          }
        },
        {
          "output_type": "display_data",
          "data": {
            "text/html": [
              "<span style=\"color:#7E57C2\"><h2 style=\"font-size:16px\">Hyperparameters:</h2></span>"
            ],
            "text/plain": [
              "<IPython.core.display.HTML object>"
            ]
          },
          "metadata": {
            "tags": []
          }
        },
        {
          "output_type": "display_data",
          "data": {
            "text/html": [
              "<span style=\"color:cyan\"> |-activationfn: linear</span>"
            ],
            "text/plain": [
              "<IPython.core.display.HTML object>"
            ]
          },
          "metadata": {
            "tags": []
          }
        },
        {
          "output_type": "display_data",
          "data": {
            "text/html": [
              "<span style=\"color:blue\"> |-lrate: 0.001</span>"
            ],
            "text/plain": [
              "<IPython.core.display.HTML object>"
            ]
          },
          "metadata": {
            "tags": []
          }
        },
        {
          "output_type": "display_data",
          "data": {
            "text/html": [
              "<span style=\"color:cyan\"> |-optimizer: adam</span>"
            ],
            "text/plain": [
              "<IPython.core.display.HTML object>"
            ]
          },
          "metadata": {
            "tags": []
          }
        },
        {
          "output_type": "display_data",
          "data": {
            "text/html": [
              "<span style=\"color:blue\"> |-units_1: 96</span>"
            ],
            "text/plain": [
              "<IPython.core.display.HTML object>"
            ]
          },
          "metadata": {
            "tags": []
          }
        },
        {
          "output_type": "display_data",
          "data": {
            "text/html": [
              "<span style=\"color:cyan\"> |-units_2: 32</span>"
            ],
            "text/plain": [
              "<IPython.core.display.HTML object>"
            ]
          },
          "metadata": {
            "tags": []
          }
        },
        {
          "output_type": "display_data",
          "data": {
            "text/html": [
              "<span style=\"color:blue\"> |-units_3: 56</span>"
            ],
            "text/plain": [
              "<IPython.core.display.HTML object>"
            ]
          },
          "metadata": {
            "tags": []
          }
        },
        {
          "output_type": "display_data",
          "data": {
            "text/html": [
              "<span style=\"color:#4527A0\"><h1 style=\"font-size:18px\">Trial summary</h1></span>"
            ],
            "text/plain": [
              "<IPython.core.display.HTML object>"
            ]
          },
          "metadata": {
            "tags": []
          }
        },
        {
          "output_type": "display_data",
          "data": {
            "text/html": [
              "<span style=\"color:cyan\"> |-Trial ID: fef38016031c7091c2b58dada2009354</span>"
            ],
            "text/plain": [
              "<IPython.core.display.HTML object>"
            ]
          },
          "metadata": {
            "tags": []
          }
        },
        {
          "output_type": "display_data",
          "data": {
            "text/html": [
              "<span style=\"color:cyan\"> |-Score: 0.7874600052833557</span>"
            ],
            "text/plain": [
              "<IPython.core.display.HTML object>"
            ]
          },
          "metadata": {
            "tags": []
          }
        },
        {
          "output_type": "display_data",
          "data": {
            "text/html": [
              "<span style=\"color:cyan\"> |-Best step: 0</span>"
            ],
            "text/plain": [
              "<IPython.core.display.HTML object>"
            ]
          },
          "metadata": {
            "tags": []
          }
        },
        {
          "output_type": "display_data",
          "data": {
            "text/html": [
              "<span style=\"color:#7E57C2\"><h2 style=\"font-size:16px\">Hyperparameters:</h2></span>"
            ],
            "text/plain": [
              "<IPython.core.display.HTML object>"
            ]
          },
          "metadata": {
            "tags": []
          }
        },
        {
          "output_type": "display_data",
          "data": {
            "text/html": [
              "<span style=\"color:cyan\"> |-activationfn: linear</span>"
            ],
            "text/plain": [
              "<IPython.core.display.HTML object>"
            ]
          },
          "metadata": {
            "tags": []
          }
        },
        {
          "output_type": "display_data",
          "data": {
            "text/html": [
              "<span style=\"color:blue\"> |-lrate: 0.001</span>"
            ],
            "text/plain": [
              "<IPython.core.display.HTML object>"
            ]
          },
          "metadata": {
            "tags": []
          }
        },
        {
          "output_type": "display_data",
          "data": {
            "text/html": [
              "<span style=\"color:cyan\"> |-optimizer: rmsprop</span>"
            ],
            "text/plain": [
              "<IPython.core.display.HTML object>"
            ]
          },
          "metadata": {
            "tags": []
          }
        },
        {
          "output_type": "display_data",
          "data": {
            "text/html": [
              "<span style=\"color:blue\"> |-units_1: 32</span>"
            ],
            "text/plain": [
              "<IPython.core.display.HTML object>"
            ]
          },
          "metadata": {
            "tags": []
          }
        },
        {
          "output_type": "display_data",
          "data": {
            "text/html": [
              "<span style=\"color:cyan\"> |-units_2: 16</span>"
            ],
            "text/plain": [
              "<IPython.core.display.HTML object>"
            ]
          },
          "metadata": {
            "tags": []
          }
        },
        {
          "output_type": "display_data",
          "data": {
            "text/html": [
              "<span style=\"color:blue\"> |-units_3: 32</span>"
            ],
            "text/plain": [
              "<IPython.core.display.HTML object>"
            ]
          },
          "metadata": {
            "tags": []
          }
        },
        {
          "output_type": "display_data",
          "data": {
            "text/html": [
              "<span style=\"color:#4527A0\"><h1 style=\"font-size:18px\">Trial summary</h1></span>"
            ],
            "text/plain": [
              "<IPython.core.display.HTML object>"
            ]
          },
          "metadata": {
            "tags": []
          }
        },
        {
          "output_type": "display_data",
          "data": {
            "text/html": [
              "<span style=\"color:cyan\"> |-Trial ID: c1e64f16406a479de20a815238cbb720</span>"
            ],
            "text/plain": [
              "<IPython.core.display.HTML object>"
            ]
          },
          "metadata": {
            "tags": []
          }
        },
        {
          "output_type": "display_data",
          "data": {
            "text/html": [
              "<span style=\"color:cyan\"> |-Score: 0.7798799991607666</span>"
            ],
            "text/plain": [
              "<IPython.core.display.HTML object>"
            ]
          },
          "metadata": {
            "tags": []
          }
        },
        {
          "output_type": "display_data",
          "data": {
            "text/html": [
              "<span style=\"color:cyan\"> |-Best step: 0</span>"
            ],
            "text/plain": [
              "<IPython.core.display.HTML object>"
            ]
          },
          "metadata": {
            "tags": []
          }
        },
        {
          "output_type": "display_data",
          "data": {
            "text/html": [
              "<span style=\"color:#7E57C2\"><h2 style=\"font-size:16px\">Hyperparameters:</h2></span>"
            ],
            "text/plain": [
              "<IPython.core.display.HTML object>"
            ]
          },
          "metadata": {
            "tags": []
          }
        },
        {
          "output_type": "display_data",
          "data": {
            "text/html": [
              "<span style=\"color:cyan\"> |-activationfn: linear</span>"
            ],
            "text/plain": [
              "<IPython.core.display.HTML object>"
            ]
          },
          "metadata": {
            "tags": []
          }
        },
        {
          "output_type": "display_data",
          "data": {
            "text/html": [
              "<span style=\"color:blue\"> |-lrate: 0.001</span>"
            ],
            "text/plain": [
              "<IPython.core.display.HTML object>"
            ]
          },
          "metadata": {
            "tags": []
          }
        },
        {
          "output_type": "display_data",
          "data": {
            "text/html": [
              "<span style=\"color:cyan\"> |-optimizer: rmsprop</span>"
            ],
            "text/plain": [
              "<IPython.core.display.HTML object>"
            ]
          },
          "metadata": {
            "tags": []
          }
        },
        {
          "output_type": "display_data",
          "data": {
            "text/html": [
              "<span style=\"color:blue\"> |-units_1: 32</span>"
            ],
            "text/plain": [
              "<IPython.core.display.HTML object>"
            ]
          },
          "metadata": {
            "tags": []
          }
        },
        {
          "output_type": "display_data",
          "data": {
            "text/html": [
              "<span style=\"color:cyan\"> |-units_2: 48</span>"
            ],
            "text/plain": [
              "<IPython.core.display.HTML object>"
            ]
          },
          "metadata": {
            "tags": []
          }
        },
        {
          "output_type": "display_data",
          "data": {
            "text/html": [
              "<span style=\"color:blue\"> |-units_3: 48</span>"
            ],
            "text/plain": [
              "<IPython.core.display.HTML object>"
            ]
          },
          "metadata": {
            "tags": []
          }
        },
        {
          "output_type": "display_data",
          "data": {
            "text/html": [
              "<span style=\"color:#4527A0\"><h1 style=\"font-size:18px\">Trial summary</h1></span>"
            ],
            "text/plain": [
              "<IPython.core.display.HTML object>"
            ]
          },
          "metadata": {
            "tags": []
          }
        },
        {
          "output_type": "display_data",
          "data": {
            "text/html": [
              "<span style=\"color:cyan\"> |-Trial ID: 8ce61af7c3c1482068124b7c1cf26383</span>"
            ],
            "text/plain": [
              "<IPython.core.display.HTML object>"
            ]
          },
          "metadata": {
            "tags": []
          }
        },
        {
          "output_type": "display_data",
          "data": {
            "text/html": [
              "<span style=\"color:cyan\"> |-Score: 0.7727699875831604</span>"
            ],
            "text/plain": [
              "<IPython.core.display.HTML object>"
            ]
          },
          "metadata": {
            "tags": []
          }
        },
        {
          "output_type": "display_data",
          "data": {
            "text/html": [
              "<span style=\"color:cyan\"> |-Best step: 0</span>"
            ],
            "text/plain": [
              "<IPython.core.display.HTML object>"
            ]
          },
          "metadata": {
            "tags": []
          }
        },
        {
          "output_type": "display_data",
          "data": {
            "text/html": [
              "<span style=\"color:#7E57C2\"><h2 style=\"font-size:16px\">Hyperparameters:</h2></span>"
            ],
            "text/plain": [
              "<IPython.core.display.HTML object>"
            ]
          },
          "metadata": {
            "tags": []
          }
        },
        {
          "output_type": "display_data",
          "data": {
            "text/html": [
              "<span style=\"color:cyan\"> |-activationfn: sigmoid</span>"
            ],
            "text/plain": [
              "<IPython.core.display.HTML object>"
            ]
          },
          "metadata": {
            "tags": []
          }
        },
        {
          "output_type": "display_data",
          "data": {
            "text/html": [
              "<span style=\"color:blue\"> |-lrate: 0.001</span>"
            ],
            "text/plain": [
              "<IPython.core.display.HTML object>"
            ]
          },
          "metadata": {
            "tags": []
          }
        },
        {
          "output_type": "display_data",
          "data": {
            "text/html": [
              "<span style=\"color:cyan\"> |-optimizer: rmsprop</span>"
            ],
            "text/plain": [
              "<IPython.core.display.HTML object>"
            ]
          },
          "metadata": {
            "tags": []
          }
        },
        {
          "output_type": "display_data",
          "data": {
            "text/html": [
              "<span style=\"color:blue\"> |-units_1: 128</span>"
            ],
            "text/plain": [
              "<IPython.core.display.HTML object>"
            ]
          },
          "metadata": {
            "tags": []
          }
        },
        {
          "output_type": "display_data",
          "data": {
            "text/html": [
              "<span style=\"color:cyan\"> |-units_2: 56</span>"
            ],
            "text/plain": [
              "<IPython.core.display.HTML object>"
            ]
          },
          "metadata": {
            "tags": []
          }
        },
        {
          "output_type": "display_data",
          "data": {
            "text/html": [
              "<span style=\"color:blue\"> |-units_3: 32</span>"
            ],
            "text/plain": [
              "<IPython.core.display.HTML object>"
            ]
          },
          "metadata": {
            "tags": []
          }
        },
        {
          "output_type": "display_data",
          "data": {
            "text/html": [
              "<span style=\"color:#4527A0\"><h1 style=\"font-size:18px\">Trial summary</h1></span>"
            ],
            "text/plain": [
              "<IPython.core.display.HTML object>"
            ]
          },
          "metadata": {
            "tags": []
          }
        },
        {
          "output_type": "display_data",
          "data": {
            "text/html": [
              "<span style=\"color:cyan\"> |-Trial ID: f5e2d7215d865ac6c59878a210598166</span>"
            ],
            "text/plain": [
              "<IPython.core.display.HTML object>"
            ]
          },
          "metadata": {
            "tags": []
          }
        },
        {
          "output_type": "display_data",
          "data": {
            "text/html": [
              "<span style=\"color:cyan\"> |-Score: 0.6050000071525574</span>"
            ],
            "text/plain": [
              "<IPython.core.display.HTML object>"
            ]
          },
          "metadata": {
            "tags": []
          }
        },
        {
          "output_type": "display_data",
          "data": {
            "text/html": [
              "<span style=\"color:cyan\"> |-Best step: 0</span>"
            ],
            "text/plain": [
              "<IPython.core.display.HTML object>"
            ]
          },
          "metadata": {
            "tags": []
          }
        },
        {
          "output_type": "display_data",
          "data": {
            "text/html": [
              "<span style=\"color:#7E57C2\"><h2 style=\"font-size:16px\">Hyperparameters:</h2></span>"
            ],
            "text/plain": [
              "<IPython.core.display.HTML object>"
            ]
          },
          "metadata": {
            "tags": []
          }
        },
        {
          "output_type": "display_data",
          "data": {
            "text/html": [
              "<span style=\"color:cyan\"> |-activationfn: relu</span>"
            ],
            "text/plain": [
              "<IPython.core.display.HTML object>"
            ]
          },
          "metadata": {
            "tags": []
          }
        },
        {
          "output_type": "display_data",
          "data": {
            "text/html": [
              "<span style=\"color:blue\"> |-lrate: 0.001</span>"
            ],
            "text/plain": [
              "<IPython.core.display.HTML object>"
            ]
          },
          "metadata": {
            "tags": []
          }
        },
        {
          "output_type": "display_data",
          "data": {
            "text/html": [
              "<span style=\"color:cyan\"> |-optimizer: adam</span>"
            ],
            "text/plain": [
              "<IPython.core.display.HTML object>"
            ]
          },
          "metadata": {
            "tags": []
          }
        },
        {
          "output_type": "display_data",
          "data": {
            "text/html": [
              "<span style=\"color:blue\"> |-units_1: 64</span>"
            ],
            "text/plain": [
              "<IPython.core.display.HTML object>"
            ]
          },
          "metadata": {
            "tags": []
          }
        },
        {
          "output_type": "display_data",
          "data": {
            "text/html": [
              "<span style=\"color:cyan\"> |-units_2: 24</span>"
            ],
            "text/plain": [
              "<IPython.core.display.HTML object>"
            ]
          },
          "metadata": {
            "tags": []
          }
        },
        {
          "output_type": "display_data",
          "data": {
            "text/html": [
              "<span style=\"color:blue\"> |-units_3: 8</span>"
            ],
            "text/plain": [
              "<IPython.core.display.HTML object>"
            ]
          },
          "metadata": {
            "tags": []
          }
        }
      ]
    },
    {
      "cell_type": "code",
      "metadata": {
        "id": "-NnXDqwichk-",
        "colab_type": "code",
        "colab": {
          "base_uri": "https://localhost:8080/",
          "height": 68
        },
        "outputId": "b1e0da81-31ef-46ee-ff48-975077c5a5a0"
      },
      "source": [
        "best_model = tuner_rs.get_best_models()[0]\n",
        "# Evaluate the best model.\n",
        "loss0, accuracy0 = best_model.evaluate(X_test, y_test)\n",
        "print(f\"\"\"best accuracy: {accuracy0}\"\"\")\n",
        "print(\"best parameters\", tuner_rs.get_best_hyperparameters(num_trials=1)[0].values)"
      ],
      "execution_count": 12,
      "outputs": [
        {
          "output_type": "stream",
          "text": [
            "625/625 [==============================] - 1s 1ms/step - loss: 0.5916 - accuracy: 0.8343\n",
            "best accuracy: 0.8343499898910522\n",
            "best parameters {'units_1': 96, 'lrate': 0.001, 'optimizer': 'rmsprop', 'activationfn': 'linear', 'units_2': 16, 'units_3': 16}\n"
          ],
          "name": "stdout"
        }
      ]
    },
    {
      "cell_type": "code",
      "metadata": {
        "id": "Ron2GBXRMpGS",
        "colab_type": "code",
        "colab": {}
      },
      "source": [
        "tuner_hb = kt.Hyperband(build_model,\n",
        "                     objective = 'val_accuracy', \n",
        "                     max_epochs = 5,\n",
        "                     factor = 3,\n",
        "                     directory = './kt-hyperbrand',\n",
        "                     project_name = 'kt-HB')  "
      ],
      "execution_count": 16,
      "outputs": []
    },
    {
      "cell_type": "code",
      "metadata": {
        "id": "HeosGvgPOpSE",
        "colab_type": "code",
        "colab": {
          "base_uri": "https://localhost:8080/",
          "height": 610
        },
        "outputId": "e0f2ef71-2fea-4b9a-b329-6d05caacb9e3"
      },
      "source": [
        "tuner_hb.search_space_summary()"
      ],
      "execution_count": 17,
      "outputs": [
        {
          "output_type": "display_data",
          "data": {
            "text/html": [
              "<span style=\"color:#4527A0\"><h1 style=\"font-size:18px\">Search space summary</h1></span>"
            ],
            "text/plain": [
              "<IPython.core.display.HTML object>"
            ]
          },
          "metadata": {
            "tags": []
          }
        },
        {
          "output_type": "display_data",
          "data": {
            "text/html": [
              "<span style=\"color:cyan\"> |-Default search space size: 5</span>"
            ],
            "text/plain": [
              "<IPython.core.display.HTML object>"
            ]
          },
          "metadata": {
            "tags": []
          }
        },
        {
          "output_type": "display_data",
          "data": {
            "text/html": [
              "<span style=\"color:#7E57C2\"><h2 style=\"font-size:16px\">units_1 (Int)</h2></span>"
            ],
            "text/plain": [
              "<IPython.core.display.HTML object>"
            ]
          },
          "metadata": {
            "tags": []
          }
        },
        {
          "output_type": "display_data",
          "data": {
            "text/html": [
              "<span style=\"color:cyan\"> |-default: None</span>"
            ],
            "text/plain": [
              "<IPython.core.display.HTML object>"
            ]
          },
          "metadata": {
            "tags": []
          }
        },
        {
          "output_type": "display_data",
          "data": {
            "text/html": [
              "<span style=\"color:blue\"> |-max_value: 128</span>"
            ],
            "text/plain": [
              "<IPython.core.display.HTML object>"
            ]
          },
          "metadata": {
            "tags": []
          }
        },
        {
          "output_type": "display_data",
          "data": {
            "text/html": [
              "<span style=\"color:cyan\"> |-min_value: 32</span>"
            ],
            "text/plain": [
              "<IPython.core.display.HTML object>"
            ]
          },
          "metadata": {
            "tags": []
          }
        },
        {
          "output_type": "display_data",
          "data": {
            "text/html": [
              "<span style=\"color:blue\"> |-sampling: None</span>"
            ],
            "text/plain": [
              "<IPython.core.display.HTML object>"
            ]
          },
          "metadata": {
            "tags": []
          }
        },
        {
          "output_type": "display_data",
          "data": {
            "text/html": [
              "<span style=\"color:cyan\"> |-step: 32</span>"
            ],
            "text/plain": [
              "<IPython.core.display.HTML object>"
            ]
          },
          "metadata": {
            "tags": []
          }
        },
        {
          "output_type": "display_data",
          "data": {
            "text/html": [
              "<span style=\"color:#7E57C2\"><h2 style=\"font-size:16px\">lrate (Choice)</h2></span>"
            ],
            "text/plain": [
              "<IPython.core.display.HTML object>"
            ]
          },
          "metadata": {
            "tags": []
          }
        },
        {
          "output_type": "display_data",
          "data": {
            "text/html": [
              "<span style=\"color:cyan\"> |-default: 0.01</span>"
            ],
            "text/plain": [
              "<IPython.core.display.HTML object>"
            ]
          },
          "metadata": {
            "tags": []
          }
        },
        {
          "output_type": "display_data",
          "data": {
            "text/html": [
              "<span style=\"color:blue\"> |-ordered: True</span>"
            ],
            "text/plain": [
              "<IPython.core.display.HTML object>"
            ]
          },
          "metadata": {
            "tags": []
          }
        },
        {
          "output_type": "display_data",
          "data": {
            "text/html": [
              "<span style=\"color:cyan\"> |-values: [0.01, 0.001, 0.0001]</span>"
            ],
            "text/plain": [
              "<IPython.core.display.HTML object>"
            ]
          },
          "metadata": {
            "tags": []
          }
        },
        {
          "output_type": "display_data",
          "data": {
            "text/html": [
              "<span style=\"color:#7E57C2\"><h2 style=\"font-size:16px\">activationfn (Choice)</h2></span>"
            ],
            "text/plain": [
              "<IPython.core.display.HTML object>"
            ]
          },
          "metadata": {
            "tags": []
          }
        },
        {
          "output_type": "display_data",
          "data": {
            "text/html": [
              "<span style=\"color:cyan\"> |-default: relu</span>"
            ],
            "text/plain": [
              "<IPython.core.display.HTML object>"
            ]
          },
          "metadata": {
            "tags": []
          }
        },
        {
          "output_type": "display_data",
          "data": {
            "text/html": [
              "<span style=\"color:blue\"> |-ordered: False</span>"
            ],
            "text/plain": [
              "<IPython.core.display.HTML object>"
            ]
          },
          "metadata": {
            "tags": []
          }
        },
        {
          "output_type": "display_data",
          "data": {
            "text/html": [
              "<span style=\"color:cyan\"> |-values: ['relu', 'tanh', 'sigmoid']</span>"
            ],
            "text/plain": [
              "<IPython.core.display.HTML object>"
            ]
          },
          "metadata": {
            "tags": []
          }
        },
        {
          "output_type": "display_data",
          "data": {
            "text/html": [
              "<span style=\"color:#7E57C2\"><h2 style=\"font-size:16px\">units_2 (Int)</h2></span>"
            ],
            "text/plain": [
              "<IPython.core.display.HTML object>"
            ]
          },
          "metadata": {
            "tags": []
          }
        },
        {
          "output_type": "display_data",
          "data": {
            "text/html": [
              "<span style=\"color:cyan\"> |-default: None</span>"
            ],
            "text/plain": [
              "<IPython.core.display.HTML object>"
            ]
          },
          "metadata": {
            "tags": []
          }
        },
        {
          "output_type": "display_data",
          "data": {
            "text/html": [
              "<span style=\"color:blue\"> |-max_value: 64</span>"
            ],
            "text/plain": [
              "<IPython.core.display.HTML object>"
            ]
          },
          "metadata": {
            "tags": []
          }
        },
        {
          "output_type": "display_data",
          "data": {
            "text/html": [
              "<span style=\"color:cyan\"> |-min_value: 8</span>"
            ],
            "text/plain": [
              "<IPython.core.display.HTML object>"
            ]
          },
          "metadata": {
            "tags": []
          }
        },
        {
          "output_type": "display_data",
          "data": {
            "text/html": [
              "<span style=\"color:blue\"> |-sampling: None</span>"
            ],
            "text/plain": [
              "<IPython.core.display.HTML object>"
            ]
          },
          "metadata": {
            "tags": []
          }
        },
        {
          "output_type": "display_data",
          "data": {
            "text/html": [
              "<span style=\"color:cyan\"> |-step: 8</span>"
            ],
            "text/plain": [
              "<IPython.core.display.HTML object>"
            ]
          },
          "metadata": {
            "tags": []
          }
        },
        {
          "output_type": "display_data",
          "data": {
            "text/html": [
              "<span style=\"color:#7E57C2\"><h2 style=\"font-size:16px\">units_3 (Int)</h2></span>"
            ],
            "text/plain": [
              "<IPython.core.display.HTML object>"
            ]
          },
          "metadata": {
            "tags": []
          }
        },
        {
          "output_type": "display_data",
          "data": {
            "text/html": [
              "<span style=\"color:cyan\"> |-default: None</span>"
            ],
            "text/plain": [
              "<IPython.core.display.HTML object>"
            ]
          },
          "metadata": {
            "tags": []
          }
        },
        {
          "output_type": "display_data",
          "data": {
            "text/html": [
              "<span style=\"color:blue\"> |-max_value: 64</span>"
            ],
            "text/plain": [
              "<IPython.core.display.HTML object>"
            ]
          },
          "metadata": {
            "tags": []
          }
        },
        {
          "output_type": "display_data",
          "data": {
            "text/html": [
              "<span style=\"color:cyan\"> |-min_value: 8</span>"
            ],
            "text/plain": [
              "<IPython.core.display.HTML object>"
            ]
          },
          "metadata": {
            "tags": []
          }
        },
        {
          "output_type": "display_data",
          "data": {
            "text/html": [
              "<span style=\"color:blue\"> |-sampling: None</span>"
            ],
            "text/plain": [
              "<IPython.core.display.HTML object>"
            ]
          },
          "metadata": {
            "tags": []
          }
        },
        {
          "output_type": "display_data",
          "data": {
            "text/html": [
              "<span style=\"color:cyan\"> |-step: 8</span>"
            ],
            "text/plain": [
              "<IPython.core.display.HTML object>"
            ]
          },
          "metadata": {
            "tags": []
          }
        }
      ]
    },
    {
      "cell_type": "code",
      "metadata": {
        "id": "cql5CDIgOjQT",
        "colab_type": "code",
        "colab": {
          "base_uri": "https://localhost:8080/",
          "height": 1000
        },
        "outputId": "1ba54fb1-be42-4dce-e7fd-172fe102c1f6"
      },
      "source": [
        "tuner_hb.search(X_train, y_train, epochs=5, validation_data=(X_test, y_test))"
      ],
      "execution_count": 18,
      "outputs": [
        {
          "output_type": "stream",
          "text": [
            "Epoch 1/2\n",
            "2500/2500 [==============================] - 6s 2ms/step - loss: 2.4144 - accuracy: 0.0987 - val_loss: 2.3045 - val_accuracy: 0.1014\n",
            "Epoch 2/2\n",
            "2500/2500 [==============================] - 6s 2ms/step - loss: 2.3041 - accuracy: 0.1003 - val_loss: 2.3042 - val_accuracy: 0.1033\n"
          ],
          "name": "stdout"
        },
        {
          "output_type": "display_data",
          "data": {
            "text/html": [
              "<span style=\"color:#4527A0\"><h1 style=\"font-size:18px\">Trial complete</h1></span>"
            ],
            "text/plain": [
              "<IPython.core.display.HTML object>"
            ]
          },
          "metadata": {
            "tags": []
          }
        },
        {
          "output_type": "display_data",
          "data": {
            "text/html": [
              "<span style=\"color:#4527A0\"><h1 style=\"font-size:18px\">Trial summary</h1></span>"
            ],
            "text/plain": [
              "<IPython.core.display.HTML object>"
            ]
          },
          "metadata": {
            "tags": []
          }
        },
        {
          "output_type": "display_data",
          "data": {
            "text/html": [
              "<span style=\"color:cyan\"> |-Trial ID: f1b4e113e3e902b7690d3bd7976320a6</span>"
            ],
            "text/plain": [
              "<IPython.core.display.HTML object>"
            ]
          },
          "metadata": {
            "tags": []
          }
        },
        {
          "output_type": "display_data",
          "data": {
            "text/html": [
              "<span style=\"color:cyan\"> |-Score: 0.10329999774694443</span>"
            ],
            "text/plain": [
              "<IPython.core.display.HTML object>"
            ]
          },
          "metadata": {
            "tags": []
          }
        },
        {
          "output_type": "display_data",
          "data": {
            "text/html": [
              "<span style=\"color:cyan\"> |-Best step: 0</span>"
            ],
            "text/plain": [
              "<IPython.core.display.HTML object>"
            ]
          },
          "metadata": {
            "tags": []
          }
        },
        {
          "output_type": "display_data",
          "data": {
            "text/html": [
              "<span style=\"color:#7E57C2\"><h2 style=\"font-size:16px\">Hyperparameters:</h2></span>"
            ],
            "text/plain": [
              "<IPython.core.display.HTML object>"
            ]
          },
          "metadata": {
            "tags": []
          }
        },
        {
          "output_type": "display_data",
          "data": {
            "text/html": [
              "<span style=\"color:cyan\"> |-activationfn: relu</span>"
            ],
            "text/plain": [
              "<IPython.core.display.HTML object>"
            ]
          },
          "metadata": {
            "tags": []
          }
        },
        {
          "output_type": "display_data",
          "data": {
            "text/html": [
              "<span style=\"color:blue\"> |-lrate: 0.01</span>"
            ],
            "text/plain": [
              "<IPython.core.display.HTML object>"
            ]
          },
          "metadata": {
            "tags": []
          }
        },
        {
          "output_type": "display_data",
          "data": {
            "text/html": [
              "<span style=\"color:cyan\"> |-tuner/bracket: 1</span>"
            ],
            "text/plain": [
              "<IPython.core.display.HTML object>"
            ]
          },
          "metadata": {
            "tags": []
          }
        },
        {
          "output_type": "display_data",
          "data": {
            "text/html": [
              "<span style=\"color:blue\"> |-tuner/epochs: 2</span>"
            ],
            "text/plain": [
              "<IPython.core.display.HTML object>"
            ]
          },
          "metadata": {
            "tags": []
          }
        },
        {
          "output_type": "display_data",
          "data": {
            "text/html": [
              "<span style=\"color:cyan\"> |-tuner/initial_epoch: 0</span>"
            ],
            "text/plain": [
              "<IPython.core.display.HTML object>"
            ]
          },
          "metadata": {
            "tags": []
          }
        },
        {
          "output_type": "display_data",
          "data": {
            "text/html": [
              "<span style=\"color:blue\"> |-tuner/round: 0</span>"
            ],
            "text/plain": [
              "<IPython.core.display.HTML object>"
            ]
          },
          "metadata": {
            "tags": []
          }
        },
        {
          "output_type": "display_data",
          "data": {
            "text/html": [
              "<span style=\"color:cyan\"> |-units_1: 128</span>"
            ],
            "text/plain": [
              "<IPython.core.display.HTML object>"
            ]
          },
          "metadata": {
            "tags": []
          }
        },
        {
          "output_type": "display_data",
          "data": {
            "text/html": [
              "<span style=\"color:blue\"> |-units_2: 24</span>"
            ],
            "text/plain": [
              "<IPython.core.display.HTML object>"
            ]
          },
          "metadata": {
            "tags": []
          }
        },
        {
          "output_type": "display_data",
          "data": {
            "text/html": [
              "<span style=\"color:cyan\"> |-units_3: 32</span>"
            ],
            "text/plain": [
              "<IPython.core.display.HTML object>"
            ]
          },
          "metadata": {
            "tags": []
          }
        },
        {
          "output_type": "stream",
          "text": [
            "Epoch 1/2\n",
            "2500/2500 [==============================] - 5s 2ms/step - loss: 2.4606 - accuracy: 0.1591 - val_loss: 1.7741 - val_accuracy: 0.3076\n",
            "Epoch 2/2\n",
            "2500/2500 [==============================] - 5s 2ms/step - loss: 1.7791 - accuracy: 0.3154 - val_loss: 1.9851 - val_accuracy: 0.2465\n"
          ],
          "name": "stdout"
        },
        {
          "output_type": "display_data",
          "data": {
            "text/html": [
              "<span style=\"color:#4527A0\"><h1 style=\"font-size:18px\">Trial complete</h1></span>"
            ],
            "text/plain": [
              "<IPython.core.display.HTML object>"
            ]
          },
          "metadata": {
            "tags": []
          }
        },
        {
          "output_type": "display_data",
          "data": {
            "text/html": [
              "<span style=\"color:#4527A0\"><h1 style=\"font-size:18px\">Trial summary</h1></span>"
            ],
            "text/plain": [
              "<IPython.core.display.HTML object>"
            ]
          },
          "metadata": {
            "tags": []
          }
        },
        {
          "output_type": "display_data",
          "data": {
            "text/html": [
              "<span style=\"color:cyan\"> |-Trial ID: b20e16a1e51610701f4ed30e48b82283</span>"
            ],
            "text/plain": [
              "<IPython.core.display.HTML object>"
            ]
          },
          "metadata": {
            "tags": []
          }
        },
        {
          "output_type": "display_data",
          "data": {
            "text/html": [
              "<span style=\"color:cyan\"> |-Score: 0.30764999985694885</span>"
            ],
            "text/plain": [
              "<IPython.core.display.HTML object>"
            ]
          },
          "metadata": {
            "tags": []
          }
        },
        {
          "output_type": "display_data",
          "data": {
            "text/html": [
              "<span style=\"color:cyan\"> |-Best step: 0</span>"
            ],
            "text/plain": [
              "<IPython.core.display.HTML object>"
            ]
          },
          "metadata": {
            "tags": []
          }
        },
        {
          "output_type": "display_data",
          "data": {
            "text/html": [
              "<span style=\"color:#7E57C2\"><h2 style=\"font-size:16px\">Hyperparameters:</h2></span>"
            ],
            "text/plain": [
              "<IPython.core.display.HTML object>"
            ]
          },
          "metadata": {
            "tags": []
          }
        },
        {
          "output_type": "display_data",
          "data": {
            "text/html": [
              "<span style=\"color:cyan\"> |-activationfn: relu</span>"
            ],
            "text/plain": [
              "<IPython.core.display.HTML object>"
            ]
          },
          "metadata": {
            "tags": []
          }
        },
        {
          "output_type": "display_data",
          "data": {
            "text/html": [
              "<span style=\"color:blue\"> |-lrate: 0.01</span>"
            ],
            "text/plain": [
              "<IPython.core.display.HTML object>"
            ]
          },
          "metadata": {
            "tags": []
          }
        },
        {
          "output_type": "display_data",
          "data": {
            "text/html": [
              "<span style=\"color:cyan\"> |-tuner/bracket: 1</span>"
            ],
            "text/plain": [
              "<IPython.core.display.HTML object>"
            ]
          },
          "metadata": {
            "tags": []
          }
        },
        {
          "output_type": "display_data",
          "data": {
            "text/html": [
              "<span style=\"color:blue\"> |-tuner/epochs: 2</span>"
            ],
            "text/plain": [
              "<IPython.core.display.HTML object>"
            ]
          },
          "metadata": {
            "tags": []
          }
        },
        {
          "output_type": "display_data",
          "data": {
            "text/html": [
              "<span style=\"color:cyan\"> |-tuner/initial_epoch: 0</span>"
            ],
            "text/plain": [
              "<IPython.core.display.HTML object>"
            ]
          },
          "metadata": {
            "tags": []
          }
        },
        {
          "output_type": "display_data",
          "data": {
            "text/html": [
              "<span style=\"color:blue\"> |-tuner/round: 0</span>"
            ],
            "text/plain": [
              "<IPython.core.display.HTML object>"
            ]
          },
          "metadata": {
            "tags": []
          }
        },
        {
          "output_type": "display_data",
          "data": {
            "text/html": [
              "<span style=\"color:cyan\"> |-units_1: 64</span>"
            ],
            "text/plain": [
              "<IPython.core.display.HTML object>"
            ]
          },
          "metadata": {
            "tags": []
          }
        },
        {
          "output_type": "display_data",
          "data": {
            "text/html": [
              "<span style=\"color:blue\"> |-units_2: 40</span>"
            ],
            "text/plain": [
              "<IPython.core.display.HTML object>"
            ]
          },
          "metadata": {
            "tags": []
          }
        },
        {
          "output_type": "display_data",
          "data": {
            "text/html": [
              "<span style=\"color:cyan\"> |-units_3: 16</span>"
            ],
            "text/plain": [
              "<IPython.core.display.HTML object>"
            ]
          },
          "metadata": {
            "tags": []
          }
        },
        {
          "output_type": "stream",
          "text": [
            "Epoch 1/2\n",
            "2500/2500 [==============================] - 5s 2ms/step - loss: 1.8963 - accuracy: 0.4676 - val_loss: 1.5312 - val_accuracy: 0.6213\n",
            "Epoch 2/2\n",
            "2500/2500 [==============================] - 5s 2ms/step - loss: 1.3055 - accuracy: 0.6639 - val_loss: 1.1376 - val_accuracy: 0.6920\n"
          ],
          "name": "stdout"
        },
        {
          "output_type": "display_data",
          "data": {
            "text/html": [
              "<span style=\"color:#4527A0\"><h1 style=\"font-size:18px\">Trial complete</h1></span>"
            ],
            "text/plain": [
              "<IPython.core.display.HTML object>"
            ]
          },
          "metadata": {
            "tags": []
          }
        },
        {
          "output_type": "display_data",
          "data": {
            "text/html": [
              "<span style=\"color:#4527A0\"><h1 style=\"font-size:18px\">Trial summary</h1></span>"
            ],
            "text/plain": [
              "<IPython.core.display.HTML object>"
            ]
          },
          "metadata": {
            "tags": []
          }
        },
        {
          "output_type": "display_data",
          "data": {
            "text/html": [
              "<span style=\"color:cyan\"> |-Trial ID: 0d048d2eb59bffaa0138657e5624119d</span>"
            ],
            "text/plain": [
              "<IPython.core.display.HTML object>"
            ]
          },
          "metadata": {
            "tags": []
          }
        },
        {
          "output_type": "display_data",
          "data": {
            "text/html": [
              "<span style=\"color:cyan\"> |-Score: 0.6919999718666077</span>"
            ],
            "text/plain": [
              "<IPython.core.display.HTML object>"
            ]
          },
          "metadata": {
            "tags": []
          }
        },
        {
          "output_type": "display_data",
          "data": {
            "text/html": [
              "<span style=\"color:cyan\"> |-Best step: 0</span>"
            ],
            "text/plain": [
              "<IPython.core.display.HTML object>"
            ]
          },
          "metadata": {
            "tags": []
          }
        },
        {
          "output_type": "display_data",
          "data": {
            "text/html": [
              "<span style=\"color:#7E57C2\"><h2 style=\"font-size:16px\">Hyperparameters:</h2></span>"
            ],
            "text/plain": [
              "<IPython.core.display.HTML object>"
            ]
          },
          "metadata": {
            "tags": []
          }
        },
        {
          "output_type": "display_data",
          "data": {
            "text/html": [
              "<span style=\"color:cyan\"> |-activationfn: sigmoid</span>"
            ],
            "text/plain": [
              "<IPython.core.display.HTML object>"
            ]
          },
          "metadata": {
            "tags": []
          }
        },
        {
          "output_type": "display_data",
          "data": {
            "text/html": [
              "<span style=\"color:blue\"> |-lrate: 0.0001</span>"
            ],
            "text/plain": [
              "<IPython.core.display.HTML object>"
            ]
          },
          "metadata": {
            "tags": []
          }
        },
        {
          "output_type": "display_data",
          "data": {
            "text/html": [
              "<span style=\"color:cyan\"> |-tuner/bracket: 1</span>"
            ],
            "text/plain": [
              "<IPython.core.display.HTML object>"
            ]
          },
          "metadata": {
            "tags": []
          }
        },
        {
          "output_type": "display_data",
          "data": {
            "text/html": [
              "<span style=\"color:blue\"> |-tuner/epochs: 2</span>"
            ],
            "text/plain": [
              "<IPython.core.display.HTML object>"
            ]
          },
          "metadata": {
            "tags": []
          }
        },
        {
          "output_type": "display_data",
          "data": {
            "text/html": [
              "<span style=\"color:cyan\"> |-tuner/initial_epoch: 0</span>"
            ],
            "text/plain": [
              "<IPython.core.display.HTML object>"
            ]
          },
          "metadata": {
            "tags": []
          }
        },
        {
          "output_type": "display_data",
          "data": {
            "text/html": [
              "<span style=\"color:blue\"> |-tuner/round: 0</span>"
            ],
            "text/plain": [
              "<IPython.core.display.HTML object>"
            ]
          },
          "metadata": {
            "tags": []
          }
        },
        {
          "output_type": "display_data",
          "data": {
            "text/html": [
              "<span style=\"color:cyan\"> |-units_1: 64</span>"
            ],
            "text/plain": [
              "<IPython.core.display.HTML object>"
            ]
          },
          "metadata": {
            "tags": []
          }
        },
        {
          "output_type": "display_data",
          "data": {
            "text/html": [
              "<span style=\"color:blue\"> |-units_2: 32</span>"
            ],
            "text/plain": [
              "<IPython.core.display.HTML object>"
            ]
          },
          "metadata": {
            "tags": []
          }
        },
        {
          "output_type": "display_data",
          "data": {
            "text/html": [
              "<span style=\"color:cyan\"> |-units_3: 40</span>"
            ],
            "text/plain": [
              "<IPython.core.display.HTML object>"
            ]
          },
          "metadata": {
            "tags": []
          }
        },
        {
          "output_type": "stream",
          "text": [
            "Epoch 1/2\n",
            "2500/2500 [==============================] - 6s 2ms/step - loss: 1.3643 - accuracy: 0.5407 - val_loss: 1.1243 - val_accuracy: 0.6266\n",
            "Epoch 2/2\n",
            "2500/2500 [==============================] - 6s 2ms/step - loss: 1.0554 - accuracy: 0.6533 - val_loss: 0.9999 - val_accuracy: 0.6895\n"
          ],
          "name": "stdout"
        },
        {
          "output_type": "display_data",
          "data": {
            "text/html": [
              "<span style=\"color:#4527A0\"><h1 style=\"font-size:18px\">Trial complete</h1></span>"
            ],
            "text/plain": [
              "<IPython.core.display.HTML object>"
            ]
          },
          "metadata": {
            "tags": []
          }
        },
        {
          "output_type": "display_data",
          "data": {
            "text/html": [
              "<span style=\"color:#4527A0\"><h1 style=\"font-size:18px\">Trial summary</h1></span>"
            ],
            "text/plain": [
              "<IPython.core.display.HTML object>"
            ]
          },
          "metadata": {
            "tags": []
          }
        },
        {
          "output_type": "display_data",
          "data": {
            "text/html": [
              "<span style=\"color:cyan\"> |-Trial ID: 9e06d4f93496d533d65796b6551aa3fb</span>"
            ],
            "text/plain": [
              "<IPython.core.display.HTML object>"
            ]
          },
          "metadata": {
            "tags": []
          }
        },
        {
          "output_type": "display_data",
          "data": {
            "text/html": [
              "<span style=\"color:cyan\"> |-Score: 0.68954998254776</span>"
            ],
            "text/plain": [
              "<IPython.core.display.HTML object>"
            ]
          },
          "metadata": {
            "tags": []
          }
        },
        {
          "output_type": "display_data",
          "data": {
            "text/html": [
              "<span style=\"color:cyan\"> |-Best step: 0</span>"
            ],
            "text/plain": [
              "<IPython.core.display.HTML object>"
            ]
          },
          "metadata": {
            "tags": []
          }
        },
        {
          "output_type": "display_data",
          "data": {
            "text/html": [
              "<span style=\"color:#7E57C2\"><h2 style=\"font-size:16px\">Hyperparameters:</h2></span>"
            ],
            "text/plain": [
              "<IPython.core.display.HTML object>"
            ]
          },
          "metadata": {
            "tags": []
          }
        },
        {
          "output_type": "display_data",
          "data": {
            "text/html": [
              "<span style=\"color:cyan\"> |-activationfn: sigmoid</span>"
            ],
            "text/plain": [
              "<IPython.core.display.HTML object>"
            ]
          },
          "metadata": {
            "tags": []
          }
        },
        {
          "output_type": "display_data",
          "data": {
            "text/html": [
              "<span style=\"color:blue\"> |-lrate: 0.001</span>"
            ],
            "text/plain": [
              "<IPython.core.display.HTML object>"
            ]
          },
          "metadata": {
            "tags": []
          }
        },
        {
          "output_type": "display_data",
          "data": {
            "text/html": [
              "<span style=\"color:cyan\"> |-tuner/bracket: 1</span>"
            ],
            "text/plain": [
              "<IPython.core.display.HTML object>"
            ]
          },
          "metadata": {
            "tags": []
          }
        },
        {
          "output_type": "display_data",
          "data": {
            "text/html": [
              "<span style=\"color:blue\"> |-tuner/epochs: 2</span>"
            ],
            "text/plain": [
              "<IPython.core.display.HTML object>"
            ]
          },
          "metadata": {
            "tags": []
          }
        },
        {
          "output_type": "display_data",
          "data": {
            "text/html": [
              "<span style=\"color:cyan\"> |-tuner/initial_epoch: 0</span>"
            ],
            "text/plain": [
              "<IPython.core.display.HTML object>"
            ]
          },
          "metadata": {
            "tags": []
          }
        },
        {
          "output_type": "display_data",
          "data": {
            "text/html": [
              "<span style=\"color:blue\"> |-tuner/round: 0</span>"
            ],
            "text/plain": [
              "<IPython.core.display.HTML object>"
            ]
          },
          "metadata": {
            "tags": []
          }
        },
        {
          "output_type": "display_data",
          "data": {
            "text/html": [
              "<span style=\"color:cyan\"> |-units_1: 96</span>"
            ],
            "text/plain": [
              "<IPython.core.display.HTML object>"
            ]
          },
          "metadata": {
            "tags": []
          }
        },
        {
          "output_type": "display_data",
          "data": {
            "text/html": [
              "<span style=\"color:blue\"> |-units_2: 32</span>"
            ],
            "text/plain": [
              "<IPython.core.display.HTML object>"
            ]
          },
          "metadata": {
            "tags": []
          }
        },
        {
          "output_type": "display_data",
          "data": {
            "text/html": [
              "<span style=\"color:cyan\"> |-units_3: 40</span>"
            ],
            "text/plain": [
              "<IPython.core.display.HTML object>"
            ]
          },
          "metadata": {
            "tags": []
          }
        },
        {
          "output_type": "stream",
          "text": [
            "Epoch 1/2\n",
            "2500/2500 [==============================] - 6s 2ms/step - loss: 1.9457 - accuracy: 0.4457 - val_loss: 1.6446 - val_accuracy: 0.5642\n",
            "Epoch 2/2\n",
            "2500/2500 [==============================] - 6s 2ms/step - loss: 1.4357 - accuracy: 0.6171 - val_loss: 1.2624 - val_accuracy: 0.6583\n"
          ],
          "name": "stdout"
        },
        {
          "output_type": "display_data",
          "data": {
            "text/html": [
              "<span style=\"color:#4527A0\"><h1 style=\"font-size:18px\">Trial complete</h1></span>"
            ],
            "text/plain": [
              "<IPython.core.display.HTML object>"
            ]
          },
          "metadata": {
            "tags": []
          }
        },
        {
          "output_type": "display_data",
          "data": {
            "text/html": [
              "<span style=\"color:#4527A0\"><h1 style=\"font-size:18px\">Trial summary</h1></span>"
            ],
            "text/plain": [
              "<IPython.core.display.HTML object>"
            ]
          },
          "metadata": {
            "tags": []
          }
        },
        {
          "output_type": "display_data",
          "data": {
            "text/html": [
              "<span style=\"color:cyan\"> |-Trial ID: 96d69b7a0e6585c46cd7024fc5dcf857</span>"
            ],
            "text/plain": [
              "<IPython.core.display.HTML object>"
            ]
          },
          "metadata": {
            "tags": []
          }
        },
        {
          "output_type": "display_data",
          "data": {
            "text/html": [
              "<span style=\"color:cyan\"> |-Score: 0.6583499908447266</span>"
            ],
            "text/plain": [
              "<IPython.core.display.HTML object>"
            ]
          },
          "metadata": {
            "tags": []
          }
        },
        {
          "output_type": "display_data",
          "data": {
            "text/html": [
              "<span style=\"color:cyan\"> |-Best step: 0</span>"
            ],
            "text/plain": [
              "<IPython.core.display.HTML object>"
            ]
          },
          "metadata": {
            "tags": []
          }
        },
        {
          "output_type": "display_data",
          "data": {
            "text/html": [
              "<span style=\"color:#7E57C2\"><h2 style=\"font-size:16px\">Hyperparameters:</h2></span>"
            ],
            "text/plain": [
              "<IPython.core.display.HTML object>"
            ]
          },
          "metadata": {
            "tags": []
          }
        },
        {
          "output_type": "display_data",
          "data": {
            "text/html": [
              "<span style=\"color:cyan\"> |-activationfn: sigmoid</span>"
            ],
            "text/plain": [
              "<IPython.core.display.HTML object>"
            ]
          },
          "metadata": {
            "tags": []
          }
        },
        {
          "output_type": "display_data",
          "data": {
            "text/html": [
              "<span style=\"color:blue\"> |-lrate: 0.0001</span>"
            ],
            "text/plain": [
              "<IPython.core.display.HTML object>"
            ]
          },
          "metadata": {
            "tags": []
          }
        },
        {
          "output_type": "display_data",
          "data": {
            "text/html": [
              "<span style=\"color:cyan\"> |-tuner/bracket: 1</span>"
            ],
            "text/plain": [
              "<IPython.core.display.HTML object>"
            ]
          },
          "metadata": {
            "tags": []
          }
        },
        {
          "output_type": "display_data",
          "data": {
            "text/html": [
              "<span style=\"color:blue\"> |-tuner/epochs: 2</span>"
            ],
            "text/plain": [
              "<IPython.core.display.HTML object>"
            ]
          },
          "metadata": {
            "tags": []
          }
        },
        {
          "output_type": "display_data",
          "data": {
            "text/html": [
              "<span style=\"color:cyan\"> |-tuner/initial_epoch: 0</span>"
            ],
            "text/plain": [
              "<IPython.core.display.HTML object>"
            ]
          },
          "metadata": {
            "tags": []
          }
        },
        {
          "output_type": "display_data",
          "data": {
            "text/html": [
              "<span style=\"color:blue\"> |-tuner/round: 0</span>"
            ],
            "text/plain": [
              "<IPython.core.display.HTML object>"
            ]
          },
          "metadata": {
            "tags": []
          }
        },
        {
          "output_type": "display_data",
          "data": {
            "text/html": [
              "<span style=\"color:cyan\"> |-units_1: 96</span>"
            ],
            "text/plain": [
              "<IPython.core.display.HTML object>"
            ]
          },
          "metadata": {
            "tags": []
          }
        },
        {
          "output_type": "display_data",
          "data": {
            "text/html": [
              "<span style=\"color:blue\"> |-units_2: 24</span>"
            ],
            "text/plain": [
              "<IPython.core.display.HTML object>"
            ]
          },
          "metadata": {
            "tags": []
          }
        },
        {
          "output_type": "display_data",
          "data": {
            "text/html": [
              "<span style=\"color:cyan\"> |-units_3: 32</span>"
            ],
            "text/plain": [
              "<IPython.core.display.HTML object>"
            ]
          },
          "metadata": {
            "tags": []
          }
        },
        {
          "output_type": "stream",
          "text": [
            "Epoch 3/5\n",
            "2500/2500 [==============================] - 5s 2ms/step - loss: 1.9407 - accuracy: 0.4503 - val_loss: 1.5828 - val_accuracy: 0.6053\n",
            "Epoch 4/5\n",
            "2500/2500 [==============================] - 5s 2ms/step - loss: 1.3519 - accuracy: 0.6505 - val_loss: 1.1833 - val_accuracy: 0.6858\n",
            "Epoch 5/5\n",
            "2500/2500 [==============================] - 5s 2ms/step - loss: 1.0635 - accuracy: 0.7105 - val_loss: 0.9813 - val_accuracy: 0.7242\n"
          ],
          "name": "stdout"
        },
        {
          "output_type": "display_data",
          "data": {
            "text/html": [
              "<span style=\"color:#4527A0\"><h1 style=\"font-size:18px\">Trial complete</h1></span>"
            ],
            "text/plain": [
              "<IPython.core.display.HTML object>"
            ]
          },
          "metadata": {
            "tags": []
          }
        },
        {
          "output_type": "display_data",
          "data": {
            "text/html": [
              "<span style=\"color:#4527A0\"><h1 style=\"font-size:18px\">Trial summary</h1></span>"
            ],
            "text/plain": [
              "<IPython.core.display.HTML object>"
            ]
          },
          "metadata": {
            "tags": []
          }
        },
        {
          "output_type": "display_data",
          "data": {
            "text/html": [
              "<span style=\"color:cyan\"> |-Trial ID: 8c09d18f8916814a5cc04e71941490ca</span>"
            ],
            "text/plain": [
              "<IPython.core.display.HTML object>"
            ]
          },
          "metadata": {
            "tags": []
          }
        },
        {
          "output_type": "display_data",
          "data": {
            "text/html": [
              "<span style=\"color:cyan\"> |-Score: 0.7241500020027161</span>"
            ],
            "text/plain": [
              "<IPython.core.display.HTML object>"
            ]
          },
          "metadata": {
            "tags": []
          }
        },
        {
          "output_type": "display_data",
          "data": {
            "text/html": [
              "<span style=\"color:cyan\"> |-Best step: 0</span>"
            ],
            "text/plain": [
              "<IPython.core.display.HTML object>"
            ]
          },
          "metadata": {
            "tags": []
          }
        },
        {
          "output_type": "display_data",
          "data": {
            "text/html": [
              "<span style=\"color:#7E57C2\"><h2 style=\"font-size:16px\">Hyperparameters:</h2></span>"
            ],
            "text/plain": [
              "<IPython.core.display.HTML object>"
            ]
          },
          "metadata": {
            "tags": []
          }
        },
        {
          "output_type": "display_data",
          "data": {
            "text/html": [
              "<span style=\"color:cyan\"> |-activationfn: sigmoid</span>"
            ],
            "text/plain": [
              "<IPython.core.display.HTML object>"
            ]
          },
          "metadata": {
            "tags": []
          }
        },
        {
          "output_type": "display_data",
          "data": {
            "text/html": [
              "<span style=\"color:blue\"> |-lrate: 0.0001</span>"
            ],
            "text/plain": [
              "<IPython.core.display.HTML object>"
            ]
          },
          "metadata": {
            "tags": []
          }
        },
        {
          "output_type": "display_data",
          "data": {
            "text/html": [
              "<span style=\"color:cyan\"> |-tuner/bracket: 1</span>"
            ],
            "text/plain": [
              "<IPython.core.display.HTML object>"
            ]
          },
          "metadata": {
            "tags": []
          }
        },
        {
          "output_type": "display_data",
          "data": {
            "text/html": [
              "<span style=\"color:blue\"> |-tuner/epochs: 5</span>"
            ],
            "text/plain": [
              "<IPython.core.display.HTML object>"
            ]
          },
          "metadata": {
            "tags": []
          }
        },
        {
          "output_type": "display_data",
          "data": {
            "text/html": [
              "<span style=\"color:cyan\"> |-tuner/initial_epoch: 2</span>"
            ],
            "text/plain": [
              "<IPython.core.display.HTML object>"
            ]
          },
          "metadata": {
            "tags": []
          }
        },
        {
          "output_type": "display_data",
          "data": {
            "text/html": [
              "<span style=\"color:blue\"> |-tuner/round: 1</span>"
            ],
            "text/plain": [
              "<IPython.core.display.HTML object>"
            ]
          },
          "metadata": {
            "tags": []
          }
        },
        {
          "output_type": "display_data",
          "data": {
            "text/html": [
              "<span style=\"color:cyan\"> |-tuner/trial_id: 0d048d2eb59bffaa0138657e5624119d</span>"
            ],
            "text/plain": [
              "<IPython.core.display.HTML object>"
            ]
          },
          "metadata": {
            "tags": []
          }
        },
        {
          "output_type": "display_data",
          "data": {
            "text/html": [
              "<span style=\"color:blue\"> |-units_1: 64</span>"
            ],
            "text/plain": [
              "<IPython.core.display.HTML object>"
            ]
          },
          "metadata": {
            "tags": []
          }
        },
        {
          "output_type": "display_data",
          "data": {
            "text/html": [
              "<span style=\"color:cyan\"> |-units_2: 32</span>"
            ],
            "text/plain": [
              "<IPython.core.display.HTML object>"
            ]
          },
          "metadata": {
            "tags": []
          }
        },
        {
          "output_type": "display_data",
          "data": {
            "text/html": [
              "<span style=\"color:blue\"> |-units_3: 40</span>"
            ],
            "text/plain": [
              "<IPython.core.display.HTML object>"
            ]
          },
          "metadata": {
            "tags": []
          }
        },
        {
          "output_type": "stream",
          "text": [
            "Epoch 3/5\n",
            "2500/2500 [==============================] - 6s 2ms/step - loss: 1.2929 - accuracy: 0.5850 - val_loss: 1.0961 - val_accuracy: 0.6298\n",
            "Epoch 4/5\n",
            "2500/2500 [==============================] - 6s 2ms/step - loss: 0.9965 - accuracy: 0.6783 - val_loss: 0.9959 - val_accuracy: 0.6909\n",
            "Epoch 5/5\n",
            "2500/2500 [==============================] - 5s 2ms/step - loss: 0.9432 - accuracy: 0.6978 - val_loss: 0.9523 - val_accuracy: 0.7019\n"
          ],
          "name": "stdout"
        },
        {
          "output_type": "display_data",
          "data": {
            "text/html": [
              "<span style=\"color:#4527A0\"><h1 style=\"font-size:18px\">Trial complete</h1></span>"
            ],
            "text/plain": [
              "<IPython.core.display.HTML object>"
            ]
          },
          "metadata": {
            "tags": []
          }
        },
        {
          "output_type": "display_data",
          "data": {
            "text/html": [
              "<span style=\"color:#4527A0\"><h1 style=\"font-size:18px\">Trial summary</h1></span>"
            ],
            "text/plain": [
              "<IPython.core.display.HTML object>"
            ]
          },
          "metadata": {
            "tags": []
          }
        },
        {
          "output_type": "display_data",
          "data": {
            "text/html": [
              "<span style=\"color:cyan\"> |-Trial ID: 1c44392e3178e348a054b748622ce857</span>"
            ],
            "text/plain": [
              "<IPython.core.display.HTML object>"
            ]
          },
          "metadata": {
            "tags": []
          }
        },
        {
          "output_type": "display_data",
          "data": {
            "text/html": [
              "<span style=\"color:cyan\"> |-Score: 0.7019000053405762</span>"
            ],
            "text/plain": [
              "<IPython.core.display.HTML object>"
            ]
          },
          "metadata": {
            "tags": []
          }
        },
        {
          "output_type": "display_data",
          "data": {
            "text/html": [
              "<span style=\"color:cyan\"> |-Best step: 0</span>"
            ],
            "text/plain": [
              "<IPython.core.display.HTML object>"
            ]
          },
          "metadata": {
            "tags": []
          }
        },
        {
          "output_type": "display_data",
          "data": {
            "text/html": [
              "<span style=\"color:#7E57C2\"><h2 style=\"font-size:16px\">Hyperparameters:</h2></span>"
            ],
            "text/plain": [
              "<IPython.core.display.HTML object>"
            ]
          },
          "metadata": {
            "tags": []
          }
        },
        {
          "output_type": "display_data",
          "data": {
            "text/html": [
              "<span style=\"color:cyan\"> |-activationfn: sigmoid</span>"
            ],
            "text/plain": [
              "<IPython.core.display.HTML object>"
            ]
          },
          "metadata": {
            "tags": []
          }
        },
        {
          "output_type": "display_data",
          "data": {
            "text/html": [
              "<span style=\"color:blue\"> |-lrate: 0.001</span>"
            ],
            "text/plain": [
              "<IPython.core.display.HTML object>"
            ]
          },
          "metadata": {
            "tags": []
          }
        },
        {
          "output_type": "display_data",
          "data": {
            "text/html": [
              "<span style=\"color:cyan\"> |-tuner/bracket: 1</span>"
            ],
            "text/plain": [
              "<IPython.core.display.HTML object>"
            ]
          },
          "metadata": {
            "tags": []
          }
        },
        {
          "output_type": "display_data",
          "data": {
            "text/html": [
              "<span style=\"color:blue\"> |-tuner/epochs: 5</span>"
            ],
            "text/plain": [
              "<IPython.core.display.HTML object>"
            ]
          },
          "metadata": {
            "tags": []
          }
        },
        {
          "output_type": "display_data",
          "data": {
            "text/html": [
              "<span style=\"color:cyan\"> |-tuner/initial_epoch: 2</span>"
            ],
            "text/plain": [
              "<IPython.core.display.HTML object>"
            ]
          },
          "metadata": {
            "tags": []
          }
        },
        {
          "output_type": "display_data",
          "data": {
            "text/html": [
              "<span style=\"color:blue\"> |-tuner/round: 1</span>"
            ],
            "text/plain": [
              "<IPython.core.display.HTML object>"
            ]
          },
          "metadata": {
            "tags": []
          }
        },
        {
          "output_type": "display_data",
          "data": {
            "text/html": [
              "<span style=\"color:cyan\"> |-tuner/trial_id: 9e06d4f93496d533d65796b6551aa3fb</span>"
            ],
            "text/plain": [
              "<IPython.core.display.HTML object>"
            ]
          },
          "metadata": {
            "tags": []
          }
        },
        {
          "output_type": "display_data",
          "data": {
            "text/html": [
              "<span style=\"color:blue\"> |-units_1: 96</span>"
            ],
            "text/plain": [
              "<IPython.core.display.HTML object>"
            ]
          },
          "metadata": {
            "tags": []
          }
        },
        {
          "output_type": "display_data",
          "data": {
            "text/html": [
              "<span style=\"color:cyan\"> |-units_2: 32</span>"
            ],
            "text/plain": [
              "<IPython.core.display.HTML object>"
            ]
          },
          "metadata": {
            "tags": []
          }
        },
        {
          "output_type": "display_data",
          "data": {
            "text/html": [
              "<span style=\"color:blue\"> |-units_3: 40</span>"
            ],
            "text/plain": [
              "<IPython.core.display.HTML object>"
            ]
          },
          "metadata": {
            "tags": []
          }
        },
        {
          "output_type": "stream",
          "text": [
            "Epoch 1/5\n",
            "2500/2500 [==============================] - 6s 2ms/step - loss: 1.4926 - accuracy: 0.4969 - val_loss: 1.1559 - val_accuracy: 0.6207\n",
            "Epoch 2/5\n",
            "2500/2500 [==============================] - 6s 2ms/step - loss: 1.0346 - accuracy: 0.6652 - val_loss: 0.9543 - val_accuracy: 0.6970\n",
            "Epoch 3/5\n",
            "2500/2500 [==============================] - 6s 2ms/step - loss: 0.9046 - accuracy: 0.7116 - val_loss: 0.8873 - val_accuracy: 0.7172\n",
            "Epoch 4/5\n",
            "2500/2500 [==============================] - 6s 2ms/step - loss: 0.8427 - accuracy: 0.7345 - val_loss: 0.8237 - val_accuracy: 0.7430\n",
            "Epoch 5/5\n",
            "2500/2500 [==============================] - 6s 2ms/step - loss: 0.7995 - accuracy: 0.7503 - val_loss: 0.8043 - val_accuracy: 0.7452\n"
          ],
          "name": "stdout"
        },
        {
          "output_type": "display_data",
          "data": {
            "text/html": [
              "<span style=\"color:#4527A0\"><h1 style=\"font-size:18px\">Trial complete</h1></span>"
            ],
            "text/plain": [
              "<IPython.core.display.HTML object>"
            ]
          },
          "metadata": {
            "tags": []
          }
        },
        {
          "output_type": "display_data",
          "data": {
            "text/html": [
              "<span style=\"color:#4527A0\"><h1 style=\"font-size:18px\">Trial summary</h1></span>"
            ],
            "text/plain": [
              "<IPython.core.display.HTML object>"
            ]
          },
          "metadata": {
            "tags": []
          }
        },
        {
          "output_type": "display_data",
          "data": {
            "text/html": [
              "<span style=\"color:cyan\"> |-Trial ID: 77afb45e6de142211bc6759cb4fe6e9e</span>"
            ],
            "text/plain": [
              "<IPython.core.display.HTML object>"
            ]
          },
          "metadata": {
            "tags": []
          }
        },
        {
          "output_type": "display_data",
          "data": {
            "text/html": [
              "<span style=\"color:cyan\"> |-Score: 0.7452499866485596</span>"
            ],
            "text/plain": [
              "<IPython.core.display.HTML object>"
            ]
          },
          "metadata": {
            "tags": []
          }
        },
        {
          "output_type": "display_data",
          "data": {
            "text/html": [
              "<span style=\"color:cyan\"> |-Best step: 0</span>"
            ],
            "text/plain": [
              "<IPython.core.display.HTML object>"
            ]
          },
          "metadata": {
            "tags": []
          }
        },
        {
          "output_type": "display_data",
          "data": {
            "text/html": [
              "<span style=\"color:#7E57C2\"><h2 style=\"font-size:16px\">Hyperparameters:</h2></span>"
            ],
            "text/plain": [
              "<IPython.core.display.HTML object>"
            ]
          },
          "metadata": {
            "tags": []
          }
        },
        {
          "output_type": "display_data",
          "data": {
            "text/html": [
              "<span style=\"color:cyan\"> |-activationfn: tanh</span>"
            ],
            "text/plain": [
              "<IPython.core.display.HTML object>"
            ]
          },
          "metadata": {
            "tags": []
          }
        },
        {
          "output_type": "display_data",
          "data": {
            "text/html": [
              "<span style=\"color:blue\"> |-lrate: 0.0001</span>"
            ],
            "text/plain": [
              "<IPython.core.display.HTML object>"
            ]
          },
          "metadata": {
            "tags": []
          }
        },
        {
          "output_type": "display_data",
          "data": {
            "text/html": [
              "<span style=\"color:cyan\"> |-tuner/bracket: 0</span>"
            ],
            "text/plain": [
              "<IPython.core.display.HTML object>"
            ]
          },
          "metadata": {
            "tags": []
          }
        },
        {
          "output_type": "display_data",
          "data": {
            "text/html": [
              "<span style=\"color:blue\"> |-tuner/epochs: 5</span>"
            ],
            "text/plain": [
              "<IPython.core.display.HTML object>"
            ]
          },
          "metadata": {
            "tags": []
          }
        },
        {
          "output_type": "display_data",
          "data": {
            "text/html": [
              "<span style=\"color:cyan\"> |-tuner/initial_epoch: 0</span>"
            ],
            "text/plain": [
              "<IPython.core.display.HTML object>"
            ]
          },
          "metadata": {
            "tags": []
          }
        },
        {
          "output_type": "display_data",
          "data": {
            "text/html": [
              "<span style=\"color:blue\"> |-tuner/round: 0</span>"
            ],
            "text/plain": [
              "<IPython.core.display.HTML object>"
            ]
          },
          "metadata": {
            "tags": []
          }
        },
        {
          "output_type": "display_data",
          "data": {
            "text/html": [
              "<span style=\"color:cyan\"> |-units_1: 96</span>"
            ],
            "text/plain": [
              "<IPython.core.display.HTML object>"
            ]
          },
          "metadata": {
            "tags": []
          }
        },
        {
          "output_type": "display_data",
          "data": {
            "text/html": [
              "<span style=\"color:blue\"> |-units_2: 56</span>"
            ],
            "text/plain": [
              "<IPython.core.display.HTML object>"
            ]
          },
          "metadata": {
            "tags": []
          }
        },
        {
          "output_type": "display_data",
          "data": {
            "text/html": [
              "<span style=\"color:cyan\"> |-units_3: 48</span>"
            ],
            "text/plain": [
              "<IPython.core.display.HTML object>"
            ]
          },
          "metadata": {
            "tags": []
          }
        },
        {
          "output_type": "stream",
          "text": [
            "Epoch 1/5\n",
            "2500/2500 [==============================] - 4s 2ms/step - loss: 5.3217 - accuracy: 0.3071 - val_loss: 1.7276 - val_accuracy: 0.4069\n",
            "Epoch 2/5\n",
            "2500/2500 [==============================] - 5s 2ms/step - loss: 1.5417 - accuracy: 0.4539 - val_loss: 1.3923 - val_accuracy: 0.5066\n",
            "Epoch 3/5\n",
            "2500/2500 [==============================] - 4s 2ms/step - loss: 1.2840 - accuracy: 0.5362 - val_loss: 1.2251 - val_accuracy: 0.5771\n",
            "Epoch 4/5\n",
            "2500/2500 [==============================] - 4s 2ms/step - loss: 1.1382 - accuracy: 0.5964 - val_loss: 1.1224 - val_accuracy: 0.6101\n",
            "Epoch 5/5\n",
            "2500/2500 [==============================] - 4s 2ms/step - loss: 1.0466 - accuracy: 0.6371 - val_loss: 1.0608 - val_accuracy: 0.6460\n"
          ],
          "name": "stdout"
        },
        {
          "output_type": "display_data",
          "data": {
            "text/html": [
              "<span style=\"color:#4527A0\"><h1 style=\"font-size:18px\">Trial complete</h1></span>"
            ],
            "text/plain": [
              "<IPython.core.display.HTML object>"
            ]
          },
          "metadata": {
            "tags": []
          }
        },
        {
          "output_type": "display_data",
          "data": {
            "text/html": [
              "<span style=\"color:#4527A0\"><h1 style=\"font-size:18px\">Trial summary</h1></span>"
            ],
            "text/plain": [
              "<IPython.core.display.HTML object>"
            ]
          },
          "metadata": {
            "tags": []
          }
        },
        {
          "output_type": "display_data",
          "data": {
            "text/html": [
              "<span style=\"color:cyan\"> |-Trial ID: e4923b055c701679bedb927c4f9a1bcf</span>"
            ],
            "text/plain": [
              "<IPython.core.display.HTML object>"
            ]
          },
          "metadata": {
            "tags": []
          }
        },
        {
          "output_type": "display_data",
          "data": {
            "text/html": [
              "<span style=\"color:cyan\"> |-Score: 0.646049976348877</span>"
            ],
            "text/plain": [
              "<IPython.core.display.HTML object>"
            ]
          },
          "metadata": {
            "tags": []
          }
        },
        {
          "output_type": "display_data",
          "data": {
            "text/html": [
              "<span style=\"color:cyan\"> |-Best step: 0</span>"
            ],
            "text/plain": [
              "<IPython.core.display.HTML object>"
            ]
          },
          "metadata": {
            "tags": []
          }
        },
        {
          "output_type": "display_data",
          "data": {
            "text/html": [
              "<span style=\"color:#7E57C2\"><h2 style=\"font-size:16px\">Hyperparameters:</h2></span>"
            ],
            "text/plain": [
              "<IPython.core.display.HTML object>"
            ]
          },
          "metadata": {
            "tags": []
          }
        },
        {
          "output_type": "display_data",
          "data": {
            "text/html": [
              "<span style=\"color:cyan\"> |-activationfn: relu</span>"
            ],
            "text/plain": [
              "<IPython.core.display.HTML object>"
            ]
          },
          "metadata": {
            "tags": []
          }
        },
        {
          "output_type": "display_data",
          "data": {
            "text/html": [
              "<span style=\"color:blue\"> |-lrate: 0.0001</span>"
            ],
            "text/plain": [
              "<IPython.core.display.HTML object>"
            ]
          },
          "metadata": {
            "tags": []
          }
        },
        {
          "output_type": "display_data",
          "data": {
            "text/html": [
              "<span style=\"color:cyan\"> |-tuner/bracket: 0</span>"
            ],
            "text/plain": [
              "<IPython.core.display.HTML object>"
            ]
          },
          "metadata": {
            "tags": []
          }
        },
        {
          "output_type": "display_data",
          "data": {
            "text/html": [
              "<span style=\"color:blue\"> |-tuner/epochs: 5</span>"
            ],
            "text/plain": [
              "<IPython.core.display.HTML object>"
            ]
          },
          "metadata": {
            "tags": []
          }
        },
        {
          "output_type": "display_data",
          "data": {
            "text/html": [
              "<span style=\"color:cyan\"> |-tuner/initial_epoch: 0</span>"
            ],
            "text/plain": [
              "<IPython.core.display.HTML object>"
            ]
          },
          "metadata": {
            "tags": []
          }
        },
        {
          "output_type": "display_data",
          "data": {
            "text/html": [
              "<span style=\"color:blue\"> |-tuner/round: 0</span>"
            ],
            "text/plain": [
              "<IPython.core.display.HTML object>"
            ]
          },
          "metadata": {
            "tags": []
          }
        },
        {
          "output_type": "display_data",
          "data": {
            "text/html": [
              "<span style=\"color:cyan\"> |-units_1: 32</span>"
            ],
            "text/plain": [
              "<IPython.core.display.HTML object>"
            ]
          },
          "metadata": {
            "tags": []
          }
        },
        {
          "output_type": "display_data",
          "data": {
            "text/html": [
              "<span style=\"color:blue\"> |-units_2: 32</span>"
            ],
            "text/plain": [
              "<IPython.core.display.HTML object>"
            ]
          },
          "metadata": {
            "tags": []
          }
        },
        {
          "output_type": "display_data",
          "data": {
            "text/html": [
              "<span style=\"color:cyan\"> |-units_3: 32</span>"
            ],
            "text/plain": [
              "<IPython.core.display.HTML object>"
            ]
          },
          "metadata": {
            "tags": []
          }
        },
        {
          "output_type": "stream",
          "text": [
            "Epoch 1/5\n",
            "2500/2500 [==============================] - 6s 2ms/step - loss: 1.7812 - accuracy: 0.3093 - val_loss: 1.6587 - val_accuracy: 0.4119\n",
            "Epoch 2/5\n",
            "2500/2500 [==============================] - 6s 2ms/step - loss: 1.6409 - accuracy: 0.3873 - val_loss: 1.7407 - val_accuracy: 0.3380\n",
            "Epoch 3/5\n",
            "2500/2500 [==============================] - 6s 2ms/step - loss: 1.6315 - accuracy: 0.3758 - val_loss: 1.5662 - val_accuracy: 0.4170\n",
            "Epoch 4/5\n",
            "2500/2500 [==============================] - 6s 2ms/step - loss: 1.5529 - accuracy: 0.4104 - val_loss: 1.6680 - val_accuracy: 0.3739\n",
            "Epoch 5/5\n",
            "2500/2500 [==============================] - 6s 2ms/step - loss: 1.6872 - accuracy: 0.3716 - val_loss: 1.7278 - val_accuracy: 0.3386\n"
          ],
          "name": "stdout"
        },
        {
          "output_type": "display_data",
          "data": {
            "text/html": [
              "<span style=\"color:#4527A0\"><h1 style=\"font-size:18px\">Trial complete</h1></span>"
            ],
            "text/plain": [
              "<IPython.core.display.HTML object>"
            ]
          },
          "metadata": {
            "tags": []
          }
        },
        {
          "output_type": "display_data",
          "data": {
            "text/html": [
              "<span style=\"color:#4527A0\"><h1 style=\"font-size:18px\">Trial summary</h1></span>"
            ],
            "text/plain": [
              "<IPython.core.display.HTML object>"
            ]
          },
          "metadata": {
            "tags": []
          }
        },
        {
          "output_type": "display_data",
          "data": {
            "text/html": [
              "<span style=\"color:cyan\"> |-Trial ID: 5accfc659dde0ebe10543486834a7a2f</span>"
            ],
            "text/plain": [
              "<IPython.core.display.HTML object>"
            ]
          },
          "metadata": {
            "tags": []
          }
        },
        {
          "output_type": "display_data",
          "data": {
            "text/html": [
              "<span style=\"color:cyan\"> |-Score: 0.4169999957084656</span>"
            ],
            "text/plain": [
              "<IPython.core.display.HTML object>"
            ]
          },
          "metadata": {
            "tags": []
          }
        },
        {
          "output_type": "display_data",
          "data": {
            "text/html": [
              "<span style=\"color:cyan\"> |-Best step: 0</span>"
            ],
            "text/plain": [
              "<IPython.core.display.HTML object>"
            ]
          },
          "metadata": {
            "tags": []
          }
        },
        {
          "output_type": "display_data",
          "data": {
            "text/html": [
              "<span style=\"color:#7E57C2\"><h2 style=\"font-size:16px\">Hyperparameters:</h2></span>"
            ],
            "text/plain": [
              "<IPython.core.display.HTML object>"
            ]
          },
          "metadata": {
            "tags": []
          }
        },
        {
          "output_type": "display_data",
          "data": {
            "text/html": [
              "<span style=\"color:cyan\"> |-activationfn: tanh</span>"
            ],
            "text/plain": [
              "<IPython.core.display.HTML object>"
            ]
          },
          "metadata": {
            "tags": []
          }
        },
        {
          "output_type": "display_data",
          "data": {
            "text/html": [
              "<span style=\"color:blue\"> |-lrate: 0.001</span>"
            ],
            "text/plain": [
              "<IPython.core.display.HTML object>"
            ]
          },
          "metadata": {
            "tags": []
          }
        },
        {
          "output_type": "display_data",
          "data": {
            "text/html": [
              "<span style=\"color:cyan\"> |-tuner/bracket: 0</span>"
            ],
            "text/plain": [
              "<IPython.core.display.HTML object>"
            ]
          },
          "metadata": {
            "tags": []
          }
        },
        {
          "output_type": "display_data",
          "data": {
            "text/html": [
              "<span style=\"color:blue\"> |-tuner/epochs: 5</span>"
            ],
            "text/plain": [
              "<IPython.core.display.HTML object>"
            ]
          },
          "metadata": {
            "tags": []
          }
        },
        {
          "output_type": "display_data",
          "data": {
            "text/html": [
              "<span style=\"color:cyan\"> |-tuner/initial_epoch: 0</span>"
            ],
            "text/plain": [
              "<IPython.core.display.HTML object>"
            ]
          },
          "metadata": {
            "tags": []
          }
        },
        {
          "output_type": "display_data",
          "data": {
            "text/html": [
              "<span style=\"color:blue\"> |-tuner/round: 0</span>"
            ],
            "text/plain": [
              "<IPython.core.display.HTML object>"
            ]
          },
          "metadata": {
            "tags": []
          }
        },
        {
          "output_type": "display_data",
          "data": {
            "text/html": [
              "<span style=\"color:cyan\"> |-units_1: 128</span>"
            ],
            "text/plain": [
              "<IPython.core.display.HTML object>"
            ]
          },
          "metadata": {
            "tags": []
          }
        },
        {
          "output_type": "display_data",
          "data": {
            "text/html": [
              "<span style=\"color:blue\"> |-units_2: 8</span>"
            ],
            "text/plain": [
              "<IPython.core.display.HTML object>"
            ]
          },
          "metadata": {
            "tags": []
          }
        },
        {
          "output_type": "display_data",
          "data": {
            "text/html": [
              "<span style=\"color:cyan\"> |-units_3: 48</span>"
            ],
            "text/plain": [
              "<IPython.core.display.HTML object>"
            ]
          },
          "metadata": {
            "tags": []
          }
        },
        {
          "output_type": "stream",
          "text": [
            "INFO:tensorflow:Oracle triggered exit\n"
          ],
          "name": "stdout"
        }
      ]
    },
    {
      "cell_type": "code",
      "metadata": {
        "id": "TzFJGdRQO396",
        "colab_type": "code",
        "colab": {
          "base_uri": "https://localhost:8080/",
          "height": 170
        },
        "outputId": "4755120d-10d4-40a7-9f50-f3e21674b4c7"
      },
      "source": [
        "tuner_hb.get_best_hyperparameters(num_trials=1)[0].values"
      ],
      "execution_count": 19,
      "outputs": [
        {
          "output_type": "execute_result",
          "data": {
            "text/plain": [
              "{'activationfn': 'tanh',\n",
              " 'lrate': 0.0001,\n",
              " 'tuner/bracket': 0,\n",
              " 'tuner/epochs': 5,\n",
              " 'tuner/initial_epoch': 0,\n",
              " 'tuner/round': 0,\n",
              " 'units_1': 96,\n",
              " 'units_2': 56,\n",
              " 'units_3': 48}"
            ]
          },
          "metadata": {
            "tags": []
          },
          "execution_count": 19
        }
      ]
    },
    {
      "cell_type": "code",
      "metadata": {
        "id": "Cd-14OjJuggA",
        "colab_type": "code",
        "colab": {
          "base_uri": "https://localhost:8080/",
          "height": 88
        },
        "outputId": "8f44449b-2369-4d5b-d084-42a5289a46f7"
      },
      "source": [
        "# Evaluate the best model.\n",
        "print(\"best accuracy: \", tuner_hb.get_best_models()[0].evaluate(X_test, y_test)[1])\n",
        "print(\"best parameters\", tuner_hb.get_best_hyperparameters(num_trials=1)[0].values)"
      ],
      "execution_count": 20,
      "outputs": [
        {
          "output_type": "stream",
          "text": [
            "625/625 [==============================] - 1s 1ms/step - loss: 0.8043 - accuracy: 0.7452\n",
            "best accuracy:  0.7452499866485596\n",
            "best parameters {'units_1': 96, 'lrate': 0.0001, 'activationfn': 'tanh', 'units_2': 56, 'units_3': 48, 'tuner/epochs': 5, 'tuner/initial_epoch': 0, 'tuner/bracket': 0, 'tuner/round': 0}\n"
          ],
          "name": "stdout"
        }
      ]
    },
    {
      "cell_type": "markdown",
      "metadata": {
        "id": "lV5AuZtovh-m",
        "colab_type": "text"
      },
      "source": [
        "### While Hyperbrand runs faster, RandomSearch tuner does a better job in finding the optimum hyper parameters."
      ]
    },
    {
      "cell_type": "markdown",
      "metadata": {
        "id": "4622ntlN6aRY",
        "colab_type": "text"
      },
      "source": [
        "### Experiment Tracking Framework using tensorboard"
      ]
    },
    {
      "cell_type": "code",
      "metadata": {
        "id": "qv_apjAW6Zzw",
        "colab_type": "code",
        "colab": {}
      },
      "source": [
        "# Load an ipython extension\n",
        "%load_ext tensorboard"
      ],
      "execution_count": 12,
      "outputs": []
    },
    {
      "cell_type": "code",
      "metadata": {
        "id": "KDiM1ImZ6lAz",
        "colab_type": "code",
        "colab": {}
      },
      "source": [
        "import tensorflow as tf\n",
        "from tensorboard.plugins.hparams import api as hp\n",
        "\n",
        "import os\n",
        "import datetime"
      ],
      "execution_count": 13,
      "outputs": []
    },
    {
      "cell_type": "code",
      "metadata": {
        "id": "lmqpRBZh6w80",
        "colab_type": "code",
        "colab": {}
      },
      "source": [
        "# Define hyper parametres and score metrics\n",
        "HP_NUM_UNITS1 = hp.HParam('num_units1', hp.Discrete([32,64]))\n",
        "HP_NUM_UNITS2 = hp.HParam('num_units2', hp.Discrete([8,32]))\n",
        "\n",
        "HP_LEARNING_RATE = hp.HParam('learning_rate', hp.RealInterval(0.001,.005))\n",
        "HP_OPTIMIZER = hp.HParam('optimizer', hp.Discrete(['adam']))\n",
        "HP_ACTIVATION = hp.HParam('actfn', hp.Discrete(['relu', 'sigmoid']))\n",
        "\n",
        "METRIC_ACCURACY = 'accuracy'\n",
        "\n",
        "with tf.summary.create_file_writer('logs/hparam_tuning').as_default():\n",
        "  hp.hparams_config(\n",
        "      hparams=[HP_NUM_UNITS1,HP_NUM_UNITS2, HP_LEARNING_RATE, HP_OPTIMIZER],\n",
        "      metrics=[hp.Metric(METRIC_ACCURACY, display_name='Accuracy')]\n",
        "  )"
      ],
      "execution_count": 20,
      "outputs": []
    },
    {
      "cell_type": "code",
      "metadata": {
        "id": "esUF6rIO76ay",
        "colab_type": "code",
        "colab": {}
      },
      "source": [
        "# Adapt Model Function with HParams\n",
        "def train_test_model(hparams):\n",
        "  \n",
        "  model = tf.keras.Sequential(\n",
        "      [layers.Dense(units=hparams[HP_NUM_UNITS1], input_dim=784, activation='relu'),\n",
        "       layers.Dense(units=hparams[HP_NUM_UNITS2], activation=hparams[HP_ACTIVATION]),\n",
        "       layers.Dense(10, activation='softmax')\n",
        "       ])\n",
        "\n",
        "  # Optimizer need the learning rate\n",
        "  opt_name = hparams[HP_OPTIMIZER]\n",
        "  lr = hparams[HP_LEARNING_RATE]\n",
        "\n",
        "  if opt_name == 'adam':\n",
        "    opt = tf.keras.optimizers.Adam(learning_rate=lr)\n",
        "  elif opt_name == 'sgd':\n",
        "    opt = tf.keras.optimizers.SGD(learning_rate=lr)\n",
        "  else:\n",
        "    raise ValueError(f'Unexpected optimizer: {opt_name}')\n",
        "\n",
        "  # Compile defines optimizer, loss function and metric\n",
        "  model.compile(\n",
        "      optimizer=opt,\n",
        "      loss='sparse_categorical_crossentropy',\n",
        "      metrics=['accuracy']\n",
        "  )\n",
        "\n",
        "  model.fit(X_train, y_train, epochs=5)\n",
        "  _, accuracy = model.evaluate(X_test, y_test)\n",
        "\n",
        "  return accuracy"
      ],
      "execution_count": 21,
      "outputs": []
    },
    {
      "cell_type": "code",
      "metadata": {
        "id": "zpOBql84-7V5",
        "colab_type": "code",
        "colab": {}
      },
      "source": [
        "# For each run, log an hparams set and final accuracy\n",
        "def run(run_dir, hparams):\n",
        "  with tf.summary.create_file_writer(run_dir).as_default():\n",
        "    # .hparams is a method of hp\n",
        "    hp.hparams(hparams)  # record the values used in this trial\n",
        "    accuracy = train_test_model(hparams)\n",
        "    tf.summary.scalar(METRIC_ACCURACY, accuracy, step=1)"
      ],
      "execution_count": 25,
      "outputs": []
    },
    {
      "cell_type": "code",
      "metadata": {
        "id": "yhpOMV0l_OTn",
        "colab_type": "code",
        "colab": {
          "base_uri": "https://localhost:8080/",
          "height": 1000
        },
        "outputId": "0f6acc90-b67f-44c2-9578-f874e3e81096"
      },
      "source": [
        "# Loop over parameters to create unique params set\n",
        "session_num = 0\n",
        "\n",
        "# Basically a grid search\n",
        "for num_units1 in HP_NUM_UNITS1.domain.values:\n",
        "  for num_units2 in HP_NUM_UNITS2.domain.values:\n",
        "    for learning_rate in (HP_LEARNING_RATE.domain.min_value, HP_LEARNING_RATE.domain.max_value):\n",
        "      for activation in HP_ACTIVATION.domain.values:\n",
        "        for optimizer in HP_OPTIMIZER.domain.values:\n",
        "          # create a dict eith key of type hp.HParam and unique values , grid search\n",
        "          hparams = {\n",
        "            HP_NUM_UNITS1: num_units1,\n",
        "            HP_NUM_UNITS2: num_units2,\n",
        "            HP_LEARNING_RATE: learning_rate,\n",
        "            HP_ACTIVATION: activation,\n",
        "            HP_OPTIMIZER: optimizer\n",
        "            }\n",
        "\n",
        "          run_name = f'run-{session_num}'\n",
        "          print(f'--- Starting trial: {run_name}')\n",
        "          # type(param): <class 'tensorboard.plugins.hparams.summary_v2.HParam'>\n",
        "          # param: <HParam 'num_units1': {32,64,128}>\n",
        "          #  param.name: num_units1\n",
        "          print({param.name: hparams[param] for param in hparams})\n",
        "          run('logs/hparams_tuning/' + run_name, hparams)\n",
        "          session_num += 1"
      ],
      "execution_count": 24,
      "outputs": [
        {
          "output_type": "stream",
          "text": [
            "--- Starting trial: run-0\n",
            "{'num_units1': 32, 'num_units2': 8, 'learning_rate': 0.001, 'actfn': 'linear', 'optimizer': 'adam'}\n",
            "Epoch 1/5\n",
            "2500/2500 [==============================] - 4s 2ms/step - loss: 2.7428 - accuracy: 0.3351\n",
            "Epoch 2/5\n",
            "2500/2500 [==============================] - 4s 2ms/step - loss: 1.4422 - accuracy: 0.4659\n",
            "Epoch 3/5\n",
            "2500/2500 [==============================] - 4s 2ms/step - loss: 1.1362 - accuracy: 0.6009\n",
            "Epoch 4/5\n",
            "2500/2500 [==============================] - 4s 2ms/step - loss: 0.9959 - accuracy: 0.6632\n",
            "Epoch 5/5\n",
            "2500/2500 [==============================] - 4s 2ms/step - loss: 0.9485 - accuracy: 0.6855\n",
            "625/625 [==============================] - 1s 1ms/step - loss: 0.9682 - accuracy: 0.7005\n",
            "--- Starting trial: run-1\n",
            "{'num_units1': 32, 'num_units2': 8, 'learning_rate': 0.001, 'actfn': 'linear', 'optimizer': 'sgd'}\n",
            "Epoch 1/5\n",
            "2500/2500 [==============================] - 3s 1ms/step - loss: 2.2101 - accuracy: 0.2773\n",
            "Epoch 2/5\n",
            "2500/2500 [==============================] - 3s 1ms/step - loss: 1.6366 - accuracy: 0.3932\n",
            "Epoch 3/5\n",
            "2500/2500 [==============================] - 3s 1ms/step - loss: 1.4991 - accuracy: 0.4612\n",
            "Epoch 4/5\n",
            "2500/2500 [==============================] - 3s 1ms/step - loss: 1.4034 - accuracy: 0.4979\n",
            "Epoch 5/5\n",
            "2500/2500 [==============================] - 3s 1ms/step - loss: 1.3289 - accuracy: 0.5250\n",
            "625/625 [==============================] - 1s 1ms/step - loss: 1.3198 - accuracy: 0.5526\n",
            "--- Starting trial: run-2\n",
            "{'num_units1': 32, 'num_units2': 8, 'learning_rate': 0.001, 'actfn': 'relu', 'optimizer': 'adam'}\n",
            "Epoch 1/5\n",
            "2500/2500 [==============================] - 4s 2ms/step - loss: 2.3855 - accuracy: 0.1001\n",
            "Epoch 2/5\n",
            "2500/2500 [==============================] - 4s 2ms/step - loss: 2.3028 - accuracy: 0.0994\n",
            "Epoch 3/5\n",
            "2500/2500 [==============================] - 4s 2ms/step - loss: 2.3032 - accuracy: 0.0984\n",
            "Epoch 4/5\n",
            "2500/2500 [==============================] - 4s 2ms/step - loss: 2.3028 - accuracy: 0.1006\n",
            "Epoch 5/5\n",
            "2500/2500 [==============================] - 4s 2ms/step - loss: 2.3028 - accuracy: 0.0992\n",
            "625/625 [==============================] - 1s 1ms/step - loss: 2.3027 - accuracy: 0.0998\n",
            "--- Starting trial: run-3\n",
            "{'num_units1': 32, 'num_units2': 8, 'learning_rate': 0.001, 'actfn': 'relu', 'optimizer': 'sgd'}\n",
            "Epoch 1/5\n",
            "2500/2500 [==============================] - 3s 1ms/step - loss: 2.3452 - accuracy: 0.0971\n",
            "Epoch 2/5\n",
            "2500/2500 [==============================] - 3s 1ms/step - loss: 2.2912 - accuracy: 0.1088\n",
            "Epoch 3/5\n",
            "2500/2500 [==============================] - 3s 1ms/step - loss: 2.1338 - accuracy: 0.1818\n",
            "Epoch 4/5\n",
            "2500/2500 [==============================] - 3s 1ms/step - loss: 2.0901 - accuracy: 0.1924\n",
            "Epoch 5/5\n",
            "2500/2500 [==============================] - 3s 1ms/step - loss: 2.0668 - accuracy: 0.1960\n",
            "625/625 [==============================] - 1s 1ms/step - loss: 2.0705 - accuracy: 0.2025\n",
            "--- Starting trial: run-4\n",
            "{'num_units1': 32, 'num_units2': 8, 'learning_rate': 0.001, 'actfn': 'sigmoid', 'optimizer': 'adam'}\n",
            "Epoch 1/5\n",
            "2500/2500 [==============================] - 4s 2ms/step - loss: 1.6340 - accuracy: 0.4540\n",
            "Epoch 2/5\n",
            "2500/2500 [==============================] - 4s 2ms/step - loss: 1.2219 - accuracy: 0.5791\n",
            "Epoch 3/5\n",
            "2500/2500 [==============================] - 4s 2ms/step - loss: 1.1446 - accuracy: 0.6074\n",
            "Epoch 4/5\n",
            "2500/2500 [==============================] - 4s 2ms/step - loss: 1.1187 - accuracy: 0.6198\n",
            "Epoch 5/5\n",
            "2500/2500 [==============================] - 4s 2ms/step - loss: 1.1159 - accuracy: 0.6240\n",
            "625/625 [==============================] - 1s 1ms/step - loss: 1.0705 - accuracy: 0.6354\n",
            "--- Starting trial: run-5\n",
            "{'num_units1': 32, 'num_units2': 8, 'learning_rate': 0.001, 'actfn': 'sigmoid', 'optimizer': 'sgd'}\n",
            "Epoch 1/5\n",
            "2500/2500 [==============================] - 3s 1ms/step - loss: 2.0584 - accuracy: 0.3087\n",
            "Epoch 2/5\n",
            "2500/2500 [==============================] - 3s 1ms/step - loss: 1.8255 - accuracy: 0.4464\n",
            "Epoch 3/5\n",
            "2500/2500 [==============================] - 3s 1ms/step - loss: 1.7062 - accuracy: 0.5276\n",
            "Epoch 4/5\n",
            "2500/2500 [==============================] - 3s 1ms/step - loss: 1.6005 - accuracy: 0.5438\n",
            "Epoch 5/5\n",
            "2500/2500 [==============================] - 3s 1ms/step - loss: 1.5100 - accuracy: 0.5758\n",
            "625/625 [==============================] - 1s 1ms/step - loss: 1.4724 - accuracy: 0.5919\n",
            "--- Starting trial: run-6\n",
            "{'num_units1': 32, 'num_units2': 8, 'learning_rate': 0.005, 'actfn': 'linear', 'optimizer': 'adam'}\n",
            "Epoch 1/5\n",
            "2500/2500 [==============================] - 4s 2ms/step - loss: 2.1609 - accuracy: 0.2943\n",
            "Epoch 2/5\n",
            "2500/2500 [==============================] - 4s 2ms/step - loss: 1.7000 - accuracy: 0.3520\n",
            "Epoch 3/5\n",
            "2500/2500 [==============================] - 4s 2ms/step - loss: 1.5358 - accuracy: 0.4054\n",
            "Epoch 4/5\n",
            "2500/2500 [==============================] - 4s 2ms/step - loss: 1.4052 - accuracy: 0.4580\n",
            "Epoch 5/5\n",
            "2500/2500 [==============================] - 4s 2ms/step - loss: 1.3783 - accuracy: 0.4665\n",
            "625/625 [==============================] - 1s 1ms/step - loss: 1.3661 - accuracy: 0.4841\n",
            "--- Starting trial: run-7\n",
            "{'num_units1': 32, 'num_units2': 8, 'learning_rate': 0.005, 'actfn': 'linear', 'optimizer': 'sgd'}\n",
            "Epoch 1/5\n",
            "2500/2500 [==============================] - 4s 1ms/step - loss: 3.4239 - accuracy: 0.0992\n",
            "Epoch 2/5\n",
            "2500/2500 [==============================] - 3s 1ms/step - loss: 2.3029 - accuracy: 0.0994\n",
            "Epoch 3/5\n",
            "2500/2500 [==============================] - 3s 1ms/step - loss: 2.3028 - accuracy: 0.0982\n",
            "Epoch 4/5\n",
            "2500/2500 [==============================] - 3s 1ms/step - loss: 2.3027 - accuracy: 0.1000\n",
            "Epoch 5/5\n",
            "2500/2500 [==============================] - 3s 1ms/step - loss: 2.3026 - accuracy: 0.0994\n",
            "625/625 [==============================] - 1s 1ms/step - loss: 2.3085 - accuracy: 0.1023\n",
            "--- Starting trial: run-8\n",
            "{'num_units1': 32, 'num_units2': 8, 'learning_rate': 0.005, 'actfn': 'relu', 'optimizer': 'adam'}\n",
            "Epoch 1/5\n",
            "2500/2500 [==============================] - 4s 2ms/step - loss: 2.3461 - accuracy: 0.0982\n",
            "Epoch 2/5\n",
            "2500/2500 [==============================] - 4s 2ms/step - loss: 2.3033 - accuracy: 0.1006\n",
            "Epoch 3/5\n",
            "2500/2500 [==============================] - 4s 2ms/step - loss: 2.3033 - accuracy: 0.0997\n",
            "Epoch 4/5\n",
            "2500/2500 [==============================] - 4s 2ms/step - loss: 2.3032 - accuracy: 0.0989\n",
            "Epoch 5/5\n",
            "2500/2500 [==============================] - 4s 2ms/step - loss: 2.3032 - accuracy: 0.1015\n",
            "625/625 [==============================] - 1s 1ms/step - loss: 2.3034 - accuracy: 0.0980\n",
            "--- Starting trial: run-9\n",
            "{'num_units1': 32, 'num_units2': 8, 'learning_rate': 0.005, 'actfn': 'relu', 'optimizer': 'sgd'}\n",
            "Epoch 1/5\n",
            "2500/2500 [==============================] - 3s 1ms/step - loss: 2.4109 - accuracy: 0.1027\n",
            "Epoch 2/5\n",
            "2500/2500 [==============================] - 4s 1ms/step - loss: 2.2839 - accuracy: 0.1104\n",
            "Epoch 3/5\n",
            "2500/2500 [==============================] - 4s 1ms/step - loss: 2.2643 - accuracy: 0.1194\n",
            "Epoch 4/5\n",
            "2500/2500 [==============================] - 3s 1ms/step - loss: 2.2254 - accuracy: 0.1364\n",
            "Epoch 5/5\n",
            "2500/2500 [==============================] - 4s 1ms/step - loss: 2.1853 - accuracy: 0.1546\n",
            "625/625 [==============================] - 1s 1ms/step - loss: 2.1584 - accuracy: 0.1602\n",
            "--- Starting trial: run-10\n",
            "{'num_units1': 32, 'num_units2': 8, 'learning_rate': 0.005, 'actfn': 'sigmoid', 'optimizer': 'adam'}\n",
            "Epoch 1/5\n",
            "2500/2500 [==============================] - 4s 2ms/step - loss: 2.0582 - accuracy: 0.2011\n",
            "Epoch 2/5\n",
            "2500/2500 [==============================] - 4s 2ms/step - loss: 1.7188 - accuracy: 0.3483\n",
            "Epoch 3/5\n",
            "2500/2500 [==============================] - 4s 2ms/step - loss: 1.8051 - accuracy: 0.2956\n",
            "Epoch 4/5\n",
            "2500/2500 [==============================] - 4s 2ms/step - loss: 1.6412 - accuracy: 0.3462\n",
            "Epoch 5/5\n",
            "2500/2500 [==============================] - 4s 2ms/step - loss: 1.6709 - accuracy: 0.3373\n",
            "625/625 [==============================] - 1s 1ms/step - loss: 1.7885 - accuracy: 0.2921\n",
            "--- Starting trial: run-11\n",
            "{'num_units1': 32, 'num_units2': 8, 'learning_rate': 0.005, 'actfn': 'sigmoid', 'optimizer': 'sgd'}\n",
            "Epoch 1/5\n",
            "2500/2500 [==============================] - 4s 1ms/step - loss: 1.9270 - accuracy: 0.3986\n",
            "Epoch 2/5\n",
            "2500/2500 [==============================] - 4s 1ms/step - loss: 1.5985 - accuracy: 0.5289\n",
            "Epoch 3/5\n",
            "2500/2500 [==============================] - 4s 1ms/step - loss: 1.4200 - accuracy: 0.5822\n",
            "Epoch 4/5\n",
            "2500/2500 [==============================] - 4s 1ms/step - loss: 1.3080 - accuracy: 0.6038\n",
            "Epoch 5/5\n",
            "2500/2500 [==============================] - 4s 1ms/step - loss: 1.2186 - accuracy: 0.6222\n",
            "625/625 [==============================] - 1s 1ms/step - loss: 1.1897 - accuracy: 0.6252\n",
            "--- Starting trial: run-12\n",
            "{'num_units1': 32, 'num_units2': 32, 'learning_rate': 0.001, 'actfn': 'linear', 'optimizer': 'adam'}\n",
            "Epoch 1/5\n",
            "2500/2500 [==============================] - 4s 2ms/step - loss: 2.5105 - accuracy: 0.3982\n",
            "Epoch 2/5\n",
            "2500/2500 [==============================] - 4s 2ms/step - loss: 1.3214 - accuracy: 0.5449\n",
            "Epoch 3/5\n",
            "2500/2500 [==============================] - 4s 2ms/step - loss: 1.2097 - accuracy: 0.5956\n",
            "Epoch 4/5\n",
            "2500/2500 [==============================] - 4s 2ms/step - loss: 1.1328 - accuracy: 0.6436\n",
            "Epoch 5/5\n",
            "2500/2500 [==============================] - 4s 2ms/step - loss: 1.0863 - accuracy: 0.6721\n",
            "625/625 [==============================] - 1s 1ms/step - loss: 1.1047 - accuracy: 0.6774\n",
            "--- Starting trial: run-13\n",
            "{'num_units1': 32, 'num_units2': 32, 'learning_rate': 0.001, 'actfn': 'linear', 'optimizer': 'sgd'}\n",
            "Epoch 1/5\n",
            "2500/2500 [==============================] - 4s 1ms/step - loss: 2.4089 - accuracy: 0.1790\n",
            "Epoch 2/5\n",
            "2500/2500 [==============================] - 4s 1ms/step - loss: 1.8527 - accuracy: 0.3334\n",
            "Epoch 3/5\n",
            "2500/2500 [==============================] - 3s 1ms/step - loss: 1.6040 - accuracy: 0.4264\n",
            "Epoch 4/5\n",
            "2500/2500 [==============================] - 3s 1ms/step - loss: 1.4489 - accuracy: 0.4885\n",
            "Epoch 5/5\n",
            "2500/2500 [==============================] - 3s 1ms/step - loss: 1.2805 - accuracy: 0.5588\n",
            "625/625 [==============================] - 1s 1ms/step - loss: 1.2583 - accuracy: 0.5913\n",
            "--- Starting trial: run-14\n",
            "{'num_units1': 32, 'num_units2': 32, 'learning_rate': 0.001, 'actfn': 'relu', 'optimizer': 'adam'}\n",
            "Epoch 1/5\n",
            "2500/2500 [==============================] - 4s 2ms/step - loss: 2.1771 - accuracy: 0.3892\n",
            "Epoch 2/5\n",
            "2500/2500 [==============================] - 4s 2ms/step - loss: 1.2391 - accuracy: 0.5760\n",
            "Epoch 3/5\n",
            "2500/2500 [==============================] - 4s 2ms/step - loss: 1.0689 - accuracy: 0.6506\n",
            "Epoch 4/5\n",
            "2500/2500 [==============================] - 4s 2ms/step - loss: 0.9722 - accuracy: 0.6873\n",
            "Epoch 5/5\n",
            "2500/2500 [==============================] - 4s 2ms/step - loss: 0.9319 - accuracy: 0.7004\n",
            "625/625 [==============================] - 1s 1ms/step - loss: 0.9227 - accuracy: 0.7099\n",
            "--- Starting trial: run-15\n",
            "{'num_units1': 32, 'num_units2': 32, 'learning_rate': 0.001, 'actfn': 'relu', 'optimizer': 'sgd'}\n",
            "Epoch 1/5\n",
            "2500/2500 [==============================] - 3s 1ms/step - loss: 2.0696 - accuracy: 0.3433\n",
            "Epoch 2/5\n",
            "2500/2500 [==============================] - 4s 1ms/step - loss: 1.6043 - accuracy: 0.4510\n",
            "Epoch 3/5\n",
            "2500/2500 [==============================] - 4s 1ms/step - loss: 1.4756 - accuracy: 0.4939\n",
            "Epoch 4/5\n",
            "2500/2500 [==============================] - 4s 1ms/step - loss: 1.3548 - accuracy: 0.5429\n",
            "Epoch 5/5\n",
            "2500/2500 [==============================] - 4s 1ms/step - loss: 1.2065 - accuracy: 0.6094\n",
            "625/625 [==============================] - 1s 1ms/step - loss: 1.2008 - accuracy: 0.6262\n",
            "--- Starting trial: run-16\n",
            "{'num_units1': 32, 'num_units2': 32, 'learning_rate': 0.001, 'actfn': 'sigmoid', 'optimizer': 'adam'}\n",
            "Epoch 1/5\n",
            "2500/2500 [==============================] - 4s 2ms/step - loss: 1.2332 - accuracy: 0.6043\n",
            "Epoch 2/5\n",
            "2500/2500 [==============================] - 4s 2ms/step - loss: 0.9333 - accuracy: 0.7082\n",
            "Epoch 3/5\n",
            "2500/2500 [==============================] - 4s 2ms/step - loss: 0.8992 - accuracy: 0.7188\n",
            "Epoch 4/5\n",
            "2500/2500 [==============================] - 4s 2ms/step - loss: 0.8649 - accuracy: 0.7309\n",
            "Epoch 5/5\n",
            "2500/2500 [==============================] - 4s 2ms/step - loss: 0.8370 - accuracy: 0.7427\n",
            "625/625 [==============================] - 1s 1ms/step - loss: 0.8148 - accuracy: 0.7487\n",
            "--- Starting trial: run-17\n",
            "{'num_units1': 32, 'num_units2': 32, 'learning_rate': 0.001, 'actfn': 'sigmoid', 'optimizer': 'sgd'}\n",
            "Epoch 1/5\n",
            "2500/2500 [==============================] - 4s 1ms/step - loss: 1.9251 - accuracy: 0.3775\n",
            "Epoch 2/5\n",
            "2500/2500 [==============================] - 4s 1ms/step - loss: 1.5467 - accuracy: 0.5631\n",
            "Epoch 3/5\n",
            "2500/2500 [==============================] - 4s 1ms/step - loss: 1.3701 - accuracy: 0.6159\n",
            "Epoch 4/5\n",
            "2500/2500 [==============================] - 4s 1ms/step - loss: 1.2499 - accuracy: 0.6484\n",
            "Epoch 5/5\n",
            "2500/2500 [==============================] - 4s 1ms/step - loss: 1.1579 - accuracy: 0.6714\n",
            "625/625 [==============================] - 1s 1ms/step - loss: 1.1184 - accuracy: 0.6851\n",
            "--- Starting trial: run-18\n",
            "{'num_units1': 32, 'num_units2': 32, 'learning_rate': 0.005, 'actfn': 'linear', 'optimizer': 'adam'}\n",
            "Epoch 1/5\n",
            "2500/2500 [==============================] - 4s 2ms/step - loss: 2.4154 - accuracy: 0.1657\n",
            "Epoch 2/5\n",
            "2500/2500 [==============================] - 4s 2ms/step - loss: 2.1982 - accuracy: 0.1545\n",
            "Epoch 3/5\n",
            "2500/2500 [==============================] - 4s 2ms/step - loss: 2.1902 - accuracy: 0.1548\n",
            "Epoch 4/5\n",
            "2500/2500 [==============================] - 4s 2ms/step - loss: 2.2173 - accuracy: 0.1526\n",
            "Epoch 5/5\n",
            "2500/2500 [==============================] - 4s 2ms/step - loss: 2.1942 - accuracy: 0.1514\n",
            "625/625 [==============================] - 1s 1ms/step - loss: 2.2096 - accuracy: 0.1393\n",
            "--- Starting trial: run-19\n",
            "{'num_units1': 32, 'num_units2': 32, 'learning_rate': 0.005, 'actfn': 'linear', 'optimizer': 'sgd'}\n",
            "Epoch 1/5\n",
            "2500/2500 [==============================] - 4s 1ms/step - loss: 3.2248 - accuracy: 0.0984\n",
            "Epoch 2/5\n",
            "2500/2500 [==============================] - 4s 1ms/step - loss: 2.3163 - accuracy: 0.0991\n",
            "Epoch 3/5\n",
            "2500/2500 [==============================] - 4s 1ms/step - loss: 2.3047 - accuracy: 0.1007\n",
            "Epoch 4/5\n",
            "2500/2500 [==============================] - 4s 1ms/step - loss: 2.3034 - accuracy: 0.0999\n",
            "Epoch 5/5\n",
            "2500/2500 [==============================] - 4s 1ms/step - loss: 2.3028 - accuracy: 0.0981\n",
            "625/625 [==============================] - 1s 1ms/step - loss: 2.3164 - accuracy: 0.1010\n",
            "--- Starting trial: run-20\n",
            "{'num_units1': 32, 'num_units2': 32, 'learning_rate': 0.005, 'actfn': 'relu', 'optimizer': 'adam'}\n",
            "Epoch 1/5\n",
            "2500/2500 [==============================] - 4s 2ms/step - loss: 2.0248 - accuracy: 0.2777\n",
            "Epoch 2/5\n",
            "2500/2500 [==============================] - 4s 2ms/step - loss: 1.6262 - accuracy: 0.3649\n",
            "Epoch 3/5\n",
            "2500/2500 [==============================] - 4s 2ms/step - loss: 1.7053 - accuracy: 0.3302\n",
            "Epoch 4/5\n",
            "2500/2500 [==============================] - 4s 2ms/step - loss: 1.6504 - accuracy: 0.3522\n",
            "Epoch 5/5\n",
            "2500/2500 [==============================] - 4s 2ms/step - loss: 1.6398 - accuracy: 0.3501\n",
            "625/625 [==============================] - 1s 1ms/step - loss: 1.6645 - accuracy: 0.3406\n",
            "--- Starting trial: run-21\n",
            "{'num_units1': 32, 'num_units2': 32, 'learning_rate': 0.005, 'actfn': 'relu', 'optimizer': 'sgd'}\n",
            "Epoch 1/5\n",
            "2500/2500 [==============================] - 4s 1ms/step - loss: 2.9274 - accuracy: 0.1386\n",
            "Epoch 2/5\n",
            "2500/2500 [==============================] - 4s 1ms/step - loss: 2.1256 - accuracy: 0.1821\n",
            "Epoch 3/5\n",
            "2500/2500 [==============================] - 4s 1ms/step - loss: 1.9531 - accuracy: 0.2372\n",
            "Epoch 4/5\n",
            "2500/2500 [==============================] - 4s 1ms/step - loss: 1.8659 - accuracy: 0.2419\n",
            "Epoch 5/5\n",
            "2500/2500 [==============================] - 4s 2ms/step - loss: 1.8305 - accuracy: 0.2480\n",
            "625/625 [==============================] - 1s 1ms/step - loss: 1.8175 - accuracy: 0.2567\n",
            "--- Starting trial: run-22\n",
            "{'num_units1': 32, 'num_units2': 32, 'learning_rate': 0.005, 'actfn': 'sigmoid', 'optimizer': 'adam'}\n",
            "Epoch 1/5\n",
            "2500/2500 [==============================] - 4s 2ms/step - loss: 1.4830 - accuracy: 0.4764\n",
            "Epoch 2/5\n",
            "2500/2500 [==============================] - 4s 2ms/step - loss: 1.3345 - accuracy: 0.5430\n",
            "Epoch 3/5\n",
            "2500/2500 [==============================] - 4s 2ms/step - loss: 1.5161 - accuracy: 0.4529\n",
            "Epoch 4/5\n",
            "2500/2500 [==============================] - 4s 2ms/step - loss: 1.4866 - accuracy: 0.4686\n",
            "Epoch 5/5\n",
            "2500/2500 [==============================] - 4s 2ms/step - loss: 1.2939 - accuracy: 0.5559\n",
            "625/625 [==============================] - 1s 1ms/step - loss: 1.1662 - accuracy: 0.6155\n",
            "--- Starting trial: run-23\n",
            "{'num_units1': 32, 'num_units2': 32, 'learning_rate': 0.005, 'actfn': 'sigmoid', 'optimizer': 'sgd'}\n",
            "Epoch 1/5\n",
            "2500/2500 [==============================] - 4s 1ms/step - loss: 1.5586 - accuracy: 0.5376\n",
            "Epoch 2/5\n",
            "2500/2500 [==============================] - 4s 1ms/step - loss: 1.0845 - accuracy: 0.6878\n",
            "Epoch 3/5\n",
            "2500/2500 [==============================] - 4s 1ms/step - loss: 0.9392 - accuracy: 0.7239\n",
            "Epoch 4/5\n",
            "2500/2500 [==============================] - 4s 1ms/step - loss: 0.8690 - accuracy: 0.7402\n",
            "Epoch 5/5\n",
            "2500/2500 [==============================] - 4s 1ms/step - loss: 0.8174 - accuracy: 0.7578\n",
            "625/625 [==============================] - 1s 1ms/step - loss: 0.8283 - accuracy: 0.7513\n",
            "--- Starting trial: run-24\n",
            "{'num_units1': 32, 'num_units2': 64, 'learning_rate': 0.001, 'actfn': 'linear', 'optimizer': 'adam'}\n",
            "Epoch 1/5\n",
            "   1/2500 [..............................] - ETA: 0s - loss: 174.1997 - accuracy: 0.0625WARNING:tensorflow:Callbacks method `on_train_batch_end` is slow compared to the batch time (batch time: 0.0018s vs `on_train_batch_end` time: 0.0033s). Check your callbacks.\n",
            "2500/2500 [==============================] - 4s 2ms/step - loss: 2.3217 - accuracy: 0.4407\n",
            "Epoch 2/5\n",
            "2500/2500 [==============================] - 4s 2ms/step - loss: 1.3483 - accuracy: 0.5257\n",
            "Epoch 3/5\n",
            "2500/2500 [==============================] - 4s 2ms/step - loss: 1.3317 - accuracy: 0.5282\n",
            "Epoch 4/5\n",
            "2500/2500 [==============================] - 4s 2ms/step - loss: 1.3108 - accuracy: 0.5333\n",
            "Epoch 5/5\n",
            "2500/2500 [==============================] - 4s 2ms/step - loss: 1.2868 - accuracy: 0.5421\n",
            "625/625 [==============================] - 1s 1ms/step - loss: 1.2598 - accuracy: 0.5538\n",
            "--- Starting trial: run-25\n",
            "{'num_units1': 32, 'num_units2': 64, 'learning_rate': 0.001, 'actfn': 'linear', 'optimizer': 'sgd'}\n",
            "Epoch 1/5\n",
            "2500/2500 [==============================] - 4s 1ms/step - loss: 1.9938 - accuracy: 0.3808\n",
            "Epoch 2/5\n",
            "2500/2500 [==============================] - 4s 1ms/step - loss: 1.5023 - accuracy: 0.4763\n",
            "Epoch 3/5\n",
            "2500/2500 [==============================] - 4s 1ms/step - loss: 1.3777 - accuracy: 0.5182\n",
            "Epoch 4/5\n",
            "2500/2500 [==============================] - 4s 1ms/step - loss: 1.2537 - accuracy: 0.5705\n",
            "Epoch 5/5\n",
            "2500/2500 [==============================] - 4s 1ms/step - loss: 1.1209 - accuracy: 0.6398\n",
            "625/625 [==============================] - 1s 1ms/step - loss: 1.1008 - accuracy: 0.6704\n",
            "--- Starting trial: run-26\n",
            "{'num_units1': 32, 'num_units2': 64, 'learning_rate': 0.001, 'actfn': 'relu', 'optimizer': 'adam'}\n",
            "Epoch 1/5\n",
            "2500/2500 [==============================] - 4s 2ms/step - loss: 2.1088 - accuracy: 0.4085\n",
            "Epoch 2/5\n",
            "2500/2500 [==============================] - 4s 2ms/step - loss: 1.2814 - accuracy: 0.5558\n",
            "Epoch 3/5\n",
            "2500/2500 [==============================] - 4s 2ms/step - loss: 1.1852 - accuracy: 0.6020\n",
            "Epoch 4/5\n",
            "2500/2500 [==============================] - 4s 2ms/step - loss: 1.1196 - accuracy: 0.6206\n",
            "Epoch 5/5\n",
            "2500/2500 [==============================] - 4s 2ms/step - loss: 1.0800 - accuracy: 0.6298\n",
            "625/625 [==============================] - 1s 1ms/step - loss: 1.0917 - accuracy: 0.6283\n",
            "--- Starting trial: run-27\n",
            "{'num_units1': 32, 'num_units2': 64, 'learning_rate': 0.001, 'actfn': 'relu', 'optimizer': 'sgd'}\n",
            "Epoch 1/5\n",
            "2500/2500 [==============================] - 4s 1ms/step - loss: 2.0091 - accuracy: 0.3503\n",
            "Epoch 2/5\n",
            "2500/2500 [==============================] - 4s 1ms/step - loss: 1.5006 - accuracy: 0.4865\n",
            "Epoch 3/5\n",
            "2500/2500 [==============================] - 4s 1ms/step - loss: 1.3069 - accuracy: 0.5675\n",
            "Epoch 4/5\n",
            "2500/2500 [==============================] - 4s 1ms/step - loss: 1.2073 - accuracy: 0.6024\n",
            "Epoch 5/5\n",
            "2500/2500 [==============================] - 4s 1ms/step - loss: 1.1352 - accuracy: 0.6308\n",
            "625/625 [==============================] - 1s 1ms/step - loss: 1.1883 - accuracy: 0.6284\n",
            "--- Starting trial: run-28\n",
            "{'num_units1': 32, 'num_units2': 64, 'learning_rate': 0.001, 'actfn': 'sigmoid', 'optimizer': 'adam'}\n",
            "Epoch 1/5\n",
            "2500/2500 [==============================] - 4s 2ms/step - loss: 1.0374 - accuracy: 0.6665\n",
            "Epoch 2/5\n",
            "2500/2500 [==============================] - 4s 2ms/step - loss: 0.8153 - accuracy: 0.7412\n",
            "Epoch 3/5\n",
            "2500/2500 [==============================] - 4s 2ms/step - loss: 0.7787 - accuracy: 0.7556\n",
            "Epoch 4/5\n",
            "2500/2500 [==============================] - 4s 2ms/step - loss: 0.7530 - accuracy: 0.7638\n",
            "Epoch 5/5\n",
            "2500/2500 [==============================] - 4s 2ms/step - loss: 0.7358 - accuracy: 0.7703\n",
            "625/625 [==============================] - 1s 1ms/step - loss: 0.7090 - accuracy: 0.7782\n",
            "--- Starting trial: run-29\n",
            "{'num_units1': 32, 'num_units2': 64, 'learning_rate': 0.001, 'actfn': 'sigmoid', 'optimizer': 'sgd'}\n",
            "Epoch 1/5\n",
            "2500/2500 [==============================] - 4s 1ms/step - loss: 1.8187 - accuracy: 0.3970\n",
            "Epoch 2/5\n",
            "2500/2500 [==============================] - 4s 1ms/step - loss: 1.3537 - accuracy: 0.5795\n",
            "Epoch 3/5\n",
            "2500/2500 [==============================] - 4s 1ms/step - loss: 1.1798 - accuracy: 0.6438\n",
            "Epoch 4/5\n",
            "2500/2500 [==============================] - 4s 1ms/step - loss: 1.0666 - accuracy: 0.6820\n",
            "Epoch 5/5\n",
            "2500/2500 [==============================] - 4s 1ms/step - loss: 0.9848 - accuracy: 0.7083\n",
            "625/625 [==============================] - 1s 1ms/step - loss: 0.9491 - accuracy: 0.7217\n",
            "--- Starting trial: run-30\n",
            "{'num_units1': 32, 'num_units2': 64, 'learning_rate': 0.005, 'actfn': 'linear', 'optimizer': 'adam'}\n",
            "Epoch 1/5\n",
            "2500/2500 [==============================] - 4s 2ms/step - loss: 2.4990 - accuracy: 0.1084\n",
            "Epoch 2/5\n",
            "2500/2500 [==============================] - 4s 2ms/step - loss: 2.3046 - accuracy: 0.1012\n",
            "Epoch 3/5\n",
            "2500/2500 [==============================] - 4s 2ms/step - loss: 2.3056 - accuracy: 0.1002\n",
            "Epoch 4/5\n",
            "2500/2500 [==============================] - 4s 2ms/step - loss: 2.3045 - accuracy: 0.1000\n",
            "Epoch 5/5\n",
            "2500/2500 [==============================] - 4s 2ms/step - loss: 2.3044 - accuracy: 0.0996\n",
            "625/625 [==============================] - 1s 1ms/step - loss: 2.3035 - accuracy: 0.0993\n",
            "--- Starting trial: run-31\n",
            "{'num_units1': 32, 'num_units2': 64, 'learning_rate': 0.005, 'actfn': 'linear', 'optimizer': 'sgd'}\n",
            "Epoch 1/5\n",
            "2500/2500 [==============================] - 4s 1ms/step - loss: 831.7308 - accuracy: 0.0994\n",
            "Epoch 2/5\n",
            "2500/2500 [==============================] - 4s 1ms/step - loss: 6694.1118 - accuracy: 0.0996\n",
            "Epoch 3/5\n",
            "2500/2500 [==============================] - 4s 1ms/step - loss: 35.7729 - accuracy: 0.0994\n",
            "Epoch 4/5\n",
            "2500/2500 [==============================] - 4s 1ms/step - loss: 35.2410 - accuracy: 0.1004\n",
            "Epoch 5/5\n",
            "2500/2500 [==============================] - 4s 1ms/step - loss: 35.3424 - accuracy: 0.1007\n",
            "625/625 [==============================] - 1s 1ms/step - loss: 17.9601 - accuracy: 0.1015\n",
            "--- Starting trial: run-32\n",
            "{'num_units1': 32, 'num_units2': 64, 'learning_rate': 0.005, 'actfn': 'relu', 'optimizer': 'adam'}\n",
            "Epoch 1/5\n",
            "2500/2500 [==============================] - 4s 2ms/step - loss: 2.0050 - accuracy: 0.3138\n",
            "Epoch 2/5\n",
            "2500/2500 [==============================] - 5s 2ms/step - loss: 1.5635 - accuracy: 0.3886\n",
            "Epoch 3/5\n",
            "2500/2500 [==============================] - 5s 2ms/step - loss: 1.5147 - accuracy: 0.4012\n",
            "Epoch 4/5\n",
            "2500/2500 [==============================] - 4s 2ms/step - loss: 1.5090 - accuracy: 0.4073\n",
            "Epoch 5/5\n",
            "2500/2500 [==============================] - 4s 2ms/step - loss: 1.5135 - accuracy: 0.4108\n",
            "625/625 [==============================] - 1s 1ms/step - loss: 1.5069 - accuracy: 0.3999\n",
            "--- Starting trial: run-33\n",
            "{'num_units1': 32, 'num_units2': 64, 'learning_rate': 0.005, 'actfn': 'relu', 'optimizer': 'sgd'}\n",
            "Epoch 1/5\n",
            "2500/2500 [==============================] - 4s 1ms/step - loss: 2.5267 - accuracy: 0.1166\n",
            "Epoch 2/5\n",
            "2500/2500 [==============================] - 4s 1ms/step - loss: 2.0534 - accuracy: 0.2211\n",
            "Epoch 3/5\n",
            "2500/2500 [==============================] - 4s 1ms/step - loss: 1.9485 - accuracy: 0.2507\n",
            "Epoch 4/5\n",
            "2500/2500 [==============================] - 4s 1ms/step - loss: 1.8692 - accuracy: 0.2776\n",
            "Epoch 5/5\n",
            "2500/2500 [==============================] - 4s 2ms/step - loss: 1.7060 - accuracy: 0.3325\n",
            "625/625 [==============================] - 1s 1ms/step - loss: 1.6811 - accuracy: 0.3395\n",
            "--- Starting trial: run-34\n",
            "{'num_units1': 32, 'num_units2': 64, 'learning_rate': 0.005, 'actfn': 'sigmoid', 'optimizer': 'adam'}\n",
            "Epoch 1/5\n",
            "2500/2500 [==============================] - 7s 3ms/step - loss: 1.4118 - accuracy: 0.5076\n",
            "Epoch 2/5\n",
            "2500/2500 [==============================] - 5s 2ms/step - loss: 1.3281 - accuracy: 0.5509\n",
            "Epoch 3/5\n",
            "2500/2500 [==============================] - 5s 2ms/step - loss: 1.3609 - accuracy: 0.5209\n",
            "Epoch 4/5\n",
            "2500/2500 [==============================] - 5s 2ms/step - loss: 1.4573 - accuracy: 0.4815\n",
            "Epoch 5/5\n",
            "2500/2500 [==============================] - 4s 2ms/step - loss: 1.4404 - accuracy: 0.4988\n",
            "625/625 [==============================] - 1s 1ms/step - loss: 1.3582 - accuracy: 0.5574\n",
            "--- Starting trial: run-35\n",
            "{'num_units1': 32, 'num_units2': 64, 'learning_rate': 0.005, 'actfn': 'sigmoid', 'optimizer': 'sgd'}\n",
            "Epoch 1/5\n",
            "2500/2500 [==============================] - 4s 1ms/step - loss: 1.3552 - accuracy: 0.5851\n",
            "Epoch 2/5\n",
            "2500/2500 [==============================] - 4s 1ms/step - loss: 0.9274 - accuracy: 0.7184\n",
            "Epoch 3/5\n",
            "2500/2500 [==============================] - 4s 2ms/step - loss: 0.8305 - accuracy: 0.7479\n",
            "Epoch 4/5\n",
            "2500/2500 [==============================] - 4s 2ms/step - loss: 0.7869 - accuracy: 0.7607\n",
            "Epoch 5/5\n",
            "2500/2500 [==============================] - 4s 2ms/step - loss: 0.7512 - accuracy: 0.7701\n",
            "625/625 [==============================] - 1s 1ms/step - loss: 0.7280 - accuracy: 0.7781\n",
            "--- Starting trial: run-36\n",
            "{'num_units1': 64, 'num_units2': 8, 'learning_rate': 0.001, 'actfn': 'linear', 'optimizer': 'adam'}\n",
            "Epoch 1/5\n",
            "2500/2500 [==============================] - 5s 2ms/step - loss: 2.8491 - accuracy: 0.4548\n",
            "Epoch 2/5\n",
            "2500/2500 [==============================] - 5s 2ms/step - loss: 1.1220 - accuracy: 0.6424\n",
            "Epoch 3/5\n",
            "2500/2500 [==============================] - 5s 2ms/step - loss: 0.9412 - accuracy: 0.7029\n",
            "Epoch 4/5\n",
            "2500/2500 [==============================] - 5s 2ms/step - loss: 0.8762 - accuracy: 0.7321\n",
            "Epoch 5/5\n",
            "2500/2500 [==============================] - 5s 2ms/step - loss: 0.8487 - accuracy: 0.7426\n",
            "625/625 [==============================] - 1s 1ms/step - loss: 0.8498 - accuracy: 0.7506\n",
            "--- Starting trial: run-37\n",
            "{'num_units1': 64, 'num_units2': 8, 'learning_rate': 0.001, 'actfn': 'linear', 'optimizer': 'sgd'}\n",
            "Epoch 1/5\n",
            "2500/2500 [==============================] - 4s 2ms/step - loss: 2.1097 - accuracy: 0.4429\n",
            "Epoch 2/5\n",
            "2500/2500 [==============================] - 4s 2ms/step - loss: 1.2104 - accuracy: 0.6043\n",
            "Epoch 3/5\n",
            "2500/2500 [==============================] - 4s 2ms/step - loss: 1.0140 - accuracy: 0.6771\n",
            "Epoch 4/5\n",
            "2500/2500 [==============================] - 4s 2ms/step - loss: 0.9274 - accuracy: 0.7109\n",
            "Epoch 5/5\n",
            "2500/2500 [==============================] - 4s 2ms/step - loss: 0.8734 - accuracy: 0.7311\n",
            "625/625 [==============================] - 1s 1ms/step - loss: 0.8734 - accuracy: 0.7449\n",
            "--- Starting trial: run-38\n",
            "{'num_units1': 64, 'num_units2': 8, 'learning_rate': 0.001, 'actfn': 'relu', 'optimizer': 'adam'}\n",
            "Epoch 1/5\n",
            "2500/2500 [==============================] - 5s 2ms/step - loss: 2.3932 - accuracy: 0.0998\n",
            "Epoch 2/5\n",
            "2500/2500 [==============================] - 5s 2ms/step - loss: 2.3028 - accuracy: 0.0967\n",
            "Epoch 3/5\n",
            "2500/2500 [==============================] - 4s 2ms/step - loss: 2.3028 - accuracy: 0.0983\n",
            "Epoch 4/5\n",
            "2500/2500 [==============================] - 4s 2ms/step - loss: 2.3028 - accuracy: 0.0972\n",
            "Epoch 5/5\n",
            "2500/2500 [==============================] - 5s 2ms/step - loss: 2.3027 - accuracy: 0.1005\n",
            "625/625 [==============================] - 1s 1ms/step - loss: 2.3028 - accuracy: 0.0993\n",
            "--- Starting trial: run-39\n",
            "{'num_units1': 64, 'num_units2': 8, 'learning_rate': 0.001, 'actfn': 'relu', 'optimizer': 'sgd'}\n",
            "Epoch 1/5\n",
            "2500/2500 [==============================] - 4s 2ms/step - loss: 2.3784 - accuracy: 0.0992\n",
            "Epoch 2/5\n",
            "2500/2500 [==============================] - 4s 2ms/step - loss: 2.3020 - accuracy: 0.1003\n",
            "Epoch 3/5\n",
            "2500/2500 [==============================] - 4s 2ms/step - loss: 2.2932 - accuracy: 0.1053\n",
            "Epoch 4/5\n",
            "2500/2500 [==============================] - 4s 2ms/step - loss: 2.2898 - accuracy: 0.1080\n",
            "Epoch 5/5\n",
            "2500/2500 [==============================] - 4s 2ms/step - loss: 2.2838 - accuracy: 0.1113\n",
            "625/625 [==============================] - 1s 1ms/step - loss: 2.2859 - accuracy: 0.1119\n",
            "--- Starting trial: run-40\n",
            "{'num_units1': 64, 'num_units2': 8, 'learning_rate': 0.001, 'actfn': 'sigmoid', 'optimizer': 'adam'}\n",
            "Epoch 1/5\n",
            "2500/2500 [==============================] - 5s 2ms/step - loss: 1.7472 - accuracy: 0.3740\n",
            "Epoch 2/5\n",
            "2500/2500 [==============================] - 5s 2ms/step - loss: 1.4231 - accuracy: 0.5035\n",
            "Epoch 3/5\n",
            "2500/2500 [==============================] - 5s 2ms/step - loss: 1.3456 - accuracy: 0.5161\n",
            "Epoch 4/5\n",
            "2500/2500 [==============================] - 5s 2ms/step - loss: 1.2725 - accuracy: 0.5485\n",
            "Epoch 5/5\n",
            "2500/2500 [==============================] - 5s 2ms/step - loss: 1.2263 - accuracy: 0.5727\n",
            "625/625 [==============================] - 1s 1ms/step - loss: 1.2148 - accuracy: 0.5867\n",
            "--- Starting trial: run-41\n",
            "{'num_units1': 64, 'num_units2': 8, 'learning_rate': 0.001, 'actfn': 'sigmoid', 'optimizer': 'sgd'}\n",
            "Epoch 1/5\n",
            "2500/2500 [==============================] - 4s 2ms/step - loss: 2.0933 - accuracy: 0.2763\n",
            "Epoch 2/5\n",
            "2500/2500 [==============================] - 4s 2ms/step - loss: 1.8669 - accuracy: 0.3989\n",
            "Epoch 3/5\n",
            "2500/2500 [==============================] - 4s 2ms/step - loss: 1.7593 - accuracy: 0.4886\n",
            "Epoch 4/5\n",
            "2500/2500 [==============================] - 4s 2ms/step - loss: 1.6714 - accuracy: 0.5393\n",
            "Epoch 5/5\n",
            "2500/2500 [==============================] - 4s 2ms/step - loss: 1.5940 - accuracy: 0.5924\n",
            "625/625 [==============================] - 1s 1ms/step - loss: 1.5589 - accuracy: 0.6161\n",
            "--- Starting trial: run-42\n",
            "{'num_units1': 64, 'num_units2': 8, 'learning_rate': 0.005, 'actfn': 'linear', 'optimizer': 'adam'}\n",
            "Epoch 1/5\n",
            "2500/2500 [==============================] - 4s 2ms/step - loss: 2.1145 - accuracy: 0.3679\n",
            "Epoch 2/5\n",
            "2500/2500 [==============================] - 4s 2ms/step - loss: 1.4574 - accuracy: 0.4636\n",
            "Epoch 3/5\n",
            "2500/2500 [==============================] - 4s 2ms/step - loss: 1.2827 - accuracy: 0.5323\n",
            "Epoch 4/5\n",
            "2500/2500 [==============================] - 5s 2ms/step - loss: 1.2631 - accuracy: 0.5391\n",
            "Epoch 5/5\n",
            "2500/2500 [==============================] - 5s 2ms/step - loss: 1.2490 - accuracy: 0.5401\n",
            "625/625 [==============================] - 1s 2ms/step - loss: 1.2928 - accuracy: 0.5354\n",
            "--- Starting trial: run-43\n",
            "{'num_units1': 64, 'num_units2': 8, 'learning_rate': 0.005, 'actfn': 'linear', 'optimizer': 'sgd'}\n",
            "Epoch 1/5\n",
            "2500/2500 [==============================] - 4s 2ms/step - loss: 1626.5486 - accuracy: 0.1001\n",
            "Epoch 2/5\n",
            "2500/2500 [==============================] - 4s 2ms/step - loss: 42.6933 - accuracy: 0.1001\n",
            "Epoch 3/5\n",
            "2500/2500 [==============================] - 4s 2ms/step - loss: 241.4639 - accuracy: 0.0999\n",
            "Epoch 4/5\n",
            "2500/2500 [==============================] - 4s 2ms/step - loss: 40.0030 - accuracy: 0.0992\n",
            "Epoch 5/5\n",
            "2500/2500 [==============================] - 4s 2ms/step - loss: 40.2552 - accuracy: 0.1002\n",
            "625/625 [==============================] - 1s 1ms/step - loss: 48.8990 - accuracy: 0.0980\n",
            "--- Starting trial: run-44\n",
            "{'num_units1': 64, 'num_units2': 8, 'learning_rate': 0.005, 'actfn': 'relu', 'optimizer': 'adam'}\n",
            "Epoch 1/5\n",
            "2500/2500 [==============================] - 4s 2ms/step - loss: 2.3651 - accuracy: 0.0991\n",
            "Epoch 2/5\n",
            "2500/2500 [==============================] - 5s 2ms/step - loss: 2.3033 - accuracy: 0.1001\n",
            "Epoch 3/5\n",
            "2500/2500 [==============================] - 5s 2ms/step - loss: 2.3034 - accuracy: 0.0981\n",
            "Epoch 4/5\n",
            "2500/2500 [==============================] - 5s 2ms/step - loss: 2.3034 - accuracy: 0.0979\n",
            "Epoch 5/5\n",
            "2500/2500 [==============================] - 5s 2ms/step - loss: 2.3032 - accuracy: 0.1005\n",
            "625/625 [==============================] - 1s 1ms/step - loss: 2.3033 - accuracy: 0.1010\n",
            "--- Starting trial: run-45\n",
            "{'num_units1': 64, 'num_units2': 8, 'learning_rate': 0.005, 'actfn': 'relu', 'optimizer': 'sgd'}\n",
            "Epoch 1/5\n",
            "2500/2500 [==============================] - 4s 2ms/step - loss: 2.3636 - accuracy: 0.0994\n",
            "Epoch 2/5\n",
            "2500/2500 [==============================] - 4s 2ms/step - loss: 2.3027 - accuracy: 0.0989\n",
            "Epoch 3/5\n",
            "2500/2500 [==============================] - 4s 2ms/step - loss: 2.3026 - accuracy: 0.0986\n",
            "Epoch 4/5\n",
            "2500/2500 [==============================] - 4s 2ms/step - loss: 2.3026 - accuracy: 0.0980\n",
            "Epoch 5/5\n",
            "2500/2500 [==============================] - 4s 2ms/step - loss: 2.3026 - accuracy: 0.0990\n",
            "625/625 [==============================] - 1s 1ms/step - loss: 2.3026 - accuracy: 0.0993\n",
            "--- Starting trial: run-46\n",
            "{'num_units1': 64, 'num_units2': 8, 'learning_rate': 0.005, 'actfn': 'sigmoid', 'optimizer': 'adam'}\n",
            "Epoch 1/5\n",
            "2500/2500 [==============================] - 5s 2ms/step - loss: 2.0075 - accuracy: 0.2258\n",
            "Epoch 2/5\n",
            "2500/2500 [==============================] - 5s 2ms/step - loss: 1.8454 - accuracy: 0.2700\n",
            "Epoch 3/5\n",
            "2500/2500 [==============================] - 5s 2ms/step - loss: 2.0151 - accuracy: 0.2046\n",
            "Epoch 4/5\n",
            "2500/2500 [==============================] - 5s 2ms/step - loss: 1.9233 - accuracy: 0.2307\n",
            "Epoch 5/5\n",
            "2500/2500 [==============================] - 5s 2ms/step - loss: 1.7967 - accuracy: 0.2683\n",
            "625/625 [==============================] - 1s 1ms/step - loss: 1.7960 - accuracy: 0.2770\n",
            "--- Starting trial: run-47\n",
            "{'num_units1': 64, 'num_units2': 8, 'learning_rate': 0.005, 'actfn': 'sigmoid', 'optimizer': 'sgd'}\n",
            "Epoch 1/5\n",
            "2500/2500 [==============================] - 4s 2ms/step - loss: 1.9054 - accuracy: 0.4208\n",
            "Epoch 2/5\n",
            "2500/2500 [==============================] - 4s 2ms/step - loss: 1.5255 - accuracy: 0.5941\n",
            "Epoch 3/5\n",
            "2500/2500 [==============================] - 4s 2ms/step - loss: 1.3105 - accuracy: 0.6598\n",
            "Epoch 4/5\n",
            "2500/2500 [==============================] - 4s 2ms/step - loss: 1.1731 - accuracy: 0.7002\n",
            "Epoch 5/5\n",
            "2500/2500 [==============================] - 4s 2ms/step - loss: 1.0913 - accuracy: 0.7122\n",
            "625/625 [==============================] - 1s 1ms/step - loss: 1.0361 - accuracy: 0.7315\n",
            "--- Starting trial: run-48\n",
            "{'num_units1': 64, 'num_units2': 32, 'learning_rate': 0.001, 'actfn': 'linear', 'optimizer': 'adam'}\n",
            "Epoch 1/5\n",
            "2500/2500 [==============================] - 5s 2ms/step - loss: 2.9455 - accuracy: 0.5219\n",
            "Epoch 2/5\n",
            "2500/2500 [==============================] - 5s 2ms/step - loss: 1.0888 - accuracy: 0.6625\n",
            "Epoch 3/5\n",
            "2500/2500 [==============================] - 5s 2ms/step - loss: 0.9995 - accuracy: 0.6915\n",
            "Epoch 4/5\n",
            "2500/2500 [==============================] - 5s 2ms/step - loss: 0.9658 - accuracy: 0.7000\n",
            "Epoch 5/5\n",
            "2500/2500 [==============================] - 5s 2ms/step - loss: 0.9439 - accuracy: 0.7049\n",
            "625/625 [==============================] - 1s 1ms/step - loss: 0.9357 - accuracy: 0.7125\n",
            "--- Starting trial: run-49\n",
            "{'num_units1': 64, 'num_units2': 32, 'learning_rate': 0.001, 'actfn': 'linear', 'optimizer': 'sgd'}\n",
            "Epoch 1/5\n",
            "2500/2500 [==============================] - 5s 2ms/step - loss: 2.3366 - accuracy: 0.3848\n",
            "Epoch 2/5\n",
            "2500/2500 [==============================] - 4s 2ms/step - loss: 1.3567 - accuracy: 0.5707\n",
            "Epoch 3/5\n",
            "2500/2500 [==============================] - 4s 2ms/step - loss: 1.0958 - accuracy: 0.6474\n",
            "Epoch 4/5\n",
            "2500/2500 [==============================] - 4s 2ms/step - loss: 0.9787 - accuracy: 0.7081\n",
            "Epoch 5/5\n",
            "2500/2500 [==============================] - 5s 2ms/step - loss: 0.9073 - accuracy: 0.7310\n",
            "625/625 [==============================] - 1s 1ms/step - loss: 0.9294 - accuracy: 0.7441\n",
            "--- Starting trial: run-50\n",
            "{'num_units1': 64, 'num_units2': 32, 'learning_rate': 0.001, 'actfn': 'relu', 'optimizer': 'adam'}\n",
            "Epoch 1/5\n",
            "2500/2500 [==============================] - 6s 2ms/step - loss: 2.1861 - accuracy: 0.3664\n",
            "Epoch 2/5\n",
            "2500/2500 [==============================] - 5s 2ms/step - loss: 1.3132 - accuracy: 0.5400\n",
            "Epoch 3/5\n",
            "2500/2500 [==============================] - 5s 2ms/step - loss: 0.9257 - accuracy: 0.6984\n",
            "Epoch 4/5\n",
            "2500/2500 [==============================] - 5s 2ms/step - loss: 0.7288 - accuracy: 0.7757\n",
            "Epoch 5/5\n",
            "2500/2500 [==============================] - 5s 2ms/step - loss: 0.6494 - accuracy: 0.8047\n",
            "625/625 [==============================] - 1s 1ms/step - loss: 0.6929 - accuracy: 0.7941\n",
            "--- Starting trial: run-51\n",
            "{'num_units1': 64, 'num_units2': 32, 'learning_rate': 0.001, 'actfn': 'relu', 'optimizer': 'sgd'}\n",
            "Epoch 1/5\n",
            "2500/2500 [==============================] - 4s 2ms/step - loss: 2.2199 - accuracy: 0.2533\n",
            "Epoch 2/5\n",
            "2500/2500 [==============================] - 4s 2ms/step - loss: 1.7510 - accuracy: 0.3593\n",
            "Epoch 3/5\n",
            "2500/2500 [==============================] - 4s 2ms/step - loss: 1.6266 - accuracy: 0.3983\n",
            "Epoch 4/5\n",
            "2500/2500 [==============================] - 4s 2ms/step - loss: 1.5573 - accuracy: 0.4139\n",
            "Epoch 5/5\n",
            "2500/2500 [==============================] - 4s 2ms/step - loss: 1.4983 - accuracy: 0.4382\n",
            "625/625 [==============================] - 1s 1ms/step - loss: 1.4959 - accuracy: 0.4433\n",
            "--- Starting trial: run-52\n",
            "{'num_units1': 64, 'num_units2': 32, 'learning_rate': 0.001, 'actfn': 'sigmoid', 'optimizer': 'adam'}\n",
            "Epoch 1/5\n",
            "2500/2500 [==============================] - 5s 2ms/step - loss: 1.2003 - accuracy: 0.6155\n",
            "Epoch 2/5\n",
            "2500/2500 [==============================] - 5s 2ms/step - loss: 0.9470 - accuracy: 0.7032\n",
            "Epoch 3/5\n",
            "2500/2500 [==============================] - 5s 2ms/step - loss: 0.8806 - accuracy: 0.7267\n",
            "Epoch 4/5\n",
            "2500/2500 [==============================] - 5s 2ms/step - loss: 0.8729 - accuracy: 0.7282\n",
            "Epoch 5/5\n",
            "2500/2500 [==============================] - 5s 2ms/step - loss: 0.8263 - accuracy: 0.7460\n",
            "625/625 [==============================] - 1s 1ms/step - loss: 0.8256 - accuracy: 0.7535\n",
            "--- Starting trial: run-53\n",
            "{'num_units1': 64, 'num_units2': 32, 'learning_rate': 0.001, 'actfn': 'sigmoid', 'optimizer': 'sgd'}\n",
            "Epoch 1/5\n",
            "2500/2500 [==============================] - 4s 2ms/step - loss: 1.8545 - accuracy: 0.3949\n",
            "Epoch 2/5\n",
            "2500/2500 [==============================] - 4s 2ms/step - loss: 1.4749 - accuracy: 0.5746\n",
            "Epoch 3/5\n",
            "2500/2500 [==============================] - 4s 2ms/step - loss: 1.2950 - accuracy: 0.6362\n",
            "Epoch 4/5\n",
            "2500/2500 [==============================] - 4s 2ms/step - loss: 1.1736 - accuracy: 0.6732\n",
            "Epoch 5/5\n",
            "2500/2500 [==============================] - 4s 2ms/step - loss: 1.0848 - accuracy: 0.6946\n",
            "625/625 [==============================] - 1s 1ms/step - loss: 1.0510 - accuracy: 0.7018\n",
            "--- Starting trial: run-54\n",
            "{'num_units1': 64, 'num_units2': 32, 'learning_rate': 0.005, 'actfn': 'linear', 'optimizer': 'adam'}\n",
            "Epoch 1/5\n",
            "2500/2500 [==============================] - 5s 2ms/step - loss: 2.6491 - accuracy: 0.2772\n",
            "Epoch 2/5\n",
            "2500/2500 [==============================] - 5s 2ms/step - loss: 2.1985 - accuracy: 0.1654\n",
            "Epoch 3/5\n",
            "2500/2500 [==============================] - 5s 2ms/step - loss: 2.2198 - accuracy: 0.1430\n",
            "Epoch 4/5\n",
            "2500/2500 [==============================] - 5s 2ms/step - loss: 2.2551 - accuracy: 0.1281\n",
            "Epoch 5/5\n",
            "2500/2500 [==============================] - 5s 2ms/step - loss: 2.2378 - accuracy: 0.1344\n",
            "625/625 [==============================] - 1s 1ms/step - loss: 2.2431 - accuracy: 0.1276\n",
            "--- Starting trial: run-55\n",
            "{'num_units1': 64, 'num_units2': 32, 'learning_rate': 0.005, 'actfn': 'linear', 'optimizer': 'sgd'}\n",
            "Epoch 1/5\n",
            "2500/2500 [==============================] - 4s 2ms/step - loss: nan - accuracy: 0.1014\n",
            "Epoch 2/5\n",
            "2500/2500 [==============================] - 4s 2ms/step - loss: nan - accuracy: 0.0998\n",
            "Epoch 3/5\n",
            "2500/2500 [==============================] - 4s 2ms/step - loss: nan - accuracy: 0.0998\n",
            "Epoch 4/5\n",
            "2500/2500 [==============================] - 4s 2ms/step - loss: nan - accuracy: 0.0998\n",
            "Epoch 5/5\n",
            "2500/2500 [==============================] - 4s 2ms/step - loss: nan - accuracy: 0.0998\n",
            "625/625 [==============================] - 1s 1ms/step - loss: nan - accuracy: 0.1010\n",
            "--- Starting trial: run-56\n",
            "{'num_units1': 64, 'num_units2': 32, 'learning_rate': 0.005, 'actfn': 'relu', 'optimizer': 'adam'}\n",
            "Epoch 1/5\n",
            "2500/2500 [==============================] - 5s 2ms/step - loss: 2.1654 - accuracy: 0.2465\n",
            "Epoch 2/5\n",
            "2500/2500 [==============================] - 5s 2ms/step - loss: 1.8412 - accuracy: 0.2781\n",
            "Epoch 3/5\n",
            "2500/2500 [==============================] - 5s 2ms/step - loss: 1.6336 - accuracy: 0.3721\n",
            "Epoch 4/5\n",
            "2500/2500 [==============================] - 5s 2ms/step - loss: 1.5082 - accuracy: 0.4281\n",
            "Epoch 5/5\n",
            "2500/2500 [==============================] - 5s 2ms/step - loss: 1.4903 - accuracy: 0.4371\n",
            "625/625 [==============================] - 1s 1ms/step - loss: 1.5385 - accuracy: 0.4448\n",
            "--- Starting trial: run-57\n",
            "{'num_units1': 64, 'num_units2': 32, 'learning_rate': 0.005, 'actfn': 'relu', 'optimizer': 'sgd'}\n",
            "Epoch 1/5\n",
            "2500/2500 [==============================] - 4s 2ms/step - loss: 2.9686 - accuracy: 0.1955\n",
            "Epoch 2/5\n",
            "2500/2500 [==============================] - 4s 2ms/step - loss: 1.8635 - accuracy: 0.2856\n",
            "Epoch 3/5\n",
            "2500/2500 [==============================] - 4s 2ms/step - loss: 1.7313 - accuracy: 0.3447\n",
            "Epoch 4/5\n",
            "2500/2500 [==============================] - 4s 2ms/step - loss: 1.5185 - accuracy: 0.4304\n",
            "Epoch 5/5\n",
            "2500/2500 [==============================] - 4s 2ms/step - loss: 1.3457 - accuracy: 0.5195\n",
            "625/625 [==============================] - 1s 1ms/step - loss: 1.3070 - accuracy: 0.5505\n",
            "--- Starting trial: run-58\n",
            "{'num_units1': 64, 'num_units2': 32, 'learning_rate': 0.005, 'actfn': 'sigmoid', 'optimizer': 'adam'}\n",
            "Epoch 1/5\n",
            "2500/2500 [==============================] - 5s 2ms/step - loss: 1.6364 - accuracy: 0.3920\n",
            "Epoch 2/5\n",
            "2500/2500 [==============================] - 5s 2ms/step - loss: 1.5657 - accuracy: 0.4276\n",
            "Epoch 3/5\n",
            "2500/2500 [==============================] - 5s 2ms/step - loss: 1.4671 - accuracy: 0.4905\n",
            "Epoch 4/5\n",
            "2500/2500 [==============================] - 5s 2ms/step - loss: 1.3640 - accuracy: 0.5249\n",
            "Epoch 5/5\n",
            "2500/2500 [==============================] - 5s 2ms/step - loss: 1.3796 - accuracy: 0.5298\n",
            "625/625 [==============================] - 1s 1ms/step - loss: 1.3352 - accuracy: 0.5512\n",
            "--- Starting trial: run-59\n",
            "{'num_units1': 64, 'num_units2': 32, 'learning_rate': 0.005, 'actfn': 'sigmoid', 'optimizer': 'sgd'}\n",
            "Epoch 1/5\n",
            "2500/2500 [==============================] - 4s 2ms/step - loss: 1.4804 - accuracy: 0.5398\n",
            "Epoch 2/5\n",
            "2500/2500 [==============================] - 4s 2ms/step - loss: 1.0281 - accuracy: 0.6960\n",
            "Epoch 3/5\n",
            "2500/2500 [==============================] - 4s 2ms/step - loss: 0.8872 - accuracy: 0.7354\n",
            "Epoch 4/5\n",
            "2500/2500 [==============================] - 4s 2ms/step - loss: 0.8153 - accuracy: 0.7544\n",
            "Epoch 5/5\n",
            "2500/2500 [==============================] - 4s 2ms/step - loss: 0.7750 - accuracy: 0.7670\n",
            "625/625 [==============================] - 1s 1ms/step - loss: 0.7504 - accuracy: 0.7749\n",
            "--- Starting trial: run-60\n",
            "{'num_units1': 64, 'num_units2': 64, 'learning_rate': 0.001, 'actfn': 'linear', 'optimizer': 'adam'}\n",
            "Epoch 1/5\n",
            "2500/2500 [==============================] - 5s 2ms/step - loss: 2.4309 - accuracy: 0.5317\n",
            "Epoch 2/5\n",
            "2500/2500 [==============================] - 6s 2ms/step - loss: 1.1735 - accuracy: 0.6435\n",
            "Epoch 3/5\n",
            "2500/2500 [==============================] - 6s 2ms/step - loss: 1.1254 - accuracy: 0.6575\n",
            "Epoch 4/5\n",
            "2500/2500 [==============================] - 5s 2ms/step - loss: 1.0977 - accuracy: 0.6679\n",
            "Epoch 5/5\n",
            "2500/2500 [==============================] - 6s 2ms/step - loss: 1.0610 - accuracy: 0.6786\n",
            "625/625 [==============================] - 1s 1ms/step - loss: 1.1541 - accuracy: 0.6705\n",
            "--- Starting trial: run-61\n",
            "{'num_units1': 64, 'num_units2': 64, 'learning_rate': 0.001, 'actfn': 'linear', 'optimizer': 'sgd'}\n",
            "Epoch 1/5\n",
            "2500/2500 [==============================] - 5s 2ms/step - loss: 2.1172 - accuracy: 0.4209\n",
            "Epoch 2/5\n",
            "2500/2500 [==============================] - 5s 2ms/step - loss: 1.3718 - accuracy: 0.5507\n",
            "Epoch 3/5\n",
            "2500/2500 [==============================] - 5s 2ms/step - loss: 1.2033 - accuracy: 0.6060\n",
            "Epoch 4/5\n",
            "2500/2500 [==============================] - 5s 2ms/step - loss: 1.1106 - accuracy: 0.6304\n",
            "Epoch 5/5\n",
            "2500/2500 [==============================] - 5s 2ms/step - loss: 1.0541 - accuracy: 0.6431\n",
            "625/625 [==============================] - 1s 1ms/step - loss: 1.0772 - accuracy: 0.6345\n",
            "--- Starting trial: run-62\n",
            "{'num_units1': 64, 'num_units2': 64, 'learning_rate': 0.001, 'actfn': 'relu', 'optimizer': 'adam'}\n",
            "Epoch 1/5\n",
            "2500/2500 [==============================] - 6s 2ms/step - loss: 2.2156 - accuracy: 0.5560\n",
            "Epoch 2/5\n",
            "2500/2500 [==============================] - 6s 2ms/step - loss: 1.0404 - accuracy: 0.6844\n",
            "Epoch 3/5\n",
            "2500/2500 [==============================] - 6s 2ms/step - loss: 0.9374 - accuracy: 0.7178\n",
            "Epoch 4/5\n",
            "2500/2500 [==============================] - 6s 2ms/step - loss: 0.8551 - accuracy: 0.7529\n",
            "Epoch 5/5\n",
            "2500/2500 [==============================] - 6s 2ms/step - loss: 0.7658 - accuracy: 0.7736\n",
            "625/625 [==============================] - 1s 1ms/step - loss: 0.7617 - accuracy: 0.7792\n",
            "--- Starting trial: run-63\n",
            "{'num_units1': 64, 'num_units2': 64, 'learning_rate': 0.001, 'actfn': 'relu', 'optimizer': 'sgd'}\n",
            "Epoch 1/5\n",
            "2500/2500 [==============================] - 5s 2ms/step - loss: 1.9815 - accuracy: 0.4790\n",
            "Epoch 2/5\n",
            "2500/2500 [==============================] - 4s 2ms/step - loss: 1.2041 - accuracy: 0.6210\n",
            "Epoch 3/5\n",
            "2500/2500 [==============================] - 4s 2ms/step - loss: 1.0418 - accuracy: 0.6857\n",
            "Epoch 4/5\n",
            "2500/2500 [==============================] - 4s 2ms/step - loss: 0.9516 - accuracy: 0.7155\n",
            "Epoch 5/5\n",
            "2500/2500 [==============================] - 4s 2ms/step - loss: 0.8882 - accuracy: 0.7338\n",
            "625/625 [==============================] - 1s 1ms/step - loss: 0.9037 - accuracy: 0.7408\n",
            "--- Starting trial: run-64\n",
            "{'num_units1': 64, 'num_units2': 64, 'learning_rate': 0.001, 'actfn': 'sigmoid', 'optimizer': 'adam'}\n",
            "Epoch 1/5\n",
            "2500/2500 [==============================] - 5s 2ms/step - loss: 1.0712 - accuracy: 0.6619\n",
            "Epoch 2/5\n",
            "2500/2500 [==============================] - 5s 2ms/step - loss: 0.8372 - accuracy: 0.7392\n",
            "Epoch 3/5\n",
            "2500/2500 [==============================] - 5s 2ms/step - loss: 0.8066 - accuracy: 0.7485\n",
            "Epoch 4/5\n",
            "2500/2500 [==============================] - 5s 2ms/step - loss: 0.7751 - accuracy: 0.7604\n",
            "Epoch 5/5\n",
            "2500/2500 [==============================] - 5s 2ms/step - loss: 0.7445 - accuracy: 0.7702\n",
            "625/625 [==============================] - 1s 1ms/step - loss: 0.7395 - accuracy: 0.7696\n",
            "--- Starting trial: run-65\n",
            "{'num_units1': 64, 'num_units2': 64, 'learning_rate': 0.001, 'actfn': 'sigmoid', 'optimizer': 'sgd'}\n",
            "Epoch 1/5\n",
            "2500/2500 [==============================] - 4s 2ms/step - loss: 1.7287 - accuracy: 0.4449\n",
            "Epoch 2/5\n",
            "2500/2500 [==============================] - 4s 2ms/step - loss: 1.2831 - accuracy: 0.6200\n",
            "Epoch 3/5\n",
            "2500/2500 [==============================] - 4s 2ms/step - loss: 1.1194 - accuracy: 0.6672\n",
            "Epoch 4/5\n",
            "2500/2500 [==============================] - 4s 2ms/step - loss: 1.0239 - accuracy: 0.6969\n",
            "Epoch 5/5\n",
            "2500/2500 [==============================] - 4s 2ms/step - loss: 0.9630 - accuracy: 0.7146\n",
            "625/625 [==============================] - 1s 1ms/step - loss: 0.9398 - accuracy: 0.7117\n",
            "--- Starting trial: run-66\n",
            "{'num_units1': 64, 'num_units2': 64, 'learning_rate': 0.005, 'actfn': 'linear', 'optimizer': 'adam'}\n",
            "Epoch 1/5\n",
            "2500/2500 [==============================] - 5s 2ms/step - loss: 2.5591 - accuracy: 0.1804\n",
            "Epoch 2/5\n",
            "2500/2500 [==============================] - 5s 2ms/step - loss: 2.3044 - accuracy: 0.1135\n",
            "Epoch 3/5\n",
            "2500/2500 [==============================] - 5s 2ms/step - loss: 2.3057 - accuracy: 0.1010\n",
            "Epoch 4/5\n",
            "2500/2500 [==============================] - 5s 2ms/step - loss: 2.3052 - accuracy: 0.0994\n",
            "Epoch 5/5\n",
            "2500/2500 [==============================] - 5s 2ms/step - loss: 2.3046 - accuracy: 0.0993\n",
            "625/625 [==============================] - 1s 1ms/step - loss: 2.3051 - accuracy: 0.0997\n",
            "--- Starting trial: run-67\n",
            "{'num_units1': 64, 'num_units2': 64, 'learning_rate': 0.005, 'actfn': 'linear', 'optimizer': 'sgd'}\n",
            "Epoch 1/5\n",
            "2500/2500 [==============================] - 4s 2ms/step - loss: nan - accuracy: 0.0997\n",
            "Epoch 2/5\n",
            "2500/2500 [==============================] - 5s 2ms/step - loss: nan - accuracy: 0.0998\n",
            "Epoch 3/5\n",
            "2500/2500 [==============================] - 4s 2ms/step - loss: nan - accuracy: 0.0998\n",
            "Epoch 4/5\n",
            "2500/2500 [==============================] - 4s 2ms/step - loss: nan - accuracy: 0.0998\n",
            "Epoch 5/5\n",
            "2500/2500 [==============================] - 4s 2ms/step - loss: nan - accuracy: 0.0998\n",
            "625/625 [==============================] - 1s 1ms/step - loss: nan - accuracy: 0.1010\n",
            "--- Starting trial: run-68\n",
            "{'num_units1': 64, 'num_units2': 64, 'learning_rate': 0.005, 'actfn': 'relu', 'optimizer': 'adam'}\n",
            "Epoch 1/5\n",
            "2500/2500 [==============================] - 5s 2ms/step - loss: 2.1836 - accuracy: 0.4079\n",
            "Epoch 2/5\n",
            "2500/2500 [==============================] - 5s 2ms/step - loss: 1.3309 - accuracy: 0.5150\n",
            "Epoch 3/5\n",
            "2500/2500 [==============================] - 5s 2ms/step - loss: 1.1901 - accuracy: 0.5725\n",
            "Epoch 4/5\n",
            "2500/2500 [==============================] - 5s 2ms/step - loss: 1.1954 - accuracy: 0.5698\n",
            "Epoch 5/5\n",
            "2500/2500 [==============================] - 5s 2ms/step - loss: 1.1981 - accuracy: 0.5644\n",
            "625/625 [==============================] - 1s 1ms/step - loss: 1.1371 - accuracy: 0.5832\n",
            "--- Starting trial: run-69\n",
            "{'num_units1': 64, 'num_units2': 64, 'learning_rate': 0.005, 'actfn': 'relu', 'optimizer': 'sgd'}\n",
            "Epoch 1/5\n",
            "2500/2500 [==============================] - 4s 2ms/step - loss: 8.5770 - accuracy: 0.0985\n",
            "Epoch 2/5\n",
            "2500/2500 [==============================] - 4s 2ms/step - loss: 2.3348 - accuracy: 0.1015\n",
            "Epoch 3/5\n",
            "2500/2500 [==============================] - 4s 2ms/step - loss: 2.2806 - accuracy: 0.1137\n",
            "Epoch 4/5\n",
            "2500/2500 [==============================] - 4s 2ms/step - loss: 2.2451 - accuracy: 0.1304\n",
            "Epoch 5/5\n",
            "2500/2500 [==============================] - 4s 2ms/step - loss: 2.2207 - accuracy: 0.1392\n",
            "625/625 [==============================] - 1s 1ms/step - loss: 2.2127 - accuracy: 0.1463\n",
            "--- Starting trial: run-70\n",
            "{'num_units1': 64, 'num_units2': 64, 'learning_rate': 0.005, 'actfn': 'sigmoid', 'optimizer': 'adam'}\n",
            "Epoch 1/5\n",
            "2500/2500 [==============================] - 5s 2ms/step - loss: 1.5310 - accuracy: 0.4530\n",
            "Epoch 2/5\n",
            "2500/2500 [==============================] - 5s 2ms/step - loss: 1.4895 - accuracy: 0.4614\n",
            "Epoch 3/5\n",
            "2500/2500 [==============================] - 6s 2ms/step - loss: 1.3917 - accuracy: 0.5028\n",
            "Epoch 4/5\n",
            "2500/2500 [==============================] - 6s 2ms/step - loss: 1.3354 - accuracy: 0.5187\n",
            "Epoch 5/5\n",
            "2500/2500 [==============================] - 6s 2ms/step - loss: 1.3674 - accuracy: 0.5268\n",
            "625/625 [==============================] - 1s 1ms/step - loss: 1.4565 - accuracy: 0.4818\n",
            "--- Starting trial: run-71\n",
            "{'num_units1': 64, 'num_units2': 64, 'learning_rate': 0.005, 'actfn': 'sigmoid', 'optimizer': 'sgd'}\n",
            "Epoch 1/5\n",
            "2500/2500 [==============================] - 4s 2ms/step - loss: 1.3060 - accuracy: 0.6050\n",
            "Epoch 2/5\n",
            "2500/2500 [==============================] - 4s 2ms/step - loss: 0.9048 - accuracy: 0.7276\n",
            "Epoch 3/5\n",
            "2500/2500 [==============================] - 4s 2ms/step - loss: 0.8113 - accuracy: 0.7562\n",
            "Epoch 4/5\n",
            "2500/2500 [==============================] - 4s 2ms/step - loss: 0.7634 - accuracy: 0.7681\n",
            "Epoch 5/5\n",
            "2500/2500 [==============================] - 4s 2ms/step - loss: 0.7301 - accuracy: 0.7797\n",
            "625/625 [==============================] - 1s 1ms/step - loss: 0.7109 - accuracy: 0.7889\n",
            "--- Starting trial: run-72\n",
            "{'num_units1': 128, 'num_units2': 8, 'learning_rate': 0.001, 'actfn': 'linear', 'optimizer': 'adam'}\n",
            "Epoch 1/5\n",
            "2500/2500 [==============================] - 6s 2ms/step - loss: 2.6543 - accuracy: 0.6061\n",
            "Epoch 2/5\n",
            "2500/2500 [==============================] - 6s 2ms/step - loss: 0.8824 - accuracy: 0.7379\n",
            "Epoch 3/5\n",
            "2500/2500 [==============================] - 6s 2ms/step - loss: 0.7823 - accuracy: 0.7729\n",
            "Epoch 4/5\n",
            "2500/2500 [==============================] - 6s 2ms/step - loss: 0.7321 - accuracy: 0.7873\n",
            "Epoch 5/5\n",
            "2500/2500 [==============================] - 6s 2ms/step - loss: 0.6959 - accuracy: 0.7968\n",
            "625/625 [==============================] - 1s 1ms/step - loss: 0.7112 - accuracy: 0.7995\n",
            "--- Starting trial: run-73\n",
            "{'num_units1': 128, 'num_units2': 8, 'learning_rate': 0.001, 'actfn': 'linear', 'optimizer': 'sgd'}\n",
            "Epoch 1/5\n",
            "2500/2500 [==============================] - 5s 2ms/step - loss: 2.0150 - accuracy: 0.5608\n",
            "Epoch 2/5\n",
            "2500/2500 [==============================] - 5s 2ms/step - loss: 0.9795 - accuracy: 0.6926\n",
            "Epoch 3/5\n",
            "2500/2500 [==============================] - 6s 2ms/step - loss: 0.8504 - accuracy: 0.7333\n",
            "Epoch 4/5\n",
            "2500/2500 [==============================] - 6s 2ms/step - loss: 0.7815 - accuracy: 0.7575\n",
            "Epoch 5/5\n",
            "2500/2500 [==============================] - 5s 2ms/step - loss: 0.7384 - accuracy: 0.7714\n",
            "625/625 [==============================] - 1s 1ms/step - loss: 0.7590 - accuracy: 0.7695\n",
            "--- Starting trial: run-74\n",
            "{'num_units1': 128, 'num_units2': 8, 'learning_rate': 0.001, 'actfn': 'relu', 'optimizer': 'adam'}\n",
            "Epoch 1/5\n",
            "2500/2500 [==============================] - 7s 3ms/step - loss: 2.3695 - accuracy: 0.1001\n",
            "Epoch 2/5\n",
            "2500/2500 [==============================] - 6s 2ms/step - loss: 2.3028 - accuracy: 0.0997\n",
            "Epoch 3/5\n",
            "2500/2500 [==============================] - 7s 3ms/step - loss: 2.3027 - accuracy: 0.1006\n",
            "Epoch 4/5\n",
            "2500/2500 [==============================] - 7s 3ms/step - loss: 2.3028 - accuracy: 0.0985\n",
            "Epoch 5/5\n",
            "2500/2500 [==============================] - 6s 3ms/step - loss: 2.3027 - accuracy: 0.0965\n",
            "625/625 [==============================] - 1s 1ms/step - loss: 2.3027 - accuracy: 0.1010\n",
            "--- Starting trial: run-75\n",
            "{'num_units1': 128, 'num_units2': 8, 'learning_rate': 0.001, 'actfn': 'relu', 'optimizer': 'sgd'}\n",
            "Epoch 1/5\n",
            "2500/2500 [==============================] - 6s 2ms/step - loss: 2.3549 - accuracy: 0.0976\n",
            "Epoch 2/5\n",
            "2500/2500 [==============================] - 6s 2ms/step - loss: 2.2267 - accuracy: 0.1415\n",
            "Epoch 3/5\n",
            "2500/2500 [==============================] - 5s 2ms/step - loss: 2.0639 - accuracy: 0.2147\n",
            "Epoch 4/5\n",
            "2500/2500 [==============================] - 5s 2ms/step - loss: 1.8982 - accuracy: 0.2831\n",
            "Epoch 5/5\n",
            "2500/2500 [==============================] - 5s 2ms/step - loss: 1.8398 - accuracy: 0.2991\n",
            "625/625 [==============================] - 1s 1ms/step - loss: 1.8570 - accuracy: 0.2970\n",
            "--- Starting trial: run-76\n",
            "{'num_units1': 128, 'num_units2': 8, 'learning_rate': 0.001, 'actfn': 'sigmoid', 'optimizer': 'adam'}\n",
            "Epoch 1/5\n",
            "2500/2500 [==============================] - 6s 2ms/step - loss: 1.7644 - accuracy: 0.3950\n",
            "Epoch 2/5\n",
            "2500/2500 [==============================] - 6s 2ms/step - loss: 1.3889 - accuracy: 0.5222\n",
            "Epoch 3/5\n",
            "2500/2500 [==============================] - 6s 2ms/step - loss: 1.3341 - accuracy: 0.5337\n",
            "Epoch 4/5\n",
            "2500/2500 [==============================] - 6s 2ms/step - loss: 1.2780 - accuracy: 0.5675\n",
            "Epoch 5/5\n",
            "2500/2500 [==============================] - 6s 2ms/step - loss: 1.2429 - accuracy: 0.5840\n",
            "625/625 [==============================] - 1s 1ms/step - loss: 1.1836 - accuracy: 0.6106\n",
            "--- Starting trial: run-77\n",
            "{'num_units1': 128, 'num_units2': 8, 'learning_rate': 0.001, 'actfn': 'sigmoid', 'optimizer': 'sgd'}\n",
            "Epoch 1/5\n",
            "2500/2500 [==============================] - 5s 2ms/step - loss: 2.1759 - accuracy: 0.2235\n",
            "Epoch 2/5\n",
            "2500/2500 [==============================] - 5s 2ms/step - loss: 1.8806 - accuracy: 0.4779\n",
            "Epoch 3/5\n",
            "2500/2500 [==============================] - 5s 2ms/step - loss: 1.7444 - accuracy: 0.5484\n",
            "Epoch 4/5\n",
            "2500/2500 [==============================] - 5s 2ms/step - loss: 1.6466 - accuracy: 0.5807\n",
            "Epoch 5/5\n",
            "2500/2500 [==============================] - 5s 2ms/step - loss: 1.5635 - accuracy: 0.6068\n",
            "625/625 [==============================] - 1s 1ms/step - loss: 1.5219 - accuracy: 0.6187\n",
            "--- Starting trial: run-78\n",
            "{'num_units1': 128, 'num_units2': 8, 'learning_rate': 0.005, 'actfn': 'linear', 'optimizer': 'adam'}\n",
            "Epoch 1/5\n",
            "2500/2500 [==============================] - 6s 2ms/step - loss: 2.2836 - accuracy: 0.4638\n",
            "Epoch 2/5\n",
            "2500/2500 [==============================] - 6s 2ms/step - loss: 1.2614 - accuracy: 0.5639\n",
            "Epoch 3/5\n",
            "2500/2500 [==============================] - 6s 2ms/step - loss: 1.0693 - accuracy: 0.6501\n",
            "Epoch 4/5\n",
            "2500/2500 [==============================] - 6s 2ms/step - loss: 1.0455 - accuracy: 0.6621\n",
            "Epoch 5/5\n",
            "2500/2500 [==============================] - 6s 2ms/step - loss: 1.0292 - accuracy: 0.6763\n",
            "625/625 [==============================] - 1s 1ms/step - loss: 1.0399 - accuracy: 0.6564\n",
            "--- Starting trial: run-79\n",
            "{'num_units1': 128, 'num_units2': 8, 'learning_rate': 0.005, 'actfn': 'linear', 'optimizer': 'sgd'}\n",
            "Epoch 1/5\n",
            "2500/2500 [==============================] - 5s 2ms/step - loss: nan - accuracy: 0.0999\n",
            "Epoch 2/5\n",
            "2500/2500 [==============================] - 5s 2ms/step - loss: nan - accuracy: 0.0998\n",
            "Epoch 3/5\n",
            "2500/2500 [==============================] - 5s 2ms/step - loss: nan - accuracy: 0.0998\n",
            "Epoch 4/5\n",
            "2500/2500 [==============================] - 5s 2ms/step - loss: nan - accuracy: 0.0998\n",
            "Epoch 5/5\n",
            "2500/2500 [==============================] - 5s 2ms/step - loss: nan - accuracy: 0.0998\n",
            "625/625 [==============================] - 1s 1ms/step - loss: nan - accuracy: 0.1010\n",
            "--- Starting trial: run-80\n",
            "{'num_units1': 128, 'num_units2': 8, 'learning_rate': 0.005, 'actfn': 'relu', 'optimizer': 'adam'}\n",
            "Epoch 1/5\n",
            "2500/2500 [==============================] - 6s 2ms/step - loss: 2.4053 - accuracy: 0.0986\n",
            "Epoch 2/5\n",
            "2500/2500 [==============================] - 6s 2ms/step - loss: 2.3033 - accuracy: 0.0984\n",
            "Epoch 3/5\n",
            "2500/2500 [==============================] - 6s 2ms/step - loss: 2.3031 - accuracy: 0.1003\n",
            "Epoch 4/5\n",
            "2500/2500 [==============================] - 6s 2ms/step - loss: 2.3034 - accuracy: 0.0989\n",
            "Epoch 5/5\n",
            "2500/2500 [==============================] - 6s 2ms/step - loss: 2.3031 - accuracy: 0.1018\n",
            "625/625 [==============================] - 1s 1ms/step - loss: 2.3038 - accuracy: 0.1002\n",
            "--- Starting trial: run-81\n",
            "{'num_units1': 128, 'num_units2': 8, 'learning_rate': 0.005, 'actfn': 'relu', 'optimizer': 'sgd'}\n",
            "Epoch 1/5\n",
            "2500/2500 [==============================] - 5s 2ms/step - loss: 2.3546 - accuracy: 0.1006\n",
            "Epoch 2/5\n",
            "2500/2500 [==============================] - 5s 2ms/step - loss: 2.3026 - accuracy: 0.0992\n",
            "Epoch 3/5\n",
            "2500/2500 [==============================] - 5s 2ms/step - loss: 2.3026 - accuracy: 0.0975\n",
            "Epoch 4/5\n",
            "2500/2500 [==============================] - 5s 2ms/step - loss: 2.3026 - accuracy: 0.0996\n",
            "Epoch 5/5\n",
            "2500/2500 [==============================] - 5s 2ms/step - loss: 2.3026 - accuracy: 0.0981\n",
            "625/625 [==============================] - 1s 1ms/step - loss: 2.3026 - accuracy: 0.0992\n",
            "--- Starting trial: run-82\n",
            "{'num_units1': 128, 'num_units2': 8, 'learning_rate': 0.005, 'actfn': 'sigmoid', 'optimizer': 'adam'}\n",
            "Epoch 1/5\n",
            "2500/2500 [==============================] - 6s 2ms/step - loss: 2.2658 - accuracy: 0.1168\n",
            "Epoch 2/5\n",
            "2500/2500 [==============================] - 6s 2ms/step - loss: 2.3046 - accuracy: 0.0997\n",
            "Epoch 3/5\n",
            "2500/2500 [==============================] - 6s 2ms/step - loss: 2.3047 - accuracy: 0.1006\n",
            "Epoch 4/5\n",
            "2500/2500 [==============================] - 6s 2ms/step - loss: 2.3047 - accuracy: 0.0997\n",
            "Epoch 5/5\n",
            "2500/2500 [==============================] - 6s 2ms/step - loss: 2.3047 - accuracy: 0.0999\n",
            "625/625 [==============================] - 1s 1ms/step - loss: 2.3040 - accuracy: 0.0993\n",
            "--- Starting trial: run-83\n",
            "{'num_units1': 128, 'num_units2': 8, 'learning_rate': 0.005, 'actfn': 'sigmoid', 'optimizer': 'sgd'}\n",
            "Epoch 1/5\n",
            "2500/2500 [==============================] - 5s 2ms/step - loss: 1.9453 - accuracy: 0.4087\n",
            "Epoch 2/5\n",
            "2500/2500 [==============================] - 5s 2ms/step - loss: 1.5555 - accuracy: 0.5783\n",
            "Epoch 3/5\n",
            "2500/2500 [==============================] - 5s 2ms/step - loss: 1.3216 - accuracy: 0.6353\n",
            "Epoch 4/5\n",
            "2500/2500 [==============================] - 6s 2ms/step - loss: 1.1863 - accuracy: 0.6801\n",
            "Epoch 5/5\n",
            "2500/2500 [==============================] - 5s 2ms/step - loss: 1.0930 - accuracy: 0.7002\n",
            "625/625 [==============================] - 1s 1ms/step - loss: 1.0630 - accuracy: 0.7176\n",
            "--- Starting trial: run-84\n",
            "{'num_units1': 128, 'num_units2': 32, 'learning_rate': 0.001, 'actfn': 'linear', 'optimizer': 'adam'}\n",
            "Epoch 1/5\n",
            "2500/2500 [==============================] - 6s 2ms/step - loss: 3.1021 - accuracy: 0.5671\n",
            "Epoch 2/5\n",
            "2500/2500 [==============================] - 6s 2ms/step - loss: 1.0234 - accuracy: 0.6944\n",
            "Epoch 3/5\n",
            "2500/2500 [==============================] - 6s 2ms/step - loss: 0.9379 - accuracy: 0.7385\n",
            "Epoch 4/5\n",
            "2500/2500 [==============================] - 6s 2ms/step - loss: 0.8836 - accuracy: 0.7525\n",
            "Epoch 5/5\n",
            "2500/2500 [==============================] - 6s 2ms/step - loss: 0.8434 - accuracy: 0.7607\n",
            "625/625 [==============================] - 1s 1ms/step - loss: 0.8626 - accuracy: 0.7649\n",
            "--- Starting trial: run-85\n",
            "{'num_units1': 128, 'num_units2': 32, 'learning_rate': 0.001, 'actfn': 'linear', 'optimizer': 'sgd'}\n",
            "Epoch 1/5\n",
            "2500/2500 [==============================] - 5s 2ms/step - loss: 2.3926 - accuracy: 0.4975\n",
            "Epoch 2/5\n",
            "2500/2500 [==============================] - 5s 2ms/step - loss: 1.1677 - accuracy: 0.6317\n",
            "Epoch 3/5\n",
            "2500/2500 [==============================] - 5s 2ms/step - loss: 0.9941 - accuracy: 0.6881\n",
            "Epoch 4/5\n",
            "2500/2500 [==============================] - 5s 2ms/step - loss: 0.9132 - accuracy: 0.7165\n",
            "Epoch 5/5\n",
            "2500/2500 [==============================] - 5s 2ms/step - loss: 0.8556 - accuracy: 0.7324\n",
            "625/625 [==============================] - 1s 1ms/step - loss: 0.8977 - accuracy: 0.7459\n",
            "--- Starting trial: run-86\n",
            "{'num_units1': 128, 'num_units2': 32, 'learning_rate': 0.001, 'actfn': 'relu', 'optimizer': 'adam'}\n",
            "Epoch 1/5\n",
            "2500/2500 [==============================] - 6s 2ms/step - loss: 2.2398 - accuracy: 0.3562\n",
            "Epoch 2/5\n",
            "2500/2500 [==============================] - 6s 2ms/step - loss: 1.4422 - accuracy: 0.4701\n",
            "Epoch 3/5\n",
            "2500/2500 [==============================] - 6s 2ms/step - loss: 1.1007 - accuracy: 0.6208\n",
            "Epoch 4/5\n",
            "2500/2500 [==============================] - 6s 2ms/step - loss: 0.8180 - accuracy: 0.7610\n",
            "Epoch 5/5\n",
            "2500/2500 [==============================] - 6s 2ms/step - loss: 0.6818 - accuracy: 0.8019\n",
            "625/625 [==============================] - 1s 1ms/step - loss: 0.7224 - accuracy: 0.8045\n",
            "--- Starting trial: run-87\n",
            "{'num_units1': 128, 'num_units2': 32, 'learning_rate': 0.001, 'actfn': 'relu', 'optimizer': 'sgd'}\n",
            "Epoch 1/5\n",
            "2500/2500 [==============================] - 5s 2ms/step - loss: 2.2797 - accuracy: 0.2441\n",
            "Epoch 2/5\n",
            "2500/2500 [==============================] - 5s 2ms/step - loss: 1.8413 - accuracy: 0.3372\n",
            "Epoch 3/5\n",
            "2500/2500 [==============================] - 5s 2ms/step - loss: 1.6178 - accuracy: 0.4038\n",
            "Epoch 4/5\n",
            "2500/2500 [==============================] - 6s 2ms/step - loss: 1.3368 - accuracy: 0.5200\n",
            "Epoch 5/5\n",
            "2500/2500 [==============================] - 6s 2ms/step - loss: 1.1681 - accuracy: 0.5796\n",
            "625/625 [==============================] - 1s 1ms/step - loss: 1.1471 - accuracy: 0.6185\n",
            "--- Starting trial: run-88\n",
            "{'num_units1': 128, 'num_units2': 32, 'learning_rate': 0.001, 'actfn': 'sigmoid', 'optimizer': 'adam'}\n",
            "Epoch 1/5\n",
            "2500/2500 [==============================] - 6s 2ms/step - loss: 1.2767 - accuracy: 0.5807\n",
            "Epoch 2/5\n",
            "2500/2500 [==============================] - 6s 2ms/step - loss: 1.0253 - accuracy: 0.6684\n",
            "Epoch 3/5\n",
            "2500/2500 [==============================] - 6s 2ms/step - loss: 0.9502 - accuracy: 0.6933\n",
            "Epoch 4/5\n",
            "2500/2500 [==============================] - 6s 2ms/step - loss: 0.9049 - accuracy: 0.7099\n",
            "Epoch 5/5\n",
            "2500/2500 [==============================] - 6s 2ms/step - loss: 0.9020 - accuracy: 0.7139\n",
            "625/625 [==============================] - 1s 1ms/step - loss: 0.9029 - accuracy: 0.7067\n",
            "--- Starting trial: run-89\n",
            "{'num_units1': 128, 'num_units2': 32, 'learning_rate': 0.001, 'actfn': 'sigmoid', 'optimizer': 'sgd'}\n",
            "Epoch 1/5\n",
            "2500/2500 [==============================] - 5s 2ms/step - loss: 1.9135 - accuracy: 0.3828\n",
            "Epoch 2/5\n",
            "2500/2500 [==============================] - 10s 4ms/step - loss: 1.4977 - accuracy: 0.5864\n",
            "Epoch 3/5\n",
            "2500/2500 [==============================] - 6s 3ms/step - loss: 1.3143 - accuracy: 0.6473\n",
            "Epoch 4/5\n",
            "2500/2500 [==============================] - 6s 2ms/step - loss: 1.1892 - accuracy: 0.6839\n",
            "Epoch 5/5\n",
            "2500/2500 [==============================] - 5s 2ms/step - loss: 1.1007 - accuracy: 0.7088\n",
            "625/625 [==============================] - 1s 1ms/step - loss: 1.0620 - accuracy: 0.7179\n",
            "--- Starting trial: run-90\n",
            "{'num_units1': 128, 'num_units2': 32, 'learning_rate': 0.005, 'actfn': 'linear', 'optimizer': 'adam'}\n",
            "Epoch 1/5\n",
            "2500/2500 [==============================] - 7s 3ms/step - loss: 2.8014 - accuracy: 0.2580\n",
            "Epoch 2/5\n",
            "2500/2500 [==============================] - 6s 3ms/step - loss: 2.0622 - accuracy: 0.2278\n",
            "Epoch 3/5\n",
            "2500/2500 [==============================] - 7s 3ms/step - loss: 2.0736 - accuracy: 0.2126\n",
            "Epoch 4/5\n",
            "2500/2500 [==============================] - 6s 2ms/step - loss: 2.0731 - accuracy: 0.2181\n",
            "Epoch 5/5\n",
            "2500/2500 [==============================] - 6s 3ms/step - loss: 2.1684 - accuracy: 0.1743\n",
            "625/625 [==============================] - 1s 1ms/step - loss: 2.2573 - accuracy: 0.1347\n",
            "--- Starting trial: run-91\n",
            "{'num_units1': 128, 'num_units2': 32, 'learning_rate': 0.005, 'actfn': 'linear', 'optimizer': 'sgd'}\n",
            "Epoch 1/5\n",
            "2500/2500 [==============================] - 5s 2ms/step - loss: nan - accuracy: 0.0998\n",
            "Epoch 2/5\n",
            "2500/2500 [==============================] - 5s 2ms/step - loss: nan - accuracy: 0.0998\n",
            "Epoch 3/5\n",
            "2500/2500 [==============================] - 6s 2ms/step - loss: nan - accuracy: 0.0998\n",
            "Epoch 4/5\n",
            "2500/2500 [==============================] - 5s 2ms/step - loss: nan - accuracy: 0.0998\n",
            "Epoch 5/5\n",
            "2500/2500 [==============================] - 6s 2ms/step - loss: nan - accuracy: 0.0998\n",
            "625/625 [==============================] - 1s 2ms/step - loss: nan - accuracy: 0.1010\n",
            "--- Starting trial: run-92\n",
            "{'num_units1': 128, 'num_units2': 32, 'learning_rate': 0.005, 'actfn': 'relu', 'optimizer': 'adam'}\n",
            "Epoch 1/5\n",
            "2500/2500 [==============================] - 7s 3ms/step - loss: 2.5133 - accuracy: 0.1181\n",
            "Epoch 2/5\n",
            "2500/2500 [==============================] - 6s 3ms/step - loss: 2.3040 - accuracy: 0.0994\n",
            "Epoch 3/5\n",
            "2500/2500 [==============================] - 6s 2ms/step - loss: 2.3033 - accuracy: 0.0981\n",
            "Epoch 4/5\n",
            "2500/2500 [==============================] - 6s 2ms/step - loss: 2.3032 - accuracy: 0.1024\n",
            "Epoch 5/5\n",
            "2500/2500 [==============================] - 6s 2ms/step - loss: 2.3034 - accuracy: 0.0993\n",
            "625/625 [==============================] - 1s 1ms/step - loss: 2.3030 - accuracy: 0.0992\n",
            "--- Starting trial: run-93\n",
            "{'num_units1': 128, 'num_units2': 32, 'learning_rate': 0.005, 'actfn': 'relu', 'optimizer': 'sgd'}\n",
            "Epoch 1/5\n",
            "2500/2500 [==============================] - 5s 2ms/step - loss: 15.9059 - accuracy: 0.0996\n",
            "Epoch 2/5\n",
            "2500/2500 [==============================] - 5s 2ms/step - loss: 2.4115 - accuracy: 0.1098\n",
            "Epoch 3/5\n",
            "2500/2500 [==============================] - 6s 2ms/step - loss: 2.1520 - accuracy: 0.1806\n",
            "Epoch 4/5\n",
            "2500/2500 [==============================] - 5s 2ms/step - loss: 2.1551 - accuracy: 0.1628\n",
            "Epoch 5/5\n",
            "2500/2500 [==============================] - 6s 2ms/step - loss: 2.1818 - accuracy: 0.1460\n",
            "625/625 [==============================] - 1s 1ms/step - loss: 2.0685 - accuracy: 0.1897\n",
            "--- Starting trial: run-94\n",
            "{'num_units1': 128, 'num_units2': 32, 'learning_rate': 0.005, 'actfn': 'sigmoid', 'optimizer': 'adam'}\n",
            "Epoch 1/5\n",
            "2500/2500 [==============================] - 7s 3ms/step - loss: 1.8059 - accuracy: 0.3234\n",
            "Epoch 2/5\n",
            "2500/2500 [==============================] - 7s 3ms/step - loss: 1.6784 - accuracy: 0.3645\n",
            "Epoch 3/5\n",
            "2500/2500 [==============================] - 7s 3ms/step - loss: 1.6541 - accuracy: 0.3706\n",
            "Epoch 4/5\n",
            "2500/2500 [==============================] - 7s 3ms/step - loss: 1.6016 - accuracy: 0.3901\n",
            "Epoch 5/5\n",
            "2500/2500 [==============================] - 7s 3ms/step - loss: 1.5306 - accuracy: 0.4178\n",
            "625/625 [==============================] - 1s 2ms/step - loss: 1.5050 - accuracy: 0.4343\n",
            "--- Starting trial: run-95\n",
            "{'num_units1': 128, 'num_units2': 32, 'learning_rate': 0.005, 'actfn': 'sigmoid', 'optimizer': 'sgd'}\n",
            "Epoch 1/5\n",
            "2500/2500 [==============================] - 5s 2ms/step - loss: 1.3370 - accuracy: 0.5921\n",
            "Epoch 2/5\n",
            "2500/2500 [==============================] - 5s 2ms/step - loss: 0.9596 - accuracy: 0.7159\n",
            "Epoch 3/5\n",
            "2500/2500 [==============================] - 5s 2ms/step - loss: 0.8450 - accuracy: 0.7498\n",
            "Epoch 4/5\n",
            "2500/2500 [==============================] - 5s 2ms/step - loss: 0.7773 - accuracy: 0.7677\n",
            "Epoch 5/5\n",
            "2500/2500 [==============================] - 5s 2ms/step - loss: 0.7296 - accuracy: 0.7809\n",
            "625/625 [==============================] - 1s 1ms/step - loss: 0.7114 - accuracy: 0.7851\n",
            "--- Starting trial: run-96\n",
            "{'num_units1': 128, 'num_units2': 64, 'learning_rate': 0.001, 'actfn': 'linear', 'optimizer': 'adam'}\n",
            "Epoch 1/5\n",
            "2500/2500 [==============================] - 7s 3ms/step - loss: 3.2894 - accuracy: 0.6352\n",
            "Epoch 2/5\n",
            "2500/2500 [==============================] - 7s 3ms/step - loss: 1.0098 - accuracy: 0.7162\n",
            "Epoch 3/5\n",
            "2500/2500 [==============================] - 6s 2ms/step - loss: 1.0196 - accuracy: 0.7152\n",
            "Epoch 4/5\n",
            "2500/2500 [==============================] - 7s 3ms/step - loss: 0.9704 - accuracy: 0.7273\n",
            "Epoch 5/5\n",
            "2500/2500 [==============================] - 7s 3ms/step - loss: 0.9036 - accuracy: 0.7444\n",
            "625/625 [==============================] - 1s 1ms/step - loss: 0.9374 - accuracy: 0.7370\n",
            "--- Starting trial: run-97\n",
            "{'num_units1': 128, 'num_units2': 64, 'learning_rate': 0.001, 'actfn': 'linear', 'optimizer': 'sgd'}\n",
            "Epoch 1/5\n",
            "2500/2500 [==============================] - 5s 2ms/step - loss: 2.2750 - accuracy: 0.5198\n",
            "Epoch 2/5\n",
            "2500/2500 [==============================] - 5s 2ms/step - loss: 1.0589 - accuracy: 0.6803\n",
            "Epoch 3/5\n",
            "2500/2500 [==============================] - 7s 3ms/step - loss: 0.9105 - accuracy: 0.7267\n",
            "Epoch 4/5\n",
            "2500/2500 [==============================] - 7s 3ms/step - loss: 0.8388 - accuracy: 0.7485\n",
            "Epoch 5/5\n",
            "2500/2500 [==============================] - 6s 2ms/step - loss: 0.7929 - accuracy: 0.7617\n",
            "625/625 [==============================] - 1s 2ms/step - loss: 0.8567 - accuracy: 0.7569\n",
            "--- Starting trial: run-98\n",
            "{'num_units1': 128, 'num_units2': 64, 'learning_rate': 0.001, 'actfn': 'relu', 'optimizer': 'adam'}\n",
            "Epoch 1/5\n",
            "2500/2500 [==============================] - 8s 3ms/step - loss: 2.1710 - accuracy: 0.5695\n",
            "Epoch 2/5\n",
            "2500/2500 [==============================] - 7s 3ms/step - loss: 0.8069 - accuracy: 0.7489\n",
            "Epoch 3/5\n",
            "2500/2500 [==============================] - 7s 3ms/step - loss: 0.6473 - accuracy: 0.8026\n",
            "Epoch 4/5\n",
            "2500/2500 [==============================] - 7s 3ms/step - loss: 0.5820 - accuracy: 0.8276\n",
            "Epoch 5/5\n",
            "2500/2500 [==============================] - 8s 3ms/step - loss: 0.5398 - accuracy: 0.8399\n",
            "625/625 [==============================] - 1s 2ms/step - loss: 0.5824 - accuracy: 0.8371\n",
            "--- Starting trial: run-99\n",
            "{'num_units1': 128, 'num_units2': 64, 'learning_rate': 0.001, 'actfn': 'relu', 'optimizer': 'sgd'}\n",
            "Epoch 1/5\n",
            "2500/2500 [==============================] - 6s 2ms/step - loss: 2.0013 - accuracy: 0.3880\n",
            "Epoch 2/5\n",
            "2500/2500 [==============================] - 6s 2ms/step - loss: 1.4166 - accuracy: 0.5218\n",
            "Epoch 3/5\n",
            "2500/2500 [==============================] - 6s 2ms/step - loss: 1.2292 - accuracy: 0.5649\n",
            "Epoch 4/5\n",
            "2500/2500 [==============================] - 6s 2ms/step - loss: 1.0744 - accuracy: 0.6167\n",
            "Epoch 5/5\n",
            "2500/2500 [==============================] - 6s 2ms/step - loss: 0.9494 - accuracy: 0.6707\n",
            "625/625 [==============================] - 1s 1ms/step - loss: 0.9408 - accuracy: 0.6885\n",
            "--- Starting trial: run-100\n",
            "{'num_units1': 128, 'num_units2': 64, 'learning_rate': 0.001, 'actfn': 'sigmoid', 'optimizer': 'adam'}\n",
            "Epoch 1/5\n",
            "2500/2500 [==============================] - 8s 3ms/step - loss: 1.1331 - accuracy: 0.6388\n",
            "Epoch 2/5\n",
            "2500/2500 [==============================] - 7s 3ms/step - loss: 0.9293 - accuracy: 0.7072\n",
            "Epoch 3/5\n",
            "2500/2500 [==============================] - 7s 3ms/step - loss: 0.8726 - accuracy: 0.7240\n",
            "Epoch 4/5\n",
            "2500/2500 [==============================] - 7s 3ms/step - loss: 0.8463 - accuracy: 0.7358\n",
            "Epoch 5/5\n",
            "2500/2500 [==============================] - 7s 3ms/step - loss: 0.8303 - accuracy: 0.7394\n",
            "625/625 [==============================] - 1s 2ms/step - loss: 0.8217 - accuracy: 0.7484\n",
            "--- Starting trial: run-101\n",
            "{'num_units1': 128, 'num_units2': 64, 'learning_rate': 0.001, 'actfn': 'sigmoid', 'optimizer': 'sgd'}\n",
            "Epoch 1/5\n",
            "2500/2500 [==============================] - 6s 2ms/step - loss: 1.6421 - accuracy: 0.4930\n",
            "Epoch 2/5\n",
            "2500/2500 [==============================] - 6s 2ms/step - loss: 1.2277 - accuracy: 0.6405\n",
            "Epoch 3/5\n",
            "2500/2500 [==============================] - 6s 2ms/step - loss: 1.0631 - accuracy: 0.6893\n",
            "Epoch 4/5\n",
            "2500/2500 [==============================] - 6s 2ms/step - loss: 0.9680 - accuracy: 0.7169\n",
            "Epoch 5/5\n",
            "2500/2500 [==============================] - 6s 2ms/step - loss: 0.9054 - accuracy: 0.7343\n",
            "625/625 [==============================] - 1s 2ms/step - loss: 0.8836 - accuracy: 0.7387\n",
            "--- Starting trial: run-102\n",
            "{'num_units1': 128, 'num_units2': 64, 'learning_rate': 0.005, 'actfn': 'linear', 'optimizer': 'adam'}\n",
            "Epoch 1/5\n",
            "2500/2500 [==============================] - 7s 3ms/step - loss: 2.7992 - accuracy: 0.2524\n",
            "Epoch 2/5\n",
            "2500/2500 [==============================] - 7s 3ms/step - loss: 2.2063 - accuracy: 0.1689\n",
            "Epoch 3/5\n",
            "2500/2500 [==============================] - 7s 3ms/step - loss: 2.2528 - accuracy: 0.1338\n",
            "Epoch 4/5\n",
            "2500/2500 [==============================] - 8s 3ms/step - loss: 2.2380 - accuracy: 0.1482\n",
            "Epoch 5/5\n",
            "2500/2500 [==============================] - 7s 3ms/step - loss: 2.2821 - accuracy: 0.1327\n",
            "625/625 [==============================] - 1s 2ms/step - loss: 2.2435 - accuracy: 0.1268\n",
            "--- Starting trial: run-103\n",
            "{'num_units1': 128, 'num_units2': 64, 'learning_rate': 0.005, 'actfn': 'linear', 'optimizer': 'sgd'}\n",
            "Epoch 1/5\n",
            "2500/2500 [==============================] - 6s 2ms/step - loss: nan - accuracy: 0.0998\n",
            "Epoch 2/5\n",
            "2500/2500 [==============================] - 6s 2ms/step - loss: nan - accuracy: 0.0998\n",
            "Epoch 3/5\n",
            "2500/2500 [==============================] - 6s 2ms/step - loss: nan - accuracy: 0.0998\n",
            "Epoch 4/5\n",
            "2500/2500 [==============================] - 5s 2ms/step - loss: nan - accuracy: 0.0998\n",
            "Epoch 5/5\n",
            "2500/2500 [==============================] - 6s 2ms/step - loss: nan - accuracy: 0.0998\n",
            "625/625 [==============================] - 1s 1ms/step - loss: nan - accuracy: 0.1010\n",
            "--- Starting trial: run-104\n",
            "{'num_units1': 128, 'num_units2': 64, 'learning_rate': 0.005, 'actfn': 'relu', 'optimizer': 'adam'}\n",
            "Epoch 1/5\n",
            "2500/2500 [==============================] - 7s 3ms/step - loss: 2.1937 - accuracy: 0.3549\n",
            "Epoch 2/5\n",
            "2500/2500 [==============================] - 7s 3ms/step - loss: 1.3023 - accuracy: 0.5237\n",
            "Epoch 3/5\n",
            "2500/2500 [==============================] - 7s 3ms/step - loss: 1.1155 - accuracy: 0.6101\n",
            "Epoch 4/5\n",
            "2500/2500 [==============================] - 7s 3ms/step - loss: 1.0642 - accuracy: 0.6328\n",
            "Epoch 5/5\n",
            "2500/2500 [==============================] - 8s 3ms/step - loss: 1.0616 - accuracy: 0.6362\n",
            "625/625 [==============================] - 1s 2ms/step - loss: 1.0218 - accuracy: 0.6530\n",
            "--- Starting trial: run-105\n",
            "{'num_units1': 128, 'num_units2': 64, 'learning_rate': 0.005, 'actfn': 'relu', 'optimizer': 'sgd'}\n",
            "Epoch 1/5\n",
            "2500/2500 [==============================] - 6s 2ms/step - loss: 5.5628 - accuracy: 0.1203\n",
            "Epoch 2/5\n",
            "2500/2500 [==============================] - 6s 2ms/step - loss: 2.1376 - accuracy: 0.1807\n",
            "Epoch 3/5\n",
            "2500/2500 [==============================] - 6s 2ms/step - loss: 2.0999 - accuracy: 0.1859\n",
            "Epoch 4/5\n",
            "2500/2500 [==============================] - 6s 3ms/step - loss: 1.9398 - accuracy: 0.2146\n",
            "Epoch 5/5\n",
            "2500/2500 [==============================] - 6s 2ms/step - loss: 1.8712 - accuracy: 0.2317\n",
            "625/625 [==============================] - 1s 2ms/step - loss: 1.8567 - accuracy: 0.2364\n",
            "--- Starting trial: run-106\n",
            "{'num_units1': 128, 'num_units2': 64, 'learning_rate': 0.005, 'actfn': 'sigmoid', 'optimizer': 'adam'}\n",
            "Epoch 1/5\n",
            "2500/2500 [==============================] - 7s 3ms/step - loss: 1.7239 - accuracy: 0.3458\n",
            "Epoch 2/5\n",
            "2500/2500 [==============================] - 8s 3ms/step - loss: 1.6592 - accuracy: 0.3746\n",
            "Epoch 3/5\n",
            "2500/2500 [==============================] - 7s 3ms/step - loss: 1.5337 - accuracy: 0.4420\n",
            "Epoch 4/5\n",
            "2500/2500 [==============================] - 7s 3ms/step - loss: 1.4672 - accuracy: 0.4767\n",
            "Epoch 5/5\n",
            "2500/2500 [==============================] - 7s 3ms/step - loss: 1.4751 - accuracy: 0.4633\n",
            "625/625 [==============================] - 1s 2ms/step - loss: 1.5089 - accuracy: 0.4277\n",
            "--- Starting trial: run-107\n",
            "{'num_units1': 128, 'num_units2': 64, 'learning_rate': 0.005, 'actfn': 'sigmoid', 'optimizer': 'sgd'}\n",
            "Epoch 1/5\n",
            "2500/2500 [==============================] - 6s 3ms/step - loss: 1.3034 - accuracy: 0.6009\n",
            "Epoch 2/5\n",
            "2500/2500 [==============================] - 6s 2ms/step - loss: 0.9035 - accuracy: 0.7313\n",
            "Epoch 3/5\n",
            "2500/2500 [==============================] - 8s 3ms/step - loss: 0.7967 - accuracy: 0.7621\n",
            "Epoch 4/5\n",
            "2500/2500 [==============================] - 10s 4ms/step - loss: 0.7406 - accuracy: 0.7767\n",
            "Epoch 5/5\n",
            "2500/2500 [==============================] - 6s 2ms/step - loss: 0.6985 - accuracy: 0.7892\n",
            "625/625 [==============================] - 1s 1ms/step - loss: 0.6872 - accuracy: 0.7902\n"
          ],
          "name": "stdout"
        }
      ]
    },
    {
      "cell_type": "code",
      "metadata": {
        "id": "iRM6KKwoEbh1",
        "colab_type": "code",
        "colab": {
          "base_uri": "https://localhost:8080/"
        },
        "outputId": "d0b37b61-bde6-47d0-afb8-d1188684a056"
      },
      "source": [
        "# Visualization with tensorboard\n",
        "%tensorboard --logdir logs/hparams_tuning"
      ],
      "execution_count": 26,
      "outputs": [
        {
          "output_type": "display_data",
          "data": {
            "application/javascript": [
              "\n",
              "        (async () => {\n",
              "            const url = await google.colab.kernel.proxyPort(6006, {\"cache\": true});\n",
              "            const iframe = document.createElement('iframe');\n",
              "            iframe.src = url;\n",
              "            iframe.setAttribute('width', '100%');\n",
              "            iframe.setAttribute('height', '800');\n",
              "            iframe.setAttribute('frameborder', 0);\n",
              "            document.body.appendChild(iframe);\n",
              "        })();\n",
              "    "
            ],
            "text/plain": [
              "<IPython.core.display.Javascript object>"
            ]
          },
          "metadata": {
            "tags": []
          }
        }
      ]
    },
    {
      "cell_type": "markdown",
      "metadata": {
        "id": "x_jmr_fIFGNI",
        "colab_type": "text"
      },
      "source": [
        "### Scikit learn hypertunning tools: GridSearchCV, RandomizedSearchCV"
      ]
    },
    {
      "cell_type": "code",
      "metadata": {
        "id": "OgZs2MfEEv4t",
        "colab_type": "code",
        "colab": {}
      },
      "source": [
        "# WARNING - may take a few minutes before any output is visible\n",
        "\n",
        "import numpy\n",
        "import pandas as pd\n",
        "from sklearn.model_selection import GridSearchCV, RandomizedSearchCV\n",
        "from tensorflow.keras.models import Sequential\n",
        "from tensorflow.keras.layers import Dense\n",
        "from tensorflow.keras.wrappers.scikit_learn import KerasClassifier\n",
        "\n",
        "# relu is fast for computation. 0 or y=x, compared to sigmoid\n",
        "\n",
        "# Function to create model with .fit method. This is required in KerasClassifier\n",
        "\n",
        "def create_model(units1=32, units2=8, opti='rmsprop', init='glorot_uniform', actfn='relu'):\n",
        "    # create model\n",
        "    model = Sequential()\n",
        "    # units are the number of hidden neurons\n",
        "    model.add(Dense(units1, input_dim=784, kernel_initializer=init, activation='relu'))\n",
        "    model.add(Dense(units2, kernel_initializer=init, activation=actfn))\n",
        "    # 10 output labels\n",
        "    model.add(Dense(10, kernel_initializer=init, activation='softmax'))\n",
        "    # Compile model\n",
        "    #sparse requires 1hot-encoding at the output\n",
        "    model.compile(loss='sparse_categorical_crossentropy', optimizer=opti, metrics=['accuracy'])\n",
        "    return model\n",
        "\n",
        "# fix random seed for reproducibility\n",
        "seed = 7\n",
        "numpy.random.seed(seed)\n",
        "\n",
        "# create model that can accept the fit method\n",
        "model = KerasClassifier(build_fn=create_model, verbose=1)\n",
        "\n",
        "# define the grid search parameters\n",
        "optimizers = ['rmsprop', 'adam']\n",
        "optimizer = {'rmsprop': keras.optimizers.RMSprop(learn_rate),\n",
        "             'adam': keras.optimizers.Adam(learn_rate)\n",
        "             }\n",
        "\n",
        "lrates = [0.001]\n",
        "inits = ['normal', 'uniform']\n",
        "epochs = [5, 10]\n",
        "batches = [32, 128]\n",
        "acts = ['relu', 'sigmoid']\n",
        "# param_grid = dict(opti=optimizers, epochs=epochs, batch_size=batches, init=inits, units1=[32, 64], units2=[8,32], actfn=acts)\n",
        "\n",
        "param_grid = {'batch_size': batches,\n",
        "              'epochs': epochs,\n",
        "              'units1': [32, 64],\n",
        "              'units2': [8, 32],\n",
        "              'opti': optimizer[opimizers],\n",
        "              'learn_rate' : lrates,\n",
        "              'init': inits\n",
        "              }\n",
        "\n",
        "# Create Grid Search\n",
        "grid = GridSearchCV(estimator=model, param_grid=param_grid, n_jobs=-1)\n",
        "grid_result = grid.fit(X_train, y_train)\n",
        "\n",
        "# Report Results\n",
        "print(f\"Best: {grid_result.best_score_} using {grid_result.best_params_}\")\n",
        "\n",
        "# Cross validation parameters\n",
        "means = grid_result.cv_results_['mean_test_score']\n",
        "stds = grid_result.cv_results_['std_test_score']\n",
        "params = grid_result.cv_results_['params']\n",
        "# one mean, std, param set for each gridsearch vector. \n",
        "# The mean refers to test_score mean of all epochs within each gridsearch verctor\n",
        "# The epochs log only shows the epoch train steps for the best gridsearch vector (parameter set), batch_size=32 in this case\n",
        "# perhaps gridsearch decide the best params based on mean score of all epochs, which is not necessarily the best last trained score\n",
        "for mean, stdev, param in zip(means, stds, params):\n",
        "    print(f\"Means: {mean}, Stdev: {stdev} with: {param}\")"
      ],
      "execution_count": null,
      "outputs": []
    },
    {
      "cell_type": "markdown",
      "metadata": {
        "id": "LKbr1gRg9BXs",
        "colab_type": "text"
      },
      "source": [
        "### Stretch Goals\n",
        "- Implement Bayesian Hyper-parameter Optimization\n",
        "- Select a new dataset and apply a neural network to it.\n",
        "- Use a cloud base experiment tracking framework such as weights and biases\n",
        "- Research potential architecture ideas for this problem. Try Lenet-10 for example. "
      ]
    }
  ]
}