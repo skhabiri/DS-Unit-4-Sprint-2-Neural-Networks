{
 "cells": [
  {
   "cell_type": "markdown",
   "metadata": {
    "colab_type": "text",
    "id": "HJzTIkYAsLxw"
   },
   "source": [
    "# Lets Use Libraries!\n",
    "\n",
    "In the past we became familiarized with the fundamentals of neural networks: terminology, structure of networks, forward propagation, error/cost functions, backpropagation, epochs, and gradient descent. This topics were reinforced by requiring to code some of the simplest neural networks by hand including Perceptrons (single node neural networks) and Multi-Layer Perceptrons also known as Feed-Forward Neural Networks. Continuing to do things by hand would not be the best use of our limited time. Let's start using some powerful libraries to build cutting-edge predictive models. "
   ]
  },
  {
   "cell_type": "markdown",
   "metadata": {
    "colab_type": "text",
    "id": "MFYCXc5KdkPE"
   },
   "source": [
    "# Keras\n",
    "\n",
    "> \"Keras is a high-level neural networks API, written in Python and capable of running on top of TensorFlow, CNTK, or Theano. It was developed with a focus on enabling fast experimentation. Being able to go from idea to result with the least possible delay is key to doing good research. Use Keras if you need a deep learning library that:\n",
    "\n",
    "> Allows for easy and fast prototyping (through user friendliness, modularity, and extensibility).\n",
    "Supports both convolutional networks and recurrent networks, as well as combinations of the two.\n",
    "Runs seamlessly on CPU and GPU.\" \n",
    "\n",
    "## Installation\n",
    "\n",
    "The Keras API is particularly straightforward and it already comes pre-installed on Google Colab! \n",
    "\n",
    "\n",
    "If you're not on Google Colab you'll need to install one of the \"backend\" engines that Keras runs on top of. I recommend Tensorflow:\n",
    "\n",
    "> `pip install tensorflow`\n",
    "\n",
    "Google Colab does not have the latest Tensorflow 2.0 installation, so you'll need to upgrade to that if you want to experiment with it. However Tensorflow 2.0 was just released recently so if you **really** want to use the latest and greatest be prepared for odd bugs that you don't have control over every once in a while. <https://www.tensorflow.org/install/>"
   ]
  },
  {
   "cell_type": "code",
   "execution_count": 3,
   "metadata": {
    "colab": {},
    "colab_type": "code",
    "id": "QEncs0SOsFMT"
   },
   "outputs": [],
   "source": [
    "# Use pip freeze to see what packages/libraries your notebook has access to\n",
    "# !pip freeze"
   ]
  },
  {
   "cell_type": "markdown",
   "metadata": {
    "colab_type": "text",
    "id": "VxgUUpIKn54a"
   },
   "source": [
    "## Our First Keras Model - Perceptron, Batch epochs\n",
    "\n",
    "1) Load Data\n",
    "\n",
    "2) Define Model\n",
    "\n",
    "3) Compile Model\n",
    "\n",
    "4) Fit Model\n",
    "\n",
    "5) Evaluate Model"
   ]
  },
  {
   "cell_type": "markdown",
   "metadata": {
    "colab_type": "text",
    "id": "Md5D67XwqVAf"
   },
   "source": [
    "### Load Data\n",
    "\n",
    "Our life is going to be easier if our data is already cleaned up and numeric, so lets use this dataset from Jason Brownlee that is already numeric and has no column headers so we'll need to slice off the last column of data to act as our y values."
   ]
  },
  {
   "cell_type": "code",
   "execution_count": 4,
   "metadata": {
    "colab": {
     "base_uri": "https://localhost:8080/",
     "height": 109,
     "resources": {
      "http://localhost:8080/nbextensions/google.colab/files.js": {
       "data": "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",
       "headers": [
        [
         "content-type",
         "application/javascript"
        ]
       ],
       "ok": true,
       "status": 200,
       "status_text": ""
      }
     }
    },
    "colab_type": "code",
    "id": "bn09phMBpY1J",
    "outputId": "1c45fb6a-e3cb-4ec1-fb85-de52b3c60bae"
   },
   "outputs": [],
   "source": [
    "# # https://raw.githubusercontent.com/jbrownlee/Datasets/master/pima-indians-diabetes.data.csv\n",
    "# from google.colab import files\n",
    "# files.upload()"
   ]
  },
  {
   "cell_type": "code",
   "execution_count": 39,
   "metadata": {},
   "outputs": [],
   "source": [
    "import numpy as np\n",
    "url = \"https://raw.githubusercontent.com/skhabiri/ML-ANN/main/data/pima-indians-diabetes.data.csv\""
   ]
  },
  {
   "cell_type": "markdown",
   "metadata": {},
   "source": [
    "### Load Pima Indians Dataset\n",
    "\n",
    "***First method to open a url with request object using `requests` library***"
   ]
  },
  {
   "cell_type": "code",
   "execution_count": 40,
   "metadata": {},
   "outputs": [
    {
     "data": {
      "text/plain": [
       "(numpy.ndarray, (768, 9))"
      ]
     },
     "execution_count": 40,
     "metadata": {},
     "output_type": "execute_result"
    }
   ],
   "source": [
    "import requests\n",
    "r = requests.get(url, stream=True)\n",
    "with r.raw as f:\n",
    "    dataset = np.loadtxt(f, delimiter=',')\n",
    "type(dataset), dataset.shape"
   ]
  },
  {
   "cell_type": "markdown",
   "metadata": {},
   "source": [
    "***Second method to open a url with a request object using `urlib.request` library***"
   ]
  },
  {
   "cell_type": "code",
   "execution_count": 7,
   "metadata": {},
   "outputs": [
    {
     "data": {
      "text/plain": [
       "(numpy.ndarray, (768, 9))"
      ]
     },
     "execution_count": 7,
     "metadata": {},
     "output_type": "execute_result"
    }
   ],
   "source": [
    "import urllib.request\n",
    "\n",
    "with urllib.request.urlopen(url) as f:\n",
    "    dataset = np.loadtxt(f, delimiter=',')\n",
    "type(dataset), dataset.shape"
   ]
  },
  {
   "cell_type": "code",
   "execution_count": 8,
   "metadata": {
    "colab": {
     "base_uri": "https://localhost:8080/",
     "height": 725
    },
    "colab_type": "code",
    "id": "FKuofD3Pogil",
    "outputId": "16c2f4fa-93c8-491d-b339-9f35f7918621"
   },
   "outputs": [
    {
     "name": "stdout",
     "output_type": "stream",
     "text": [
      "(768, 8)\n",
      "[[  6.    148.     72.     35.      0.     33.6     0.627  50.   ]\n",
      " [  1.     85.     66.     29.      0.     26.6     0.351  31.   ]]\n",
      "(768,)\n",
      "[1. 0.]\n"
     ]
    }
   ],
   "source": [
    "# dataset = numpy.loadtxt('pima-indians-diabetes.csv', delimiter=',')\n",
    "\n",
    "# Split into X and Y variables\n",
    "X = dataset[:,0:8]\n",
    "print(X.shape)\n",
    "print(X[0:2,:])\n",
    "Y = dataset[:,-1]\n",
    "print(Y.shape)\n",
    "print(Y[0:2])"
   ]
  },
  {
   "cell_type": "markdown",
   "metadata": {
    "colab_type": "text",
    "id": "o0xMqOyTs5xt"
   },
   "source": [
    "### Define Model"
   ]
  },
  {
   "cell_type": "code",
   "execution_count": 38,
   "metadata": {},
   "outputs": [
    {
     "data": {
      "text/plain": [
       "'2.4.0'"
      ]
     },
     "execution_count": 38,
     "metadata": {},
     "output_type": "execute_result"
    }
   ],
   "source": [
    "import tensorflow\n",
    "tensorflow.__version__"
   ]
  },
  {
   "cell_type": "code",
   "execution_count": 9,
   "metadata": {
    "colab": {},
    "colab_type": "code",
    "id": "Bp9USczrfu6M"
   },
   "outputs": [],
   "source": [
    "from keras.models import Sequential\n",
    "from keras.layers import Dense\n",
    "# fix random seed for reproducibility\n",
    "# Reseed a legacy MT19937 BitGenerator\n",
    "np.random.seed(42)"
   ]
  },
  {
   "cell_type": "markdown",
   "metadata": {
    "colab_type": "text",
    "id": "wAzHLg27thoN"
   },
   "source": [
    "I'll instantiate my model as a \"sequential\" model. This just means that I'm going to tell Keras what my model's architecture should be one layer at a time."
   ]
  },
  {
   "cell_type": "code",
   "execution_count": 10,
   "metadata": {
    "colab": {},
    "colab_type": "code",
    "id": "DSNsL49Xp6KI"
   },
   "outputs": [],
   "source": [
    "# https://keras.io/getting-started/sequential-model-guide/\n",
    "model = Sequential()"
   ]
  },
  {
   "cell_type": "markdown",
   "metadata": {
    "colab_type": "text",
    "id": "ZCYX6QzJtvpG"
   },
   "source": [
    "Adding a \"Dense\" layer to our model is how we add \"vanilla\" perceptron-based layers to our neural network. These are also called \"fully-connected\" or \"densely-connected\" layers. They're used as a layer type in lots of other Neural Net Architectures but they're not referred to as perceptrons or multi-layer perceptrons very often in those situations even though that's what they are.\n",
    "\n",
    " > [\"Just your regular densely-connected NN layer.\"](https://keras.io/layers/core/)\n",
    " \n",
    " The first argument is how many neurons we want to have in that layer. To create a perceptron model we will just set it to 1. We will tell it that there will be 8 inputs coming into this layer from our dataset and set it to use the sigmoid activation function."
   ]
  },
  {
   "cell_type": "code",
   "execution_count": 11,
   "metadata": {
    "colab": {
     "base_uri": "https://localhost:8080/",
     "height": 89
    },
    "colab_type": "code",
    "id": "GNzOLidxtvFa",
    "outputId": "35b1457d-0189-49f1-aa6d-3ef15b29bd6e"
   },
   "outputs": [],
   "source": [
    "model.add(Dense(1, input_dim=8, activation=\"sigmoid\"))"
   ]
  },
  {
   "cell_type": "markdown",
   "metadata": {
    "colab_type": "text",
    "id": "EnI3jwKMtBL2"
   },
   "source": [
    "### Compile Model\n",
    "Using binary_crossentropy as the loss function here is just telling keras that I'm doing binary classification so that it can use the appropriate loss function accordingly. If we were predicting non-binary categories we might assign something like `categorical_crossentropy`. We're also telling keras that we want it to report model accuracy as our main error metric for each epoch. We will also be able to see the overall accuracy once the model has finished training.\n",
    "\n",
    "#### Adam Optimizer\n",
    "Check out this links for more background on the Adam optimizer and Stohastic Gradient Descent\n",
    "* [Adam Optimization Algorithm](https://machinelearningmastery.com/adam-optimization-algorithm-for-deep-learning/)\n",
    "* [Adam Optimizer - original paper](https://arxiv.org/abs/1412.6980)"
   ]
  },
  {
   "cell_type": "code",
   "execution_count": 12,
   "metadata": {
    "colab": {},
    "colab_type": "code",
    "id": "qp6xwYaqurRO"
   },
   "outputs": [],
   "source": [
    "model.compile(loss='binary_crossentropy', optimizer='adam', metrics=['accuracy'])"
   ]
  },
  {
   "cell_type": "markdown",
   "metadata": {
    "colab_type": "text",
    "id": "5dW8SZ2Ls9SX"
   },
   "source": [
    "### Fit Model\n",
    "\n",
    "Lets train it up! `model.fit()` has a `batch_size` parameter that we can use if we want to do mini-batch epochs, but since this tabular dataset is pretty small we're just going to delete that parameter. Keras' default `batch_size` is `None` so omiting it will tell Keras to do batch_size=32 default. "
   ]
  },
  {
   "cell_type": "code",
   "execution_count": 13,
   "metadata": {
    "colab": {
     "base_uri": "https://localhost:8080/",
     "height": 5288
    },
    "colab_type": "code",
    "id": "nJxdmX_-u5MJ",
    "outputId": "ae78a80d-5b9a-46e0-a8c2-45b41e40bdfd"
   },
   "outputs": [
    {
     "name": "stdout",
     "output_type": "stream",
     "text": [
      "Epoch 1/150\n",
      "24/24 [==============================] - 0s 639us/step - loss: 37.1538 - accuracy: 0.3986\n",
      "Epoch 2/150\n",
      "24/24 [==============================] - 0s 559us/step - loss: 41.1300 - accuracy: 0.3919\n",
      "Epoch 3/150\n",
      "24/24 [==============================] - 0s 777us/step - loss: 27.8831 - accuracy: 0.4534\n",
      "Epoch 4/150\n",
      "24/24 [==============================] - 0s 848us/step - loss: 30.0582 - accuracy: 0.4710\n",
      "Epoch 5/150\n",
      "24/24 [==============================] - 0s 853us/step - loss: 29.6987 - accuracy: 0.4549\n",
      "Epoch 6/150\n",
      "24/24 [==============================] - 0s 998us/step - loss: 27.8677 - accuracy: 0.4756\n",
      "Epoch 7/150\n",
      "24/24 [==============================] - 0s 867us/step - loss: 24.9109 - accuracy: 0.4667\n",
      "Epoch 8/150\n",
      "24/24 [==============================] - 0s 702us/step - loss: 26.5293 - accuracy: 0.4826\n",
      "Epoch 9/150\n",
      "24/24 [==============================] - 0s 719us/step - loss: 22.7328 - accuracy: 0.5145\n",
      "Epoch 10/150\n",
      "24/24 [==============================] - 0s 860us/step - loss: 21.6866 - accuracy: 0.5114\n",
      "Epoch 11/150\n",
      "24/24 [==============================] - 0s 733us/step - loss: 19.8446 - accuracy: 0.5369\n",
      "Epoch 12/150\n",
      "24/24 [==============================] - 0s 778us/step - loss: 22.1513 - accuracy: 0.5152\n",
      "Epoch 13/150\n",
      "24/24 [==============================] - 0s 842us/step - loss: 18.4015 - accuracy: 0.5601\n",
      "Epoch 14/150\n",
      "24/24 [==============================] - 0s 788us/step - loss: 17.4942 - accuracy: 0.5629\n",
      "Epoch 15/150\n",
      "24/24 [==============================] - 0s 884us/step - loss: 16.6383 - accuracy: 0.5623\n",
      "Epoch 16/150\n",
      "24/24 [==============================] - 0s 782us/step - loss: 16.2191 - accuracy: 0.5845\n",
      "Epoch 17/150\n",
      "24/24 [==============================] - 0s 818us/step - loss: 14.8681 - accuracy: 0.5899\n",
      "Epoch 18/150\n",
      "24/24 [==============================] - 0s 855us/step - loss: 17.1082 - accuracy: 0.5868\n",
      "Epoch 19/150\n",
      "24/24 [==============================] - 0s 804us/step - loss: 14.1462 - accuracy: 0.5622\n",
      "Epoch 20/150\n",
      "24/24 [==============================] - 0s 900us/step - loss: 14.4702 - accuracy: 0.5554\n",
      "Epoch 21/150\n",
      "24/24 [==============================] - 0s 865us/step - loss: 12.9984 - accuracy: 0.5585\n",
      "Epoch 22/150\n",
      "24/24 [==============================] - 0s 929us/step - loss: 11.9373 - accuracy: 0.5920\n",
      "Epoch 23/150\n",
      "24/24 [==============================] - 0s 1ms/step - loss: 11.9487 - accuracy: 0.5752\n",
      "Epoch 24/150\n",
      "24/24 [==============================] - 0s 808us/step - loss: 10.2425 - accuracy: 0.5915\n",
      "Epoch 25/150\n",
      "24/24 [==============================] - 0s 872us/step - loss: 10.5024 - accuracy: 0.5870\n",
      "Epoch 26/150\n",
      "24/24 [==============================] - 0s 848us/step - loss: 9.3238 - accuracy: 0.5821\n",
      "Epoch 27/150\n",
      "24/24 [==============================] - 0s 776us/step - loss: 9.3290 - accuracy: 0.5856\n",
      "Epoch 28/150\n",
      "24/24 [==============================] - 0s 729us/step - loss: 8.2511 - accuracy: 0.5807\n",
      "Epoch 29/150\n",
      "24/24 [==============================] - 0s 984us/step - loss: 8.4644 - accuracy: 0.5469\n",
      "Epoch 30/150\n",
      "24/24 [==============================] - 0s 805us/step - loss: 7.3965 - accuracy: 0.5765\n",
      "Epoch 31/150\n",
      "24/24 [==============================] - 0s 862us/step - loss: 7.0947 - accuracy: 0.5555\n",
      "Epoch 32/150\n",
      "24/24 [==============================] - 0s 789us/step - loss: 6.1006 - accuracy: 0.5663\n",
      "Epoch 33/150\n",
      "24/24 [==============================] - 0s 821us/step - loss: 5.8021 - accuracy: 0.5529\n",
      "Epoch 34/150\n",
      "24/24 [==============================] - 0s 805us/step - loss: 5.5064 - accuracy: 0.5561\n",
      "Epoch 35/150\n",
      "24/24 [==============================] - 0s 856us/step - loss: 4.5952 - accuracy: 0.5902\n",
      "Epoch 36/150\n",
      "24/24 [==============================] - 0s 766us/step - loss: 4.8518 - accuracy: 0.5585\n",
      "Epoch 37/150\n",
      "24/24 [==============================] - 0s 863us/step - loss: 4.4971 - accuracy: 0.5656\n",
      "Epoch 38/150\n",
      "24/24 [==============================] - 0s 826us/step - loss: 4.2635 - accuracy: 0.5864\n",
      "Epoch 39/150\n",
      "24/24 [==============================] - 0s 739us/step - loss: 4.2562 - accuracy: 0.5547\n",
      "Epoch 40/150\n",
      "24/24 [==============================] - 0s 810us/step - loss: 4.1721 - accuracy: 0.5488\n",
      "Epoch 41/150\n",
      "24/24 [==============================] - 0s 879us/step - loss: 3.7138 - accuracy: 0.5349\n",
      "Epoch 42/150\n",
      "24/24 [==============================] - 0s 693us/step - loss: 3.4601 - accuracy: 0.5736\n",
      "Epoch 43/150\n",
      "24/24 [==============================] - 0s 840us/step - loss: 3.5117 - accuracy: 0.5555\n",
      "Epoch 44/150\n",
      "24/24 [==============================] - 0s 809us/step - loss: 3.2194 - accuracy: 0.5902\n",
      "Epoch 45/150\n",
      "24/24 [==============================] - 0s 840us/step - loss: 3.2527 - accuracy: 0.5524\n",
      "Epoch 46/150\n",
      "24/24 [==============================] - 0s 807us/step - loss: 2.9768 - accuracy: 0.5879\n",
      "Epoch 47/150\n",
      "24/24 [==============================] - 0s 854us/step - loss: 2.9459 - accuracy: 0.5588\n",
      "Epoch 48/150\n",
      "24/24 [==============================] - 0s 873us/step - loss: 2.8711 - accuracy: 0.5698\n",
      "Epoch 49/150\n",
      "24/24 [==============================] - 0s 826us/step - loss: 2.7147 - accuracy: 0.5682\n",
      "Epoch 50/150\n",
      "24/24 [==============================] - 0s 762us/step - loss: 2.6174 - accuracy: 0.5757\n",
      "Epoch 51/150\n",
      "24/24 [==============================] - 0s 899us/step - loss: 2.8427 - accuracy: 0.5760\n",
      "Epoch 52/150\n",
      "24/24 [==============================] - 0s 940us/step - loss: 2.6541 - accuracy: 0.5648\n",
      "Epoch 53/150\n",
      "24/24 [==============================] - 0s 843us/step - loss: 2.2743 - accuracy: 0.5996\n",
      "Epoch 54/150\n",
      "24/24 [==============================] - 0s 718us/step - loss: 2.4774 - accuracy: 0.5618\n",
      "Epoch 55/150\n",
      "24/24 [==============================] - 0s 915us/step - loss: 2.1471 - accuracy: 0.5941\n",
      "Epoch 56/150\n",
      "24/24 [==============================] - 0s 929us/step - loss: 2.1455 - accuracy: 0.6031\n",
      "Epoch 57/150\n",
      "24/24 [==============================] - 0s 884us/step - loss: 2.1645 - accuracy: 0.5485\n",
      "Epoch 58/150\n",
      "24/24 [==============================] - 0s 1ms/step - loss: 2.0161 - accuracy: 0.5939\n",
      "Epoch 59/150\n",
      "24/24 [==============================] - 0s 912us/step - loss: 1.7894 - accuracy: 0.6068\n",
      "Epoch 60/150\n",
      "24/24 [==============================] - 0s 885us/step - loss: 1.8308 - accuracy: 0.5942\n",
      "Epoch 61/150\n",
      "24/24 [==============================] - 0s 793us/step - loss: 1.7104 - accuracy: 0.6044\n",
      "Epoch 62/150\n",
      "24/24 [==============================] - 0s 839us/step - loss: 1.7574 - accuracy: 0.5977\n",
      "Epoch 63/150\n",
      "24/24 [==============================] - 0s 864us/step - loss: 1.6019 - accuracy: 0.6074\n",
      "Epoch 64/150\n",
      "24/24 [==============================] - 0s 906us/step - loss: 1.4808 - accuracy: 0.5734\n",
      "Epoch 65/150\n",
      "24/24 [==============================] - 0s 757us/step - loss: 1.3826 - accuracy: 0.6066\n",
      "Epoch 66/150\n",
      "24/24 [==============================] - 0s 819us/step - loss: 1.4852 - accuracy: 0.5854\n",
      "Epoch 67/150\n",
      "24/24 [==============================] - 0s 817us/step - loss: 1.3201 - accuracy: 0.6090\n",
      "Epoch 68/150\n",
      "24/24 [==============================] - 0s 974us/step - loss: 1.3294 - accuracy: 0.6038\n",
      "Epoch 69/150\n",
      "24/24 [==============================] - 0s 876us/step - loss: 1.2383 - accuracy: 0.5889\n",
      "Epoch 70/150\n",
      "24/24 [==============================] - 0s 991us/step - loss: 1.2391 - accuracy: 0.6027\n",
      "Epoch 71/150\n",
      "24/24 [==============================] - 0s 1ms/step - loss: 1.1610 - accuracy: 0.5972\n",
      "Epoch 72/150\n",
      "24/24 [==============================] - 0s 1ms/step - loss: 1.0530 - accuracy: 0.6253\n",
      "Epoch 73/150\n",
      "24/24 [==============================] - 0s 897us/step - loss: 1.0058 - accuracy: 0.6233\n",
      "Epoch 74/150\n",
      "24/24 [==============================] - 0s 787us/step - loss: 1.0303 - accuracy: 0.5970\n",
      "Epoch 75/150\n",
      "24/24 [==============================] - 0s 889us/step - loss: 1.0214 - accuracy: 0.5989\n",
      "Epoch 76/150\n",
      "24/24 [==============================] - 0s 915us/step - loss: 0.8939 - accuracy: 0.6216\n",
      "Epoch 77/150\n",
      "24/24 [==============================] - 0s 829us/step - loss: 0.9572 - accuracy: 0.6209\n",
      "Epoch 78/150\n",
      "24/24 [==============================] - 0s 715us/step - loss: 0.9092 - accuracy: 0.6376\n",
      "Epoch 79/150\n",
      "24/24 [==============================] - 0s 862us/step - loss: 0.8413 - accuracy: 0.6373\n",
      "Epoch 80/150\n",
      "24/24 [==============================] - 0s 837us/step - loss: 0.8523 - accuracy: 0.6196\n",
      "Epoch 81/150\n",
      "24/24 [==============================] - 0s 813us/step - loss: 0.8334 - accuracy: 0.6167\n",
      "Epoch 82/150\n",
      "24/24 [==============================] - 0s 775us/step - loss: 0.7917 - accuracy: 0.6670\n",
      "Epoch 83/150\n",
      "24/24 [==============================] - 0s 854us/step - loss: 0.8502 - accuracy: 0.6388\n",
      "Epoch 84/150\n",
      "24/24 [==============================] - 0s 804us/step - loss: 0.7507 - accuracy: 0.6383\n",
      "Epoch 85/150\n",
      "24/24 [==============================] - 0s 794us/step - loss: 0.8066 - accuracy: 0.6421\n",
      "Epoch 86/150\n",
      "24/24 [==============================] - 0s 752us/step - loss: 0.7664 - accuracy: 0.6381\n",
      "Epoch 87/150\n",
      "24/24 [==============================] - 0s 782us/step - loss: 0.7312 - accuracy: 0.6406\n",
      "Epoch 88/150\n",
      "24/24 [==============================] - 0s 859us/step - loss: 0.7232 - accuracy: 0.6704\n",
      "Epoch 89/150\n",
      "24/24 [==============================] - 0s 757us/step - loss: 0.7320 - accuracy: 0.6322\n",
      "Epoch 90/150\n",
      "24/24 [==============================] - 0s 806us/step - loss: 0.7078 - accuracy: 0.6614\n",
      "Epoch 91/150\n",
      "24/24 [==============================] - 0s 839us/step - loss: 0.7186 - accuracy: 0.6562\n",
      "Epoch 92/150\n",
      "24/24 [==============================] - 0s 700us/step - loss: 0.6881 - accuracy: 0.6460\n",
      "Epoch 93/150\n",
      "24/24 [==============================] - 0s 836us/step - loss: 0.6932 - accuracy: 0.6446\n",
      "Epoch 94/150\n",
      "24/24 [==============================] - 0s 768us/step - loss: 0.6932 - accuracy: 0.6636\n",
      "Epoch 95/150\n",
      "24/24 [==============================] - 0s 812us/step - loss: 0.6527 - accuracy: 0.6565\n",
      "Epoch 96/150\n",
      "24/24 [==============================] - 0s 797us/step - loss: 0.6579 - accuracy: 0.6931\n",
      "Epoch 97/150\n",
      "24/24 [==============================] - 0s 877us/step - loss: 0.6248 - accuracy: 0.6657\n",
      "Epoch 98/150\n",
      "24/24 [==============================] - 0s 796us/step - loss: 0.6409 - accuracy: 0.6884\n",
      "Epoch 99/150\n",
      "24/24 [==============================] - 0s 832us/step - loss: 0.6717 - accuracy: 0.6722\n",
      "Epoch 100/150\n",
      "24/24 [==============================] - 0s 779us/step - loss: 0.6622 - accuracy: 0.6503\n",
      "Epoch 101/150\n",
      "24/24 [==============================] - 0s 873us/step - loss: 0.6356 - accuracy: 0.6807\n",
      "Epoch 102/150\n",
      "24/24 [==============================] - 0s 949us/step - loss: 0.6241 - accuracy: 0.6924\n",
      "Epoch 103/150\n",
      "24/24 [==============================] - 0s 1ms/step - loss: 0.6255 - accuracy: 0.6821\n",
      "Epoch 104/150\n",
      "24/24 [==============================] - 0s 845us/step - loss: 0.5973 - accuracy: 0.7068\n",
      "Epoch 105/150\n",
      "24/24 [==============================] - 0s 784us/step - loss: 0.6112 - accuracy: 0.6868\n",
      "Epoch 106/150\n",
      "24/24 [==============================] - 0s 863us/step - loss: 0.6499 - accuracy: 0.6724\n",
      "Epoch 107/150\n",
      "24/24 [==============================] - 0s 966us/step - loss: 0.6141 - accuracy: 0.6812\n",
      "Epoch 108/150\n",
      "24/24 [==============================] - 0s 915us/step - loss: 0.5994 - accuracy: 0.6892\n",
      "Epoch 109/150\n",
      "24/24 [==============================] - 0s 894us/step - loss: 0.6252 - accuracy: 0.6686\n",
      "Epoch 110/150\n",
      "24/24 [==============================] - 0s 866us/step - loss: 0.6111 - accuracy: 0.6945\n",
      "Epoch 111/150\n",
      "24/24 [==============================] - 0s 822us/step - loss: 0.6045 - accuracy: 0.6769\n",
      "Epoch 112/150\n",
      "24/24 [==============================] - 0s 878us/step - loss: 0.6029 - accuracy: 0.6898\n",
      "Epoch 113/150\n",
      "24/24 [==============================] - 0s 1ms/step - loss: 0.5863 - accuracy: 0.7190\n",
      "Epoch 114/150\n",
      "24/24 [==============================] - 0s 914us/step - loss: 0.5890 - accuracy: 0.7124\n",
      "Epoch 115/150\n",
      "24/24 [==============================] - 0s 905us/step - loss: 0.5912 - accuracy: 0.6943\n",
      "Epoch 116/150\n",
      "24/24 [==============================] - 0s 834us/step - loss: 0.5970 - accuracy: 0.7056\n",
      "Epoch 117/150\n",
      "24/24 [==============================] - 0s 834us/step - loss: 0.6088 - accuracy: 0.6870\n",
      "Epoch 118/150\n",
      "24/24 [==============================] - 0s 990us/step - loss: 0.5981 - accuracy: 0.6916\n",
      "Epoch 119/150\n",
      "24/24 [==============================] - 0s 867us/step - loss: 0.6075 - accuracy: 0.6873\n",
      "Epoch 120/150\n",
      "24/24 [==============================] - 0s 837us/step - loss: 0.6264 - accuracy: 0.6740\n",
      "Epoch 121/150\n",
      "24/24 [==============================] - 0s 964us/step - loss: 0.6108 - accuracy: 0.6631\n",
      "Epoch 122/150\n",
      "24/24 [==============================] - 0s 916us/step - loss: 0.5922 - accuracy: 0.6934\n",
      "Epoch 123/150\n",
      "24/24 [==============================] - 0s 822us/step - loss: 0.5662 - accuracy: 0.7230\n",
      "Epoch 124/150\n",
      "24/24 [==============================] - 0s 814us/step - loss: 0.6013 - accuracy: 0.7034\n",
      "Epoch 125/150\n",
      "24/24 [==============================] - 0s 864us/step - loss: 0.5677 - accuracy: 0.7021\n",
      "Epoch 126/150\n",
      "24/24 [==============================] - 0s 794us/step - loss: 0.5997 - accuracy: 0.6958\n",
      "Epoch 127/150\n",
      "24/24 [==============================] - 0s 821us/step - loss: 0.5978 - accuracy: 0.6924\n",
      "Epoch 128/150\n",
      "24/24 [==============================] - 0s 852us/step - loss: 0.5725 - accuracy: 0.7320\n",
      "Epoch 129/150\n",
      "24/24 [==============================] - 0s 847us/step - loss: 0.5974 - accuracy: 0.7026\n",
      "Epoch 130/150\n",
      "24/24 [==============================] - 0s 927us/step - loss: 0.5990 - accuracy: 0.6901\n",
      "Epoch 131/150\n",
      "24/24 [==============================] - 0s 883us/step - loss: 0.6104 - accuracy: 0.6817\n",
      "Epoch 132/150\n",
      "24/24 [==============================] - 0s 840us/step - loss: 0.5741 - accuracy: 0.7247\n",
      "Epoch 133/150\n",
      "24/24 [==============================] - 0s 785us/step - loss: 0.5905 - accuracy: 0.7116\n",
      "Epoch 134/150\n",
      "24/24 [==============================] - 0s 907us/step - loss: 0.5850 - accuracy: 0.7034\n",
      "Epoch 135/150\n",
      "24/24 [==============================] - 0s 823us/step - loss: 0.5556 - accuracy: 0.7171\n",
      "Epoch 136/150\n",
      "24/24 [==============================] - 0s 803us/step - loss: 0.5839 - accuracy: 0.7071\n",
      "Epoch 137/150\n",
      "24/24 [==============================] - 0s 975us/step - loss: 0.5772 - accuracy: 0.7185\n",
      "Epoch 138/150\n",
      "24/24 [==============================] - 0s 812us/step - loss: 0.5943 - accuracy: 0.7222\n",
      "Epoch 139/150\n",
      "24/24 [==============================] - 0s 803us/step - loss: 0.5538 - accuracy: 0.7375\n",
      "Epoch 140/150\n",
      "24/24 [==============================] - 0s 948us/step - loss: 0.5722 - accuracy: 0.7356\n",
      "Epoch 141/150\n",
      "24/24 [==============================] - 0s 844us/step - loss: 0.5721 - accuracy: 0.7352\n",
      "Epoch 142/150\n",
      "24/24 [==============================] - 0s 930us/step - loss: 0.5805 - accuracy: 0.7053\n",
      "Epoch 143/150\n",
      "24/24 [==============================] - 0s 812us/step - loss: 0.5793 - accuracy: 0.7180\n",
      "Epoch 144/150\n",
      "24/24 [==============================] - 0s 933us/step - loss: 0.5725 - accuracy: 0.7390\n",
      "Epoch 145/150\n",
      "24/24 [==============================] - 0s 847us/step - loss: 0.5808 - accuracy: 0.7318\n",
      "Epoch 146/150\n",
      "24/24 [==============================] - 0s 887us/step - loss: 0.5956 - accuracy: 0.6914\n",
      "Epoch 147/150\n",
      "24/24 [==============================] - 0s 910us/step - loss: 0.5882 - accuracy: 0.7260\n",
      "Epoch 148/150\n",
      "24/24 [==============================] - 0s 898us/step - loss: 0.5797 - accuracy: 0.7166\n",
      "Epoch 149/150\n",
      "24/24 [==============================] - 0s 775us/step - loss: 0.5902 - accuracy: 0.7161\n",
      "Epoch 150/150\n",
      "24/24 [==============================] - 0s 835us/step - loss: 0.5829 - accuracy: 0.7002\n"
     ]
    },
    {
     "data": {
      "text/plain": [
       "<tensorflow.python.keras.callbacks.History at 0x7fce536f2710>"
      ]
     },
     "execution_count": 13,
     "metadata": {},
     "output_type": "execute_result"
    }
   ],
   "source": [
    "model.fit(X, Y, epochs=150)"
   ]
  },
  {
   "cell_type": "markdown",
   "metadata": {
    "colab_type": "text",
    "id": "BSybwWEJtGFm"
   },
   "source": [
    "### Evaluate Model"
   ]
  },
  {
   "cell_type": "code",
   "execution_count": 14,
   "metadata": {
    "colab": {
     "base_uri": "https://localhost:8080/",
     "height": 52
    },
    "colab_type": "code",
    "id": "34wh8z9MvFMp",
    "outputId": "f55fa2e8-59fe-4072-a8d3-6f2b9b8aa9c0"
   },
   "outputs": [
    {
     "name": "stdout",
     "output_type": "stream",
     "text": [
      "24/24 [==============================] - 0s 524us/step - loss: 0.5760 - accuracy: 0.7253\n",
      "accuracy: 72.52604365348816\n"
     ]
    }
   ],
   "source": [
    "scores = model.evaluate(X, Y)\n",
    "print(f\"{model.metrics_names[1]}: {scores[1]*100}\")"
   ]
  },
  {
   "cell_type": "markdown",
   "metadata": {
    "colab_type": "text",
    "id": "AIJoRBxHy27n"
   },
   "source": [
    "# Keras Perceptron Model in 4 lines of code:"
   ]
  },
  {
   "cell_type": "code",
   "execution_count": 15,
   "metadata": {
    "colab": {
     "base_uri": "https://localhost:8080/",
     "height": 5216
    },
    "colab_type": "code",
    "id": "TQxyONqKvFxB",
    "outputId": "12966e66-2297-4f82-85b3-c275a9c38563"
   },
   "outputs": [
    {
     "name": "stdout",
     "output_type": "stream",
     "text": [
      "Epoch 1/150\n",
      "24/24 [==============================] - 0s 1ms/step - loss: 28.2960 - accuracy: 0.6593\n",
      "Epoch 2/150\n",
      "24/24 [==============================] - 0s 1ms/step - loss: 26.8984 - accuracy: 0.6415\n",
      "Epoch 3/150\n",
      "24/24 [==============================] - 0s 755us/step - loss: 23.5531 - accuracy: 0.6499\n",
      "Epoch 4/150\n",
      "24/24 [==============================] - 0s 798us/step - loss: 22.2143 - accuracy: 0.6406\n",
      "Epoch 5/150\n",
      "24/24 [==============================] - 0s 734us/step - loss: 21.4001 - accuracy: 0.6351\n",
      "Epoch 6/150\n",
      "24/24 [==============================] - 0s 864us/step - loss: 17.1043 - accuracy: 0.6445\n",
      "Epoch 7/150\n",
      "24/24 [==============================] - 0s 765us/step - loss: 16.4734 - accuracy: 0.6386\n",
      "Epoch 8/150\n",
      "24/24 [==============================] - 0s 824us/step - loss: 13.5824 - accuracy: 0.6745\n",
      "Epoch 9/150\n",
      "24/24 [==============================] - 0s 954us/step - loss: 14.4723 - accuracy: 0.6346\n",
      "Epoch 10/150\n",
      "24/24 [==============================] - 0s 734us/step - loss: 12.1640 - accuracy: 0.6588\n",
      "Epoch 11/150\n",
      "24/24 [==============================] - 0s 800us/step - loss: 12.3539 - accuracy: 0.6113\n",
      "Epoch 12/150\n",
      "24/24 [==============================] - 0s 931us/step - loss: 10.9585 - accuracy: 0.6286\n",
      "Epoch 13/150\n",
      "24/24 [==============================] - 0s 850us/step - loss: 11.2943 - accuracy: 0.6117\n",
      "Epoch 14/150\n",
      "24/24 [==============================] - 0s 856us/step - loss: 9.0601 - accuracy: 0.6472\n",
      "Epoch 15/150\n",
      "24/24 [==============================] - 0s 948us/step - loss: 8.3539 - accuracy: 0.6403\n",
      "Epoch 16/150\n",
      "24/24 [==============================] - 0s 783us/step - loss: 7.4470 - accuracy: 0.6381\n",
      "Epoch 17/150\n",
      "24/24 [==============================] - 0s 831us/step - loss: 7.5105 - accuracy: 0.6103\n",
      "Epoch 18/150\n",
      "24/24 [==============================] - 0s 817us/step - loss: 6.6806 - accuracy: 0.6255\n",
      "Epoch 19/150\n",
      "24/24 [==============================] - 0s 815us/step - loss: 5.3928 - accuracy: 0.6270\n",
      "Epoch 20/150\n",
      "24/24 [==============================] - 0s 782us/step - loss: 4.5171 - accuracy: 0.6489\n",
      "Epoch 21/150\n",
      "24/24 [==============================] - 0s 861us/step - loss: 4.1832 - accuracy: 0.6378\n",
      "Epoch 22/150\n",
      "24/24 [==============================] - 0s 828us/step - loss: 4.4012 - accuracy: 0.6076\n",
      "Epoch 23/150\n",
      "24/24 [==============================] - 0s 849us/step - loss: 3.9203 - accuracy: 0.6002\n",
      "Epoch 24/150\n",
      "24/24 [==============================] - 0s 835us/step - loss: 3.3671 - accuracy: 0.6100\n",
      "Epoch 25/150\n",
      "24/24 [==============================] - 0s 938us/step - loss: 3.4219 - accuracy: 0.6002\n",
      "Epoch 26/150\n",
      "24/24 [==============================] - 0s 727us/step - loss: 3.1829 - accuracy: 0.6055\n",
      "Epoch 27/150\n",
      "24/24 [==============================] - 0s 832us/step - loss: 3.0342 - accuracy: 0.6043\n",
      "Epoch 28/150\n",
      "24/24 [==============================] - 0s 904us/step - loss: 2.9646 - accuracy: 0.6116\n",
      "Epoch 29/150\n",
      "24/24 [==============================] - 0s 922us/step - loss: 2.5688 - accuracy: 0.6403\n",
      "Epoch 30/150\n",
      "24/24 [==============================] - 0s 869us/step - loss: 2.6936 - accuracy: 0.6004\n",
      "Epoch 31/150\n",
      "24/24 [==============================] - 0s 997us/step - loss: 2.5821 - accuracy: 0.6103\n",
      "Epoch 32/150\n",
      "24/24 [==============================] - 0s 884us/step - loss: 2.4910 - accuracy: 0.5978\n",
      "Epoch 33/150\n",
      "24/24 [==============================] - 0s 1ms/step - loss: 2.3342 - accuracy: 0.6132\n",
      "Epoch 34/150\n",
      "24/24 [==============================] - 0s 954us/step - loss: 2.3436 - accuracy: 0.6182\n",
      "Epoch 35/150\n",
      "24/24 [==============================] - 0s 1ms/step - loss: 2.2966 - accuracy: 0.6136\n",
      "Epoch 36/150\n",
      "24/24 [==============================] - 0s 1ms/step - loss: 2.4991 - accuracy: 0.6119\n",
      "Epoch 37/150\n",
      "24/24 [==============================] - 0s 859us/step - loss: 2.3863 - accuracy: 0.5938\n",
      "Epoch 38/150\n",
      "24/24 [==============================] - 0s 831us/step - loss: 2.1941 - accuracy: 0.6475\n",
      "Epoch 39/150\n",
      "24/24 [==============================] - 0s 852us/step - loss: 2.3838 - accuracy: 0.5871\n",
      "Epoch 40/150\n",
      "24/24 [==============================] - 0s 784us/step - loss: 2.2236 - accuracy: 0.6280\n",
      "Epoch 41/150\n",
      "24/24 [==============================] - 0s 876us/step - loss: 2.1054 - accuracy: 0.6241\n",
      "Epoch 42/150\n",
      "24/24 [==============================] - 0s 864us/step - loss: 1.8589 - accuracy: 0.6544\n",
      "Epoch 43/150\n",
      "24/24 [==============================] - 0s 938us/step - loss: 1.9754 - accuracy: 0.6242\n",
      "Epoch 44/150\n",
      "24/24 [==============================] - 0s 905us/step - loss: 1.9382 - accuracy: 0.6251\n",
      "Epoch 45/150\n",
      "24/24 [==============================] - 0s 808us/step - loss: 1.9933 - accuracy: 0.6230\n",
      "Epoch 46/150\n",
      "24/24 [==============================] - 0s 912us/step - loss: 1.8481 - accuracy: 0.6569\n",
      "Epoch 47/150\n",
      "24/24 [==============================] - 0s 907us/step - loss: 2.0193 - accuracy: 0.6141\n",
      "Epoch 48/150\n",
      "24/24 [==============================] - 0s 835us/step - loss: 1.6194 - accuracy: 0.6676\n",
      "Epoch 49/150\n",
      "24/24 [==============================] - 0s 973us/step - loss: 1.8513 - accuracy: 0.6279\n",
      "Epoch 50/150\n",
      "24/24 [==============================] - 0s 1ms/step - loss: 1.7739 - accuracy: 0.6429\n",
      "Epoch 51/150\n",
      "24/24 [==============================] - 0s 1ms/step - loss: 1.5609 - accuracy: 0.6721\n",
      "Epoch 52/150\n",
      "24/24 [==============================] - 0s 927us/step - loss: 1.4799 - accuracy: 0.6535\n",
      "Epoch 53/150\n",
      "24/24 [==============================] - 0s 889us/step - loss: 1.4237 - accuracy: 0.6798\n",
      "Epoch 54/150\n",
      "24/24 [==============================] - 0s 822us/step - loss: 1.6638 - accuracy: 0.6420\n",
      "Epoch 55/150\n",
      "24/24 [==============================] - 0s 871us/step - loss: 1.3613 - accuracy: 0.6826\n",
      "Epoch 56/150\n",
      "24/24 [==============================] - 0s 741us/step - loss: 1.3989 - accuracy: 0.6435\n",
      "Epoch 57/150\n",
      "24/24 [==============================] - 0s 824us/step - loss: 1.4278 - accuracy: 0.6481\n",
      "Epoch 58/150\n",
      "24/24 [==============================] - 0s 969us/step - loss: 1.2571 - accuracy: 0.6591\n",
      "Epoch 59/150\n",
      "24/24 [==============================] - 0s 899us/step - loss: 1.2419 - accuracy: 0.6671\n",
      "Epoch 60/150\n",
      "24/24 [==============================] - 0s 859us/step - loss: 1.1894 - accuracy: 0.6798\n",
      "Epoch 61/150\n",
      "24/24 [==============================] - 0s 1ms/step - loss: 1.1652 - accuracy: 0.6801\n",
      "Epoch 62/150\n",
      "24/24 [==============================] - 0s 971us/step - loss: 1.1284 - accuracy: 0.6680\n",
      "Epoch 63/150\n",
      "24/24 [==============================] - 0s 1ms/step - loss: 1.0158 - accuracy: 0.6871\n",
      "Epoch 64/150\n",
      "24/24 [==============================] - 0s 977us/step - loss: 1.0442 - accuracy: 0.6780\n",
      "Epoch 65/150\n",
      "24/24 [==============================] - 0s 828us/step - loss: 1.0389 - accuracy: 0.6592\n",
      "Epoch 66/150\n",
      "24/24 [==============================] - 0s 1ms/step - loss: 0.9718 - accuracy: 0.6571\n",
      "Epoch 67/150\n",
      "24/24 [==============================] - 0s 882us/step - loss: 1.0170 - accuracy: 0.6249\n",
      "Epoch 68/150\n",
      "24/24 [==============================] - 0s 880us/step - loss: 0.9416 - accuracy: 0.6869\n",
      "Epoch 69/150\n",
      "24/24 [==============================] - 0s 891us/step - loss: 0.8635 - accuracy: 0.6765\n",
      "Epoch 70/150\n",
      "24/24 [==============================] - 0s 867us/step - loss: 0.8306 - accuracy: 0.6956\n",
      "Epoch 71/150\n",
      "24/24 [==============================] - 0s 802us/step - loss: 0.8170 - accuracy: 0.6796\n",
      "Epoch 72/150\n",
      "24/24 [==============================] - 0s 940us/step - loss: 0.8633 - accuracy: 0.6505\n",
      "Epoch 73/150\n",
      "24/24 [==============================] - 0s 864us/step - loss: 0.8344 - accuracy: 0.6663\n",
      "Epoch 74/150\n",
      "24/24 [==============================] - 0s 911us/step - loss: 0.8012 - accuracy: 0.6731\n",
      "Epoch 75/150\n",
      "24/24 [==============================] - 0s 871us/step - loss: 0.7063 - accuracy: 0.6805\n",
      "Epoch 76/150\n",
      "24/24 [==============================] - 0s 858us/step - loss: 0.7295 - accuracy: 0.6977\n",
      "Epoch 77/150\n",
      "24/24 [==============================] - 0s 905us/step - loss: 0.7389 - accuracy: 0.6657\n",
      "Epoch 78/150\n",
      "24/24 [==============================] - 0s 878us/step - loss: 0.7255 - accuracy: 0.6796\n",
      "Epoch 79/150\n",
      "24/24 [==============================] - 0s 829us/step - loss: 0.6931 - accuracy: 0.6953\n",
      "Epoch 80/150\n",
      "24/24 [==============================] - 0s 896us/step - loss: 0.6440 - accuracy: 0.6850\n",
      "Epoch 81/150\n",
      "24/24 [==============================] - 0s 855us/step - loss: 0.7205 - accuracy: 0.6531\n",
      "Epoch 82/150\n",
      "24/24 [==============================] - 0s 914us/step - loss: 0.6910 - accuracy: 0.6772\n",
      "Epoch 83/150\n",
      "24/24 [==============================] - 0s 934us/step - loss: 0.6906 - accuracy: 0.6734\n",
      "Epoch 84/150\n",
      "24/24 [==============================] - 0s 933us/step - loss: 0.6473 - accuracy: 0.7038\n",
      "Epoch 85/150\n",
      "24/24 [==============================] - 0s 928us/step - loss: 0.6608 - accuracy: 0.6854\n",
      "Epoch 86/150\n",
      "24/24 [==============================] - 0s 825us/step - loss: 0.6314 - accuracy: 0.6973\n",
      "Epoch 87/150\n",
      "24/24 [==============================] - 0s 1ms/step - loss: 0.6220 - accuracy: 0.7021\n",
      "Epoch 88/150\n",
      "24/24 [==============================] - 0s 957us/step - loss: 0.6340 - accuracy: 0.6981\n",
      "Epoch 89/150\n",
      "24/24 [==============================] - 0s 826us/step - loss: 0.6082 - accuracy: 0.7046\n",
      "Epoch 90/150\n",
      "24/24 [==============================] - 0s 1ms/step - loss: 0.6143 - accuracy: 0.7101\n",
      "Epoch 91/150\n",
      "24/24 [==============================] - 0s 850us/step - loss: 0.6035 - accuracy: 0.7062\n",
      "Epoch 92/150\n",
      "24/24 [==============================] - 0s 1ms/step - loss: 0.6294 - accuracy: 0.7088\n",
      "Epoch 93/150\n",
      "24/24 [==============================] - 0s 960us/step - loss: 0.6414 - accuracy: 0.6799\n",
      "Epoch 94/150\n",
      "24/24 [==============================] - 0s 993us/step - loss: 0.6318 - accuracy: 0.6819\n",
      "Epoch 95/150\n",
      "24/24 [==============================] - 0s 987us/step - loss: 0.6098 - accuracy: 0.7113\n",
      "Epoch 96/150\n",
      "24/24 [==============================] - 0s 1ms/step - loss: 0.6133 - accuracy: 0.7150\n",
      "Epoch 97/150\n",
      "24/24 [==============================] - 0s 834us/step - loss: 0.6137 - accuracy: 0.6868\n",
      "Epoch 98/150\n",
      "24/24 [==============================] - 0s 860us/step - loss: 0.6127 - accuracy: 0.6777\n",
      "Epoch 99/150\n",
      "24/24 [==============================] - 0s 1ms/step - loss: 0.6424 - accuracy: 0.6965\n",
      "Epoch 100/150\n",
      "24/24 [==============================] - 0s 989us/step - loss: 0.6151 - accuracy: 0.6833\n",
      "Epoch 101/150\n",
      "24/24 [==============================] - 0s 894us/step - loss: 0.6085 - accuracy: 0.6771\n",
      "Epoch 102/150\n",
      "24/24 [==============================] - 0s 897us/step - loss: 0.5961 - accuracy: 0.7035\n",
      "Epoch 103/150\n",
      "24/24 [==============================] - 0s 960us/step - loss: 0.6360 - accuracy: 0.6669\n",
      "Epoch 104/150\n",
      "24/24 [==============================] - 0s 883us/step - loss: 0.6171 - accuracy: 0.6789\n",
      "Epoch 105/150\n",
      "24/24 [==============================] - 0s 864us/step - loss: 0.6205 - accuracy: 0.6823\n",
      "Epoch 106/150\n",
      "24/24 [==============================] - 0s 858us/step - loss: 0.6369 - accuracy: 0.6611\n",
      "Epoch 107/150\n",
      "24/24 [==============================] - 0s 1ms/step - loss: 0.5981 - accuracy: 0.7054\n",
      "Epoch 108/150\n",
      "24/24 [==============================] - 0s 1ms/step - loss: 0.6292 - accuracy: 0.6829\n",
      "Epoch 109/150\n",
      "24/24 [==============================] - 0s 791us/step - loss: 0.5988 - accuracy: 0.7221\n",
      "Epoch 110/150\n",
      "24/24 [==============================] - 0s 923us/step - loss: 0.6171 - accuracy: 0.6799\n",
      "Epoch 111/150\n",
      "24/24 [==============================] - 0s 845us/step - loss: 0.5957 - accuracy: 0.7017\n",
      "Epoch 112/150\n",
      "24/24 [==============================] - 0s 913us/step - loss: 0.6140 - accuracy: 0.6883\n",
      "Epoch 113/150\n",
      "24/24 [==============================] - 0s 1ms/step - loss: 0.5837 - accuracy: 0.7131\n",
      "Epoch 114/150\n",
      "24/24 [==============================] - 0s 965us/step - loss: 0.6348 - accuracy: 0.6598\n",
      "Epoch 115/150\n",
      "24/24 [==============================] - 0s 1ms/step - loss: 0.6180 - accuracy: 0.6976\n",
      "Epoch 116/150\n",
      "24/24 [==============================] - 0s 1ms/step - loss: 0.5904 - accuracy: 0.7197\n",
      "Epoch 117/150\n",
      "24/24 [==============================] - 0s 801us/step - loss: 0.6328 - accuracy: 0.6786\n",
      "Epoch 118/150\n",
      "24/24 [==============================] - 0s 1ms/step - loss: 0.6046 - accuracy: 0.6811\n",
      "Epoch 119/150\n",
      "24/24 [==============================] - 0s 853us/step - loss: 0.6056 - accuracy: 0.6984\n",
      "Epoch 120/150\n",
      "24/24 [==============================] - 0s 879us/step - loss: 0.6132 - accuracy: 0.6823\n",
      "Epoch 121/150\n",
      "24/24 [==============================] - 0s 1ms/step - loss: 0.5950 - accuracy: 0.6951\n",
      "Epoch 122/150\n",
      "24/24 [==============================] - 0s 964us/step - loss: 0.6389 - accuracy: 0.6795\n",
      "Epoch 123/150\n",
      "24/24 [==============================] - 0s 972us/step - loss: 0.5913 - accuracy: 0.7053\n",
      "Epoch 124/150\n",
      "24/24 [==============================] - 0s 873us/step - loss: 0.6436 - accuracy: 0.6547\n",
      "Epoch 125/150\n",
      "24/24 [==============================] - 0s 851us/step - loss: 0.6198 - accuracy: 0.6832\n",
      "Epoch 126/150\n",
      "24/24 [==============================] - 0s 940us/step - loss: 0.5956 - accuracy: 0.7125\n",
      "Epoch 127/150\n",
      "24/24 [==============================] - 0s 1ms/step - loss: 0.6235 - accuracy: 0.7020\n",
      "Epoch 128/150\n",
      "24/24 [==============================] - 0s 791us/step - loss: 0.6140 - accuracy: 0.6842\n",
      "Epoch 129/150\n",
      "24/24 [==============================] - 0s 743us/step - loss: 0.6370 - accuracy: 0.6835\n",
      "Epoch 130/150\n",
      "24/24 [==============================] - 0s 761us/step - loss: 0.6112 - accuracy: 0.6589\n",
      "Epoch 131/150\n",
      "24/24 [==============================] - 0s 746us/step - loss: 0.5956 - accuracy: 0.7095\n",
      "Epoch 132/150\n",
      "24/24 [==============================] - 0s 758us/step - loss: 0.6195 - accuracy: 0.6839\n",
      "Epoch 133/150\n",
      "24/24 [==============================] - 0s 621us/step - loss: 0.6283 - accuracy: 0.6751\n",
      "Epoch 134/150\n",
      "24/24 [==============================] - 0s 819us/step - loss: 0.6051 - accuracy: 0.6960\n",
      "Epoch 135/150\n",
      "24/24 [==============================] - 0s 751us/step - loss: 0.5909 - accuracy: 0.7029\n",
      "Epoch 136/150\n",
      "24/24 [==============================] - 0s 821us/step - loss: 0.5764 - accuracy: 0.7237\n",
      "Epoch 137/150\n",
      "24/24 [==============================] - 0s 810us/step - loss: 0.5991 - accuracy: 0.6787\n",
      "Epoch 138/150\n",
      "24/24 [==============================] - 0s 736us/step - loss: 0.5841 - accuracy: 0.7164\n",
      "Epoch 139/150\n",
      "24/24 [==============================] - 0s 699us/step - loss: 0.6148 - accuracy: 0.6964\n",
      "Epoch 140/150\n",
      "24/24 [==============================] - 0s 748us/step - loss: 0.5963 - accuracy: 0.6858\n",
      "Epoch 141/150\n",
      "24/24 [==============================] - 0s 777us/step - loss: 0.6110 - accuracy: 0.6765\n",
      "Epoch 142/150\n",
      "24/24 [==============================] - 0s 876us/step - loss: 0.5924 - accuracy: 0.7099\n",
      "Epoch 143/150\n",
      "24/24 [==============================] - 0s 819us/step - loss: 0.5923 - accuracy: 0.6955\n",
      "Epoch 144/150\n",
      "24/24 [==============================] - 0s 794us/step - loss: 0.6161 - accuracy: 0.6787\n",
      "Epoch 145/150\n",
      "24/24 [==============================] - 0s 724us/step - loss: 0.6107 - accuracy: 0.6874\n",
      "Epoch 146/150\n",
      "24/24 [==============================] - 0s 768us/step - loss: 0.5834 - accuracy: 0.7085\n",
      "Epoch 147/150\n",
      "24/24 [==============================] - 0s 828us/step - loss: 0.6047 - accuracy: 0.7042\n",
      "Epoch 148/150\n",
      "24/24 [==============================] - 0s 913us/step - loss: 0.5893 - accuracy: 0.7172\n",
      "Epoch 149/150\n",
      "24/24 [==============================] - 0s 875us/step - loss: 0.5810 - accuracy: 0.7009\n",
      "Epoch 150/150\n",
      "24/24 [==============================] - 0s 894us/step - loss: 0.5869 - accuracy: 0.7026\n"
     ]
    },
    {
     "data": {
      "text/plain": [
       "<tensorflow.python.keras.callbacks.History at 0x7fce5578f160>"
      ]
     },
     "execution_count": 15,
     "metadata": {},
     "output_type": "execute_result"
    }
   ],
   "source": [
    "model = Sequential()\n",
    "model.add(Dense(1, input_dim=8, activation='sigmoid'))\n",
    "model.compile(loss='binary_crossentropy', optimizer='adam', metrics=['accuracy'])\n",
    "model.fit(X, Y, epochs=150)"
   ]
  },
  {
   "cell_type": "code",
   "execution_count": 16,
   "metadata": {},
   "outputs": [
    {
     "data": {
      "text/plain": [
       "(0.7109375, 0.6861979365348816, 150)"
      ]
     },
     "execution_count": 16,
     "metadata": {},
     "output_type": "execute_result"
    }
   ],
   "source": [
    "max(model.history.history['accuracy']), model.history.history['accuracy'][-1], len(model.history.history['accuracy'])"
   ]
  },
  {
   "cell_type": "code",
   "execution_count": 17,
   "metadata": {
    "colab": {
     "base_uri": "https://localhost:8080/",
     "height": 69
    },
    "colab_type": "code",
    "id": "Z1wfKUxszPKa",
    "outputId": "0cdacd1d-6e5a-4bbe-fabb-568cd94724be"
   },
   "outputs": [
    {
     "name": "stdout",
     "output_type": "stream",
     "text": [
      "24/24 [==============================] - 0s 673us/step - loss: 0.5919 - accuracy: 0.7083\n",
      "accuracy: 70.83333134651184\n"
     ]
    }
   ],
   "source": [
    "# evaluate the model\n",
    "scores = model.evaluate(X, Y)\n",
    "print(f\"{model.metrics_names[1]}: {scores[1]*100}\")"
   ]
  },
  {
   "cell_type": "markdown",
   "metadata": {
    "colab_type": "text",
    "id": "zHYB7k9q3O8T"
   },
   "source": [
    "### Why are we getting such different results if we re-run the model?\n",
    "\n",
    "<https://machinelearningmastery.com/randomness-in-machine-learning/>"
   ]
  },
  {
   "cell_type": "code",
   "execution_count": 18,
   "metadata": {},
   "outputs": [
    {
     "name": "stdout",
     "output_type": "stream",
     "text": [
      "Model: \"4LayerJunk\"\n",
      "_________________________________________________________________\n",
      "Layer (type)                 Output Shape              Param #   \n",
      "=================================================================\n",
      "Dense1 (Dense)               (None, 4)                 36        \n",
      "_________________________________________________________________\n",
      "dense_2 (Dense)              (None, 3)                 15        \n",
      "_________________________________________________________________\n",
      "dense_3 (Dense)              (None, 3)                 12        \n",
      "_________________________________________________________________\n",
      "dense_4 (Dense)              (None, 1)                 4         \n",
      "=================================================================\n",
      "Total params: 67\n",
      "Trainable params: 67\n",
      "Non-trainable params: 0\n",
      "_________________________________________________________________\n"
     ]
    }
   ],
   "source": [
    "### Experiment with Additional Layers & Change Activation F(x)s:\n",
    "model_improved = Sequential(name=\"4LayerJunk\")\n",
    "\n",
    "model_improved.add(Dense(4, input_dim=8, activation='relu', name=\"Dense1\"))\n",
    "model_improved.add(Dense(3, activation='relu'))\n",
    "model_improved.add(Dense(3, activation='relu'))\n",
    "model_improved.add(Dense(1, activation='sigmoid'))\n",
    "\n",
    "model_improved.compile(loss='binary_crossentropy', optimizer='adam',\n",
    "              metrics=['accuracy'])\n",
    "\n",
    "# Let's inspect our new architecture\n",
    "model_improved.summary()"
   ]
  },
  {
   "cell_type": "code",
   "execution_count": 20,
   "metadata": {},
   "outputs": [
    {
     "data": {
      "text/plain": [
       "<tensorflow.python.keras.callbacks.History at 0x7fce55a2f208>"
      ]
     },
     "execution_count": 20,
     "metadata": {},
     "output_type": "execute_result"
    }
   ],
   "source": [
    "model_improved.fit(X,Y, epochs=250, verbose=False)"
   ]
  },
  {
   "cell_type": "code",
   "execution_count": 22,
   "metadata": {},
   "outputs": [
    {
     "name": "stdout",
     "output_type": "stream",
     "text": [
      "24/24 [==============================] - 0s 859us/step - loss: 0.5015 - accuracy: 0.7539\n",
      "accuracy: 70.83333134651184\n"
     ]
    }
   ],
   "source": [
    "model_improved.evaluate(X,Y)\n",
    "print(f\"{model_improved.metrics_names[1]}: {scores[1]*100}\")"
   ]
  },
  {
   "cell_type": "markdown",
   "metadata": {
    "colab_type": "text",
    "id": "ueDVpctAzvy8"
   },
   "source": [
    "# How Neural Networks Work?\n",
    "The basic idea of how a neural network learns is — We have some input data that we feed it into the network and then we perform a series of linear/non-linear operations layer by layer and derive an output. In a simple case for a particular layer is that we multiply the input by the weights, add a bias and apply an activation function and pass the output to the next layer. We keep repeating the process until we reach the last layer. The final value is our output. We then compute the error between the “calculated output” and the “true output” and then calculate the partial derivatives of this error with respect to the parameters in each layer going backwards (weights and biases) and keep updating the parameters accordingly!"
   ]
  },
  {
   "cell_type": "markdown",
   "metadata": {},
   "source": [
    "### Why do we need Activation functions?\n",
    "* **Intoducing nonlinearity to the network**\n",
    "> Neural networks are said to be universal function approximators. The main underlying goal of a neural network is to learn complex non-linear functions. If we do not apply any non-linearity in our multi-layer neural network, we are simply trying to seperate the classes using a linear hyperplane. As we know, in the real-world nothing is linear!\n",
    "* **Clamping the neuron output**\n",
    "> imagine we perform simple linear operation as described above, namely; multiply the input by weights, add a bias and sum them across all the inputs arriving to the neuron. It is likely that in certain situations, the output derived above, takes a large value. When, this output is fed into the further layers, they can be transformed to even larger values, making things computationally uncontrollable. This is where the activation functions play a major role i.e. squashing a real-number to a fix interval (e.g. between -1 and 1)."
   ]
  },
  {
   "cell_type": "markdown",
   "metadata": {
    "colab_type": "text",
    "id": "tcjMuxtn6wIQ"
   },
   "source": [
    "# Activation Functions\n",
    "\n",
    "What is an activation function and how does it work?\n",
    "\n",
    "- Takes in a weighted sum of inputs + a bias from the previous layer and outputs an \"activation\" value.\n",
    "- Based its inputs the neuron decides how 'activated' it should be. This can be thought of as the neuron deciding how strongly to fire. You can also think of it as if the neuron is deciding how much of the signal that it has received to pass onto the next layer. \n",
    "- Our choice of activation function does not only affect signal that is passed forward but also affects the backpropagation algorithm. It affects how we update weights in reverse order since activated weight/input sums become the inputs of the next layer. \n"
   ]
  },
  {
   "cell_type": "markdown",
   "metadata": {
    "colab_type": "text",
    "id": "n_b0u8Ch60bA"
   },
   "source": [
    "## Step Function\n",
    "\n",
    "![Heaviside Step Function](https://upload.wikimedia.org/wikipedia/commons/thumb/d/d9/Dirac_distribution_CDF.svg/325px-Dirac_distribution_CDF.svg.png)\n",
    "\n",
    "All or nothing, a little extreme, which is fine, but makes updating weights through backpropagation impossible. Why? remember that during backpropagation we use derivatives in order to determine how much to update or not update weights. What is the derivative of the step function? SO with step function we can't update the weights"
   ]
  },
  {
   "cell_type": "markdown",
   "metadata": {
    "colab_type": "text",
    "id": "vKR0YhIVEnXZ"
   },
   "source": [
    "## Linear Function\n",
    "\n",
    "![Linear Function](http://www.roconnell.net/Parent%20function/linear.gif)\n",
    "\n",
    "The linear function takes the opposite tact from the step function and passes the signal onto the next layer by a constant factor. There are problems with this but the biggest problems again lie in backpropagation. The derivative of any linear function is a horizontal line which would indicate that we should update all weights by a constant amount every time -which on balance wouldn't change the behavior of our network. Linear functions are typically only used for very simple tasks where interpretability is important, but if interpretability is your highest priority, you probably shouldn't be using neural networks in the first place."
   ]
  },
  {
   "cell_type": "markdown",
   "metadata": {
    "colab_type": "text",
    "id": "JFurIVL6EkQ8"
   },
   "source": [
    "## Sigmoid Function\n",
    "\n",
    "![Sigmoid Function](https://upload.wikimedia.org/wikipedia/commons/thumb/8/88/Logistic-curve.svg/480px-Logistic-curve.svg.png)\n",
    "\n",
    "* Strengths:\n",
    "    - **Introduces nonlinearity to learn nonlinear behavior**\n",
    "    - **clamping the output to avoid very large numbers in the subsequent layers**\n",
    "    - **Separating the outputs into two values for binary classifications**\n",
    "    - **Nice Binary interpretation**\n",
    "* Weaknesses:\n",
    "    - **Killing gradients at both ends**\n",
    "    - **Non zero-centered outputs**\n",
    "\n",
    "```\n",
    "import numpy as np\n",
    "def sigmoid(x):\n",
    " return 1 / (1 + np.exp(-x))\n",
    "```\n",
    "\n",
    "The sigmoid function $sig(x)=\\frac{1}{1+e^{-x}}$ works great as an activation function! it's continuously differentiable, its derivative doesn't have a constant slope, and having the higher slope in the middle pushes y value predictions towards extremes which is particularly useful for binary classification problems. I mean, this is why we use it as the squishifier in logistic regression as well. It constrains output, but over repeated epochs pushes predictions towards a strong binary prediction. As we can see, it basically takes a real valued number as the input and squashes it between 0 and 1. It is often termed as a squashing function as well. It aims to introduce non-linearity in the input space. The non-linearity is where we get the wiggle and the network learns to capture complicated relationships. As we can see from the above mathematical representation, a large negative number passed through the sigmoid function becomes 0 and a large positive number becomes 1. Due to this property, sigmoid function often has a really nice interpretation associated with it as the firing rate of the neuron; from not firing at all (0) to fully-saturated firing (1). \n",
    "\n",
    "\n",
    "What's the biggest problem with the sigmoid function? The fact that its slope gets pretty flat so quickly after its departure from zero. This means that updating weights based on its gradient really diminishes the size of our weight updates as our model gets more confident about its classifications. This is why even after so many iterations with our test score example we couldn't reach the levels of fit that our gradient descent based model could reach in just a few epochs.\n",
    "\n",
    "\n",
    "The output is always between 0 and 1, that means that the output after applying sigmoid is always positive hence, during gradient-descent, the gradient on the weights during backpropagation will always be either positive or negative depending on the output of the neuron. As a result, the gradient updates go too far in different directions which makes optimization harder."
   ]
  },
  {
   "cell_type": "markdown",
   "metadata": {
    "colab_type": "text",
    "id": "hm6p1HWbEhYi"
   },
   "source": [
    "## Tanh Function\n",
    "What if the sigmoid function didn't get so flat quite as soon when moving away from zero and was a little bit steeper in the middle? That's basically the Tanh function. The Tanh function can actually be created by scaling the sigmoid function by 2 in the y dimension and subtracting 1 from all values. It has basically the same properties as the sigmoid, still struggles from diminishingly flat gradients as we move away from 0, but its derivative is higher around 0 causing weights to move to the extremes a little faster. \n",
    "\n",
    "![Tanh Function](http://mathworld.wolfram.com/images/interactive/TanhReal.gif)\n",
    "\n",
    "$$tanh(x)=\\frac{e^{x}-e^{-x}}{e^{x}+e^{-x}}$$\n",
    "\n",
    "```\n",
    "import numpy as np\n",
    "def tanh(x):\n",
    "    return np.tanh(x)\n",
    "```\n",
    "* Positives:\n",
    "    - Saturates at large positive and negative values. \n",
    "    - zero-centered output\n",
    "        > its output is always zero-centered which helps since the neurons in the later layers of the network would be receiving inputs that are zero-centered. Hence, in practice, tanh activation functions are preffered in hidden layers over sigmoid.\n",
    "    \n",
    "* Negatives:\n",
    "    - diminishing gradient at both ends"
   ]
  },
  {
   "cell_type": "markdown",
   "metadata": {
    "colab_type": "text",
    "id": "sFOn_L6gEcz1"
   },
   "source": [
    "## ReLU Function\n",
    "\n",
    "![ReLU Function](https://cdn-images-1.medium.com/max/937/1*oePAhrm74RNnNEolprmTaQ.png)\n",
    "\n",
    "$$ReLU(x) = max(0, x)$$\n",
    "```\n",
    "import numpy as np\n",
    "def relu(z):\n",
    "    return z * (z > 0)\n",
    "```\n",
    "* Positives:\n",
    "    - Sparsity of activation:\n",
    "        > Imagine we have a very deep neural network with a lot of neurons, we would ideally want only a section of neurons to fire and contribute to the final output of the network and hence, we want a section of the neurons in the network to be passive. ReLU gives us this benefit, which leads to a lighter network with faster response time.\n",
    "* Negatives:\n",
    "    - Dead Neurons\n",
    "    > ReLU units can be fragile during training and can “die”. That is, if the units are not activated initially, then during backpropagation zero gradients flow through them. Those neurons will stop responding to the variations in the output error because of which the parameters will never be updated during backpropagation.\n",
    "    \n",
    "ReLU stands for Rectified Linear Units it is by far the most commonly used activation function in modern neural networks. It doesn't activate neurons that are being passed a negative signal and passes on positive signals. Think about why this might be useful. Remember how a lot of our initial weights got set to negative numbers by chance? This would have dealt with those negative weights a lot faster than the sigmoid function updating. What does the derivative of this function look like? It looks like the step function! This means that not all neurons are activated. With sigmoid basically all of our neurons are passing some amount of signal even if it's small making it hard for the network to differentiate important and less important connections. ReLU turns off a portion of our less important neurons which decreases computational load, but also helps the network learn what the most important connections are faster. \n",
    "\n",
    "What's the problem with relu? Well the left half of its derivative function shows that for neurons that are initialized with weights that cause them to have no activation, our gradient will not update those neuron's weights, this can lead to dead neurons that never fire and whose weights never get updated. We would probably want to update the weights of neurons that didn't fire even if it's just by a little bit in case we got unlucky with our initial weights and want to give those neurons a chance of turning back on in the future."
   ]
  },
  {
   "cell_type": "markdown",
   "metadata": {
    "colab_type": "text",
    "id": "XWdvWOBIETwk"
   },
   "source": [
    "## Leaky ReLU\n",
    "$$LeakyReLU(x) = max(0.01 * x, x)$$\n",
    "```\n",
    "import numpy as np\n",
    "def leaky_relu(x):\n",
    "    return np.maximum(0.01 * x, x)\n",
    "```\n",
    "\n",
    "![Leaky ReLU](https://cdn-images-1.medium.com/max/1600/1*ypsvQH7kvtI2BhzR2eT_Sw.png)\n",
    "\n",
    "Leaky ReLU accomplishes exactly that! it avoids having a gradient of 0 on the left side of its derivative function. This means that even \"dead\" neurons have a chance of being revived over enough iterations. In some specifications the slope of the leaky left-hand side can also be experimented with as a hyperparameter of the model!"
   ]
  },
  {
   "cell_type": "markdown",
   "metadata": {
    "colab_type": "text",
    "id": "FcAxkNFREMFb"
   },
   "source": [
    "## Softmax Function\n",
    "\n",
    "![Softmax Function](https://cdn-images-1.medium.com/max/800/1*670CdxchunD-yAuUWdI7Bw.png)\n",
    "\n",
    "Like the sigmoid function but more useful for multi-class classification problems. The softmax function can take any set of inputs and translate them into probabilities that sum up to 1. This means that we can throw any list of outputs at it and it will translate them into probabilities, this is extremely useful for multi-class classification problems. Like MNIST for example..."
   ]
  },
  {
   "cell_type": "markdown",
   "metadata": {
    "colab_type": "text",
    "id": "23-XRRXKHs34"
   },
   "source": [
    "## Major takeaways\n",
    "\n",
    "- ReLU is generally better at obtaining the optimal model fit.\n",
    "- Sigmoid and its derivatives are usually better at classification problems.\n",
    "- Softmax for multi-class classification problems. \n",
    "\n",
    "You'll typically see ReLU used for all initial layers and then the final layer being sigmoid or softmax for classification problems. But you can experiment and tune these selections as hyperparameters as well!"
   ]
  },
  {
   "cell_type": "markdown",
   "metadata": {},
   "source": [
    "### Zigzag behavior of backpropagation weight updates for non zero-centered activation functions\n",
    "Sigmoid and relu outputs are not zero-centered. This is undesirable since neurons in later layers of processing in a Neural Network would be receiving data that is not zero-centered. This has implications on the dynamics during gradient descent, because if the data coming into a neuron is always positive (e.g. 𝑥>0 elementwise in 𝑓=𝑤𝑇𝑥+𝑏)), then the gradient on the weights 𝑤 will during backpropagation become either all be positive, or all negative (depending on the gradient of the whole expression 𝑓). This could introduce undesirable zig-zagging dynamics in the gradient updates for the weights. However, notice that once these gradients are added up across a batch of data the final update for the weights can have variable signs, somewhat mitigating this issue.\n",
    "\n",
    "$$f=\\sum {wi.xi}+b$$\n",
    "\n",
    "$$\\displaystyle \\frac{\\partial f}{\\partial x}=xi$$\n",
    "\n",
    "$$\\displaystyle \\frac{\\partial L}{\\partial wi}=\\displaystyle \\frac{\\partial L}{\\partial f} \\displaystyle \\frac{\\partial f}{\\partial wi}=\\displaystyle \\frac{\\partial L}{\\partial f} xi$$\n",
    "\n",
    "\n",
    "because 𝑥𝑖>0, the gradient $\\displaystyle \\frac{\\partial L}{\\partial wi}$ always has the same sign as $\\displaystyle \\frac{\\partial L}{\\partial f}$ (all positive or all negative).\n",
    "\n",
    "Say there are two parameters 𝑤1 and 𝑤2, if the gradients of two dimensions are always of the same sign, it means we can only move roughly in the direction of northeast or southwest in the parameter space.\n",
    "\n",
    "If our goal happens to be in the northeast, we can only move in a zig-zagging fashion to get there.\n",
    "\n",
    "<center><img src=\"https://github.com/skhabiri/ML-ANN/raw/main/module3-Tune/image/zigzagW.jpg\" width= \"500\"><center>\n",
    "    \n",
    "Therefore all-positive or all-negative activation functions (relu, sigmoid) can be difficult for gradient based optimization. To solve this problem we can normalize the data in advance to be zero-centered as in batch/layer normalization."
   ]
  },
  {
   "cell_type": "markdown",
   "metadata": {
    "colab_type": "text",
    "id": "TWuoXZCCKCI7"
   },
   "source": [
    "## MNIST with Keras \n",
    "\n",
    "This will be a good chance to bring up dropout regularization."
   ]
  },
  {
   "cell_type": "code",
   "execution_count": 23,
   "metadata": {
    "colab": {},
    "colab_type": "code",
    "id": "jmJ_5azs04pU"
   },
   "outputs": [],
   "source": [
    "from tensorflow import keras\n",
    "from tensorflow.keras.datasets import mnist\n",
    "from tensorflow.keras.models import Sequential\n",
    "from tensorflow.keras.layers import Dense, Dropout\n",
    "\n",
    "# Stretch - use dropout \n",
    "import numpy as np"
   ]
  },
  {
   "cell_type": "code",
   "execution_count": 24,
   "metadata": {},
   "outputs": [],
   "source": [
    "# Hyper Parameters\n",
    "batch_size = 64\n",
    "num_classes = 10\n",
    "epochs = 20"
   ]
  },
  {
   "cell_type": "code",
   "execution_count": 25,
   "metadata": {},
   "outputs": [],
   "source": [
    "# Load the Data\n",
    "(X_train, y_train), (X_test, y_test) = mnist.load_data()"
   ]
  },
  {
   "cell_type": "code",
   "execution_count": 27,
   "metadata": {},
   "outputs": [
    {
     "data": {
      "text/plain": [
       "((28, 28), (60000, 28, 28))"
      ]
     },
     "execution_count": 27,
     "metadata": {},
     "output_type": "execute_result"
    }
   ],
   "source": [
    "X_train[0].shape, X_train.shape"
   ]
  },
  {
   "cell_type": "code",
   "execution_count": 28,
   "metadata": {},
   "outputs": [],
   "source": [
    "# Reshape the data\n",
    "X_train = X_train.reshape(60000, 784)\n",
    "X_test = X_test.reshape(10000, 784)"
   ]
  },
  {
   "cell_type": "code",
   "execution_count": 29,
   "metadata": {},
   "outputs": [],
   "source": [
    "# X Variable Types\n",
    "X_train = X_train.astype('float32')\n",
    "X_test = X_test.astype('float32')"
   ]
  },
  {
   "cell_type": "code",
   "execution_count": 30,
   "metadata": {},
   "outputs": [
    {
     "data": {
      "text/plain": [
       "4"
      ]
     },
     "execution_count": 30,
     "metadata": {},
     "output_type": "execute_result"
    }
   ],
   "source": [
    "y_train[2]"
   ]
  },
  {
   "cell_type": "code",
   "execution_count": 31,
   "metadata": {},
   "outputs": [],
   "source": [
    "# Correct Encoding on Y\n",
    "# What softmax expects = [0,0,0,0,0,1,0,0,0,0]\n",
    "\n",
    "y_train = keras.utils.to_categorical(y_train, num_classes)\n",
    "y_test = keras.utils.to_categorical(y_test, num_classes)"
   ]
  },
  {
   "cell_type": "code",
   "execution_count": 32,
   "metadata": {},
   "outputs": [
    {
     "data": {
      "text/plain": [
       "array([0., 0., 0., 0., 1., 0., 0., 0., 0., 0.], dtype=float32)"
      ]
     },
     "execution_count": 32,
     "metadata": {},
     "output_type": "execute_result"
    }
   ],
   "source": [
    "y_train[2]"
   ]
  },
  {
   "cell_type": "code",
   "execution_count": 33,
   "metadata": {},
   "outputs": [
    {
     "name": "stdout",
     "output_type": "stream",
     "text": [
      "Model: \"sequential_2\"\n",
      "_________________________________________________________________\n",
      "Layer (type)                 Output Shape              Param #   \n",
      "=================================================================\n",
      "dense_5 (Dense)              (None, 16)                12560     \n",
      "_________________________________________________________________\n",
      "dense_6 (Dense)              (None, 16)                272       \n",
      "_________________________________________________________________\n",
      "dense_7 (Dense)              (None, 16)                272       \n",
      "_________________________________________________________________\n",
      "dense_8 (Dense)              (None, 16)                272       \n",
      "_________________________________________________________________\n",
      "dense_9 (Dense)              (None, 10)                170       \n",
      "=================================================================\n",
      "Total params: 13,546\n",
      "Trainable params: 13,546\n",
      "Non-trainable params: 0\n",
      "_________________________________________________________________\n"
     ]
    }
   ],
   "source": [
    "mnist_model = Sequential()\n",
    "\n",
    "# Input => Hidden\n",
    "mnist_model.add(Dense(16, input_dim=784, activation='relu'))\n",
    "# Hidden\n",
    "mnist_model.add(Dense(16, activation='relu'))\n",
    "# Hidden\n",
    "mnist_model.add(Dense(16, activation='relu'))\n",
    "# Hidden\n",
    "mnist_model.add(Dense(16, activation='relu'))\n",
    "# Output\n",
    "mnist_model.add(Dense(10,activation='softmax'))\n",
    "\n",
    "#Compile\n",
    "mnist_model.compile(loss='categorical_crossentropy',\n",
    "                    optimizer='adam',\n",
    "                    metrics=['accuracy'])\n",
    "\n",
    "mnist_model.summary()"
   ]
  },
  {
   "cell_type": "code",
   "execution_count": 34,
   "metadata": {},
   "outputs": [
    {
     "name": "stdout",
     "output_type": "stream",
     "text": [
      "313/313 [==============================] - 0s 530us/step - loss: 0.3270 - accuracy: 0.9059\n"
     ]
    }
   ],
   "source": [
    "history = mnist_model.fit(X_train, y_train, batch_size=32, epochs=100, verbose=False)\n",
    "scores = mnist_model.evaluate(X_test, y_test)"
   ]
  },
  {
   "cell_type": "code",
   "execution_count": 35,
   "metadata": {},
   "outputs": [
    {
     "data": {
      "text/plain": [
       "[0.327042818069458, 0.9059000015258789]"
      ]
     },
     "execution_count": 35,
     "metadata": {},
     "output_type": "execute_result"
    }
   ],
   "source": [
    "scores"
   ]
  },
  {
   "cell_type": "markdown",
   "metadata": {
    "colab_type": "text",
    "id": "CKmx8153w9Ci"
   },
   "source": [
    "## What if we use dropout techniques to prevent overfitting? How does that affect our model?\n",
    "\n",
    "![Regularization](https://upload.wikimedia.org/wikipedia/commons/thumb/0/02/Regularization.svg/354px-Regularization.svg.png)"
   ]
  },
  {
   "cell_type": "code",
   "execution_count": 36,
   "metadata": {
    "colab": {},
    "colab_type": "code",
    "id": "CWDopERJ16yJ"
   },
   "outputs": [
    {
     "name": "stdout",
     "output_type": "stream",
     "text": [
      "Model: \"sequential_3\"\n",
      "_________________________________________________________________\n",
      "Layer (type)                 Output Shape              Param #   \n",
      "=================================================================\n",
      "dense_10 (Dense)             (None, 32)                25120     \n",
      "_________________________________________________________________\n",
      "dropout (Dropout)            (None, 32)                0         \n",
      "_________________________________________________________________\n",
      "dense_11 (Dense)             (None, 16)                528       \n",
      "_________________________________________________________________\n",
      "dropout_1 (Dropout)          (None, 16)                0         \n",
      "_________________________________________________________________\n",
      "dense_12 (Dense)             (None, 10)                170       \n",
      "=================================================================\n",
      "Total params: 25,818\n",
      "Trainable params: 25,818\n",
      "Non-trainable params: 0\n",
      "_________________________________________________________________\n"
     ]
    }
   ],
   "source": [
    "from tensorflow import keras \n",
    "from tensorflow.keras.datasets import mnist\n",
    "from tensorflow.keras.models import Sequential\n",
    "from tensorflow.keras.layers import Dense, Dropout\n",
    "\n",
    "import numpy as np\n",
    "\n",
    "mnist_model = Sequential()\n",
    "\n",
    "# Hidden\n",
    "mnist_model.add(Dense(32, input_dim=784, activation='relu'))\n",
    "mnist_model.add(Dropout(0.2))\n",
    "mnist_model.add(Dense(16, activation='relu'))\n",
    "mnist_model.add(Dropout(0.2))\n",
    "# Output Layer\n",
    "mnist_model.add(Dense(10, activation='softmax'))\n",
    "\n",
    "mnist_model.compile(loss='categorical_crossentropy',\n",
    "                    optimizer='adam', \n",
    "                    metrics=['accuracy'])\n",
    "mnist_model.summary()"
   ]
  },
  {
   "cell_type": "code",
   "execution_count": 37,
   "metadata": {},
   "outputs": [
    {
     "name": "stdout",
     "output_type": "stream",
     "text": [
      "313/313 [==============================] - 0s 519us/step - loss: 0.5965 - accuracy: 0.8523\n",
      "accuracy: 85.22999882698059\n"
     ]
    }
   ],
   "source": [
    "history = mnist_model.fit(X_train, y_train, batch_size=32, epochs=epochs, validation_split=.1, verbose=0)\n",
    "scores = mnist_model.evaluate(X_test, y_test)\n",
    "print(f'{mnist_model.metrics_names[1]}: {scores[1]*100}')"
   ]
  },
  {
   "cell_type": "markdown",
   "metadata": {},
   "source": [
    "Less overfitting!"
   ]
  },
  {
   "cell_type": "code",
   "execution_count": null,
   "metadata": {},
   "outputs": [],
   "source": []
  }
 ],
 "metadata": {
  "colab": {
   "collapsed_sections": [],
   "name": "LS_DS_433_Keras_Lecture.ipynb",
   "provenance": [],
   "version": "0.3.2"
  },
  "kernelspec": {
   "display_name": "ML_ANN python3",
   "language": "python",
   "name": "ml_ann"
  },
  "language_info": {
   "codemirror_mode": {
    "name": "ipython",
    "version": 3
   },
   "file_extension": ".py",
   "mimetype": "text/x-python",
   "name": "python",
   "nbconvert_exporter": "python",
   "pygments_lexer": "ipython3",
   "version": "3.7.0"
  }
 },
 "nbformat": 4,
 "nbformat_minor": 4
}
