{
 "cells": [
  {
   "cell_type": "markdown",
   "metadata": {
    "colab_type": "text",
    "id": "view-in-github"
   },
   "source": [
    "<a href=\"https://colab.research.google.com/github/skhabiri/DS-Unit-4-Sprint-2-Neural-Networks/blob/main/module3-Tune/LS_DS17_423_Tune_Lecture.ipynb\" target=\"_parent\"><img src=\"https://colab.research.google.com/assets/colab-badge.svg\" alt=\"Open In Colab\"/></a>"
   ]
  },
  {
   "cell_type": "markdown",
   "metadata": {
    "colab_type": "text",
    "id": "41TS0Sa0rDNx"
   },
   "source": [
    "*Unit 4, Sprint 2, Module 3*\n",
    "\n",
    "---"
   ]
  },
  {
   "cell_type": "markdown",
   "metadata": {
    "colab_type": "text",
    "id": "OomlVN7zIILb"
   },
   "source": [
    "# Neural Networks & GPUs (Prepare)\n",
    "*aka Hyperparameter Tuning*\n",
    "\n",
    "*aka Big Servers for Big Problems*"
   ]
  },
  {
   "cell_type": "markdown",
   "metadata": {
    "colab_type": "text",
    "id": "R4L97Zu5IILb"
   },
   "source": [
    "## Learning Objectives\n",
    "* <a href=\"#p1\">Part 1</a>: Describe the major hyperparemeters to tune\n",
    "* <a href=\"#p2\">Part 2</a>: Implement an experiment tracking framework\n",
    "* <a href=\"#p3\">Part 3</a>: Search the hyperparameter space using RandomSearch (Optional)"
   ]
  },
  {
   "cell_type": "markdown",
   "metadata": {
    "colab_type": "text",
    "id": "toTqYhQvIILf"
   },
   "source": [
    "# Hyperparameter Options (Learn)\n",
    "<a id=\"p1\"></a>"
   ]
  },
  {
   "cell_type": "markdown",
   "metadata": {
    "colab_type": "text",
    "id": "fI3U8thwIILg"
   },
   "source": [
    "## Overview\n",
    "\n",
    "Hyperparameter tuning is much more important with neural networks than it has been with any other models that we have considered up to this point. Other supervised learning models might have a couple of parameters, but neural networks can have dozens. These can substantially affect the accuracy of our models and although it can be a time consuming process is a necessary step when working with neural networks.\n",
    "​\n",
    "Hyperparameter tuning comes with a challenge. How can we compare models specified with different hyperparameters if our model's final error metric can vary somewhat erratically? How do we avoid just getting unlucky and selecting the wrong hyperparameter? This is a problem that to a certain degree we just have to live with as we test and test again. However, we can minimize it somewhat by pairing our experiments with Cross Validation to reduce the variance of our final accuracy values."
   ]
  },
  {
   "cell_type": "markdown",
   "metadata": {
    "colab_type": "text",
    "id": "0s0o2pqBs88q"
   },
   "source": [
    "### Load MNIST Dataset"
   ]
  },
  {
   "cell_type": "code",
   "execution_count": 2,
   "metadata": {
    "colab": {
     "base_uri": "https://localhost:8080/",
     "height": 51
    },
    "colab_type": "code",
    "id": "KMcNwZDoIILh",
    "outputId": "da5dcc44-a3d3-4f06-99c5-b88099971a88"
   },
   "outputs": [
    {
     "data": {
      "text/plain": [
       "((60000, 28, 28), (10000, 28, 28))"
      ]
     },
     "execution_count": 2,
     "metadata": {},
     "output_type": "execute_result"
    }
   ],
   "source": [
    "from tensorflow.keras.datasets import mnist\n",
    "\n",
    "(X_train, y_train), (X_test, y_test) = mnist.load_data()\n",
    "X_train.shape, X_test.shape"
   ]
  },
  {
   "cell_type": "markdown",
   "metadata": {
    "colab_type": "text",
    "id": "Pm7zow5IvaTt"
   },
   "source": [
    "### Normalizing Input Data\n",
    "\n",
    "It's not 100% necessary to normalize/scale your input data before feeding it to a neural network, the network can learn the appropriate weights to deal with data of as long as it is numerically represented,  but it is recommended as it can help **make training faster** and **reduces the chances that gradient descent might get stuck in a local optimum**.\n",
    "\n",
    "<https://stackoverflow.com/questions/4674623/why-do-we-have-to-normalize-the-input-for-an-artificial-neural-network>"
   ]
  },
  {
   "cell_type": "code",
   "execution_count": 3,
   "metadata": {},
   "outputs": [
    {
     "data": {
      "text/plain": [
       "255"
      ]
     },
     "execution_count": 3,
     "metadata": {},
     "output_type": "execute_result"
    }
   ],
   "source": [
    "import numpy as np\n",
    "maximum = np.concatenate([X_train, X_test]).max()\n",
    "maximum"
   ]
  },
  {
   "cell_type": "code",
   "execution_count": 4,
   "metadata": {
    "colab": {},
    "colab_type": "code",
    "id": "6vnuh5O3IILk"
   },
   "outputs": [],
   "source": [
    "X_train = X_train / maximum\n",
    "X_test = X_test / maximum\n",
    "\n",
    "X_train = X_train.reshape(60000, 784)\n",
    "X_test = X_test.reshape(10000, 784)"
   ]
  },
  {
   "cell_type": "markdown",
   "metadata": {
    "colab_type": "text",
    "id": "sYJ8t_ezHP4W"
   },
   "source": [
    "### Hyperparameter Tuning Approaches:\n",
    "\n",
    "#### 1) Babysitting AKA \"Grad Student Descent\".\n",
    "\n",
    "If you fiddled with any hyperparameters previously, this is basically what you did. This approach is 100% manual and is pretty common among researchers where finding that 1 exact specification that jumps your model to a level of accuracy never seen before is the difference between publishing and not publishing a paper. Of course the professors don't do this themselves, that's grunt work. This is also known as the fiddle with hyperparameters until you run out of time method.\n",
    "\n",
    "#### 2) Grid Search\n",
    "\n",
    "Grid Search is the Grad Student galaxy brain realization of: why don't I just specify all the experiments I want to run and let the computer try every possible combination of them while I go and grab lunch. This has a specific downside in that if I specify 5 hyperparameters with 5 options each then I've just created 5^5 combinations of hyperparameters to check. Which means that I have to train 3125 different versions of my model Then if I use 5-fold Cross Validation on that then my model has to run 15,525 times. This is the brute-force method of hyperparameter tuning, but it can be very profitable if done wisely. \n",
    "\n",
    "> *When using Grid Search here's what I suggest: don't use it to test combinations of different hyperparameters, only use it to test different specifications of **a single** hyperparameter. It's rare that combinations between different hyperparameters lead to big performance gains. You'll get 90-95% of the way there if you just Grid Search one parameter and take the best result, then retain that best result while you test another, and then retain the best specification from that while you train another. This at least makes the situation much more manageable and leads to pretty good results.*\n",
    "\n",
    "#### 3) Random Search\n",
    "\n",
    "Do Grid Search for a couple of hours and you'll say to yourself - \"There's got to be a better way.\" Enter Random Search. For Random search you specify a hyperparameter space and it picks specifications from that randomly, tries them out, gives you the best results and says - That's going to have to be good enough, go home and spend time with your family. \n",
    "\n",
    "> *Grid Search treats every parameter as if it was equally important, but this just isn't the case, some are known to move the needle a lot more than others (we'll talk about that in a minute). Random Search allows searching to be specified along the most important parameter and experiments less along the dimensions of less important hyperparameters. The downside of Random search is that it won't find the absolute best hyperparameters, but it is much less costly to perform than Grid Search.*\n",
    "\n",
    "#### 4) Bayesian Methods\n",
    "\n",
    "One thing that can make more manual methods like babysitting and gridsearch effective is that as the experimenter sees results he can then make updates to his future searches taking into account the results of past specifications. If only we could hyperparameter tune our hyperparameter tuning. Well, we kind of can. Enter Bayesian Optimization. Neural Networks are like an optimization problem within an optimization problem, and **Bayesian Optimization is a search strategy that tries to take into account the results of past searches in order to improve future ones.** Check out the new library `keras-tuner` for easy implementations of Bayesian methods. \n"
   ]
  },
  {
   "cell_type": "markdown",
   "metadata": {
    "colab_type": "text",
    "id": "HfQ7D043OMMn"
   },
   "source": [
    "## What Hyperparameters are there to test?\n",
    "\n",
    "- batch_size\n",
    "- training epochs\n",
    "- optimization algorithms\n",
    "- learning rate\n",
    "- momentum\n",
    "- activation functions\n",
    "- dropout regularization\n",
    "- number of neurons in the hidden layer\n",
    "- number of the layers\n",
    "\n",
    "There are more, but these are the most important."
   ]
  },
  {
   "cell_type": "markdown",
   "metadata": {
    "colab_type": "text",
    "id": "u844csK5IILp"
   },
   "source": [
    "## Follow Along"
   ]
  },
  {
   "cell_type": "markdown",
   "metadata": {
    "colab_type": "text",
    "id": "Mri5-kXzVKAa"
   },
   "source": [
    "## Batch Size\n",
    "\n",
    "Batch size determines how many observations the model is shown before it calculates loss/error and updates the model weights via gradient descent. You're looking for a sweet spot here where you're showing it enough observations that you have enough information to updates the weights, but not such a large batch size that you don't get a lot of weight update iterations performed in a given epoch. **Feed-forward Neural Networks aren't as sensitive to bach_size as other networks**, but it is still an important hyperparameter to tune. Smaller batch sizes will also take longer to train. \n",
    "\n",
    "Traditionally, batch size is set in powers of 2 starting at 32 up to 512. Keras defaults to a batch size of 32 if you do not specify it. Yann LeCun famously Twitted: \n",
    "\n",
    "> Training with large minibatches is bad for your health.\n",
    "More importantly, it's bad for your test error.\n",
    "Friends dont let friends use minibatches larger than 32.\n",
    "\n",
    "Check out this paper for more reference on his tweet. https://arxiv.org/abs/1804.07612. Increasing the minibatch size could lower the effective learning rate that provides stable convergence.\n",
    "\n",
    "Check out this SO question on why batch size is typically set in powers of two: https://datascience.stackexchange.com/questions/20179/what-is-the-advantage-of-keeping-batch-size-a-power-of-2\n",
    "\n"
   ]
  },
  {
   "cell_type": "markdown",
   "metadata": {},
   "source": [
    "### HP Tuning with GridSearchCV through Keras sklearn wrapper"
   ]
  },
  {
   "cell_type": "markdown",
   "metadata": {},
   "source": [
    "In order to utilize the gridsearch cross validation we use sklearn wrapper for keras. GridSearchCV will handle the parameter grid and cross validation folding and the KerasClassifier will train the NN for each paramter set and runs for the specified number of epochs.\n",
    "\n",
    "Assume $P_{j}$ is a set of parameters in the gridsearch space, and $X_{i}$ is one of the cross validation folds. KerasClassifier will train the NN for each ($P_{j}$,$X_{i}$) and the **last epoch** score from keras is recorded as $S(P_{j},X_{i})$. The average score for all the folds for a given parameter set of j is: \n",
    "\n",
    "$$S(P_{j}) = \\sum_{X_{i}=1}^{5} S(P_{j},X_{i})$$\n",
    "where, \n",
    "$X_{i}$ is each fold, $P_{j}$ is a given parameter set, $S(P_{j},X_{i})$ is trained score for each fold of a given parameter set from the last keras trained epoch, $S(P_{j})$: Mean score over all the folds for a given parameter set j. The parameter set $P_{j_{max}}$ where $S(P_{j_{max}}) = Max(S(P_{j}))$ will be retrained with KerasClassifier for the entire dataset and the log is printed out."
   ]
  },
  {
   "cell_type": "code",
   "execution_count": 18,
   "metadata": {
    "colab": {
     "base_uri": "https://localhost:8080/",
     "height": 819
    },
    "colab_type": "code",
    "id": "2smXfriNAGn7",
    "outputId": "c47b1e3f-29f1-4ef5-c0f1-8b648311c5a5"
   },
   "outputs": [
    {
     "name": "stdout",
     "output_type": "stream",
     "text": [
      "Epoch 1/20\n",
      "938/938 [==============================] - 1s 750us/step - loss: 0.6953 - accuracy: 0.80560s - loss: 1.0000 - \n",
      "Epoch 2/20\n",
      "938/938 [==============================] - 1s 888us/step - loss: 0.2380 - accuracy: 0.9330\n",
      "Epoch 3/20\n",
      "938/938 [==============================] - 1s 757us/step - loss: 0.1843 - accuracy: 0.9474\n",
      "Epoch 4/20\n",
      "938/938 [==============================] - 1s 793us/step - loss: 0.1590 - accuracy: 0.9550\n",
      "Epoch 5/20\n",
      "938/938 [==============================] - 1s 773us/step - loss: 0.1389 - accuracy: 0.9593\n",
      "Epoch 6/20\n",
      "938/938 [==============================] - 1s 765us/step - loss: 0.1308 - accuracy: 0.9622\n",
      "Epoch 7/20\n",
      "938/938 [==============================] - 1s 764us/step - loss: 0.1111 - accuracy: 0.9677\n",
      "Epoch 8/20\n",
      "938/938 [==============================] - 1s 853us/step - loss: 0.1006 - accuracy: 0.9701\n",
      "Epoch 9/20\n",
      "938/938 [==============================] - 1s 888us/step - loss: 0.0916 - accuracy: 0.9722\n",
      "Epoch 10/20\n",
      "938/938 [==============================] - 1s 849us/step - loss: 0.0882 - accuracy: 0.9736\n",
      "Epoch 11/20\n",
      "938/938 [==============================] - 1s 852us/step - loss: 0.0816 - accuracy: 0.9759\n",
      "Epoch 12/20\n",
      "938/938 [==============================] - 1s 945us/step - loss: 0.0781 - accuracy: 0.9771\n",
      "Epoch 13/20\n",
      "938/938 [==============================] - 1s 966us/step - loss: 0.0737 - accuracy: 0.9781\n",
      "Epoch 14/20\n",
      "938/938 [==============================] - 1s 1ms/step - loss: 0.0627 - accuracy: 0.9813\n",
      "Epoch 15/20\n",
      "938/938 [==============================] - 1s 890us/step - loss: 0.0611 - accuracy: 0.9811\n",
      "Epoch 16/20\n",
      "938/938 [==============================] - 1s 1ms/step - loss: 0.0563 - accuracy: 0.9837\n",
      "Epoch 17/20\n",
      "938/938 [==============================] - 1s 926us/step - loss: 0.0549 - accuracy: 0.9843\n",
      "Epoch 18/20\n",
      "938/938 [==============================] - 1s 893us/step - loss: 0.0503 - accuracy: 0.9851\n",
      "Epoch 19/20\n",
      "938/938 [==============================] - 1s 881us/step - loss: 0.0467 - accuracy: 0.9865\n",
      "Epoch 20/20\n",
      "938/938 [==============================] - 1s 852us/step - loss: 0.0458 - accuracy: 0.9856\n",
      "type:\n",
      " <class 'sklearn.model_selection._search.GridSearchCV'>\n",
      "ids:\n",
      " 140442006738760 140442006738760\n",
      "Best: 0.9623166680335998 using {'batch_size': 64, 'epochs': 20, 'units': 32}\n",
      "type(means):\n",
      " <class 'numpy.ndarray'>\n",
      "Means: 0.9616999983787536, Stdev: 0.002754600635031296 with: {'batch_size': 32, 'epochs': 20, 'units': 32}\n",
      "Means: 0.9623166680335998, Stdev: 0.002300602075149159 with: {'batch_size': 64, 'epochs': 20, 'units': 32}\n",
      "Means: 0.9540500044822693, Stdev: 0.003614638496342309 with: {'batch_size': 512, 'epochs': 20, 'units': 32}\n"
     ]
    }
   ],
   "source": [
    "# WARNING - may take a few minutes before any output is visible\n",
    "\n",
    "import numpy\n",
    "import pandas as pd\n",
    "from sklearn.model_selection import GridSearchCV\n",
    "from tensorflow.keras import Sequential\n",
    "from tensorflow.keras.layers import Dense\n",
    "from tensorflow.keras.wrappers.scikit_learn import KerasClassifier\n",
    "\n",
    "# Function to create model, required for KerasClassifier\n",
    "# relu is fast for computation. 0 or y=x, compared to sigmoid\n",
    "def create_model(units=32):\n",
    "    # create model\n",
    "    model = Sequential()\n",
    "    # units are the number of hidden neurons\n",
    "    model.add(Dense(units, input_dim=784, activation='relu'))\n",
    "    # 10 output labels\n",
    "    model.add(Dense(10, activation='softmax'))\n",
    "    # Compile model\n",
    "    #categorical_crossentropy requires 1hotencoding at the output\n",
    "    model.compile(loss='sparse_categorical_crossentropy', optimizer='adam', metrics=['accuracy'])\n",
    "    return model\n",
    "\n",
    "# create model that can accept the fit method\n",
    "model = KerasClassifier(build_fn=create_model, verbose=1)\n",
    "\n",
    "# define the grid search parameters. These are model parameter names not variable names\n",
    "param_grid = {'batch_size': [32,64,512],\n",
    "              'epochs': [20],\n",
    "              'units': [32],\n",
    "              # TODO add more params\n",
    "              }\n",
    "\n",
    "# Create Grid Search\n",
    "# Having default cv=None is the same as cv=5 fold\n",
    "grid = GridSearchCV(estimator=model, param_grid=param_grid, n_jobs=-1, cv=None, refit=True)\n",
    "\"\"\"\n",
    "In scikit-learn, estimator.fit(X, y) returns the object (self) aka fitted estimator. \n",
    "This pattern is useful to be able to implement quick one liners in an IPython session such as:\n",
    "y_predicted = SVC(C=100).fit(X_train, y_train).predict(X_test)\n",
    "\"\"\"\n",
    "\n",
    "# grid and grid_fitted refer to the same object in memory\n",
    "grid_fitted = grid.fit(X_train, y_train)\n",
    "print(\"type:\\n\", type(grid_fitted))\n",
    "print(\"ids:\\n\", id(grid), id(grid_fitted))\n",
    "\n",
    "# Report Best Estimator\n",
    "print(f\"Best: {grid_fitted.best_score_} using {grid_fitted.best_params_}\")\n",
    "\n",
    "# Cross validation parameters\n",
    "means = grid_fitted.cv_results_['mean_test_score']\n",
    "stds = grid_fitted.cv_results_['std_test_score']\n",
    "params = grid_fitted.cv_results_['params']\n",
    "print(\"type(means):\\n\", type(means))\n",
    "\n",
    "for mean, stdev, param in zip(means, stds, params):\n",
    "    print(f\"Means: {mean}, Stdev: {stdev} with: {param}\")"
   ]
  },
  {
   "cell_type": "code",
   "execution_count": 25,
   "metadata": {},
   "outputs": [
    {
     "data": {
      "text/plain": [
       "['best_estimator_',\n",
       " 'best_index_',\n",
       " 'best_params_',\n",
       " 'best_score_',\n",
       " 'classes_',\n",
       " 'cv',\n",
       " 'cv_results_',\n",
       " 'decision_function',\n",
       " 'error_score',\n",
       " 'estimator',\n",
       " 'fit',\n",
       " 'get_params',\n",
       " 'iid',\n",
       " 'inverse_transform',\n",
       " 'multimetric_',\n",
       " 'n_jobs',\n",
       " 'n_splits_',\n",
       " 'param_grid',\n",
       " 'pre_dispatch',\n",
       " 'predict',\n",
       " 'predict_log_proba',\n",
       " 'predict_proba',\n",
       " 'refit',\n",
       " 'refit_time_',\n",
       " 'return_train_score',\n",
       " 'score',\n",
       " 'scorer_',\n",
       " 'scoring',\n",
       " 'set_params',\n",
       " 'transform',\n",
       " 'verbose']"
      ]
     },
     "execution_count": 25,
     "metadata": {},
     "output_type": "execute_result"
    }
   ],
   "source": [
    "[m for m in dir(grid) if not m.startswith(\"_\")]"
   ]
  },
  {
   "cell_type": "code",
   "execution_count": 21,
   "metadata": {},
   "outputs": [
    {
     "data": {
      "text/plain": [
       "{'cv': None,\n",
       " 'error_score': nan,\n",
       " 'estimator__verbose': 1,\n",
       " 'estimator__build_fn': <function __main__.create_model(units=32)>,\n",
       " 'estimator': <tensorflow.python.keras.wrappers.scikit_learn.KerasClassifier at 0x7fbb33ec56a0>,\n",
       " 'iid': 'deprecated',\n",
       " 'n_jobs': -1,\n",
       " 'param_grid': {'batch_size': [32, 64, 512], 'epochs': [20], 'units': [32]},\n",
       " 'pre_dispatch': '2*n_jobs',\n",
       " 'refit': True,\n",
       " 'return_train_score': False,\n",
       " 'scoring': None,\n",
       " 'verbose': 0}"
      ]
     },
     "execution_count": 21,
     "metadata": {},
     "output_type": "execute_result"
    }
   ],
   "source": [
    "# get_params() returns the constructor params not the fitted ones\n",
    "grid.get_params()"
   ]
  },
  {
   "cell_type": "code",
   "execution_count": 23,
   "metadata": {},
   "outputs": [
    {
     "data": {
      "text/plain": [
       "{'batch_size': 64, 'epochs': 20, 'units': 32}"
      ]
     },
     "execution_count": 23,
     "metadata": {},
     "output_type": "execute_result"
    }
   ],
   "source": [
    "# Returns the best params after the gridsearch\n",
    "grid.best_params_"
   ]
  },
  {
   "cell_type": "code",
   "execution_count": 29,
   "metadata": {},
   "outputs": [
    {
     "data": {
      "text/plain": [
       "{'mean_fit_time': array([83.80310297, 44.38833485,  8.75606074]),\n",
       " 'std_fit_time': array([0.40393744, 3.92215416, 1.470197  ]),\n",
       " 'mean_score_time': array([2.21824265, 1.38392358, 0.46798816]),\n",
       " 'std_score_time': array([0.17727028, 0.42345645, 0.20383882]),\n",
       " 'param_batch_size': masked_array(data=[32, 64, 512],\n",
       "              mask=[False, False, False],\n",
       "        fill_value='?',\n",
       "             dtype=object),\n",
       " 'param_epochs': masked_array(data=[20, 20, 20],\n",
       "              mask=[False, False, False],\n",
       "        fill_value='?',\n",
       "             dtype=object),\n",
       " 'param_units': masked_array(data=[32, 32, 32],\n",
       "              mask=[False, False, False],\n",
       "        fill_value='?',\n",
       "             dtype=object),\n",
       " 'params': [{'batch_size': 32, 'epochs': 20, 'units': 32},\n",
       "  {'batch_size': 64, 'epochs': 20, 'units': 32},\n",
       "  {'batch_size': 512, 'epochs': 20, 'units': 32}],\n",
       " 'split0_test_score': array([0.96541667, 0.96366668, 0.95816666]),\n",
       " 'split1_test_score': array([0.96041667, 0.95991665, 0.95058334]),\n",
       " 'split2_test_score': array([0.96008331, 0.96258336, 0.95016664]),\n",
       " 'split3_test_score': array([0.95816666, 0.95966667, 0.95283335]),\n",
       " 'split4_test_score': array([0.96441668, 0.96574998, 0.95850003]),\n",
       " 'mean_test_score': array([0.9617    , 0.96231667, 0.95405   ]),\n",
       " 'std_test_score': array([0.0027546 , 0.0023006 , 0.00361464]),\n",
       " 'rank_test_score': array([2, 1, 3], dtype=int32)}"
      ]
     },
     "execution_count": 29,
     "metadata": {},
     "output_type": "execute_result"
    }
   ],
   "source": [
    "grid.cv_results_"
   ]
  },
  {
   "cell_type": "code",
   "execution_count": 36,
   "metadata": {},
   "outputs": [
    {
     "data": {
      "text/plain": [
       "[\"{'batch_size': 32, 'epochs': 20, 'units': 32}\",\n",
       " \"{'batch_size': 64, 'epochs': 20, 'units': 32}\",\n",
       " \"{'batch_size': 512, 'epochs': 20, 'units': 32}\"]"
      ]
     },
     "execution_count": 36,
     "metadata": {},
     "output_type": "execute_result"
    }
   ],
   "source": [
    "[str(d) for d in grid.cv_results_[\"params\"]]"
   ]
  },
  {
   "cell_type": "code",
   "execution_count": 38,
   "metadata": {},
   "outputs": [
    {
     "data": {
      "text/html": [
       "<div>\n",
       "<style scoped>\n",
       "    .dataframe tbody tr th:only-of-type {\n",
       "        vertical-align: middle;\n",
       "    }\n",
       "\n",
       "    .dataframe tbody tr th {\n",
       "        vertical-align: top;\n",
       "    }\n",
       "\n",
       "    .dataframe thead th {\n",
       "        text-align: right;\n",
       "    }\n",
       "</style>\n",
       "<table border=\"1\" class=\"dataframe\">\n",
       "  <thead>\n",
       "    <tr style=\"text-align: right;\">\n",
       "      <th></th>\n",
       "      <th>{'batch_size': 32, 'epochs': 20, 'units': 32}</th>\n",
       "      <th>{'batch_size': 64, 'epochs': 20, 'units': 32}</th>\n",
       "      <th>{'batch_size': 512, 'epochs': 20, 'units': 32}</th>\n",
       "    </tr>\n",
       "  </thead>\n",
       "  <tbody>\n",
       "    <tr>\n",
       "      <th>0</th>\n",
       "      <td>0.965417</td>\n",
       "      <td>0.963667</td>\n",
       "      <td>0.958167</td>\n",
       "    </tr>\n",
       "    <tr>\n",
       "      <th>1</th>\n",
       "      <td>0.960417</td>\n",
       "      <td>0.959917</td>\n",
       "      <td>0.950583</td>\n",
       "    </tr>\n",
       "    <tr>\n",
       "      <th>2</th>\n",
       "      <td>0.960083</td>\n",
       "      <td>0.962583</td>\n",
       "      <td>0.950167</td>\n",
       "    </tr>\n",
       "    <tr>\n",
       "      <th>3</th>\n",
       "      <td>0.958167</td>\n",
       "      <td>0.959667</td>\n",
       "      <td>0.952833</td>\n",
       "    </tr>\n",
       "    <tr>\n",
       "      <th>4</th>\n",
       "      <td>0.964417</td>\n",
       "      <td>0.965750</td>\n",
       "      <td>0.958500</td>\n",
       "    </tr>\n",
       "  </tbody>\n",
       "</table>\n",
       "</div>"
      ],
      "text/plain": [
       "   {'batch_size': 32, 'epochs': 20, 'units': 32}  \\\n",
       "0                                       0.965417   \n",
       "1                                       0.960417   \n",
       "2                                       0.960083   \n",
       "3                                       0.958167   \n",
       "4                                       0.964417   \n",
       "\n",
       "   {'batch_size': 64, 'epochs': 20, 'units': 32}  \\\n",
       "0                                       0.963667   \n",
       "1                                       0.959917   \n",
       "2                                       0.962583   \n",
       "3                                       0.959667   \n",
       "4                                       0.965750   \n",
       "\n",
       "   {'batch_size': 512, 'epochs': 20, 'units': 32}  \n",
       "0                                        0.958167  \n",
       "1                                        0.950583  \n",
       "2                                        0.950167  \n",
       "3                                        0.952833  \n",
       "4                                        0.958500  "
      ]
     },
     "execution_count": 38,
     "metadata": {},
     "output_type": "execute_result"
    }
   ],
   "source": [
    "# for each of 5 cv folds and each paramter set there is a score\n",
    "df_score = pd.DataFrame(data=[grid.cv_results_[f\"split{cv}_test_score\"] for cv in range(5)], \n",
    "                        columns=[str(d) for d in grid.cv_results_[\"params\"]])\n",
    "df_score"
   ]
  },
  {
   "cell_type": "code",
   "execution_count": 41,
   "metadata": {},
   "outputs": [
    {
     "data": {
      "text/plain": [
       "{'batch_size': 32, 'epochs': 20, 'units': 32}     0.961700\n",
       "{'batch_size': 64, 'epochs': 20, 'units': 32}     0.962317\n",
       "{'batch_size': 512, 'epochs': 20, 'units': 32}    0.954050\n",
       "dtype: float64"
      ]
     },
     "execution_count": 41,
     "metadata": {},
     "output_type": "execute_result"
    }
   ],
   "source": [
    "# Mean score for all cv's for each param set\n",
    "df_score.mean(axis=0)"
   ]
  },
  {
   "cell_type": "code",
   "execution_count": 24,
   "metadata": {},
   "outputs": [
    {
     "data": {
      "text/plain": [
       "0.9623166680335998"
      ]
     },
     "execution_count": 24,
     "metadata": {},
     "output_type": "execute_result"
    }
   ],
   "source": [
    "# This is the best score based on average of all folds for the best param set\n",
    "grid.best_score_"
   ]
  },
  {
   "cell_type": "markdown",
   "metadata": {},
   "source": [
    "**best_estimator_.model** is the final trained NN with the entire training dataset and contains the history and weight info."
   ]
  },
  {
   "cell_type": "code",
   "execution_count": 63,
   "metadata": {},
   "outputs": [],
   "source": [
    "best_NN = grid.best_estimator_.model"
   ]
  },
  {
   "cell_type": "code",
   "execution_count": 64,
   "metadata": {},
   "outputs": [
    {
     "data": {
      "text/plain": [
       "{'loss': [0.41822561621665955,\n",
       "  0.22465011477470398,\n",
       "  0.1852334439754486,\n",
       "  0.1596328169107437,\n",
       "  0.14032332599163055,\n",
       "  0.12511606514453888,\n",
       "  0.11301782727241516,\n",
       "  0.10305821150541306,\n",
       "  0.09549396485090256,\n",
       "  0.08755308389663696,\n",
       "  0.08226276189088821,\n",
       "  0.07650288194417953,\n",
       "  0.0717812180519104,\n",
       "  0.0676991194486618,\n",
       "  0.06402521580457687,\n",
       "  0.060607343912124634,\n",
       "  0.05703025683760643,\n",
       "  0.05422088876366615,\n",
       "  0.05153549090027809,\n",
       "  0.04924921691417694],\n",
       " 'accuracy': [0.883650004863739,\n",
       "  0.935616672039032,\n",
       "  0.9474833607673645,\n",
       "  0.9543499946594238,\n",
       "  0.9591500163078308,\n",
       "  0.9631166458129883,\n",
       "  0.9669666886329651,\n",
       "  0.9690499901771545,\n",
       "  0.9715333580970764,\n",
       "  0.9738166928291321,\n",
       "  0.975683331489563,\n",
       "  0.9772999882698059,\n",
       "  0.9788833260536194,\n",
       "  0.9797999858856201,\n",
       "  0.9807833433151245,\n",
       "  0.9820833206176758,\n",
       "  0.9831166863441467,\n",
       "  0.9840166568756104,\n",
       "  0.9848166704177856,\n",
       "  0.9847999811172485]}"
      ]
     },
     "execution_count": 64,
     "metadata": {},
     "output_type": "execute_result"
    }
   ],
   "source": [
    "# The best score considering entire dataset is the one from the last epoch, 0.9847999811172485\n",
    "best_NN.history.history"
   ]
  },
  {
   "cell_type": "markdown",
   "metadata": {
    "colab_type": "text",
    "id": "EKcuY6OiaLfz"
   },
   "source": [
    "## Optimizer\n",
    "\n",
    "Remember that there's a different optimizers [optimizers](https://keras.io/optimizers/). At some point, take some time to read up on them a little bit. \"adam\" usually gives the best results. The thing to know about choosing an optimizer is that different optimizers have different hyperparameters like learning rate, momentum, etc. So based on the optimizer you choose you might also have to tune the learning rate and momentum of those optimizers after that. "
   ]
  },
  {
   "cell_type": "markdown",
   "metadata": {
    "colab_type": "text",
    "id": "DG3wq5iOaLig"
   },
   "source": [
    "## Learning Rate\n",
    "\n",
    "Remember that the Learning Rate is a hyperparameter that is specific to your gradient-descent based optimizer selection. A learning rate that is too high will cause divergent behavior, but a Learning Rate that is too low will fail to converge, again, you're looking for the sweet spot. I would start out tuning learning rates by orders of magnitude: [.001, .01, .1, .2, .3, .5] etc. I wouldn't go above .5, but you can try it and see what the behavior is like. \n",
    "\n",
    "Once you have narrowed it down, make the window even smaller and try it again. If after running the above specification your model reports that .1 is the best optimizer, then you should probably try things like [.05, .08, .1, .12, .15] to try and narrow it down. \n",
    "\n",
    "It can also be good to tune the number of epochs in combination with the learning rate since the number of iterations that you allow the learning rate to reach the minimum can determine if you have let it run long enough to converge to the minimum. "
   ]
  },
  {
   "cell_type": "code",
   "execution_count": 70,
   "metadata": {
    "colab": {},
    "colab_type": "code",
    "id": "Fr2wRCQfIILu"
   },
   "outputs": [],
   "source": [
    "learning_rates = [.001, .01, .1, .2, .3, .5]"
   ]
  },
  {
   "cell_type": "markdown",
   "metadata": {
    "colab_type": "text",
    "id": "gNTBUWd1aLlA"
   },
   "source": [
    "## Momentum\n",
    "\n",
    "Momentum is a hyperparameter that is more commonly associated with Stochastic Gradient Descent. SGD is a common optimizer because it's what people understand and know, but I doubt it will get you the best results, you can try hyperparameter tuning its attributes and see if you can beat the performance from adam. Momentum is a property that decides the willingness of an optimizer to overshoot the minimum. Imagine a ball rolling down one side of a bowl and then up the opposite side a little bit before settling back to the bottom. The purpose of momentum is to try and escape local minima."
   ]
  },
  {
   "cell_type": "markdown",
   "metadata": {
    "colab_type": "text",
    "id": "xnEG-bCJaLnZ"
   },
   "source": [
    "## Activation Functions\n",
    "\n",
    "We've talked about this a little bit, typically you'l want to use ReLU for hidden layers and either Sigmoid, or Softmax for output layers of binary and multi-class classification implementations respectively, but try other activation functions and see if you can get any better results with sigmoid or tanh or something. There are a lot of activation functions that we haven't really talked about. Maybe you'll get good results with them. Maybe you won't. :) <https://keras.io/activations/>"
   ]
  },
  {
   "cell_type": "markdown",
   "metadata": {
    "colab_type": "text",
    "id": "oul9sPq-dU-h"
   },
   "source": [
    "## Network Weight Initialization\n",
    "\n",
    "You saw how big of an effect the way that we initialize our network's weights can have on our results. There are **a lot** of what are called initialization modes. I don't understand all of them, but they can have a big affect on your model's initial accuracy. Your model will get further with less epochs if you initialize it with weights that are well suited to the problem you're trying to solve.\n",
    "\n",
    "`init_mode = ['uniform', 'lecun_uniform', 'normal', 'zero', 'glorot_normal', 'glorot_uniform', 'he_normal', 'he_uniform']`"
   ]
  },
  {
   "cell_type": "markdown",
   "metadata": {
    "colab_type": "text",
    "id": "bqtEuxeQaLqE"
   },
   "source": [
    "## Dropout Regularization and the Weight Constraint\n",
    "\n",
    "The Dropout Regularization value is a percentage of neurons that you want to be randomly deactivated during training. The weight constraint is a second regularization parameter that works in tandem with dropout regularization. You should tune these two values at the same time. \n",
    "\n",
    "Using dropout on visible vs hidden layers might have a different effect. Using dropout on hidden layers might not have any effect while using dropout on hidden layers might have a substantial effect. You don't necessarily need to turn use dropout unless you see that your model has overfitting and generalizability problems."
   ]
  },
  {
   "cell_type": "markdown",
   "metadata": {
    "colab_type": "text",
    "id": "P2c5Cv6oaLtO"
   },
   "source": [
    "## Neurons in Hidden Layer \n",
    "\n",
    "Remember that when we only had a single perceptron our model was only able to fit to linearly separable data, but as we have added layers and nodes to those layers our network has become a powerhouse of fitting nonlinearity in data. The larger the network and the more nodes generally the stronger the network's capacity to fit nonlinear patterns in data. The more nodes and layers the longer it will take to train a network, and higher the probability of overfitting. The larger your network gets the more you'll need dropout regularization or other regularization techniques to keep it in check. \n",
    "\n",
    "**Typically depth (more layers) is more important than width (more nodes) for neural networks.** This is part of why Deep Learning is so highly touted. Certain deep learning architectures have truly been huge breakthroughs for certain machine learning tasks. \n",
    "\n",
    "You might borrow ideas from other network architectures. For example if I was doing image recognition and I wasn't taking cues from state of the art architectures like resnet, alexnet, googlenet, etc. Then I'm probably going to have to do a lot more experimentation on my own before I find something that works.\n",
    "\n",
    "There are some heuristics, but I am highly skeptical of them. I think you're better off experimenting on your own and forming your own intuition for these kinds of problems. \n",
    "\n",
    "- https://machinelearningmastery.com/how-to-configure-the-number-of-layers-and-nodes-in-a-neural-network/"
   ]
  },
  {
   "cell_type": "markdown",
   "metadata": {
    "colab_type": "text",
    "id": "YrcXQxBUIILy"
   },
   "source": [
    "## Challenge\n",
    "Other parameter searchers (including RandomSearchCV) - https://scikit-learn.org/stable/modules/classes.html#hyper-parameter-optimizers"
   ]
  },
  {
   "cell_type": "markdown",
   "metadata": {
    "colab_type": "text",
    "id": "UIRKRf5WIILy"
   },
   "source": [
    "# Experiment Tracking Framework (Learn)\n",
    "<a id=\"p2\"></a>"
   ]
  },
  {
   "cell_type": "markdown",
   "metadata": {
    "colab_type": "text",
    "id": "YTHOpGLpIILz"
   },
   "source": [
    "## Overview\n",
    "\n",
    "You will notice quickly that managing the results of all the experiments you are running becomes challenging. Which set of parameters did the best? Are my results today different than my results yesterday? Although we use Ipython Notebooks to work, the format is not well suited to logging experimental results. Enter **experiment tracking frameworks like [Comet.ml](https://comet.ml) and [Weights and Biases](https://wandb.ai/), and TensorBoard's Hyperparameter Dashboard.* \n",
    "\n",
    "Those tools will help you track your experiments, store the results, and the code associated with those experiments. Experimental results can also be readily visualized to see changes in performance across any metric you care about. Data is sent to the tool as each epoch is completed, so you can also see if your model is converging. Let's check out TensorBoard today. "
   ]
  },
  {
   "cell_type": "markdown",
   "metadata": {
    "colab_type": "text",
    "id": "L-Yhf0eCIILz"
   },
   "source": [
    "### Hyperparameter Tuning with the HParams Dashboard in TensorBoard"
   ]
  },
  {
   "cell_type": "code",
   "execution_count": 4,
   "metadata": {
    "colab": {},
    "colab_type": "code",
    "id": "Ncbmt-nAIILz"
   },
   "outputs": [],
   "source": [
    "# Load an ipython extension\n",
    "%load_ext tensorboard"
   ]
  },
  {
   "cell_type": "code",
   "execution_count": 5,
   "metadata": {
    "colab": {},
    "colab_type": "code",
    "id": "XDfQi_1SPGVQ"
   },
   "outputs": [],
   "source": [
    "import tensorflow as tf\n",
    "from tensorboard.plugins.hparams import api as hp\n",
    "\n",
    "import os\n",
    "import datetime"
   ]
  },
  {
   "cell_type": "markdown",
   "metadata": {
    "colab_type": "text",
    "id": "ieDkdH3kPR75"
   },
   "source": [
    "### 1. Create Experiment Configuration\n",
    "We are going to experiment with: \n",
    "* Number of units in the first dense layer\n",
    "* Learning Rate\n",
    "* Optimizer"
   ]
  },
  {
   "cell_type": "code",
   "execution_count": 77,
   "metadata": {
    "colab": {},
    "colab_type": "code",
    "id": "m9DCVHodPkgH"
   },
   "outputs": [],
   "source": [
    "# Define hyper parametres and score metrics\n",
    "HP_NUM_UNITS = hp.HParam('num_units', hp.Discrete([16,32]))\n",
    "HP_LEARNING_RATE = hp.HParam('learning_rate', hp.RealInterval(0.001,.01))\n",
    "HP_OPTIMIZER = hp.HParam('optimizer', hp.Discrete(['adam', 'sgd']))\n",
    "HP_ADDLAYER = hp.HParam('hplayer', hp.Discrete([False, True]))\n",
    "HP_DROPOUT = hp.HParam('hpdropout', hp.RealInterval(0.1, 0.2))\n",
    "HP_EPOCH = hp.HParam('hpepoch', hp.Discrete([5]))\n",
    "HP_BATCH = hp.HParam('hpbatch', hp.Discrete([128]))\n",
    "\n",
    "METRIC_ACCURACY = 'hpaccuracy'\n",
    "METRIC_LOSS = 'hploss'\n",
    "METRIC_MSE = 'hpmse'\n",
    "\n",
    "with tf.summary.create_file_writer('logs/hparam_tuning').as_default():\n",
    "  hp.hparams_config(\n",
    "      hparams=[HP_NUM_UNITS, HP_LEARNING_RATE, HP_OPTIMIZER, HP_EPOCH, HP_BATCH, HP_ADDLAYER, HP_DROPOUT],\n",
    "      metrics=[hp.Metric(METRIC_ACCURACY, display_name='HPaccuracy'), \n",
    "               hp.Metric(METRIC_LOSS, display_name='HPloss'),\n",
    "               hp.Metric(METRIC_MSE, display_name='HPmse')\n",
    "                ]\n",
    "  )"
   ]
  },
  {
   "cell_type": "code",
   "execution_count": 78,
   "metadata": {
    "colab": {
     "base_uri": "https://localhost:8080/",
     "height": 340
    },
    "colab_type": "code",
    "id": "68_3EBlAEZGj",
    "outputId": "56864fd8-99d0-444f-9132-41199c6a7386"
   },
   "outputs": [
    {
     "data": {
      "text/plain": [
       "['Discrete',\n",
       " 'Domain',\n",
       " 'HParam',\n",
       " 'IntInterval',\n",
       " 'KerasCallback',\n",
       " 'Metric',\n",
       " 'RealInterval',\n",
       " '__builtins__',\n",
       " '__cached__',\n",
       " '__doc__',\n",
       " '__file__',\n",
       " '__loader__',\n",
       " '__name__',\n",
       " '__package__',\n",
       " '__spec__',\n",
       " 'hparams',\n",
       " 'hparams_config',\n",
       " 'hparams_config_pb',\n",
       " 'hparams_pb']"
      ]
     },
     "execution_count": 78,
     "metadata": {},
     "output_type": "execute_result"
    }
   ],
   "source": [
    "dir(hp)"
   ]
  },
  {
   "cell_type": "markdown",
   "metadata": {
    "colab_type": "text",
    "id": "2rhRMwfLQuGJ"
   },
   "source": [
    "### 2. Adapt Model Function with HParams"
   ]
  },
  {
   "cell_type": "code",
   "execution_count": 80,
   "metadata": {
    "colab": {},
    "colab_type": "code",
    "id": "nrjKyNiMQ0Dn"
   },
   "outputs": [],
   "source": [
    "def train_test_model(hparams):\n",
    "    \"\"\"\n",
    "    hparams: a dictionary with keys being of HParams type and \n",
    "    values being list of possible values\n",
    "    \"\"\"\n",
    "  \n",
    "    model = tf.keras.Sequential([\n",
    "        tf.keras.layers.Dense(hparams[HP_NUM_UNITS], activation='relu'),\n",
    "        tf.keras.layers.Dropout(hparams[HP_DROPOUT])\n",
    "    ])\n",
    "    \n",
    "    if hparams[HP_ADDLAYER] == True:\n",
    "        model.add(tf.keras.layers.Dense(hparams[HP_NUM_UNITS], activation='relu'))\n",
    "\n",
    "    model.add(tf.keras.layers.Dense(10, activation='softmax'))      \n",
    "  \n",
    "\n",
    "    # Optimizer need the learning rate\n",
    "    opt_name = hparams[HP_OPTIMIZER]\n",
    "    lr = hparams[HP_LEARNING_RATE]\n",
    "\n",
    "    if opt_name == 'adam':\n",
    "        opt = tf.keras.optimizers.Adam(learning_rate=lr)\n",
    "    elif opt_name == 'sgd':\n",
    "        opt = tf.keras.optimizers.SGD(learning_rate=lr)\n",
    "    else:\n",
    "        raise ValueError(f'Unexpected optimizer: {opt_name}')\n",
    "\n",
    "    # Compile defines optimizer, loss function and metric\n",
    "    model.compile(\n",
    "        optimizer=opt,\n",
    "        loss='sparse_categorical_crossentropy',\n",
    "        metrics=['accuracy', 'mse']\n",
    "      )\n",
    "\n",
    "    model.fit(X_train, y_train, epochs=hparams[HP_EPOCH], batch_size=hparams[HP_BATCH])\n",
    "    \n",
    "    print(\"Metrics:\", model.metrics_names)\n",
    "    [loss, accuracy, mse] = model.evaluate(X_test, y_test)\n",
    "\n",
    "    # Python convention: if a variable doesn't need a name, give it _\n",
    "    # ten_ones = [1 for _ in range(10)]\n",
    "\n",
    "    return loss, accuracy, mse"
   ]
  },
  {
   "cell_type": "markdown",
   "metadata": {},
   "source": [
    "HParam can work with tensor.summary file which is accessible by tensorboard. We use HParam to record parameter sets in the file."
   ]
  },
  {
   "cell_type": "markdown",
   "metadata": {
    "colab_type": "text",
    "id": "6bixdT4BSFvx"
   },
   "source": [
    "* For each run, log an hparams summary with the hyperparameters and final accuracy. "
   ]
  },
  {
   "cell_type": "code",
   "execution_count": 81,
   "metadata": {
    "colab": {},
    "colab_type": "code",
    "id": "ajJRJSCDTLOA"
   },
   "outputs": [],
   "source": [
    "def run(run_dir, hparams):\n",
    "    \"\"\"trains and evaluate the NN for the hparams and store the HParams into a summary file \n",
    "    for the given log directory as well as accuracy number in the form of tensor.\n",
    "    The summary file is accessible by tensorboard for visualization and record keeping\n",
    "    \"\"\"\n",
    "    with tf.summary.create_file_writer(run_dir).as_default():\n",
    "        # .hparams() is a method of hp\n",
    "        # This seems the only part that HParam brings value compare to a primitive variable\n",
    "        hp.hparams(hparams)  # record the parameter values used in this trial\n",
    "        \n",
    "        [loss, accuracy, mse] = train_test_model(hparams)\n",
    "        # The summary tag used for TensorBoard will be METRIC_ACCURACY='accuracy' prefixed by any active name scopes.\n",
    "        tf.summary.scalar(name=METRIC_ACCURACY, data=accuracy, step=1)        \n",
    "        tf.summary.scalar(name=METRIC_LOSS, data=loss, step=1)\n",
    "        tf.summary.scalar(name=METRIC_MSE, data=mse, step=1)\n"
   ]
  },
  {
   "cell_type": "code",
   "execution_count": 82,
   "metadata": {},
   "outputs": [
    {
     "name": "stdout",
     "output_type": "stream",
     "text": [
      "{HParam(name='num_units', domain=Discrete([16, 32]), display_name=None, description=None): 16, HParam(name='learning_rate', domain=RealInterval(0.001, 0.01), display_name=None, description=None): 0.001, HParam(name='optimizer', domain=Discrete(['adam', 'sgd']), display_name=None, description=None): 'adam', HParam(name='hpbatch', domain=Discrete([128]), display_name=None, description=None): 128, HParam(name='hpepoch', domain=Discrete([5]), display_name=None, description=None): 5, HParam(name='hplayer', domain=Discrete([False, True]), display_name=None, description=None): False, HParam(name='hpdropout', domain=RealInterval(0.1, 0.2), display_name=None, description=None): 0.1}\n",
      "**************************************************\n"
     ]
    }
   ],
   "source": [
    "# For debugging\n",
    "for num_units in HP_NUM_UNITS.domain.values:\n",
    "    for learning_rate in (HP_LEARNING_RATE.domain.min_value, HP_LEARNING_RATE.domain.max_value):\n",
    "        for optimizer in HP_OPTIMIZER.domain.values:\n",
    "            for batch in HP_BATCH.domain.values:\n",
    "                for epoch in HP_EPOCH.domain.values:\n",
    "                    for layer in HP_ADDLAYER.domain.values:\n",
    "                        for dropout_rate in (HP_DROPOUT.domain.min_value, HP_DROPOUT.domain.max_value):\n",
    "                            hparams = {\n",
    "                                        HP_NUM_UNITS: num_units,\n",
    "                                        HP_LEARNING_RATE: learning_rate,\n",
    "                                        HP_OPTIMIZER: optimizer,\n",
    "                                        HP_BATCH: batch,\n",
    "                                        HP_EPOCH: epoch,\n",
    "                                        HP_ADDLAYER: layer,\n",
    "                                        HP_DROPOUT: dropout_rate\n",
    "                                        }\n",
    "                            print(hparams)\n",
    "                            print(\"*\"*50)\n",
    "                            break\n",
    "                        break\n",
    "                    break   \n",
    "                break\n",
    "            break\n",
    "        break\n",
    "    break"
   ]
  },
  {
   "cell_type": "code",
   "execution_count": 83,
   "metadata": {},
   "outputs": [
    {
     "data": {
      "text/plain": [
       "[16, 32]"
      ]
     },
     "execution_count": 83,
     "metadata": {},
     "output_type": "execute_result"
    }
   ],
   "source": [
    "HP_NUM_UNITS.domain.values"
   ]
  },
  {
   "cell_type": "markdown",
   "metadata": {},
   "source": [
    "Let's create a series of HParam values and save the trained results in separate log file directories"
   ]
  },
  {
   "cell_type": "code",
   "execution_count": 84,
   "metadata": {
    "colab": {
     "base_uri": "https://localhost:8080/",
     "height": 1000
    },
    "colab_type": "code",
    "id": "qWC0FMCjTQk1",
    "outputId": "76de2f5e-abaa-4b50-b1df-aadfbce71b7d"
   },
   "outputs": [
    {
     "name": "stdout",
     "output_type": "stream",
     "text": [
      "--- Starting trial: run-0\n",
      "{'num_units': 16, 'learning_rate': 0.001, 'optimizer': 'adam', 'hpbatch': 128, 'hpepoch': 5, 'hplayer': False, 'hpdropout': 0.1}\n",
      "Epoch 1/5\n",
      "469/469 [==============================] - 1s 967us/step - loss: 1.1770 - accuracy: 0.6336 - mse: 27.3682\n",
      "Epoch 2/5\n",
      "469/469 [==============================] - 0s 834us/step - loss: 0.4548 - accuracy: 0.8627 - mse: 27.4881\n",
      "Epoch 3/5\n",
      "469/469 [==============================] - 0s 850us/step - loss: 0.3897 - accuracy: 0.8818 - mse: 27.2040\n",
      "Epoch 4/5\n",
      "469/469 [==============================] - 0s 812us/step - loss: 0.3484 - accuracy: 0.8942 - mse: 27.3938\n",
      "Epoch 5/5\n",
      "469/469 [==============================] - 0s 934us/step - loss: 0.3026 - accuracy: 0.9057 - mse: 27.3613\n",
      "Metrics: ['loss', 'accuracy', 'mse']\n",
      "313/313 [==============================] - 0s 503us/step - loss: 0.2104 - accuracy: 0.9387 - mse: 27.3277\n",
      "--- Starting trial: run-1\n",
      "{'num_units': 16, 'learning_rate': 0.001, 'optimizer': 'adam', 'hpbatch': 128, 'hpepoch': 5, 'hplayer': False, 'hpdropout': 0.2}\n",
      "Epoch 1/5\n",
      "469/469 [==============================] - 1s 810us/step - loss: 1.2465 - accuracy: 0.5997 - mse: 27.3474\n",
      "Epoch 2/5\n",
      "469/469 [==============================] - 0s 825us/step - loss: 0.5173 - accuracy: 0.8421 - mse: 27.3269\n",
      "Epoch 3/5\n",
      "469/469 [==============================] - 0s 818us/step - loss: 0.4391 - accuracy: 0.8639 - mse: 27.5170\n",
      "Epoch 4/5\n",
      "469/469 [==============================] - 0s 811us/step - loss: 0.4076 - accuracy: 0.8735 - mse: 27.4059\n",
      "Epoch 5/5\n",
      "469/469 [==============================] - 0s 830us/step - loss: 0.3844 - accuracy: 0.8794 - mse: 27.5266\n",
      "Metrics: ['loss', 'accuracy', 'mse']\n",
      "313/313 [==============================] - 0s 502us/step - loss: 0.2389 - accuracy: 0.9270 - mse: 27.3264\n",
      "--- Starting trial: run-2\n",
      "{'num_units': 16, 'learning_rate': 0.001, 'optimizer': 'adam', 'hpbatch': 128, 'hpepoch': 5, 'hplayer': True, 'hpdropout': 0.1}\n",
      "Epoch 1/5\n",
      "469/469 [==============================] - 1s 1ms/step - loss: 1.3501 - accuracy: 0.5408 - mse: 27.3213\n",
      "Epoch 2/5\n",
      "469/469 [==============================] - 1s 1ms/step - loss: 0.4511 - accuracy: 0.8605 - mse: 27.3385\n",
      "Epoch 3/5\n",
      "469/469 [==============================] - 0s 944us/step - loss: 0.3387 - accuracy: 0.8956 - mse: 27.4001\n",
      "Epoch 4/5\n",
      "469/469 [==============================] - 0s 911us/step - loss: 0.3030 - accuracy: 0.9073 - mse: 27.4464\n",
      "Epoch 5/5\n",
      "469/469 [==============================] - 0s 957us/step - loss: 0.2896 - accuracy: 0.9099 - mse: 27.2619\n",
      "Metrics: ['loss', 'accuracy', 'mse']\n",
      "313/313 [==============================] - 0s 605us/step - loss: 0.2026 - accuracy: 0.9399 - mse: 27.3295\n",
      "--- Starting trial: run-3\n",
      "{'num_units': 16, 'learning_rate': 0.001, 'optimizer': 'adam', 'hpbatch': 128, 'hpepoch': 5, 'hplayer': True, 'hpdropout': 0.2}\n",
      "Epoch 1/5\n",
      "469/469 [==============================] - 1s 955us/step - loss: 1.3778 - accuracy: 0.5534 - mse: 27.3647\n",
      "Epoch 2/5\n",
      "469/469 [==============================] - 0s 886us/step - loss: 0.5678 - accuracy: 0.8245 - mse: 27.1947\n",
      "Epoch 3/5\n",
      "469/469 [==============================] - 0s 888us/step - loss: 0.4703 - accuracy: 0.8541 - mse: 27.4162\n",
      "Epoch 4/5\n",
      "469/469 [==============================] - 0s 863us/step - loss: 0.4431 - accuracy: 0.8636 - mse: 27.3509\n",
      "Epoch 5/5\n",
      "469/469 [==============================] - 0s 854us/step - loss: 0.4222 - accuracy: 0.8690 - mse: 27.3493\n",
      "Metrics: ['loss', 'accuracy', 'mse']\n",
      "313/313 [==============================] - 0s 574us/step - loss: 0.2438 - accuracy: 0.9313 - mse: 27.3258\n",
      "--- Starting trial: run-4\n",
      "{'num_units': 16, 'learning_rate': 0.001, 'optimizer': 'sgd', 'hpbatch': 128, 'hpepoch': 5, 'hplayer': False, 'hpdropout': 0.1}\n",
      "Epoch 1/5\n",
      "469/469 [==============================] - 1s 791us/step - loss: 2.2255 - accuracy: 0.1696 - mse: 27.3252\n",
      "Epoch 2/5\n",
      "469/469 [==============================] - 0s 769us/step - loss: 1.9686 - accuracy: 0.3810 - mse: 27.4428\n",
      "Epoch 3/5\n",
      "469/469 [==============================] - 0s 794us/step - loss: 1.7560 - accuracy: 0.4970 - mse: 27.3211\n",
      "Epoch 4/5\n",
      "469/469 [==============================] - 0s 769us/step - loss: 1.5687 - accuracy: 0.5746 - mse: 27.2784\n",
      "Epoch 5/5\n",
      "469/469 [==============================] - 0s 785us/step - loss: 1.4115 - accuracy: 0.6318 - mse: 27.3023\n",
      "Metrics: ['loss', 'accuracy', 'mse']\n",
      "313/313 [==============================] - 0s 502us/step - loss: 1.2272 - accuracy: 0.7509 - mse: 27.2621\n",
      "--- Starting trial: run-5\n",
      "{'num_units': 16, 'learning_rate': 0.001, 'optimizer': 'sgd', 'hpbatch': 128, 'hpepoch': 5, 'hplayer': False, 'hpdropout': 0.2}\n",
      "Epoch 1/5\n",
      "469/469 [==============================] - 1s 883us/step - loss: 2.3300 - accuracy: 0.1125 - mse: 27.1922\n",
      "Epoch 2/5\n",
      "469/469 [==============================] - 0s 760us/step - loss: 2.1407 - accuracy: 0.2523 - mse: 27.3595\n",
      "Epoch 3/5\n",
      "469/469 [==============================] - 0s 787us/step - loss: 1.9630 - accuracy: 0.3768 - mse: 27.3701\n",
      "Epoch 4/5\n",
      "469/469 [==============================] - 0s 768us/step - loss: 1.7788 - accuracy: 0.4793 - mse: 27.1554\n",
      "Epoch 5/5\n",
      "469/469 [==============================] - 0s 767us/step - loss: 1.6193 - accuracy: 0.5329 - mse: 27.1813\n",
      "Metrics: ['loss', 'accuracy', 'mse']\n",
      "313/313 [==============================] - 0s 582us/step - loss: 1.4201 - accuracy: 0.6903 - mse: 27.2583\n",
      "--- Starting trial: run-6\n",
      "{'num_units': 16, 'learning_rate': 0.001, 'optimizer': 'sgd', 'hpbatch': 128, 'hpepoch': 5, 'hplayer': True, 'hpdropout': 0.1}\n",
      "Epoch 1/5\n",
      "469/469 [==============================] - 1s 928us/step - loss: 2.2861 - accuracy: 0.1223 - mse: 27.1716\n",
      "Epoch 2/5\n",
      "469/469 [==============================] - 0s 812us/step - loss: 2.2061 - accuracy: 0.1998 - mse: 27.2313\n",
      "Epoch 3/5\n",
      "469/469 [==============================] - 0s 958us/step - loss: 2.1316 - accuracy: 0.2359 - mse: 27.3091\n",
      "Epoch 4/5\n",
      "469/469 [==============================] - 0s 972us/step - loss: 2.0418 - accuracy: 0.2763 - mse: 27.2716\n",
      "Epoch 5/5\n",
      "469/469 [==============================] - 0s 831us/step - loss: 1.9485 - accuracy: 0.3289 - mse: 27.4634\n",
      "Metrics: ['loss', 'accuracy', 'mse']\n",
      "313/313 [==============================] - 0s 513us/step - loss: 1.8512 - accuracy: 0.3895 - mse: 27.2551\n",
      "--- Starting trial: run-7\n",
      "{'num_units': 16, 'learning_rate': 0.001, 'optimizer': 'sgd', 'hpbatch': 128, 'hpepoch': 5, 'hplayer': True, 'hpdropout': 0.2}\n",
      "Epoch 1/5\n",
      "469/469 [==============================] - 1s 800us/step - loss: 2.3524 - accuracy: 0.0929 - mse: 27.4177\n",
      "Epoch 2/5\n",
      "469/469 [==============================] - 0s 812us/step - loss: 2.2701 - accuracy: 0.1422 - mse: 27.4615\n",
      "Epoch 3/5\n",
      "469/469 [==============================] - 0s 779us/step - loss: 2.2128 - accuracy: 0.1995 - mse: 27.3603\n",
      "Epoch 4/5\n",
      "469/469 [==============================] - 0s 940us/step - loss: 2.1505 - accuracy: 0.2428 - mse: 27.1823\n",
      "Epoch 5/5\n",
      "469/469 [==============================] - 0s 803us/step - loss: 2.0919 - accuracy: 0.2744 - mse: 27.1478\n",
      "Metrics: ['loss', 'accuracy', 'mse']\n",
      "313/313 [==============================] - 0s 515us/step - loss: 2.0058 - accuracy: 0.3748 - mse: 27.2520\n",
      "--- Starting trial: run-8\n",
      "{'num_units': 16, 'learning_rate': 0.01, 'optimizer': 'adam', 'hpbatch': 128, 'hpepoch': 5, 'hplayer': False, 'hpdropout': 0.1}\n",
      "Epoch 1/5\n",
      "469/469 [==============================] - 1s 841us/step - loss: 0.7138 - accuracy: 0.7639 - mse: 27.3083\n",
      "Epoch 2/5\n",
      "469/469 [==============================] - 0s 829us/step - loss: 0.3836 - accuracy: 0.8813 - mse: 27.4545\n",
      "Epoch 3/5\n",
      "469/469 [==============================] - 0s 818us/step - loss: 0.3549 - accuracy: 0.8909 - mse: 27.2260\n",
      "Epoch 4/5\n",
      "469/469 [==============================] - 0s 833us/step - loss: 0.3403 - accuracy: 0.8934 - mse: 27.5271\n",
      "Epoch 5/5\n",
      "469/469 [==============================] - 0s 852us/step - loss: 0.3235 - accuracy: 0.8999 - mse: 27.0616\n",
      "Metrics: ['loss', 'accuracy', 'mse']\n",
      "313/313 [==============================] - 0s 595us/step - loss: 0.2240 - accuracy: 0.9370 - mse: 27.3290\n",
      "--- Starting trial: run-9\n",
      "{'num_units': 16, 'learning_rate': 0.01, 'optimizer': 'adam', 'hpbatch': 128, 'hpepoch': 5, 'hplayer': False, 'hpdropout': 0.2}\n",
      "Epoch 1/5\n",
      "469/469 [==============================] - 1s 846us/step - loss: 0.7538 - accuracy: 0.7482 - mse: 27.3031\n",
      "Epoch 2/5\n",
      "469/469 [==============================] - 0s 868us/step - loss: 0.4350 - accuracy: 0.8602 - mse: 27.5354\n",
      "Epoch 3/5\n",
      "469/469 [==============================] - 0s 985us/step - loss: 0.4005 - accuracy: 0.8700 - mse: 27.2864\n",
      "Epoch 4/5\n",
      "469/469 [==============================] - 0s 958us/step - loss: 0.3884 - accuracy: 0.8745 - mse: 27.4220\n",
      "Epoch 5/5\n",
      "469/469 [==============================] - 0s 871us/step - loss: 0.3801 - accuracy: 0.8775 - mse: 27.2064 0s - loss: 0.3809 - accuracy: 0.8774 - mse: 27.\n",
      "Metrics: ['loss', 'accuracy', 'mse']\n",
      "313/313 [==============================] - 0s 549us/step - loss: 0.2265 - accuracy: 0.9340 - mse: 27.3292\n",
      "--- Starting trial: run-10\n",
      "{'num_units': 16, 'learning_rate': 0.01, 'optimizer': 'adam', 'hpbatch': 128, 'hpepoch': 5, 'hplayer': True, 'hpdropout': 0.1}\n",
      "Epoch 1/5\n",
      "469/469 [==============================] - 1s 929us/step - loss: 0.8594 - accuracy: 0.7108 - mse: 27.2871\n",
      "Epoch 2/5\n",
      "469/469 [==============================] - 0s 863us/step - loss: 0.4212 - accuracy: 0.8688 - mse: 27.4147\n",
      "Epoch 3/5\n",
      "469/469 [==============================] - 0s 915us/step - loss: 0.3960 - accuracy: 0.8759 - mse: 27.2386\n",
      "Epoch 4/5\n",
      "469/469 [==============================] - 0s 876us/step - loss: 0.3764 - accuracy: 0.8816 - mse: 27.3638\n",
      "Epoch 5/5\n",
      "469/469 [==============================] - 0s 897us/step - loss: 0.3684 - accuracy: 0.8841 - mse: 27.2307\n",
      "Metrics: ['loss', 'accuracy', 'mse']\n",
      "313/313 [==============================] - 0s 530us/step - loss: 0.2724 - accuracy: 0.9178 - mse: 27.3253\n",
      "--- Starting trial: run-11\n",
      "{'num_units': 16, 'learning_rate': 0.01, 'optimizer': 'adam', 'hpbatch': 128, 'hpepoch': 5, 'hplayer': True, 'hpdropout': 0.2}\n",
      "Epoch 1/5\n",
      "469/469 [==============================] - 1s 981us/step - loss: 0.8610 - accuracy: 0.7153 - mse: 27.4429\n",
      "Epoch 2/5\n",
      "469/469 [==============================] - 1s 1ms/step - loss: 0.4676 - accuracy: 0.8525 - mse: 27.2721\n",
      "Epoch 3/5\n",
      "469/469 [==============================] - 0s 879us/step - loss: 0.4158 - accuracy: 0.8703 - mse: 27.4642\n",
      "Epoch 4/5\n",
      "469/469 [==============================] - 0s 905us/step - loss: 0.3911 - accuracy: 0.8796 - mse: 27.3767\n",
      "Epoch 5/5\n",
      "469/469 [==============================] - 0s 891us/step - loss: 0.3716 - accuracy: 0.8834 - mse: 27.4126\n",
      "Metrics: ['loss', 'accuracy', 'mse']\n",
      "313/313 [==============================] - 0s 519us/step - loss: 0.2592 - accuracy: 0.9202 - mse: 27.3284\n",
      "--- Starting trial: run-12\n",
      "{'num_units': 16, 'learning_rate': 0.01, 'optimizer': 'sgd', 'hpbatch': 128, 'hpepoch': 5, 'hplayer': False, 'hpdropout': 0.1}\n",
      "Epoch 1/5\n",
      "469/469 [==============================] - 1s 813us/step - loss: 1.8911 - accuracy: 0.3594 - mse: 27.3664\n",
      "Epoch 2/5\n",
      "469/469 [==============================] - 0s 768us/step - loss: 0.9136 - accuracy: 0.7434 - mse: 27.4097\n",
      "Epoch 3/5\n",
      "469/469 [==============================] - 0s 792us/step - loss: 0.6792 - accuracy: 0.8045 - mse: 27.4002\n",
      "Epoch 4/5\n",
      "469/469 [==============================] - 0s 796us/step - loss: 0.5956 - accuracy: 0.8242 - mse: 27.5251\n",
      "Epoch 5/5\n",
      "469/469 [==============================] - 0s 772us/step - loss: 0.5465 - accuracy: 0.8365 - mse: 27.3630\n",
      "Metrics: ['loss', 'accuracy', 'mse']\n",
      "313/313 [==============================] - 0s 512us/step - loss: 0.3936 - accuracy: 0.8946 - mse: 27.3116\n",
      "--- Starting trial: run-13\n",
      "{'num_units': 16, 'learning_rate': 0.01, 'optimizer': 'sgd', 'hpbatch': 128, 'hpepoch': 5, 'hplayer': False, 'hpdropout': 0.2}\n",
      "Epoch 1/5\n",
      "469/469 [==============================] - 1s 813us/step - loss: 1.8427 - accuracy: 0.3666 - mse: 27.3455\n",
      "Epoch 2/5\n",
      "469/469 [==============================] - 0s 790us/step - loss: 1.0416 - accuracy: 0.6668 - mse: 27.1914\n",
      "Epoch 3/5\n",
      "469/469 [==============================] - 0s 799us/step - loss: 0.8350 - accuracy: 0.7344 - mse: 27.3998\n",
      "Epoch 4/5\n",
      "469/469 [==============================] - 0s 786us/step - loss: 0.7329 - accuracy: 0.7681 - mse: 27.2392\n",
      "Epoch 5/5\n",
      "469/469 [==============================] - 0s 807us/step - loss: 0.6770 - accuracy: 0.7873 - mse: 27.3686\n",
      "Metrics: ['loss', 'accuracy', 'mse']\n",
      "313/313 [==============================] - 0s 519us/step - loss: 0.4495 - accuracy: 0.8822 - mse: 27.3070\n",
      "--- Starting trial: run-14\n",
      "{'num_units': 16, 'learning_rate': 0.01, 'optimizer': 'sgd', 'hpbatch': 128, 'hpepoch': 5, 'hplayer': True, 'hpdropout': 0.1}\n",
      "Epoch 1/5\n",
      "469/469 [==============================] - 1s 964us/step - loss: 2.1421 - accuracy: 0.2126 - mse: 27.1428\n",
      "Epoch 2/5\n",
      "469/469 [==============================] - 0s 926us/step - loss: 1.2923 - accuracy: 0.6293 - mse: 27.2099\n",
      "Epoch 3/5\n",
      "469/469 [==============================] - 0s 855us/step - loss: 0.8632 - accuracy: 0.7285 - mse: 27.2206\n",
      "Epoch 4/5\n",
      "469/469 [==============================] - 0s 882us/step - loss: 0.7360 - accuracy: 0.7682 - mse: 27.4467\n",
      "Epoch 5/5\n",
      "469/469 [==============================] - 0s 892us/step - loss: 0.6569 - accuracy: 0.7915 - mse: 27.3033\n",
      "Metrics: ['loss', 'accuracy', 'mse']\n",
      "313/313 [==============================] - 0s 689us/step - loss: 0.4667 - accuracy: 0.8631 - mse: 27.3091\n",
      "--- Starting trial: run-15\n",
      "{'num_units': 16, 'learning_rate': 0.01, 'optimizer': 'sgd', 'hpbatch': 128, 'hpepoch': 5, 'hplayer': True, 'hpdropout': 0.2}\n",
      "Epoch 1/5\n",
      "469/469 [==============================] - 1s 875us/step - loss: 2.0310 - accuracy: 0.2980 - mse: 27.3831\n",
      "Epoch 2/5\n",
      "469/469 [==============================] - 0s 929us/step - loss: 1.1329 - accuracy: 0.6362 - mse: 27.2382\n",
      "Epoch 3/5\n",
      "469/469 [==============================] - 0s 1ms/step - loss: 0.8672 - accuracy: 0.7231 - mse: 27.1738\n",
      "Epoch 4/5\n",
      "469/469 [==============================] - 0s 928us/step - loss: 0.7459 - accuracy: 0.7615 - mse: 27.4480\n",
      "Epoch 5/5\n",
      "469/469 [==============================] - 0s 979us/step - loss: 0.6734 - accuracy: 0.7889 - mse: 27.4067\n",
      "Metrics: ['loss', 'accuracy', 'mse']\n",
      "313/313 [==============================] - 0s 602us/step - loss: 0.4390 - accuracy: 0.8811 - mse: 27.3101\n",
      "--- Starting trial: run-16\n",
      "{'num_units': 32, 'learning_rate': 0.001, 'optimizer': 'adam', 'hpbatch': 128, 'hpepoch': 5, 'hplayer': False, 'hpdropout': 0.1}\n",
      "Epoch 1/5\n",
      "469/469 [==============================] - 1s 930us/step - loss: 0.9151 - accuracy: 0.7242 - mse: 27.3738\n",
      "Epoch 2/5\n",
      "469/469 [==============================] - 0s 896us/step - loss: 0.3126 - accuracy: 0.9097 - mse: 27.4543\n",
      "Epoch 3/5\n",
      "469/469 [==============================] - 0s 907us/step - loss: 0.2526 - accuracy: 0.9273 - mse: 27.4577\n",
      "Epoch 4/5\n",
      "469/469 [==============================] - 0s 964us/step - loss: 0.2188 - accuracy: 0.9353 - mse: 27.2931\n",
      "Epoch 5/5\n",
      "469/469 [==============================] - 0s 951us/step - loss: 0.2016 - accuracy: 0.9418 - mse: 27.3494\n",
      "Metrics: ['loss', 'accuracy', 'mse']\n",
      "313/313 [==============================] - 0s 562us/step - loss: 0.1538 - accuracy: 0.9555 - mse: 27.3318\n",
      "--- Starting trial: run-17\n",
      "{'num_units': 32, 'learning_rate': 0.001, 'optimizer': 'adam', 'hpbatch': 128, 'hpepoch': 5, 'hplayer': False, 'hpdropout': 0.2}\n",
      "Epoch 1/5\n",
      "469/469 [==============================] - 1s 970us/step - loss: 0.9916 - accuracy: 0.6893 - mse: 27.5588\n",
      "Epoch 2/5\n",
      "469/469 [==============================] - 0s 958us/step - loss: 0.3669 - accuracy: 0.8918 - mse: 27.4820\n",
      "Epoch 3/5\n",
      "469/469 [==============================] - 0s 932us/step - loss: 0.3053 - accuracy: 0.9083 - mse: 27.4459\n",
      "Epoch 4/5\n",
      "469/469 [==============================] - 0s 932us/step - loss: 0.2658 - accuracy: 0.9221 - mse: 27.2628\n",
      "Epoch 5/5\n",
      "469/469 [==============================] - 0s 929us/step - loss: 0.2424 - accuracy: 0.9278 - mse: 27.4055\n",
      "Metrics: ['loss', 'accuracy', 'mse']\n",
      "313/313 [==============================] - 0s 655us/step - loss: 0.1623 - accuracy: 0.9531 - mse: 27.3308\n",
      "--- Starting trial: run-18\n",
      "{'num_units': 32, 'learning_rate': 0.001, 'optimizer': 'adam', 'hpbatch': 128, 'hpepoch': 5, 'hplayer': True, 'hpdropout': 0.1}\n",
      "Epoch 1/5\n",
      "469/469 [==============================] - 1s 1ms/step - loss: 1.0179 - accuracy: 0.6792 - mse: 27.4736\n",
      "Epoch 2/5\n",
      "469/469 [==============================] - 0s 984us/step - loss: 0.2876 - accuracy: 0.9144 - mse: 27.3656\n",
      "Epoch 3/5\n",
      "469/469 [==============================] - 0s 994us/step - loss: 0.2318 - accuracy: 0.9319 - mse: 27.4689\n",
      "Epoch 4/5\n",
      "469/469 [==============================] - 0s 992us/step - loss: 0.1966 - accuracy: 0.9415 - mse: 27.5498\n",
      "Epoch 5/5\n",
      "469/469 [==============================] - 0s 1ms/step - loss: 0.1708 - accuracy: 0.9481 - mse: 27.3836\n",
      "Metrics: ['loss', 'accuracy', 'mse']\n",
      "313/313 [==============================] - 0s 614us/step - loss: 0.1338 - accuracy: 0.9611 - mse: 27.3337\n",
      "--- Starting trial: run-19\n",
      "{'num_units': 32, 'learning_rate': 0.001, 'optimizer': 'adam', 'hpbatch': 128, 'hpepoch': 5, 'hplayer': True, 'hpdropout': 0.2}\n",
      "Epoch 1/5\n",
      "469/469 [==============================] - 1s 1ms/step - loss: 1.0492 - accuracy: 0.6611 - mse: 27.2805\n",
      "Epoch 2/5\n",
      "469/469 [==============================] - 0s 1ms/step - loss: 0.3312 - accuracy: 0.8992 - mse: 27.4725\n",
      "Epoch 3/5\n",
      "469/469 [==============================] - 0s 1ms/step - loss: 0.2704 - accuracy: 0.9169 - mse: 27.4335\n",
      "Epoch 4/5\n",
      "469/469 [==============================] - 0s 990us/step - loss: 0.2410 - accuracy: 0.9269 - mse: 27.4022\n",
      "Epoch 5/5\n",
      "469/469 [==============================] - 0s 1ms/step - loss: 0.2145 - accuracy: 0.9343 - mse: 27.3954\n",
      "Metrics: ['loss', 'accuracy', 'mse']\n",
      "313/313 [==============================] - 0s 567us/step - loss: 0.1452 - accuracy: 0.9545 - mse: 27.3330\n",
      "--- Starting trial: run-20\n",
      "{'num_units': 32, 'learning_rate': 0.001, 'optimizer': 'sgd', 'hpbatch': 128, 'hpepoch': 5, 'hplayer': False, 'hpdropout': 0.1}\n",
      "Epoch 1/5\n",
      "469/469 [==============================] - 1s 949us/step - loss: 2.2867 - accuracy: 0.1362 - mse: 27.3403\n",
      "Epoch 2/5\n",
      "469/469 [==============================] - 0s 968us/step - loss: 2.0281 - accuracy: 0.3602 - mse: 27.2775\n",
      "Epoch 3/5\n",
      "469/469 [==============================] - 0s 899us/step - loss: 1.7994 - accuracy: 0.4991 - mse: 27.2510\n",
      "Epoch 4/5\n",
      "469/469 [==============================] - 0s 1ms/step - loss: 1.5868 - accuracy: 0.5945 - mse: 27.2656\n",
      "Epoch 5/5\n",
      "469/469 [==============================] - 0s 986us/step - loss: 1.4058 - accuracy: 0.6551 - mse: 27.1324\n",
      "Metrics: ['loss', 'accuracy', 'mse']\n",
      "313/313 [==============================] - 0s 576us/step - loss: 1.2238 - accuracy: 0.7486 - mse: 27.2624\n",
      "--- Starting trial: run-21\n",
      "{'num_units': 32, 'learning_rate': 0.001, 'optimizer': 'sgd', 'hpbatch': 128, 'hpepoch': 5, 'hplayer': False, 'hpdropout': 0.2}\n",
      "Epoch 1/5\n",
      "469/469 [==============================] - 1s 927us/step - loss: 2.2368 - accuracy: 0.1973 - mse: 27.4440\n",
      "Epoch 2/5\n",
      "469/469 [==============================] - 0s 908us/step - loss: 1.9887 - accuracy: 0.4092 - mse: 27.2382\n",
      "Epoch 3/5\n",
      "469/469 [==============================] - 0s 907us/step - loss: 1.7738 - accuracy: 0.5096 - mse: 27.2233\n",
      "Epoch 4/5\n",
      "469/469 [==============================] - 0s 888us/step - loss: 1.5842 - accuracy: 0.5638 - mse: 27.1209\n",
      "Epoch 5/5\n",
      "469/469 [==============================] - 0s 967us/step - loss: 1.4374 - accuracy: 0.5983 - mse: 27.3630\n",
      "Metrics: ['loss', 'accuracy', 'mse']\n",
      "313/313 [==============================] - 0s 571us/step - loss: 1.2407 - accuracy: 0.7093 - mse: 27.2635\n",
      "--- Starting trial: run-22\n",
      "{'num_units': 32, 'learning_rate': 0.001, 'optimizer': 'sgd', 'hpbatch': 128, 'hpepoch': 5, 'hplayer': True, 'hpdropout': 0.1}\n",
      "Epoch 1/5\n",
      "469/469 [==============================] - 1s 911us/step - loss: 2.3073 - accuracy: 0.1053 - mse: 27.1275\n",
      "Epoch 2/5\n",
      "469/469 [==============================] - 0s 997us/step - loss: 2.1817 - accuracy: 0.2218 - mse: 27.1290\n",
      "Epoch 3/5\n",
      "469/469 [==============================] - 0s 997us/step - loss: 2.0014 - accuracy: 0.4073 - mse: 27.1734\n",
      "Epoch 4/5\n",
      "469/469 [==============================] - 0s 890us/step - loss: 1.7758 - accuracy: 0.5251 - mse: 27.4362\n",
      "Epoch 5/5\n",
      "469/469 [==============================] - 0s 991us/step - loss: 1.5473 - accuracy: 0.5929 - mse: 27.2239\n",
      "Metrics: ['loss', 'accuracy', 'mse']\n",
      "313/313 [==============================] - 0s 745us/step - loss: 1.3251 - accuracy: 0.6965 - mse: 27.2603\n",
      "--- Starting trial: run-23\n",
      "{'num_units': 32, 'learning_rate': 0.001, 'optimizer': 'sgd', 'hpbatch': 128, 'hpepoch': 5, 'hplayer': True, 'hpdropout': 0.2}\n",
      "Epoch 1/5\n",
      "469/469 [==============================] - 1s 988us/step - loss: 2.2799 - accuracy: 0.1725 - mse: 27.2553\n",
      "Epoch 2/5\n",
      "469/469 [==============================] - 0s 1ms/step - loss: 2.1222 - accuracy: 0.2668 - mse: 27.1132\n",
      "Epoch 3/5\n",
      "469/469 [==============================] - 1s 1ms/step - loss: 1.9880 - accuracy: 0.3445 - mse: 27.2535\n",
      "Epoch 4/5\n",
      "469/469 [==============================] - 0s 1ms/step - loss: 1.8513 - accuracy: 0.4191 - mse: 27.4867\n",
      "Epoch 5/5\n",
      "469/469 [==============================] - 0s 935us/step - loss: 1.7133 - accuracy: 0.4958 - mse: 27.3517\n",
      "Metrics: ['loss', 'accuracy', 'mse']\n",
      "313/313 [==============================] - 0s 570us/step - loss: 1.5093 - accuracy: 0.6570 - mse: 27.2570\n",
      "--- Starting trial: run-24\n",
      "{'num_units': 32, 'learning_rate': 0.01, 'optimizer': 'adam', 'hpbatch': 128, 'hpepoch': 5, 'hplayer': False, 'hpdropout': 0.1}\n",
      "Epoch 1/5\n",
      "469/469 [==============================] - 1s 1ms/step - loss: 0.5026 - accuracy: 0.8410 - mse: 27.3671\n",
      "Epoch 2/5\n",
      "469/469 [==============================] - 1s 1ms/step - loss: 0.2249 - accuracy: 0.9317 - mse: 27.3837\n",
      "Epoch 3/5\n",
      "469/469 [==============================] - 1s 1ms/step - loss: 0.1938 - accuracy: 0.9404 - mse: 27.3745\n",
      "Epoch 4/5\n",
      "469/469 [==============================] - 1s 1ms/step - loss: 0.1774 - accuracy: 0.9446 - mse: 27.3075\n",
      "Epoch 5/5\n",
      "469/469 [==============================] - 0s 1ms/step - loss: 0.1709 - accuracy: 0.9461 - mse: 27.3218\n",
      "Metrics: ['loss', 'accuracy', 'mse']\n",
      "313/313 [==============================] - 0s 719us/step - loss: 0.1593 - accuracy: 0.9550 - mse: 27.3342\n",
      "--- Starting trial: run-25\n",
      "{'num_units': 32, 'learning_rate': 0.01, 'optimizer': 'adam', 'hpbatch': 128, 'hpepoch': 5, 'hplayer': False, 'hpdropout': 0.2}\n",
      "Epoch 1/5\n",
      "469/469 [==============================] - 1s 1ms/step - loss: 0.5488 - accuracy: 0.8271 - mse: 27.2846\n",
      "Epoch 2/5\n",
      "469/469 [==============================] - 0s 969us/step - loss: 0.2794 - accuracy: 0.9144 - mse: 27.2945\n",
      "Epoch 3/5\n",
      "469/469 [==============================] - 0s 929us/step - loss: 0.2523 - accuracy: 0.9215 - mse: 27.3655\n",
      "Epoch 4/5\n",
      "469/469 [==============================] - 0s 968us/step - loss: 0.2339 - accuracy: 0.9281 - mse: 27.2354\n",
      "Epoch 5/5\n",
      "469/469 [==============================] - 0s 953us/step - loss: 0.2216 - accuracy: 0.9299 - mse: 27.4371\n",
      "Metrics: ['loss', 'accuracy', 'mse']\n",
      "313/313 [==============================] - 1s 524us/step - loss: 0.1565 - accuracy: 0.9541 - mse: 27.3341\n",
      "--- Starting trial: run-26\n",
      "{'num_units': 32, 'learning_rate': 0.01, 'optimizer': 'adam', 'hpbatch': 128, 'hpepoch': 5, 'hplayer': True, 'hpdropout': 0.1}\n",
      "Epoch 1/5\n",
      "469/469 [==============================] - 1s 982us/step - loss: 0.5615 - accuracy: 0.8205 - mse: 27.3329\n",
      "Epoch 2/5\n",
      "469/469 [==============================] - 0s 970us/step - loss: 0.2396 - accuracy: 0.9266 - mse: 27.4753\n",
      "Epoch 3/5\n",
      "469/469 [==============================] - 0s 1ms/step - loss: 0.2089 - accuracy: 0.9350 - mse: 27.5055\n",
      "Epoch 4/5\n",
      "469/469 [==============================] - 1s 1ms/step - loss: 0.1928 - accuracy: 0.9409 - mse: 27.3344\n",
      "Epoch 5/5\n",
      "469/469 [==============================] - 1s 1ms/step - loss: 0.1763 - accuracy: 0.9450 - mse: 27.2744\n",
      "Metrics: ['loss', 'accuracy', 'mse']\n",
      "313/313 [==============================] - 0s 589us/step - loss: 0.1537 - accuracy: 0.9545 - mse: 27.3345\n",
      "--- Starting trial: run-27\n",
      "{'num_units': 32, 'learning_rate': 0.01, 'optimizer': 'adam', 'hpbatch': 128, 'hpepoch': 5, 'hplayer': True, 'hpdropout': 0.2}\n",
      "Epoch 1/5\n",
      "469/469 [==============================] - 1s 1ms/step - loss: 0.6494 - accuracy: 0.7860 - mse: 27.5664\n",
      "Epoch 2/5\n",
      "469/469 [==============================] - 1s 1ms/step - loss: 0.3047 - accuracy: 0.9070 - mse: 27.3308\n",
      "Epoch 3/5\n",
      "469/469 [==============================] - 0s 1ms/step - loss: 0.2759 - accuracy: 0.9144 - mse: 27.2197\n",
      "Epoch 4/5\n",
      "469/469 [==============================] - 0s 1ms/step - loss: 0.2539 - accuracy: 0.9221 - mse: 27.4710\n",
      "Epoch 5/5\n",
      "469/469 [==============================] - 0s 999us/step - loss: 0.2509 - accuracy: 0.9240 - mse: 27.5737\n",
      "Metrics: ['loss', 'accuracy', 'mse']\n",
      "313/313 [==============================] - 0s 624us/step - loss: 0.1676 - accuracy: 0.9512 - mse: 27.3328\n",
      "--- Starting trial: run-28\n",
      "{'num_units': 32, 'learning_rate': 0.01, 'optimizer': 'sgd', 'hpbatch': 128, 'hpepoch': 5, 'hplayer': False, 'hpdropout': 0.1}\n",
      "Epoch 1/5\n",
      "469/469 [==============================] - 1s 852us/step - loss: 1.7449 - accuracy: 0.4444 - mse: 27.2545\n",
      "Epoch 2/5\n",
      "469/469 [==============================] - 0s 871us/step - loss: 0.7623 - accuracy: 0.7906 - mse: 27.4197\n",
      "Epoch 3/5\n",
      "469/469 [==============================] - 0s 849us/step - loss: 0.5889 - accuracy: 0.8326 - mse: 27.3518\n",
      "Epoch 4/5\n",
      "469/469 [==============================] - 0s 848us/step - loss: 0.5092 - accuracy: 0.8523 - mse: 27.4037\n",
      "Epoch 5/5\n",
      "469/469 [==============================] - 0s 878us/step - loss: 0.4693 - accuracy: 0.8634 - mse: 27.3134\n",
      "Metrics: ['loss', 'accuracy', 'mse']\n",
      "313/313 [==============================] - 0s 543us/step - loss: 0.3637 - accuracy: 0.9034 - mse: 27.3147\n",
      "--- Starting trial: run-29\n",
      "{'num_units': 32, 'learning_rate': 0.01, 'optimizer': 'sgd', 'hpbatch': 128, 'hpepoch': 5, 'hplayer': False, 'hpdropout': 0.2}\n",
      "Epoch 1/5\n",
      "469/469 [==============================] - 1s 1ms/step - loss: 1.7692 - accuracy: 0.4230 - mse: 27.3667\n",
      "Epoch 2/5\n",
      "469/469 [==============================] - 0s 1ms/step - loss: 0.8642 - accuracy: 0.7521 - mse: 27.2061\n",
      "Epoch 3/5\n",
      "469/469 [==============================] - 0s 911us/step - loss: 0.6868 - accuracy: 0.7966 - mse: 27.3024\n",
      "Epoch 4/5\n",
      "469/469 [==============================] - 0s 1ms/step - loss: 0.6115 - accuracy: 0.8192 - mse: 27.2680\n",
      "Epoch 5/5\n",
      "469/469 [==============================] - 0s 1ms/step - loss: 0.5499 - accuracy: 0.8388 - mse: 27.3931\n",
      "Metrics: ['loss', 'accuracy', 'mse']\n",
      "313/313 [==============================] - 0s 572us/step - loss: 0.3909 - accuracy: 0.8949 - mse: 27.3124\n",
      "--- Starting trial: run-30\n",
      "{'num_units': 32, 'learning_rate': 0.01, 'optimizer': 'sgd', 'hpbatch': 128, 'hpepoch': 5, 'hplayer': True, 'hpdropout': 0.1}\n",
      "Epoch 1/5\n",
      "469/469 [==============================] - 1s 955us/step - loss: 1.9833 - accuracy: 0.3258 - mse: 27.4613\n",
      "Epoch 2/5\n",
      "469/469 [==============================] - 0s 1ms/step - loss: 0.8333 - accuracy: 0.7557 - mse: 27.2343\n",
      "Epoch 3/5\n",
      "469/469 [==============================] - 0s 1ms/step - loss: 0.5988 - accuracy: 0.8231 - mse: 27.2996\n",
      "Epoch 4/5\n",
      "469/469 [==============================] - 0s 1ms/step - loss: 0.4941 - accuracy: 0.8541 - mse: 27.5731\n",
      "Epoch 5/5\n",
      "469/469 [==============================] - 1s 1ms/step - loss: 0.4432 - accuracy: 0.8683 - mse: 27.3318\n",
      "Metrics: ['loss', 'accuracy', 'mse']\n",
      "313/313 [==============================] - 0s 640us/step - loss: 0.3364 - accuracy: 0.9053 - mse: 27.3184\n",
      "--- Starting trial: run-31\n",
      "{'num_units': 32, 'learning_rate': 0.01, 'optimizer': 'sgd', 'hpbatch': 128, 'hpepoch': 5, 'hplayer': True, 'hpdropout': 0.2}\n",
      "Epoch 1/5\n",
      "469/469 [==============================] - 1s 948us/step - loss: 1.9632 - accuracy: 0.3269 - mse: 27.3429\n",
      "Epoch 2/5\n",
      "469/469 [==============================] - 0s 935us/step - loss: 0.9223 - accuracy: 0.7184 - mse: 27.2629\n",
      "Epoch 3/5\n",
      "469/469 [==============================] - 0s 946us/step - loss: 0.6716 - accuracy: 0.7987 - mse: 27.4941\n",
      "Epoch 4/5\n",
      "469/469 [==============================] - 0s 932us/step - loss: 0.5703 - accuracy: 0.8313 - mse: 27.4018\n",
      "Epoch 5/5\n",
      "469/469 [==============================] - 0s 921us/step - loss: 0.5121 - accuracy: 0.8473 - mse: 27.2124\n",
      "Metrics: ['loss', 'accuracy', 'mse']\n",
      "313/313 [==============================] - 0s 727us/step - loss: 0.3572 - accuracy: 0.9046 - mse: 27.3168\n"
     ]
    }
   ],
   "source": [
    "session_num = 0\n",
    "\n",
    "# Basically a grid search\n",
    "for num_units in HP_NUM_UNITS.domain.values:\n",
    "  for learning_rate in (HP_LEARNING_RATE.domain.min_value,\n",
    "                        HP_LEARNING_RATE.domain.max_value):\n",
    "    for optimizer in HP_OPTIMIZER.domain.values:\n",
    "        for batch in HP_BATCH.domain.values:\n",
    "            for epoch in HP_EPOCH.domain.values:\n",
    "                for layer in HP_ADDLAYER.domain.values:\n",
    "                    for dropout_rate in (HP_DROPOUT.domain.min_value, HP_DROPOUT.domain.max_value):\n",
    "                        # of parameter set with dict key of type hp.HParam\n",
    "                          hparams = {\n",
    "                              HP_NUM_UNITS: num_units,\n",
    "                              HP_LEARNING_RATE: learning_rate,\n",
    "                              HP_OPTIMIZER: optimizer,\n",
    "                              HP_BATCH: batch,\n",
    "                              HP_EPOCH: epoch,\n",
    "                              HP_ADDLAYER: layer,\n",
    "                              HP_DROPOUT: dropout_rate\n",
    "                          }\n",
    "\n",
    "                          run_name = f'run-{session_num}'\n",
    "                          print(f'--- Starting trial: {run_name}')\n",
    "                          # type(param): <class 'tensorboard.plugins.hparams.summary_v2.HParam'>\n",
    "                          # param: <HParam 'num_units': {16, 32}>\n",
    "                          #  param.name: num_units\n",
    "                          print({param.name: hparams[param] for param in hparams})\n",
    "                          run('logs/hparam_tuning/' + run_name, hparams)\n",
    "                          session_num += 1"
   ]
  },
  {
   "cell_type": "markdown",
   "metadata": {
    "colab_type": "text",
    "id": "jdWHqy70YVFY"
   },
   "source": [
    "### 4. Visualize the Results with tensorboard"
   ]
  },
  {
   "cell_type": "code",
   "execution_count": 86,
   "metadata": {
    "colab": {
     "base_uri": "https://localhost:8080/",
     "height": 34
    },
    "colab_type": "code",
    "id": "U7FOCvbeCd0N",
    "outputId": "2462c0ce-484a-4e78-c119-2727cf064994"
   },
   "outputs": [
    {
     "name": "stdout",
     "output_type": "stream",
     "text": [
      "events.out.tfevents.1614029207.MacBook-Pro.local.30662.2989901.v2\n"
     ]
    }
   ],
   "source": [
    "!ls \"logs/hparam_tuning/run-10\""
   ]
  },
  {
   "cell_type": "code",
   "execution_count": 87,
   "metadata": {
    "colab": {},
    "colab_type": "code",
    "id": "7584VUQTYst8"
   },
   "outputs": [
    {
     "data": {
      "text/plain": [
       "Reusing TensorBoard on port 6008 (pid 30029), started 15:55:14 ago. (Use '!kill 30029' to kill it.)"
      ]
     },
     "metadata": {},
     "output_type": "display_data"
    },
    {
     "data": {
      "text/html": [
       "\n",
       "      <iframe id=\"tensorboard-frame-8e70a241e5530d22\" width=\"100%\" height=\"800\" frameborder=\"0\">\n",
       "      </iframe>\n",
       "      <script>\n",
       "        (function() {\n",
       "          const frame = document.getElementById(\"tensorboard-frame-8e70a241e5530d22\");\n",
       "          const url = new URL(\"/\", window.location);\n",
       "          const port = 6008;\n",
       "          if (port) {\n",
       "            url.port = port;\n",
       "          }\n",
       "          frame.src = url;\n",
       "        })();\n",
       "      </script>\n",
       "    "
      ],
      "text/plain": [
       "<IPython.core.display.HTML object>"
      ]
     },
     "metadata": {},
     "output_type": "display_data"
    }
   ],
   "source": [
    "%tensorboard  --logdir \"logs/hparam_tuning\""
   ]
  },
  {
   "cell_type": "markdown",
   "metadata": {
    "colab_type": "text",
    "id": "TUGXzf6TIIL7"
   },
   "source": [
    "# Hyperparameter Tuning with RandomSearch in keras-tuner (Learn)"
   ]
  },
  {
   "cell_type": "markdown",
   "metadata": {
    "colab_type": "text",
    "id": "sBRu7-zZIIL7"
   },
   "source": [
    "## Overview\n",
    "\n",
    "Basically `GridSearchCV` takes forever. You'll want to adopt a slightly more sophiscated strategy.\n",
    "\n",
    "Let's also take a look at an alternative with Keras-Tuner."
   ]
  },
  {
   "cell_type": "code",
   "execution_count": 88,
   "metadata": {
    "colab": {
     "base_uri": "https://localhost:8080/",
     "height": 530
    },
    "colab_type": "code",
    "id": "v-tDdeWYIIL7",
    "outputId": "57a6702f-d17d-4e70-8ca4-300701b2430b"
   },
   "outputs": [],
   "source": [
    "# !pip install keras-tuner"
   ]
  },
  {
   "cell_type": "markdown",
   "metadata": {
    "colab_type": "text",
    "id": "NO5PEiGcIIL9"
   },
   "source": [
    "In RandomSearch() an instance of HyperParameters() class is passed to the hypermodel parameter as the argument. An instance of `HyperParameters` class contains information about both the search space and the current values of each hyperparameter. Hyperparameters can be defined inline with the model-building code that uses them.\n",
    "```\n",
    "import kerastuner as kt\n",
    "import tensorflow as tf\n",
    "\n",
    "def build_model(hp):\n",
    "    model = tf.keras.Sequential()\n",
    "    for i in range(hp.Int('layers', 3, 10)):\n",
    "        model.add(tf.keras.layers.Dense(\n",
    "            units=hp.Int('units_' + str(i), 50, 100, step=10),\n",
    "            activation=hp.Choice('act_' + str(i), ['relu', 'tanh'])))\n",
    "    model.add(tf.keras.layers.Dense(1, activation='sigmoid'))\n",
    "    model.compile('adam', 'binary_crossentropy', metrics=['accuracy'])\n",
    "    return model\n",
    "\n",
    "hp = kt.HyperParameters()\n",
    "model = build_model(hp)\n",
    "assert 'layers' in hp\n",
    "assert 'units_0' in hp\n",
    "\n",
    "```"
   ]
  },
  {
   "cell_type": "code",
   "execution_count": 24,
   "metadata": {
    "colab": {},
    "colab_type": "code",
    "id": "YKxI2vx4IIL9"
   },
   "outputs": [],
   "source": [
    "from tensorflow import keras\n",
    "from tensorflow.keras import layers\n",
    "from kerastuner.tuners import RandomSearch\n",
    "import kerastuner.tuners as kt\n",
    "\n",
    "\n",
    "\"\"\"\n",
    "This model Tunes:\n",
    "- Number of Neurons in the Hidden Layer\n",
    "- Learning Rate in Adam\n",
    "\"\"\"\n",
    "\n",
    "# hp1 is an arbitrary name that is passed by an instance of kerastuner.HyperParameters()\n",
    "def build_model(hp1):\n",
    "    \n",
    "    hp_act = hp1.Choice('dense_activation', values=['relu', 'tanh', 'sigmoid'], default='relu')\n",
    "    \n",
    "    model = keras.Sequential()\n",
    "    model.add(layers.Dense(units=hp1.Int('units',min_value=32,max_value=512,step=32, default=32), \n",
    "                            activation=hp_act, input_dim=784))\n",
    "    \n",
    "    for i in range(1,4,1):\n",
    "        hp_units = hp1.Int('units_' + str(i), min_value=8, max_value=64, step=8)\n",
    "        # The variable hp_units gets overwritten in each pass, but the layer does not.\n",
    "        model.add(layers.Dense(units=hp_units, activation=hp_act))\n",
    "\n",
    "    \n",
    "    model.add(layers.Dropout(hp1.Float('dropout',min_value=0.0,max_value=0.1,default=0.005,step=0.01)))   \n",
    "    model.add(layers.Dense(10, activation='softmax'))\n",
    "    \n",
    "    model.compile(optimizer=keras.optimizers.Adam(hp1.Float(\n",
    "        'learning_rate', min_value=1e-4, max_value=1e-2, sampling='LOG', default=1e-3)),\n",
    "        loss='sparse_categorical_crossentropy',metrics=['accuracy'])\n",
    "    \n",
    "    return model\n"
   ]
  },
  {
   "cell_type": "code",
   "execution_count": 19,
   "metadata": {
    "colab": {},
    "colab_type": "code",
    "id": "jBCfWIweIIL_"
   },
   "outputs": [],
   "source": [
    "tuner = RandomSearch(\n",
    "    hypermodel=build_model,\n",
    "    objective='val_accuracy',\n",
    "    max_trials=5,\n",
    "    hyperparameters=None,\n",
    "    executions_per_trial=3,\n",
    "    directory='./keras-tuner-trial',\n",
    "    project_name='randomsearch')"
   ]
  },
  {
   "cell_type": "markdown",
   "metadata": {},
   "source": [
    "max_trials: represents the number of hyperparameter combinations that will be tested by the tuner.\n",
    "execution_per_trial: is the number of models that should be built and fit for each trial. each execution may use the previousely trained weights, hence different model. Those are different from epoch.\n"
   ]
  },
  {
   "cell_type": "code",
   "execution_count": 20,
   "metadata": {
    "colab": {
     "base_uri": "https://localhost:8080/",
     "height": 281
    },
    "colab_type": "code",
    "id": "tpGTo9bpIIMB",
    "outputId": "b4a3d4ad-ab0e-449d-8ce5-9b2463f082bb"
   },
   "outputs": [
    {
     "name": "stdout",
     "output_type": "stream",
     "text": [
      "Search space summary\n",
      "Default search space size: 7\n",
      "dense_activation (Choice)\n",
      "{'default': 'relu', 'conditions': [], 'values': ['relu', 'tanh', 'sigmoid'], 'ordered': False}\n",
      "units (Int)\n",
      "{'default': 32, 'conditions': [], 'min_value': 32, 'max_value': 512, 'step': 32, 'sampling': None}\n",
      "units_1 (Int)\n",
      "{'default': None, 'conditions': [], 'min_value': 8, 'max_value': 64, 'step': 8, 'sampling': None}\n",
      "units_2 (Int)\n",
      "{'default': None, 'conditions': [], 'min_value': 8, 'max_value': 64, 'step': 8, 'sampling': None}\n",
      "units_3 (Int)\n",
      "{'default': None, 'conditions': [], 'min_value': 8, 'max_value': 64, 'step': 8, 'sampling': None}\n",
      "dropout (Float)\n",
      "{'default': 0.005, 'conditions': [], 'min_value': 0.0, 'max_value': 0.1, 'step': 0.01, 'sampling': None}\n",
      "learning_rate (Float)\n",
      "{'default': 0.001, 'conditions': [], 'min_value': 0.0001, 'max_value': 0.01, 'step': None, 'sampling': 'log'}\n"
     ]
    }
   ],
   "source": [
    "tuner.search_space_summary()"
   ]
  },
  {
   "cell_type": "code",
   "execution_count": 21,
   "metadata": {
    "colab": {
     "base_uri": "https://localhost:8080/",
     "height": 1000
    },
    "colab_type": "code",
    "id": "SghuI4TqIIME",
    "outputId": "7249fccb-6e8f-4da1-d6f2-8ff77c7dee52"
   },
   "outputs": [
    {
     "name": "stdout",
     "output_type": "stream",
     "text": [
      "Trial 5 Complete [00h 00m 42s]\n",
      "val_accuracy: 0.9708333412806193\n",
      "\n",
      "Best val_accuracy So Far: 0.9711333314577738\n",
      "Total elapsed time: 00h 03m 39s\n",
      "INFO:tensorflow:Oracle triggered exit\n"
     ]
    }
   ],
   "source": [
    "tuner.search(X_train, y_train,\n",
    "             epochs=5,\n",
    "             validation_data=(X_test, y_test))"
   ]
  },
  {
   "cell_type": "code",
   "execution_count": 22,
   "metadata": {
    "colab": {
     "base_uri": "https://localhost:8080/",
     "height": 919
    },
    "colab_type": "code",
    "id": "VCmme1xjIIMG",
    "outputId": "20a002b0-726d-42e3-b869-558a93c1e9f2"
   },
   "outputs": [
    {
     "name": "stdout",
     "output_type": "stream",
     "text": [
      "Results summary\n",
      "Results in ./keras-tuner-trial/randomsearch\n",
      "Showing 10 best trials\n",
      "Objective(name='val_accuracy', direction='max')\n",
      "Trial summary\n",
      "Hyperparameters:\n",
      "dense_activation: sigmoid\n",
      "units: 352\n",
      "units_1: 24\n",
      "units_2: 16\n",
      "units_3: 40\n",
      "dropout: 0.05\n",
      "learning_rate: 0.00286700149775965\n",
      "Score: 0.9711333314577738\n",
      "Trial summary\n",
      "Hyperparameters:\n",
      "dense_activation: tanh\n",
      "units: 320\n",
      "units_1: 32\n",
      "units_2: 40\n",
      "units_3: 16\n",
      "dropout: 0.01\n",
      "learning_rate: 0.001192978696747447\n",
      "Score: 0.9708333412806193\n",
      "Trial summary\n",
      "Hyperparameters:\n",
      "dense_activation: sigmoid\n",
      "units: 448\n",
      "units_1: 40\n",
      "units_2: 24\n",
      "units_3: 64\n",
      "dropout: 0.0\n",
      "learning_rate: 0.0006233510651221175\n",
      "Score: 0.9690999984741211\n",
      "Trial summary\n",
      "Hyperparameters:\n",
      "dense_activation: sigmoid\n",
      "units: 96\n",
      "units_1: 48\n",
      "units_2: 48\n",
      "units_3: 48\n",
      "dropout: 0.04\n",
      "learning_rate: 0.0005034672825968825\n",
      "Score: 0.9571999907493591\n",
      "Trial summary\n",
      "Hyperparameters:\n",
      "dense_activation: sigmoid\n",
      "units: 352\n",
      "units_1: 24\n",
      "units_2: 32\n",
      "units_3: 48\n",
      "dropout: 0.02\n",
      "learning_rate: 0.0003401691826873532\n",
      "Score: 0.9538666605949402\n"
     ]
    }
   ],
   "source": [
    "tuner.results_summary()"
   ]
  },
  {
   "cell_type": "code",
   "execution_count": 23,
   "metadata": {},
   "outputs": [
    {
     "name": "stdout",
     "output_type": "stream",
     "text": [
      "313/313 [==============================] - 0s 730us/step - loss: 0.1086 - accuracy: 0.9708\n",
      "best accuracy: 0.9753000140190125\n",
      "best parameters {'dense_activation': 'sigmoid', 'units': 352, 'units_1': 24, 'units_2': 16, 'units_3': 40, 'dropout': 0.05, 'learning_rate': 0.00286700149775965}\n"
     ]
    }
   ],
   "source": [
    "best_model = tuner.get_best_models()[0]\n",
    "# Evaluate the best model.\n",
    "loss0, accuracy0 = best_model.evaluate(X_test, y_test)\n",
    "print(f\"\"\"best accuracy: {accuracy0}\"\"\")\n",
    "print(\"best parameters\", tuner.get_best_hyperparameters(num_trials=1)[0].values)"
   ]
  },
  {
   "cell_type": "markdown",
   "metadata": {},
   "source": [
    "### Hyperband:\n",
    "Hyperband is an optimized version of random search which uses early-stopping to speed up the hyperparameter tuning process. The main idea is to fit a large number of models for a small number of epochs and to only continue training for the models achieving the highest accuracy on the validation set. The max_epochs variable is the max number of epochs that a model can be trained for."
   ]
  },
  {
   "cell_type": "code",
   "execution_count": 41,
   "metadata": {
    "colab": {},
    "colab_type": "code",
    "id": "Ron2GBXRMpGS"
   },
   "outputs": [
    {
     "name": "stdout",
     "output_type": "stream",
     "text": [
      "INFO:tensorflow:Reloading Oracle from existing project ./kt-hyperband/kt-HB/oracle.json\n",
      "WARNING:tensorflow:Unresolved object in checkpoint: (root).optimizer.iter\n",
      "WARNING:tensorflow:Unresolved object in checkpoint: (root).optimizer.beta_1\n",
      "WARNING:tensorflow:Unresolved object in checkpoint: (root).optimizer.beta_2\n",
      "WARNING:tensorflow:Unresolved object in checkpoint: (root).optimizer.decay\n",
      "WARNING:tensorflow:Unresolved object in checkpoint: (root).optimizer.learning_rate\n",
      "WARNING:tensorflow:A checkpoint was restored (e.g. tf.train.Checkpoint.restore or tf.keras.Model.load_weights) but not all checkpointed values were used. See above for specific issues. Use expect_partial() on the load status object, e.g. tf.train.Checkpoint.restore(...).expect_partial(), to silence these warnings, or use assert_consumed() to make the check explicit. See https://www.tensorflow.org/guide/checkpoint#loading_mechanics for details.\n",
      "INFO:tensorflow:Reloading Tuner from ./kt-hyperband/kt-HB/tuner0.json\n"
     ]
    }
   ],
   "source": [
    "tuner_hb = kt.Hyperband(build_model,\n",
    "                     objective = 'val_accuracy', \n",
    "                     max_epochs = 8,\n",
    "                     #factor: Int. Reduction factor for the number of epochs.\n",
    "                     factor = 3,\n",
    "                     directory = './kt-hyperband',\n",
    "                     project_name = 'kt-HB')  "
   ]
  },
  {
   "cell_type": "code",
   "execution_count": 42,
   "metadata": {
    "colab": {
     "base_uri": "https://localhost:8080/",
     "height": 698
    },
    "colab_type": "code",
    "id": "HeosGvgPOpSE",
    "outputId": "f8ae1f24-fbc8-40f4-e41d-b0d58748a958"
   },
   "outputs": [
    {
     "name": "stdout",
     "output_type": "stream",
     "text": [
      "Search space summary\n",
      "Default search space size: 7\n",
      "dense_activation (Choice)\n",
      "{'default': 'relu', 'conditions': [], 'values': ['relu', 'tanh', 'sigmoid'], 'ordered': False}\n",
      "units (Int)\n",
      "{'default': 32, 'conditions': [], 'min_value': 32, 'max_value': 512, 'step': 32, 'sampling': None}\n",
      "units_1 (Int)\n",
      "{'default': None, 'conditions': [], 'min_value': 8, 'max_value': 64, 'step': 8, 'sampling': None}\n",
      "units_2 (Int)\n",
      "{'default': None, 'conditions': [], 'min_value': 8, 'max_value': 64, 'step': 8, 'sampling': None}\n",
      "units_3 (Int)\n",
      "{'default': None, 'conditions': [], 'min_value': 8, 'max_value': 64, 'step': 8, 'sampling': None}\n",
      "dropout (Float)\n",
      "{'default': 0.005, 'conditions': [], 'min_value': 0.0, 'max_value': 0.1, 'step': 0.01, 'sampling': None}\n",
      "learning_rate (Float)\n",
      "{'default': 0.001, 'conditions': [], 'min_value': 0.0001, 'max_value': 0.01, 'step': None, 'sampling': 'log'}\n"
     ]
    }
   ],
   "source": [
    "tuner_hb.search_space_summary()"
   ]
  },
  {
   "cell_type": "code",
   "execution_count": 28,
   "metadata": {
    "colab": {
     "base_uri": "https://localhost:8080/",
     "height": 1000
    },
    "colab_type": "code",
    "id": "cql5CDIgOjQT",
    "outputId": "08e3539e-197b-4569-9089-f2da8c6df10e"
   },
   "outputs": [
    {
     "name": "stdout",
     "output_type": "stream",
     "text": [
      "Trial 11 Complete [00h 00m 10s]\n",
      "val_accuracy: 0.9541000127792358\n",
      "\n",
      "Best val_accuracy So Far: 0.972599983215332\n",
      "Total elapsed time: 00h 01m 35s\n",
      "INFO:tensorflow:Oracle triggered exit\n"
     ]
    }
   ],
   "source": [
    "tuner_hb.search(X_train, y_train, epoch=5, validation_data=(X_test, y_test))"
   ]
  },
  {
   "cell_type": "code",
   "execution_count": 39,
   "metadata": {
    "colab": {
     "base_uri": "https://localhost:8080/",
     "height": 187
    },
    "colab_type": "code",
    "id": "TzFJGdRQO396",
    "outputId": "56584013-178f-4a75-ddd3-5b32adb298d3"
   },
   "outputs": [
    {
     "data": {
      "text/plain": [
       "[{'dense_activation': 'sigmoid',\n",
       "  'units': 352,\n",
       "  'units_1': 24,\n",
       "  'units_2': 64,\n",
       "  'units_3': 48,\n",
       "  'dropout': 0.01,\n",
       "  'learning_rate': 0.0027887024252856224,\n",
       "  'tuner/epochs': 5,\n",
       "  'tuner/initial_epoch': 2,\n",
       "  'tuner/bracket': 1,\n",
       "  'tuner/round': 1,\n",
       "  'tuner/trial_id': '3b6ae24399bfb6e6f7b9c46abb86ac61'},\n",
       " {'dense_activation': 'relu',\n",
       "  'units': 352,\n",
       "  'units_1': 40,\n",
       "  'units_2': 16,\n",
       "  'units_3': 40,\n",
       "  'dropout': 0.0,\n",
       "  'learning_rate': 0.0038515020929220166,\n",
       "  'tuner/epochs': 5,\n",
       "  'tuner/initial_epoch': 2,\n",
       "  'tuner/bracket': 1,\n",
       "  'tuner/round': 1,\n",
       "  'tuner/trial_id': 'dd6e25ee0d080bf90a30e20797cac982'}]"
      ]
     },
     "execution_count": 39,
     "metadata": {},
     "output_type": "execute_result"
    }
   ],
   "source": [
    "[item.values for item in tuner_hb.get_best_hyperparameters(num_trials=2)]"
   ]
  },
  {
   "cell_type": "code",
   "execution_count": 40,
   "metadata": {
    "colab": {
     "base_uri": "https://localhost:8080/",
     "height": 88
    },
    "colab_type": "code",
    "id": "Cd-14OjJuggA",
    "outputId": "1ff7b833-f526-4ef2-f4ff-ba58245f42fa"
   },
   "outputs": [
    {
     "name": "stdout",
     "output_type": "stream",
     "text": [
      "313/313 [==============================] - 0s 734us/step - loss: 0.1175 - accuracy: 0.9684\n",
      "best accuracy:  0.972599983215332\n",
      "best parameters {'dense_activation': 'sigmoid', 'units': 352, 'units_1': 24, 'units_2': 64, 'units_3': 48, 'dropout': 0.01, 'learning_rate': 0.0027887024252856224, 'tuner/epochs': 5, 'tuner/initial_epoch': 2, 'tuner/bracket': 1, 'tuner/round': 1, 'tuner/trial_id': '3b6ae24399bfb6e6f7b9c46abb86ac61'}\n"
     ]
    }
   ],
   "source": [
    "# Evaluate the best model.\n",
    "print(\"best accuracy: \", tuner_hb.get_best_models()[0].evaluate(X_test, y_test)[1])\n",
    "print(\"best parameters\", tuner_hb.get_best_hyperparameters(num_trials=1)[0].values)"
   ]
  },
  {
   "cell_type": "markdown",
   "metadata": {},
   "source": [
    "While Hyperbrand runs faster, RandomSearch tuner does a better job in finding the optimum hyper parameters."
   ]
  },
  {
   "cell_type": "markdown",
   "metadata": {
    "colab_type": "text",
    "id": "h-e_aIT8IIMI"
   },
   "source": [
    "# Review\n",
    "* <a href=\"#p1\">Part 1</a>: Describe the major hyperparemeters to tune\n",
    "    - Activation Functions\n",
    "    - Optimizer\n",
    "    - Number of Layers\n",
    "    - Number of Neurons\n",
    "    - Batch Size\n",
    "    - Dropout Regulaization\n",
    "    - Learning Rate\n",
    "    - Number of Epochs\n",
    "    - and many more\n",
    "* <a href=\"#p2\">Part 2</a>: Implement an experiment tracking framework\n",
    "    - Weights & Biases\n",
    "    - Comet.ml\n",
    "    - By Hand / GridSearch\n",
    "    - TensorBoard\n",
    "* <a href=\"#p3\">Part 3</a>: Search the hyperparameter space using RandomSearch\n",
    "    - Keras-Tuner\n",
    "    - Advanced Techniques"
   ]
  },
  {
   "cell_type": "markdown",
   "metadata": {
    "colab_type": "text",
    "id": "J7it81sfIIMJ"
   },
   "source": [
    "# Sources"
   ]
  },
  {
   "cell_type": "markdown",
   "metadata": {
    "colab_type": "text",
    "id": "xPkG9C2hIIMJ"
   },
   "source": [
    "## Additional Reading\n",
    "- https://machinelearningmastery.com/grid-search-hyperparameters-deep-learning-models-python-keras/\n",
    "- https://blog.floydhub.com/guide-to-hyperparameters-search-for-deep-learning-models/\n",
    "- https://machinelearningmastery.com/dropout-regularization-deep-learning-models-keras/\n",
    "- https://machinelearningmastery.com/introduction-to-weight-constraints-to-reduce-generalization-error-in-deep-learning/\n",
    "- https://machinelearningmastery.com/how-to-configure-the-number-of-layers-and-nodes-in-a-neural-network/"
   ]
  }
 ],
 "metadata": {
  "accelerator": "TPU",
  "colab": {
   "collapsed_sections": [],
   "include_colab_link": true,
   "name": "LS_DS17_423_Tune_Lecture.ipynb",
   "provenance": []
  },
  "kernelspec": {
   "display_name": "ML_ANN python3",
   "language": "python",
   "name": "ml_ann"
  },
  "language_info": {
   "codemirror_mode": {
    "name": "ipython",
    "version": 3
   },
   "file_extension": ".py",
   "mimetype": "text/x-python",
   "name": "python",
   "nbconvert_exporter": "python",
   "pygments_lexer": "ipython3",
   "version": "3.7.0"
  }
 },
 "nbformat": 4,
 "nbformat_minor": 4
}
