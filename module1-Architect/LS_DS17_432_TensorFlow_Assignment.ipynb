{
  "nbformat": 4,
  "nbformat_minor": 0,
  "metadata": {
    "colab": {
      "name": "LS_DS17_432_TensorFlow_Assignment",
      "provenance": [],
      "collapsed_sections": [],
      "include_colab_link": true
    },
    "kernelspec": {
      "name": "python3",
      "display_name": "Python 3"
    },
    "accelerator": "GPU"
  },
  "cells": [
    {
      "cell_type": "markdown",
      "metadata": {
        "id": "view-in-github",
        "colab_type": "text"
      },
      "source": [
        "<a href=\"https://colab.research.google.com/github/skhabiri/DS-Unit-4-Sprint-2-Neural-Networks/blob/main/module1-Architect/LS_DS17_432_TensorFlow_Assignment.ipynb\" target=\"_parent\"><img src=\"https://colab.research.google.com/assets/colab-badge.svg\" alt=\"Open In Colab\"/></a>"
      ]
    },
    {
      "cell_type": "markdown",
      "metadata": {
        "id": "ObyHCH8HvHSf",
        "colab_type": "text"
      },
      "source": [
        "<img align=\"left\" src=\"https://lever-client-logos.s3.amazonaws.com/864372b1-534c-480e-acd5-9711f850815c-1524247202159.png\" width=200>\n",
        "<br></br>\n",
        "<br></br>\n",
        "\n",
        "# *Data Science Unit 4 Sprint 2 Assignment 1*\n",
        "\n",
        "Use TensorFlow Keras & a sample of the [Quickdraw dataset](https://github.com/googlecreativelab/quickdraw-dataset) to build a sketch classification model. The dataset has been sampled to only 10 classes and 10000 observations per class. Please build a baseline classification model then run a few experiments with different optimizers and learning rates. \n",
        "\n",
        "*Don't forgot to switch to GPU on Colab!*"
      ]
    },
    {
      "cell_type": "markdown",
      "metadata": {
        "id": "s-Tc3ovEyQ9b",
        "colab_type": "text"
      },
      "source": [
        "## Load Your Data"
      ]
    },
    {
      "cell_type": "code",
      "metadata": {
        "id": "CkU0pAYCvU8o",
        "colab_type": "code",
        "colab": {
          "base_uri": "https://localhost:8080/",
          "height": 51
        },
        "outputId": "323529fd-7bc6-4015-c152-efec2fa1d62e"
      },
      "source": [
        "import numpy as np\n",
        "import tensorflow as tf \n",
        "\n",
        "url = 'https://github.com/skhabiri/DS-Unit-4-Sprint-2-Neural-Networks/raw/main/quickdraw10.npz'\n",
        "data = np.load('quickdraw10.npz')\n",
        "X = data['arr_0']\n",
        "y = data['arr_1']\n",
        "\n",
        "print(X.shape)\n",
        "print(y.shape)"
      ],
      "execution_count": 37,
      "outputs": [
        {
          "output_type": "stream",
          "text": [
            "(100000, 784)\n",
            "(100000,)\n"
          ],
          "name": "stdout"
        }
      ]
    },
    {
      "cell_type": "code",
      "metadata": {
        "id": "Sg6k_qYCA-KZ",
        "colab_type": "code",
        "colab": {
          "base_uri": "https://localhost:8080/",
          "height": 1000
        },
        "outputId": "2b05853c-62f7-4a98-ee7d-04940ef7fb4c"
      },
      "source": [
        "print(type(X[0]))\n",
        "X[0]"
      ],
      "execution_count": 38,
      "outputs": [
        {
          "output_type": "stream",
          "text": [
            "<class 'numpy.ndarray'>\n"
          ],
          "name": "stdout"
        },
        {
          "output_type": "execute_result",
          "data": {
            "text/plain": [
              "array([  0,   0,   0,   0,   0,   0,   0,   0,   0,   0,   0,   0,   0,\n",
              "         0,   0,   0,   0,   0,   0,   0,   0,   0,   0,   0,   0,   0,\n",
              "         0,   0,   0,   0,   0,   0,   0,   0,   0,   0,   0,   0,   0,\n",
              "         0,   0,   0,  11,  21,  12,   0,   0,   0,   0,   0,   0,   0,\n",
              "         0,  92,  20,   0,   0,   0,   0,   0,   0,   0,   0,   0,   0,\n",
              "         0,   0,   0,  91, 213, 253, 255, 255, 222,  95,   3,   0,   0,\n",
              "         0,   0,   7, 255, 222,   0,   0,   0,   0,   0,   0,   0,   0,\n",
              "         0,   0,   0,  24, 190, 255, 196, 118, 100, 109, 196, 255, 121,\n",
              "         0,   0,   0,   0,   0, 141,  35,   0,   0,   0,   0,   0,   0,\n",
              "         0,   0,   0,   0,   1, 185, 241,  94,   1,   0,   0,   0,   0,\n",
              "        63,  25,   0,   0,   0,   0,   0,   0,   0,   0,   0,   0,   0,\n",
              "         0,   0,   0,   0,   0,   0,  89, 255, 115, 133, 150,  37,   0,\n",
              "         0,   0,   0,   0,   0,   0,   0,   0,   0,   0,   0,   0,   0,\n",
              "         0,   0,   0,   0,   0,   0,   0,   0, 207, 241, 252, 255, 250,\n",
              "       199,   0,   0,   0,   0,   0,   0,   0,   0,   0,   0,   0,   0,\n",
              "         0,   0,   0,   0,   0,   0,   0,   0,  30, 200, 255, 242, 149,\n",
              "       252, 232, 195,   3,   0,   0,   0,   0,   0,   0,   0,   0,   0,\n",
              "         0,   0,   0,   0,   0,   0,   0,   0,   0,  39, 225, 238, 255,\n",
              "        85,   0, 119, 255,  83,   0,   0,   0,   0,   0,   0,   0,   0,\n",
              "         0,   0,   0,   0,   0,   0,   0,   0,   0,   0,  43, 229, 231,\n",
              "       106, 255,  49,   0,   1, 201, 222,   7,   0,   0,   0,   0,   0,\n",
              "         0,   0,   0,   0,   0,   0,   0,   0,   0,   0,   0,  33, 237,\n",
              "       220,  33,  79, 255,  75,   0,   0,  61, 255,  94,   0,   0,   0,\n",
              "         0,   0,   0,   0,   0,   0,   0,   0,   0,   0,   0,   0,   4,\n",
              "       197, 235,  28,   0,   4, 210, 166,   0,   0,   1, 250, 127,   0,\n",
              "         0,   0,   0,   0,   0,   0,   0,   0,   0,   0,   0,   0,   0,\n",
              "         0, 128, 255,  85,   0,   0,   0,  17,  16,   0,   0,   0, 231,\n",
              "       146,   0,   0,   0,   0,   0,   0,   0,   0,   0,   0,   0,   0,\n",
              "         0,   0,  56, 251, 153,   0,   0,   0,   0,   0,   0,   0,   0,\n",
              "         0, 228, 148,   0,   0,   0,   0,   0,   0,   0,   0,   0,   0,\n",
              "         0,   0,   0,   0, 162, 229,  11,   0,   0,   0,   0,   0,   0,\n",
              "         0,   0,   0, 246, 131,   0,   0,   0,   0,   0,   0,   0,   0,\n",
              "         0,   0,   0,   0,   0,   0, 219, 165,   0,   0,   0,   0,   0,\n",
              "         0,   0,   0,   0,  13, 255, 111,   0,   0,   0,   0,   0,   0,\n",
              "         0,   0,   0,   0,   0,   0,   0,  21, 254, 109,   0,   0,   0,\n",
              "         0,   0,   0,   0,   0,   0,  78, 255,  58,   0,   0,   0,   0,\n",
              "         0,   0,   0,   0,   0,   0,   0,   0,   0,  78, 255,  51,   0,\n",
              "         0,   0,   0,   0,   0,   0,   0,   0, 152, 237,   3,   0,   0,\n",
              "         0,   0,   0,   0,   0,   0,   0,   0,   0,   0,   0, 120, 254,\n",
              "         5,   0,   0,   0,   0,   0,   0,   0,   0,   3, 228, 165,   0,\n",
              "         0,   0,   0,   0,   0,   0,   0,   0,   0,   0,   0,   0,   0,\n",
              "       123, 254,   0,   0,   0,   0,   0,   0,   0,   0,   0,  72, 255,\n",
              "        74,   0,   0,   0,   0,   0,   0,   0,   0,   0,   0,   0,   0,\n",
              "         0,   0, 114, 255,  13,   0,   0,   0,   0,   0,   0,   0,   0,\n",
              "       169, 229,   3,   0,   0,   0,   0,   0,   0,   0,   0,   0,   0,\n",
              "         0,   0,   0,   0,  60, 255,  70,   0,   0,   0,   0,   0,   0,\n",
              "         0,  53, 252, 129,   0,   0,   0,   0,   0,   0,   0,   0,   0,\n",
              "         0,   0,   0,   0,   0,   0,   7, 239, 174,   0,   0,   0,   0,\n",
              "         0,   0,   6, 208, 222,  11,   0,   0,   0,   0,   0,   0,   0,\n",
              "         0,   0,   0,   0,   0,   0,   0,   0,   0, 110, 255, 100,   0,\n",
              "         0,   0,   0,   3, 170, 253,  70,   0,   0,   0,   0,   0,   0,\n",
              "         0,   0,   0,   0,   0,   0,   0,   0,   0,   0,   0,   3, 180,\n",
              "       255, 178,  99,  68,  91, 200, 254, 104,   0,   0,   0,   0,   0,\n",
              "         0,   0,   0,   0,   0,   0,   0,   0,   0,   0,   0,   0,   0,\n",
              "         0,   2, 116, 222, 255, 255, 255, 213,  87,   0,   0,   0,   0,\n",
              "         0,   0,   0,   0,   0,   0,   0,   0,   0,   0,   0,   0,   0,\n",
              "         0,   0,   0,   0,   0,   0,  32,  51,  44,   1,   0,   0,   0,\n",
              "         0,   0,   0,   0,   0,   0,   0,   0,   0,   0,   0,   0,   0,\n",
              "         0,   0,   0,   0,   0,   0,   0,   0,   0,   0,   0,   0,   0,\n",
              "         0,   0,   0,   0,   0,   0,   0,   0,   0,   0,   0,   0,   0,\n",
              "         0,   0,   0,   0], dtype=uint8)"
            ]
          },
          "metadata": {
            "tags": []
          },
          "execution_count": 38
        }
      ]
    },
    {
      "cell_type": "code",
      "metadata": {
        "id": "c8qsDqdqvHDd",
        "colab_type": "code",
        "colab": {}
      },
      "source": [
        "class_names = ['apple',\n",
        " 'anvil',\n",
        " 'airplane',\n",
        " 'banana',\n",
        " 'The Eiffel Tower',\n",
        " 'The Mona Lisa',\n",
        " 'The Great Wall of China',\n",
        " 'alarm clock',\n",
        " 'ant',\n",
        " 'asparagus']"
      ],
      "execution_count": 39,
      "outputs": []
    },
    {
      "cell_type": "code",
      "metadata": {
        "id": "Owbm1EbxvA5A",
        "colab_type": "code",
        "colab": {
          "base_uri": "https://localhost:8080/",
          "height": 289
        },
        "outputId": "0479e62e-1721-43a2-a3f5-ba89b5ded98e"
      },
      "source": [
        "import matplotlib.pyplot as plt\n",
        "plt.figure(figsize=(10,5))\n",
        "start = 0\n",
        "\n",
        "for num, name in enumerate(class_names):\n",
        "    plt.subplot(2,5, num+1)\n",
        "    plt.xticks([])\n",
        "    plt.yticks([])\n",
        "    plt.grid(False)\n",
        "    plt.imshow(X[start].reshape(28,28), cmap=plt.cm.binary)\n",
        "    plt.xlabel(name)\n",
        "    start += 10000\n",
        "plt.show()"
      ],
      "execution_count": 40,
      "outputs": [
        {
          "output_type": "display_data",
          "data": {
            "image/png": "[encoded data removed]",
            "text/plain": [
              "<Figure size 720x360 with 10 Axes>"
            ]
          },
          "metadata": {
            "tags": []
          }
        }
      ]
    },
    {
      "cell_type": "code",
      "metadata": {
        "id": "c97_M1WNvTNY",
        "colab_type": "code",
        "colab": {}
      },
      "source": [
        "# Need this line to randomly shuffle both the X & y \"at the same time\".\n",
        "# To avoid having all the apples at rows 0 to 9999\n",
        "\n",
        "from sklearn.utils import shuffle\n",
        "X, y = shuffle(X, y)"
      ],
      "execution_count": 41,
      "outputs": []
    },
    {
      "cell_type": "markdown",
      "metadata": {
        "id": "jb70CbLVyK65",
        "colab_type": "text"
      },
      "source": [
        "## Build Your Baseline Model\n",
        "Some Hints:\n",
        "\n",
        "\n",
        "*  Model should have 784 input values (like mnist)\n",
        "*  Use `sparse_categorical_crossentropy` as your loss function.\n",
        "* You need 10 neurons in your last layer for output\n",
        "* You can add as many hidden layers with as many neurons in them as you like. \n",
        "* Limit your model epochs to 30 each time you fit.\n",
        "* You can use the `validation_split` command to automatically create a training / validation dataset.  Specify a percentage such as .2 in your fit statement. \n",
        "\n"
      ]
    },
    {
      "cell_type": "code",
      "metadata": {
        "id": "zHWblzsMyNkU",
        "colab_type": "code",
        "colab": {}
      },
      "source": [
        "import tensorflow as tf\n",
        "from tensorflow.keras import Sequential\n",
        "from tensorflow.keras.layers import Dense\n",
        "from tensorflow.keras.optimizers import SGD"
      ],
      "execution_count": 46,
      "outputs": []
    },
    {
      "cell_type": "code",
      "metadata": {
        "id": "I_ll8toVExQK",
        "colab_type": "code",
        "colab": {}
      },
      "source": [
        "def create_model(lr=.01):\n",
        "  \"\"\"\n",
        "  Stochastic Gradient Descent SGD optimizer\n",
        "  784+1 * 32+1 * 32+1 * 10\n",
        "  \"\"\"\n",
        "  opt = SGD(learning_rate=lr)\n",
        "\n",
        "  model = Sequential(\n",
        "      [\n",
        "      #  784 inputs + 1 bias connect to 32 1st layer Hiddent neurons\n",
        "       Dense(32, activation='relu', input_dim=784),\n",
        "      #  32 1st-H-Neurons + 1 bias connected to 32 2'nd layer H-Neurons\n",
        "       Dense(32, activation='relu'),\n",
        "      #  32 2nd-H-neurons connect to 10 Output neurons\n",
        "       Dense(10, activation='softmax')       \n",
        "      ]\n",
        "    )\n",
        "  # sparse_categorical_crossentropy is good for multilable classification\n",
        "  model.compile(optimizer=opt, loss='sparse_categorical_crossentropy',\n",
        "                metrics=['accuracy'])\n",
        "  return model"
      ],
      "execution_count": 43,
      "outputs": []
    },
    {
      "cell_type": "code",
      "metadata": {
        "id": "_f8xJUOoF62e",
        "colab_type": "code",
        "colab": {
          "base_uri": "https://localhost:8080/",
          "height": 255
        },
        "outputId": "f3fc5b94-7f5e-4faa-ef08-2f5977ece894"
      },
      "source": [
        "model = create_model()\n",
        "model.summary()"
      ],
      "execution_count": 44,
      "outputs": [
        {
          "output_type": "stream",
          "text": [
            "Model: \"sequential_2\"\n",
            "_________________________________________________________________\n",
            "Layer (type)                 Output Shape              Param #   \n",
            "=================================================================\n",
            "dense_6 (Dense)              (None, 32)                25120     \n",
            "_________________________________________________________________\n",
            "dense_7 (Dense)              (None, 32)                1056      \n",
            "_________________________________________________________________\n",
            "dense_8 (Dense)              (None, 10)                330       \n",
            "=================================================================\n",
            "Total params: 26,506\n",
            "Trainable params: 26,506\n",
            "Non-trainable params: 0\n",
            "_________________________________________________________________\n"
          ],
          "name": "stdout"
        }
      ]
    },
    {
      "cell_type": "code",
      "metadata": {
        "id": "u2HnpC4pH2xZ",
        "colab_type": "code",
        "colab": {
          "base_uri": "https://localhost:8080/",
          "height": 697
        },
        "outputId": "26afbf2e-f08b-4dbc-eee1-5d51bdde86bc"
      },
      "source": [
        "baseline = model.fit(X, y,\n",
        "                       validation_split=0.2,\n",
        "                      #Hyperparameters!\n",
        "                       epochs=20,\n",
        "                       batch_size=32,\n",
        "                       )"
      ],
      "execution_count": 31,
      "outputs": [
        {
          "output_type": "stream",
          "text": [
            "Epoch 1/20\n",
            "2500/2500 [==============================] - 5s 2ms/step - loss: 65.6157 - accuracy: 0.0981 - val_loss: 2.3028 - val_accuracy: 0.0957\n",
            "Epoch 2/20\n",
            "2500/2500 [==============================] - 5s 2ms/step - loss: 3.8410 - accuracy: 0.1013 - val_loss: 2.3028 - val_accuracy: 0.0957\n",
            "Epoch 3/20\n",
            "2500/2500 [==============================] - 5s 2ms/step - loss: 2.3027 - accuracy: 0.0992 - val_loss: 2.3027 - val_accuracy: 0.0957\n",
            "Epoch 4/20\n",
            "2500/2500 [==============================] - 5s 2ms/step - loss: 2.3027 - accuracy: 0.0996 - val_loss: 2.3028 - val_accuracy: 0.0957\n",
            "Epoch 5/20\n",
            "2500/2500 [==============================] - 5s 2ms/step - loss: 2.3027 - accuracy: 0.0997 - val_loss: 2.3027 - val_accuracy: 0.0980\n",
            "Epoch 6/20\n",
            "2500/2500 [==============================] - 5s 2ms/step - loss: 2.3027 - accuracy: 0.0997 - val_loss: 2.3028 - val_accuracy: 0.0980\n",
            "Epoch 7/20\n",
            "2500/2500 [==============================] - 5s 2ms/step - loss: 2.3027 - accuracy: 0.0989 - val_loss: 2.3028 - val_accuracy: 0.0957\n",
            "Epoch 8/20\n",
            "2500/2500 [==============================] - 5s 2ms/step - loss: 2.3027 - accuracy: 0.1003 - val_loss: 2.3027 - val_accuracy: 0.0980\n",
            "Epoch 9/20\n",
            "2500/2500 [==============================] - 5s 2ms/step - loss: 2.3027 - accuracy: 0.0987 - val_loss: 2.3028 - val_accuracy: 0.0957\n",
            "Epoch 10/20\n",
            "2500/2500 [==============================] - 5s 2ms/step - loss: 2.3027 - accuracy: 0.0988 - val_loss: 2.3027 - val_accuracy: 0.0987\n",
            "Epoch 11/20\n",
            "2500/2500 [==============================] - 5s 2ms/step - loss: 2.3027 - accuracy: 0.0995 - val_loss: 2.3027 - val_accuracy: 0.0989\n",
            "Epoch 12/20\n",
            "2500/2500 [==============================] - 5s 2ms/step - loss: 2.3027 - accuracy: 0.0984 - val_loss: 2.3028 - val_accuracy: 0.0957\n",
            "Epoch 13/20\n",
            "2500/2500 [==============================] - 5s 2ms/step - loss: 2.3027 - accuracy: 0.0990 - val_loss: 2.3028 - val_accuracy: 0.0957\n",
            "Epoch 14/20\n",
            "2500/2500 [==============================] - 5s 2ms/step - loss: 2.3027 - accuracy: 0.0993 - val_loss: 2.3028 - val_accuracy: 0.0980\n",
            "Epoch 15/20\n",
            "2500/2500 [==============================] - 5s 2ms/step - loss: 2.3027 - accuracy: 0.1001 - val_loss: 2.3028 - val_accuracy: 0.0957\n",
            "Epoch 16/20\n",
            "2500/2500 [==============================] - 5s 2ms/step - loss: 2.3027 - accuracy: 0.0979 - val_loss: 2.3028 - val_accuracy: 0.0957\n",
            "Epoch 17/20\n",
            "2500/2500 [==============================] - 5s 2ms/step - loss: 2.3027 - accuracy: 0.0990 - val_loss: 2.3027 - val_accuracy: 0.1020\n",
            "Epoch 18/20\n",
            "2500/2500 [==============================] - 5s 2ms/step - loss: 2.3027 - accuracy: 0.0990 - val_loss: 2.3026 - val_accuracy: 0.1020\n",
            "Epoch 19/20\n",
            "2500/2500 [==============================] - 5s 2ms/step - loss: 2.3027 - accuracy: 0.0986 - val_loss: 2.3028 - val_accuracy: 0.0987\n",
            "Epoch 20/20\n",
            "2500/2500 [==============================] - 5s 2ms/step - loss: 2.3027 - accuracy: 0.0981 - val_loss: 2.3027 - val_accuracy: 0.0988\n"
          ],
          "name": "stdout"
        }
      ]
    },
    {
      "cell_type": "markdown",
      "metadata": {
        "id": "b0QJURWh-9uv",
        "colab_type": "text"
      },
      "source": [
        "### Visualize the results\n",
        "\n",
        "Create charts for both loss and accuracy by epoch. Use line graphs for both charts. Analyze the results. \n",
        "\n",
        "At what point should we have stopped training the model and why? "
      ]
    },
    {
      "cell_type": "code",
      "metadata": {
        "id": "KONJtU5wqlXf",
        "colab_type": "code",
        "colab": {
          "base_uri": "https://localhost:8080/",
          "height": 1000
        },
        "outputId": "526e0c7b-0c1e-41c0-d791-d9b279bb005e"
      },
      "source": [
        "baseline.history"
      ],
      "execution_count": 32,
      "outputs": [
        {
          "output_type": "execute_result",
          "data": {
            "text/plain": [
              "{'accuracy': [0.09814999997615814,\n",
              "  0.10125000029802322,\n",
              "  0.09918750077486038,\n",
              "  0.09963750094175339,\n",
              "  0.09969999641180038,\n",
              "  0.09966249763965607,\n",
              "  0.09894999861717224,\n",
              "  0.1003125011920929,\n",
              "  0.0987124964594841,\n",
              "  0.09878750145435333,\n",
              "  0.09948749840259552,\n",
              "  0.09835000336170197,\n",
              "  0.09898749738931656,\n",
              "  0.0992875024676323,\n",
              "  0.10014999657869339,\n",
              "  0.09792499989271164,\n",
              "  0.09902500361204147,\n",
              "  0.09897500276565552,\n",
              "  0.09857500344514847,\n",
              "  0.09814999997615814],\n",
              " 'loss': [65.61568450927734,\n",
              "  3.8409996032714844,\n",
              "  2.302668571472168,\n",
              "  2.302671194076538,\n",
              "  2.302672863006592,\n",
              "  2.302677631378174,\n",
              "  2.3026857376098633,\n",
              "  2.302673578262329,\n",
              "  2.3026795387268066,\n",
              "  2.302687406539917,\n",
              "  2.3026721477508545,\n",
              "  2.3026680946350098,\n",
              "  2.302673101425171,\n",
              "  2.302699327468872,\n",
              "  2.3026719093322754,\n",
              "  2.3026976585388184,\n",
              "  2.3026621341705322,\n",
              "  2.3026816844940186,\n",
              "  2.3026607036590576,\n",
              "  2.30269455909729],\n",
              " 'val_accuracy': [0.09574999660253525,\n",
              "  0.09574999660253525,\n",
              "  0.09574999660253525,\n",
              "  0.09574999660253525,\n",
              "  0.09799999743700027,\n",
              "  0.09799999743700027,\n",
              "  0.09574999660253525,\n",
              "  0.09799999743700027,\n",
              "  0.09574999660253525,\n",
              "  0.09870000183582306,\n",
              "  0.09894999861717224,\n",
              "  0.09574999660253525,\n",
              "  0.09574999660253525,\n",
              "  0.09799999743700027,\n",
              "  0.09574999660253525,\n",
              "  0.09574999660253525,\n",
              "  0.10204999893903732,\n",
              "  0.10204999893903732,\n",
              "  0.09870000183582306,\n",
              "  0.09880000352859497],\n",
              " 'val_loss': [2.302816390991211,\n",
              "  2.3027758598327637,\n",
              "  2.3026790618896484,\n",
              "  2.3027889728546143,\n",
              "  2.3026747703552246,\n",
              "  2.3027777671813965,\n",
              "  2.30275559425354,\n",
              "  2.302731513977051,\n",
              "  2.30279541015625,\n",
              "  2.3027303218841553,\n",
              "  2.3027241230010986,\n",
              "  2.3028337955474854,\n",
              "  2.3028056621551514,\n",
              "  2.3027801513671875,\n",
              "  2.3028340339660645,\n",
              "  2.302764892578125,\n",
              "  2.3027360439300537,\n",
              "  2.302635431289673,\n",
              "  2.3027682304382324,\n",
              "  2.3027262687683105]}"
            ]
          },
          "metadata": {
            "tags": []
          },
          "execution_count": 32
        }
      ]
    },
    {
      "cell_type": "code",
      "metadata": {
        "id": "ijAlzfYKAFaY",
        "colab_type": "code",
        "colab": {
          "base_uri": "https://localhost:8080/",
          "height": 333
        },
        "outputId": "3de84e22-dec4-4feb-be3d-622e64d5363f"
      },
      "source": [
        "import seaborn as sns\n",
        "import pandas as pd\n",
        "\n",
        "df = pd.DataFrame.from_records(baseline.history)\n",
        "df['epoch'] = [i for i in range(df.shape[0])]\n",
        "# df['epoch'] = df.index.values\n",
        "\n",
        "ax = sns.lineplot(x='epoch', y='val_loss', data=df)\n",
        "ax = sns.lineplot(x='epoch', y='loss', data=df);"
      ],
      "execution_count": 33,
      "outputs": [
        {
          "output_type": "stream",
          "text": [
            "/usr/local/lib/python3.6/dist-packages/statsmodels/tools/_testing.py:19: FutureWarning: pandas.util.testing is deprecated. Use the functions in the public API at pandas.testing instead.\n",
            "  import pandas.util.testing as tm\n"
          ],
          "name": "stderr"
        },
        {
          "output_type": "display_data",
          "data": {
            "image/png": "[encoded data removed]",
            "text/plain": [
              "<Figure size 432x288 with 1 Axes>"
            ]
          },
          "metadata": {
            "tags": [],
            "needs_background": "light"
          }
        }
      ]
    },
    {
      "cell_type": "markdown",
      "metadata": {
        "id": "MAhBrcE4yOZe",
        "colab_type": "text"
      },
      "source": [
        "## Change Optimizers\n",
        "Try using the keras `adam` optimizer instead of `sgd` in your model. Visualize the difference in validation loss between the models with different optimizers. "
      ]
    },
    {
      "cell_type": "code",
      "metadata": {
        "id": "jIW_spOZ0cxy",
        "colab_type": "code",
        "colab": {
          "base_uri": "https://localhost:8080/",
          "height": 255
        },
        "outputId": "5250b93d-e9ed-41c6-e988-bf412a3cc1ba"
      },
      "source": [
        "from tensorflow.keras.optimizers import Adam\n",
        "adam = Adam(learning_rate=0.01)\n",
        "\n",
        "model_adam = Sequential(\n",
        "      [\n",
        "      #  784 inputs + 1 bias connect to 32 1st layer Hiddent neurons\n",
        "       Dense(32, activation='relu', input_dim=784),\n",
        "      #  32 1st-H-Neurons + 1 bias connected to 32 2'nd layer H-Neurons\n",
        "       Dense(32, activation='relu'),\n",
        "      #  32 2nd-H-neurons connect to 10 Output neurons\n",
        "       Dense(10, activation='softmax')       \n",
        "      ]\n",
        "    )\n",
        "\n",
        "model_adam.compile(optimizer=adam, loss='sparse_categorical_crossentropy',\n",
        "                metrics=['accuracy'])\n",
        "\n",
        "model_adam.summary()"
      ],
      "execution_count": 49,
      "outputs": [
        {
          "output_type": "stream",
          "text": [
            "Model: \"sequential_3\"\n",
            "_________________________________________________________________\n",
            "Layer (type)                 Output Shape              Param #   \n",
            "=================================================================\n",
            "dense_9 (Dense)              (None, 32)                25120     \n",
            "_________________________________________________________________\n",
            "dense_10 (Dense)             (None, 32)                1056      \n",
            "_________________________________________________________________\n",
            "dense_11 (Dense)             (None, 10)                330       \n",
            "=================================================================\n",
            "Total params: 26,506\n",
            "Trainable params: 26,506\n",
            "Non-trainable params: 0\n",
            "_________________________________________________________________\n"
          ],
          "name": "stdout"
        }
      ]
    },
    {
      "cell_type": "code",
      "metadata": {
        "id": "45WYfSRwMoWO",
        "colab_type": "code",
        "colab": {
          "base_uri": "https://localhost:8080/",
          "height": 697
        },
        "outputId": "27870342-f239-4804-dec1-ebb7ed14fd26"
      },
      "source": [
        "adam_opt = model_adam.fit(X, y,\n",
        "                       validation_split=0.2,\n",
        "                      #Hyperparameters!\n",
        "                       epochs=20,\n",
        "                       batch_size=32,\n",
        "                       )"
      ],
      "execution_count": 58,
      "outputs": [
        {
          "output_type": "stream",
          "text": [
            "Epoch 1/20\n",
            "2500/2500 [==============================] - 5s 2ms/step - loss: 1.9933 - accuracy: 0.1919 - val_loss: 1.9996 - val_accuracy: 0.1954\n",
            "Epoch 2/20\n",
            "2500/2500 [==============================] - 5s 2ms/step - loss: 1.9936 - accuracy: 0.1929 - val_loss: 1.9989 - val_accuracy: 0.1880\n",
            "Epoch 3/20\n",
            "2500/2500 [==============================] - 6s 2ms/step - loss: 1.9934 - accuracy: 0.1950 - val_loss: 2.0000 - val_accuracy: 0.1880\n",
            "Epoch 4/20\n",
            "2500/2500 [==============================] - 6s 2ms/step - loss: 1.9932 - accuracy: 0.1923 - val_loss: 1.9984 - val_accuracy: 0.1933\n",
            "Epoch 5/20\n",
            "2500/2500 [==============================] - 5s 2ms/step - loss: 1.9936 - accuracy: 0.1925 - val_loss: 1.9972 - val_accuracy: 0.1880\n",
            "Epoch 6/20\n",
            "2500/2500 [==============================] - 5s 2ms/step - loss: 1.9936 - accuracy: 0.1913 - val_loss: 1.9961 - val_accuracy: 0.1966\n",
            "Epoch 7/20\n",
            "2500/2500 [==============================] - 5s 2ms/step - loss: 1.9935 - accuracy: 0.1914 - val_loss: 1.9994 - val_accuracy: 0.1918\n",
            "Epoch 8/20\n",
            "2500/2500 [==============================] - 5s 2ms/step - loss: 1.9934 - accuracy: 0.1934 - val_loss: 2.0003 - val_accuracy: 0.1918\n",
            "Epoch 9/20\n",
            "2500/2500 [==============================] - 5s 2ms/step - loss: 1.9935 - accuracy: 0.1928 - val_loss: 1.9974 - val_accuracy: 0.1920\n",
            "Epoch 10/20\n",
            "2500/2500 [==============================] - 5s 2ms/step - loss: 1.9935 - accuracy: 0.1923 - val_loss: 1.9974 - val_accuracy: 0.1904\n",
            "Epoch 11/20\n",
            "2500/2500 [==============================] - 5s 2ms/step - loss: 1.9933 - accuracy: 0.1925 - val_loss: 1.9982 - val_accuracy: 0.1918\n",
            "Epoch 12/20\n",
            "2500/2500 [==============================] - 5s 2ms/step - loss: 1.9934 - accuracy: 0.1912 - val_loss: 1.9973 - val_accuracy: 0.1918\n",
            "Epoch 13/20\n",
            "2500/2500 [==============================] - 5s 2ms/step - loss: 1.9936 - accuracy: 0.1933 - val_loss: 1.9970 - val_accuracy: 0.1956\n",
            "Epoch 14/20\n",
            "2500/2500 [==============================] - 5s 2ms/step - loss: 1.9935 - accuracy: 0.1917 - val_loss: 1.9968 - val_accuracy: 0.1904\n",
            "Epoch 15/20\n",
            "2500/2500 [==============================] - 5s 2ms/step - loss: 1.9935 - accuracy: 0.1923 - val_loss: 2.0005 - val_accuracy: 0.1954\n",
            "Epoch 16/20\n",
            "2500/2500 [==============================] - 5s 2ms/step - loss: 1.9936 - accuracy: 0.1932 - val_loss: 1.9982 - val_accuracy: 0.1954\n",
            "Epoch 17/20\n",
            "2500/2500 [==============================] - 5s 2ms/step - loss: 1.9936 - accuracy: 0.1918 - val_loss: 1.9974 - val_accuracy: 0.1954\n",
            "Epoch 18/20\n",
            "2500/2500 [==============================] - 5s 2ms/step - loss: 1.9935 - accuracy: 0.1928 - val_loss: 1.9971 - val_accuracy: 0.1933\n",
            "Epoch 19/20\n",
            "2500/2500 [==============================] - 5s 2ms/step - loss: 1.9934 - accuracy: 0.1925 - val_loss: 1.9979 - val_accuracy: 0.1904\n",
            "Epoch 20/20\n",
            "2500/2500 [==============================] - 5s 2ms/step - loss: 1.9934 - accuracy: 0.1921 - val_loss: 1.9973 - val_accuracy: 0.1954\n"
          ],
          "name": "stdout"
        }
      ]
    },
    {
      "cell_type": "code",
      "metadata": {
        "id": "6s6AICu6O326",
        "colab_type": "code",
        "colab": {}
      },
      "source": [
        "optimizers = []\n",
        "\n",
        "for exp, result in zip([baseline, adam_opt], [\"sgd\", \"adam\"]):\n",
        "  # .history gets loss, accuracy, vakidation loss and validation accuracy\n",
        "  df = pd.DataFrame.from_dict(exp.history)\n",
        "  df['epoch'] = df.index.values\n",
        "  df['optimizers'] = result\n",
        "\n",
        "  optimizers.append(df)"
      ],
      "execution_count": 60,
      "outputs": []
    },
    {
      "cell_type": "code",
      "metadata": {
        "id": "Riu_wV1TP-rf",
        "colab_type": "code",
        "colab": {
          "base_uri": "https://localhost:8080/",
          "height": 204
        },
        "outputId": "91322942-61d5-4bfc-8187-ccaf8d82b558"
      },
      "source": [
        "df = pd.concat(optimizers)\n",
        "df['optimizers'] = df['optimizers'].astype('str')\n",
        "df.head()"
      ],
      "execution_count": 61,
      "outputs": [
        {
          "output_type": "execute_result",
          "data": {
            "text/html": [
              "<div>\n",
              "<style scoped>\n",
              "    .dataframe tbody tr th:only-of-type {\n",
              "        vertical-align: middle;\n",
              "    }\n",
              "\n",
              "    .dataframe tbody tr th {\n",
              "        vertical-align: top;\n",
              "    }\n",
              "\n",
              "    .dataframe thead th {\n",
              "        text-align: right;\n",
              "    }\n",
              "</style>\n",
              "<table border=\"1\" class=\"dataframe\">\n",
              "  <thead>\n",
              "    <tr style=\"text-align: right;\">\n",
              "      <th></th>\n",
              "      <th>loss</th>\n",
              "      <th>accuracy</th>\n",
              "      <th>val_loss</th>\n",
              "      <th>val_accuracy</th>\n",
              "      <th>epoch</th>\n",
              "      <th>optimizers</th>\n",
              "    </tr>\n",
              "  </thead>\n",
              "  <tbody>\n",
              "    <tr>\n",
              "      <th>0</th>\n",
              "      <td>65.615685</td>\n",
              "      <td>0.098150</td>\n",
              "      <td>2.302816</td>\n",
              "      <td>0.09575</td>\n",
              "      <td>0</td>\n",
              "      <td>sgd</td>\n",
              "    </tr>\n",
              "    <tr>\n",
              "      <th>1</th>\n",
              "      <td>3.841000</td>\n",
              "      <td>0.101250</td>\n",
              "      <td>2.302776</td>\n",
              "      <td>0.09575</td>\n",
              "      <td>1</td>\n",
              "      <td>sgd</td>\n",
              "    </tr>\n",
              "    <tr>\n",
              "      <th>2</th>\n",
              "      <td>2.302669</td>\n",
              "      <td>0.099188</td>\n",
              "      <td>2.302679</td>\n",
              "      <td>0.09575</td>\n",
              "      <td>2</td>\n",
              "      <td>sgd</td>\n",
              "    </tr>\n",
              "    <tr>\n",
              "      <th>3</th>\n",
              "      <td>2.302671</td>\n",
              "      <td>0.099638</td>\n",
              "      <td>2.302789</td>\n",
              "      <td>0.09575</td>\n",
              "      <td>3</td>\n",
              "      <td>sgd</td>\n",
              "    </tr>\n",
              "    <tr>\n",
              "      <th>4</th>\n",
              "      <td>2.302673</td>\n",
              "      <td>0.099700</td>\n",
              "      <td>2.302675</td>\n",
              "      <td>0.09800</td>\n",
              "      <td>4</td>\n",
              "      <td>sgd</td>\n",
              "    </tr>\n",
              "  </tbody>\n",
              "</table>\n",
              "</div>"
            ],
            "text/plain": [
              "        loss  accuracy  val_loss  val_accuracy  epoch optimizers\n",
              "0  65.615685  0.098150  2.302816       0.09575      0        sgd\n",
              "1   3.841000  0.101250  2.302776       0.09575      1        sgd\n",
              "2   2.302669  0.099188  2.302679       0.09575      2        sgd\n",
              "3   2.302671  0.099638  2.302789       0.09575      3        sgd\n",
              "4   2.302673  0.099700  2.302675       0.09800      4        sgd"
            ]
          },
          "metadata": {
            "tags": []
          },
          "execution_count": 61
        }
      ]
    },
    {
      "cell_type": "code",
      "metadata": {
        "id": "lfOuKMmQRgc1",
        "colab_type": "code",
        "colab": {
          "base_uri": "https://localhost:8080/",
          "height": 204
        },
        "outputId": "88c3b37a-83f1-49ac-afed-f4a3a32292da"
      },
      "source": [
        "df.tail()"
      ],
      "execution_count": 62,
      "outputs": [
        {
          "output_type": "execute_result",
          "data": {
            "text/html": [
              "<div>\n",
              "<style scoped>\n",
              "    .dataframe tbody tr th:only-of-type {\n",
              "        vertical-align: middle;\n",
              "    }\n",
              "\n",
              "    .dataframe tbody tr th {\n",
              "        vertical-align: top;\n",
              "    }\n",
              "\n",
              "    .dataframe thead th {\n",
              "        text-align: right;\n",
              "    }\n",
              "</style>\n",
              "<table border=\"1\" class=\"dataframe\">\n",
              "  <thead>\n",
              "    <tr style=\"text-align: right;\">\n",
              "      <th></th>\n",
              "      <th>loss</th>\n",
              "      <th>accuracy</th>\n",
              "      <th>val_loss</th>\n",
              "      <th>val_accuracy</th>\n",
              "      <th>epoch</th>\n",
              "      <th>optimizers</th>\n",
              "    </tr>\n",
              "  </thead>\n",
              "  <tbody>\n",
              "    <tr>\n",
              "      <th>15</th>\n",
              "      <td>1.993635</td>\n",
              "      <td>0.193237</td>\n",
              "      <td>1.998178</td>\n",
              "      <td>0.19540</td>\n",
              "      <td>15</td>\n",
              "      <td>adam</td>\n",
              "    </tr>\n",
              "    <tr>\n",
              "      <th>16</th>\n",
              "      <td>1.993598</td>\n",
              "      <td>0.191813</td>\n",
              "      <td>1.997380</td>\n",
              "      <td>0.19540</td>\n",
              "      <td>16</td>\n",
              "      <td>adam</td>\n",
              "    </tr>\n",
              "    <tr>\n",
              "      <th>17</th>\n",
              "      <td>1.993501</td>\n",
              "      <td>0.192787</td>\n",
              "      <td>1.997148</td>\n",
              "      <td>0.19325</td>\n",
              "      <td>17</td>\n",
              "      <td>adam</td>\n",
              "    </tr>\n",
              "    <tr>\n",
              "      <th>18</th>\n",
              "      <td>1.993444</td>\n",
              "      <td>0.192450</td>\n",
              "      <td>1.997854</td>\n",
              "      <td>0.19045</td>\n",
              "      <td>18</td>\n",
              "      <td>adam</td>\n",
              "    </tr>\n",
              "    <tr>\n",
              "      <th>19</th>\n",
              "      <td>1.993447</td>\n",
              "      <td>0.192125</td>\n",
              "      <td>1.997300</td>\n",
              "      <td>0.19540</td>\n",
              "      <td>19</td>\n",
              "      <td>adam</td>\n",
              "    </tr>\n",
              "  </tbody>\n",
              "</table>\n",
              "</div>"
            ],
            "text/plain": [
              "        loss  accuracy  val_loss  val_accuracy  epoch optimizers\n",
              "15  1.993635  0.193237  1.998178       0.19540     15       adam\n",
              "16  1.993598  0.191813  1.997380       0.19540     16       adam\n",
              "17  1.993501  0.192787  1.997148       0.19325     17       adam\n",
              "18  1.993444  0.192450  1.997854       0.19045     18       adam\n",
              "19  1.993447  0.192125  1.997300       0.19540     19       adam"
            ]
          },
          "metadata": {
            "tags": []
          },
          "execution_count": 62
        }
      ]
    },
    {
      "cell_type": "code",
      "metadata": {
        "id": "L715SLaSRWUN",
        "colab_type": "code",
        "colab": {
          "base_uri": "https://localhost:8080/",
          "height": 279
        },
        "outputId": "9f2e7668-1b45-40bc-a846-e9693ca0ca81"
      },
      "source": [
        "sns.lineplot(x='epoch', y='val_loss', hue='optimizers', data=df);"
      ],
      "execution_count": 63,
      "outputs": [
        {
          "output_type": "display_data",
          "data": {
            "image/png": "[encoded data removed]",
            "text/plain": [
              "<Figure size 432x288 with 1 Axes>"
            ]
          },
          "metadata": {
            "tags": [],
            "needs_background": "light"
          }
        }
      ]
    },
    {
      "cell_type": "markdown",
      "metadata": {
        "id": "EJrbh3qryi4w",
        "colab_type": "text"
      },
      "source": [
        "### Additional Written Tasks:\n",
        "In this section, you will need to search for resources: \n",
        "1. Investigate the various [loss functions](https://www.tensorflow.org/api_docs/python/tf/keras/losses). Which is best suited for the task at hand (predicting 1 / 0) and why? \n",
        "2. What is the difference between a loss function and a metric? Why might we need both in Keras? \n",
        "3. Investigate the various [optimizers](https://www.tensorflow.org/api_docs/python/tf/keras/optimizers). Stochastic Gradient Descent (`sgd`) is not the learning algorithm dejour anyone. Why is that? What do newer optimizers such as `adam` have to offer? "
      ]
    },
    {
      "cell_type": "markdown",
      "metadata": {
        "id": "Gzs4fd-RynDd",
        "colab_type": "text"
      },
      "source": [
        "## Stretch Goals: \n",
        "\n",
        "- Research convolutional neural networks and try including convolution layers in your network.\n",
        "- Pick two classes and make QuickDraw a binary classification problem, how does your model architecture change?\n",
        "- Implement Cross Validation model evaluation on your Quickdraw implementation \n",
        "\n",
        "Watch some more videos on Gradient Descent:\n",
        "- [Gradient Descent, Step-by-Step](https://www.youtube.com/watch?v=sDv4f4s2SB8)  by StatQuest w/ Josh Starmer. This will help you understand the gradient descent based optimization that happens underneath the hood of neural networks. It uses a non-neural network example, which I believe is a gentler introduction. You will hear me refer to this technique as \"vanilla\" gradient descent. \n",
        "- [Stochastic Gradient Descent, Clearly Explained!!!](https://www.youtube.com/watch?v=vMh0zPT0tLI) by StatQuest w/ Josh Starmer. This builds on the techniques in the previous video.  This technique is the one that is actually implemented inside modern 'nets. \n",
        "- [Siraj Raval the evolution of gradient descent](https://www.youtube.com/watch?v=nhqo0u1a6fw)"
      ]
    }
  ]
}