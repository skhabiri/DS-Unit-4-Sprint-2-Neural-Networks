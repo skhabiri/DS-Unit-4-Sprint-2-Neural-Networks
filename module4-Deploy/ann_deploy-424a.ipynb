{
  "nbformat": 4,
  "nbformat_minor": 0,
  "metadata": {
    "colab": {
      "name": "LS_DS_434_Deploy_Assignment.ipynb",
      "provenance": [],
      "collapsed_sections": [],
      "toc_visible": true,
      "include_colab_link": true
    },
    "kernelspec": {
      "display_name": "Python 3",
      "language": "python",
      "name": "python3"
    },
    "language_info": {
      "codemirror_mode": {
        "name": "ipython",
        "version": 3
      },
      "file_extension": ".py",
      "mimetype": "text/x-python",
      "name": "python",
      "nbconvert_exporter": "python",
      "pygments_lexer": "ipython3",
      "version": "3.7.3"
    },
    "nteract": {
      "version": "0.22.4"
    }
  },
  "cells": [
    {
      "cell_type": "markdown",
      "metadata": {
        "id": "view-in-github",
        "colab_type": "text"
      },
      "source": [
        "<a href=\"https://colab.research.google.com/github/Collin-Campbell/DS-Unit-4-Sprint-2-Neural-Networks/blob/main/module4-Deploy/LS_DS_424_Deploy_Assignment.ipynb\" target=\"_parent\"><img src=\"https://colab.research.google.com/assets/colab-badge.svg\" alt=\"Open In Colab\"/></a>"
      ]
    },
    {
      "cell_type": "markdown",
      "metadata": {
        "id": "NGGrt9EYlCqY"
      },
      "source": [
        "<img align=\"left\" src=\"https://lever-client-logos.s3.amazonaws.com/864372b1-534c-480e-acd5-9711f850815c-1524247202159.png\" width=200>\n",
        "<br></br>\n",
        "<br></br>\n",
        "\n",
        "# Train Practice\n",
        "\n",
        "## *Data Science Unit 4 Sprint 2 Assignment 4*\n",
        "\n",
        "Continue to use TensorFlow Keras & a sample of the [Quickdraw dataset](https://github.com/googlecreativelab/quickdraw-dataset) to build a sketch classification model. The dataset has been sampled to only 10 classes and 10000 observations per class. Apply regularization techniques to your model. \n",
        "\n",
        "*Don't forgot to switch to GPU on Colab!*"
      ]
    },
    {
      "cell_type": "markdown",
      "metadata": {
        "id": "ptJ2b3wk62Ud"
      },
      "source": [
        "## Regularization\n",
        "\n",
        "Using your best performing model from the previous module, apply each of the following regularization strategies: \n",
        "* Early Stopping\n",
        "* Dropout\n",
        "* Weight Decay\n",
        "* Weight Constraint\n"
      ]
    },
    {
      "cell_type": "code",
      "metadata": {
        "id": "USXjs7Hk71Hy"
      },
      "source": [
        "from sklearn.utils import shuffle\n",
        "from sklearn.model_selection import train_test_split\n",
        "import numpy as np\n",
        "from tensorflow.keras.models import Sequential\n",
        "from tensorflow.keras.layers import Dense\n",
        "from tensorflow.keras.optimizers import SGD\n",
        "from tensorflow.keras.optimizers import Adam\n",
        "from tensorflow.keras.optimizers import RMSprop\n",
        "from tensorflow.keras.optimizers import Adagrad\n",
        "from tensorflow.keras.optimizers import Ftrl\n",
        "import seaborn as sns\n",
        "import pandas as pd\n",
        "import tensorflow as tf\n",
        "from tensorflow.keras.callbacks import ModelCheckpoint"
      ],
      "execution_count": 23,
      "outputs": []
    },
    {
      "cell_type": "code",
      "metadata": {
        "id": "8AStX21Om5Oi"
      },
      "source": [
        "def load_quickdraw10(path):\n",
        "  data = np.load(path)\n",
        "  X = data['arr_0']\n",
        "  y = data['arr_1']\n",
        "\n",
        "  class_names = ['apple',\n",
        " 'anvil',\n",
        " 'airplane',\n",
        " 'banana',\n",
        " 'The Eiffel Tower',\n",
        " 'The Mona Lisa',\n",
        " 'The Great Wall of China',\n",
        " 'alarm clock',\n",
        " 'ant',\n",
        " 'asparagus']\n",
        "\n",
        "  # Need this line to randomly shuffle both the X & y at the same time.\n",
        "  X, y = shuffle(X, y)\n",
        "\n",
        "  # splitting training into 80% train and 20% test\n",
        "  X_train, X_test, y_train, y_test = train_test_split(X, y, test_size=0.2, random_state=42)\n",
        "\n",
        "  print('X_train shape = {}'.format(X_train.shape))\n",
        "  print('y_train shape = {}'.format(y_train.shape))\n",
        "  print('\\n')\n",
        "  print('X_test shape = {}'.format(X_test.shape))\n",
        "  print('y_test shape = {}'.format(y_test.shape))\n",
        "  print('\\n \\n')\n",
        "\n",
        "  return X_train, X_test, y_train, y_test"
      ],
      "execution_count": 2,
      "outputs": []
    },
    {
      "cell_type": "code",
      "metadata": {
        "colab": {
          "base_uri": "https://localhost:8080/"
        },
        "id": "xpd8zCB1nua1",
        "outputId": "532f3664-c09d-4835-9eac-e0aa432b8b45"
      },
      "source": [
        "X_train, X_test, y_train, y_test = load_quickdraw10('quickdraw10.npz')"
      ],
      "execution_count": 3,
      "outputs": [
        {
          "output_type": "stream",
          "text": [
            "X_train shape = (80000, 784)\n",
            "y_train shape = (80000,)\n",
            "\n",
            "\n",
            "X_test shape = (20000, 784)\n",
            "y_test shape = (20000,)\n",
            "\n",
            " \n",
            "\n"
          ],
          "name": "stdout"
        }
      ]
    },
    {
      "cell_type": "code",
      "metadata": {
        "id": "zA4-dEhEm9Wt"
      },
      "source": [
        "def create_model(path, lr=.001, opt_name=Adam):\n",
        "\n",
        "\n",
        "  X_train, X_test, y_train, y_test = load_quickdraw10(path)\n",
        "\n",
        "\n",
        "  # Define the keras model\n",
        "  model = Sequential()\n",
        "  model.add(Dense(588, input_dim=784, activation='sigmoid'))\n",
        "  model.add(Dense(441, activation='relu'))\n",
        "  model.add(Dense(10, activation='softmax'))\n",
        "\n",
        "\n",
        "  # Compile the keras model\n",
        "  opt = opt_name(learning_rate=lr)\n",
        "\n",
        "  model.compile(loss='sparse_categorical_crossentropy', optimizer=opt, metrics=['accuracy'])\n",
        "\n",
        "  model.summary()\n",
        "\n",
        "  return model"
      ],
      "execution_count": 25,
      "outputs": []
    },
    {
      "cell_type": "code",
      "metadata": {
        "id": "9kyQvgJII0Ri"
      },
      "source": [
        "callback = tf.keras.callbacks.EarlyStopping(monitor='loss', patience=3)\n",
        "\n"
      ],
      "execution_count": 24,
      "outputs": []
    },
    {
      "cell_type": "code",
      "metadata": {
        "colab": {
          "base_uri": "https://localhost:8080/"
        },
        "id": "b2LdCztXnfJs",
        "outputId": "9c70564a-36f0-49c2-8d91-41e7d35486f9"
      },
      "source": [
        "Adam_model = create_model('quickdraw10.npz', lr=.0001, opt_name=Adam)\n",
        "\n",
        "Adam_model.fit(X_train, y_train,\n",
        "                                epochs=28,\n",
        "                                batch_size=8,\n",
        "                                callbacks=[callback],\n",
        "                                validation_data=(X_test,y_test)\n",
        "                                )"
      ],
      "execution_count": 26,
      "outputs": [
        {
          "output_type": "stream",
          "text": [
            "X_train shape = (80000, 784)\n",
            "y_train shape = (80000,)\n",
            "\n",
            "\n",
            "X_test shape = (20000, 784)\n",
            "y_test shape = (20000,)\n",
            "\n",
            " \n",
            "\n",
            "Model: \"sequential_7\"\n",
            "_________________________________________________________________\n",
            "Layer (type)                 Output Shape              Param #   \n",
            "=================================================================\n",
            "dense_18 (Dense)             (None, 588)               461580    \n",
            "_________________________________________________________________\n",
            "dense_19 (Dense)             (None, 441)               259749    \n",
            "_________________________________________________________________\n",
            "dense_20 (Dense)             (None, 10)                4420      \n",
            "=================================================================\n",
            "Total params: 725,749\n",
            "Trainable params: 725,749\n",
            "Non-trainable params: 0\n",
            "_________________________________________________________________\n",
            "Epoch 1/28\n",
            "10000/10000 [==============================] - 68s 7ms/step - loss: 0.8233 - accuracy: 0.7448 - val_loss: 0.6958 - val_accuracy: 0.7855\n",
            "Epoch 2/28\n",
            "10000/10000 [==============================] - 67s 7ms/step - loss: 0.6411 - accuracy: 0.8036 - val_loss: 0.6038 - val_accuracy: 0.8139\n",
            "Epoch 3/28\n",
            "10000/10000 [==============================] - 72s 7ms/step - loss: 0.5778 - accuracy: 0.8228 - val_loss: 0.5648 - val_accuracy: 0.8236\n",
            "Epoch 4/28\n",
            "10000/10000 [==============================] - 71s 7ms/step - loss: 0.5400 - accuracy: 0.8328 - val_loss: 0.5601 - val_accuracy: 0.8259\n",
            "Epoch 5/28\n",
            "10000/10000 [==============================] - 73s 7ms/step - loss: 0.5144 - accuracy: 0.8406 - val_loss: 0.5343 - val_accuracy: 0.8337\n",
            "Epoch 6/28\n",
            "10000/10000 [==============================] - 65s 6ms/step - loss: 0.4932 - accuracy: 0.8469 - val_loss: 0.5108 - val_accuracy: 0.8424\n",
            "Epoch 7/28\n",
            "10000/10000 [==============================] - 63s 6ms/step - loss: 0.4774 - accuracy: 0.8521 - val_loss: 0.5056 - val_accuracy: 0.8451\n",
            "Epoch 8/28\n",
            "10000/10000 [==============================] - 61s 6ms/step - loss: 0.4629 - accuracy: 0.8569 - val_loss: 0.4982 - val_accuracy: 0.8478\n",
            "Epoch 9/28\n",
            "10000/10000 [==============================] - 68s 7ms/step - loss: 0.4530 - accuracy: 0.8606 - val_loss: 0.4827 - val_accuracy: 0.8543\n",
            "Epoch 10/28\n",
            "10000/10000 [==============================] - 72s 7ms/step - loss: 0.4429 - accuracy: 0.8624 - val_loss: 0.4885 - val_accuracy: 0.8515\n",
            "Epoch 11/28\n",
            "10000/10000 [==============================] - 75s 8ms/step - loss: 0.4270 - accuracy: 0.8684 - val_loss: 0.4798 - val_accuracy: 0.8529\n",
            "Epoch 12/28\n",
            "10000/10000 [==============================] - 73s 7ms/step - loss: 0.4188 - accuracy: 0.8698 - val_loss: 0.4710 - val_accuracy: 0.8554\n",
            "Epoch 13/28\n",
            "10000/10000 [==============================] - 72s 7ms/step - loss: 0.4104 - accuracy: 0.8726 - val_loss: 0.4763 - val_accuracy: 0.8555\n",
            "Epoch 14/28\n",
            "10000/10000 [==============================] - 71s 7ms/step - loss: 0.3997 - accuracy: 0.8760 - val_loss: 0.4678 - val_accuracy: 0.8582\n",
            "Epoch 15/28\n",
            "10000/10000 [==============================] - 65s 6ms/step - loss: 0.3927 - accuracy: 0.8778 - val_loss: 0.4538 - val_accuracy: 0.8605\n",
            "Epoch 16/28\n",
            "10000/10000 [==============================] - 65s 7ms/step - loss: 0.3838 - accuracy: 0.8799 - val_loss: 0.4630 - val_accuracy: 0.8602\n",
            "Epoch 17/28\n",
            "10000/10000 [==============================] - 70s 7ms/step - loss: 0.3803 - accuracy: 0.8811 - val_loss: 0.4507 - val_accuracy: 0.8651\n",
            "Epoch 18/28\n",
            "10000/10000 [==============================] - 70s 7ms/step - loss: 0.3754 - accuracy: 0.8825 - val_loss: 0.4602 - val_accuracy: 0.8608\n",
            "Epoch 19/28\n",
            "10000/10000 [==============================] - 70s 7ms/step - loss: 0.3656 - accuracy: 0.8861 - val_loss: 0.4463 - val_accuracy: 0.8645\n",
            "Epoch 20/28\n",
            "10000/10000 [==============================] - 67s 7ms/step - loss: 0.3596 - accuracy: 0.8865 - val_loss: 0.4472 - val_accuracy: 0.8658\n",
            "Epoch 21/28\n",
            "10000/10000 [==============================] - 76s 8ms/step - loss: 0.3490 - accuracy: 0.8912 - val_loss: 0.4461 - val_accuracy: 0.8673\n",
            "Epoch 22/28\n",
            "10000/10000 [==============================] - 75s 7ms/step - loss: 0.3439 - accuracy: 0.8919 - val_loss: 0.4513 - val_accuracy: 0.8670\n",
            "Epoch 23/28\n",
            "10000/10000 [==============================] - 77s 8ms/step - loss: 0.3360 - accuracy: 0.8949 - val_loss: 0.4486 - val_accuracy: 0.8683\n",
            "Epoch 24/28\n",
            "10000/10000 [==============================] - 72s 7ms/step - loss: 0.3310 - accuracy: 0.8958 - val_loss: 0.4485 - val_accuracy: 0.8673\n",
            "Epoch 25/28\n",
            "10000/10000 [==============================] - 70s 7ms/step - loss: 0.3254 - accuracy: 0.8980 - val_loss: 0.4441 - val_accuracy: 0.8699\n",
            "Epoch 26/28\n",
            "10000/10000 [==============================] - 70s 7ms/step - loss: 0.3196 - accuracy: 0.8991 - val_loss: 0.4468 - val_accuracy: 0.8692\n",
            "Epoch 27/28\n",
            "10000/10000 [==============================] - 66s 7ms/step - loss: 0.3120 - accuracy: 0.9017 - val_loss: 0.4461 - val_accuracy: 0.8679\n",
            "Epoch 28/28\n",
            "10000/10000 [==============================] - 66s 7ms/step - loss: 0.3102 - accuracy: 0.9017 - val_loss: 0.4494 - val_accuracy: 0.8673\n"
          ],
          "name": "stdout"
        },
        {
          "output_type": "execute_result",
          "data": {
            "text/plain": [
              "<tensorflow.python.keras.callbacks.History at 0x7fde3f6847b8>"
            ]
          },
          "metadata": {
            "tags": []
          },
          "execution_count": 26
        }
      ]
    },
    {
      "cell_type": "markdown",
      "metadata": {
        "id": "pScpa3nRRxCN"
      },
      "source": [
        "## Deploy\n",
        "\n",
        "Save your model's weights using the Checkpoint function. Try reloading the model and making inference on your validation dataset."
      ]
    },
    {
      "cell_type": "code",
      "metadata": {
        "id": "3cqpHQt_SIbW"
      },
      "source": [
        "# To do this, add this to callback function:\n",
        "\n",
        "#cpoint = ModelCheckpoint(\"weights_best.h5\", \n",
        "                         #verbose=1, save_weights_only=True)"
      ],
      "execution_count": null,
      "outputs": []
    },
    {
      "cell_type": "code",
      "metadata": {
        "colab": {
          "base_uri": "https://localhost:8080/"
        },
        "id": "pFFkZ16dN7xD",
        "outputId": "029e028b-83fa-4173-eb19-5d88a1b2b90c"
      },
      "source": [
        "# To save entire model:\n",
        "\n",
        "Adam_model.save('my_Adam_model')\n",
        "\n",
        "\n",
        "# To load the model back in:\n",
        "\n",
        "#new_model = tf.keras.models.load_model('my_Adam_model')"
      ],
      "execution_count": 27,
      "outputs": [
        {
          "output_type": "stream",
          "text": [
            "WARNING:tensorflow:From /usr/local/lib/python3.6/dist-packages/tensorflow/python/training/tracking/tracking.py:111: Model.state_updates (from tensorflow.python.keras.engine.training) is deprecated and will be removed in a future version.\n",
            "Instructions for updating:\n",
            "This property should not be used in TensorFlow 2.0, as updates are applied automatically.\n",
            "WARNING:tensorflow:From /usr/local/lib/python3.6/dist-packages/tensorflow/python/training/tracking/tracking.py:111: Layer.updates (from tensorflow.python.keras.engine.base_layer) is deprecated and will be removed in a future version.\n",
            "Instructions for updating:\n",
            "This property should not be used in TensorFlow 2.0, as updates are applied automatically.\n",
            "INFO:tensorflow:Assets written to: my_Adam_model/assets\n"
          ],
          "name": "stdout"
        }
      ]
    },
    {
      "cell_type": "markdown",
      "metadata": {
        "id": "LKbr1gRg9BXs"
      },
      "source": [
        "### Stretch Goals\n",
        "- Mount your Google Drive to Colab to persist your model checkpoint files. \n",
        "- Research L2 normalization (weight decay)\n",
        "- Write a custom callback function to stop training after you reach .88 validation accuracy. \n",
        "- Select a new dataset and apply a neural network to it.\n",
        "- Research TensorFlow Serving\n",
        "- Play [QuickDraw](https://quickdraw.withgoogle.com/data)\n",
        "- Create a static webpage using TensorFlow.js to serve a model. Check out [Teachable Machine Learning](https://teachablemachine.withgoogle.com/) for ideas. "
      ]
    }
  ]
}