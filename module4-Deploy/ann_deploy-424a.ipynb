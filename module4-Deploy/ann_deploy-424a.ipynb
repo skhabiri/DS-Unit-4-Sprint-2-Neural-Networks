{
 "cells": [
  {
   "cell_type": "markdown",
   "metadata": {
    "colab_type": "text",
    "id": "view-in-github"
   },
   "source": [
    "<a href=\"https://colab.research.google.com/github/Collin-Campbell/DS-Unit-4-Sprint-2-Neural-Networks/blob/main/module4-Deploy/LS_DS_424_Deploy_Assignment.ipynb\" target=\"_parent\"><img src=\"https://colab.research.google.com/assets/colab-badge.svg\" alt=\"Open In Colab\"/></a>"
   ]
  },
  {
   "cell_type": "markdown",
   "metadata": {
    "id": "NGGrt9EYlCqY"
   },
   "source": [
    "\n",
    "\n",
    "# Train Practice\n",
    "\n",
    "## *Data Science Unit 4 Sprint 2 Module 4*\n",
    "\n",
    "Continue to use TensorFlow Keras & a sample of the [Quickdraw dataset](https://github.com/googlecreativelab/quickdraw-dataset) to build a sketch classification model. The dataset has been sampled to only 10 classes and 10000 observations per class. Apply regularization techniques to your model. \n",
    "\n",
    "*Don't forgot to switch to GPU on Colab!*"
   ]
  },
  {
   "cell_type": "markdown",
   "metadata": {
    "id": "ptJ2b3wk62Ud"
   },
   "source": [
    "## Regularization\n",
    "\n",
    "Using your best performing model from the previous module, apply each of the following regularization strategies: \n",
    "* Early Stopping\n",
    "* Dropout\n",
    "* Weight Decay\n",
    "* Weight Constraint\n"
   ]
  },
  {
   "cell_type": "code",
   "execution_count": 1,
   "metadata": {
    "id": "USXjs7Hk71Hy"
   },
   "outputs": [],
   "source": [
    "from sklearn.utils import shuffle\n",
    "from sklearn.model_selection import train_test_split\n",
    "from tensorflow.keras.models import Sequential\n",
    "from tensorflow.keras.layers import Dense\n",
    "from tensorflow.keras.optimizers import SGD\n",
    "from tensorflow.keras.optimizers import Adam\n",
    "from tensorflow.keras.optimizers import RMSprop\n",
    "from tensorflow.keras.optimizers import Adagrad\n",
    "from tensorflow.keras.optimizers import Ftrl\n",
    "import seaborn as sns\n",
    "import pandas as pd\n",
    "import tensorflow as tf\n",
    "from tensorflow.keras.callbacks import ModelCheckpoint\n",
    "\n",
    "from io import BytesIO\n",
    "import numpy as np\n",
    "import requests"
   ]
  },
  {
   "cell_type": "code",
   "execution_count": 2,
   "metadata": {
    "id": "8AStX21Om5Oi"
   },
   "outputs": [],
   "source": [
    "def load_quickdraw10(url):\n",
    "    r = requests.get(url, stream = True)\n",
    "    data = np.load(BytesIO(r.raw.read()))\n",
    "    X = data['arr_0']\n",
    "    y = data['arr_1']\n",
    "\n",
    "    class_names = ['apple',\n",
    "    'anvil',\n",
    "    'airplane',\n",
    "    'banana',\n",
    "    'The Eiffel Tower',\n",
    "    'The Mona Lisa',\n",
    "    'The Great Wall of China',\n",
    "    'alarm clock',\n",
    "    'ant',\n",
    "    'asparagus']\n",
    "\n",
    "    # Need this line to randomly shuffle both the X & y at the same time.\n",
    "    X, y = shuffle(X, y)\n",
    "\n",
    "    # splitting training into 80% train and 20% test\n",
    "    X_train, X_test, y_train, y_test = train_test_split(X, y, test_size=0.2, random_state=42)\n",
    "\n",
    "    print('X_train shape = {}'.format(X_train.shape))\n",
    "    print('y_train shape = {}'.format(y_train.shape))\n",
    "    print('\\n')\n",
    "    print('X_test shape = {}'.format(X_test.shape))\n",
    "    print('y_test shape = {}'.format(y_test.shape))\n",
    "    print('\\n \\n')\n",
    "\n",
    "    return X_train, X_test, y_train, y_test"
   ]
  },
  {
   "cell_type": "code",
   "execution_count": 3,
   "metadata": {
    "colab": {
     "base_uri": "https://localhost:8080/"
    },
    "id": "xpd8zCB1nua1",
    "outputId": "532f3664-c09d-4835-9eac-e0aa432b8b45"
   },
   "outputs": [
    {
     "name": "stdout",
     "output_type": "stream",
     "text": [
      "X_train shape = (80000, 784)\n",
      "y_train shape = (80000,)\n",
      "\n",
      "\n",
      "X_test shape = (20000, 784)\n",
      "y_test shape = (20000,)\n",
      "\n",
      " \n",
      "\n"
     ]
    }
   ],
   "source": [
    "url = 'https://github.com/skhabiri/ML-ANN/raw/main/data/quickdraw10.npz'\n",
    "X_train, X_test, y_train, y_test = load_quickdraw10(url)"
   ]
  },
  {
   "cell_type": "code",
   "execution_count": 5,
   "metadata": {},
   "outputs": [
    {
     "data": {
      "text/plain": [
       "(abc.ABCMeta, tensorflow.python.keras.optimizer_v2.adam.Adam)"
      ]
     },
     "execution_count": 5,
     "metadata": {},
     "output_type": "execute_result"
    }
   ],
   "source": [
    "type(Adam), Adam"
   ]
  },
  {
   "cell_type": "code",
   "execution_count": 19,
   "metadata": {
    "id": "zA4-dEhEm9Wt"
   },
   "outputs": [],
   "source": [
    "def create_model(path, lr=.001, opt_name=Adam):\n",
    "\n",
    "    X_train, X_test, y_train, y_test = load_quickdraw10(path)\n",
    "\n",
    "    # Define the keras model\n",
    "    model = Sequential()\n",
    "    model.add(Dense(588, input_dim=784, activation='sigmoid'))\n",
    "    model.add(Dense(441, activation='relu'))\n",
    "    model.add(Dense(10, activation='softmax'))\n",
    "    \n",
    "    # Compile the keras model\n",
    "    # opt_name is an abstract base class and Adam, SGD ,... are childeren of that super class\n",
    "    # Hence all the childeren of that abc class are pointing to that abc parent class \n",
    "    # and can replace opt_name\n",
    "    opt = opt_name(learning_rate=lr)\n",
    "    print(\"Optimizer type:\\n\", type(opt_name), \"\\n\", type(opt))\n",
    "\n",
    "    model.compile(loss='sparse_categorical_crossentropy', optimizer=opt, metrics=['accuracy'])\n",
    "\n",
    "    model.summary()\n",
    "\n",
    "    return model"
   ]
  },
  {
   "cell_type": "code",
   "execution_count": 16,
   "metadata": {
    "id": "9kyQvgJII0Ri"
   },
   "outputs": [],
   "source": [
    "stop_callback = tf.keras.callbacks.EarlyStopping(monitor='loss', patience=3)"
   ]
  },
  {
   "cell_type": "markdown",
   "metadata": {
    "id": "pScpa3nRRxCN"
   },
   "source": [
    "## Deploy\n",
    "\n",
    "Save your model's weights using the Checkpoint function. Try reloading the model and making inference on your validation dataset."
   ]
  },
  {
   "cell_type": "code",
   "execution_count": 24,
   "metadata": {
    "id": "3cqpHQt_SIbW"
   },
   "outputs": [],
   "source": [
    "# To do this, add this to callback function:\n",
    "\n",
    "cpoint_callback = ModelCheckpoint(\"weights_best.ah5\", \n",
    "                         verbose=1, save_weights_only=True)"
   ]
  },
  {
   "cell_type": "code",
   "execution_count": 25,
   "metadata": {
    "colab": {
     "base_uri": "https://localhost:8080/"
    },
    "id": "b2LdCztXnfJs",
    "outputId": "9c70564a-36f0-49c2-8d91-41e7d35486f9"
   },
   "outputs": [
    {
     "name": "stdout",
     "output_type": "stream",
     "text": [
      "X_train shape = (80000, 784)\n",
      "y_train shape = (80000,)\n",
      "\n",
      "\n",
      "X_test shape = (20000, 784)\n",
      "y_test shape = (20000,)\n",
      "\n",
      " \n",
      "\n",
      "Optimizer type:\n",
      " <class 'abc.ABCMeta'> \n",
      " <class 'tensorflow.python.keras.optimizer_v2.adam.Adam'>\n",
      "Model: \"sequential_4\"\n",
      "_________________________________________________________________\n",
      "Layer (type)                 Output Shape              Param #   \n",
      "=================================================================\n",
      "dense_12 (Dense)             (None, 588)               461580    \n",
      "_________________________________________________________________\n",
      "dense_13 (Dense)             (None, 441)               259749    \n",
      "_________________________________________________________________\n",
      "dense_14 (Dense)             (None, 10)                4420      \n",
      "=================================================================\n",
      "Total params: 725,749\n",
      "Trainable params: 725,749\n",
      "Non-trainable params: 0\n",
      "_________________________________________________________________\n",
      "Epoch 1/10\n",
      "1250/1250 [==============================] - 4s 3ms/step - loss: 1.1869 - accuracy: 0.6280 - val_loss: 0.7602 - val_accuracy: 0.7712\n",
      "\n",
      "Epoch 00001: saving model to weights_best.ah5\n",
      "Epoch 2/10\n",
      "1250/1250 [==============================] - 4s 3ms/step - loss: 0.7009 - accuracy: 0.7919 - val_loss: 0.6830 - val_accuracy: 0.7958\n",
      "\n",
      "Epoch 00002: saving model to weights_best.ah5\n",
      "Epoch 3/10\n",
      "1250/1250 [==============================] - 4s 3ms/step - loss: 0.6241 - accuracy: 0.8139 - val_loss: 0.6301 - val_accuracy: 0.8079\n",
      "\n",
      "Epoch 00003: saving model to weights_best.ah5\n",
      "Epoch 4/10\n",
      "1250/1250 [==============================] - 4s 3ms/step - loss: 0.5665 - accuracy: 0.8300 - val_loss: 0.6036 - val_accuracy: 0.8162\n",
      "\n",
      "Epoch 00004: saving model to weights_best.ah5\n",
      "Epoch 5/10\n",
      "1250/1250 [==============================] - 4s 3ms/step - loss: 0.5312 - accuracy: 0.8406 - val_loss: 0.5786 - val_accuracy: 0.8224\n",
      "\n",
      "Epoch 00005: saving model to weights_best.ah5\n",
      "Epoch 6/10\n",
      "1250/1250 [==============================] - 4s 3ms/step - loss: 0.5009 - accuracy: 0.8474 - val_loss: 0.5612 - val_accuracy: 0.8291\n",
      "\n",
      "Epoch 00006: saving model to weights_best.ah5\n",
      "Epoch 7/10\n",
      "1250/1250 [==============================] - 4s 3ms/step - loss: 0.4729 - accuracy: 0.8573 - val_loss: 0.5501 - val_accuracy: 0.8342\n",
      "\n",
      "Epoch 00007: saving model to weights_best.ah5\n",
      "Epoch 8/10\n",
      "1250/1250 [==============================] - 4s 3ms/step - loss: 0.4521 - accuracy: 0.8621 - val_loss: 0.5432 - val_accuracy: 0.8356\n",
      "\n",
      "Epoch 00008: saving model to weights_best.ah5\n",
      "Epoch 9/10\n",
      "1250/1250 [==============================] - 4s 3ms/step - loss: 0.4324 - accuracy: 0.8688 - val_loss: 0.5318 - val_accuracy: 0.8400\n",
      "\n",
      "Epoch 00009: saving model to weights_best.ah5\n",
      "Epoch 10/10\n",
      "1250/1250 [==============================] - 4s 3ms/step - loss: 0.4180 - accuracy: 0.8718 - val_loss: 0.5259 - val_accuracy: 0.8409\n",
      "\n",
      "Epoch 00010: saving model to weights_best.ah5\n"
     ]
    },
    {
     "data": {
      "text/plain": [
       "<tensorflow.python.keras.callbacks.History at 0x7fb380338278>"
      ]
     },
     "execution_count": 25,
     "metadata": {},
     "output_type": "execute_result"
    }
   ],
   "source": [
    "Adam_model = create_model(url, lr=.0001, opt_name=Adam)\n",
    "Adam_model.fit(X_train, y_train,\n",
    "                                epochs=10,\n",
    "                                batch_size=64,\n",
    "                                callbacks=[stop_callback, cpoint_callback],\n",
    "                                validation_data=(X_test,y_test)\n",
    "                                )"
   ]
  },
  {
   "cell_type": "code",
   "execution_count": 28,
   "metadata": {},
   "outputs": [
    {
     "name": "stdout",
     "output_type": "stream",
     "text": [
      "X_train shape = (80000, 784)\n",
      "y_train shape = (80000,)\n",
      "\n",
      "\n",
      "X_test shape = (20000, 784)\n",
      "y_test shape = (20000,)\n",
      "\n",
      " \n",
      "\n",
      "Optimizer type:\n",
      " <class 'abc.ABCMeta'> \n",
      " <class 'tensorflow.python.keras.optimizer_v2.adam.Adam'>\n",
      "Model: \"sequential_5\"\n",
      "_________________________________________________________________\n",
      "Layer (type)                 Output Shape              Param #   \n",
      "=================================================================\n",
      "dense_15 (Dense)             (None, 588)               461580    \n",
      "_________________________________________________________________\n",
      "dense_16 (Dense)             (None, 441)               259749    \n",
      "_________________________________________________________________\n",
      "dense_17 (Dense)             (None, 10)                4420      \n",
      "=================================================================\n",
      "Total params: 725,749\n",
      "Trainable params: 725,749\n",
      "Non-trainable params: 0\n",
      "_________________________________________________________________\n",
      "Model: \"sequential_5\"\n",
      "_________________________________________________________________\n",
      "Layer (type)                 Output Shape              Param #   \n",
      "=================================================================\n",
      "dense_15 (Dense)             (None, 588)               461580    \n",
      "_________________________________________________________________\n",
      "dense_16 (Dense)             (None, 441)               259749    \n",
      "_________________________________________________________________\n",
      "dense_17 (Dense)             (None, 10)                4420      \n",
      "=================================================================\n",
      "Total params: 725,749\n",
      "Trainable params: 725,749\n",
      "Non-trainable params: 0\n",
      "_________________________________________________________________\n"
     ]
    }
   ],
   "source": [
    "m = create_model(url)  # Start with same architecture\n",
    "m.load_weights('weights_best.ah5')  # Load instead of train\n",
    "m.summary()"
   ]
  },
  {
   "cell_type": "code",
   "execution_count": 29,
   "metadata": {},
   "outputs": [
    {
     "name": "stdout",
     "output_type": "stream",
     "text": [
      "625/625 [==============================] - 1s 1ms/step - loss: 0.5433 - accuracy: 0.8367\n"
     ]
    },
    {
     "data": {
      "text/plain": [
       "[0.5258622765541077, 0.8409000039100647]"
      ]
     },
     "execution_count": 29,
     "metadata": {},
     "output_type": "execute_result"
    }
   ],
   "source": [
    "m.evaluate(X_test, y_test, verbose=1)"
   ]
  },
  {
   "cell_type": "code",
   "execution_count": 21,
   "metadata": {
    "colab": {
     "base_uri": "https://localhost:8080/"
    },
    "id": "pFFkZ16dN7xD",
    "outputId": "029e028b-83fa-4173-eb19-5d88a1b2b90c"
   },
   "outputs": [
    {
     "name": "stdout",
     "output_type": "stream",
     "text": [
      "INFO:tensorflow:Assets written to: my_Adam_model/assets\n"
     ]
    }
   ],
   "source": [
    "# To save entire model:\n",
    "\n",
    "Adam_model.save('my_Adam_model')\n",
    "\n",
    "\n",
    "# To load the model back in:\n",
    "\n",
    "new_model = tf.keras.models.load_model('my_Adam_model')"
   ]
  },
  {
   "cell_type": "code",
   "execution_count": 23,
   "metadata": {},
   "outputs": [
    {
     "name": "stdout",
     "output_type": "stream",
     "text": [
      "625/625 [==============================] - 1s 1ms/step - loss: 0.4709 - accuracy: 0.8635\n"
     ]
    },
    {
     "data": {
      "text/plain": [
       "[0.4709043502807617, 0.8634999990463257]"
      ]
     },
     "execution_count": 23,
     "metadata": {},
     "output_type": "execute_result"
    }
   ],
   "source": [
    "new_model.evaluate(X_test, y_test)"
   ]
  },
  {
   "cell_type": "markdown",
   "metadata": {
    "id": "LKbr1gRg9BXs"
   },
   "source": [
    "### Stretch Goals\n",
    "- Mount your Google Drive to Colab to persist your model checkpoint files. \n",
    "- Research L2 normalization (weight decay)\n",
    "- Write a custom callback function to stop training after you reach .88 validation accuracy. \n",
    "- Select a new dataset and apply a neural network to it.\n",
    "- Research TensorFlow Serving\n",
    "- Play [QuickDraw](https://quickdraw.withgoogle.com/data)\n",
    "- Create a static webpage using TensorFlow.js to serve a model. Check out [Teachable Machine Learning](https://teachablemachine.withgoogle.com/) for ideas. "
   ]
  },
  {
   "cell_type": "code",
   "execution_count": null,
   "metadata": {},
   "outputs": [],
   "source": []
  }
 ],
 "metadata": {
  "colab": {
   "collapsed_sections": [],
   "include_colab_link": true,
   "name": "LS_DS_434_Deploy_Assignment.ipynb",
   "provenance": [],
   "toc_visible": true
  },
  "kernelspec": {
   "display_name": "ML_ANN (python3.7)",
   "language": "python",
   "name": "ml_ann"
  },
  "language_info": {
   "codemirror_mode": {
    "name": "ipython",
    "version": 3
   },
   "file_extension": ".py",
   "mimetype": "text/x-python",
   "name": "python",
   "nbconvert_exporter": "python",
   "pygments_lexer": "ipython3",
   "version": "3.7.0"
  },
  "nteract": {
   "version": "0.22.4"
  }
 },
 "nbformat": 4,
 "nbformat_minor": 4
}
