{
  "nbformat": 4,
  "nbformat_minor": 0,
  "metadata": {
    "colab": {
      "name": "LS_DS17_422_Train_Assignment.ipynb",
      "provenance": [],
      "collapsed_sections": [],
      "include_colab_link": true
    },
    "kernelspec": {
      "display_name": "Python 3",
      "language": "python",
      "name": "python3"
    },
    "language_info": {
      "codemirror_mode": {
        "name": "ipython",
        "version": 3
      },
      "file_extension": ".py",
      "mimetype": "text/x-python",
      "name": "python",
      "nbconvert_exporter": "python",
      "pygments_lexer": "ipython3",
      "version": "3.7.3"
    },
    "nteract": {
      "version": "0.22.4"
    },
    "accelerator": "GPU"
  },
  "cells": [
    {
      "cell_type": "markdown",
      "metadata": {
        "id": "view-in-github",
        "colab_type": "text"
      },
      "source": [
        "<a href=\"https://colab.research.google.com/github/skhabiri/DS-Unit-4-Sprint-2-Neural-Networks/blob/main/module2-Train/LS_DS17_422_Train_Assignment.ipynb\" target=\"_parent\"><img src=\"https://colab.research.google.com/assets/colab-badge.svg\" alt=\"Open In Colab\"/></a>"
      ]
    },
    {
      "cell_type": "markdown",
      "metadata": {
        "colab_type": "text",
        "id": "NGGrt9EYlCqY"
      },
      "source": [
        "<img align=\"left\" src=\"https://lever-client-logos.s3.amazonaws.com/864372b1-534c-480e-acd5-9711f850815c-1524247202159.png\" width=200>\n",
        "<br></br>\n",
        "<br></br>\n",
        "\n",
        "# Train Practice\n",
        "\n",
        "## *Data Science Unit 4 Sprint 2 Assignment 2*\n",
        "\n",
        "Continue to use TensorFlow Keras & a sample of the [Quickdraw dataset](https://github.com/googlecreativelab/quickdraw-dataset) to build a sketch classification model. The dataset has been sampled to only 10 classes and 10000 observations per class. Please build a baseline classification model then run a few experiments with different optimizers and learning rates. \n",
        "\n",
        "*Don't forgot to switch to GPU on Colab!*"
      ]
    },
    {
      "cell_type": "markdown",
      "metadata": {
        "id": "ptJ2b3wk62Ud",
        "colab_type": "text"
      },
      "source": [
        "### Write a function to load your data\n",
        "\n",
        "Wrap yesterday's preprocessing steps into a function that returns four items:\n",
        "* X_train\n",
        "* y_train\n",
        "* X_test\n",
        "* y_test\n",
        "\n",
        "Your function should accept a `path` to the data as a argument."
      ]
    },
    {
      "cell_type": "code",
      "metadata": {
        "id": "PNbvbN89fSS-",
        "colab_type": "code",
        "colab": {
          "base_uri": "https://localhost:8080/",
          "height": 190
        },
        "outputId": "1180bd17-c83f-4e6a-ee1e-648723bf1f49"
      },
      "source": [
        "pip install wget"
      ],
      "execution_count": 28,
      "outputs": [
        {
          "output_type": "stream",
          "text": [
            "Collecting wget\n",
            "  Downloading https://files.pythonhosted.org/packages/47/6a/62e288da7bcda82b935ff0c6cfe542970f04e29c756b0e147251b2fb251f/wget-3.2.zip\n",
            "Building wheels for collected packages: wget\n",
            "  Building wheel for wget (setup.py) ... \u001b[?25l\u001b[?25hdone\n",
            "  Created wheel for wget: filename=wget-3.2-cp36-none-any.whl size=9682 sha256=c5383579245538c9bb72eab87f03a90d90f83b7bc32fa67b13252aaad993e7aa\n",
            "  Stored in directory: /root/.cache/pip/wheels/40/15/30/7d8f7cea2902b4db79e3fea550d7d7b85ecb27ef992b618f3f\n",
            "Successfully built wget\n",
            "Installing collected packages: wget\n",
            "Successfully installed wget-3.2\n"
          ],
          "name": "stdout"
        }
      ]
    },
    {
      "cell_type": "code",
      "metadata": {
        "id": "nBtDeU2lWVLA",
        "colab_type": "code",
        "colab": {}
      },
      "source": [
        "import numpy as np\n",
        "import tensorflow as tf\n",
        "from sklearn.utils import shuffle\n",
        "from sklearn.model_selection import train_test_split\n",
        "import wget"
      ],
      "execution_count": 29,
      "outputs": []
    },
    {
      "cell_type": "code",
      "metadata": {
        "id": "nJsIsrvp7O3e",
        "colab_type": "code",
        "colab": {}
      },
      "source": [
        "def load_quickdraw10(path):\n",
        "  wget.download(path)\n",
        "  data = np.load('quickdraw10.npz')\n",
        "  X = data['arr_0']\n",
        "  y = data['arr_1']\n",
        "\n",
        "  print(X.shape)\n",
        "  print(y.shape)\n",
        "\n",
        "  X, y = shuffle(X, y)\n",
        "  X_train, X_test, y_train, y_test = train_test_split(X, y, test_size=0.2, random_state=42)\n",
        "  \n",
        "  return X_train, y_train, X_test, y_test"
      ],
      "execution_count": 32,
      "outputs": []
    },
    {
      "cell_type": "code",
      "metadata": {
        "id": "v-WSTNDqV2Zs",
        "colab_type": "code",
        "colab": {
          "base_uri": "https://localhost:8080/",
          "height": 51
        },
        "outputId": "0ad52a95-4b41-4074-eb06-fcf808a5d102"
      },
      "source": [
        "path = 'https://github.com/skhabiri/DS-Unit-4-Sprint-2-Neural-Networks/raw/main/module1-Architect/quickdraw10.npz'\n",
        "X_train, y_train, X_test, y_test = load_quickdraw10(path)"
      ],
      "execution_count": 33,
      "outputs": [
        {
          "output_type": "stream",
          "text": [
            "(100000, 784)\n",
            "(100000,)\n"
          ],
          "name": "stdout"
        }
      ]
    },
    {
      "cell_type": "markdown",
      "metadata": {
        "id": "l-6PxI6H5__2",
        "colab_type": "text"
      },
      "source": [
        "### Write a Model Function\n",
        "Using your model from yesterday, write a function called `create_model` which returns a compiled TensorFlow Keras Sequential Model suitable for classifying the QuickDraw-10 dataset. Include parameters for the following: \n",
        "* Learning Rate\n",
        "* Optimizer"
      ]
    },
    {
      "cell_type": "code",
      "metadata": {
        "id": "TYLo0SXAhhF3",
        "colab_type": "code",
        "colab": {}
      },
      "source": [
        "from tensorflow.keras import Sequential\n",
        "from tensorflow.keras.layers import Dense\n",
        "from tensorflow.keras.optimizers import SGD\n",
        "from tensorflow.keras.optimizers import Adam\n"
      ],
      "execution_count": 46,
      "outputs": []
    },
    {
      "cell_type": "code",
      "metadata": {
        "colab_type": "code",
        "id": "nEREYT-3wI1f",
        "colab": {}
      },
      "source": [
        "def create_model(optim, lr=0.01):\n",
        "  \"\"\"\n",
        "  784+1 * 32+1 * 32+1 * 10\n",
        "  \"\"\"\n",
        "  opt = optim(learning_rate=lr)\n",
        "  model = Sequential(\n",
        "      [\n",
        "      #  784 inputs + 1 bias connect to 32 1st layer Hiddent neurons\n",
        "       Dense(32, activation='relu', input_dim=784),\n",
        "      #  32 1st-H-Neurons + 1 bias connected to 32 2'nd layer H-Neurons\n",
        "       Dense(32, activation='relu'),\n",
        "      #  32 2nd-H-neurons connect to 10 Output neurons\n",
        "       Dense(10, activation='softmax')       \n",
        "      ]\n",
        "    )\n",
        "  # sparse_categorical_crossentropy is good for multilable classification\n",
        "  model.compile(optimizer=opt, loss='sparse_categorical_crossentropy', metrics=['accuracy'])\n",
        "  return model\n"
      ],
      "execution_count": 43,
      "outputs": []
    },
    {
      "cell_type": "code",
      "metadata": {
        "id": "JG96AufrhI3u",
        "colab_type": "code",
        "colab": {
          "base_uri": "https://localhost:8080/",
          "height": 255
        },
        "outputId": "96c1a728-fbde-4e9c-f712-5211c34c1f2a"
      },
      "source": [
        "model_sgd = create_model(optim=SGD, lr=0.01)\n",
        "model_sgd.summary()"
      ],
      "execution_count": 49,
      "outputs": [
        {
          "output_type": "stream",
          "text": [
            "Model: \"sequential_3\"\n",
            "_________________________________________________________________\n",
            "Layer (type)                 Output Shape              Param #   \n",
            "=================================================================\n",
            "dense_9 (Dense)              (None, 32)                25120     \n",
            "_________________________________________________________________\n",
            "dense_10 (Dense)             (None, 32)                1056      \n",
            "_________________________________________________________________\n",
            "dense_11 (Dense)             (None, 10)                330       \n",
            "=================================================================\n",
            "Total params: 26,506\n",
            "Trainable params: 26,506\n",
            "Non-trainable params: 0\n",
            "_________________________________________________________________\n"
          ],
          "name": "stdout"
        }
      ]
    },
    {
      "cell_type": "code",
      "metadata": {
        "id": "1k8IogSnjP5n",
        "colab_type": "code",
        "colab": {
          "base_uri": "https://localhost:8080/",
          "height": 255
        },
        "outputId": "f3a02b3c-b415-4f81-b6bb-a1e12f196ff5"
      },
      "source": [
        "model_adam = create_model(optim=Adam, lr=0.01)\n",
        "model_adam.summary()"
      ],
      "execution_count": 48,
      "outputs": [
        {
          "output_type": "stream",
          "text": [
            "Model: \"sequential_2\"\n",
            "_________________________________________________________________\n",
            "Layer (type)                 Output Shape              Param #   \n",
            "=================================================================\n",
            "dense_6 (Dense)              (None, 32)                25120     \n",
            "_________________________________________________________________\n",
            "dense_7 (Dense)              (None, 32)                1056      \n",
            "_________________________________________________________________\n",
            "dense_8 (Dense)              (None, 10)                330       \n",
            "=================================================================\n",
            "Total params: 26,506\n",
            "Trainable params: 26,506\n",
            "Non-trainable params: 0\n",
            "_________________________________________________________________\n"
          ],
          "name": "stdout"
        }
      ]
    },
    {
      "cell_type": "markdown",
      "metadata": {
        "id": "f0pCkh8C7eGL",
        "colab_type": "text"
      },
      "source": [
        "### Experiment with Batch Size\n",
        "* Run 5 experiments with various batch sizes of your choice. \n",
        "* Visualize the results\n",
        "* Write up an analysis of the experiments and select the \"best\" performing model among your experiments. Make sure to compare against your model's performance yesterday. "
      ]
    },
    {
      "cell_type": "code",
      "metadata": {
        "id": "USXjs7Hk71Hy",
        "colab_type": "code",
        "colab": {
          "base_uri": "https://localhost:8080/",
          "height": 887
        },
        "outputId": "473460b9-29ee-4223-9115-8b232cedf2d1"
      },
      "source": [
        "bt_8 = model_sgd.fit(X_train, y_train, epochs=25, batch_size=8, validation_data=(X_test, y_test))"
      ],
      "execution_count": 50,
      "outputs": [
        {
          "output_type": "stream",
          "text": [
            "Epoch 1/25\n",
            "10000/10000 [==============================] - 22s 2ms/step - loss: 81163.9453 - accuracy: 0.1003 - val_loss: 4.8003 - val_accuracy: 0.0991\n",
            "Epoch 2/25\n",
            "10000/10000 [==============================] - 20s 2ms/step - loss: 2.3029 - accuracy: 0.1001 - val_loss: 4.8003 - val_accuracy: 0.0962\n",
            "Epoch 3/25\n",
            "10000/10000 [==============================] - 21s 2ms/step - loss: 2.3029 - accuracy: 0.0996 - val_loss: 4.8002 - val_accuracy: 0.0962\n",
            "Epoch 4/25\n",
            "10000/10000 [==============================] - 20s 2ms/step - loss: 2.3029 - accuracy: 0.0988 - val_loss: 4.8003 - val_accuracy: 0.0996\n",
            "Epoch 5/25\n",
            "10000/10000 [==============================] - 20s 2ms/step - loss: 2.3029 - accuracy: 0.1011 - val_loss: 4.8004 - val_accuracy: 0.0985\n",
            "Epoch 6/25\n",
            "10000/10000 [==============================] - 20s 2ms/step - loss: 2.3029 - accuracy: 0.0987 - val_loss: 4.7999 - val_accuracy: 0.1011\n",
            "Epoch 7/25\n",
            "10000/10000 [==============================] - 20s 2ms/step - loss: 2.3029 - accuracy: 0.1007 - val_loss: 4.8006 - val_accuracy: 0.0996\n",
            "Epoch 8/25\n",
            "10000/10000 [==============================] - 20s 2ms/step - loss: 2.3029 - accuracy: 0.0995 - val_loss: 4.8004 - val_accuracy: 0.1011\n",
            "Epoch 9/25\n",
            "10000/10000 [==============================] - 20s 2ms/step - loss: 2.3029 - accuracy: 0.0991 - val_loss: 4.8000 - val_accuracy: 0.0996\n",
            "Epoch 10/25\n",
            "10000/10000 [==============================] - 20s 2ms/step - loss: 2.3029 - accuracy: 0.0981 - val_loss: 4.8002 - val_accuracy: 0.0962\n",
            "Epoch 11/25\n",
            "10000/10000 [==============================] - 21s 2ms/step - loss: 2.3029 - accuracy: 0.0997 - val_loss: 4.8010 - val_accuracy: 0.0985\n",
            "Epoch 12/25\n",
            "10000/10000 [==============================] - 21s 2ms/step - loss: 2.3029 - accuracy: 0.0981 - val_loss: 4.7999 - val_accuracy: 0.1050\n",
            "Epoch 13/25\n",
            "10000/10000 [==============================] - 20s 2ms/step - loss: 2.3028 - accuracy: 0.1028 - val_loss: 4.8005 - val_accuracy: 0.1011\n",
            "Epoch 14/25\n",
            "10000/10000 [==============================] - 21s 2ms/step - loss: 2.3029 - accuracy: 0.0996 - val_loss: 4.8000 - val_accuracy: 0.1011\n",
            "Epoch 15/25\n",
            "10000/10000 [==============================] - 21s 2ms/step - loss: 2.3029 - accuracy: 0.0993 - val_loss: 4.8002 - val_accuracy: 0.0996\n",
            "Epoch 16/25\n",
            "10000/10000 [==============================] - 21s 2ms/step - loss: 2.3029 - accuracy: 0.0999 - val_loss: 4.8004 - val_accuracy: 0.0975\n",
            "Epoch 17/25\n",
            "10000/10000 [==============================] - 21s 2ms/step - loss: 2.3029 - accuracy: 0.0984 - val_loss: 4.8002 - val_accuracy: 0.0962\n",
            "Epoch 18/25\n",
            "10000/10000 [==============================] - 21s 2ms/step - loss: 2.3029 - accuracy: 0.0967 - val_loss: 4.8003 - val_accuracy: 0.0985\n",
            "Epoch 19/25\n",
            "10000/10000 [==============================] - 21s 2ms/step - loss: 2.3029 - accuracy: 0.0988 - val_loss: 4.8002 - val_accuracy: 0.0996\n",
            "Epoch 20/25\n",
            "10000/10000 [==============================] - 21s 2ms/step - loss: 2.3029 - accuracy: 0.1016 - val_loss: 4.8003 - val_accuracy: 0.0985\n",
            "Epoch 21/25\n",
            "10000/10000 [==============================] - 20s 2ms/step - loss: 2.3029 - accuracy: 0.0982 - val_loss: 4.8004 - val_accuracy: 0.0979\n",
            "Epoch 22/25\n",
            "10000/10000 [==============================] - 20s 2ms/step - loss: 2.3029 - accuracy: 0.0985 - val_loss: 4.8008 - val_accuracy: 0.0962\n",
            "Epoch 23/25\n",
            "10000/10000 [==============================] - 20s 2ms/step - loss: 2.3029 - accuracy: 0.0992 - val_loss: 4.8000 - val_accuracy: 0.1011\n",
            "Epoch 24/25\n",
            "10000/10000 [==============================] - 20s 2ms/step - loss: 2.3029 - accuracy: 0.1010 - val_loss: 4.8002 - val_accuracy: 0.0979\n",
            "Epoch 25/25\n",
            "10000/10000 [==============================] - 20s 2ms/step - loss: 2.3029 - accuracy: 0.0991 - val_loss: 4.8002 - val_accuracy: 0.0996\n"
          ],
          "name": "stdout"
        }
      ]
    },
    {
      "cell_type": "code",
      "metadata": {
        "id": "1vE8odEKkYSR",
        "colab_type": "code",
        "colab": {
          "base_uri": "https://localhost:8080/",
          "height": 867
        },
        "outputId": "7c76d7f7-0217-40d6-f8b8-0193275c58cc"
      },
      "source": [
        "bt_32 = model_sgd.fit(X_train, y_train, epochs=25, batch_size=32, validation_data=(X_test, y_test))"
      ],
      "execution_count": 51,
      "outputs": [
        {
          "output_type": "stream",
          "text": [
            "Epoch 1/25\n",
            "2500/2500 [==============================] - 6s 2ms/step - loss: 2.3027 - accuracy: 0.1004 - val_loss: 4.8001 - val_accuracy: 0.0979\n",
            "Epoch 2/25\n",
            "2500/2500 [==============================] - 6s 3ms/step - loss: 2.3027 - accuracy: 0.0994 - val_loss: 4.8001 - val_accuracy: 0.0979\n",
            "Epoch 3/25\n",
            "2500/2500 [==============================] - 6s 3ms/step - loss: 2.3026 - accuracy: 0.1011 - val_loss: 4.8000 - val_accuracy: 0.0996\n",
            "Epoch 4/25\n",
            "2500/2500 [==============================] - 6s 2ms/step - loss: 2.3027 - accuracy: 0.0988 - val_loss: 4.8001 - val_accuracy: 0.0962\n",
            "Epoch 5/25\n",
            "2500/2500 [==============================] - 6s 2ms/step - loss: 2.3027 - accuracy: 0.0993 - val_loss: 4.8001 - val_accuracy: 0.0975\n",
            "Epoch 6/25\n",
            "2500/2500 [==============================] - 6s 2ms/step - loss: 2.3027 - accuracy: 0.0984 - val_loss: 4.8000 - val_accuracy: 0.0962\n",
            "Epoch 7/25\n",
            "2500/2500 [==============================] - 6s 2ms/step - loss: 2.3027 - accuracy: 0.0997 - val_loss: 4.8001 - val_accuracy: 0.0962\n",
            "Epoch 8/25\n",
            "2500/2500 [==============================] - 6s 2ms/step - loss: 2.3027 - accuracy: 0.0996 - val_loss: 4.8001 - val_accuracy: 0.0975\n",
            "Epoch 9/25\n",
            "2500/2500 [==============================] - 6s 3ms/step - loss: 2.3027 - accuracy: 0.0997 - val_loss: 4.8001 - val_accuracy: 0.0991\n",
            "Epoch 10/25\n",
            "2500/2500 [==============================] - 6s 2ms/step - loss: 2.3027 - accuracy: 0.1000 - val_loss: 4.8001 - val_accuracy: 0.0975\n",
            "Epoch 11/25\n",
            "2500/2500 [==============================] - 6s 2ms/step - loss: 2.3027 - accuracy: 0.0985 - val_loss: 4.8001 - val_accuracy: 0.0996\n",
            "Epoch 12/25\n",
            "2500/2500 [==============================] - 6s 2ms/step - loss: 2.3027 - accuracy: 0.0989 - val_loss: 4.8000 - val_accuracy: 0.0975\n",
            "Epoch 13/25\n",
            "2500/2500 [==============================] - 6s 2ms/step - loss: 2.3027 - accuracy: 0.0978 - val_loss: 4.8002 - val_accuracy: 0.0975\n",
            "Epoch 14/25\n",
            "2500/2500 [==============================] - 6s 2ms/step - loss: 2.3027 - accuracy: 0.0999 - val_loss: 4.8001 - val_accuracy: 0.0979\n",
            "Epoch 15/25\n",
            "2500/2500 [==============================] - 6s 2ms/step - loss: 2.3027 - accuracy: 0.0999 - val_loss: 4.8000 - val_accuracy: 0.0975\n",
            "Epoch 16/25\n",
            "2500/2500 [==============================] - 6s 2ms/step - loss: 2.3027 - accuracy: 0.0976 - val_loss: 4.8001 - val_accuracy: 0.0975\n",
            "Epoch 17/25\n",
            "2500/2500 [==============================] - 6s 2ms/step - loss: 2.3027 - accuracy: 0.0990 - val_loss: 4.8002 - val_accuracy: 0.0975\n",
            "Epoch 18/25\n",
            "2500/2500 [==============================] - 6s 3ms/step - loss: 2.3027 - accuracy: 0.0994 - val_loss: 4.8002 - val_accuracy: 0.0962\n",
            "Epoch 19/25\n",
            "2500/2500 [==============================] - 6s 3ms/step - loss: 2.3027 - accuracy: 0.0997 - val_loss: 4.8000 - val_accuracy: 0.0962\n",
            "Epoch 20/25\n",
            "2500/2500 [==============================] - 6s 3ms/step - loss: 2.3027 - accuracy: 0.1002 - val_loss: 4.8001 - val_accuracy: 0.0991\n",
            "Epoch 21/25\n",
            "2500/2500 [==============================] - 7s 3ms/step - loss: 2.3027 - accuracy: 0.0979 - val_loss: 4.8001 - val_accuracy: 0.0985\n",
            "Epoch 22/25\n",
            "2500/2500 [==============================] - 6s 2ms/step - loss: 2.3027 - accuracy: 0.1001 - val_loss: 4.8002 - val_accuracy: 0.0979\n",
            "Epoch 23/25\n",
            "2500/2500 [==============================] - 6s 3ms/step - loss: 2.3027 - accuracy: 0.0993 - val_loss: 4.8002 - val_accuracy: 0.0979\n",
            "Epoch 24/25\n",
            "2500/2500 [==============================] - 6s 2ms/step - loss: 2.3027 - accuracy: 0.0998 - val_loss: 4.8001 - val_accuracy: 0.0962\n",
            "Epoch 25/25\n",
            "2500/2500 [==============================] - 6s 2ms/step - loss: 2.3027 - accuracy: 0.0992 - val_loss: 4.8001 - val_accuracy: 0.0975\n"
          ],
          "name": "stdout"
        }
      ]
    },
    {
      "cell_type": "code",
      "metadata": {
        "id": "nhq-PUNckg5d",
        "colab_type": "code",
        "colab": {
          "base_uri": "https://localhost:8080/",
          "height": 867
        },
        "outputId": "94ca856e-1177-44fc-a5ef-060679f4c257"
      },
      "source": [
        "bt_128 = model_sgd.fit(X_train, y_train, epochs=25, batch_size=128, validation_data=(X_test, y_test))"
      ],
      "execution_count": 52,
      "outputs": [
        {
          "output_type": "stream",
          "text": [
            "Epoch 1/25\n",
            "625/625 [==============================] - 2s 3ms/step - loss: 2.3026 - accuracy: 0.0993 - val_loss: 4.8001 - val_accuracy: 0.0975\n",
            "Epoch 2/25\n",
            "625/625 [==============================] - 2s 3ms/step - loss: 2.3026 - accuracy: 0.0999 - val_loss: 4.8001 - val_accuracy: 0.0962\n",
            "Epoch 3/25\n",
            "625/625 [==============================] - 2s 3ms/step - loss: 2.3026 - accuracy: 0.1001 - val_loss: 4.8001 - val_accuracy: 0.0962\n",
            "Epoch 4/25\n",
            "625/625 [==============================] - 2s 3ms/step - loss: 2.3026 - accuracy: 0.1003 - val_loss: 4.8001 - val_accuracy: 0.0962\n",
            "Epoch 5/25\n",
            "625/625 [==============================] - 2s 3ms/step - loss: 2.3026 - accuracy: 0.0999 - val_loss: 4.8001 - val_accuracy: 0.0962\n",
            "Epoch 6/25\n",
            "625/625 [==============================] - 2s 3ms/step - loss: 2.3026 - accuracy: 0.1003 - val_loss: 4.8001 - val_accuracy: 0.0962\n",
            "Epoch 7/25\n",
            "625/625 [==============================] - 2s 3ms/step - loss: 2.3026 - accuracy: 0.1005 - val_loss: 4.8001 - val_accuracy: 0.0962\n",
            "Epoch 8/25\n",
            "625/625 [==============================] - 2s 3ms/step - loss: 2.3026 - accuracy: 0.0997 - val_loss: 4.8001 - val_accuracy: 0.0962\n",
            "Epoch 9/25\n",
            "625/625 [==============================] - 2s 3ms/step - loss: 2.3026 - accuracy: 0.0989 - val_loss: 4.8001 - val_accuracy: 0.0962\n",
            "Epoch 10/25\n",
            "625/625 [==============================] - 2s 3ms/step - loss: 2.3026 - accuracy: 0.1001 - val_loss: 4.8001 - val_accuracy: 0.0962\n",
            "Epoch 11/25\n",
            "625/625 [==============================] - 2s 3ms/step - loss: 2.3026 - accuracy: 0.0990 - val_loss: 4.8001 - val_accuracy: 0.0962\n",
            "Epoch 12/25\n",
            "625/625 [==============================] - 2s 3ms/step - loss: 2.3026 - accuracy: 0.0987 - val_loss: 4.8001 - val_accuracy: 0.0962\n",
            "Epoch 13/25\n",
            "625/625 [==============================] - 2s 3ms/step - loss: 2.3026 - accuracy: 0.1008 - val_loss: 4.8001 - val_accuracy: 0.0962\n",
            "Epoch 14/25\n",
            "625/625 [==============================] - 2s 3ms/step - loss: 2.3026 - accuracy: 0.1009 - val_loss: 4.8001 - val_accuracy: 0.0962\n",
            "Epoch 15/25\n",
            "625/625 [==============================] - 2s 3ms/step - loss: 2.3026 - accuracy: 0.0998 - val_loss: 4.8001 - val_accuracy: 0.0962\n",
            "Epoch 16/25\n",
            "625/625 [==============================] - 2s 3ms/step - loss: 2.3026 - accuracy: 0.1009 - val_loss: 4.8001 - val_accuracy: 0.0962\n",
            "Epoch 17/25\n",
            "625/625 [==============================] - 2s 3ms/step - loss: 2.3026 - accuracy: 0.0992 - val_loss: 4.8001 - val_accuracy: 0.0962\n",
            "Epoch 18/25\n",
            "625/625 [==============================] - 2s 3ms/step - loss: 2.3026 - accuracy: 0.0997 - val_loss: 4.8001 - val_accuracy: 0.0962\n",
            "Epoch 19/25\n",
            "625/625 [==============================] - 2s 3ms/step - loss: 2.3026 - accuracy: 0.1005 - val_loss: 4.8001 - val_accuracy: 0.0962\n",
            "Epoch 20/25\n",
            "625/625 [==============================] - 2s 3ms/step - loss: 2.3026 - accuracy: 0.0987 - val_loss: 4.8001 - val_accuracy: 0.0962\n",
            "Epoch 21/25\n",
            "625/625 [==============================] - 2s 3ms/step - loss: 2.3026 - accuracy: 0.1003 - val_loss: 4.8001 - val_accuracy: 0.0962\n",
            "Epoch 22/25\n",
            "625/625 [==============================] - 2s 3ms/step - loss: 2.3026 - accuracy: 0.1010 - val_loss: 4.8001 - val_accuracy: 0.0962\n",
            "Epoch 23/25\n",
            "625/625 [==============================] - 2s 3ms/step - loss: 2.3026 - accuracy: 0.0996 - val_loss: 4.8000 - val_accuracy: 0.0962\n",
            "Epoch 24/25\n",
            "625/625 [==============================] - 2s 3ms/step - loss: 2.3026 - accuracy: 0.1002 - val_loss: 4.8001 - val_accuracy: 0.0962\n",
            "Epoch 25/25\n",
            "625/625 [==============================] - 2s 3ms/step - loss: 2.3026 - accuracy: 0.0991 - val_loss: 4.8001 - val_accuracy: 0.0962\n"
          ],
          "name": "stdout"
        }
      ]
    },
    {
      "cell_type": "code",
      "metadata": {
        "id": "5z-ZeqMTknLI",
        "colab_type": "code",
        "colab": {
          "base_uri": "https://localhost:8080/",
          "height": 867
        },
        "outputId": "c093e11c-0720-4d66-a978-e27e8f80c332"
      },
      "source": [
        "bt_512 = model_sgd.fit(X_train, y_train, epochs=25, batch_size=512, validation_data=(X_test, y_test))"
      ],
      "execution_count": 53,
      "outputs": [
        {
          "output_type": "stream",
          "text": [
            "Epoch 1/25\n",
            "157/157 [==============================] - 1s 3ms/step - loss: 2.3026 - accuracy: 0.1010 - val_loss: 4.8001 - val_accuracy: 0.0962\n",
            "Epoch 2/25\n",
            "157/157 [==============================] - 1s 3ms/step - loss: 2.3026 - accuracy: 0.1010 - val_loss: 4.8001 - val_accuracy: 0.0962\n",
            "Epoch 3/25\n",
            "157/157 [==============================] - 1s 4ms/step - loss: 2.3026 - accuracy: 0.1010 - val_loss: 4.8001 - val_accuracy: 0.0962\n",
            "Epoch 4/25\n",
            "157/157 [==============================] - 0s 3ms/step - loss: 2.3026 - accuracy: 0.1010 - val_loss: 4.8001 - val_accuracy: 0.0962\n",
            "Epoch 5/25\n",
            "157/157 [==============================] - 0s 3ms/step - loss: 2.3026 - accuracy: 0.1010 - val_loss: 4.8001 - val_accuracy: 0.0962\n",
            "Epoch 6/25\n",
            "157/157 [==============================] - 1s 3ms/step - loss: 2.3026 - accuracy: 0.1010 - val_loss: 4.8001 - val_accuracy: 0.0962\n",
            "Epoch 7/25\n",
            "157/157 [==============================] - 1s 4ms/step - loss: 2.3026 - accuracy: 0.1010 - val_loss: 4.8001 - val_accuracy: 0.0962\n",
            "Epoch 8/25\n",
            "157/157 [==============================] - 1s 3ms/step - loss: 2.3026 - accuracy: 0.1010 - val_loss: 4.8001 - val_accuracy: 0.0962\n",
            "Epoch 9/25\n",
            "157/157 [==============================] - 1s 3ms/step - loss: 2.3026 - accuracy: 0.1010 - val_loss: 4.8001 - val_accuracy: 0.0962\n",
            "Epoch 10/25\n",
            "157/157 [==============================] - 0s 3ms/step - loss: 2.3026 - accuracy: 0.1010 - val_loss: 4.8001 - val_accuracy: 0.0962\n",
            "Epoch 11/25\n",
            "157/157 [==============================] - 0s 3ms/step - loss: 2.3026 - accuracy: 0.1010 - val_loss: 4.8001 - val_accuracy: 0.0962\n",
            "Epoch 12/25\n",
            "157/157 [==============================] - 0s 3ms/step - loss: 2.3026 - accuracy: 0.1010 - val_loss: 4.8001 - val_accuracy: 0.0962\n",
            "Epoch 13/25\n",
            "157/157 [==============================] - 1s 3ms/step - loss: 2.3026 - accuracy: 0.1010 - val_loss: 4.8001 - val_accuracy: 0.0962\n",
            "Epoch 14/25\n",
            "157/157 [==============================] - 0s 3ms/step - loss: 2.3026 - accuracy: 0.1010 - val_loss: 4.8001 - val_accuracy: 0.0962\n",
            "Epoch 15/25\n",
            "157/157 [==============================] - 0s 3ms/step - loss: 2.3026 - accuracy: 0.1010 - val_loss: 4.8001 - val_accuracy: 0.0962\n",
            "Epoch 16/25\n",
            "157/157 [==============================] - 0s 3ms/step - loss: 2.3026 - accuracy: 0.1010 - val_loss: 4.8001 - val_accuracy: 0.0962\n",
            "Epoch 17/25\n",
            "157/157 [==============================] - 0s 3ms/step - loss: 2.3026 - accuracy: 0.1010 - val_loss: 4.8001 - val_accuracy: 0.0962\n",
            "Epoch 18/25\n",
            "157/157 [==============================] - 1s 3ms/step - loss: 2.3026 - accuracy: 0.1010 - val_loss: 4.8001 - val_accuracy: 0.0962\n",
            "Epoch 19/25\n",
            "157/157 [==============================] - 1s 4ms/step - loss: 2.3026 - accuracy: 0.1010 - val_loss: 4.8001 - val_accuracy: 0.0962\n",
            "Epoch 20/25\n",
            "157/157 [==============================] - 1s 3ms/step - loss: 2.3026 - accuracy: 0.1010 - val_loss: 4.8001 - val_accuracy: 0.0962\n",
            "Epoch 21/25\n",
            "157/157 [==============================] - 1s 3ms/step - loss: 2.3026 - accuracy: 0.1010 - val_loss: 4.8001 - val_accuracy: 0.0962\n",
            "Epoch 22/25\n",
            "157/157 [==============================] - 0s 3ms/step - loss: 2.3026 - accuracy: 0.1010 - val_loss: 4.8001 - val_accuracy: 0.0962\n",
            "Epoch 23/25\n",
            "157/157 [==============================] - 0s 3ms/step - loss: 2.3026 - accuracy: 0.1010 - val_loss: 4.8001 - val_accuracy: 0.0962\n",
            "Epoch 24/25\n",
            "157/157 [==============================] - 0s 3ms/step - loss: 2.3026 - accuracy: 0.1010 - val_loss: 4.8001 - val_accuracy: 0.0962\n",
            "Epoch 25/25\n",
            "157/157 [==============================] - 1s 3ms/step - loss: 2.3026 - accuracy: 0.1010 - val_loss: 4.8001 - val_accuracy: 0.0962\n"
          ],
          "name": "stdout"
        }
      ]
    },
    {
      "cell_type": "code",
      "metadata": {
        "id": "3D63z4HmkuNb",
        "colab_type": "code",
        "colab": {
          "base_uri": "https://localhost:8080/",
          "height": 867
        },
        "outputId": "b9aace8b-28ff-4e7d-fc25-d18e761d547e"
      },
      "source": [
        "bt_1024 = model_sgd.fit(X_train, y_train, epochs=25, batch_size=1024, validation_data=(X_test, y_test))"
      ],
      "execution_count": 54,
      "outputs": [
        {
          "output_type": "stream",
          "text": [
            "Epoch 1/25\n",
            "79/79 [==============================] - 0s 4ms/step - loss: 2.3026 - accuracy: 0.1010 - val_loss: 4.8001 - val_accuracy: 0.0962\n",
            "Epoch 2/25\n",
            "79/79 [==============================] - 0s 4ms/step - loss: 2.3026 - accuracy: 0.1010 - val_loss: 4.8001 - val_accuracy: 0.0962\n",
            "Epoch 3/25\n",
            "79/79 [==============================] - 0s 4ms/step - loss: 2.3026 - accuracy: 0.1010 - val_loss: 4.8001 - val_accuracy: 0.0962\n",
            "Epoch 4/25\n",
            "79/79 [==============================] - 0s 4ms/step - loss: 2.3026 - accuracy: 0.1010 - val_loss: 4.8001 - val_accuracy: 0.0962\n",
            "Epoch 5/25\n",
            "79/79 [==============================] - 0s 4ms/step - loss: 2.3026 - accuracy: 0.1010 - val_loss: 4.8001 - val_accuracy: 0.0962\n",
            "Epoch 6/25\n",
            "79/79 [==============================] - 0s 3ms/step - loss: 2.3026 - accuracy: 0.1010 - val_loss: 4.8001 - val_accuracy: 0.0962\n",
            "Epoch 7/25\n",
            "79/79 [==============================] - 0s 4ms/step - loss: 2.3026 - accuracy: 0.1010 - val_loss: 4.8001 - val_accuracy: 0.0962\n",
            "Epoch 8/25\n",
            "79/79 [==============================] - 0s 4ms/step - loss: 2.3026 - accuracy: 0.1010 - val_loss: 4.8001 - val_accuracy: 0.0962\n",
            "Epoch 9/25\n",
            "79/79 [==============================] - 0s 4ms/step - loss: 2.3026 - accuracy: 0.1010 - val_loss: 4.8001 - val_accuracy: 0.0962\n",
            "Epoch 10/25\n",
            "79/79 [==============================] - 0s 4ms/step - loss: 2.3026 - accuracy: 0.1010 - val_loss: 4.8001 - val_accuracy: 0.0962\n",
            "Epoch 11/25\n",
            "79/79 [==============================] - 0s 3ms/step - loss: 2.3026 - accuracy: 0.1010 - val_loss: 4.8001 - val_accuracy: 0.0962\n",
            "Epoch 12/25\n",
            "79/79 [==============================] - 0s 4ms/step - loss: 2.3026 - accuracy: 0.1010 - val_loss: 4.8001 - val_accuracy: 0.0962\n",
            "Epoch 13/25\n",
            "79/79 [==============================] - 0s 4ms/step - loss: 2.3026 - accuracy: 0.1010 - val_loss: 4.8001 - val_accuracy: 0.0962\n",
            "Epoch 14/25\n",
            "79/79 [==============================] - 0s 4ms/step - loss: 2.3026 - accuracy: 0.1010 - val_loss: 4.8001 - val_accuracy: 0.0962\n",
            "Epoch 15/25\n",
            "79/79 [==============================] - 0s 4ms/step - loss: 2.3026 - accuracy: 0.1010 - val_loss: 4.8001 - val_accuracy: 0.0962\n",
            "Epoch 16/25\n",
            "79/79 [==============================] - 0s 4ms/step - loss: 2.3026 - accuracy: 0.1010 - val_loss: 4.8001 - val_accuracy: 0.0962\n",
            "Epoch 17/25\n",
            "79/79 [==============================] - 0s 4ms/step - loss: 2.3026 - accuracy: 0.1010 - val_loss: 4.8001 - val_accuracy: 0.0962\n",
            "Epoch 18/25\n",
            "79/79 [==============================] - 0s 4ms/step - loss: 2.3026 - accuracy: 0.1010 - val_loss: 4.8001 - val_accuracy: 0.0962\n",
            "Epoch 19/25\n",
            "79/79 [==============================] - 0s 4ms/step - loss: 2.3026 - accuracy: 0.1010 - val_loss: 4.8001 - val_accuracy: 0.0962\n",
            "Epoch 20/25\n",
            "79/79 [==============================] - 0s 4ms/step - loss: 2.3026 - accuracy: 0.1010 - val_loss: 4.8001 - val_accuracy: 0.0962\n",
            "Epoch 21/25\n",
            "79/79 [==============================] - 0s 4ms/step - loss: 2.3026 - accuracy: 0.1010 - val_loss: 4.8001 - val_accuracy: 0.0962\n",
            "Epoch 22/25\n",
            "79/79 [==============================] - 0s 4ms/step - loss: 2.3026 - accuracy: 0.1010 - val_loss: 4.8001 - val_accuracy: 0.0962\n",
            "Epoch 23/25\n",
            "79/79 [==============================] - 0s 4ms/step - loss: 2.3026 - accuracy: 0.1010 - val_loss: 4.8001 - val_accuracy: 0.0962\n",
            "Epoch 24/25\n",
            "79/79 [==============================] - 0s 4ms/step - loss: 2.3026 - accuracy: 0.1010 - val_loss: 4.8001 - val_accuracy: 0.0962\n",
            "Epoch 25/25\n",
            "79/79 [==============================] - 0s 4ms/step - loss: 2.3026 - accuracy: 0.1010 - val_loss: 4.8001 - val_accuracy: 0.0962\n"
          ],
          "name": "stdout"
        }
      ]
    },
    {
      "cell_type": "code",
      "metadata": {
        "id": "2EcusmYpn0n0",
        "colab_type": "code",
        "colab": {}
      },
      "source": [
        "import seaborn as sns\n",
        "import pandas as pd\n",
        "import matplotlib.pyplot as plt"
      ],
      "execution_count": 67,
      "outputs": []
    },
    {
      "cell_type": "code",
      "metadata": {
        "id": "LLEYbRF9seem",
        "colab_type": "code",
        "colab": {}
      },
      "source": [
        "def nn_plot(param, fit_list, val_list):\n",
        "  \"\"\"\n",
        "  param: String name for the hyper parameter\n",
        "  fit_list: list of fitted model names\n",
        "  val_list: list of strings representing values of the parameter\n",
        "  \"\"\"\n",
        "  param_list=[]\n",
        "  for exp, result in zip(fit_list, val_list):\n",
        "    df = pd.DataFrame.from_dict(exp.history)\n",
        "    df['epoch'] = df.index.values\n",
        "    df[param] = result\n",
        "\n",
        "    param_list.append(df)\n",
        "\n",
        "  df = pd.concat(param_list)\n",
        "  df[param] = df[param].astype('str')\n",
        "\n",
        "  fig, axs = plt.subplots(ncols=2, figsize=(16, 5))\n",
        "  sns.lineplot(x='epoch', y='val_accuracy', hue=param, data=df, ax=axs[0])\n",
        "  sns.lineplot(x='epoch', y='val_loss', hue=param, data=df, ax=axs[1])\n",
        "  axs[0].set_title('Accuracy -- '+param)\n",
        "  axs[1].set_title('Loss -- '+param)\n"
      ],
      "execution_count": 117,
      "outputs": []
    },
    {
      "cell_type": "code",
      "metadata": {
        "id": "BNGORfwivbyk",
        "colab_type": "code",
        "colab": {
          "base_uri": "https://localhost:8080/",
          "height": 350
        },
        "outputId": "17fd1b3b-4c53-4792-e027-78a62184495a"
      },
      "source": [
        "nn_plot(\"Batch Size\", [bt_8, bt_32, bt_128, bt_512, bt_1024], ['bt_8', 'bt_32', 'bt_128', 'bt_512', 'bt_1024'])"
      ],
      "execution_count": 118,
      "outputs": [
        {
          "output_type": "display_data",
          "data": {
            "image/png": "[encoded data removed]",
            "text/plain": [
              "<Figure size 1152x360 with 2 Axes>"
            ]
          },
          "metadata": {
            "tags": [],
            "needs_background": "light"
          }
        }
      ]
    },
    {
      "cell_type": "markdown",
      "metadata": {
        "colab_type": "text",
        "id": "8b-r70o8p2Dm"
      },
      "source": [
        "### Experiment with Learning Rate\n",
        "* Run 5 experiments with various learning rate magnitudes: 1, .1, .01, .001, .0001.\n",
        "* Use the \"best\" batch size from the previous experiment\n",
        "* Visualize the results\n",
        "* Write up an analysis of the experiments and select the \"best\" performing model among your experiments. Make sure to compare against the previous experiments and your model's performance yesterday. "
      ]
    },
    {
      "cell_type": "code",
      "metadata": {
        "id": "_SA144xx8Luf",
        "colab_type": "code",
        "colab": {
          "base_uri": "https://localhost:8080/",
          "height": 867
        },
        "outputId": "fe3a14af-70df-4cf5-b638-97139ee6396d"
      },
      "source": [
        "lr_100u = create_model(optim=SGD, lr=0.0001).fit(X_train, y_train, epochs=25, batch_size=512, validation_data=(X_test, y_test))"
      ],
      "execution_count": 60,
      "outputs": [
        {
          "output_type": "stream",
          "text": [
            "Epoch 1/25\n",
            "157/157 [==============================] - 1s 3ms/step - loss: 19.8224 - accuracy: 0.2414 - val_loss: 5.3593 - val_accuracy: 0.2247\n",
            "Epoch 2/25\n",
            "157/157 [==============================] - 0s 3ms/step - loss: 3.8334 - accuracy: 0.2210 - val_loss: 3.1040 - val_accuracy: 0.2219\n",
            "Epoch 3/25\n",
            "157/157 [==============================] - 0s 3ms/step - loss: 2.8203 - accuracy: 0.2232 - val_loss: 2.6386 - val_accuracy: 0.2286\n",
            "Epoch 4/25\n",
            "157/157 [==============================] - 1s 4ms/step - loss: 2.5348 - accuracy: 0.2274 - val_loss: 2.4546 - val_accuracy: 0.2304\n",
            "Epoch 5/25\n",
            "157/157 [==============================] - 0s 3ms/step - loss: 2.4013 - accuracy: 0.2309 - val_loss: 2.3543 - val_accuracy: 0.2353\n",
            "Epoch 6/25\n",
            "157/157 [==============================] - 0s 3ms/step - loss: 2.3208 - accuracy: 0.2394 - val_loss: 2.2894 - val_accuracy: 0.2457\n",
            "Epoch 7/25\n",
            "157/157 [==============================] - 0s 3ms/step - loss: 2.2641 - accuracy: 0.2473 - val_loss: 2.2433 - val_accuracy: 0.2525\n",
            "Epoch 8/25\n",
            "157/157 [==============================] - 0s 3ms/step - loss: 2.2209 - accuracy: 0.2537 - val_loss: 2.2075 - val_accuracy: 0.2582\n",
            "Epoch 9/25\n",
            "157/157 [==============================] - 0s 3ms/step - loss: 2.1863 - accuracy: 0.2603 - val_loss: 2.1788 - val_accuracy: 0.2633\n",
            "Epoch 10/25\n",
            "157/157 [==============================] - 0s 3ms/step - loss: 2.1572 - accuracy: 0.2661 - val_loss: 2.1537 - val_accuracy: 0.2693\n",
            "Epoch 11/25\n",
            "157/157 [==============================] - 0s 3ms/step - loss: 2.1312 - accuracy: 0.2721 - val_loss: 2.1309 - val_accuracy: 0.2750\n",
            "Epoch 12/25\n",
            "157/157 [==============================] - 0s 3ms/step - loss: 2.1085 - accuracy: 0.2772 - val_loss: 2.1110 - val_accuracy: 0.2794\n",
            "Epoch 13/25\n",
            "157/157 [==============================] - 0s 3ms/step - loss: 2.0887 - accuracy: 0.2829 - val_loss: 2.0930 - val_accuracy: 0.2846\n",
            "Epoch 14/25\n",
            "157/157 [==============================] - 0s 3ms/step - loss: 2.0706 - accuracy: 0.2875 - val_loss: 2.0766 - val_accuracy: 0.2895\n",
            "Epoch 15/25\n",
            "157/157 [==============================] - 0s 3ms/step - loss: 2.0533 - accuracy: 0.2931 - val_loss: 2.0619 - val_accuracy: 0.2944\n",
            "Epoch 16/25\n",
            "157/157 [==============================] - 0s 3ms/step - loss: 2.0370 - accuracy: 0.2982 - val_loss: 2.0477 - val_accuracy: 0.2998\n",
            "Epoch 17/25\n",
            "157/157 [==============================] - 0s 3ms/step - loss: 2.0214 - accuracy: 0.3038 - val_loss: 2.0329 - val_accuracy: 0.3065\n",
            "Epoch 18/25\n",
            "157/157 [==============================] - 0s 3ms/step - loss: 2.0061 - accuracy: 0.3099 - val_loss: 2.0194 - val_accuracy: 0.3119\n",
            "Epoch 19/25\n",
            "157/157 [==============================] - 0s 3ms/step - loss: 1.9910 - accuracy: 0.3162 - val_loss: 2.0059 - val_accuracy: 0.3175\n",
            "Epoch 20/25\n",
            "157/157 [==============================] - 0s 3ms/step - loss: 1.9767 - accuracy: 0.3210 - val_loss: 1.9931 - val_accuracy: 0.3221\n",
            "Epoch 21/25\n",
            "157/157 [==============================] - 1s 3ms/step - loss: 1.9632 - accuracy: 0.3254 - val_loss: 1.9813 - val_accuracy: 0.3259\n",
            "Epoch 22/25\n",
            "157/157 [==============================] - 0s 3ms/step - loss: 1.9508 - accuracy: 0.3302 - val_loss: 1.9699 - val_accuracy: 0.3306\n",
            "Epoch 23/25\n",
            "157/157 [==============================] - 0s 3ms/step - loss: 1.9384 - accuracy: 0.3343 - val_loss: 1.9591 - val_accuracy: 0.3313\n",
            "Epoch 24/25\n",
            "157/157 [==============================] - 0s 3ms/step - loss: 1.9273 - accuracy: 0.3377 - val_loss: 1.9488 - val_accuracy: 0.3350\n",
            "Epoch 25/25\n",
            "157/157 [==============================] - 0s 3ms/step - loss: 1.9169 - accuracy: 0.3408 - val_loss: 1.9392 - val_accuracy: 0.3377\n"
          ],
          "name": "stdout"
        }
      ]
    },
    {
      "cell_type": "code",
      "metadata": {
        "id": "zpNqzrt_rYSs",
        "colab_type": "code",
        "colab": {
          "base_uri": "https://localhost:8080/",
          "height": 867
        },
        "outputId": "4e625a9d-4da6-46f3-b1cd-9ba251e9f29a"
      },
      "source": [
        "lr_1m = create_model(optim=SGD, lr=0.001).fit(X_train, y_train, epochs=25, batch_size=512, validation_data=(X_test, y_test))"
      ],
      "execution_count": 61,
      "outputs": [
        {
          "output_type": "stream",
          "text": [
            "Epoch 1/25\n",
            "157/157 [==============================] - 1s 4ms/step - loss: 4.6182 - accuracy: 0.1708 - val_loss: 2.2570 - val_accuracy: 0.1974\n",
            "Epoch 2/25\n",
            "157/157 [==============================] - 0s 3ms/step - loss: 2.1979 - accuracy: 0.2080 - val_loss: 2.1581 - val_accuracy: 0.2194\n",
            "Epoch 3/25\n",
            "157/157 [==============================] - 1s 3ms/step - loss: 2.1145 - accuracy: 0.2326 - val_loss: 2.0947 - val_accuracy: 0.2424\n",
            "Epoch 4/25\n",
            "157/157 [==============================] - 0s 3ms/step - loss: 2.0529 - accuracy: 0.2589 - val_loss: 2.0420 - val_accuracy: 0.2655\n",
            "Epoch 5/25\n",
            "157/157 [==============================] - 0s 3ms/step - loss: 2.0041 - accuracy: 0.2785 - val_loss: 1.9992 - val_accuracy: 0.2815\n",
            "Epoch 6/25\n",
            "157/157 [==============================] - 0s 3ms/step - loss: 1.9654 - accuracy: 0.2933 - val_loss: 1.9669 - val_accuracy: 0.2957\n",
            "Epoch 7/25\n",
            "157/157 [==============================] - 0s 3ms/step - loss: 1.9346 - accuracy: 0.3055 - val_loss: 1.9403 - val_accuracy: 0.3043\n",
            "Epoch 8/25\n",
            "157/157 [==============================] - 0s 3ms/step - loss: 1.9074 - accuracy: 0.3157 - val_loss: 1.9149 - val_accuracy: 0.3185\n",
            "Epoch 9/25\n",
            "157/157 [==============================] - 0s 3ms/step - loss: 1.8763 - accuracy: 0.3301 - val_loss: 1.8830 - val_accuracy: 0.3321\n",
            "Epoch 10/25\n",
            "157/157 [==============================] - 0s 3ms/step - loss: 1.8363 - accuracy: 0.3479 - val_loss: 1.8505 - val_accuracy: 0.3511\n",
            "Epoch 11/25\n",
            "157/157 [==============================] - 0s 3ms/step - loss: 1.7983 - accuracy: 0.3615 - val_loss: 1.8151 - val_accuracy: 0.3674\n",
            "Epoch 12/25\n",
            "157/157 [==============================] - 0s 3ms/step - loss: 1.7633 - accuracy: 0.3755 - val_loss: 1.7870 - val_accuracy: 0.3684\n",
            "Epoch 13/25\n",
            "157/157 [==============================] - 0s 3ms/step - loss: 1.7294 - accuracy: 0.3856 - val_loss: 1.7592 - val_accuracy: 0.3756\n",
            "Epoch 14/25\n",
            "157/157 [==============================] - 0s 3ms/step - loss: 1.6870 - accuracy: 0.3961 - val_loss: 1.7172 - val_accuracy: 0.3990\n",
            "Epoch 15/25\n",
            "157/157 [==============================] - 0s 3ms/step - loss: 1.6206 - accuracy: 0.4349 - val_loss: 1.6293 - val_accuracy: 0.4441\n",
            "Epoch 16/25\n",
            "157/157 [==============================] - 0s 3ms/step - loss: 1.5506 - accuracy: 0.4673 - val_loss: 1.5776 - val_accuracy: 0.4706\n",
            "Epoch 17/25\n",
            "157/157 [==============================] - 0s 3ms/step - loss: 1.5116 - accuracy: 0.4842 - val_loss: 1.5578 - val_accuracy: 0.5006\n",
            "Epoch 18/25\n",
            "157/157 [==============================] - 0s 3ms/step - loss: 1.4848 - accuracy: 0.5084 - val_loss: 1.5578 - val_accuracy: 0.4974\n",
            "Epoch 19/25\n",
            "157/157 [==============================] - 0s 3ms/step - loss: 1.4651 - accuracy: 0.5137 - val_loss: 1.6059 - val_accuracy: 0.4913\n",
            "Epoch 20/25\n",
            "157/157 [==============================] - 0s 3ms/step - loss: 1.4458 - accuracy: 0.5219 - val_loss: 1.5419 - val_accuracy: 0.5197\n",
            "Epoch 21/25\n",
            "157/157 [==============================] - 0s 3ms/step - loss: 1.4288 - accuracy: 0.5263 - val_loss: 1.4834 - val_accuracy: 0.5011\n",
            "Epoch 22/25\n",
            "157/157 [==============================] - 0s 3ms/step - loss: 1.4139 - accuracy: 0.5324 - val_loss: 1.4697 - val_accuracy: 0.5283\n",
            "Epoch 23/25\n",
            "157/157 [==============================] - 0s 3ms/step - loss: 1.4008 - accuracy: 0.5366 - val_loss: 1.4852 - val_accuracy: 0.5329\n",
            "Epoch 24/25\n",
            "157/157 [==============================] - 0s 3ms/step - loss: 1.3899 - accuracy: 0.5404 - val_loss: 1.4706 - val_accuracy: 0.5200\n",
            "Epoch 25/25\n",
            "157/157 [==============================] - 0s 3ms/step - loss: 1.3770 - accuracy: 0.5456 - val_loss: 1.4393 - val_accuracy: 0.5434\n"
          ],
          "name": "stdout"
        }
      ]
    },
    {
      "cell_type": "code",
      "metadata": {
        "id": "14cb_x5erkA6",
        "colab_type": "code",
        "colab": {
          "base_uri": "https://localhost:8080/",
          "height": 867
        },
        "outputId": "a6f8b39f-9cc6-44b6-d0c9-ed41089a753e"
      },
      "source": [
        "lr_10m = create_model(optim=SGD, lr=0.01).fit(X_train, y_train, epochs=25, batch_size=512, validation_data=(X_test, y_test))"
      ],
      "execution_count": 62,
      "outputs": [
        {
          "output_type": "stream",
          "text": [
            "Epoch 1/25\n",
            "157/157 [==============================] - 1s 3ms/step - loss: 68.5301 - accuracy: 0.1004 - val_loss: 2.3115 - val_accuracy: 0.0962\n",
            "Epoch 2/25\n",
            "157/157 [==============================] - 0s 3ms/step - loss: 2.4127 - accuracy: 0.1006 - val_loss: 2.3111 - val_accuracy: 0.0962\n",
            "Epoch 3/25\n",
            "157/157 [==============================] - 0s 3ms/step - loss: 2.3060 - accuracy: 0.1010 - val_loss: 2.3111 - val_accuracy: 0.0962\n",
            "Epoch 4/25\n",
            "157/157 [==============================] - 0s 3ms/step - loss: 2.3045 - accuracy: 0.1010 - val_loss: 2.3110 - val_accuracy: 0.0962\n",
            "Epoch 5/25\n",
            "157/157 [==============================] - 0s 3ms/step - loss: 2.3040 - accuracy: 0.1010 - val_loss: 2.3110 - val_accuracy: 0.0962\n",
            "Epoch 6/25\n",
            "157/157 [==============================] - 0s 3ms/step - loss: 2.3030 - accuracy: 0.1010 - val_loss: 2.3110 - val_accuracy: 0.0962\n",
            "Epoch 7/25\n",
            "157/157 [==============================] - 0s 3ms/step - loss: 2.3029 - accuracy: 0.1010 - val_loss: 2.3110 - val_accuracy: 0.0962\n",
            "Epoch 8/25\n",
            "157/157 [==============================] - 0s 3ms/step - loss: 2.3029 - accuracy: 0.1010 - val_loss: 2.3110 - val_accuracy: 0.0962\n",
            "Epoch 9/25\n",
            "157/157 [==============================] - 0s 3ms/step - loss: 2.3030 - accuracy: 0.1010 - val_loss: 2.3110 - val_accuracy: 0.0962\n",
            "Epoch 10/25\n",
            "157/157 [==============================] - 0s 3ms/step - loss: 2.3036 - accuracy: 0.1010 - val_loss: 2.3110 - val_accuracy: 0.0962\n",
            "Epoch 11/25\n",
            "157/157 [==============================] - 0s 3ms/step - loss: 2.3029 - accuracy: 0.1010 - val_loss: 2.3110 - val_accuracy: 0.0962\n",
            "Epoch 12/25\n",
            "157/157 [==============================] - 0s 3ms/step - loss: 2.3028 - accuracy: 0.1010 - val_loss: 2.3110 - val_accuracy: 0.0962\n",
            "Epoch 13/25\n",
            "157/157 [==============================] - 0s 3ms/step - loss: 2.3028 - accuracy: 0.1010 - val_loss: 2.3109 - val_accuracy: 0.0962\n",
            "Epoch 14/25\n",
            "157/157 [==============================] - 0s 3ms/step - loss: 2.3035 - accuracy: 0.1010 - val_loss: 2.3109 - val_accuracy: 0.0962\n",
            "Epoch 15/25\n",
            "157/157 [==============================] - 1s 3ms/step - loss: 2.3028 - accuracy: 0.1010 - val_loss: 2.3109 - val_accuracy: 0.0962\n",
            "Epoch 16/25\n",
            "157/157 [==============================] - 1s 3ms/step - loss: 2.3027 - accuracy: 0.1010 - val_loss: 2.3109 - val_accuracy: 0.0962\n",
            "Epoch 17/25\n",
            "157/157 [==============================] - 0s 3ms/step - loss: 2.3028 - accuracy: 0.1010 - val_loss: 2.3109 - val_accuracy: 0.0962\n",
            "Epoch 18/25\n",
            "157/157 [==============================] - 0s 3ms/step - loss: 2.3035 - accuracy: 0.1010 - val_loss: 2.3109 - val_accuracy: 0.0962\n",
            "Epoch 19/25\n",
            "157/157 [==============================] - 0s 3ms/step - loss: 2.3029 - accuracy: 0.1010 - val_loss: 2.3109 - val_accuracy: 0.0962\n",
            "Epoch 20/25\n",
            "157/157 [==============================] - 0s 3ms/step - loss: 2.3029 - accuracy: 0.1010 - val_loss: 2.3109 - val_accuracy: 0.0962\n",
            "Epoch 21/25\n",
            "157/157 [==============================] - 0s 3ms/step - loss: 2.3031 - accuracy: 0.1010 - val_loss: 2.3109 - val_accuracy: 0.0962\n",
            "Epoch 22/25\n",
            "157/157 [==============================] - 0s 3ms/step - loss: 2.3027 - accuracy: 0.1010 - val_loss: 2.3108 - val_accuracy: 0.0962\n",
            "Epoch 23/25\n",
            "157/157 [==============================] - 0s 3ms/step - loss: 2.3028 - accuracy: 0.1010 - val_loss: 2.3108 - val_accuracy: 0.0962\n",
            "Epoch 24/25\n",
            "157/157 [==============================] - 0s 3ms/step - loss: 2.3031 - accuracy: 0.1010 - val_loss: 2.3108 - val_accuracy: 0.0962\n",
            "Epoch 25/25\n",
            "157/157 [==============================] - 0s 3ms/step - loss: 2.3027 - accuracy: 0.1010 - val_loss: 2.3108 - val_accuracy: 0.0962\n"
          ],
          "name": "stdout"
        }
      ]
    },
    {
      "cell_type": "code",
      "metadata": {
        "id": "Oe7yX36hrvip",
        "colab_type": "code",
        "colab": {
          "base_uri": "https://localhost:8080/",
          "height": 867
        },
        "outputId": "8347c432-6ad3-4a29-8287-7babdc996cba"
      },
      "source": [
        "lr_100m = create_model(optim=SGD, lr=0.1).fit(X_train, y_train, epochs=25, batch_size=512, validation_data=(X_test, y_test))"
      ],
      "execution_count": 63,
      "outputs": [
        {
          "output_type": "stream",
          "text": [
            "Epoch 1/25\n",
            "157/157 [==============================] - 1s 3ms/step - loss: 54497.2539 - accuracy: 0.0991 - val_loss: 2.3303 - val_accuracy: 0.0962\n",
            "Epoch 2/25\n",
            "157/157 [==============================] - 0s 3ms/step - loss: 2.3041 - accuracy: 0.1004 - val_loss: 2.3303 - val_accuracy: 0.0962\n",
            "Epoch 3/25\n",
            "157/157 [==============================] - 0s 3ms/step - loss: 2.3031 - accuracy: 0.0996 - val_loss: 2.3304 - val_accuracy: 0.0962\n",
            "Epoch 4/25\n",
            "157/157 [==============================] - 0s 3ms/step - loss: 2.3026 - accuracy: 0.0986 - val_loss: 2.3304 - val_accuracy: 0.0979\n",
            "Epoch 5/25\n",
            "157/157 [==============================] - 0s 3ms/step - loss: 2.3026 - accuracy: 0.0988 - val_loss: 2.3304 - val_accuracy: 0.0992\n",
            "Epoch 6/25\n",
            "157/157 [==============================] - 0s 3ms/step - loss: 2.3026 - accuracy: 0.0995 - val_loss: 2.3304 - val_accuracy: 0.0975\n",
            "Epoch 7/25\n",
            "157/157 [==============================] - 0s 3ms/step - loss: 2.3026 - accuracy: 0.0977 - val_loss: 2.3303 - val_accuracy: 0.0996\n",
            "Epoch 8/25\n",
            "157/157 [==============================] - 0s 3ms/step - loss: 2.3026 - accuracy: 0.1001 - val_loss: 2.3304 - val_accuracy: 0.0962\n",
            "Epoch 9/25\n",
            "157/157 [==============================] - 0s 3ms/step - loss: 2.3026 - accuracy: 0.0995 - val_loss: 2.3304 - val_accuracy: 0.0975\n",
            "Epoch 10/25\n",
            "157/157 [==============================] - 0s 3ms/step - loss: 2.3026 - accuracy: 0.0992 - val_loss: 2.3304 - val_accuracy: 0.0979\n",
            "Epoch 11/25\n",
            "157/157 [==============================] - 1s 3ms/step - loss: 2.3026 - accuracy: 0.1005 - val_loss: 2.3305 - val_accuracy: 0.0962\n",
            "Epoch 12/25\n",
            "157/157 [==============================] - 0s 3ms/step - loss: 2.3026 - accuracy: 0.0991 - val_loss: 2.3305 - val_accuracy: 0.0962\n",
            "Epoch 13/25\n",
            "157/157 [==============================] - 0s 3ms/step - loss: 2.3026 - accuracy: 0.1011 - val_loss: 2.3304 - val_accuracy: 0.0975\n",
            "Epoch 14/25\n",
            "157/157 [==============================] - 0s 3ms/step - loss: 2.3026 - accuracy: 0.0998 - val_loss: 2.3303 - val_accuracy: 0.0992\n",
            "Epoch 15/25\n",
            "157/157 [==============================] - 0s 3ms/step - loss: 2.3026 - accuracy: 0.0999 - val_loss: 2.3303 - val_accuracy: 0.0975\n",
            "Epoch 16/25\n",
            "157/157 [==============================] - 0s 3ms/step - loss: 2.3026 - accuracy: 0.0990 - val_loss: 2.3304 - val_accuracy: 0.0962\n",
            "Epoch 17/25\n",
            "157/157 [==============================] - 0s 3ms/step - loss: 2.3026 - accuracy: 0.0984 - val_loss: 2.3304 - val_accuracy: 0.0962\n",
            "Epoch 18/25\n",
            "157/157 [==============================] - 0s 3ms/step - loss: 2.3026 - accuracy: 0.0998 - val_loss: 2.3304 - val_accuracy: 0.0962\n",
            "Epoch 19/25\n",
            "157/157 [==============================] - 0s 3ms/step - loss: 2.3026 - accuracy: 0.0990 - val_loss: 2.3304 - val_accuracy: 0.0975\n",
            "Epoch 20/25\n",
            "157/157 [==============================] - 0s 3ms/step - loss: 2.3026 - accuracy: 0.0990 - val_loss: 2.3304 - val_accuracy: 0.0975\n",
            "Epoch 21/25\n",
            "157/157 [==============================] - 0s 3ms/step - loss: 2.3026 - accuracy: 0.0989 - val_loss: 2.3304 - val_accuracy: 0.0979\n",
            "Epoch 22/25\n",
            "157/157 [==============================] - 0s 3ms/step - loss: 2.3026 - accuracy: 0.0989 - val_loss: 2.3304 - val_accuracy: 0.0962\n",
            "Epoch 23/25\n",
            "157/157 [==============================] - 0s 3ms/step - loss: 2.3026 - accuracy: 0.0987 - val_loss: 2.3304 - val_accuracy: 0.0962\n",
            "Epoch 24/25\n",
            "157/157 [==============================] - 0s 3ms/step - loss: 2.3026 - accuracy: 0.0999 - val_loss: 2.3303 - val_accuracy: 0.0962\n",
            "Epoch 25/25\n",
            "157/157 [==============================] - 0s 3ms/step - loss: 2.3026 - accuracy: 0.0989 - val_loss: 2.3303 - val_accuracy: 0.0979\n"
          ],
          "name": "stdout"
        }
      ]
    },
    {
      "cell_type": "code",
      "metadata": {
        "id": "lRjf78gdr8MC",
        "colab_type": "code",
        "colab": {
          "base_uri": "https://localhost:8080/",
          "height": 887
        },
        "outputId": "a7b7dfab-11e6-4e9e-863b-034e119ec7ca"
      },
      "source": [
        "lr_1 = create_model(optim=SGD, lr=1).fit(X_train, y_train, epochs=25, batch_size=512, validation_data=(X_test, y_test))"
      ],
      "execution_count": 64,
      "outputs": [
        {
          "output_type": "stream",
          "text": [
            "Epoch 1/25\n",
            "157/157 [==============================] - 1s 4ms/step - loss: 7308747735040.0000 - accuracy: 0.0991 - val_loss: 2.3032 - val_accuracy: 0.0985\n",
            "Epoch 2/25\n",
            "157/157 [==============================] - 0s 3ms/step - loss: 2.3031 - accuracy: 0.1001 - val_loss: 2.3031 - val_accuracy: 0.1011\n",
            "Epoch 3/25\n",
            "157/157 [==============================] - 0s 3ms/step - loss: 2.3031 - accuracy: 0.0997 - val_loss: 2.3029 - val_accuracy: 0.0962\n",
            "Epoch 4/25\n",
            "157/157 [==============================] - 0s 3ms/step - loss: 2.3030 - accuracy: 0.0983 - val_loss: 2.3037 - val_accuracy: 0.0979\n",
            "Epoch 5/25\n",
            "157/157 [==============================] - 0s 3ms/step - loss: 2.3031 - accuracy: 0.0995 - val_loss: 2.3030 - val_accuracy: 0.0991\n",
            "Epoch 6/25\n",
            "157/157 [==============================] - 0s 3ms/step - loss: 2.3031 - accuracy: 0.0997 - val_loss: 2.3031 - val_accuracy: 0.0991\n",
            "Epoch 7/25\n",
            "157/157 [==============================] - 0s 3ms/step - loss: 2.3030 - accuracy: 0.0988 - val_loss: 2.3037 - val_accuracy: 0.0985\n",
            "Epoch 8/25\n",
            "157/157 [==============================] - 0s 3ms/step - loss: 2.3032 - accuracy: 0.0988 - val_loss: 2.3032 - val_accuracy: 0.0979\n",
            "Epoch 9/25\n",
            "157/157 [==============================] - 0s 3ms/step - loss: 2.3031 - accuracy: 0.0988 - val_loss: 2.3037 - val_accuracy: 0.0985\n",
            "Epoch 10/25\n",
            "157/157 [==============================] - 0s 3ms/step - loss: 2.3031 - accuracy: 0.0994 - val_loss: 2.3029 - val_accuracy: 0.1011\n",
            "Epoch 11/25\n",
            "157/157 [==============================] - 0s 3ms/step - loss: 2.3031 - accuracy: 0.0993 - val_loss: 2.3027 - val_accuracy: 0.1034\n",
            "Epoch 12/25\n",
            "157/157 [==============================] - 0s 3ms/step - loss: 2.3031 - accuracy: 0.0990 - val_loss: 2.3033 - val_accuracy: 0.1011\n",
            "Epoch 13/25\n",
            "157/157 [==============================] - 0s 3ms/step - loss: 2.3031 - accuracy: 0.1004 - val_loss: 2.3038 - val_accuracy: 0.1034\n",
            "Epoch 14/25\n",
            "157/157 [==============================] - 0s 3ms/step - loss: 2.3031 - accuracy: 0.0996 - val_loss: 2.3034 - val_accuracy: 0.1011\n",
            "Epoch 15/25\n",
            "157/157 [==============================] - 0s 3ms/step - loss: 2.3031 - accuracy: 0.0977 - val_loss: 2.3037 - val_accuracy: 0.0979\n",
            "Epoch 16/25\n",
            "157/157 [==============================] - 0s 3ms/step - loss: 2.3031 - accuracy: 0.1020 - val_loss: 2.3025 - val_accuracy: 0.1050\n",
            "Epoch 17/25\n",
            "157/157 [==============================] - 0s 3ms/step - loss: 2.3031 - accuracy: 0.0997 - val_loss: 2.3027 - val_accuracy: 0.0979\n",
            "Epoch 18/25\n",
            "157/157 [==============================] - 0s 3ms/step - loss: 2.3032 - accuracy: 0.0978 - val_loss: 2.3033 - val_accuracy: 0.0996\n",
            "Epoch 19/25\n",
            "157/157 [==============================] - 0s 3ms/step - loss: 2.3031 - accuracy: 0.0978 - val_loss: 2.3036 - val_accuracy: 0.1034\n",
            "Epoch 20/25\n",
            "157/157 [==============================] - 0s 3ms/step - loss: 2.3031 - accuracy: 0.0998 - val_loss: 2.3034 - val_accuracy: 0.1016\n",
            "Epoch 21/25\n",
            "157/157 [==============================] - 0s 3ms/step - loss: 2.3031 - accuracy: 0.0996 - val_loss: 2.3026 - val_accuracy: 0.1050\n",
            "Epoch 22/25\n",
            "157/157 [==============================] - 0s 3ms/step - loss: 2.3030 - accuracy: 0.0999 - val_loss: 2.3033 - val_accuracy: 0.0996\n",
            "Epoch 23/25\n",
            "157/157 [==============================] - 0s 3ms/step - loss: 2.3031 - accuracy: 0.1006 - val_loss: 2.3040 - val_accuracy: 0.0991\n",
            "Epoch 24/25\n",
            "157/157 [==============================] - 0s 3ms/step - loss: 2.3031 - accuracy: 0.0996 - val_loss: 2.3028 - val_accuracy: 0.1050\n",
            "Epoch 25/25\n",
            "157/157 [==============================] - 0s 3ms/step - loss: 2.3030 - accuracy: 0.1007 - val_loss: 2.3043 - val_accuracy: 0.0975\n"
          ],
          "name": "stdout"
        }
      ]
    },
    {
      "cell_type": "code",
      "metadata": {
        "id": "cyijUGlM3sIg",
        "colab_type": "code",
        "colab": {
          "base_uri": "https://localhost:8080/",
          "height": 350
        },
        "outputId": "347c92a0-0a02-4628-c48f-477c6e74dbef"
      },
      "source": [
        "nn_plot(\"Learning Rate\", [lr_100u, lr_1m, lr_10m, lr_100m, lr_1], ['lr_100u', 'lr_1m', 'lr_10m', 'lr_100m', 'lr_1'])"
      ],
      "execution_count": 119,
      "outputs": [
        {
          "output_type": "display_data",
          "data": {
            "image/png": "[encoded data removed]",
            "text/plain": [
              "<Figure size 1152x360 with 2 Axes>"
            ]
          },
          "metadata": {
            "tags": [],
            "needs_background": "light"
          }
        }
      ]
    },
    {
      "cell_type": "markdown",
      "metadata": {
        "id": "gxMtSRhV9Q7I",
        "colab_type": "text"
      },
      "source": [
        "### Experiment with different Optimizers\n",
        "* Run 5 experiments with various optimizers available in TensorFlow. See list [here](https://www.tensorflow.org/api_docs/python/tf/keras/optimizers)\n",
        "* Visualize the results\n",
        "* Write up an analysis of the experiments and select the \"best\" performing model among your experiments. Make sure to compare against the previous experiments and your model's performance yesterday.\n",
        "* Repeat the experiment combining Learning Rate and different optimizers. Does the best performing model change? "
      ]
    },
    {
      "cell_type": "code",
      "metadata": {
        "id": "m5ALBC2k568m",
        "colab_type": "code",
        "colab": {}
      },
      "source": [
        "from tensorflow.keras.optimizers import *"
      ],
      "execution_count": 121,
      "outputs": []
    },
    {
      "cell_type": "code",
      "metadata": {
        "id": "ujLuzdNA91ip",
        "colab_type": "code",
        "colab": {
          "base_uri": "https://localhost:8080/",
          "height": 1000
        },
        "outputId": "3cea9841-a13d-4296-cd5f-f394792d3426"
      },
      "source": [
        "d={}\n",
        "for i, m in enumerate([Adadelta, Adagrad, Adam, Ftrl, SGD]):\n",
        "  d[f\"model{i}\"] = create_model(optim=m, lr=.001).fit(X_train, y_train, epochs=25, batch_size=512, validation_data=(X_test, y_test))"
      ],
      "execution_count": 123,
      "outputs": [
        {
          "output_type": "stream",
          "text": [
            "Epoch 1/25\n",
            "157/157 [==============================] - 1s 4ms/step - loss: 127.9763 - accuracy: 0.0812 - val_loss: 122.2707 - val_accuracy: 0.0843\n",
            "Epoch 2/25\n",
            "157/157 [==============================] - 0s 3ms/step - loss: 117.6754 - accuracy: 0.0834 - val_loss: 112.6564 - val_accuracy: 0.0862\n",
            "Epoch 3/25\n",
            "157/157 [==============================] - 0s 3ms/step - loss: 108.4356 - accuracy: 0.0869 - val_loss: 104.0927 - val_accuracy: 0.0886\n",
            "Epoch 4/25\n",
            "157/157 [==============================] - 0s 3ms/step - loss: 100.2184 - accuracy: 0.0903 - val_loss: 96.5147 - val_accuracy: 0.0928\n",
            "Epoch 5/25\n",
            "157/157 [==============================] - 0s 3ms/step - loss: 92.9312 - accuracy: 0.0934 - val_loss: 89.7993 - val_accuracy: 0.0956\n",
            "Epoch 6/25\n",
            "157/157 [==============================] - 0s 3ms/step - loss: 86.4591 - accuracy: 0.0967 - val_loss: 83.7889 - val_accuracy: 0.0992\n",
            "Epoch 7/25\n",
            "157/157 [==============================] - 0s 3ms/step - loss: 80.6277 - accuracy: 0.1007 - val_loss: 78.3231 - val_accuracy: 0.1028\n",
            "Epoch 8/25\n",
            "157/157 [==============================] - 0s 3ms/step - loss: 75.3061 - accuracy: 0.1042 - val_loss: 73.3094 - val_accuracy: 0.1057\n",
            "Epoch 9/25\n",
            "157/157 [==============================] - 0s 3ms/step - loss: 70.4182 - accuracy: 0.1076 - val_loss: 68.6914 - val_accuracy: 0.1083\n",
            "Epoch 10/25\n",
            "157/157 [==============================] - 0s 3ms/step - loss: 65.9229 - accuracy: 0.1099 - val_loss: 64.4077 - val_accuracy: 0.1116\n",
            "Epoch 11/25\n",
            "157/157 [==============================] - 0s 3ms/step - loss: 61.7712 - accuracy: 0.1125 - val_loss: 60.4124 - val_accuracy: 0.1144\n",
            "Epoch 12/25\n",
            "157/157 [==============================] - 0s 3ms/step - loss: 57.9407 - accuracy: 0.1154 - val_loss: 56.6879 - val_accuracy: 0.1174\n",
            "Epoch 13/25\n",
            "157/157 [==============================] - 0s 3ms/step - loss: 54.3716 - accuracy: 0.1186 - val_loss: 53.2079 - val_accuracy: 0.1199\n",
            "Epoch 14/25\n",
            "157/157 [==============================] - 0s 3ms/step - loss: 51.0276 - accuracy: 0.1213 - val_loss: 49.9477 - val_accuracy: 0.1244\n",
            "Epoch 15/25\n",
            "157/157 [==============================] - 0s 3ms/step - loss: 47.9020 - accuracy: 0.1236 - val_loss: 46.8896 - val_accuracy: 0.1270\n",
            "Epoch 16/25\n",
            "157/157 [==============================] - 0s 3ms/step - loss: 44.9712 - accuracy: 0.1254 - val_loss: 44.0191 - val_accuracy: 0.1295\n",
            "Epoch 17/25\n",
            "157/157 [==============================] - 0s 3ms/step - loss: 42.2154 - accuracy: 0.1270 - val_loss: 41.3124 - val_accuracy: 0.1311\n",
            "Epoch 18/25\n",
            "157/157 [==============================] - 0s 3ms/step - loss: 39.6164 - accuracy: 0.1291 - val_loss: 38.7507 - val_accuracy: 0.1334\n",
            "Epoch 19/25\n",
            "157/157 [==============================] - 0s 3ms/step - loss: 37.1558 - accuracy: 0.1305 - val_loss: 36.3256 - val_accuracy: 0.1345\n",
            "Epoch 20/25\n",
            "157/157 [==============================] - 0s 3ms/step - loss: 34.8331 - accuracy: 0.1317 - val_loss: 34.0395 - val_accuracy: 0.1364\n",
            "Epoch 21/25\n",
            "157/157 [==============================] - 0s 3ms/step - loss: 32.6239 - accuracy: 0.1336 - val_loss: 31.8662 - val_accuracy: 0.1350\n",
            "Epoch 22/25\n",
            "157/157 [==============================] - 0s 3ms/step - loss: 30.5169 - accuracy: 0.1353 - val_loss: 29.7868 - val_accuracy: 0.1370\n",
            "Epoch 23/25\n",
            "157/157 [==============================] - 0s 3ms/step - loss: 28.5010 - accuracy: 0.1367 - val_loss: 27.7993 - val_accuracy: 0.1381\n",
            "Epoch 24/25\n",
            "157/157 [==============================] - 0s 3ms/step - loss: 26.5758 - accuracy: 0.1375 - val_loss: 25.9003 - val_accuracy: 0.1388\n",
            "Epoch 25/25\n",
            "157/157 [==============================] - 0s 3ms/step - loss: 24.7297 - accuracy: 0.1380 - val_loss: 24.0889 - val_accuracy: 0.1387\n",
            "Epoch 1/25\n",
            "157/157 [==============================] - 1s 3ms/step - loss: 18.6563 - accuracy: 0.3035 - val_loss: 5.9619 - val_accuracy: 0.3138\n",
            "Epoch 2/25\n",
            "157/157 [==============================] - 0s 3ms/step - loss: 4.0387 - accuracy: 0.3018 - val_loss: 3.1335 - val_accuracy: 0.2891\n",
            "Epoch 3/25\n",
            "157/157 [==============================] - 1s 3ms/step - loss: 2.7559 - accuracy: 0.2833 - val_loss: 2.5798 - val_accuracy: 0.2743\n",
            "Epoch 4/25\n",
            "157/157 [==============================] - 1s 3ms/step - loss: 2.4114 - accuracy: 0.2856 - val_loss: 2.3627 - val_accuracy: 0.2883\n",
            "Epoch 5/25\n",
            "157/157 [==============================] - 1s 3ms/step - loss: 2.2587 - accuracy: 0.2905 - val_loss: 2.2526 - val_accuracy: 0.2911\n",
            "Epoch 6/25\n",
            "157/157 [==============================] - 1s 4ms/step - loss: 2.1741 - accuracy: 0.2945 - val_loss: 2.1828 - val_accuracy: 0.2960\n",
            "Epoch 7/25\n",
            "157/157 [==============================] - 1s 3ms/step - loss: 2.1185 - accuracy: 0.2991 - val_loss: 2.1326 - val_accuracy: 0.2995\n",
            "Epoch 8/25\n",
            "157/157 [==============================] - 1s 3ms/step - loss: 2.0768 - accuracy: 0.3032 - val_loss: 2.0947 - val_accuracy: 0.3049\n",
            "Epoch 9/25\n",
            "157/157 [==============================] - 1s 3ms/step - loss: 2.0438 - accuracy: 0.3078 - val_loss: 2.0634 - val_accuracy: 0.3083\n",
            "Epoch 10/25\n",
            "157/157 [==============================] - 1s 3ms/step - loss: 2.0160 - accuracy: 0.3129 - val_loss: 2.0380 - val_accuracy: 0.3133\n",
            "Epoch 11/25\n",
            "157/157 [==============================] - 1s 3ms/step - loss: 1.9925 - accuracy: 0.3180 - val_loss: 2.0160 - val_accuracy: 0.3176\n",
            "Epoch 12/25\n",
            "157/157 [==============================] - 1s 3ms/step - loss: 1.9718 - accuracy: 0.3215 - val_loss: 1.9967 - val_accuracy: 0.3216\n",
            "Epoch 13/25\n",
            "157/157 [==============================] - 1s 3ms/step - loss: 1.9528 - accuracy: 0.3262 - val_loss: 1.9794 - val_accuracy: 0.3248\n",
            "Epoch 14/25\n",
            "157/157 [==============================] - 1s 3ms/step - loss: 1.9354 - accuracy: 0.3299 - val_loss: 1.9632 - val_accuracy: 0.3292\n",
            "Epoch 15/25\n",
            "157/157 [==============================] - 1s 4ms/step - loss: 1.9190 - accuracy: 0.3350 - val_loss: 1.9484 - val_accuracy: 0.3323\n",
            "Epoch 16/25\n",
            "157/157 [==============================] - 1s 3ms/step - loss: 1.9039 - accuracy: 0.3388 - val_loss: 1.9343 - val_accuracy: 0.3356\n",
            "Epoch 17/25\n",
            "157/157 [==============================] - 1s 3ms/step - loss: 1.8895 - accuracy: 0.3422 - val_loss: 1.9209 - val_accuracy: 0.3378\n",
            "Epoch 18/25\n",
            "157/157 [==============================] - 0s 3ms/step - loss: 1.8752 - accuracy: 0.3469 - val_loss: 1.9068 - val_accuracy: 0.3426\n",
            "Epoch 19/25\n",
            "157/157 [==============================] - 1s 4ms/step - loss: 1.8614 - accuracy: 0.3506 - val_loss: 1.8933 - val_accuracy: 0.3458\n",
            "Epoch 20/25\n",
            "157/157 [==============================] - 1s 3ms/step - loss: 1.8479 - accuracy: 0.3541 - val_loss: 1.8800 - val_accuracy: 0.3501\n",
            "Epoch 21/25\n",
            "157/157 [==============================] - 1s 3ms/step - loss: 1.8346 - accuracy: 0.3601 - val_loss: 1.8668 - val_accuracy: 0.3573\n",
            "Epoch 22/25\n",
            "157/157 [==============================] - 1s 3ms/step - loss: 1.8212 - accuracy: 0.3707 - val_loss: 1.8524 - val_accuracy: 0.3681\n",
            "Epoch 23/25\n",
            "157/157 [==============================] - 1s 3ms/step - loss: 1.8074 - accuracy: 0.3779 - val_loss: 1.8374 - val_accuracy: 0.3742\n",
            "Epoch 24/25\n",
            "157/157 [==============================] - 1s 3ms/step - loss: 1.7936 - accuracy: 0.3845 - val_loss: 1.8236 - val_accuracy: 0.3791\n",
            "Epoch 25/25\n",
            "157/157 [==============================] - 1s 3ms/step - loss: 1.7802 - accuracy: 0.3901 - val_loss: 1.8099 - val_accuracy: 0.3857\n",
            "Epoch 1/25\n",
            "157/157 [==============================] - 1s 4ms/step - loss: 6.3420 - accuracy: 0.1846 - val_loss: 2.0838 - val_accuracy: 0.2315\n",
            "Epoch 2/25\n",
            "157/157 [==============================] - 1s 3ms/step - loss: 1.9768 - accuracy: 0.2779 - val_loss: 1.8400 - val_accuracy: 0.3441\n",
            "Epoch 3/25\n",
            "157/157 [==============================] - 0s 3ms/step - loss: 1.7185 - accuracy: 0.3999 - val_loss: 1.5919 - val_accuracy: 0.4541\n",
            "Epoch 4/25\n",
            "157/157 [==============================] - 1s 3ms/step - loss: 1.4785 - accuracy: 0.4891 - val_loss: 1.4218 - val_accuracy: 0.5096\n",
            "Epoch 5/25\n",
            "157/157 [==============================] - 1s 3ms/step - loss: 1.3434 - accuracy: 0.5301 - val_loss: 1.3317 - val_accuracy: 0.5495\n",
            "Epoch 6/25\n",
            "157/157 [==============================] - 1s 3ms/step - loss: 1.2544 - accuracy: 0.5641 - val_loss: 1.2605 - val_accuracy: 0.5745\n",
            "Epoch 7/25\n",
            "157/157 [==============================] - 0s 3ms/step - loss: 1.1888 - accuracy: 0.5946 - val_loss: 1.2170 - val_accuracy: 0.5980\n",
            "Epoch 8/25\n",
            "157/157 [==============================] - 0s 3ms/step - loss: 1.1320 - accuracy: 0.6187 - val_loss: 1.1503 - val_accuracy: 0.6301\n",
            "Epoch 9/25\n",
            "157/157 [==============================] - 0s 3ms/step - loss: 1.0798 - accuracy: 0.6418 - val_loss: 1.1196 - val_accuracy: 0.6382\n",
            "Epoch 10/25\n",
            "157/157 [==============================] - 0s 3ms/step - loss: 1.0353 - accuracy: 0.6591 - val_loss: 1.0753 - val_accuracy: 0.6605\n",
            "Epoch 11/25\n",
            "157/157 [==============================] - 0s 3ms/step - loss: 0.9904 - accuracy: 0.6782 - val_loss: 1.0356 - val_accuracy: 0.6739\n",
            "Epoch 12/25\n",
            "157/157 [==============================] - 0s 3ms/step - loss: 0.9517 - accuracy: 0.6934 - val_loss: 1.0027 - val_accuracy: 0.6959\n",
            "Epoch 13/25\n",
            "157/157 [==============================] - 0s 3ms/step - loss: 0.9186 - accuracy: 0.7052 - val_loss: 0.9861 - val_accuracy: 0.7106\n",
            "Epoch 14/25\n",
            "157/157 [==============================] - 0s 3ms/step - loss: 0.8938 - accuracy: 0.7166 - val_loss: 0.9541 - val_accuracy: 0.7190\n",
            "Epoch 15/25\n",
            "157/157 [==============================] - 0s 3ms/step - loss: 0.8682 - accuracy: 0.7284 - val_loss: 0.9367 - val_accuracy: 0.7190\n",
            "Epoch 16/25\n",
            "157/157 [==============================] - 1s 3ms/step - loss: 0.8485 - accuracy: 0.7369 - val_loss: 0.9154 - val_accuracy: 0.7304\n",
            "Epoch 17/25\n",
            "157/157 [==============================] - 0s 3ms/step - loss: 0.8300 - accuracy: 0.7439 - val_loss: 0.9051 - val_accuracy: 0.7366\n",
            "Epoch 18/25\n",
            "157/157 [==============================] - 0s 3ms/step - loss: 0.8126 - accuracy: 0.7488 - val_loss: 0.8811 - val_accuracy: 0.7404\n",
            "Epoch 19/25\n",
            "157/157 [==============================] - 0s 3ms/step - loss: 0.7965 - accuracy: 0.7542 - val_loss: 0.8755 - val_accuracy: 0.7456\n",
            "Epoch 20/25\n",
            "157/157 [==============================] - 0s 3ms/step - loss: 0.7858 - accuracy: 0.7579 - val_loss: 0.8720 - val_accuracy: 0.7462\n",
            "Epoch 21/25\n",
            "157/157 [==============================] - 0s 3ms/step - loss: 0.7744 - accuracy: 0.7607 - val_loss: 0.8561 - val_accuracy: 0.7491\n",
            "Epoch 22/25\n",
            "157/157 [==============================] - 0s 3ms/step - loss: 0.7644 - accuracy: 0.7634 - val_loss: 0.8419 - val_accuracy: 0.7527\n",
            "Epoch 23/25\n",
            "157/157 [==============================] - 0s 3ms/step - loss: 0.7540 - accuracy: 0.7674 - val_loss: 0.8310 - val_accuracy: 0.7527\n",
            "Epoch 24/25\n",
            "157/157 [==============================] - 0s 3ms/step - loss: 0.7455 - accuracy: 0.7706 - val_loss: 0.8224 - val_accuracy: 0.7592\n",
            "Epoch 25/25\n",
            "157/157 [==============================] - 0s 3ms/step - loss: 0.7382 - accuracy: 0.7720 - val_loss: 0.8121 - val_accuracy: 0.7598\n",
            "Epoch 1/25\n",
            "157/157 [==============================] - 1s 4ms/step - loss: 10.4036 - accuracy: 0.3084 - val_loss: 4.5231 - val_accuracy: 0.3747\n",
            "Epoch 2/25\n",
            "157/157 [==============================] - 0s 3ms/step - loss: 3.5203 - accuracy: 0.4044 - val_loss: 2.9664 - val_accuracy: 0.4169\n",
            "Epoch 3/25\n",
            "157/157 [==============================] - 1s 3ms/step - loss: 2.5741 - accuracy: 0.4367 - val_loss: 2.3894 - val_accuracy: 0.4428\n",
            "Epoch 4/25\n",
            "157/157 [==============================] - 0s 3ms/step - loss: 2.1751 - accuracy: 0.4584 - val_loss: 2.1037 - val_accuracy: 0.4623\n",
            "Epoch 5/25\n",
            "157/157 [==============================] - 0s 3ms/step - loss: 1.9549 - accuracy: 0.4749 - val_loss: 1.9306 - val_accuracy: 0.4733\n",
            "Epoch 6/25\n",
            "157/157 [==============================] - 0s 3ms/step - loss: 1.8146 - accuracy: 0.4894 - val_loss: 1.8150 - val_accuracy: 0.4890\n",
            "Epoch 7/25\n",
            "157/157 [==============================] - 0s 3ms/step - loss: 1.7177 - accuracy: 0.5022 - val_loss: 1.7303 - val_accuracy: 0.5010\n",
            "Epoch 8/25\n",
            "157/157 [==============================] - 0s 3ms/step - loss: 1.6443 - accuracy: 0.5145 - val_loss: 1.6667 - val_accuracy: 0.5134\n",
            "Epoch 9/25\n",
            "157/157 [==============================] - 0s 3ms/step - loss: 1.5854 - accuracy: 0.5290 - val_loss: 1.6138 - val_accuracy: 0.5259\n",
            "Epoch 10/25\n",
            "157/157 [==============================] - 0s 3ms/step - loss: 1.5370 - accuracy: 0.5448 - val_loss: 1.5692 - val_accuracy: 0.5511\n",
            "Epoch 11/25\n",
            "157/157 [==============================] - 0s 3ms/step - loss: 1.4955 - accuracy: 0.5665 - val_loss: 1.5315 - val_accuracy: 0.5604\n",
            "Epoch 12/25\n",
            "157/157 [==============================] - 0s 3ms/step - loss: 1.4599 - accuracy: 0.5755 - val_loss: 1.4982 - val_accuracy: 0.5671\n",
            "Epoch 13/25\n",
            "157/157 [==============================] - 0s 3ms/step - loss: 1.4284 - accuracy: 0.5828 - val_loss: 1.4711 - val_accuracy: 0.5739\n",
            "Epoch 14/25\n",
            "157/157 [==============================] - 0s 3ms/step - loss: 1.4004 - accuracy: 0.5900 - val_loss: 1.4460 - val_accuracy: 0.5819\n",
            "Epoch 15/25\n",
            "157/157 [==============================] - 0s 3ms/step - loss: 1.3753 - accuracy: 0.5973 - val_loss: 1.4238 - val_accuracy: 0.5874\n",
            "Epoch 16/25\n",
            "157/157 [==============================] - 0s 3ms/step - loss: 1.3525 - accuracy: 0.6040 - val_loss: 1.4028 - val_accuracy: 0.5915\n",
            "Epoch 17/25\n",
            "157/157 [==============================] - 1s 3ms/step - loss: 1.3316 - accuracy: 0.6095 - val_loss: 1.3843 - val_accuracy: 0.5969\n",
            "Epoch 18/25\n",
            "157/157 [==============================] - 1s 3ms/step - loss: 1.3123 - accuracy: 0.6143 - val_loss: 1.3658 - val_accuracy: 0.5997\n",
            "Epoch 19/25\n",
            "157/157 [==============================] - 1s 3ms/step - loss: 1.2943 - accuracy: 0.6186 - val_loss: 1.3494 - val_accuracy: 0.6048\n",
            "Epoch 20/25\n",
            "157/157 [==============================] - 1s 3ms/step - loss: 1.2775 - accuracy: 0.6232 - val_loss: 1.3336 - val_accuracy: 0.6109\n",
            "Epoch 21/25\n",
            "157/157 [==============================] - 1s 3ms/step - loss: 1.2620 - accuracy: 0.6278 - val_loss: 1.3190 - val_accuracy: 0.6145\n",
            "Epoch 22/25\n",
            "157/157 [==============================] - 0s 3ms/step - loss: 1.2474 - accuracy: 0.6319 - val_loss: 1.3053 - val_accuracy: 0.6184\n",
            "Epoch 23/25\n",
            "157/157 [==============================] - 0s 3ms/step - loss: 1.2336 - accuracy: 0.6357 - val_loss: 1.2923 - val_accuracy: 0.6211\n",
            "Epoch 24/25\n",
            "157/157 [==============================] - 0s 3ms/step - loss: 1.2206 - accuracy: 0.6383 - val_loss: 1.2806 - val_accuracy: 0.6258\n",
            "Epoch 25/25\n",
            "157/157 [==============================] - 0s 3ms/step - loss: 1.2084 - accuracy: 0.6418 - val_loss: 1.2679 - val_accuracy: 0.6274\n",
            "Epoch 1/25\n",
            "157/157 [==============================] - 1s 3ms/step - loss: 5.0508 - accuracy: 0.2629 - val_loss: 2.1727 - val_accuracy: 0.2819\n",
            "Epoch 2/25\n",
            "157/157 [==============================] - 0s 3ms/step - loss: 2.0490 - accuracy: 0.3213 - val_loss: 1.9900 - val_accuracy: 0.3490\n",
            "Epoch 3/25\n",
            "157/157 [==============================] - 0s 3ms/step - loss: 1.8870 - accuracy: 0.3708 - val_loss: 1.8582 - val_accuracy: 0.3819\n",
            "Epoch 4/25\n",
            "157/157 [==============================] - 0s 3ms/step - loss: 1.7514 - accuracy: 0.3885 - val_loss: 1.7501 - val_accuracy: 0.3895\n",
            "Epoch 5/25\n",
            "157/157 [==============================] - 0s 3ms/step - loss: 1.6641 - accuracy: 0.4225 - val_loss: 1.6790 - val_accuracy: 0.4554\n",
            "Epoch 6/25\n",
            "157/157 [==============================] - 0s 3ms/step - loss: 1.6043 - accuracy: 0.4688 - val_loss: 1.6311 - val_accuracy: 0.4642\n",
            "Epoch 7/25\n",
            "157/157 [==============================] - 0s 3ms/step - loss: 1.5635 - accuracy: 0.4809 - val_loss: 1.5909 - val_accuracy: 0.4775\n",
            "Epoch 8/25\n",
            "157/157 [==============================] - 0s 3ms/step - loss: 1.5353 - accuracy: 0.4882 - val_loss: 1.5689 - val_accuracy: 0.4848\n",
            "Epoch 9/25\n",
            "157/157 [==============================] - 0s 3ms/step - loss: 1.5122 - accuracy: 0.4966 - val_loss: 1.5640 - val_accuracy: 0.4915\n",
            "Epoch 10/25\n",
            "157/157 [==============================] - 0s 3ms/step - loss: 1.4939 - accuracy: 0.5027 - val_loss: 1.5329 - val_accuracy: 0.4981\n",
            "Epoch 11/25\n",
            "157/157 [==============================] - 0s 3ms/step - loss: 1.4779 - accuracy: 0.5088 - val_loss: 1.5365 - val_accuracy: 0.5000\n",
            "Epoch 12/25\n",
            "157/157 [==============================] - 1s 3ms/step - loss: 1.4603 - accuracy: 0.5145 - val_loss: 1.5017 - val_accuracy: 0.4981\n",
            "Epoch 13/25\n",
            "157/157 [==============================] - 0s 3ms/step - loss: 1.4451 - accuracy: 0.5197 - val_loss: 1.4905 - val_accuracy: 0.5097\n",
            "Epoch 14/25\n",
            "157/157 [==============================] - 0s 3ms/step - loss: 1.4312 - accuracy: 0.5232 - val_loss: 1.4727 - val_accuracy: 0.5171\n",
            "Epoch 15/25\n",
            "157/157 [==============================] - 1s 3ms/step - loss: 1.4178 - accuracy: 0.5276 - val_loss: 1.4467 - val_accuracy: 0.5235\n",
            "Epoch 16/25\n",
            "157/157 [==============================] - 1s 3ms/step - loss: 1.4061 - accuracy: 0.5320 - val_loss: 1.4416 - val_accuracy: 0.5242\n",
            "Epoch 17/25\n",
            "157/157 [==============================] - 0s 3ms/step - loss: 1.3941 - accuracy: 0.5358 - val_loss: 1.4301 - val_accuracy: 0.5367\n",
            "Epoch 18/25\n",
            "157/157 [==============================] - 0s 3ms/step - loss: 1.3831 - accuracy: 0.5385 - val_loss: 1.4248 - val_accuracy: 0.5403\n",
            "Epoch 19/25\n",
            "157/157 [==============================] - 1s 3ms/step - loss: 1.3745 - accuracy: 0.5408 - val_loss: 1.4088 - val_accuracy: 0.5365\n",
            "Epoch 20/25\n",
            "157/157 [==============================] - 0s 3ms/step - loss: 1.3633 - accuracy: 0.5450 - val_loss: 1.4267 - val_accuracy: 0.5318\n",
            "Epoch 21/25\n",
            "157/157 [==============================] - 0s 3ms/step - loss: 1.3542 - accuracy: 0.5477 - val_loss: 1.3890 - val_accuracy: 0.5478\n",
            "Epoch 22/25\n",
            "157/157 [==============================] - 0s 3ms/step - loss: 1.3443 - accuracy: 0.5516 - val_loss: 1.3990 - val_accuracy: 0.5433\n",
            "Epoch 23/25\n",
            "157/157 [==============================] - 1s 3ms/step - loss: 1.3380 - accuracy: 0.5518 - val_loss: 1.3924 - val_accuracy: 0.5413\n",
            "Epoch 24/25\n",
            "157/157 [==============================] - 0s 3ms/step - loss: 1.3315 - accuracy: 0.5552 - val_loss: 1.3660 - val_accuracy: 0.5489\n",
            "Epoch 25/25\n",
            "157/157 [==============================] - 0s 3ms/step - loss: 1.3212 - accuracy: 0.5574 - val_loss: 1.3848 - val_accuracy: 0.5572\n"
          ],
          "name": "stdout"
        }
      ]
    },
    {
      "cell_type": "code",
      "metadata": {
        "id": "wINEpAV--iFs",
        "colab_type": "code",
        "colab": {
          "base_uri": "https://localhost:8080/",
          "height": 34
        },
        "outputId": "93f7aba0-966b-4566-d1a3-d6fce47cdb2f"
      },
      "source": [
        "d['model0']"
      ],
      "execution_count": 131,
      "outputs": [
        {
          "output_type": "execute_result",
          "data": {
            "text/plain": [
              "<tensorflow.python.keras.callbacks.History at 0x7f50356d0cc0>"
            ]
          },
          "metadata": {
            "tags": []
          },
          "execution_count": 131
        }
      ]
    },
    {
      "cell_type": "code",
      "metadata": {
        "id": "CVng1nb68JPW",
        "colab_type": "code",
        "colab": {
          "base_uri": "https://localhost:8080/",
          "height": 350
        },
        "outputId": "eb95a998-6cb2-4691-96e5-b8a7b2b10563"
      },
      "source": [
        "nn_plot(param=\"Optimizer\", fit_list=[d['model0'], d['model1'], d['model2'],d['model3'],d['model4']], val_list=['Adadelta', 'Adagrad', 'Adam', 'Ftrl', 'SGD'])"
      ],
      "execution_count": 132,
      "outputs": [
        {
          "output_type": "display_data",
          "data": {
            "image/png": "[encoded data removed]",
            "text/plain": [
              "<Figure size 1152x360 with 2 Axes>"
            ]
          },
          "metadata": {
            "tags": [],
            "needs_background": "light"
          }
        }
      ]
    },
    {
      "cell_type": "markdown",
      "metadata": {
        "id": "OINSUq9Y_F5b",
        "colab_type": "text"
      },
      "source": [
        "> *Seems like the entire X is divided into batches of size n and the NN is trained on each batch of n samples and W, b get's updated at the end of each batch of n. Once all batches in a training dataset are trained the epoch counter goes up and we create another set of batches randomly and exclusively (like Kfold) and retrain based on each of the new batches again. For stochastic GD, batch size is 1 and the accuracy of each update is low but number of updates are maximum, as the # of back propagation is maximum = \"one back-propagation for each batch of each epoch.\". That resuls in long computing time for each epoch. The training trend is very noise since the updates are done based on individual samples. \n",
        "In batch size GD, the number of batches is one and the size of the batch is equal to training set. Hence the epoch looks at the same entire training dataset repeatedly and make an update on every epoch run. Less noisy and minimum number of back propagation = one back-propagation per epoch. Hence runtime is faster per epoch. However need a large memory to process the entire dataset in one shot.*"
      ]
    },
    {
      "cell_type": "markdown",
      "metadata": {
        "id": "ydAqeY9S8uHA",
        "colab_type": "text"
      },
      "source": [
        "### Additional Written Tasks\n",
        "\n",
        "1. Describe the process of backpropagation in your own words: \n",
        "```\n",
        "Your answer goes here.\n",
        "```\n",
        "\n"
      ]
    },
    {
      "cell_type": "markdown",
      "metadata": {
        "colab_type": "text",
        "id": "FwlRJSfBlCvy"
      },
      "source": [
        "## Stretch Goals: \n",
        "\n",
        "- Implement GridSearch on anyone of the experiments\n",
        "- On the learning rate experiments, implement [EarlyStopping](https://www.tensorflow.org/api_docs/python/tf/keras/callbacks/EarlyStopping)\n",
        "- Review material on the math behind gradient descent: \n",
        "\n",
        "  - Gradient Descent\n",
        "    - Gradient Descent, Step-by-Step  by StatQuest w/ Josh Starmer. This will help you understand the gradient descent based optimization that happens underneath the hood of neural networks. It uses a non-neural network example, which I believe is a gentler introduction. You will hear me refer to this technique as \"vanilla\" gradient descent. \n",
        "    - Stochastic Gradient Descent, Clearly Explained!!! by StatQuest w/ Josh Starmer. This builds on the techniques in the previous video.  This technique is the one that is actually implemented inside modern 'nets. \n",
        "These are great resources to help you understand tomorrow's material at a deeper level. I highly recommend watching these ahead of tomorrow.\n",
        "\n",
        "  - Background Math\n",
        "    - Dot products and duality by 3Blue1Brown. Explains the core linear algebra operation happening in today's perceptron.\n",
        "The paradox of the derivative by 3Blue1Brown. Does a great job explaining a derivative. \n",
        "    - Visualizing the chain rule and product rule by 3Blue1Brown. Explains the black magic that happens within Stochastic Gradient Descent. \n",
        "These math resources are very much optional. They can be very heady, but I encourage you to explore. Your understanding of neural networks will greatly increase if you understand this math background.\n",
        "\n",
        "\n"
      ]
    }
  ]
}