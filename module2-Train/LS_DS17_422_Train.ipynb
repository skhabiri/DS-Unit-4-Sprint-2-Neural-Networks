{
 "cells": [
  {
   "cell_type": "markdown",
   "metadata": {
    "colab_type": "text",
    "id": "view-in-github"
   },
   "source": [
    "<a href=\"https://colab.research.google.com/github/skhabiri/DS-Unit-4-Sprint-2-Neural-Networks/blob/main/module2-Train/LS_DS17_422_Train.ipynb\" target=\"_parent\"><img src=\"https://colab.research.google.com/assets/colab-badge.svg\" alt=\"Open In Colab\"/></a>"
   ]
  },
  {
   "cell_type": "markdown",
   "metadata": {
    "colab_type": "text",
    "id": "aS4GZ37Wgcjr"
   },
   "source": [
    "Lambda School Data Science\n",
    "\n",
    "*Unit 4, Sprint 2, Module 2*\n",
    "\n",
    "---"
   ]
  },
  {
   "cell_type": "markdown",
   "metadata": {
    "colab_type": "text",
    "id": "etFf1WLWgcjt",
    "toc-hr-collapsed": false
   },
   "source": [
    "# Train (Prepare)\n",
    "__*Neural Network Foundations*__"
   ]
  },
  {
   "cell_type": "markdown",
   "metadata": {
    "colab_type": "text",
    "id": "hXB80QOhgcju"
   },
   "source": [
    "## Learning Objectives\n",
    "* <a href=\"#p1\">Part 1</a>: Student should be able to explain the intuition behind backpropagation and gradient descent\n",
    "* <a href=\"#p2\">Part 2</a>: Student should be able to discuss the importance of batch size\n",
    "* <a href=\"#p3\">Part 3</a>: Student should be able to discuss the importance of learning rate"
   ]
  },
  {
   "cell_type": "markdown",
   "metadata": {
    "colab_type": "text",
    "id": "8YuQu2lfgcju"
   },
   "source": [
    "## Summary of Yesterday\n",
    "\n",
    "Yesterday, we learned about some of the principal components of Neural Networks: Neurons, Weights, Activation Functions, and layers (input, output, & hidden). Today, we will reinforce our understanding of those components and introduce the mechanics of training a neural network. Feed-forward neural networks, such as multi-layer perceptrons (MLPs), are almost always trained using some variation of gradient descent where the gradient has been calculated by backpropagation.\n",
    "\n",
    "  <center><img src=\"https://raw.githubusercontent.com/LambdaSchool/DS-Unit-4-Sprint-2-Neural-Networks/main/module1-Architect/IMG_0167.jpeg\" width=400></center>\n",
    "\n",
    "- There are three kinds of layers: input, hidden, and output layers.\n",
    "- Each layer is made up of **n** individual neurons (aka activation units) which have a corresponding weight and bias.\n",
    "- Signal is passed from layer to layer through a network by:\n",
    " - Taking in inputs from the training data (or previous layer)\n",
    " - Multiplying each input by its corresponding weight (think arrow/connecting line)\n",
    " - Adding a bias to this weighted some of inputs and weights\n",
    " - Activating this weighted sum + bias by squishifying it with sigmoid or some other activation function. With a single perceptron with three inputs, calculating the output from the node is done like so:\n",
    "\\begin{align}\n",
    " y = sigmoid(\\sum(weight_{1}input_{1} + weight_{2}input_{2} + weight_{3}input_{3}) + bias)\n",
    "\\end{align}\n",
    " - this final activated value is the signal that gets passed onto the next layer of the network.\n",
    " "
   ]
  },
  {
   "cell_type": "markdown",
   "metadata": {
    "colab_type": "text",
    "id": "bpi4R03rgcjv"
   },
   "source": [
    "## Training a Neural Network: *Formal Summary*\n",
    "\n",
    "0. Pick a network architecture\n",
    "   - No. of input units = No. of features\n",
    "   - No. of output units = Number of Classes (or expected targets)\n",
    "   - Select the number of hidden layers and number of neurons within each hidden layer\n",
    "1. Randomly initialize weights\n",
    "2. Implement forward propagation to get $h_{\\theta}(x^{(i)})$ for any $x^{(i)}$\n",
    "3. Implement code to compute a cost function $J(\\theta)$\n",
    "4. Implement backpropagation to compute partial derivatives $\\frac{\\delta}{\\delta\\theta_{jk}^{l}}{J(\\theta)}$\n",
    "5. Use gradient descent (or other advanced optimizer) with backpropagation to minimize $J(\\theta)$ as a function of parameters $\\theta\\$\n",
    "6. Repeat steps 2 - 5 until cost function is 'minimized' or some other stopping criteria is met. One pass over steps 2 - 5 is called an iteration or epoch."
   ]
  },
  {
   "cell_type": "markdown",
   "metadata": {
    "colab_type": "text",
    "id": "aM4CK1IarId4",
    "toc-hr-collapsed": false
   },
   "source": [
    "# Backpropagation & Gradient Descent (Learn)\n",
    "<a id=\"p1\"></a>"
   ]
  },
  {
   "cell_type": "markdown",
   "metadata": {
    "colab_type": "text",
    "id": "Ktm8Fmoagcjy",
    "toc-hr-collapsed": true
   },
   "source": [
    "## Overview\n",
    "\n",
    "Backpropagation is short for [\"Backwards Propagation of errors\"](https://en.wikipedia.org/wiki/Backpropagation) and refers to a specific (rather calculus intensive) algorithm for how weights in a neural network are updated in reverse order at the end of each training epoch. Our purpose today is to demonstrate the backpropagation algorithm on a simple Feedforward Neural Network and in so doing help you get a grasp on the main process. If you want to understand all of the underlying calculus of how the gradients are calculated then you'll need to dive into it yourself, [3Blue1Brown's video is a great starting place](https://www.youtube.com/watch?v=tIeHLnjs5U8). I also highly recommend this Welch Labs series [Neural Networks Demystified](https://www.youtube.com/watch?v=bxe2T-V8XRs) if you want a rapid yet orderly walk through of the main intuitions and math behind the backpropagation algorithm. "
   ]
  },
  {
   "cell_type": "markdown",
   "metadata": {
    "colab_type": "text",
    "id": "NXI2tEO9gcjy"
   },
   "source": [
    "### What is a Gradient?\n",
    "\n",
    "> In vector calculus, the gradient is a multi-variable generalization of the derivative. \n",
    "\n",
    "The gradients that we will deal with today will be vector representations of the derivative of the activation function. "
   ]
  },
  {
   "cell_type": "markdown",
   "metadata": {
    "colab_type": "text",
    "id": "UZY66kiUgcjz",
    "toc-hr-collapsed": true
   },
   "source": [
    "## Follow Along\n",
    "\n",
    "In this section, we will again a simple neural network using base TensorFlow. We'll focus on using a __Feed Forward Neural Network__ to predict test scores. "
   ]
  },
  {
   "cell_type": "markdown",
   "metadata": {
    "colab_type": "text",
    "id": "Dm2HPETcrgy6",
    "toc-hr-collapsed": true
   },
   "source": [
    "<center><img src=\"https://raw.githubusercontent.com/LambdaSchool/DS-Unit-4-Sprint-2-Neural-Networks/main/module1-Architect/IMG_99C94113202D-1.jpeg\"width=500></center>"
   ]
  },
  {
   "cell_type": "markdown",
   "metadata": {
    "colab_type": "text",
    "id": "4d4tzpwO6B47"
   },
   "source": [
    "### Generate some Fake Data"
   ]
  },
  {
   "cell_type": "code",
   "execution_count": 2,
   "metadata": {
    "colab": {},
    "colab_type": "code",
    "id": "ERyVgeO_IWyV"
   },
   "outputs": [],
   "source": [
    "import tensorflow as tf\n",
    "\n",
    "# Imagine that our data is drawn from a linear function\n",
    "# y = 3.5*hours_studying + 50\n",
    "\n",
    "TRUE_W = 3.5\n",
    "TRUE_b = 50.0\n",
    "NUM_EXAMPLES = 1000\n",
    "\n",
    "# Default is mean=0 std=1, dtype=float32, a subclass of numpy array!\n",
    "inputs = tf.random.normal(shape=[NUM_EXAMPLES])\n",
    "noise = tf.random.normal(shape=[NUM_EXAMPLES])\n",
    "\n",
    "outputs = inputs * TRUE_W + TRUE_b + noise"
   ]
  },
  {
   "cell_type": "code",
   "execution_count": 3,
   "metadata": {
    "colab": {
     "base_uri": "https://localhost:8080/",
     "height": 34
    },
    "colab_type": "code",
    "id": "2MJaPSr1OMuj",
    "outputId": "e2894df8-2534-4fbf-ddf1-6a8ca3406a5a"
   },
   "outputs": [
    {
     "data": {
      "text/plain": [
       "tensorflow.python.framework.ops.EagerTensor"
      ]
     },
     "execution_count": 3,
     "metadata": {
      "tags": []
     },
     "output_type": "execute_result"
    }
   ],
   "source": [
    "type(inputs)"
   ]
  },
  {
   "cell_type": "code",
   "execution_count": 4,
   "metadata": {
    "colab": {
     "base_uri": "https://localhost:8080/",
     "height": 68
    },
    "colab_type": "code",
    "id": "2khtdq0uoI_P",
    "outputId": "0270cb95-5eb7-4831-c40b-967efd40f841"
   },
   "outputs": [
    {
     "data": {
      "text/plain": [
       "<tf.Tensor: shape=(5,), dtype=float32, numpy=\n",
       "array([ 0.7549111 , -0.28800866,  0.87909114,  0.79170066, -0.94794244],\n",
       "      dtype=float32)>"
      ]
     },
     "execution_count": 4,
     "metadata": {
      "tags": []
     },
     "output_type": "execute_result"
    }
   ],
   "source": [
    "inputs[:5]"
   ]
  },
  {
   "cell_type": "code",
   "execution_count": 5,
   "metadata": {
    "colab": {
     "base_uri": "https://localhost:8080/",
     "height": 68
    },
    "colab_type": "code",
    "id": "2sCoajXKoPmQ",
    "outputId": "c5edae47-89c6-4dbe-df76-bd956b09ba16"
   },
   "outputs": [
    {
     "data": {
      "text/plain": [
       "<tf.Tensor: shape=(5,), dtype=float32, numpy=\n",
       "array([-0.26388767, -1.5379759 , -0.57667124,  0.1533132 ,  1.396816  ],\n",
       "      dtype=float32)>"
      ]
     },
     "execution_count": 5,
     "metadata": {
      "tags": []
     },
     "output_type": "execute_result"
    }
   ],
   "source": [
    "noise[:5]"
   ]
  },
  {
   "cell_type": "code",
   "execution_count": 6,
   "metadata": {
    "colab": {
     "base_uri": "https://localhost:8080/",
     "height": 68
    },
    "colab_type": "code",
    "id": "rSCxwl_toRDS",
    "outputId": "a69cbb26-cd02-4c92-b3a3-cb526c3d068a"
   },
   "outputs": [
    {
     "data": {
      "text/plain": [
       "<tf.Tensor: shape=(5,), dtype=float32, numpy=\n",
       "array([52.3783  , 47.453995, 52.50015 , 52.924263, 48.079018],\n",
       "      dtype=float32)>"
      ]
     },
     "execution_count": 6,
     "metadata": {
      "tags": []
     },
     "output_type": "execute_result"
    }
   ],
   "source": [
    "outputs[:5]"
   ]
  },
  {
   "cell_type": "markdown",
   "metadata": {
    "colab_type": "text",
    "id": "bCJesGEUgcj4"
   },
   "source": [
    "### Loss Function\n",
    "Here we will use Mean Squared Error (MSE), because this is a regression problem. We are trying to predict a continuous target."
   ]
  },
  {
   "cell_type": "code",
   "execution_count": 7,
   "metadata": {
    "colab": {},
    "colab_type": "code",
    "id": "cDeUBW6k4Ri4"
   },
   "outputs": [],
   "source": [
    "def loss(target_y, predicted_y):\n",
    "  \"MSE\"\n",
    "  # Computes the mean of elements across dimensions of a tensor.\n",
    "  # Computes square of x element-wise.\n",
    "  return tf.reduce_mean(tf.square(target_y - predicted_y))"
   ]
  },
  {
   "cell_type": "markdown",
   "metadata": {
    "colab_type": "text",
    "id": "bgTf6vTS69Sw"
   },
   "source": [
    "### Neural Network Architecture\n",
    "Lets create a Neural Network class called \"Model\" to contain this functionality. Note: This is essentially a linear regression whose coefficients are trained by gradient descent. In practice, gradient descent works on much more complex function like the multi-layer networks we constructed yesterday."
   ]
  },
  {
   "cell_type": "code",
   "execution_count": 8,
   "metadata": {
    "colab": {
     "base_uri": "https://localhost:8080/",
     "height": 1000
    },
    "colab_type": "code",
    "id": "Cl8MpENgWM88",
    "outputId": "683fece6-c202-43df-dafc-487bdffd22a8"
   },
   "outputs": [
    {
     "data": {
      "text/plain": [
       "['AggregationMethod',\n",
       " 'Assert',\n",
       " 'CriticalSection',\n",
       " 'DType',\n",
       " 'DeviceSpec',\n",
       " 'GradientTape',\n",
       " 'Graph',\n",
       " 'IndexedSlices',\n",
       " 'IndexedSlicesSpec',\n",
       " 'Module',\n",
       " 'Operation',\n",
       " 'OptionalSpec',\n",
       " 'RaggedTensor',\n",
       " 'RaggedTensorSpec',\n",
       " 'RegisterGradient',\n",
       " 'SparseTensor',\n",
       " 'SparseTensorSpec',\n",
       " 'Tensor',\n",
       " 'TensorArray',\n",
       " 'TensorArraySpec',\n",
       " 'TensorShape',\n",
       " 'TensorSpec',\n",
       " 'TypeSpec',\n",
       " 'UnconnectedGradients',\n",
       " 'Variable',\n",
       " 'VariableAggregation',\n",
       " 'VariableSynchronization',\n",
       " '_API_MODULE',\n",
       " '_LazyLoader',\n",
       " '__all__',\n",
       " '__builtins__',\n",
       " '__cached__',\n",
       " '__compiler_version__',\n",
       " '__cxx11_abi_flag__',\n",
       " '__doc__',\n",
       " '__file__',\n",
       " '__git_version__',\n",
       " '__loader__',\n",
       " '__monolithic_build__',\n",
       " '__name__',\n",
       " '__operators__',\n",
       " '__package__',\n",
       " '__path__',\n",
       " '__spec__',\n",
       " '__version__',\n",
       " '_absolute_import',\n",
       " '_api',\n",
       " '_compat',\n",
       " '_current_file_location',\n",
       " '_current_module',\n",
       " '_distutils',\n",
       " '_division',\n",
       " '_estimator_module',\n",
       " '_fi',\n",
       " '_inspect',\n",
       " '_ll',\n",
       " '_logging',\n",
       " '_main_dir',\n",
       " '_major_api_version',\n",
       " '_module_dir',\n",
       " '_module_util',\n",
       " '_names_with_underscore',\n",
       " '_os',\n",
       " '_plugin_dir',\n",
       " '_print_function',\n",
       " '_running_from_pip_package',\n",
       " '_s',\n",
       " '_site',\n",
       " '_site_packages_dirs',\n",
       " '_six',\n",
       " '_sys',\n",
       " '_tf2',\n",
       " '_tf_api_dir',\n",
       " '_typing',\n",
       " 'abs',\n",
       " 'acos',\n",
       " 'acosh',\n",
       " 'add',\n",
       " 'add_n',\n",
       " 'argmax',\n",
       " 'argmin',\n",
       " 'argsort',\n",
       " 'as_dtype',\n",
       " 'as_string',\n",
       " 'asin',\n",
       " 'asinh',\n",
       " 'assert_equal',\n",
       " 'assert_greater',\n",
       " 'assert_less',\n",
       " 'assert_rank',\n",
       " 'atan',\n",
       " 'atan2',\n",
       " 'atanh',\n",
       " 'audio',\n",
       " 'autodiff',\n",
       " 'autograph',\n",
       " 'batch_to_space',\n",
       " 'bfloat16',\n",
       " 'bitcast',\n",
       " 'bitwise',\n",
       " 'bool',\n",
       " 'boolean_mask',\n",
       " 'broadcast_dynamic_shape',\n",
       " 'broadcast_static_shape',\n",
       " 'broadcast_to',\n",
       " 'case',\n",
       " 'cast',\n",
       " 'clip_by_global_norm',\n",
       " 'clip_by_norm',\n",
       " 'clip_by_value',\n",
       " 'compat',\n",
       " 'compiler',\n",
       " 'complex',\n",
       " 'complex128',\n",
       " 'complex64',\n",
       " 'concat',\n",
       " 'cond',\n",
       " 'config',\n",
       " 'constant',\n",
       " 'constant_initializer',\n",
       " 'control_dependencies',\n",
       " 'convert_to_tensor',\n",
       " 'core',\n",
       " 'cos',\n",
       " 'cosh',\n",
       " 'cumsum',\n",
       " 'custom_gradient',\n",
       " 'data',\n",
       " 'debugging',\n",
       " 'device',\n",
       " 'distribute',\n",
       " 'divide',\n",
       " 'double',\n",
       " 'dtypes',\n",
       " 'dynamic_partition',\n",
       " 'dynamic_stitch',\n",
       " 'edit_distance',\n",
       " 'eig',\n",
       " 'eigvals',\n",
       " 'einsum',\n",
       " 'ensure_shape',\n",
       " 'equal',\n",
       " 'errors',\n",
       " 'estimator',\n",
       " 'executing_eagerly',\n",
       " 'exp',\n",
       " 'expand_dims',\n",
       " 'experimental',\n",
       " 'extract_volume_patches',\n",
       " 'eye',\n",
       " 'feature_column',\n",
       " 'fill',\n",
       " 'fingerprint',\n",
       " 'float16',\n",
       " 'float32',\n",
       " 'float64',\n",
       " 'floor',\n",
       " 'foldl',\n",
       " 'foldr',\n",
       " 'function',\n",
       " 'gather',\n",
       " 'gather_nd',\n",
       " 'get_logger',\n",
       " 'get_static_value',\n",
       " 'grad_pass_through',\n",
       " 'gradients',\n",
       " 'graph_util',\n",
       " 'greater',\n",
       " 'greater_equal',\n",
       " 'group',\n",
       " 'guarantee_const',\n",
       " 'half',\n",
       " 'hessians',\n",
       " 'histogram_fixed_width',\n",
       " 'histogram_fixed_width_bins',\n",
       " 'identity',\n",
       " 'identity_n',\n",
       " 'image',\n",
       " 'import_graph_def',\n",
       " 'init_scope',\n",
       " 'initializers',\n",
       " 'int16',\n",
       " 'int32',\n",
       " 'int64',\n",
       " 'int8',\n",
       " 'io',\n",
       " 'is_tensor',\n",
       " 'keras',\n",
       " 'less',\n",
       " 'less_equal',\n",
       " 'linalg',\n",
       " 'linspace',\n",
       " 'lite',\n",
       " 'load_library',\n",
       " 'load_op_library',\n",
       " 'logical_and',\n",
       " 'logical_not',\n",
       " 'logical_or',\n",
       " 'lookup',\n",
       " 'losses',\n",
       " 'make_ndarray',\n",
       " 'make_tensor_proto',\n",
       " 'map_fn',\n",
       " 'math',\n",
       " 'matmul',\n",
       " 'matrix_square_root',\n",
       " 'maximum',\n",
       " 'meshgrid',\n",
       " 'metrics',\n",
       " 'minimum',\n",
       " 'mixed_precision',\n",
       " 'mlir',\n",
       " 'multiply',\n",
       " 'name_scope',\n",
       " 'negative',\n",
       " 'nest',\n",
       " 'newaxis',\n",
       " 'nn',\n",
       " 'no_gradient',\n",
       " 'no_op',\n",
       " 'nondifferentiable_batch_function',\n",
       " 'norm',\n",
       " 'not_equal',\n",
       " 'numpy_function',\n",
       " 'one_hot',\n",
       " 'ones',\n",
       " 'ones_initializer',\n",
       " 'ones_like',\n",
       " 'optimizers',\n",
       " 'pad',\n",
       " 'parallel_stack',\n",
       " 'pow',\n",
       " 'print',\n",
       " 'profiler',\n",
       " 'py_function',\n",
       " 'python',\n",
       " 'qint16',\n",
       " 'qint32',\n",
       " 'qint8',\n",
       " 'quantization',\n",
       " 'queue',\n",
       " 'quint16',\n",
       " 'quint8',\n",
       " 'ragged',\n",
       " 'random',\n",
       " 'random_normal_initializer',\n",
       " 'random_uniform_initializer',\n",
       " 'range',\n",
       " 'rank',\n",
       " 'raw_ops',\n",
       " 'realdiv',\n",
       " 'recompute_grad',\n",
       " 'reduce_all',\n",
       " 'reduce_any',\n",
       " 'reduce_logsumexp',\n",
       " 'reduce_max',\n",
       " 'reduce_mean',\n",
       " 'reduce_min',\n",
       " 'reduce_prod',\n",
       " 'reduce_sum',\n",
       " 'register_tensor_conversion_function',\n",
       " 'repeat',\n",
       " 'required_space_to_batch_paddings',\n",
       " 'reshape',\n",
       " 'resource',\n",
       " 'reverse',\n",
       " 'reverse_sequence',\n",
       " 'roll',\n",
       " 'round',\n",
       " 'saturate_cast',\n",
       " 'saved_model',\n",
       " 'scalar_mul',\n",
       " 'scan',\n",
       " 'scatter_nd',\n",
       " 'searchsorted',\n",
       " 'sequence_mask',\n",
       " 'sets',\n",
       " 'shape',\n",
       " 'shape_n',\n",
       " 'sigmoid',\n",
       " 'sign',\n",
       " 'signal',\n",
       " 'sin',\n",
       " 'sinh',\n",
       " 'size',\n",
       " 'slice',\n",
       " 'sort',\n",
       " 'space_to_batch',\n",
       " 'space_to_batch_nd',\n",
       " 'sparse',\n",
       " 'split',\n",
       " 'sqrt',\n",
       " 'square',\n",
       " 'squeeze',\n",
       " 'stack',\n",
       " 'stop_gradient',\n",
       " 'strided_slice',\n",
       " 'string',\n",
       " 'strings',\n",
       " 'subtract',\n",
       " 'summary',\n",
       " 'switch_case',\n",
       " 'sysconfig',\n",
       " 'tan',\n",
       " 'tanh',\n",
       " 'tensor_scatter_nd_add',\n",
       " 'tensor_scatter_nd_max',\n",
       " 'tensor_scatter_nd_min',\n",
       " 'tensor_scatter_nd_sub',\n",
       " 'tensor_scatter_nd_update',\n",
       " 'tensordot',\n",
       " 'test',\n",
       " 'tile',\n",
       " 'timestamp',\n",
       " 'tools',\n",
       " 'tpu',\n",
       " 'train',\n",
       " 'transpose',\n",
       " 'truediv',\n",
       " 'truncatediv',\n",
       " 'truncatemod',\n",
       " 'tuple',\n",
       " 'type_spec_from_value',\n",
       " 'uint16',\n",
       " 'uint32',\n",
       " 'uint64',\n",
       " 'uint8',\n",
       " 'unique',\n",
       " 'unique_with_counts',\n",
       " 'unravel_index',\n",
       " 'unstack',\n",
       " 'variable_creator_scope',\n",
       " 'variant',\n",
       " 'vectorized_map',\n",
       " 'version',\n",
       " 'where',\n",
       " 'while_loop',\n",
       " 'xla',\n",
       " 'zeros',\n",
       " 'zeros_initializer',\n",
       " 'zeros_like']"
      ]
     },
     "execution_count": 8,
     "metadata": {
      "tags": []
     },
     "output_type": "execute_result"
    }
   ],
   "source": [
    "dir(tf)"
   ]
  },
  {
   "cell_type": "code",
   "execution_count": 9,
   "metadata": {
    "colab": {
     "base_uri": "https://localhost:8080/",
     "height": 68
    },
    "colab_type": "code",
    "id": "GWN8tHfYV8JW",
    "outputId": "a60221b6-1500-4fac-c46a-adab5096cdc6"
   },
   "outputs": [
    {
     "data": {
      "text/plain": [
       "<tf.Tensor: shape=(2, 2), dtype=float32, numpy=\n",
       "array([[4., 5.],\n",
       "       [5., 6.]], dtype=float32)>"
      ]
     },
     "execution_count": 9,
     "metadata": {
      "tags": []
     },
     "output_type": "execute_result"
    }
   ],
   "source": [
    "# Experiment with tensor operator\n",
    "w = tf.Variable([[1.], [2.]])\n",
    "x = tf.constant([[3., 4.]])\n",
    "# tf.matmul(w, x)\n",
    "w+x"
   ]
  },
  {
   "cell_type": "code",
   "execution_count": 10,
   "metadata": {
    "colab": {},
    "colab_type": "code",
    "id": "RUI8VSR5zyBv"
   },
   "outputs": [],
   "source": [
    "class Model(object):\n",
    "\n",
    "  def __init__(self):\n",
    "    self.W = tf.Variable(8.0)\n",
    "    self.b = tf.Variable(40.0)\n",
    "\n",
    "  # So, the __init__ method is used when the class is called to initialize the instance, \n",
    "  # while the __call__ method allows the class's instance to be called as a function, and returns a value\n",
    "  def __call__(self, x):\n",
    "    return self.W * x + self.b\n",
    "\n",
    "model = Model()\n",
    "\n",
    "assert model(3.0).numpy() == 64.0"
   ]
  },
  {
   "cell_type": "code",
   "execution_count": 11,
   "metadata": {
    "colab": {
     "base_uri": "https://localhost:8080/",
     "height": 51
    },
    "colab_type": "code",
    "id": "bz7uJ-TZdztX",
    "outputId": "f1cacd93-a717-4788-fefa-1cb50d659902"
   },
   "outputs": [
    {
     "name": "stdout",
     "output_type": "stream",
     "text": [
      "<class '__main__.Model'>\n",
      "<class 'tensorflow.python.framework.ops.EagerTensor'>\n"
     ]
    }
   ],
   "source": [
    "print(type(model))\n",
    "# W and b are of type tensor\n",
    "print(type(model(3.0)))"
   ]
  },
  {
   "cell_type": "code",
   "execution_count": 12,
   "metadata": {
    "colab": {
     "base_uri": "https://localhost:8080/",
     "height": 34
    },
    "colab_type": "code",
    "id": "-HV0bKmXZ-aH",
    "outputId": "31923491-b501-4292-ac38-8f634e125be3"
   },
   "outputs": [
    {
     "data": {
      "text/plain": [
       "<tf.Tensor: shape=(), dtype=float32, numpy=64.0>"
      ]
     },
     "execution_count": 12,
     "metadata": {
      "tags": []
     },
     "output_type": "execute_result"
    }
   ],
   "source": [
    "model(3.0)"
   ]
  },
  {
   "cell_type": "code",
   "execution_count": 13,
   "metadata": {
    "colab": {
     "base_uri": "https://localhost:8080/",
     "height": 34
    },
    "colab_type": "code",
    "id": "uAci_dIjpCIu",
    "outputId": "efbb4622-6406-48e1-bc45-9b41a0c20a15"
   },
   "outputs": [
    {
     "data": {
      "text/plain": [
       "64.0"
      ]
     },
     "execution_count": 13,
     "metadata": {
      "tags": []
     },
     "output_type": "execute_result"
    }
   ],
   "source": [
    "model(3.0).numpy()"
   ]
  },
  {
   "cell_type": "markdown",
   "metadata": {
    "colab_type": "text",
    "id": "gbyT_FJ88IlK"
   },
   "source": [
    "### Initial Weights\n",
    "The initial weights in our model were arbitrary. In practice, weights are initialized randomly. "
   ]
  },
  {
   "cell_type": "code",
   "execution_count": 14,
   "metadata": {
    "colab": {
     "base_uri": "https://localhost:8080/",
     "height": 34
    },
    "colab_type": "code",
    "id": "gDmoHdTrgBRU",
    "outputId": "1d96dc1f-ecad-41ca-8ea3-b8ecc46aa277"
   },
   "outputs": [
    {
     "data": {
      "text/plain": [
       "<tf.Tensor: shape=(), dtype=float32, numpy=116.270515>"
      ]
     },
     "execution_count": 14,
     "metadata": {
      "tags": []
     },
     "output_type": "execute_result"
    }
   ],
   "source": [
    "loss(outputs, model(inputs))"
   ]
  },
  {
   "cell_type": "code",
   "execution_count": 15,
   "metadata": {
    "colab": {
     "base_uri": "https://localhost:8080/",
     "height": 286
    },
    "colab_type": "code",
    "id": "IreIDe6P8H0H",
    "outputId": "9e9da888-9394-4355-8735-fcfff291a02e"
   },
   "outputs": [
    {
     "data": {
      "image/png": "[encoded data removed]",
      "text/plain": [
       "<Figure size 432x288 with 1 Axes>"
      ]
     },
     "metadata": {
      "needs_background": "light",
      "tags": []
     },
     "output_type": "display_data"
    },
    {
     "name": "stdout",
     "output_type": "stream",
     "text": [
      "Current loss: 116.270515\n"
     ]
    }
   ],
   "source": [
    "import matplotlib.pyplot as plt\n",
    "\n",
    "# blue is the target\n",
    "plt.scatter(inputs, outputs, c='b')\n",
    "# red is the prediction. In fact red is the image of blue on the red line\n",
    "plt.scatter(inputs, model(inputs), c='r')\n",
    "plt.show()\n",
    "\n",
    "print('Current loss: %1.6f' % loss(outputs, model(inputs)).numpy())"
   ]
  },
  {
   "cell_type": "markdown",
   "metadata": {
    "colab_type": "text",
    "id": "16Ujj6vNYQyX",
    "toc-hr-collapsed": true
   },
   "source": [
    "### Update Weights Based on Gradient\n",
    "\n",
    "> *Assigning blame for bad predictions and delivering justice - repeatedly and a little bit at a time*\n",
    "\n",
    "You should also know that with neural networks it is common to have gradients that are not convex (like what we saw when we applied gradient descent to linear regression). \n",
    "\n",
    "Due to the high complexity of these models and their nonlinearity, it is common for gradient descent to get stuck in a local minimum, but there are ways to combat this:\n",
    "\n",
    "1) Stochastic Gradient Descent\n",
    "\n",
    "2) More advanced Gradient-Descent-based \"Optimizers\" - See Stretch Goals on assignment."
   ]
  },
  {
   "cell_type": "code",
   "execution_count": 16,
   "metadata": {
    "colab": {},
    "colab_type": "code",
    "id": "ZgaGD6YlHoid"
   },
   "outputs": [],
   "source": [
    " def train(model, inputs, outputs, learning_rate):\n",
    "  with tf.GradientTape() as t: \n",
    "    # recording :\n",
    "    current_loss = loss(outputs, model(inputs))\n",
    "  #takes the gradient of current_loss vs W and b, dw is actually d(Loss)/dW\n",
    "  dW, db = t.gradient(current_loss, [model.W, model.b])\n",
    "  # W = W - learning_rate * dW\n",
    "  model.W.assign_sub(learning_rate * dW)\n",
    "  model.b.assign_sub(learning_rate * db)\n",
    "  return current_loss"
   ]
  },
  {
   "cell_type": "markdown",
   "metadata": {
    "colab_type": "text",
    "id": "7iziWWURgck8"
   },
   "source": [
    "### Train the Network"
   ]
  },
  {
   "cell_type": "code",
   "execution_count": 17,
   "metadata": {
    "colab": {
     "base_uri": "https://localhost:8080/",
     "height": 187
    },
    "colab_type": "code",
    "id": "4zn_HgFuHhTr",
    "outputId": "3f338cc3-bc70-4ca2-8a9d-714796b67eab"
   },
   "outputs": [
    {
     "name": "stdout",
     "output_type": "stream",
     "text": [
      "Epoch  0: W=8.00 b=40.00 loss=116.27052\n",
      "Epoch  1: W=7.21 b=41.96 loss=76.01251\n",
      "Epoch  2: W=6.55 b=43.53 loss=49.82730\n",
      "Epoch  3: W=6.01 b=44.79 loss=32.79016\n",
      "Epoch  4: W=5.57 b=45.81 loss=21.70173\n",
      "Epoch  5: W=5.20 b=46.62 loss=14.48280\n",
      "Epoch  6: W=4.90 b=47.28 loss=9.78167\n",
      "Epoch  7: W=4.66 b=47.81 loss=6.71931\n",
      "Epoch  8: W=4.45 b=48.23 loss=4.72393\n",
      "Epoch  9: W=4.29 b=48.57 loss=3.42342\n"
     ]
    }
   ],
   "source": [
    "model = Model()\n",
    "\n",
    "# Store Some history of weights\n",
    "Ws, bs = [], []\n",
    "epochs = range(10)\n",
    "for epoch in epochs:\n",
    "  Ws.append(model.W.numpy())\n",
    "  bs.append(model.b.numpy())\n",
    "  # current_loss is the same as train return value\n",
    "  current_loss = loss(outputs, model(inputs))\n",
    "\n",
    "  train(model, inputs, outputs, learning_rate=0.1)\n",
    "  print('Epoch %2d: W=%1.2f b=%1.2f loss=%2.5f' % (epoch, Ws[-1], bs[-1], current_loss))"
   ]
  },
  {
   "cell_type": "code",
   "execution_count": 18,
   "metadata": {
    "colab": {
     "base_uri": "https://localhost:8080/",
     "height": 265
    },
    "colab_type": "code",
    "id": "FSEt07wdHvi2",
    "outputId": "98431028-d194-487a-ff17-77932552f0fe"
   },
   "outputs": [
    {
     "data": {
      "image/png": "[encoded data removed]",
      "text/plain": [
       "<Figure size 432x288 with 1 Axes>"
      ]
     },
     "metadata": {
      "needs_background": "light",
      "tags": []
     },
     "output_type": "display_data"
    }
   ],
   "source": [
    "import matplotlib.pyplot as plt\n",
    "\n",
    "plt.plot(epochs, Ws, 'r', epochs, bs, 'b')\n",
    "plt.plot([TRUE_W] * len(epochs), 'r--',\n",
    "         [TRUE_b] * len(epochs), 'b--')\n",
    "plt.legend(['W', 'b', 'True W', 'True b'])\n",
    "plt.show()"
   ]
  },
  {
   "cell_type": "markdown",
   "metadata": {
    "colab_type": "text",
    "id": "iKUVGoRxgck_"
   },
   "source": [
    "## Challenge\n",
    "\n",
    "In the module project, you will be asked to explain the logic of backpropagation and gradient descent."
   ]
  },
  {
   "cell_type": "markdown",
   "metadata": {
    "colab_type": "text",
    "id": "vTqZg-6igclA",
    "toc-hr-collapsed": true
   },
   "source": [
    "# Batch Size (Learn)"
   ]
  },
  {
   "cell_type": "markdown",
   "metadata": {
    "colab_type": "text",
    "id": "0nrm-racgclA"
   },
   "source": [
    "## Overview\n",
    "\n",
    "The What - Stochastic Gradient Descent calculates an approximation of the gradient over the entire dataset by reviewing the predictions of a random sample. \n",
    "\n",
    "The Why - *Speed*. Calculating the gradient over the entire dataset is extremely expensive computationally. \n",
    "\n",
    "### Batch Size\n",
    "Batches are the number of observations our model is shown to make predictions and update the weights. Batches are selected randomly during epoch. All observations are considered when passing thru an epoch at some point.\n",
    "\n",
    "* Smaller Batch = Slower Run Time (but maybe more accurate results)\n",
    "* Default Batch = Balance between speed and accuracy\n",
    "* Large Batch = Very fast, but not nearly as accurate."
   ]
  },
  {
   "cell_type": "markdown",
   "metadata": {
    "colab_type": "text",
    "id": "oNQ2ZCi7I4i6"
   },
   "source": [
    "### Baseline Model"
   ]
  },
  {
   "cell_type": "code",
   "execution_count": 19,
   "metadata": {
    "colab": {
     "base_uri": "https://localhost:8080/",
     "height": 51
    },
    "colab_type": "code",
    "id": "mZjW2lYVI9Q2",
    "outputId": "69f2b412-26f1-4ec7-cfb5-a543c8d44616"
   },
   "outputs": [
    {
     "name": "stdout",
     "output_type": "stream",
     "text": [
      "Downloading data from https://storage.googleapis.com/tensorflow/tf-keras-datasets/mnist.npz\n",
      "11493376/11490434 [==============================] - 0s 0us/step\n"
     ]
    }
   ],
   "source": [
    "from tensorflow.keras.datasets import mnist\n",
    "\n",
    "(X_train, y_train), (X_test, y_test) = mnist.load_data()\n",
    "\n",
    "# Normalize the colors between 0 and 1\n",
    "X_train = X_train / 255.\n",
    "X_test = X_test / 255.\n",
    "\n",
    "# it's 28pixels * 28 pixels\n",
    "X_train = X_train.reshape((60000, 784))\n",
    "X_test = X_test.reshape((10000, 784))"
   ]
  },
  {
   "cell_type": "code",
   "execution_count": 20,
   "metadata": {
    "colab": {},
    "colab_type": "code",
    "id": "o7x17kDKJSy5"
   },
   "outputs": [],
   "source": [
    "# Our Model\n",
    "from tensorflow.keras import Sequential\n",
    "from tensorflow.keras.layers import Dense\n",
    "from tensorflow.keras.optimizers import SGD\n",
    "\n",
    "def create_model(lr=.01):\n",
    "  \"\"\"\n",
    "  Stochastic Gradient Descent SGD optimizer\n",
    "  784+1 * 32+1 * 32+1 * 10\n",
    "  \"\"\"\n",
    "  opt = SGD(learning_rate=lr)\n",
    "\n",
    "  model = Sequential(\n",
    "      [\n",
    "      #  784 inputs + 1 bias connect to 32 1st layer Hiddent neurons\n",
    "       Dense(32, activation='relu', input_dim=784),\n",
    "      #  32 1st-H-Neurons + 1 bias connected to 32 2'nd layer H-Neurons\n",
    "       Dense(32, activation='relu'),\n",
    "      #  32 2nd-H-neurons connect to 10 Output neurons\n",
    "       Dense(10, activation='softmax')       \n",
    "      ]\n",
    "    )\n",
    "  # sparse_categorical_crossentropy is good for multilable classification\n",
    "  model.compile(optimizer=opt, loss='sparse_categorical_crossentropy',\n",
    "                metrics=['accuracy'])\n",
    "  return model"
   ]
  },
  {
   "cell_type": "code",
   "execution_count": 21,
   "metadata": {
    "colab": {
     "base_uri": "https://localhost:8080/",
     "height": 1000
    },
    "colab_type": "code",
    "id": "JcypSML8xSNh",
    "outputId": "69545d40-87d7-4fa0-c0aa-be50cedb7ca7"
   },
   "outputs": [
    {
     "data": {
      "text/plain": [
       "['_TF_MODULE_IGNORED_PROPERTIES',\n",
       " '__call__',\n",
       " '__class__',\n",
       " '__delattr__',\n",
       " '__dict__',\n",
       " '__dir__',\n",
       " '__doc__',\n",
       " '__eq__',\n",
       " '__format__',\n",
       " '__ge__',\n",
       " '__getattribute__',\n",
       " '__getstate__',\n",
       " '__gt__',\n",
       " '__hash__',\n",
       " '__init__',\n",
       " '__init_subclass__',\n",
       " '__le__',\n",
       " '__lt__',\n",
       " '__module__',\n",
       " '__ne__',\n",
       " '__new__',\n",
       " '__reduce__',\n",
       " '__reduce_ex__',\n",
       " '__repr__',\n",
       " '__setattr__',\n",
       " '__setstate__',\n",
       " '__sizeof__',\n",
       " '__str__',\n",
       " '__subclasshook__',\n",
       " '__weakref__',\n",
       " '_activity_regularizer',\n",
       " '_add_trackable',\n",
       " '_add_variable_with_custom_getter',\n",
       " '_assert_compile_was_called',\n",
       " '_assert_weights_created',\n",
       " '_auto_track_sub_layers',\n",
       " '_autocast',\n",
       " '_autographed_call',\n",
       " '_base_model_initialized',\n",
       " '_build_graph_network_for_inferred_shape',\n",
       " '_build_input_shape',\n",
       " '_call_accepts_kwargs',\n",
       " '_call_arg_was_passed',\n",
       " '_call_fn_arg_defaults',\n",
       " '_call_fn_arg_positions',\n",
       " '_call_fn_args',\n",
       " '_call_full_argspec',\n",
       " '_callable_losses',\n",
       " '_cast_single_input',\n",
       " '_check_call_args',\n",
       " '_checkpoint_dependencies',\n",
       " '_clear_losses',\n",
       " '_compile_was_called',\n",
       " '_compiled_trainable_state',\n",
       " '_compute_dtype',\n",
       " '_compute_dtype_object',\n",
       " '_compute_output_and_mask_jointly',\n",
       " '_compute_tensor_usage_count',\n",
       " '_configure_steps_per_execution',\n",
       " '_conform_to_reference_input',\n",
       " '_created_nodes',\n",
       " '_dedup_weights',\n",
       " '_default_training_arg',\n",
       " '_deferred_dependencies',\n",
       " '_distribution_strategy',\n",
       " '_dtype',\n",
       " '_dtype_defaulted_to_floatx',\n",
       " '_dtype_policy',\n",
       " '_dynamic',\n",
       " '_eager_losses',\n",
       " '_enable_dict_to_input_mapping',\n",
       " '_expects_mask_arg',\n",
       " '_expects_training_arg',\n",
       " '_feed_input_names',\n",
       " '_feed_input_shapes',\n",
       " '_feed_inputs',\n",
       " '_flatten',\n",
       " '_flatten_layers',\n",
       " '_flatten_to_reference_inputs',\n",
       " '_functional_construction_call',\n",
       " '_gather_children_attribute',\n",
       " '_gather_saveables_for_checkpoint',\n",
       " '_get_call_arg_value',\n",
       " '_get_callback_model',\n",
       " '_get_compile_args',\n",
       " '_get_distribution_strategy',\n",
       " '_get_existing_metric',\n",
       " '_get_input_masks',\n",
       " '_get_node_attribute_at_index',\n",
       " '_get_optimizer',\n",
       " '_get_save_spec',\n",
       " '_get_trainable_state',\n",
       " '_graph_initialized',\n",
       " '_graph_network_add_loss',\n",
       " '_graph_network_add_metric',\n",
       " '_handle_activity_regularization',\n",
       " '_handle_deferred_dependencies',\n",
       " '_handle_deferred_layer_dependencies',\n",
       " '_handle_weight_regularization',\n",
       " '_has_explicit_input_shape',\n",
       " '_in_multi_worker_mode',\n",
       " '_inbound_nodes',\n",
       " '_infer_output_signature',\n",
       " '_inferred_input_shape',\n",
       " '_init_batch_counters',\n",
       " '_init_call_fn_args',\n",
       " '_init_graph_network',\n",
       " '_init_set_name',\n",
       " '_initial_weights',\n",
       " '_input_coordinates',\n",
       " '_input_dtype',\n",
       " '_input_layers',\n",
       " '_input_spec',\n",
       " '_insert_layers',\n",
       " '_is_compiled',\n",
       " '_is_graph_network',\n",
       " '_is_layer',\n",
       " '_is_layer_name_unique',\n",
       " '_keras_api_names',\n",
       " '_keras_api_names_v1',\n",
       " '_keras_tensor_symbolic_call',\n",
       " '_layer_call_argspecs',\n",
       " '_layer_checkpoint_dependencies',\n",
       " '_layers',\n",
       " '_list_extra_dependencies_for_serialization',\n",
       " '_list_functions_for_serialization',\n",
       " '_lookup_dependency',\n",
       " '_losses',\n",
       " '_map_resources',\n",
       " '_maybe_build',\n",
       " '_maybe_cast_inputs',\n",
       " '_maybe_create_attribute',\n",
       " '_maybe_initialize_trackable',\n",
       " '_maybe_load_initial_epoch_from_ckpt',\n",
       " '_metrics',\n",
       " '_metrics_lock',\n",
       " '_must_restore_from_config',\n",
       " '_name',\n",
       " '_name_based_attribute_restore',\n",
       " '_name_based_restores',\n",
       " '_name_scope',\n",
       " '_nested_inputs',\n",
       " '_nested_outputs',\n",
       " '_network_nodes',\n",
       " '_no_dependency',\n",
       " '_nodes_by_depth',\n",
       " '_non_trainable_weights',\n",
       " '_obj_reference_counts',\n",
       " '_obj_reference_counts_dict',\n",
       " '_object_identifier',\n",
       " '_outbound_nodes',\n",
       " '_output_coordinates',\n",
       " '_output_layers',\n",
       " '_output_mask_cache',\n",
       " '_output_shape_cache',\n",
       " '_output_tensor_cache',\n",
       " '_predict_counter',\n",
       " '_preload_simple_restoration',\n",
       " '_reset_compile_cache',\n",
       " '_restore_from_checkpoint_position',\n",
       " '_run_eagerly',\n",
       " '_run_internal_graph',\n",
       " '_saved_model_inputs_spec',\n",
       " '_self_name_based_restores',\n",
       " '_self_saveable_object_factories',\n",
       " '_self_setattr_tracking',\n",
       " '_self_unconditional_checkpoint_dependencies',\n",
       " '_self_unconditional_deferred_dependencies',\n",
       " '_self_unconditional_dependency_names',\n",
       " '_self_update_uid',\n",
       " '_set_call_arg_value',\n",
       " '_set_connectivity_metadata',\n",
       " '_set_dtype_policy',\n",
       " '_set_inputs',\n",
       " '_set_mask_keras_history_checked',\n",
       " '_set_mask_metadata',\n",
       " '_set_output_names',\n",
       " '_set_save_spec',\n",
       " '_set_trainable_state',\n",
       " '_set_training_mode',\n",
       " '_setattr_tracking',\n",
       " '_should_cast_single_input',\n",
       " '_should_compute_mask',\n",
       " '_should_eval',\n",
       " '_single_restoration_from_checkpoint_position',\n",
       " '_split_out_first_arg',\n",
       " '_stateful',\n",
       " '_steps_per_execution',\n",
       " '_supports_masking',\n",
       " '_symbolic_call',\n",
       " '_tensor_usage_count',\n",
       " '_test_counter',\n",
       " '_tf_api_names',\n",
       " '_tf_api_names_v1',\n",
       " '_thread_local',\n",
       " '_track_trackable',\n",
       " '_trackable_saved_model_saver',\n",
       " '_trackable_saver',\n",
       " '_tracking_metadata',\n",
       " '_train_counter',\n",
       " '_trainable',\n",
       " '_trainable_weights',\n",
       " '_training_state',\n",
       " '_unconditional_checkpoint_dependencies',\n",
       " '_unconditional_dependency_names',\n",
       " '_undeduplicated_weights',\n",
       " '_update_uid',\n",
       " '_updated_config',\n",
       " '_updates',\n",
       " '_use_legacy_deferred_behavior',\n",
       " '_validate_compile',\n",
       " '_validate_graph_inputs_and_outputs',\n",
       " '_warn_about_input_casting',\n",
       " 'activity_regularizer',\n",
       " 'add',\n",
       " 'add_loss',\n",
       " 'add_metric',\n",
       " 'add_update',\n",
       " 'add_variable',\n",
       " 'add_weight',\n",
       " 'apply',\n",
       " 'build',\n",
       " 'built',\n",
       " 'call',\n",
       " 'compile',\n",
       " 'compiled_loss',\n",
       " 'compiled_metrics',\n",
       " 'compute_mask',\n",
       " 'compute_output_shape',\n",
       " 'compute_output_signature',\n",
       " 'count_params',\n",
       " 'distribute_strategy',\n",
       " 'dtype',\n",
       " 'dynamic',\n",
       " 'evaluate',\n",
       " 'evaluate_generator',\n",
       " 'fit',\n",
       " 'fit_generator',\n",
       " 'from_config',\n",
       " 'get_config',\n",
       " 'get_input_at',\n",
       " 'get_input_mask_at',\n",
       " 'get_input_shape_at',\n",
       " 'get_layer',\n",
       " 'get_losses_for',\n",
       " 'get_output_at',\n",
       " 'get_output_mask_at',\n",
       " 'get_output_shape_at',\n",
       " 'get_updates_for',\n",
       " 'get_weights',\n",
       " 'history',\n",
       " 'inbound_nodes',\n",
       " 'input',\n",
       " 'input_mask',\n",
       " 'input_names',\n",
       " 'input_shape',\n",
       " 'input_spec',\n",
       " 'inputs',\n",
       " 'layers',\n",
       " 'load_weights',\n",
       " 'loss',\n",
       " 'losses',\n",
       " 'make_predict_function',\n",
       " 'make_test_function',\n",
       " 'make_train_function',\n",
       " 'metrics',\n",
       " 'metrics_names',\n",
       " 'name',\n",
       " 'name_scope',\n",
       " 'non_trainable_variables',\n",
       " 'non_trainable_weights',\n",
       " 'optimizer',\n",
       " 'outbound_nodes',\n",
       " 'output',\n",
       " 'output_mask',\n",
       " 'output_names',\n",
       " 'output_shape',\n",
       " 'outputs',\n",
       " 'pop',\n",
       " 'predict',\n",
       " 'predict_classes',\n",
       " 'predict_function',\n",
       " 'predict_generator',\n",
       " 'predict_on_batch',\n",
       " 'predict_proba',\n",
       " 'predict_step',\n",
       " 'reset_metrics',\n",
       " 'reset_states',\n",
       " 'run_eagerly',\n",
       " 'save',\n",
       " 'save_weights',\n",
       " 'set_weights',\n",
       " 'state_updates',\n",
       " 'stateful',\n",
       " 'stop_training',\n",
       " 'submodules',\n",
       " 'summary',\n",
       " 'supports_masking',\n",
       " 'test_function',\n",
       " 'test_on_batch',\n",
       " 'test_step',\n",
       " 'to_json',\n",
       " 'to_yaml',\n",
       " 'train_function',\n",
       " 'train_on_batch',\n",
       " 'train_step',\n",
       " 'trainable',\n",
       " 'trainable_variables',\n",
       " 'trainable_weights',\n",
       " 'updates',\n",
       " 'variables',\n",
       " 'weights',\n",
       " 'with_name_scope']"
      ]
     },
     "execution_count": 21,
     "metadata": {
      "tags": []
     },
     "output_type": "execute_result"
    }
   ],
   "source": [
    "mnist_model = create_model()\n",
    "dir(mnist_model)"
   ]
  },
  {
   "cell_type": "code",
   "execution_count": 22,
   "metadata": {
    "colab": {
     "base_uri": "https://localhost:8080/",
     "height": 34
    },
    "colab_type": "code",
    "id": "kDLY_d6G6OCp",
    "outputId": "9eb031de-8bdb-4fe9-c391-4d48e8b7c9e8"
   },
   "outputs": [
    {
     "data": {
      "text/plain": [
       "32.0"
      ]
     },
     "execution_count": 22,
     "metadata": {
      "tags": []
     },
     "output_type": "execute_result"
    }
   ],
   "source": [
    "25120/785\n",
    "1056/33"
   ]
  },
  {
   "cell_type": "code",
   "execution_count": 23,
   "metadata": {
    "colab": {
     "base_uri": "https://localhost:8080/",
     "height": 255
    },
    "colab_type": "code",
    "id": "x1pNXBVPxfZU",
    "outputId": "6e72db22-e9e8-49e8-ebe6-fc196a7869b0"
   },
   "outputs": [
    {
     "name": "stdout",
     "output_type": "stream",
     "text": [
      "Model: \"sequential\"\n",
      "_________________________________________________________________\n",
      "Layer (type)                 Output Shape              Param #   \n",
      "=================================================================\n",
      "dense (Dense)                (None, 32)                25120     \n",
      "_________________________________________________________________\n",
      "dense_1 (Dense)              (None, 32)                1056      \n",
      "_________________________________________________________________\n",
      "dense_2 (Dense)              (None, 10)                330       \n",
      "=================================================================\n",
      "Total params: 26,506\n",
      "Trainable params: 26,506\n",
      "Non-trainable params: 0\n",
      "_________________________________________________________________\n"
     ]
    }
   ],
   "source": [
    "mnist_model.summary()"
   ]
  },
  {
   "cell_type": "markdown",
   "metadata": {
    "colab_type": "text",
    "id": "ZF7UE-KluPsX"
   },
   "source": [
    "## Follow Along\n",
    "Let's run a series of experiments for a default, small, and large batch size."
   ]
  },
  {
   "cell_type": "markdown",
   "metadata": {
    "colab_type": "text",
    "id": "VhpDaVFRJl3U"
   },
   "source": [
    "### Default\n",
    "Batch Size is 32"
   ]
  },
  {
   "cell_type": "markdown",
   "metadata": {
    "colab_type": "text",
    "id": "lEKMmTNSICkb"
   },
   "source": [
    "> *Seems like the entire X is divided into batches of size n and the NN is trained on each batch of n samples and W, b get's updated at the end of each batch of n. Once all batches in a training dataset are trained the epoch counter goes up and we create another set of batches randomly and exclusively (like Kfold) and retrain based on each of the new batches again. For stochastic GD, batch size is 1 and the accuracy of each update is low but number of updates are maximum, as the # of back propagation is maximum = \"one back-propagation for each batch of each epoch.\". That resuls in long computing time for each epoch. The training trend is very noise since the updates are done based on individual samples. \n",
    "In batch size GD, the number of batches is one and the size of the batch is equal to training set. Hence the epoch looks at the same entire training dataset repeatedly and make an update on every epoch run. Less noisy and minimum number of back propagation = one back-propagation per epoch. Hence runtime is faster per epoch. However need a large memory to process the entire dataset in one shot.*"
   ]
  },
  {
   "cell_type": "code",
   "execution_count": 24,
   "metadata": {
    "colab": {
     "base_uri": "https://localhost:8080/",
     "height": 867
    },
    "colab_type": "code",
    "id": "P-ChVGikgclD",
    "outputId": "0a19f959-c3dc-473c-ec7a-cfcaba6826b1"
   },
   "outputs": [
    {
     "name": "stdout",
     "output_type": "stream",
     "text": [
      "Epoch 1/25\n",
      "1875/1875 [==============================] - 4s 2ms/step - loss: 0.7634 - accuracy: 0.7786 - val_loss: 0.3650 - val_accuracy: 0.8956\n",
      "Epoch 2/25\n",
      "1875/1875 [==============================] - 4s 2ms/step - loss: 0.3394 - accuracy: 0.9017 - val_loss: 0.2962 - val_accuracy: 0.9164\n",
      "Epoch 3/25\n",
      "1875/1875 [==============================] - 4s 2ms/step - loss: 0.2871 - accuracy: 0.9162 - val_loss: 0.2577 - val_accuracy: 0.9262\n",
      "Epoch 4/25\n",
      "1875/1875 [==============================] - 4s 2ms/step - loss: 0.2558 - accuracy: 0.9263 - val_loss: 0.2377 - val_accuracy: 0.9321\n",
      "Epoch 5/25\n",
      "1875/1875 [==============================] - 4s 2ms/step - loss: 0.2314 - accuracy: 0.9338 - val_loss: 0.2160 - val_accuracy: 0.9381\n",
      "Epoch 6/25\n",
      "1875/1875 [==============================] - 4s 2ms/step - loss: 0.2112 - accuracy: 0.9399 - val_loss: 0.2062 - val_accuracy: 0.9403\n",
      "Epoch 7/25\n",
      "1875/1875 [==============================] - 4s 2ms/step - loss: 0.1947 - accuracy: 0.9439 - val_loss: 0.1870 - val_accuracy: 0.9443\n",
      "Epoch 8/25\n",
      "1875/1875 [==============================] - 4s 2ms/step - loss: 0.1807 - accuracy: 0.9482 - val_loss: 0.1764 - val_accuracy: 0.9477\n",
      "Epoch 9/25\n",
      "1875/1875 [==============================] - 3s 2ms/step - loss: 0.1693 - accuracy: 0.9511 - val_loss: 0.1689 - val_accuracy: 0.9516\n",
      "Epoch 10/25\n",
      "1875/1875 [==============================] - 4s 2ms/step - loss: 0.1595 - accuracy: 0.9538 - val_loss: 0.1614 - val_accuracy: 0.9508\n",
      "Epoch 11/25\n",
      "1875/1875 [==============================] - 3s 2ms/step - loss: 0.1503 - accuracy: 0.9564 - val_loss: 0.1555 - val_accuracy: 0.9526\n",
      "Epoch 12/25\n",
      "1875/1875 [==============================] - 3s 2ms/step - loss: 0.1428 - accuracy: 0.9589 - val_loss: 0.1481 - val_accuracy: 0.9548\n",
      "Epoch 13/25\n",
      "1875/1875 [==============================] - 4s 2ms/step - loss: 0.1366 - accuracy: 0.9612 - val_loss: 0.1480 - val_accuracy: 0.9559\n",
      "Epoch 14/25\n",
      "1875/1875 [==============================] - 3s 2ms/step - loss: 0.1299 - accuracy: 0.9624 - val_loss: 0.1400 - val_accuracy: 0.9579\n",
      "Epoch 15/25\n",
      "1875/1875 [==============================] - 3s 2ms/step - loss: 0.1246 - accuracy: 0.9641 - val_loss: 0.1453 - val_accuracy: 0.9564\n",
      "Epoch 16/25\n",
      "1875/1875 [==============================] - 3s 2ms/step - loss: 0.1197 - accuracy: 0.9661 - val_loss: 0.1328 - val_accuracy: 0.9614\n",
      "Epoch 17/25\n",
      "1875/1875 [==============================] - 4s 2ms/step - loss: 0.1146 - accuracy: 0.9672 - val_loss: 0.1352 - val_accuracy: 0.9602\n",
      "Epoch 18/25\n",
      "1875/1875 [==============================] - 3s 2ms/step - loss: 0.1110 - accuracy: 0.9685 - val_loss: 0.1306 - val_accuracy: 0.9614\n",
      "Epoch 19/25\n",
      "1875/1875 [==============================] - 4s 2ms/step - loss: 0.1067 - accuracy: 0.9691 - val_loss: 0.1266 - val_accuracy: 0.9614\n",
      "Epoch 20/25\n",
      "1875/1875 [==============================] - 4s 2ms/step - loss: 0.1034 - accuracy: 0.9705 - val_loss: 0.1250 - val_accuracy: 0.9629\n",
      "Epoch 21/25\n",
      "1875/1875 [==============================] - 3s 2ms/step - loss: 0.1006 - accuracy: 0.9707 - val_loss: 0.1240 - val_accuracy: 0.9627\n",
      "Epoch 22/25\n",
      "1875/1875 [==============================] - 3s 2ms/step - loss: 0.0972 - accuracy: 0.9718 - val_loss: 0.1243 - val_accuracy: 0.9648\n",
      "Epoch 23/25\n",
      "1875/1875 [==============================] - 3s 2ms/step - loss: 0.0945 - accuracy: 0.9728 - val_loss: 0.1185 - val_accuracy: 0.9651\n",
      "Epoch 24/25\n",
      "1875/1875 [==============================] - 4s 2ms/step - loss: 0.0916 - accuracy: 0.9736 - val_loss: 0.1201 - val_accuracy: 0.9647\n",
      "Epoch 25/25\n",
      "1875/1875 [==============================] - 4s 2ms/step - loss: 0.0890 - accuracy: 0.9738 - val_loss: 0.1184 - val_accuracy: 0.9657\n"
     ]
    }
   ],
   "source": [
    "mnist_model_32 = create_model()\n",
    "\n",
    "bt_default = mnist_model_32.fit(X_train, y_train,\n",
    "                                # Hyperparameters!\n",
    "                                epochs=25,\n",
    "                                batch_size=32,\n",
    "                                validation_data=(X_test, y_test))"
   ]
  },
  {
   "cell_type": "markdown",
   "metadata": {
    "colab_type": "text",
    "id": "KvsbOFnDJuG0"
   },
   "source": [
    "### Small Batch Size\n",
    "Batch Size is 8"
   ]
  },
  {
   "cell_type": "code",
   "execution_count": 25,
   "metadata": {
    "colab": {
     "base_uri": "https://localhost:8080/",
     "height": 867
    },
    "colab_type": "code",
    "id": "diDzvb-UJ1je",
    "outputId": "5e3af220-8e92-4adf-db32-3236dd9cb38c"
   },
   "outputs": [
    {
     "name": "stdout",
     "output_type": "stream",
     "text": [
      "Epoch 1/25\n",
      "7500/7500 [==============================] - 14s 2ms/step - loss: 0.4425 - accuracy: 0.8716 - val_loss: 0.2297 - val_accuracy: 0.9336\n",
      "Epoch 2/25\n",
      "7500/7500 [==============================] - 13s 2ms/step - loss: 0.2111 - accuracy: 0.9374 - val_loss: 0.1824 - val_accuracy: 0.9443\n",
      "Epoch 3/25\n",
      "7500/7500 [==============================] - 13s 2ms/step - loss: 0.1659 - accuracy: 0.9514 - val_loss: 0.1520 - val_accuracy: 0.9540\n",
      "Epoch 4/25\n",
      "7500/7500 [==============================] - 13s 2ms/step - loss: 0.1387 - accuracy: 0.9599 - val_loss: 0.1380 - val_accuracy: 0.9591\n",
      "Epoch 5/25\n",
      "7500/7500 [==============================] - 13s 2ms/step - loss: 0.1199 - accuracy: 0.9648 - val_loss: 0.1240 - val_accuracy: 0.9626\n",
      "Epoch 6/25\n",
      "7500/7500 [==============================] - 15s 2ms/step - loss: 0.1065 - accuracy: 0.9682 - val_loss: 0.1195 - val_accuracy: 0.9623\n",
      "Epoch 7/25\n",
      "7500/7500 [==============================] - 14s 2ms/step - loss: 0.0970 - accuracy: 0.9708 - val_loss: 0.1089 - val_accuracy: 0.9663\n",
      "Epoch 8/25\n",
      "7500/7500 [==============================] - 13s 2ms/step - loss: 0.0878 - accuracy: 0.9736 - val_loss: 0.1108 - val_accuracy: 0.9668\n",
      "Epoch 9/25\n",
      "7500/7500 [==============================] - 14s 2ms/step - loss: 0.0816 - accuracy: 0.9749 - val_loss: 0.1112 - val_accuracy: 0.9656\n",
      "Epoch 10/25\n",
      "7500/7500 [==============================] - 14s 2ms/step - loss: 0.0743 - accuracy: 0.9779 - val_loss: 0.1060 - val_accuracy: 0.9670\n",
      "Epoch 11/25\n",
      "7500/7500 [==============================] - 13s 2ms/step - loss: 0.0702 - accuracy: 0.9783 - val_loss: 0.1119 - val_accuracy: 0.9669\n",
      "Epoch 12/25\n",
      "7500/7500 [==============================] - 13s 2ms/step - loss: 0.0660 - accuracy: 0.9792 - val_loss: 0.1027 - val_accuracy: 0.9683\n",
      "Epoch 13/25\n",
      "7500/7500 [==============================] - 14s 2ms/step - loss: 0.0623 - accuracy: 0.9804 - val_loss: 0.1037 - val_accuracy: 0.9684\n",
      "Epoch 14/25\n",
      "7500/7500 [==============================] - 14s 2ms/step - loss: 0.0586 - accuracy: 0.9814 - val_loss: 0.1031 - val_accuracy: 0.9694\n",
      "Epoch 15/25\n",
      "7500/7500 [==============================] - 14s 2ms/step - loss: 0.0555 - accuracy: 0.9826 - val_loss: 0.1071 - val_accuracy: 0.9679\n",
      "Epoch 16/25\n",
      "7500/7500 [==============================] - 14s 2ms/step - loss: 0.0521 - accuracy: 0.9834 - val_loss: 0.1134 - val_accuracy: 0.9671\n",
      "Epoch 17/25\n",
      "7500/7500 [==============================] - 14s 2ms/step - loss: 0.0496 - accuracy: 0.9841 - val_loss: 0.1042 - val_accuracy: 0.9681\n",
      "Epoch 18/25\n",
      "7500/7500 [==============================] - 14s 2ms/step - loss: 0.0472 - accuracy: 0.9852 - val_loss: 0.1027 - val_accuracy: 0.9700\n",
      "Epoch 19/25\n",
      "7500/7500 [==============================] - 14s 2ms/step - loss: 0.0444 - accuracy: 0.9858 - val_loss: 0.1041 - val_accuracy: 0.9700\n",
      "Epoch 20/25\n",
      "7500/7500 [==============================] - 14s 2ms/step - loss: 0.0423 - accuracy: 0.9865 - val_loss: 0.1161 - val_accuracy: 0.9684\n",
      "Epoch 21/25\n",
      "7500/7500 [==============================] - 14s 2ms/step - loss: 0.0407 - accuracy: 0.9874 - val_loss: 0.1082 - val_accuracy: 0.9665\n",
      "Epoch 22/25\n",
      "7500/7500 [==============================] - 14s 2ms/step - loss: 0.0395 - accuracy: 0.9872 - val_loss: 0.1225 - val_accuracy: 0.9663\n",
      "Epoch 23/25\n",
      "7500/7500 [==============================] - 14s 2ms/step - loss: 0.0368 - accuracy: 0.9880 - val_loss: 0.1089 - val_accuracy: 0.9685\n",
      "Epoch 24/25\n",
      "7500/7500 [==============================] - 14s 2ms/step - loss: 0.0347 - accuracy: 0.9890 - val_loss: 0.1184 - val_accuracy: 0.9688\n",
      "Epoch 25/25\n",
      "7500/7500 [==============================] - 14s 2ms/step - loss: 0.0332 - accuracy: 0.9896 - val_loss: 0.1083 - val_accuracy: 0.9710\n"
     ]
    }
   ],
   "source": [
    "mnist_model_8 = create_model()\n",
    "\n",
    "bt_small = mnist_model_8.fit(X_train, y_train,\n",
    "                             # Hyperparameters!\n",
    "                             epochs=25,\n",
    "                             batch_size=8,\n",
    "                             validation_data=(X_test, y_test))"
   ]
  },
  {
   "cell_type": "markdown",
   "metadata": {
    "colab_type": "text",
    "id": "_iPvvvt5J2Xl"
   },
   "source": [
    "### Large Batch Size\n",
    "Batch Size is 512"
   ]
  },
  {
   "cell_type": "code",
   "execution_count": 26,
   "metadata": {
    "colab": {
     "base_uri": "https://localhost:8080/",
     "height": 867
    },
    "colab_type": "code",
    "id": "7h8Z5293KABT",
    "outputId": "c47295a5-a5f9-490e-f50a-953c52ea5ded"
   },
   "outputs": [
    {
     "name": "stdout",
     "output_type": "stream",
     "text": [
      "Epoch 1/25\n",
      "118/118 [==============================] - 0s 4ms/step - loss: 2.2326 - accuracy: 0.2042 - val_loss: 2.0603 - val_accuracy: 0.3651\n",
      "Epoch 2/25\n",
      "118/118 [==============================] - 0s 3ms/step - loss: 1.8705 - accuracy: 0.4556 - val_loss: 1.6389 - val_accuracy: 0.5518\n",
      "Epoch 3/25\n",
      "118/118 [==============================] - 0s 3ms/step - loss: 1.4554 - accuracy: 0.6074 - val_loss: 1.2456 - val_accuracy: 0.6696\n",
      "Epoch 4/25\n",
      "118/118 [==============================] - 0s 3ms/step - loss: 1.1114 - accuracy: 0.7151 - val_loss: 0.9531 - val_accuracy: 0.7605\n",
      "Epoch 5/25\n",
      "118/118 [==============================] - 0s 3ms/step - loss: 0.8733 - accuracy: 0.7861 - val_loss: 0.7651 - val_accuracy: 0.8052\n",
      "Epoch 6/25\n",
      "118/118 [==============================] - 0s 3ms/step - loss: 0.7249 - accuracy: 0.8146 - val_loss: 0.6494 - val_accuracy: 0.8263\n",
      "Epoch 7/25\n",
      "118/118 [==============================] - 0s 3ms/step - loss: 0.6315 - accuracy: 0.8317 - val_loss: 0.5737 - val_accuracy: 0.8442\n",
      "Epoch 8/25\n",
      "118/118 [==============================] - 0s 3ms/step - loss: 0.5690 - accuracy: 0.8447 - val_loss: 0.5227 - val_accuracy: 0.8549\n",
      "Epoch 9/25\n",
      "118/118 [==============================] - 0s 3ms/step - loss: 0.5241 - accuracy: 0.8555 - val_loss: 0.4850 - val_accuracy: 0.8649\n",
      "Epoch 10/25\n",
      "118/118 [==============================] - 0s 3ms/step - loss: 0.4902 - accuracy: 0.8642 - val_loss: 0.4550 - val_accuracy: 0.8713\n",
      "Epoch 11/25\n",
      "118/118 [==============================] - 0s 3ms/step - loss: 0.4633 - accuracy: 0.8712 - val_loss: 0.4326 - val_accuracy: 0.8789\n",
      "Epoch 12/25\n",
      "118/118 [==============================] - 0s 3ms/step - loss: 0.4417 - accuracy: 0.8767 - val_loss: 0.4135 - val_accuracy: 0.8826\n",
      "Epoch 13/25\n",
      "118/118 [==============================] - 0s 3ms/step - loss: 0.4236 - accuracy: 0.8814 - val_loss: 0.3982 - val_accuracy: 0.8858\n",
      "Epoch 14/25\n",
      "118/118 [==============================] - 0s 3ms/step - loss: 0.4083 - accuracy: 0.8853 - val_loss: 0.3846 - val_accuracy: 0.8905\n",
      "Epoch 15/25\n",
      "118/118 [==============================] - 0s 3ms/step - loss: 0.3952 - accuracy: 0.8891 - val_loss: 0.3734 - val_accuracy: 0.8925\n",
      "Epoch 16/25\n",
      "118/118 [==============================] - 0s 3ms/step - loss: 0.3839 - accuracy: 0.8920 - val_loss: 0.3633 - val_accuracy: 0.8957\n",
      "Epoch 17/25\n",
      "118/118 [==============================] - 0s 3ms/step - loss: 0.3739 - accuracy: 0.8945 - val_loss: 0.3552 - val_accuracy: 0.8971\n",
      "Epoch 18/25\n",
      "118/118 [==============================] - 0s 3ms/step - loss: 0.3651 - accuracy: 0.8966 - val_loss: 0.3464 - val_accuracy: 0.8996\n",
      "Epoch 19/25\n",
      "118/118 [==============================] - 0s 3ms/step - loss: 0.3573 - accuracy: 0.8988 - val_loss: 0.3409 - val_accuracy: 0.9005\n",
      "Epoch 20/25\n",
      "118/118 [==============================] - 0s 3ms/step - loss: 0.3501 - accuracy: 0.9005 - val_loss: 0.3347 - val_accuracy: 0.9017\n",
      "Epoch 21/25\n",
      "118/118 [==============================] - 0s 3ms/step - loss: 0.3439 - accuracy: 0.9020 - val_loss: 0.3276 - val_accuracy: 0.9044\n",
      "Epoch 22/25\n",
      "118/118 [==============================] - 0s 3ms/step - loss: 0.3380 - accuracy: 0.9040 - val_loss: 0.3234 - val_accuracy: 0.9065\n",
      "Epoch 23/25\n",
      "118/118 [==============================] - 0s 3ms/step - loss: 0.3327 - accuracy: 0.9046 - val_loss: 0.3190 - val_accuracy: 0.9070\n",
      "Epoch 24/25\n",
      "118/118 [==============================] - 0s 3ms/step - loss: 0.3276 - accuracy: 0.9058 - val_loss: 0.3141 - val_accuracy: 0.9095\n",
      "Epoch 25/25\n",
      "118/118 [==============================] - 0s 3ms/step - loss: 0.3232 - accuracy: 0.9077 - val_loss: 0.3101 - val_accuracy: 0.9102\n"
     ]
    }
   ],
   "source": [
    "mnist_model_512 = create_model()\n",
    "\n",
    "bt_large = mnist_model_512.fit(X_train, y_train,\n",
    "                               # Hyperparameters!\n",
    "                               epochs=25,\n",
    "                               batch_size=512,\n",
    "                               validation_data=(X_test, y_test))"
   ]
  },
  {
   "cell_type": "markdown",
   "metadata": {
    "colab_type": "text",
    "id": "B0ujUz6BKUGz"
   },
   "source": [
    "### Visualization of Results"
   ]
  },
  {
   "cell_type": "code",
   "execution_count": 28,
   "metadata": {
    "colab": {
     "base_uri": "https://localhost:8080/",
     "height": 1000
    },
    "colab_type": "code",
    "id": "rTix7aVRmzYU",
    "outputId": "4a63440a-9090-4cb6-b3ca-43f9c0f100e9"
   },
   "outputs": [
    {
     "data": {
      "text/plain": [
       "{'accuracy': [0.20424999296665192,\n",
       "  0.45561665296554565,\n",
       "  0.6074166893959045,\n",
       "  0.7151166796684265,\n",
       "  0.7861499786376953,\n",
       "  0.814633309841156,\n",
       "  0.8317166566848755,\n",
       "  0.8447499871253967,\n",
       "  0.8554999828338623,\n",
       "  0.864216685295105,\n",
       "  0.8712166547775269,\n",
       "  0.8766833543777466,\n",
       "  0.8813833594322205,\n",
       "  0.8853166699409485,\n",
       "  0.8891333341598511,\n",
       "  0.8920000195503235,\n",
       "  0.8944500088691711,\n",
       "  0.8966000080108643,\n",
       "  0.8987833261489868,\n",
       "  0.9004999995231628,\n",
       "  0.9020000100135803,\n",
       "  0.9039999842643738,\n",
       "  0.9046333432197571,\n",
       "  0.9058333039283752,\n",
       "  0.9077333211898804],\n",
       " 'loss': [2.232565402984619,\n",
       "  1.870497226715088,\n",
       "  1.455391764640808,\n",
       "  1.111449956893921,\n",
       "  0.8733290433883667,\n",
       "  0.7248554825782776,\n",
       "  0.6315497756004333,\n",
       "  0.5690358877182007,\n",
       "  0.5240890979766846,\n",
       "  0.49016451835632324,\n",
       "  0.4633370041847229,\n",
       "  0.4416573643684387,\n",
       "  0.42356178164482117,\n",
       "  0.40833359956741333,\n",
       "  0.3952297568321228,\n",
       "  0.38385534286499023,\n",
       "  0.37392398715019226,\n",
       "  0.3651430606842041,\n",
       "  0.35733479261398315,\n",
       "  0.35009121894836426,\n",
       "  0.3438672125339508,\n",
       "  0.3380003571510315,\n",
       "  0.3326772451400757,\n",
       "  0.32759353518486023,\n",
       "  0.3231751322746277],\n",
       " 'val_accuracy': [0.3650999963283539,\n",
       "  0.551800012588501,\n",
       "  0.6696000099182129,\n",
       "  0.7605000138282776,\n",
       "  0.8051999807357788,\n",
       "  0.8263000249862671,\n",
       "  0.8442000150680542,\n",
       "  0.8549000024795532,\n",
       "  0.8648999929428101,\n",
       "  0.8712999820709229,\n",
       "  0.8788999915122986,\n",
       "  0.8826000094413757,\n",
       "  0.8858000040054321,\n",
       "  0.890500009059906,\n",
       "  0.8924999833106995,\n",
       "  0.8956999778747559,\n",
       "  0.8970999717712402,\n",
       "  0.8996000289916992,\n",
       "  0.9004999995231628,\n",
       "  0.9017000198364258,\n",
       "  0.9043999910354614,\n",
       "  0.906499981880188,\n",
       "  0.9070000052452087,\n",
       "  0.909500002861023,\n",
       "  0.9101999998092651],\n",
       " 'val_loss': [2.0603342056274414,\n",
       "  1.6388976573944092,\n",
       "  1.2455689907073975,\n",
       "  0.953110933303833,\n",
       "  0.7651432156562805,\n",
       "  0.6494160294532776,\n",
       "  0.5736658573150635,\n",
       "  0.522704541683197,\n",
       "  0.48498934507369995,\n",
       "  0.45504292845726013,\n",
       "  0.4326052665710449,\n",
       "  0.4134531617164612,\n",
       "  0.39820998907089233,\n",
       "  0.38464364409446716,\n",
       "  0.37341800332069397,\n",
       "  0.36332979798316956,\n",
       "  0.35518887639045715,\n",
       "  0.3464158773422241,\n",
       "  0.340907484292984,\n",
       "  0.3347122073173523,\n",
       "  0.32764768600463867,\n",
       "  0.3233962059020996,\n",
       "  0.31904110312461853,\n",
       "  0.31406450271606445,\n",
       "  0.31005269289016724]}"
      ]
     },
     "execution_count": 28,
     "metadata": {
      "tags": []
     },
     "output_type": "execute_result"
    }
   ],
   "source": [
    "bt_large.history"
   ]
  },
  {
   "cell_type": "code",
   "execution_count": 30,
   "metadata": {
    "colab": {
     "base_uri": "https://localhost:8080/",
     "height": 71
    },
    "colab_type": "code",
    "id": "cCz7JbxtpW2z",
    "outputId": "9c021545-bf06-41c2-a91c-e871f47605d8"
   },
   "outputs": [
    {
     "name": "stderr",
     "output_type": "stream",
     "text": [
      "/usr/local/lib/python3.6/dist-packages/statsmodels/tools/_testing.py:19: FutureWarning: pandas.util.testing is deprecated. Use the functions in the public API at pandas.testing instead.\n",
      "  import pandas.util.testing as tm\n"
     ]
    }
   ],
   "source": [
    "import seaborn as sns\n",
    "import pandas as pd"
   ]
  },
  {
   "cell_type": "code",
   "execution_count": 31,
   "metadata": {
    "colab": {
     "base_uri": "https://localhost:8080/",
     "height": 824
    },
    "colab_type": "code",
    "id": "kYLFbU2cpHvS",
    "outputId": "80f286b2-6083-4440-b314-08359a3435a8"
   },
   "outputs": [
    {
     "data": {
      "text/html": [
       "<div>\n",
       "<style scoped>\n",
       "    .dataframe tbody tr th:only-of-type {\n",
       "        vertical-align: middle;\n",
       "    }\n",
       "\n",
       "    .dataframe tbody tr th {\n",
       "        vertical-align: top;\n",
       "    }\n",
       "\n",
       "    .dataframe thead th {\n",
       "        text-align: right;\n",
       "    }\n",
       "</style>\n",
       "<table border=\"1\" class=\"dataframe\">\n",
       "  <thead>\n",
       "    <tr style=\"text-align: right;\">\n",
       "      <th></th>\n",
       "      <th>loss</th>\n",
       "      <th>accuracy</th>\n",
       "      <th>val_loss</th>\n",
       "      <th>val_accuracy</th>\n",
       "    </tr>\n",
       "  </thead>\n",
       "  <tbody>\n",
       "    <tr>\n",
       "      <th>0</th>\n",
       "      <td>2.232565</td>\n",
       "      <td>0.204250</td>\n",
       "      <td>2.060334</td>\n",
       "      <td>0.3651</td>\n",
       "    </tr>\n",
       "    <tr>\n",
       "      <th>1</th>\n",
       "      <td>1.870497</td>\n",
       "      <td>0.455617</td>\n",
       "      <td>1.638898</td>\n",
       "      <td>0.5518</td>\n",
       "    </tr>\n",
       "    <tr>\n",
       "      <th>2</th>\n",
       "      <td>1.455392</td>\n",
       "      <td>0.607417</td>\n",
       "      <td>1.245569</td>\n",
       "      <td>0.6696</td>\n",
       "    </tr>\n",
       "    <tr>\n",
       "      <th>3</th>\n",
       "      <td>1.111450</td>\n",
       "      <td>0.715117</td>\n",
       "      <td>0.953111</td>\n",
       "      <td>0.7605</td>\n",
       "    </tr>\n",
       "    <tr>\n",
       "      <th>4</th>\n",
       "      <td>0.873329</td>\n",
       "      <td>0.786150</td>\n",
       "      <td>0.765143</td>\n",
       "      <td>0.8052</td>\n",
       "    </tr>\n",
       "    <tr>\n",
       "      <th>5</th>\n",
       "      <td>0.724855</td>\n",
       "      <td>0.814633</td>\n",
       "      <td>0.649416</td>\n",
       "      <td>0.8263</td>\n",
       "    </tr>\n",
       "    <tr>\n",
       "      <th>6</th>\n",
       "      <td>0.631550</td>\n",
       "      <td>0.831717</td>\n",
       "      <td>0.573666</td>\n",
       "      <td>0.8442</td>\n",
       "    </tr>\n",
       "    <tr>\n",
       "      <th>7</th>\n",
       "      <td>0.569036</td>\n",
       "      <td>0.844750</td>\n",
       "      <td>0.522705</td>\n",
       "      <td>0.8549</td>\n",
       "    </tr>\n",
       "    <tr>\n",
       "      <th>8</th>\n",
       "      <td>0.524089</td>\n",
       "      <td>0.855500</td>\n",
       "      <td>0.484989</td>\n",
       "      <td>0.8649</td>\n",
       "    </tr>\n",
       "    <tr>\n",
       "      <th>9</th>\n",
       "      <td>0.490165</td>\n",
       "      <td>0.864217</td>\n",
       "      <td>0.455043</td>\n",
       "      <td>0.8713</td>\n",
       "    </tr>\n",
       "    <tr>\n",
       "      <th>10</th>\n",
       "      <td>0.463337</td>\n",
       "      <td>0.871217</td>\n",
       "      <td>0.432605</td>\n",
       "      <td>0.8789</td>\n",
       "    </tr>\n",
       "    <tr>\n",
       "      <th>11</th>\n",
       "      <td>0.441657</td>\n",
       "      <td>0.876683</td>\n",
       "      <td>0.413453</td>\n",
       "      <td>0.8826</td>\n",
       "    </tr>\n",
       "    <tr>\n",
       "      <th>12</th>\n",
       "      <td>0.423562</td>\n",
       "      <td>0.881383</td>\n",
       "      <td>0.398210</td>\n",
       "      <td>0.8858</td>\n",
       "    </tr>\n",
       "    <tr>\n",
       "      <th>13</th>\n",
       "      <td>0.408334</td>\n",
       "      <td>0.885317</td>\n",
       "      <td>0.384644</td>\n",
       "      <td>0.8905</td>\n",
       "    </tr>\n",
       "    <tr>\n",
       "      <th>14</th>\n",
       "      <td>0.395230</td>\n",
       "      <td>0.889133</td>\n",
       "      <td>0.373418</td>\n",
       "      <td>0.8925</td>\n",
       "    </tr>\n",
       "    <tr>\n",
       "      <th>15</th>\n",
       "      <td>0.383855</td>\n",
       "      <td>0.892000</td>\n",
       "      <td>0.363330</td>\n",
       "      <td>0.8957</td>\n",
       "    </tr>\n",
       "    <tr>\n",
       "      <th>16</th>\n",
       "      <td>0.373924</td>\n",
       "      <td>0.894450</td>\n",
       "      <td>0.355189</td>\n",
       "      <td>0.8971</td>\n",
       "    </tr>\n",
       "    <tr>\n",
       "      <th>17</th>\n",
       "      <td>0.365143</td>\n",
       "      <td>0.896600</td>\n",
       "      <td>0.346416</td>\n",
       "      <td>0.8996</td>\n",
       "    </tr>\n",
       "    <tr>\n",
       "      <th>18</th>\n",
       "      <td>0.357335</td>\n",
       "      <td>0.898783</td>\n",
       "      <td>0.340907</td>\n",
       "      <td>0.9005</td>\n",
       "    </tr>\n",
       "    <tr>\n",
       "      <th>19</th>\n",
       "      <td>0.350091</td>\n",
       "      <td>0.900500</td>\n",
       "      <td>0.334712</td>\n",
       "      <td>0.9017</td>\n",
       "    </tr>\n",
       "    <tr>\n",
       "      <th>20</th>\n",
       "      <td>0.343867</td>\n",
       "      <td>0.902000</td>\n",
       "      <td>0.327648</td>\n",
       "      <td>0.9044</td>\n",
       "    </tr>\n",
       "    <tr>\n",
       "      <th>21</th>\n",
       "      <td>0.338000</td>\n",
       "      <td>0.904000</td>\n",
       "      <td>0.323396</td>\n",
       "      <td>0.9065</td>\n",
       "    </tr>\n",
       "    <tr>\n",
       "      <th>22</th>\n",
       "      <td>0.332677</td>\n",
       "      <td>0.904633</td>\n",
       "      <td>0.319041</td>\n",
       "      <td>0.9070</td>\n",
       "    </tr>\n",
       "    <tr>\n",
       "      <th>23</th>\n",
       "      <td>0.327594</td>\n",
       "      <td>0.905833</td>\n",
       "      <td>0.314065</td>\n",
       "      <td>0.9095</td>\n",
       "    </tr>\n",
       "    <tr>\n",
       "      <th>24</th>\n",
       "      <td>0.323175</td>\n",
       "      <td>0.907733</td>\n",
       "      <td>0.310053</td>\n",
       "      <td>0.9102</td>\n",
       "    </tr>\n",
       "  </tbody>\n",
       "</table>\n",
       "</div>"
      ],
      "text/plain": [
       "        loss  accuracy  val_loss  val_accuracy\n",
       "0   2.232565  0.204250  2.060334        0.3651\n",
       "1   1.870497  0.455617  1.638898        0.5518\n",
       "2   1.455392  0.607417  1.245569        0.6696\n",
       "3   1.111450  0.715117  0.953111        0.7605\n",
       "4   0.873329  0.786150  0.765143        0.8052\n",
       "5   0.724855  0.814633  0.649416        0.8263\n",
       "6   0.631550  0.831717  0.573666        0.8442\n",
       "7   0.569036  0.844750  0.522705        0.8549\n",
       "8   0.524089  0.855500  0.484989        0.8649\n",
       "9   0.490165  0.864217  0.455043        0.8713\n",
       "10  0.463337  0.871217  0.432605        0.8789\n",
       "11  0.441657  0.876683  0.413453        0.8826\n",
       "12  0.423562  0.881383  0.398210        0.8858\n",
       "13  0.408334  0.885317  0.384644        0.8905\n",
       "14  0.395230  0.889133  0.373418        0.8925\n",
       "15  0.383855  0.892000  0.363330        0.8957\n",
       "16  0.373924  0.894450  0.355189        0.8971\n",
       "17  0.365143  0.896600  0.346416        0.8996\n",
       "18  0.357335  0.898783  0.340907        0.9005\n",
       "19  0.350091  0.900500  0.334712        0.9017\n",
       "20  0.343867  0.902000  0.327648        0.9044\n",
       "21  0.338000  0.904000  0.323396        0.9065\n",
       "22  0.332677  0.904633  0.319041        0.9070\n",
       "23  0.327594  0.905833  0.314065        0.9095\n",
       "24  0.323175  0.907733  0.310053        0.9102"
      ]
     },
     "execution_count": 31,
     "metadata": {
      "tags": []
     },
     "output_type": "execute_result"
    }
   ],
   "source": [
    "pd.DataFrame.from_dict(bt_large.history)"
   ]
  },
  {
   "cell_type": "code",
   "execution_count": 32,
   "metadata": {
    "colab": {},
    "colab_type": "code",
    "id": "JFDiHlQAn5VI"
   },
   "outputs": [],
   "source": [
    "batch_sizes = []\n",
    "\n",
    "for exp, result in zip([bt_default, bt_small, bt_large], [\"32_\", \"8_\", \"512_\"]):\n",
    "\n",
    "  df = pd.DataFrame.from_dict(exp.history)\n",
    "  df['epoch'] = df.index.values\n",
    "  df['Batch Size'] = result\n",
    "\n",
    "  batch_sizes.append(df)"
   ]
  },
  {
   "cell_type": "code",
   "execution_count": 33,
   "metadata": {
    "colab": {
     "base_uri": "https://localhost:8080/",
     "height": 1000
    },
    "colab_type": "code",
    "id": "Zg31AKLDoAAk",
    "outputId": "405b313e-c815-4840-b571-80916eea3cb1"
   },
   "outputs": [
    {
     "data": {
      "text/plain": [
       "[        loss  accuracy  val_loss  val_accuracy  epoch Batch Size\n",
       " 0   0.763448  0.778550  0.364958        0.8956      0        32_\n",
       " 1   0.339391  0.901717  0.296171        0.9164      1        32_\n",
       " 2   0.287079  0.916167  0.257721        0.9262      2        32_\n",
       " 3   0.255788  0.926300  0.237651        0.9321      3        32_\n",
       " 4   0.231425  0.933817  0.216042        0.9381      4        32_\n",
       " 5   0.211153  0.939917  0.206250        0.9403      5        32_\n",
       " 6   0.194745  0.943883  0.186994        0.9443      6        32_\n",
       " 7   0.180743  0.948217  0.176439        0.9477      7        32_\n",
       " 8   0.169312  0.951067  0.168900        0.9516      8        32_\n",
       " 9   0.159450  0.953850  0.161378        0.9508      9        32_\n",
       " 10  0.150293  0.956433  0.155531        0.9526     10        32_\n",
       " 11  0.142816  0.958933  0.148105        0.9548     11        32_\n",
       " 12  0.136631  0.961200  0.147992        0.9559     12        32_\n",
       " 13  0.129891  0.962367  0.139977        0.9579     13        32_\n",
       " 14  0.124568  0.964117  0.145303        0.9564     14        32_\n",
       " 15  0.119668  0.966050  0.132844        0.9614     15        32_\n",
       " 16  0.114617  0.967167  0.135235        0.9602     16        32_\n",
       " 17  0.111044  0.968450  0.130564        0.9614     17        32_\n",
       " 18  0.106698  0.969067  0.126616        0.9614     18        32_\n",
       " 19  0.103433  0.970517  0.124999        0.9629     19        32_\n",
       " 20  0.100613  0.970717  0.124039        0.9627     20        32_\n",
       " 21  0.097221  0.971833  0.124344        0.9648     21        32_\n",
       " 22  0.094467  0.972833  0.118521        0.9651     22        32_\n",
       " 23  0.091593  0.973633  0.120131        0.9647     23        32_\n",
       " 24  0.089004  0.973800  0.118350        0.9657     24        32_,\n",
       "         loss  accuracy  val_loss  val_accuracy  epoch Batch Size\n",
       " 0   0.442476  0.871583  0.229710        0.9336      0         8_\n",
       " 1   0.211074  0.937367  0.182402        0.9443      1         8_\n",
       " 2   0.165864  0.951367  0.152043        0.9540      2         8_\n",
       " 3   0.138733  0.959917  0.137968        0.9591      3         8_\n",
       " 4   0.119942  0.964800  0.124050        0.9626      4         8_\n",
       " 5   0.106460  0.968250  0.119452        0.9623      5         8_\n",
       " 6   0.096987  0.970800  0.108894        0.9663      6         8_\n",
       " 7   0.087754  0.973550  0.110819        0.9668      7         8_\n",
       " 8   0.081620  0.974883  0.111175        0.9656      8         8_\n",
       " 9   0.074315  0.977883  0.105982        0.9670      9         8_\n",
       " 10  0.070236  0.978250  0.111925        0.9669     10         8_\n",
       " 11  0.065953  0.979183  0.102727        0.9683     11         8_\n",
       " 12  0.062339  0.980400  0.103713        0.9684     12         8_\n",
       " 13  0.058567  0.981433  0.103124        0.9694     13         8_\n",
       " 14  0.055538  0.982550  0.107089        0.9679     14         8_\n",
       " 15  0.052085  0.983383  0.113367        0.9671     15         8_\n",
       " 16  0.049566  0.984150  0.104172        0.9681     16         8_\n",
       " 17  0.047225  0.985233  0.102661        0.9700     17         8_\n",
       " 18  0.044427  0.985850  0.104112        0.9700     18         8_\n",
       " 19  0.042323  0.986533  0.116127        0.9684     19         8_\n",
       " 20  0.040653  0.987417  0.108166        0.9665     20         8_\n",
       " 21  0.039469  0.987217  0.122518        0.9663     21         8_\n",
       " 22  0.036823  0.988050  0.108936        0.9685     22         8_\n",
       " 23  0.034681  0.988967  0.118370        0.9688     23         8_\n",
       " 24  0.033237  0.989567  0.108304        0.9710     24         8_,\n",
       "         loss  accuracy  val_loss  val_accuracy  epoch Batch Size\n",
       " 0   2.232565  0.204250  2.060334        0.3651      0       512_\n",
       " 1   1.870497  0.455617  1.638898        0.5518      1       512_\n",
       " 2   1.455392  0.607417  1.245569        0.6696      2       512_\n",
       " 3   1.111450  0.715117  0.953111        0.7605      3       512_\n",
       " 4   0.873329  0.786150  0.765143        0.8052      4       512_\n",
       " 5   0.724855  0.814633  0.649416        0.8263      5       512_\n",
       " 6   0.631550  0.831717  0.573666        0.8442      6       512_\n",
       " 7   0.569036  0.844750  0.522705        0.8549      7       512_\n",
       " 8   0.524089  0.855500  0.484989        0.8649      8       512_\n",
       " 9   0.490165  0.864217  0.455043        0.8713      9       512_\n",
       " 10  0.463337  0.871217  0.432605        0.8789     10       512_\n",
       " 11  0.441657  0.876683  0.413453        0.8826     11       512_\n",
       " 12  0.423562  0.881383  0.398210        0.8858     12       512_\n",
       " 13  0.408334  0.885317  0.384644        0.8905     13       512_\n",
       " 14  0.395230  0.889133  0.373418        0.8925     14       512_\n",
       " 15  0.383855  0.892000  0.363330        0.8957     15       512_\n",
       " 16  0.373924  0.894450  0.355189        0.8971     16       512_\n",
       " 17  0.365143  0.896600  0.346416        0.8996     17       512_\n",
       " 18  0.357335  0.898783  0.340907        0.9005     18       512_\n",
       " 19  0.350091  0.900500  0.334712        0.9017     19       512_\n",
       " 20  0.343867  0.902000  0.327648        0.9044     20       512_\n",
       " 21  0.338000  0.904000  0.323396        0.9065     21       512_\n",
       " 22  0.332677  0.904633  0.319041        0.9070     22       512_\n",
       " 23  0.327594  0.905833  0.314065        0.9095     23       512_\n",
       " 24  0.323175  0.907733  0.310053        0.9102     24       512_]"
      ]
     },
     "execution_count": 33,
     "metadata": {
      "tags": []
     },
     "output_type": "execute_result"
    }
   ],
   "source": [
    "batch_sizes"
   ]
  },
  {
   "cell_type": "code",
   "execution_count": 34,
   "metadata": {
    "colab": {
     "base_uri": "https://localhost:8080/",
     "height": 419
    },
    "colab_type": "code",
    "id": "7FwIO-vboF5y",
    "outputId": "e9efb35b-a9bd-481c-8b8a-0a79108d0d6c"
   },
   "outputs": [
    {
     "data": {
      "text/html": [
       "<div>\n",
       "<style scoped>\n",
       "    .dataframe tbody tr th:only-of-type {\n",
       "        vertical-align: middle;\n",
       "    }\n",
       "\n",
       "    .dataframe tbody tr th {\n",
       "        vertical-align: top;\n",
       "    }\n",
       "\n",
       "    .dataframe thead th {\n",
       "        text-align: right;\n",
       "    }\n",
       "</style>\n",
       "<table border=\"1\" class=\"dataframe\">\n",
       "  <thead>\n",
       "    <tr style=\"text-align: right;\">\n",
       "      <th></th>\n",
       "      <th>loss</th>\n",
       "      <th>accuracy</th>\n",
       "      <th>val_loss</th>\n",
       "      <th>val_accuracy</th>\n",
       "      <th>epoch</th>\n",
       "      <th>Batch Size</th>\n",
       "    </tr>\n",
       "  </thead>\n",
       "  <tbody>\n",
       "    <tr>\n",
       "      <th>0</th>\n",
       "      <td>0.763448</td>\n",
       "      <td>0.778550</td>\n",
       "      <td>0.364958</td>\n",
       "      <td>0.8956</td>\n",
       "      <td>0</td>\n",
       "      <td>32_</td>\n",
       "    </tr>\n",
       "    <tr>\n",
       "      <th>1</th>\n",
       "      <td>0.339391</td>\n",
       "      <td>0.901717</td>\n",
       "      <td>0.296171</td>\n",
       "      <td>0.9164</td>\n",
       "      <td>1</td>\n",
       "      <td>32_</td>\n",
       "    </tr>\n",
       "    <tr>\n",
       "      <th>2</th>\n",
       "      <td>0.287079</td>\n",
       "      <td>0.916167</td>\n",
       "      <td>0.257721</td>\n",
       "      <td>0.9262</td>\n",
       "      <td>2</td>\n",
       "      <td>32_</td>\n",
       "    </tr>\n",
       "    <tr>\n",
       "      <th>3</th>\n",
       "      <td>0.255788</td>\n",
       "      <td>0.926300</td>\n",
       "      <td>0.237651</td>\n",
       "      <td>0.9321</td>\n",
       "      <td>3</td>\n",
       "      <td>32_</td>\n",
       "    </tr>\n",
       "    <tr>\n",
       "      <th>4</th>\n",
       "      <td>0.231425</td>\n",
       "      <td>0.933817</td>\n",
       "      <td>0.216042</td>\n",
       "      <td>0.9381</td>\n",
       "      <td>4</td>\n",
       "      <td>32_</td>\n",
       "    </tr>\n",
       "    <tr>\n",
       "      <th>...</th>\n",
       "      <td>...</td>\n",
       "      <td>...</td>\n",
       "      <td>...</td>\n",
       "      <td>...</td>\n",
       "      <td>...</td>\n",
       "      <td>...</td>\n",
       "    </tr>\n",
       "    <tr>\n",
       "      <th>20</th>\n",
       "      <td>0.343867</td>\n",
       "      <td>0.902000</td>\n",
       "      <td>0.327648</td>\n",
       "      <td>0.9044</td>\n",
       "      <td>20</td>\n",
       "      <td>512_</td>\n",
       "    </tr>\n",
       "    <tr>\n",
       "      <th>21</th>\n",
       "      <td>0.338000</td>\n",
       "      <td>0.904000</td>\n",
       "      <td>0.323396</td>\n",
       "      <td>0.9065</td>\n",
       "      <td>21</td>\n",
       "      <td>512_</td>\n",
       "    </tr>\n",
       "    <tr>\n",
       "      <th>22</th>\n",
       "      <td>0.332677</td>\n",
       "      <td>0.904633</td>\n",
       "      <td>0.319041</td>\n",
       "      <td>0.9070</td>\n",
       "      <td>22</td>\n",
       "      <td>512_</td>\n",
       "    </tr>\n",
       "    <tr>\n",
       "      <th>23</th>\n",
       "      <td>0.327594</td>\n",
       "      <td>0.905833</td>\n",
       "      <td>0.314065</td>\n",
       "      <td>0.9095</td>\n",
       "      <td>23</td>\n",
       "      <td>512_</td>\n",
       "    </tr>\n",
       "    <tr>\n",
       "      <th>24</th>\n",
       "      <td>0.323175</td>\n",
       "      <td>0.907733</td>\n",
       "      <td>0.310053</td>\n",
       "      <td>0.9102</td>\n",
       "      <td>24</td>\n",
       "      <td>512_</td>\n",
       "    </tr>\n",
       "  </tbody>\n",
       "</table>\n",
       "<p>75 rows × 6 columns</p>\n",
       "</div>"
      ],
      "text/plain": [
       "        loss  accuracy  val_loss  val_accuracy  epoch Batch Size\n",
       "0   0.763448  0.778550  0.364958        0.8956      0        32_\n",
       "1   0.339391  0.901717  0.296171        0.9164      1        32_\n",
       "2   0.287079  0.916167  0.257721        0.9262      2        32_\n",
       "3   0.255788  0.926300  0.237651        0.9321      3        32_\n",
       "4   0.231425  0.933817  0.216042        0.9381      4        32_\n",
       "..       ...       ...       ...           ...    ...        ...\n",
       "20  0.343867  0.902000  0.327648        0.9044     20       512_\n",
       "21  0.338000  0.904000  0.323396        0.9065     21       512_\n",
       "22  0.332677  0.904633  0.319041        0.9070     22       512_\n",
       "23  0.327594  0.905833  0.314065        0.9095     23       512_\n",
       "24  0.323175  0.907733  0.310053        0.9102     24       512_\n",
       "\n",
       "[75 rows x 6 columns]"
      ]
     },
     "execution_count": 34,
     "metadata": {
      "tags": []
     },
     "output_type": "execute_result"
    }
   ],
   "source": [
    "pd.concat(batch_sizes)"
   ]
  },
  {
   "cell_type": "code",
   "execution_count": 37,
   "metadata": {
    "colab": {
     "base_uri": "https://localhost:8080/",
     "height": 136
    },
    "colab_type": "code",
    "id": "pGeOu-aToJiW",
    "outputId": "0446e545-a05a-4516-a3e2-d620dd91e7c4"
   },
   "outputs": [
    {
     "data": {
      "text/plain": [
       "loss            float64\n",
       "accuracy        float64\n",
       "val_loss        float64\n",
       "val_accuracy    float64\n",
       "epoch             int64\n",
       "Batch Size       object\n",
       "dtype: object"
      ]
     },
     "execution_count": 37,
     "metadata": {
      "tags": []
     },
     "output_type": "execute_result"
    }
   ],
   "source": [
    "pd.concat(batch_sizes).dtypes"
   ]
  },
  {
   "cell_type": "code",
   "execution_count": 38,
   "metadata": {
    "colab": {
     "base_uri": "https://localhost:8080/",
     "height": 204
    },
    "colab_type": "code",
    "id": "o-5DOZNMKYt-",
    "outputId": "3f424ba9-f53a-4d85-af1c-21990220effc"
   },
   "outputs": [
    {
     "data": {
      "text/html": [
       "<div>\n",
       "<style scoped>\n",
       "    .dataframe tbody tr th:only-of-type {\n",
       "        vertical-align: middle;\n",
       "    }\n",
       "\n",
       "    .dataframe tbody tr th {\n",
       "        vertical-align: top;\n",
       "    }\n",
       "\n",
       "    .dataframe thead th {\n",
       "        text-align: right;\n",
       "    }\n",
       "</style>\n",
       "<table border=\"1\" class=\"dataframe\">\n",
       "  <thead>\n",
       "    <tr style=\"text-align: right;\">\n",
       "      <th></th>\n",
       "      <th>loss</th>\n",
       "      <th>accuracy</th>\n",
       "      <th>val_loss</th>\n",
       "      <th>val_accuracy</th>\n",
       "      <th>epoch</th>\n",
       "      <th>Batch Size</th>\n",
       "    </tr>\n",
       "  </thead>\n",
       "  <tbody>\n",
       "    <tr>\n",
       "      <th>0</th>\n",
       "      <td>0.763448</td>\n",
       "      <td>0.778550</td>\n",
       "      <td>0.364958</td>\n",
       "      <td>0.8956</td>\n",
       "      <td>0</td>\n",
       "      <td>32_</td>\n",
       "    </tr>\n",
       "    <tr>\n",
       "      <th>1</th>\n",
       "      <td>0.339391</td>\n",
       "      <td>0.901717</td>\n",
       "      <td>0.296171</td>\n",
       "      <td>0.9164</td>\n",
       "      <td>1</td>\n",
       "      <td>32_</td>\n",
       "    </tr>\n",
       "    <tr>\n",
       "      <th>2</th>\n",
       "      <td>0.287079</td>\n",
       "      <td>0.916167</td>\n",
       "      <td>0.257721</td>\n",
       "      <td>0.9262</td>\n",
       "      <td>2</td>\n",
       "      <td>32_</td>\n",
       "    </tr>\n",
       "    <tr>\n",
       "      <th>3</th>\n",
       "      <td>0.255788</td>\n",
       "      <td>0.926300</td>\n",
       "      <td>0.237651</td>\n",
       "      <td>0.9321</td>\n",
       "      <td>3</td>\n",
       "      <td>32_</td>\n",
       "    </tr>\n",
       "    <tr>\n",
       "      <th>4</th>\n",
       "      <td>0.231425</td>\n",
       "      <td>0.933817</td>\n",
       "      <td>0.216042</td>\n",
       "      <td>0.9381</td>\n",
       "      <td>4</td>\n",
       "      <td>32_</td>\n",
       "    </tr>\n",
       "  </tbody>\n",
       "</table>\n",
       "</div>"
      ],
      "text/plain": [
       "       loss  accuracy  val_loss  val_accuracy  epoch Batch Size\n",
       "0  0.763448  0.778550  0.364958        0.8956      0        32_\n",
       "1  0.339391  0.901717  0.296171        0.9164      1        32_\n",
       "2  0.287079  0.916167  0.257721        0.9262      2        32_\n",
       "3  0.255788  0.926300  0.237651        0.9321      3        32_\n",
       "4  0.231425  0.933817  0.216042        0.9381      4        32_"
      ]
     },
     "execution_count": 38,
     "metadata": {
      "tags": []
     },
     "output_type": "execute_result"
    }
   ],
   "source": [
    "df = pd.concat(batch_sizes)\n",
    "df['Batch Size'] = df['Batch Size'].astype('str')\n",
    "df.head()"
   ]
  },
  {
   "cell_type": "code",
   "execution_count": null,
   "metadata": {
    "colab": {
     "base_uri": "https://localhost:8080/",
     "height": 283
    },
    "colab_type": "code",
    "id": "rBAnAvdH1lyY",
    "outputId": "13787824-5c4f-4981-cb82-00500b02090b"
   },
   "outputs": [
    {
     "data": {
      "image/png": "[encoded data removed]",
      "text/plain": [
       "<Figure size 432x288 with 1 Axes>"
      ]
     },
     "metadata": {
      "needs_background": "light",
      "tags": []
     },
     "output_type": "display_data"
    }
   ],
   "source": [
    "sns.lineplot(x='epoch', y='val_accuracy', hue='Batch Size', data=df);"
   ]
  },
  {
   "cell_type": "code",
   "execution_count": null,
   "metadata": {
    "colab": {
     "base_uri": "https://localhost:8080/",
     "height": 279
    },
    "colab_type": "code",
    "id": "9hHy797z2AiN",
    "outputId": "f11af3e4-d1ff-4143-9126-89bc53817245"
   },
   "outputs": [
    {
     "data": {
      "image/png": "[encoded data removed]",
      "text/plain": [
       "<Figure size 432x288 with 1 Axes>"
      ]
     },
     "metadata": {
      "needs_background": "light",
      "tags": []
     },
     "output_type": "display_data"
    }
   ],
   "source": [
    "sns.lineplot(x='epoch', y='val_loss', hue='Batch Size', data=df);"
   ]
  },
  {
   "cell_type": "markdown",
   "metadata": {
    "colab_type": "text",
    "id": "4kZ2vUYYgclS"
   },
   "source": [
    "## Challenge\n",
    "\n",
    "You will be expected to experiment with batch size on today's assignment."
   ]
  },
  {
   "cell_type": "markdown",
   "metadata": {
    "colab_type": "text",
    "id": "46cP9Pm_gclS"
   },
   "source": [
    "# Learning Rate (Learn)"
   ]
  },
  {
   "cell_type": "markdown",
   "metadata": {
    "colab_type": "text",
    "id": "Bna67ADZgclT",
    "toc-hr-collapsed": true
   },
   "source": [
    "## Overview\n",
    "\n",
    "Learning Rate controls the size of the update to our weights that the optimization algorithm makes. VERY IMPORTANT hyperparameter.\n",
    "\n",
    "* Too high of a learning rate causes unstable results\n",
    "* Too Low of a learning rate the model will underfit\n",
    "* Goldilocks parameters - it needs be \"just right\"\n",
    "* Scale of 0-1"
   ]
  },
  {
   "cell_type": "markdown",
   "metadata": {
    "colab_type": "text",
    "id": "gsVYOn7bgcle",
    "toc-hr-collapsed": true
   },
   "source": [
    "## Follow Along\n",
    "\n",
    "Same experiment with Batch but different learning rates:\n",
    "* High Learning = .75\n",
    "* Default Learning = .01\n",
    "* Low Learning Rate = .0001"
   ]
  },
  {
   "cell_type": "markdown",
   "metadata": {
    "colab_type": "text",
    "id": "CI_H8Em1NOii"
   },
   "source": [
    "### Default Learning Rate"
   ]
  },
  {
   "cell_type": "code",
   "execution_count": 45,
   "metadata": {
    "colab": {
     "base_uri": "https://localhost:8080/",
     "height": 357
    },
    "colab_type": "code",
    "id": "Se8cb_ZUNVtL",
    "outputId": "8561c41b-4b7c-4f44-d895-dc36ef6bb0dd"
   },
   "outputs": [
    {
     "name": "stdout",
     "output_type": "stream",
     "text": [
      "Epoch 1/10\n",
      "1875/1875 [==============================] - 4s 2ms/step - loss: 0.7925 - accuracy: 0.7731 - val_loss: 0.3688 - val_accuracy: 0.8935\n",
      "Epoch 2/10\n",
      "1875/1875 [==============================] - 4s 2ms/step - loss: 0.3340 - accuracy: 0.9048 - val_loss: 0.2912 - val_accuracy: 0.9169\n",
      "Epoch 3/10\n",
      "1875/1875 [==============================] - 4s 2ms/step - loss: 0.2805 - accuracy: 0.9191 - val_loss: 0.2597 - val_accuracy: 0.9237\n",
      "Epoch 4/10\n",
      "1875/1875 [==============================] - 4s 2ms/step - loss: 0.2501 - accuracy: 0.9275 - val_loss: 0.2307 - val_accuracy: 0.9319\n",
      "Epoch 5/10\n",
      "1875/1875 [==============================] - 4s 2ms/step - loss: 0.2286 - accuracy: 0.9342 - val_loss: 0.2123 - val_accuracy: 0.9385\n",
      "Epoch 6/10\n",
      "1875/1875 [==============================] - 4s 2ms/step - loss: 0.2116 - accuracy: 0.9391 - val_loss: 0.2007 - val_accuracy: 0.9411\n",
      "Epoch 7/10\n",
      "1875/1875 [==============================] - 4s 2ms/step - loss: 0.1972 - accuracy: 0.9440 - val_loss: 0.1922 - val_accuracy: 0.9444\n",
      "Epoch 8/10\n",
      "1875/1875 [==============================] - 4s 2ms/step - loss: 0.1849 - accuracy: 0.9474 - val_loss: 0.1836 - val_accuracy: 0.9465\n",
      "Epoch 9/10\n",
      "1875/1875 [==============================] - 4s 2ms/step - loss: 0.1744 - accuracy: 0.9506 - val_loss: 0.1722 - val_accuracy: 0.9495\n",
      "Epoch 10/10\n",
      "1875/1875 [==============================] - 4s 2ms/step - loss: 0.1641 - accuracy: 0.9532 - val_loss: 0.1678 - val_accuracy: 0.9522\n"
     ]
    }
   ],
   "source": [
    "# Running with 10 for time, feel free to rerun with 25 to make nicer plots\n",
    "lr_default = create_model().fit(X_train, y_train,\n",
    "                                epochs=10,\n",
    "                                validation_data=(X_test,y_test)\n",
    ")"
   ]
  },
  {
   "cell_type": "markdown",
   "metadata": {
    "colab_type": "text",
    "id": "IQZ4SZdKNMRO"
   },
   "source": [
    "### High Learning Rate"
   ]
  },
  {
   "cell_type": "code",
   "execution_count": 46,
   "metadata": {
    "colab": {
     "base_uri": "https://localhost:8080/",
     "height": 357
    },
    "colab_type": "code",
    "id": "Ny72mU_dNWMR",
    "outputId": "c83e6ec1-4ef6-41c9-8b83-1236421d195d"
   },
   "outputs": [
    {
     "name": "stdout",
     "output_type": "stream",
     "text": [
      "Epoch 1/10\n",
      "1875/1875 [==============================] - 4s 2ms/step - loss: 0.7055 - accuracy: 0.7849 - val_loss: 0.3875 - val_accuracy: 0.8964\n",
      "Epoch 2/10\n",
      "1875/1875 [==============================] - 4s 2ms/step - loss: 0.4386 - accuracy: 0.8876 - val_loss: 0.4881 - val_accuracy: 0.8961\n",
      "Epoch 3/10\n",
      "1875/1875 [==============================] - 4s 2ms/step - loss: 0.4787 - accuracy: 0.8794 - val_loss: 0.5768 - val_accuracy: 0.8317\n",
      "Epoch 4/10\n",
      "1875/1875 [==============================] - 4s 2ms/step - loss: 0.6973 - accuracy: 0.7759 - val_loss: 0.5933 - val_accuracy: 0.8116\n",
      "Epoch 5/10\n",
      "1875/1875 [==============================] - 4s 2ms/step - loss: 0.6729 - accuracy: 0.7793 - val_loss: 0.7754 - val_accuracy: 0.7087\n",
      "Epoch 6/10\n",
      "1875/1875 [==============================] - 4s 2ms/step - loss: 0.7595 - accuracy: 0.7479 - val_loss: 1.8094 - val_accuracy: 0.6227\n",
      "Epoch 7/10\n",
      "1875/1875 [==============================] - 4s 2ms/step - loss: 0.6700 - accuracy: 0.7911 - val_loss: 0.7306 - val_accuracy: 0.7336\n",
      "Epoch 8/10\n",
      "1875/1875 [==============================] - 4s 2ms/step - loss: 0.7629 - accuracy: 0.7369 - val_loss: 1.3561 - val_accuracy: 0.5500\n",
      "Epoch 9/10\n",
      "1875/1875 [==============================] - 4s 2ms/step - loss: 1.3544 - accuracy: 0.4468 - val_loss: 1.2786 - val_accuracy: 0.4357\n",
      "Epoch 10/10\n",
      "1875/1875 [==============================] - 4s 2ms/step - loss: 1.3404 - accuracy: 0.4130 - val_loss: 2.0020 - val_accuracy: 0.2603\n"
     ]
    }
   ],
   "source": [
    "lr_high = create_model(lr=.75).fit(X_train, y_train,\n",
    "                                epochs=10,\n",
    "                                validation_data=(X_test,y_test)\n",
    ")"
   ]
  },
  {
   "cell_type": "markdown",
   "metadata": {
    "colab_type": "text",
    "id": "kAqDmTVBNSMR"
   },
   "source": [
    "### Low Learning Rate"
   ]
  },
  {
   "cell_type": "code",
   "execution_count": 47,
   "metadata": {
    "colab": {
     "base_uri": "https://localhost:8080/",
     "height": 357
    },
    "colab_type": "code",
    "id": "Ech1ER64NXBn",
    "outputId": "28339a59-868f-41c6-9383-8f2bbc14910a"
   },
   "outputs": [
    {
     "name": "stdout",
     "output_type": "stream",
     "text": [
      "Epoch 1/10\n",
      "1875/1875 [==============================] - 4s 2ms/step - loss: 2.2509 - accuracy: 0.1620 - val_loss: 2.2099 - val_accuracy: 0.1994\n",
      "Epoch 2/10\n",
      "1875/1875 [==============================] - 4s 2ms/step - loss: 2.1764 - accuracy: 0.2207 - val_loss: 2.1322 - val_accuracy: 0.2607\n",
      "Epoch 3/10\n",
      "1875/1875 [==============================] - 4s 2ms/step - loss: 2.0966 - accuracy: 0.2863 - val_loss: 2.0472 - val_accuracy: 0.3302\n",
      "Epoch 4/10\n",
      "1875/1875 [==============================] - 4s 2ms/step - loss: 2.0105 - accuracy: 0.3523 - val_loss: 1.9570 - val_accuracy: 0.3963\n",
      "Epoch 5/10\n",
      "1875/1875 [==============================] - 3s 2ms/step - loss: 1.9210 - accuracy: 0.4186 - val_loss: 1.8638 - val_accuracy: 0.4604\n",
      "Epoch 6/10\n",
      "1875/1875 [==============================] - 4s 2ms/step - loss: 1.8285 - accuracy: 0.4786 - val_loss: 1.7681 - val_accuracy: 0.5148\n",
      "Epoch 7/10\n",
      "1875/1875 [==============================] - 4s 2ms/step - loss: 1.7341 - accuracy: 0.5309 - val_loss: 1.6713 - val_accuracy: 0.5624\n",
      "Epoch 8/10\n",
      "1875/1875 [==============================] - 4s 2ms/step - loss: 1.6393 - accuracy: 0.5763 - val_loss: 1.5748 - val_accuracy: 0.6025\n",
      "Epoch 9/10\n",
      "1875/1875 [==============================] - 4s 2ms/step - loss: 1.5455 - accuracy: 0.6194 - val_loss: 1.4798 - val_accuracy: 0.6412\n",
      "Epoch 10/10\n",
      "1875/1875 [==============================] - 4s 2ms/step - loss: 1.4541 - accuracy: 0.6585 - val_loss: 1.3884 - val_accuracy: 0.6847\n"
     ]
    }
   ],
   "source": [
    "lr_low = create_model(lr=.0001).fit(X_train, y_train,\n",
    "                                epochs=10,\n",
    "                                validation_data=(X_test,y_test)\n",
    ")"
   ]
  },
  {
   "cell_type": "markdown",
   "metadata": {
    "colab_type": "text",
    "id": "sZe6DyhANXdU"
   },
   "source": [
    "### Visualization of Results"
   ]
  },
  {
   "cell_type": "code",
   "execution_count": 48,
   "metadata": {
    "colab": {
     "base_uri": "https://localhost:8080/",
     "height": 204
    },
    "colab_type": "code",
    "id": "Bn-BdFdMNph-",
    "outputId": "70334ca1-767b-41e6-9813-eb2cafc97125"
   },
   "outputs": [
    {
     "data": {
      "text/html": [
       "<div>\n",
       "<style scoped>\n",
       "    .dataframe tbody tr th:only-of-type {\n",
       "        vertical-align: middle;\n",
       "    }\n",
       "\n",
       "    .dataframe tbody tr th {\n",
       "        vertical-align: top;\n",
       "    }\n",
       "\n",
       "    .dataframe thead th {\n",
       "        text-align: right;\n",
       "    }\n",
       "</style>\n",
       "<table border=\"1\" class=\"dataframe\">\n",
       "  <thead>\n",
       "    <tr style=\"text-align: right;\">\n",
       "      <th></th>\n",
       "      <th>loss</th>\n",
       "      <th>accuracy</th>\n",
       "      <th>val_loss</th>\n",
       "      <th>val_accuracy</th>\n",
       "      <th>epoch</th>\n",
       "      <th>Learning Rate</th>\n",
       "    </tr>\n",
       "  </thead>\n",
       "  <tbody>\n",
       "    <tr>\n",
       "      <th>0</th>\n",
       "      <td>0.792472</td>\n",
       "      <td>0.773133</td>\n",
       "      <td>0.368822</td>\n",
       "      <td>0.8935</td>\n",
       "      <td>0</td>\n",
       "      <td>.01_</td>\n",
       "    </tr>\n",
       "    <tr>\n",
       "      <th>1</th>\n",
       "      <td>0.333966</td>\n",
       "      <td>0.904800</td>\n",
       "      <td>0.291172</td>\n",
       "      <td>0.9169</td>\n",
       "      <td>1</td>\n",
       "      <td>.01_</td>\n",
       "    </tr>\n",
       "    <tr>\n",
       "      <th>2</th>\n",
       "      <td>0.280522</td>\n",
       "      <td>0.919150</td>\n",
       "      <td>0.259674</td>\n",
       "      <td>0.9237</td>\n",
       "      <td>2</td>\n",
       "      <td>.01_</td>\n",
       "    </tr>\n",
       "    <tr>\n",
       "      <th>3</th>\n",
       "      <td>0.250080</td>\n",
       "      <td>0.927450</td>\n",
       "      <td>0.230655</td>\n",
       "      <td>0.9319</td>\n",
       "      <td>3</td>\n",
       "      <td>.01_</td>\n",
       "    </tr>\n",
       "    <tr>\n",
       "      <th>4</th>\n",
       "      <td>0.228590</td>\n",
       "      <td>0.934250</td>\n",
       "      <td>0.212264</td>\n",
       "      <td>0.9385</td>\n",
       "      <td>4</td>\n",
       "      <td>.01_</td>\n",
       "    </tr>\n",
       "  </tbody>\n",
       "</table>\n",
       "</div>"
      ],
      "text/plain": [
       "       loss  accuracy  val_loss  val_accuracy  epoch Learning Rate\n",
       "0  0.792472  0.773133  0.368822        0.8935      0          .01_\n",
       "1  0.333966  0.904800  0.291172        0.9169      1          .01_\n",
       "2  0.280522  0.919150  0.259674        0.9237      2          .01_\n",
       "3  0.250080  0.927450  0.230655        0.9319      3          .01_\n",
       "4  0.228590  0.934250  0.212264        0.9385      4          .01_"
      ]
     },
     "execution_count": 48,
     "metadata": {
      "tags": []
     },
     "output_type": "execute_result"
    }
   ],
   "source": [
    "import seaborn as sns\n",
    "import pandas as pd\n",
    "\n",
    "batch_sizes = []\n",
    "\n",
    "for exp, result in zip([lr_default, lr_low, lr_high], [\".01_\", \".0001_\", \".75_\"]):\n",
    "\n",
    "  df = pd.DataFrame.from_dict(exp.history)\n",
    "  df['epoch'] = df.index.values\n",
    "  df['Learning Rate'] = result\n",
    "\n",
    "  batch_sizes.append(df)\n",
    "\n",
    "df = pd.concat(batch_sizes)\n",
    "df['Learning Rate'] = df['Learning Rate'].astype('str')\n",
    "df.head()"
   ]
  },
  {
   "cell_type": "markdown",
   "metadata": {
    "colab_type": "text",
    "id": "QtYbKjRls55e"
   },
   "source": [
    "> *Large learning rate cannot converge.\n",
    "\n",
    "Too small learning rate need lots of epochs to get to high accuracy, and it's slow*"
   ]
  },
  {
   "cell_type": "code",
   "execution_count": 49,
   "metadata": {
    "colab": {
     "base_uri": "https://localhost:8080/",
     "height": 279
    },
    "colab_type": "code",
    "id": "6nM1XNkJ3pz3",
    "outputId": "563d3758-7e56-44ac-cd72-86d90f35c1f8"
   },
   "outputs": [
    {
     "data": {
      "image/png": "[encoded data removed]",
      "text/plain": [
       "<Figure size 432x288 with 1 Axes>"
      ]
     },
     "metadata": {
      "needs_background": "light",
      "tags": []
     },
     "output_type": "display_data"
    }
   ],
   "source": [
    "sns.lineplot(x='epoch', y='val_accuracy', hue='Learning Rate', data=df);"
   ]
  },
  {
   "cell_type": "code",
   "execution_count": 50,
   "metadata": {
    "colab": {
     "base_uri": "https://localhost:8080/",
     "height": 279
    },
    "colab_type": "code",
    "id": "XkIia1ZB3luY",
    "outputId": "18f119a1-0a28-4b7d-b31b-471d3cf5e7e7"
   },
   "outputs": [
    {
     "data": {
      "image/png": "[encoded data removed]",
      "text/plain": [
       "<Figure size 432x288 with 1 Axes>"
      ]
     },
     "metadata": {
      "needs_background": "light",
      "tags": []
     },
     "output_type": "display_data"
    }
   ],
   "source": [
    "sns.lineplot(x='epoch', y='val_loss', hue='Learning Rate', data=df);"
   ]
  },
  {
   "cell_type": "markdown",
   "metadata": {
    "colab_type": "text",
    "id": "Kb2aiw_Sgcl7"
   },
   "source": [
    "## Challenge\n",
    "\n",
    "You will be expected to experiment with different learning rates today.\n",
    "\n",
    "---"
   ]
  }
 ],
 "metadata": {
  "accelerator": "GPU",
  "colab": {
   "collapsed_sections": [],
   "include_colab_link": true,
   "name": "LS_DS17_422_Train.ipynb",
   "provenance": []
  },
  "kernelspec": {
   "display_name": "u4-s2-nnf-",
   "language": "python",
   "name": "u4-s2-nnf"
  },
  "language_info": {
   "codemirror_mode": {
    "name": "ipython",
    "version": 3
   },
   "file_extension": ".py",
   "mimetype": "text/x-python",
   "name": "python",
   "nbconvert_exporter": "python",
   "pygments_lexer": "ipython3",
   "version": "3.7.0"
  }
 },
 "nbformat": 4,
 "nbformat_minor": 4
}
