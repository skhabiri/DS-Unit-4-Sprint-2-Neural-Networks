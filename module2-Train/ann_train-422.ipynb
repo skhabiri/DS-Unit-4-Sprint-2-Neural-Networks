{
 "cells": [
  {
   "cell_type": "markdown",
   "metadata": {
    "colab_type": "text",
    "id": "view-in-github"
   },
   "source": [
    "<a href=\"https://colab.research.google.com/github/skhabiri/DS-Unit-4-Sprint-2-Neural-Networks/blob/main/module2-Train/LS_DS17_422_Train.ipynb\" target=\"_parent\"><img src=\"https://colab.research.google.com/assets/colab-badge.svg\" alt=\"Open In Colab\"/></a>"
   ]
  },
  {
   "cell_type": "markdown",
   "metadata": {
    "colab_type": "text",
    "id": "aS4GZ37Wgcjr"
   },
   "source": [
    "*Unit 4, Sprint 2, Module 2*\n",
    "\n",
    "---"
   ]
  },
  {
   "cell_type": "markdown",
   "metadata": {
    "colab_type": "text",
    "id": "etFf1WLWgcjt",
    "toc-hr-collapsed": false
   },
   "source": [
    "# Train (Prepare)\n",
    "__*Neural Network Foundations*__"
   ]
  },
  {
   "cell_type": "markdown",
   "metadata": {
    "colab_type": "text",
    "id": "hXB80QOhgcju"
   },
   "source": [
    "## Learning Objectives\n",
    "* <a href=\"#p1\">Part 1</a>: explain the intuition behind backpropagation and gradient descent\n",
    "* <a href=\"#p2\">Part 2</a>: able to discuss the importance of batch size\n",
    "* <a href=\"#p3\">Part 3</a>: able to discuss the importance of learning rate"
   ]
  },
  {
   "cell_type": "markdown",
   "metadata": {
    "colab_type": "text",
    "id": "8YuQu2lfgcju"
   },
   "source": [
    "## Summary of Yesterday\n",
    "\n",
    "Yesterday, we learned about some of the principal components of Neural Networks: Neurons, Weights, Activation Functions, and layers (input, output, & hidden). Today, we will reinforce our understanding of those components and introduce the mechanics of training a neural network. Feed-forward neural networks, such as multi-layer perceptrons (MLPs), are almost always trained using some variation of gradient descent where the gradient has been calculated by backpropagation.\n",
    "\n",
    "  <center><img src=\"https://github.com/skhabiri/ML-ANN/raw/main/module2-Train/images/IMG_0167.jpeg\" width=400></center>\n",
    "\n",
    "- There are three kinds of layers: input, hidden, and output layers.\n",
    "- Each layer is made up of **n** individual neurons (aka activation units) which have a corresponding weight and bias.\n",
    "- Signal is passed from layer to layer through a network by:\n",
    " - Taking in inputs from the training data (or previous layer)\n",
    " - Multiplying each input by its corresponding weight (think arrow/connecting line)\n",
    " - Adding a bias to this weighted some of inputs and weights\n",
    " - Activating this weighted sum + bias by squishifying it with sigmoid or some other activation function. With a single perceptron with three inputs, calculating the output from the node is done like so:\n",
    "\\begin{align}\n",
    " y = sigmoid(\\sum(weight_{1}input_{1} + weight_{2}input_{2} + weight_{3}input_{3}) + bias)\n",
    "\\end{align}\n",
    " - this final activated value is the signal that gets passed onto the next layer of the network.\n",
    " "
   ]
  },
  {
   "cell_type": "markdown",
   "metadata": {
    "colab_type": "text",
    "id": "bpi4R03rgcjv"
   },
   "source": [
    "## Training a Neural Network: *Formal Summary*\n",
    "\n",
    "0. Pick a network architecture\n",
    "   - No. of input units = No. of features\n",
    "   - No. of output units = Number of Classes (or expected targets)\n",
    "   - Select the number of hidden layers and number of neurons within each hidden layer\n",
    "1. Randomly initialize weights, $\\theta$\n",
    "2. Implement forward propagation to get $h_{\\theta}(x^{(i)})$ for any $x^{(i)}$\n",
    "3. Implement code to compute a cost function $J(\\theta)$\n",
    "4. Implement backpropagation to compute partial derivatives $\\frac{\\delta}{\\delta\\theta_{jk}^{l}}{J(\\theta)}$\n",
    "5. Use gradient descent (or other advanced optimizer) with backpropagation to minimize $J(\\theta)$ as a function of parameters $\\theta$\n",
    "6. Repeat steps 2 - 5 until cost function is 'minimized' or some other stopping criteria is met. One pass over steps 2 - 5 is called an iteration or epoch."
   ]
  },
  {
   "cell_type": "markdown",
   "metadata": {
    "colab_type": "text",
    "id": "aM4CK1IarId4",
    "toc-hr-collapsed": false
   },
   "source": [
    "# Backpropagation & Gradient Descent (Learn)\n",
    "<a id=\"p1\"></a>"
   ]
  },
  {
   "cell_type": "markdown",
   "metadata": {
    "colab_type": "text",
    "id": "Ktm8Fmoagcjy",
    "toc-hr-collapsed": true
   },
   "source": [
    "## Overview\n",
    "\n",
    "Backpropagation is short for [\"Backwards Propagation of errors\"](https://en.wikipedia.org/wiki/Backpropagation) and refers to a specific (rather calculus intensive) algorithm for how weights in a neural network are updated in reverse order at the end of each training epoch. Our purpose today is to demonstrate the backpropagation algorithm on a simple Feedforward Neural Network and in doing so help you get a grasp on the main process. If you want to understand all of the underlying calculus of how the gradients are calculated then you'll need to dive into it yourself, [3Blue1Brown's video is a great starting place](https://www.youtube.com/watch?v=tIeHLnjs5U8). I also highly recommend this Welch Labs series [Neural Networks Demystified](https://www.youtube.com/watch?v=bxe2T-V8XRs) if you want a rapid yet orderly walk through of the main intuitions and math behind the backpropagation algorithm. "
   ]
  },
  {
   "cell_type": "markdown",
   "metadata": {
    "colab_type": "text",
    "id": "NXI2tEO9gcjy"
   },
   "source": [
    "### What is a Gradient?\n",
    "\n",
    "> In vector calculus, the gradient is a multi-variable generalization of the derivative. \n",
    "\n",
    "The gradients that we will deal with today will be vector representations of the derivative of the activation function. "
   ]
  },
  {
   "cell_type": "markdown",
   "metadata": {},
   "source": [
    "### Review: A basic derivative \n",
    "\n",
    "![](https://github.com/skhabiri/ML-ANN/raw/main/module2-Train/images/derivativelimitdef.gif)"
   ]
  },
  {
   "cell_type": "markdown",
   "metadata": {},
   "source": [
    "### Gradients: Multi-dimensional derivatives\n",
    "\n",
    "![](https://github.com/skhabiri/ML-ANN/raw/main/module2-Train/images/gradient.png)\n",
    "\n",
    "\n",
    "\n",
    "Because a derivative can have a component in multiple dimensions, we define a gradient as a multi-dimensional derivative that takes on the form of a vector. Why a vector? Because gradients have both direction and magnitude. \n",
    "\n",
    "**In short, gradients point in the direction of greatest change.**\n",
    "![](https://github.com/skhabiri/ML-ANN/raw/main/module2-Train/images/OI6Gy.gif)"
   ]
  },
  {
   "cell_type": "markdown",
   "metadata": {},
   "source": [
    "### Gradient Descent Formula \n",
    "This is a general formula for standard Gradient Descent. \n",
    "<center><img src=\"https://github.com/skhabiri/ML-ANN/raw/main/module2-Train/images/1406-7.png\" width=300><center>\n",
    "$\\theta$ is weight, J is the loss function.\n",
    "\n",
    "There are more sophisticated version of gradient descent commonly referred to as [**Adaptive Gradient Descent**](https://ruder.io/optimizing-gradient-descent/). \n",
    "\n",
    "\n",
    "These adaptive models all build off of this simple equation, so it's best to first understand the standard form of Gradient Descent, then move on to more sophisticated versions. "
   ]
  },
  {
   "cell_type": "markdown",
   "metadata": {},
   "source": [
    "### Geometry of Gradient Descent \n",
    "\n",
    "![](https://github.com/skhabiri/ML-ANN/raw/main/module2-Train/images/yk1mk.png)"
   ]
  },
  {
   "cell_type": "markdown",
   "metadata": {},
   "source": [
    "## Convex vs. Non-Convex\n",
    "\n",
    "Loss curves won't always have a single minimum point for gradient descent to converge towards. Sometimes there are multiple minimums. \n",
    "\n",
    "**Global Minimum:** The absolute minimum location of a curve (or surface). \n",
    "\n",
    "**Local Minimum:** The local minimum location of a curve (or surface). \n",
    "\n",
    "### In 2-Dimensions\n",
    "![](https://lh3.googleusercontent.com/o0J1qW2PhvrgsPbYzKgnuNGDyjZF7wug3OBwDPwY5LXD0Vjg3t3otN6ecZ64K8J62sNonpvZxzKTs0pMr9YniDUmQC5J-IFXmSNvRJTbxr9kyAfNP-_A7HdC8hEa9x1dDgnf9jSp)\n",
    "\n",
    "\n",
    "### In 3-Dimensions \n",
    "In Calculus, those ambiguous points that take on the form of both local mins and local maxs are known as [**Saddle points**](https://en.wikipedia.org/wiki/Saddle_point). It's not necessary to dive into the mathematics, the key take away is that non-convex error curves (and surfaces) have this global/local minimum issue. \n",
    "\n",
    "![](https://github.com/skhabiri/ML-ANN/raw/main/module2-Train/images/convex-non-convex-9c8cb9320d4b0392c5f67004e8832e85.jpg)\n",
    "\n",
    "\n",
    "**Take Away:** The issue is that you might think that gradient descent has converged toward a global minimum but it might actually be stuck in a local minimum. \n",
    "\n",
    "There are at least 2 possible solutions to this problem: \n",
    "\n",
    "1) Use different appraoches to randomly initalizing your model weights\n",
    "For this check out [Keras's docs on Weight Initializers](https://keras.io/api/layers/initializers/). Treat these weight initializers as just another hyper-parameter to include in your gridsearch. It's a good idea to get into the practice of including these in your gridsearches. \n",
    "\n",
    "\n",
    "2) Use non-gradient descent optimizers such as [Particle Swarm](https://en.wikipedia.org/wiki/Particle_swarm_optimization) or [Genetic Algorithms](https://en.wikipedia.org/wiki/Genetic_algorithm). Feel free to read up on these appraoches but know that **you are not expected to know these appraoches** and they are outside the scope of this course. "
   ]
  },
  {
   "cell_type": "markdown",
   "metadata": {
    "colab_type": "text",
    "id": "UZY66kiUgcjz",
    "toc-hr-collapsed": true
   },
   "source": [
    "## Follow Along\n",
    "\n",
    "In this section, we will begin a simple neural network using base TensorFlow. We'll focus on using a __Feed Forward Neural Network__ to predict test scores. "
   ]
  },
  {
   "cell_type": "markdown",
   "metadata": {
    "colab_type": "text",
    "id": "Dm2HPETcrgy6",
    "toc-hr-collapsed": true
   },
   "source": [
    "<center><img src=\"https://github.com/skhabiri/ML-ANN/raw/main/module2-Train/images/IMG_99C94113202D-1.jpeg\" width=500></center>"
   ]
  },
  {
   "cell_type": "markdown",
   "metadata": {
    "colab_type": "text",
    "id": "4d4tzpwO6B47"
   },
   "source": [
    "### Generate some Fake Data"
   ]
  },
  {
   "cell_type": "code",
   "execution_count": 122,
   "metadata": {
    "colab": {},
    "colab_type": "code",
    "id": "ERyVgeO_IWyV"
   },
   "outputs": [],
   "source": [
    "import tensorflow as tf\n",
    "\n",
    "# Imagine that our data is drawn from a linear function\n",
    "# y = 3.5*hours_studying + 50\n",
    "\n",
    "TRUE_W = 3.5\n",
    "TRUE_b = 50.0\n",
    "NUM_EXAMPLES = 1000\n",
    "\n",
    "# Default is mean=0 std=1, dtype=tf.float32, a subclass of numpy array!\n",
    "inputs = tf.random.normal(shape=[NUM_EXAMPLES], mean=0, stddev=1, dtype=tf.float32, seed=42)\n",
    "noise = tf.random.normal(shape=[NUM_EXAMPLES], mean=0, stddev=1, dtype=tf.float32, seed=42)\n",
    "\n",
    "outputs = inputs * TRUE_W + TRUE_b + noise"
   ]
  },
  {
   "cell_type": "code",
   "execution_count": 123,
   "metadata": {
    "colab": {
     "base_uri": "https://localhost:8080/",
     "height": 34
    },
    "colab_type": "code",
    "id": "2MJaPSr1OMuj",
    "outputId": "e2894df8-2534-4fbf-ddf1-6a8ca3406a5a"
   },
   "outputs": [
    {
     "data": {
      "text/plain": [
       "tensorflow.python.framework.ops.EagerTensor"
      ]
     },
     "execution_count": 123,
     "metadata": {},
     "output_type": "execute_result"
    }
   ],
   "source": [
    "type(inputs)"
   ]
  },
  {
   "cell_type": "code",
   "execution_count": 124,
   "metadata": {
    "colab": {
     "base_uri": "https://localhost:8080/",
     "height": 68
    },
    "colab_type": "code",
    "id": "2khtdq0uoI_P",
    "outputId": "0270cb95-5eb7-4831-c40b-967efd40f841"
   },
   "outputs": [
    {
     "data": {
      "text/plain": [
       "<tf.Tensor: shape=(5,), dtype=float32, numpy=\n",
       "array([-0.30181396,  0.3082868 ,  0.26419073,  1.3887519 ,  0.10319646],\n",
       "      dtype=float32)>"
      ]
     },
     "execution_count": 124,
     "metadata": {},
     "output_type": "execute_result"
    }
   ],
   "source": [
    "inputs[:5]"
   ]
  },
  {
   "cell_type": "code",
   "execution_count": 125,
   "metadata": {
    "colab": {
     "base_uri": "https://localhost:8080/",
     "height": 68
    },
    "colab_type": "code",
    "id": "2sCoajXKoPmQ",
    "outputId": "c5edae47-89c6-4dbe-df76-bd956b09ba16"
   },
   "outputs": [
    {
     "data": {
      "text/plain": [
       "<tf.Tensor: shape=(5,), dtype=float32, numpy=\n",
       "array([-0.6421852 ,  0.14922464,  1.6643958 ,  0.21560265, -1.1721212 ],\n",
       "      dtype=float32)>"
      ]
     },
     "execution_count": 125,
     "metadata": {},
     "output_type": "execute_result"
    }
   ],
   "source": [
    "noise[:5]"
   ]
  },
  {
   "cell_type": "code",
   "execution_count": 126,
   "metadata": {
    "colab": {
     "base_uri": "https://localhost:8080/",
     "height": 68
    },
    "colab_type": "code",
    "id": "rSCxwl_toRDS",
    "outputId": "a69cbb26-cd02-4c92-b3a3-cb526c3d068a"
   },
   "outputs": [
    {
     "data": {
      "text/plain": [
       "<tf.Tensor: shape=(5,), dtype=float32, numpy=\n",
       "array([48.301464, 51.228226, 52.58906 , 55.076233, 49.189064],\n",
       "      dtype=float32)>"
      ]
     },
     "execution_count": 126,
     "metadata": {},
     "output_type": "execute_result"
    }
   ],
   "source": [
    "outputs[:5]"
   ]
  },
  {
   "cell_type": "code",
   "execution_count": null,
   "metadata": {},
   "outputs": [],
   "source": []
  },
  {
   "cell_type": "markdown",
   "metadata": {
    "id": "bCJesGEUgcj4"
   },
   "source": [
    "### Loss Function\n",
    "Here we will use Mean Squared Error (MSE), because this is a regression problem. We are trying to predict a continuous target.\n",
    "\n",
    "<left><img src=\"https://github.com/skhabiri/ML-ANN/raw/main/module2-Train/images/1_-e1QGatrODWpJkEwqP4Jyg.png\" width=200></left>"
   ]
  },
  {
   "cell_type": "code",
   "execution_count": 127,
   "metadata": {
    "colab": {},
    "colab_type": "code",
    "id": "cDeUBW6k4Ri4"
   },
   "outputs": [],
   "source": [
    "def loss(target_y, predicted_y):\n",
    "  \"MSE, Note that the loss function operates over the entire array\"\n",
    "  # Computes the mean of elements across dimensions of a tensor.\n",
    "  # Computes square of x element-wise.\n",
    "  return tf.reduce_mean(tf.square(target_y - predicted_y))"
   ]
  },
  {
   "cell_type": "markdown",
   "metadata": {
    "colab_type": "text",
    "id": "bgTf6vTS69Sw"
   },
   "source": [
    "### Neural Network Architecture\n",
    "Lets create a Neural Network class called \"Model\" to contain this functionality. Note: This is essentially a linear regression whose coefficients are trained by gradient descent. In practice, gradient descent works on much more complex function like the multi-layer networks we constructed yesterday."
   ]
  },
  {
   "cell_type": "code",
   "execution_count": 128,
   "metadata": {
    "colab": {
     "base_uri": "https://localhost:8080/",
     "height": 1000
    },
    "colab_type": "code",
    "id": "Cl8MpENgWM88",
    "outputId": "683fece6-c202-43df-dafc-487bdffd22a8"
   },
   "outputs": [
    {
     "data": {
      "text/plain": [
       "['AggregationMethod',\n",
       " 'Assert',\n",
       " 'CriticalSection',\n",
       " 'DType',\n",
       " 'DeviceSpec',\n",
       " 'GradientTape',\n",
       " 'Graph',\n",
       " 'IndexedSlices',\n",
       " 'IndexedSlicesSpec',\n",
       " 'Module',\n",
       " 'Operation',\n",
       " 'OptionalSpec',\n",
       " 'RaggedTensor',\n",
       " 'RaggedTensorSpec',\n",
       " 'RegisterGradient',\n",
       " 'SparseTensor',\n",
       " 'SparseTensorSpec',\n",
       " 'Tensor',\n",
       " 'TensorArray',\n",
       " 'TensorArraySpec',\n",
       " 'type_spec_from_value',\n",
       " 'types',\n",
       " 'uint16',\n",
       " 'uint32',\n",
       " 'uint64',\n",
       " 'uint8',\n",
       " 'unique',\n",
       " 'unique_with_counts',\n",
       " 'unravel_index',\n",
       " 'unstack',\n",
       " 'variable_creator_scope',\n",
       " 'variant',\n",
       " 'vectorized_map',\n",
       " 'version',\n",
       " 'where',\n",
       " 'while_loop',\n",
       " 'xla',\n",
       " 'zeros',\n",
       " 'zeros_initializer',\n",
       " 'zeros_like']"
      ]
     },
     "execution_count": 128,
     "metadata": {},
     "output_type": "execute_result"
    }
   ],
   "source": [
    "dir(tf)[:20] + dir(tf)[-20:]"
   ]
  },
  {
   "cell_type": "markdown",
   "metadata": {},
   "source": [
    "*In TensorFlow the differences between constants and variables are that when you declare some constant, its value can't be changed in the future (also the initialization should be with a value, not with operation). Nevertheless, when you declare a Variable, you can change its value in the future with tf.assign() method (and the initialization can be achieved with a value or operation).*"
   ]
  },
  {
   "cell_type": "code",
   "execution_count": 129,
   "metadata": {
    "colab": {
     "base_uri": "https://localhost:8080/",
     "height": 68
    },
    "colab_type": "code",
    "id": "GWN8tHfYV8JW",
    "outputId": "a60221b6-1500-4fac-c46a-adab5096cdc6"
   },
   "outputs": [
    {
     "name": "stdout",
     "output_type": "stream",
     "text": [
      "<tf.Variable 'Variable:0' shape=(2, 1) dtype=float32, numpy=\n",
      "array([[1.],\n",
      "       [2.]], dtype=float32)>\n"
     ]
    },
    {
     "data": {
      "text/plain": [
       "<tf.Tensor: shape=(1, 2), dtype=float32, numpy=array([[3., 4.]], dtype=float32)>"
      ]
     },
     "execution_count": 129,
     "metadata": {},
     "output_type": "execute_result"
    }
   ],
   "source": [
    "# Experiment with tensor operator\n",
    "w = tf.Variable([[1.], [2.]])\n",
    "x = tf.constant([[3., 4.]])\n",
    "print(w)\n",
    "x"
   ]
  },
  {
   "cell_type": "code",
   "execution_count": 130,
   "metadata": {},
   "outputs": [
    {
     "data": {
      "text/plain": [
       "<tf.Tensor: shape=(2, 2), dtype=float32, numpy=\n",
       "array([[4., 5.],\n",
       "       [5., 6.]], dtype=float32)>"
      ]
     },
     "execution_count": 130,
     "metadata": {},
     "output_type": "execute_result"
    }
   ],
   "source": [
    "# Like numpy expands dimensions:\n",
    "\"\"\"\n",
    "[1,1]   [3,4]   [4,5]\n",
    "[2,2] + [3,4] = [5,6]\n",
    "\"\"\"\n",
    "w+x"
   ]
  },
  {
   "cell_type": "code",
   "execution_count": 131,
   "metadata": {},
   "outputs": [
    {
     "data": {
      "text/plain": [
       "<tf.Tensor: shape=(2, 2), dtype=float32, numpy=\n",
       "array([[3., 4.],\n",
       "       [6., 8.]], dtype=float32)>"
      ]
     },
     "execution_count": 131,
     "metadata": {},
     "output_type": "execute_result"
    }
   ],
   "source": [
    "# It's an element-wise multiplication\n",
    "tf.matmul(w, x)"
   ]
  },
  {
   "cell_type": "code",
   "execution_count": 132,
   "metadata": {
    "colab": {},
    "colab_type": "code",
    "id": "RUI8VSR5zyBv"
   },
   "outputs": [],
   "source": [
    "# inherits from the object class\n",
    "class Model(object):\n",
    "\n",
    "  def __init__(self):\n",
    "    self.W = tf.Variable(8.0)\n",
    "    self.b = tf.Variable(40.0)\n",
    "\n",
    "  # So, the __init__ method is used when the class is called to initialize the instance, \n",
    "  # while the __call__ method allows the class's instance to be called as a function, and returns a value\n",
    "  def __call__(self, x):\n",
    "    return self.W * x + self.b\n",
    "\n",
    "model = Model()"
   ]
  },
  {
   "cell_type": "code",
   "execution_count": 133,
   "metadata": {
    "colab": {
     "base_uri": "https://localhost:8080/",
     "height": 51
    },
    "colab_type": "code",
    "id": "bz7uJ-TZdztX",
    "outputId": "f1cacd93-a717-4788-fefa-1cb50d659902"
   },
   "outputs": [
    {
     "name": "stdout",
     "output_type": "stream",
     "text": [
      "<class '__main__.Model'>\n",
      "<class 'tensorflow.python.framework.ops.EagerTensor'>\n",
      "tf.Tensor(64.0, shape=(), dtype=float32)\n",
      "64.0\n"
     ]
    }
   ],
   "source": [
    "print(type(model))\n",
    "# W and b are of type tensor\n",
    "print(type(model(3.0)))\n",
    "print(model(3.0))\n",
    "print(model(3.0).numpy())"
   ]
  },
  {
   "cell_type": "code",
   "execution_count": 134,
   "metadata": {},
   "outputs": [
    {
     "data": {
      "text/plain": [
       "<tf.Tensor: shape=(), dtype=bool, numpy=True>"
      ]
     },
     "execution_count": 134,
     "metadata": {},
     "output_type": "execute_result"
    }
   ],
   "source": [
    "# Model() passes self to __call__() method\n",
    "Model().__call__(3) == 64"
   ]
  },
  {
   "cell_type": "code",
   "execution_count": 135,
   "metadata": {},
   "outputs": [
    {
     "data": {
      "text/plain": [
       "<tf.Tensor: shape=(), dtype=float32, numpy=64.0>"
      ]
     },
     "execution_count": 135,
     "metadata": {},
     "output_type": "execute_result"
    }
   ],
   "source": [
    "# Alternative way to call the __call__() method on the instance of class Model: Model()\n",
    "Model()(3)"
   ]
  },
  {
   "cell_type": "markdown",
   "metadata": {},
   "source": [
    "**Tensor has a shape, dtype and numpy value**"
   ]
  },
  {
   "cell_type": "markdown",
   "metadata": {
    "colab_type": "text",
    "id": "gbyT_FJ88IlK"
   },
   "source": [
    "### Initial Weights\n",
    "The initial weights in our model were arbitrary. In practice, weights are initialized randomly. "
   ]
  },
  {
   "cell_type": "code",
   "execution_count": 136,
   "metadata": {
    "colab": {
     "base_uri": "https://localhost:8080/",
     "height": 34
    },
    "colab_type": "code",
    "id": "gDmoHdTrgBRU",
    "outputId": "1d96dc1f-ecad-41ca-8ea3-b8ecc46aa277"
   },
   "outputs": [
    {
     "data": {
      "text/plain": [
       "<tf.Tensor: shape=(), dtype=float32, numpy=119.52892>"
      ]
     },
     "execution_count": 136,
     "metadata": {},
     "output_type": "execute_result"
    }
   ],
   "source": [
    "loss(outputs, model(inputs))"
   ]
  },
  {
   "cell_type": "markdown",
   "metadata": {},
   "source": [
    "> *In **'%x.yf'** x is the <u>minimum</u> field width, and y is number of digits after the decimal point.*\n",
    "\n",
    "For example, to force the output to have at least 6 characters with 2 after the decimal point you do:\n",
    "```\n",
    "'%06.2f' % (3.141592653589793,)\n",
    "Output: 003.14```"
   ]
  },
  {
   "cell_type": "code",
   "execution_count": 137,
   "metadata": {
    "colab": {
     "base_uri": "https://localhost:8080/",
     "height": 286
    },
    "colab_type": "code",
    "id": "IreIDe6P8H0H",
    "outputId": "9e9da888-9394-4355-8735-fcfff291a02e"
   },
   "outputs": [
    {
     "data": {
      "image/png": "[encoded data removed]",
      "text/plain": [
       "<Figure size 432x288 with 1 Axes>"
      ]
     },
     "metadata": {
      "needs_background": "light"
     },
     "output_type": "display_data"
    },
    {
     "name": "stdout",
     "output_type": "stream",
     "text": [
      "Current loss: 119.528923\n"
     ]
    }
   ],
   "source": [
    "import matplotlib.pyplot as plt\n",
    "\n",
    "# blue is the provided target value\n",
    "plt.scatter(inputs, outputs, c='b')\n",
    "\n",
    "# red is the prediction.\n",
    "plt.scatter(inputs, model(inputs), c='r')\n",
    "plt.show()\n",
    "\n",
    "print('Current loss: %1.6f' % loss(outputs, model(inputs)).numpy())"
   ]
  },
  {
   "cell_type": "code",
   "execution_count": 138,
   "metadata": {},
   "outputs": [
    {
     "name": "stdout",
     "output_type": "stream",
     "text": [
      "Current loss: 119.53\n"
     ]
    }
   ],
   "source": [
    "print('Current loss: %1.2f' % loss(outputs, model(inputs)).numpy())"
   ]
  },
  {
   "cell_type": "markdown",
   "metadata": {
    "colab_type": "text",
    "id": "16Ujj6vNYQyX",
    "toc-hr-collapsed": true
   },
   "source": [
    "### Update Weights Based on Gradient\n",
    "\n",
    "> *Assigning blame for bad predictions and delivering justice - repeatedly and a little bit at a time*\n",
    "\n",
    "You should also know that with neural networks it is common to have gradients that are not convex (like what we saw when we applied gradient descent to linear regression). \n",
    "\n",
    "Due to the high complexity of these models and their nonlinearity, it is common for gradient descent to get stuck in a local minimum, but there are ways to combat this:\n",
    "\n",
    "1) Stochastic Gradient Descent\n",
    "\n",
    "2) More advanced Gradient-Descent-based \"Optimizers\" - See Stretch Goals."
   ]
  },
  {
   "cell_type": "markdown",
   "metadata": {},
   "source": [
    "GradientTape():\n",
    "Operations are recorded if they are executed within this context manager and at least one of their inputs is being \"watched\". Trainable variables (created by tf.Variable or tf.compat.v1.get_variable, where trainable=True is default in both cases) are automatically watched. Tensors can be manually watched by invoking the watch method on this context manager."
   ]
  },
  {
   "cell_type": "markdown",
   "metadata": {},
   "source": [
    "### Normalizing data helps your model learn\n",
    "\n",
    "Whenever all data is normalized to values within 0 and 1, that ensures that the update to all the weights are updated in equal proportions which can lead to quicker convergence on the optimal weight values. \n",
    "\n",
    "**Hint:** if your dataset's values range accross multiple orders of magnitude (i.e. $10^1,~~10^2,~~10^3,~~10^4$), then gradient descent will update the weights in grossly uneven proportions.  \n",
    "\n",
    "\n",
    "![](https://github.com/skhabiri/ML-ANN/raw/main/module2-Train/images/contour_plot.png)\n",
    "\n",
    "There's more to be said about Normalization and Gradient Descent, however there's not enough time! So I highly encourage you to [**read throught this very well written article that explores the impact of normalization on Gradient Descent in much greater detail.**](https://www.jeremyjordan.me/batch-normalization/) "
   ]
  },
  {
   "cell_type": "code",
   "execution_count": 139,
   "metadata": {
    "colab": {},
    "colab_type": "code",
    "id": "ZgaGD6YlHoid"
   },
   "outputs": [],
   "source": [
    " def train(model, inputs, outputs, learning_rate):\n",
    "    with tf.GradientTape() as t: \n",
    "        # recording :\n",
    "        current_loss = loss(outputs, model(inputs))\n",
    "\n",
    "    #takes the gradient of current_loss vs W and b, dw is actually d(Loss)/dW\n",
    "    dW, db = t.gradient(current_loss, [model.W, model.b])\n",
    "    # for dW>0 lowering W with lower Loss (Learning_rate>0): W = W - learning_rate * dW\n",
    "    # assign_sub(ref, value) >> ref = ref-value (assign subtraction)\n",
    "    model.W.assign_sub(learning_rate * dW)\n",
    "    model.b.assign_sub(learning_rate * db)\n",
    "\n",
    "    return current_loss"
   ]
  },
  {
   "cell_type": "code",
   "execution_count": 140,
   "metadata": {},
   "outputs": [
    {
     "data": {
      "text/plain": [
       "(1, 22, <tf.Tensor: shape=(), dtype=float32, numpy=-5.5>)"
      ]
     },
     "execution_count": 140,
     "metadata": {},
     "output_type": "execute_result"
    }
   ],
   "source": [
    "class B(object):\n",
    "    def __init__(self):\n",
    "        self.b1 = 20\n",
    "\n",
    "def test1(a, b, model1):\n",
    "    a = a + 2\n",
    "    b.b1 = b.b1 + 2\n",
    "    model1.W = tf.constant(-5.5)\n",
    "#     model1.W = model1.W.assign_sub(5.5)\n",
    "    return b\n",
    "\n",
    "model = Model()\n",
    "b = B()\n",
    "a = 1\n",
    "\n",
    "# model.W = tf.Variable(12.3)\n",
    "b = test1(a, b, model)\n",
    "a, b.b1, model.W\n"
   ]
  },
  {
   "cell_type": "markdown",
   "metadata": {
    "colab_type": "text",
    "id": "7iziWWURgck8"
   },
   "source": [
    "### Train the Network"
   ]
  },
  {
   "cell_type": "code",
   "execution_count": 141,
   "metadata": {
    "colab": {
     "base_uri": "https://localhost:8080/",
     "height": 187
    },
    "colab_type": "code",
    "id": "4zn_HgFuHhTr",
    "outputId": "3f338cc3-bc70-4ca2-8a9d-714796b67eab"
   },
   "outputs": [
    {
     "name": "stdout",
     "output_type": "stream",
     "text": [
      "Epoch  0: W=8.00 b=40.00 loss=119.52892\n",
      "Epoch  1: W=7.17 b=41.99 loss=77.76721\n",
      "Epoch  2: W=6.49 b=43.58 loss=50.73836\n",
      "Epoch  3: W=5.94 b=44.85 loss=33.24050\n",
      "Epoch  4: W=5.48 b=45.88 loss=21.90996\n",
      "Epoch  5: W=5.11 b=46.70 loss=14.57118\n",
      "Epoch  6: W=4.80 b=47.36 loss=9.81669\n",
      "Epoch  7: W=4.55 b=47.89 loss=6.73569\n",
      "Epoch  8: W=4.35 b=48.31 loss=4.73865\n",
      "Epoch  9: W=4.18 b=48.65 loss=3.44389\n"
     ]
    }
   ],
   "source": [
    "model = Model()\n",
    "\n",
    "# Store Some history of weights\n",
    "Ws, bs = [], []\n",
    "epochs = range(10)\n",
    "for epoch in epochs:\n",
    "    # W.numpy() gets the value of the tensor W\n",
    "    Ws.append(model.W.numpy())\n",
    "    bs.append(model.b.numpy())\n",
    "    # current_loss is the same as train return value\n",
    "    current_loss = loss(outputs, model(inputs))\n",
    "\n",
    "    train(model, inputs, outputs, learning_rate=0.1)\n",
    "    print('Epoch %2d: W=%1.2f b=%1.2f loss=%2.5f' % (epoch, Ws[-1], bs[-1], current_loss))"
   ]
  },
  {
   "cell_type": "code",
   "execution_count": 142,
   "metadata": {
    "colab": {
     "base_uri": "https://localhost:8080/",
     "height": 265
    },
    "colab_type": "code",
    "id": "FSEt07wdHvi2",
    "outputId": "98431028-d194-487a-ff17-77932552f0fe"
   },
   "outputs": [
    {
     "data": {
      "image/png": "[encoded data removed]",
      "text/plain": [
       "<Figure size 432x288 with 1 Axes>"
      ]
     },
     "metadata": {
      "needs_background": "light"
     },
     "output_type": "display_data"
    }
   ],
   "source": [
    "import matplotlib.pyplot as plt\n",
    "# Format Strings: fmt = '[marker][line][color]'\n",
    "#  plot([x], y, [fmt], [x2], y2, [fmt2], ..., **kwargs)\n",
    "plt.plot(epochs, Ws, 'r', epochs, bs, 'b')\n",
    "plt.plot([TRUE_W] * len(epochs), '.--r',\n",
    "         [TRUE_b] * len(epochs), 'o--b')\n",
    "plt.legend(['W', 'b', 'True W', 'True b'])\n",
    "plt.show()"
   ]
  },
  {
   "cell_type": "markdown",
   "metadata": {
    "colab_type": "text",
    "id": "vTqZg-6igclA",
    "toc-hr-collapsed": true
   },
   "source": [
    "# Batch Size (Learn)"
   ]
  },
  {
   "cell_type": "markdown",
   "metadata": {
    "colab_type": "text",
    "id": "0nrm-racgclA"
   },
   "source": [
    "## Overview\n",
    "\n",
    "The What - Stochastic Gradient Descent calculates an approximation of the gradient over the entire dataset by reviewing the predictions of a random sample. \n",
    "\n",
    "The Why - *Speed*. Calculating the gradient over the entire dataset is extremely expensive computationally. \n",
    "\n",
    "### Batch Size\n",
    "**Batches are the number of observations our model is shown to make predictions and update the weights. Batches are selected randomly during epoch. All observations are considered when passing thru an epoch at some point.**\n",
    "\n",
    "* Smaller Batch = Slower Run Time (but maybe more accurate results)\n",
    "* Default Batch = Balance between speed and accuracy\n",
    "* Large Batch = Very fast, but not nearly as accurate."
   ]
  },
  {
   "cell_type": "markdown",
   "metadata": {
    "id": "46cP9Pm_gclS"
   },
   "source": [
    "# Learning Rate (Learn)"
   ]
  },
  {
   "cell_type": "markdown",
   "metadata": {},
   "source": [
    "![](https://github.com/skhabiri/ML-ANN/raw/main/module2-Train/images/learning_rate.png)"
   ]
  },
  {
   "cell_type": "markdown",
   "metadata": {
    "colab_type": "text",
    "id": "oNQ2ZCi7I4i6"
   },
   "source": [
    "### Baseline Model"
   ]
  },
  {
   "cell_type": "code",
   "execution_count": 143,
   "metadata": {},
   "outputs": [
    {
     "data": {
      "text/plain": [
       "(60000, 28, 28)"
      ]
     },
     "execution_count": 143,
     "metadata": {},
     "output_type": "execute_result"
    }
   ],
   "source": [
    "from tensorflow.keras.datasets import mnist\n",
    "\n",
    "(X_train, y_train), (X_test, y_test) = mnist.load_data()\n",
    "X_train.shape"
   ]
  },
  {
   "cell_type": "code",
   "execution_count": 144,
   "metadata": {},
   "outputs": [
    {
     "name": "stdout",
     "output_type": "stream",
     "text": [
      "Accent\n"
     ]
    },
    {
     "data": {
      "image/png": "[encoded data removed]",
      "text/plain": [
       "<Figure size 720x1440 with 3 Axes>"
      ]
     },
     "metadata": {
      "needs_background": "light"
     },
     "output_type": "display_data"
    },
    {
     "name": "stdout",
     "output_type": "stream",
     "text": [
      "binary\n"
     ]
    },
    {
     "data": {
      "image/png": "[encoded data removed]",
      "text/plain": [
       "<Figure size 720x1440 with 3 Axes>"
      ]
     },
     "metadata": {
      "needs_background": "light"
     },
     "output_type": "display_data"
    }
   ],
   "source": [
    "import matplotlib.pyplot as plt\n",
    "cmaps = ['Accent', 'binary']\n",
    "for i, cmap in enumerate(cmaps):\n",
    "    fig= plt.figure(figsize=(10,20))\n",
    "    print(cmap)\n",
    "    plt.subplot(2,3,1+i*3)\n",
    "    plt.imshow(X_train[110], cmap)\n",
    "    ax2 = plt.subplot(2,3,2+i*3)\n",
    "    plt.imshow(X_train[110]/800, cmap)\n",
    "    plt.subplot(2,3,3+3*i).imshow(X_train[110]*800, cmap)\n",
    "    plt.show()"
   ]
  },
  {
   "cell_type": "markdown",
   "metadata": {},
   "source": [
    "> Seems like scaling down the number in the array does not change the color mapping. However, scaling up changes the color assignment."
   ]
  },
  {
   "cell_type": "code",
   "execution_count": 145,
   "metadata": {
    "colab": {
     "base_uri": "https://localhost:8080/",
     "height": 51
    },
    "colab_type": "code",
    "id": "mZjW2lYVI9Q2",
    "outputId": "69f2b412-26f1-4ec7-cfb5-a543c8d44616"
   },
   "outputs": [],
   "source": [
    "# Normalize the colors between 0 and 1, colors won't change\n",
    "X_train = X_train / 255.\n",
    "X_test = X_test / 255.\n",
    "\n",
    "# it's 28pixels * 28 pixels\n",
    "X_train = X_train.reshape((60000, 784))\n",
    "X_test = X_test.reshape((10000, 784))"
   ]
  },
  {
   "cell_type": "code",
   "execution_count": 146,
   "metadata": {
    "colab": {},
    "colab_type": "code",
    "id": "o7x17kDKJSy5"
   },
   "outputs": [],
   "source": [
    "# Our Model\n",
    "from tensorflow.keras import Sequential\n",
    "from tensorflow.keras.layers import Dense\n",
    "from tensorflow.keras.optimizers import *\n",
    "from tensorflow.keras import initializers\n",
    "\n",
    "def create_model(optim=Adam, lr=0.01):\n",
    "    \"\"\"\n",
    "    Stochastic Gradient Descent SGD optimizer\n",
    "    784+1 * 32+1 * 32+1 * 10\n",
    "    \"\"\"\n",
    "    opt = optim(learning_rate=lr)\n",
    "\n",
    "    model = Sequential(\n",
    "        [\n",
    "        # 784 inputs + 1 bias connect to 32 1st layer Hiddent neurons\n",
    "        Dense(32, activation='relu', input_dim=784, \n",
    "            kernel_initializer=initializers.RandomNormal(mean=0.0, stddev=0.05, seed=42),\n",
    "            bias_initializer=initializers.Ones()\n",
    "             ),\n",
    "        # 32 1st-H-Neurons + 1 bias connected to 32 2'nd layer H-Neurons\n",
    "        Dense(32, activation='relu', \n",
    "            kernel_initializer=initializers.RandomUniform(minval=-0.05, maxval=0.05, seed=42), \n",
    "            bias_initializer=initializers.Zeros()\n",
    "             ),\n",
    "        # 32 2nd-H-neurons connect to 10 Output neurons\n",
    "        Dense(10, activation='softmax', \n",
    "            kernel_initializer=initializers.Ones(), \n",
    "            bias_initializer=initializers.Zeros()\n",
    "             )       \n",
    "        ]\n",
    "    )\n",
    "    # sparse_categorical_crossentropy is good for multilable classification, when target labels are integer\n",
    "    model.compile(optimizer=opt, loss='sparse_categorical_crossentropy', metrics=['accuracy'])\n",
    "    return model"
   ]
  },
  {
   "cell_type": "code",
   "execution_count": 147,
   "metadata": {
    "colab": {
     "base_uri": "https://localhost:8080/",
     "height": 1000
    },
    "colab_type": "code",
    "id": "JcypSML8xSNh",
    "outputId": "69545d40-87d7-4fa0-c0aa-be50cedb7ca7"
   },
   "outputs": [
    {
     "data": {
      "text/plain": [
       "['activity_regularizer',\n",
       " 'add',\n",
       " 'add_loss',\n",
       " 'add_metric',\n",
       " 'add_update',\n",
       " 'add_variable',\n",
       " 'add_weight',\n",
       " 'apply',\n",
       " 'build',\n",
       " 'built',\n",
       " 'call',\n",
       " 'compile',\n",
       " 'compiled_loss',\n",
       " 'compiled_metrics',\n",
       " 'compute_dtype',\n",
       " 'compute_mask',\n",
       " 'compute_output_shape',\n",
       " 'compute_output_signature',\n",
       " 'count_params',\n",
       " 'distribute_strategy',\n",
       " 'dtype',\n",
       " 'dtype_policy',\n",
       " 'dynamic',\n",
       " 'evaluate',\n",
       " 'evaluate_generator',\n",
       " 'fit',\n",
       " 'fit_generator',\n",
       " 'from_config',\n",
       " 'get_config',\n",
       " 'get_input_at',\n",
       " 'get_input_mask_at',\n",
       " 'get_input_shape_at',\n",
       " 'get_layer',\n",
       " 'get_losses_for',\n",
       " 'get_output_at',\n",
       " 'get_output_mask_at',\n",
       " 'get_output_shape_at',\n",
       " 'get_updates_for',\n",
       " 'get_weights',\n",
       " 'history',\n",
       " 'inbound_nodes',\n",
       " 'input',\n",
       " 'input_mask',\n",
       " 'input_names',\n",
       " 'input_shape',\n",
       " 'input_spec',\n",
       " 'inputs',\n",
       " 'layers',\n",
       " 'load_weights',\n",
       " 'loss',\n",
       " 'losses',\n",
       " 'make_predict_function',\n",
       " 'make_test_function',\n",
       " 'make_train_function',\n",
       " 'metrics',\n",
       " 'metrics_names',\n",
       " 'name',\n",
       " 'name_scope',\n",
       " 'non_trainable_variables',\n",
       " 'non_trainable_weights',\n",
       " 'optimizer',\n",
       " 'outbound_nodes',\n",
       " 'output',\n",
       " 'output_mask',\n",
       " 'output_names',\n",
       " 'output_shape',\n",
       " 'outputs',\n",
       " 'pop',\n",
       " 'predict',\n",
       " 'predict_classes',\n",
       " 'predict_function',\n",
       " 'predict_generator',\n",
       " 'predict_on_batch',\n",
       " 'predict_proba',\n",
       " 'predict_step',\n",
       " 'reset_metrics',\n",
       " 'reset_states',\n",
       " 'run_eagerly',\n",
       " 'save',\n",
       " 'save_weights',\n",
       " 'set_weights',\n",
       " 'state_updates',\n",
       " 'stateful',\n",
       " 'stop_training',\n",
       " 'submodules',\n",
       " 'summary',\n",
       " 'supports_masking',\n",
       " 'test_function',\n",
       " 'test_on_batch',\n",
       " 'test_step',\n",
       " 'to_json',\n",
       " 'to_yaml',\n",
       " 'train_function',\n",
       " 'train_on_batch',\n",
       " 'train_step',\n",
       " 'trainable',\n",
       " 'trainable_variables',\n",
       " 'trainable_weights',\n",
       " 'updates',\n",
       " 'variable_dtype',\n",
       " 'variables',\n",
       " 'weights',\n",
       " 'with_name_scope']"
      ]
     },
     "execution_count": 147,
     "metadata": {},
     "output_type": "execute_result"
    }
   ],
   "source": [
    "mnist_model = create_model()\n",
    "[m for m in dir(mnist_model) if not m.startswith(\"_\")]"
   ]
  },
  {
   "cell_type": "code",
   "execution_count": 148,
   "metadata": {
    "colab": {
     "base_uri": "https://localhost:8080/",
     "height": 255
    },
    "colab_type": "code",
    "id": "x1pNXBVPxfZU",
    "outputId": "6e72db22-e9e8-49e8-ebe6-fc196a7869b0"
   },
   "outputs": [
    {
     "name": "stdout",
     "output_type": "stream",
     "text": [
      "Model: \"sequential_5\"\n",
      "_________________________________________________________________\n",
      "Layer (type)                 Output Shape              Param #   \n",
      "=================================================================\n",
      "dense_15 (Dense)             (None, 32)                25120     \n",
      "_________________________________________________________________\n",
      "dense_16 (Dense)             (None, 32)                1056      \n",
      "_________________________________________________________________\n",
      "dense_17 (Dense)             (None, 10)                330       \n",
      "=================================================================\n",
      "Total params: 26,506\n",
      "Trainable params: 26,506\n",
      "Non-trainable params: 0\n",
      "_________________________________________________________________\n"
     ]
    }
   ],
   "source": [
    "mnist_model.summary()"
   ]
  },
  {
   "cell_type": "code",
   "execution_count": 149,
   "metadata": {},
   "outputs": [
    {
     "data": {
      "text/plain": [
       "((25120, 1056, 330), 26506)"
      ]
     },
     "execution_count": 149,
     "metadata": {},
     "output_type": "execute_result"
    }
   ],
   "source": [
    "a = (785*32, 33*32, 33*10)\n",
    "a, sum(list(a))"
   ]
  },
  {
   "cell_type": "markdown",
   "metadata": {},
   "source": [
    "### Fit the model for a parameter\n",
    "This is a function to fit the model for a parameter with a list of values"
   ]
  },
  {
   "cell_type": "code",
   "execution_count": 173,
   "metadata": {},
   "outputs": [],
   "source": [
    "def fit_param(param_lst, key, **kwargs):\n",
    "    \n",
    "    \"\"\"\n",
    "    This function fits a ANN created by create_model() while sweeping a parameter\n",
    "    param_list: list of values for the parameter\n",
    "    key: string key for the parameter. Values: \"lr\", \"batch_size\", \"epochs\", \"optimizer\"\n",
    "    return: a dictionary with \n",
    "    {f\"{par}_\": [fitted model, fitted result],\n",
    "    \"key\": key, \"param_lst\": param_lst}\n",
    "    model_dict[f\"{par}_\"][0] is the model\n",
    "    model_dict[f\"{par}_\"][1] is the fit result\n",
    "    **kwargs: lr=0.01, batch=32, epoch=25, optimizer=Adam\n",
    "    \"\"\"\n",
    "    # initialize **kwargs:\n",
    "    (lr, batch, epoch, optimizer) = (0.01, 32, 25, Adam)\n",
    "    \n",
    "    param_dict = {\"lr\": lr, \"batch_size\": batch, \n",
    "                  \"epochs\": epoch, \"optimizer\": optimizer}\n",
    "    model_dict={}\n",
    "    model_dict[\"key\"] = key\n",
    "    model_dict[\"param_lst\"] = param_lst\n",
    "    for par in param_lst:\n",
    "        param_dict[key] = par\n",
    "        print(f\"********* Fitting for {key}={param_dict[key]} *********\")\n",
    "        model_dict.setdefault(f\"{par}_\", [None, None])\n",
    "        model_dict[f\"{par}_\"][0] = create_model(param_dict[\"optimizer\"], param_dict[\"lr\"])\n",
    "        \n",
    "        model_dict[f\"{par}_\"][1] = model_dict[f\"{par}_\"][0].fit(\n",
    "            X_train, y_train,\n",
    "            # Hyperparameters!\n",
    "            epochs=param_dict[\"epochs\"], \n",
    "            batch_size=param_dict[\"batch_size\"], \n",
    "            validation_data=(X_test, y_test))\n",
    "    \n",
    "    return model_dict"
   ]
  },
  {
   "cell_type": "markdown",
   "metadata": {},
   "source": [
    "### Visualize the metrics\n",
    "This is a function to plot the metrics for different values of a paramter"
   ]
  },
  {
   "cell_type": "code",
   "execution_count": 151,
   "metadata": {},
   "outputs": [],
   "source": [
    "import seaborn as sns\n",
    "import pandas as pd\n",
    "import matplotlib.pyplot as plt\n",
    "\n",
    "def data_param(model_dict):\n",
    "    \"\"\"\n",
    "    Returns a concatinated dataframe of the fitted results and \n",
    "    plots the validation accuracy and loss for different values of the parameter\n",
    "    \"\"\"\n",
    "    results = []\n",
    "    for par in model_dict[\"param_lst\"]:\n",
    "        results.append(model_dict[f\"{par}_\"][1])\n",
    "\n",
    "    df_lst = []\n",
    "    param_name = f\"{model_dict['key']}_\"\n",
    "    \n",
    "    for res, par in zip(results, model_dict[\"param_lst\"]):\n",
    "        df = pd.DataFrame.from_dict(res.history)\n",
    "        df['epoch'] = df.index.values\n",
    "        df[param_name] = f\"{par}_\"\n",
    "        df_lst.append(df)\n",
    "\n",
    "    df = pd.concat(df_lst, axis=0)\n",
    "    df[param_name] = df[param_name].astype('str')\n",
    "    \n",
    "    return df"
   ]
  },
  {
   "cell_type": "code",
   "execution_count": 184,
   "metadata": {},
   "outputs": [],
   "source": [
    "def viz_param(df_lst):\n",
    "    for i, df in enumerate(df_lst):\n",
    "        plt.figure(figsize=(15, 5*len(df_lst)))\n",
    "        ax1 = plt.subplot(len(df_lst), 2, 2*i+1)\n",
    "        sns.lineplot(x='epoch', y='val_accuracy', hue=df.columns[5], data=df, ax=ax1, legend='brief')\n",
    "        ax1.legend(bbox_to_anchor=(1, 1), loc=4)\n",
    "        ax2 = plt.subplot(len(df_lst), 2, 2*i+2)\n",
    "        sns.lineplot(x='epoch', y='val_loss', hue=df.columns[5], data=df, ax=ax2, legend='brief')\n",
    "#         kwargs = {'linestyle':'--', 'marker':'o', 'linewidth':2}\n",
    "#         sns.lineplot(x='epoch', y='val', hue=df.columns[5], data=df, ax=ax2, legend='brief', **kwargs)\n",
    "        ax2.legend(bbox_to_anchor=(1, 1), loc=4)\n",
    "        plt.show()\n",
    "    return    "
   ]
  },
  {
   "cell_type": "markdown",
   "metadata": {
    "colab_type": "text",
    "id": "ZF7UE-KluPsX"
   },
   "source": [
    "### Batch Size\n",
    "Let's run a series of experiments for a default, small, and large batch size."
   ]
  },
  {
   "cell_type": "markdown",
   "metadata": {
    "colab_type": "text",
    "id": "VhpDaVFRJl3U"
   },
   "source": [
    "Default batch size is 32."
   ]
  },
  {
   "cell_type": "markdown",
   "metadata": {
    "colab_type": "text",
    "id": "lEKMmTNSICkb"
   },
   "source": [
    "\n",
    "> *Seems like the entire X is divided into batches of size n and the NN is trained on each batch of n samples and W, b get's updated at the end of each batch of n. Once all batches in a training dataset are trained the epoch counter goes up and we create another set of batches randomly and exclusively (like Kfold) and retrain based on each of the new batches again. For **stochastic GD, batch size is 1** and the accuracy of each update is low but number of updates are maximum, as the # of back propagation is maximum = \"one back-propagation for each batch of each epoch.\". That resuls in long computing time for each epoch. The training trend is very noisy since the updates are done based on individual samples. However in each epoch we get more correction and accuracy improves more.\n",
    "In **batch size GD, the batch size is equal to training set**. Hence the epoch looks at the same entire training dataset repeatedly and make an update on every epoch run. Less noisy and minimum number of back propagation = one back-propagation per epoch. Hence runtime is faster per epoch. However need a large memory to process the entire dataset in one shot.*"
   ]
  },
  {
   "cell_type": "code",
   "execution_count": null,
   "metadata": {},
   "outputs": [],
   "source": []
  },
  {
   "cell_type": "markdown",
   "metadata": {
    "colab_type": "text",
    "id": "46cP9Pm_gclS"
   },
   "source": [
    "### Learning Rate"
   ]
  },
  {
   "cell_type": "markdown",
   "metadata": {
    "colab_type": "text",
    "id": "Bna67ADZgclT",
    "toc-hr-collapsed": true
   },
   "source": [
    "\n",
    "Learning Rate controls the size of the update to our weights that the optimization algorithm makes. VERY IMPORTANT hyperparameter.\n",
    "\n",
    "* Too high of a learning rate causes unstable results\n",
    "* Too Low of a learning rate the model will underfit\n",
    "* Goldilocks parameters - it needs to be \"just right\"\n",
    "* Scale of 0-1"
   ]
  },
  {
   "cell_type": "code",
   "execution_count": 174,
   "metadata": {},
   "outputs": [
    {
     "name": "stdout",
     "output_type": "stream",
     "text": [
      "********* Fitting for optimizer=<class 'tensorflow.python.keras.optimizer_v2.adam.Adam'> *********\n",
      "Epoch 1/25\n",
      "1875/1875 [==============================] - 2s 949us/step - loss: 0.4645 - accuracy: 0.8511 - val_loss: 0.1926 - val_accuracy: 0.9433\n",
      "Epoch 2/25\n",
      "1875/1875 [==============================] - 1s 750us/step - loss: 0.1837 - accuracy: 0.9459 - val_loss: 0.1689 - val_accuracy: 0.9536\n",
      "Epoch 3/25\n",
      "1875/1875 [==============================] - 1s 759us/step - loss: 0.1567 - accuracy: 0.9548 - val_loss: 0.1892 - val_accuracy: 0.9494\n",
      "Epoch 4/25\n",
      "1875/1875 [==============================] - 1s 776us/step - loss: 0.1452 - accuracy: 0.9604 - val_loss: 0.1721 - val_accuracy: 0.9607\n",
      "Epoch 5/25\n",
      "1875/1875 [==============================] - 1s 763us/step - loss: 0.1338 - accuracy: 0.9644 - val_loss: 0.1878 - val_accuracy: 0.9547\n",
      "Epoch 6/25\n",
      "1875/1875 [==============================] - 2s 817us/step - loss: 0.1394 - accuracy: 0.9628 - val_loss: 0.1960 - val_accuracy: 0.9477\n",
      "Epoch 7/25\n",
      "1875/1875 [==============================] - 1s 744us/step - loss: 0.1256 - accuracy: 0.9664 - val_loss: 0.1867 - val_accuracy: 0.9560\n",
      "Epoch 8/25\n",
      "1875/1875 [==============================] - 1s 777us/step - loss: 0.1205 - accuracy: 0.9674 - val_loss: 0.1907 - val_accuracy: 0.9563\n",
      "Epoch 9/25\n",
      "1875/1875 [==============================] - 1s 752us/step - loss: 0.1198 - accuracy: 0.9680 - val_loss: 0.2077 - val_accuracy: 0.9571\n",
      "Epoch 10/25\n",
      "1875/1875 [==============================] - 1s 767us/step - loss: 0.1102 - accuracy: 0.9704 - val_loss: 0.1983 - val_accuracy: 0.9584\n",
      "Epoch 11/25\n",
      "1875/1875 [==============================] - 2s 864us/step - loss: 0.1090 - accuracy: 0.9717 - val_loss: 0.1664 - val_accuracy: 0.9625\n",
      "Epoch 12/25\n",
      "1875/1875 [==============================] - 2s 801us/step - loss: 0.1041 - accuracy: 0.9720 - val_loss: 0.1788 - val_accuracy: 0.9634\n",
      "Epoch 13/25\n",
      "1875/1875 [==============================] - 2s 825us/step - loss: 0.1001 - accuracy: 0.9738 - val_loss: 0.1691 - val_accuracy: 0.9627\n",
      "Epoch 14/25\n",
      "1875/1875 [==============================] - 1s 779us/step - loss: 0.1022 - accuracy: 0.9733 - val_loss: 0.1804 - val_accuracy: 0.9593\n",
      "Epoch 15/25\n",
      "1875/1875 [==============================] - 2s 814us/step - loss: 0.1006 - accuracy: 0.9734 - val_loss: 0.1832 - val_accuracy: 0.9623\n",
      "Epoch 16/25\n",
      "1875/1875 [==============================] - 1s 774us/step - loss: 0.0936 - accuracy: 0.9755 - val_loss: 0.2157 - val_accuracy: 0.9593\n",
      "Epoch 17/25\n",
      "1875/1875 [==============================] - 1s 794us/step - loss: 0.0942 - accuracy: 0.9766 - val_loss: 0.2041 - val_accuracy: 0.9592\n",
      "Epoch 18/25\n",
      "1875/1875 [==============================] - 1s 779us/step - loss: 0.0934 - accuracy: 0.9763 - val_loss: 0.2008 - val_accuracy: 0.9634\n",
      "Epoch 19/25\n",
      "1875/1875 [==============================] - 2s 1ms/step - loss: 0.0980 - accuracy: 0.9757 - val_loss: 0.2389 - val_accuracy: 0.9655\n",
      "Epoch 20/25\n",
      "1875/1875 [==============================] - 2s 801us/step - loss: 0.1076 - accuracy: 0.9730 - val_loss: 0.2442 - val_accuracy: 0.9602\n",
      "Epoch 21/25\n",
      "1875/1875 [==============================] - 1s 777us/step - loss: 0.0909 - accuracy: 0.9768 - val_loss: 0.1815 - val_accuracy: 0.9638\n",
      "Epoch 22/25\n",
      "1875/1875 [==============================] - 1s 756us/step - loss: 0.0850 - accuracy: 0.9769 - val_loss: 0.2044 - val_accuracy: 0.9626\n",
      "Epoch 23/25\n",
      "1875/1875 [==============================] - 1s 758us/step - loss: 0.0878 - accuracy: 0.9769 - val_loss: 0.2064 - val_accuracy: 0.9637\n",
      "Epoch 24/25\n",
      "1875/1875 [==============================] - 1s 776us/step - loss: 0.0883 - accuracy: 0.9774 - val_loss: 0.2411 - val_accuracy: 0.9621\n",
      "Epoch 25/25\n",
      "1875/1875 [==============================] - 2s 833us/step - loss: 0.0945 - accuracy: 0.9769 - val_loss: 0.2250 - val_accuracy: 0.9653\n",
      "********* Fitting for optimizer=<class 'tensorflow.python.keras.optimizer_v2.gradient_descent.SGD'> *********\n",
      "Epoch 1/25\n",
      "1875/1875 [==============================] - 2s 897us/step - loss: 2.2569 - accuracy: 0.2016 - val_loss: 1.1138 - val_accuracy: 0.6388\n",
      "Epoch 2/25\n",
      "1875/1875 [==============================] - 1s 696us/step - loss: 0.8176 - accuracy: 0.7456 - val_loss: 0.4918 - val_accuracy: 0.8531\n",
      "Epoch 3/25\n",
      "1875/1875 [==============================] - 1s 723us/step - loss: 0.4694 - accuracy: 0.8617 - val_loss: 0.4010 - val_accuracy: 0.8830\n",
      "Epoch 4/25\n",
      "1875/1875 [==============================] - 1s 669us/step - loss: 0.3946 - accuracy: 0.8851 - val_loss: 0.3516 - val_accuracy: 0.9004\n",
      "Epoch 5/25\n",
      "1875/1875 [==============================] - 1s 697us/step - loss: 0.3519 - accuracy: 0.8996 - val_loss: 0.3199 - val_accuracy: 0.9104\n",
      "Epoch 6/25\n",
      "1875/1875 [==============================] - 1s 659us/step - loss: 0.3166 - accuracy: 0.9083 - val_loss: 0.2942 - val_accuracy: 0.9146\n",
      "Epoch 7/25\n",
      "1875/1875 [==============================] - 1s 644us/step - loss: 0.3015 - accuracy: 0.9134 - val_loss: 0.2764 - val_accuracy: 0.9182\n",
      "Epoch 8/25\n",
      "1875/1875 [==============================] - 1s 713us/step - loss: 0.2678 - accuracy: 0.9224 - val_loss: 0.2565 - val_accuracy: 0.9256\n",
      "Epoch 9/25\n",
      "1875/1875 [==============================] - 1s 713us/step - loss: 0.2501 - accuracy: 0.9278 - val_loss: 0.2393 - val_accuracy: 0.9290\n",
      "Epoch 10/25\n",
      "1875/1875 [==============================] - 1s 782us/step - loss: 0.2362 - accuracy: 0.9318 - val_loss: 0.2266 - val_accuracy: 0.9330\n",
      "Epoch 11/25\n",
      "1875/1875 [==============================] - 1s 731us/step - loss: 0.2146 - accuracy: 0.9378 - val_loss: 0.2169 - val_accuracy: 0.9347\n",
      "Epoch 12/25\n",
      "1875/1875 [==============================] - 1s 736us/step - loss: 0.2021 - accuracy: 0.9418 - val_loss: 0.2043 - val_accuracy: 0.9413\n",
      "Epoch 13/25\n",
      "1875/1875 [==============================] - 2s 818us/step - loss: 0.1927 - accuracy: 0.9426 - val_loss: 0.1989 - val_accuracy: 0.9405\n",
      "Epoch 14/25\n",
      "1875/1875 [==============================] - 1s 736us/step - loss: 0.1853 - accuracy: 0.9455 - val_loss: 0.1884 - val_accuracy: 0.9429\n",
      "Epoch 15/25\n",
      "1875/1875 [==============================] - 1s 717us/step - loss: 0.1786 - accuracy: 0.9498 - val_loss: 0.1782 - val_accuracy: 0.9464\n",
      "Epoch 16/25\n",
      "1875/1875 [==============================] - 1s 705us/step - loss: 0.1694 - accuracy: 0.9509 - val_loss: 0.1749 - val_accuracy: 0.9470\n",
      "Epoch 17/25\n",
      "1875/1875 [==============================] - 1s 732us/step - loss: 0.1617 - accuracy: 0.9522 - val_loss: 0.1730 - val_accuracy: 0.9474\n",
      "Epoch 18/25\n",
      "1875/1875 [==============================] - 1s 712us/step - loss: 0.1509 - accuracy: 0.9553 - val_loss: 0.1689 - val_accuracy: 0.9487\n",
      "Epoch 19/25\n",
      "1875/1875 [==============================] - 1s 730us/step - loss: 0.1532 - accuracy: 0.9561 - val_loss: 0.1620 - val_accuracy: 0.9518\n",
      "Epoch 20/25\n",
      "1875/1875 [==============================] - 1s 739us/step - loss: 0.1430 - accuracy: 0.9588 - val_loss: 0.1621 - val_accuracy: 0.9529\n",
      "Epoch 21/25\n",
      "1875/1875 [==============================] - 2s 814us/step - loss: 0.1401 - accuracy: 0.9591 - val_loss: 0.1531 - val_accuracy: 0.9547\n",
      "Epoch 22/25\n",
      "1875/1875 [==============================] - 2s 863us/step - loss: 0.1365 - accuracy: 0.9613 - val_loss: 0.1543 - val_accuracy: 0.9542\n",
      "Epoch 23/25\n",
      "1875/1875 [==============================] - 2s 881us/step - loss: 0.1285 - accuracy: 0.9620 - val_loss: 0.1480 - val_accuracy: 0.9555\n",
      "Epoch 24/25\n",
      "1875/1875 [==============================] - 1s 796us/step - loss: 0.1265 - accuracy: 0.9628 - val_loss: 0.1430 - val_accuracy: 0.9568\n",
      "Epoch 25/25\n",
      "1875/1875 [==============================] - 1s 752us/step - loss: 0.1238 - accuracy: 0.9640 - val_loss: 0.1434 - val_accuracy: 0.9570\n",
      "********* Fitting for batch_size=8 *********\n",
      "Epoch 1/25\n",
      "7500/7500 [==============================] - 7s 838us/step - loss: 0.5142 - accuracy: 0.8388 - val_loss: 0.2682 - val_accuracy: 0.9269\n",
      "Epoch 2/25\n",
      "7500/7500 [==============================] - 6s 770us/step - loss: 0.2606 - accuracy: 0.9300 - val_loss: 0.2429 - val_accuracy: 0.9386\n",
      "Epoch 3/25\n",
      "7500/7500 [==============================] - 6s 783us/step - loss: 0.2365 - accuracy: 0.9387 - val_loss: 0.2410 - val_accuracy: 0.9398\n",
      "Epoch 4/25\n",
      "7500/7500 [==============================] - 6s 808us/step - loss: 0.2230 - accuracy: 0.9451 - val_loss: 0.2790 - val_accuracy: 0.9326\n",
      "Epoch 5/25\n",
      "7500/7500 [==============================] - 8s 1ms/step - loss: 0.2221 - accuracy: 0.9458 - val_loss: 0.2389 - val_accuracy: 0.9454\n",
      "Epoch 6/25\n",
      "7500/7500 [==============================] - 7s 917us/step - loss: 0.2160 - accuracy: 0.9466 - val_loss: 0.2317 - val_accuracy: 0.9459\n",
      "Epoch 7/25\n",
      "7500/7500 [==============================] - 7s 880us/step - loss: 0.2060 - accuracy: 0.9498 - val_loss: 0.2568 - val_accuracy: 0.9379\n",
      "Epoch 8/25\n",
      "7500/7500 [==============================] - 6s 793us/step - loss: 0.1987 - accuracy: 0.9529 - val_loss: 0.2573 - val_accuracy: 0.9464\n",
      "Epoch 9/25\n",
      "7500/7500 [==============================] - 6s 775us/step - loss: 0.1962 - accuracy: 0.9533 - val_loss: 0.3008 - val_accuracy: 0.9453\n",
      "Epoch 10/25\n",
      "7500/7500 [==============================] - 6s 858us/step - loss: 0.1956 - accuracy: 0.9533 - val_loss: 0.2635 - val_accuracy: 0.9485\n",
      "Epoch 11/25\n",
      "7500/7500 [==============================] - 6s 762us/step - loss: 0.1874 - accuracy: 0.9546 - val_loss: 0.2337 - val_accuracy: 0.9487\n",
      "Epoch 12/25\n",
      "7500/7500 [==============================] - 6s 749us/step - loss: 0.1791 - accuracy: 0.9553 - val_loss: 0.3583 - val_accuracy: 0.9344\n",
      "Epoch 13/25\n",
      "7500/7500 [==============================] - 6s 745us/step - loss: 0.1827 - accuracy: 0.9559 - val_loss: 0.2685 - val_accuracy: 0.9513\n",
      "Epoch 14/25\n",
      "7500/7500 [==============================] - 6s 751us/step - loss: 0.1904 - accuracy: 0.9552 - val_loss: 0.2669 - val_accuracy: 0.9509\n",
      "Epoch 15/25\n",
      "7500/7500 [==============================] - 6s 779us/step - loss: 0.1968 - accuracy: 0.9566 - val_loss: 0.2862 - val_accuracy: 0.9468\n",
      "Epoch 16/25\n",
      "7500/7500 [==============================] - 6s 759us/step - loss: 0.1720 - accuracy: 0.9565 - val_loss: 0.2884 - val_accuracy: 0.9495\n",
      "Epoch 17/25\n",
      "7500/7500 [==============================] - 6s 799us/step - loss: 0.1815 - accuracy: 0.9570 - val_loss: 0.3888 - val_accuracy: 0.9493\n",
      "Epoch 18/25\n",
      "7500/7500 [==============================] - 6s 774us/step - loss: 0.1873 - accuracy: 0.9577 - val_loss: 0.2774 - val_accuracy: 0.9470\n",
      "Epoch 19/25\n",
      "7500/7500 [==============================] - 5s 720us/step - loss: 0.1780 - accuracy: 0.9593 - val_loss: 0.2926 - val_accuracy: 0.9458\n",
      "Epoch 20/25\n",
      "7500/7500 [==============================] - 5s 674us/step - loss: 0.1787 - accuracy: 0.9583 - val_loss: 0.3102 - val_accuracy: 0.9507\n",
      "Epoch 21/25\n",
      "7500/7500 [==============================] - 5s 660us/step - loss: 0.1679 - accuracy: 0.9605 - val_loss: 0.3979 - val_accuracy: 0.9425\n",
      "Epoch 22/25\n",
      "7500/7500 [==============================] - 5s 667us/step - loss: 0.1825 - accuracy: 0.9588 - val_loss: 0.3690 - val_accuracy: 0.9504\n",
      "Epoch 23/25\n",
      "7500/7500 [==============================] - 5s 677us/step - loss: 0.1754 - accuracy: 0.9598 - val_loss: 0.3831 - val_accuracy: 0.9506\n",
      "Epoch 24/25\n",
      "7500/7500 [==============================] - 5s 690us/step - loss: 0.1810 - accuracy: 0.9599 - val_loss: 0.3029 - val_accuracy: 0.9500\n",
      "Epoch 25/25\n",
      "7500/7500 [==============================] - 5s 679us/step - loss: 0.1789 - accuracy: 0.9594 - val_loss: 0.3118 - val_accuracy: 0.9506\n",
      "********* Fitting for batch_size=512 *********\n",
      "Epoch 1/25\n",
      "118/118 [==============================] - 1s 4ms/step - loss: 0.9936 - accuracy: 0.6629 - val_loss: 0.2749 - val_accuracy: 0.9167\n",
      "Epoch 2/25\n",
      "118/118 [==============================] - 0s 2ms/step - loss: 0.2540 - accuracy: 0.9257 - val_loss: 0.1969 - val_accuracy: 0.9427\n",
      "Epoch 3/25\n",
      "118/118 [==============================] - 0s 2ms/step - loss: 0.1716 - accuracy: 0.9491 - val_loss: 0.1590 - val_accuracy: 0.9527\n",
      "Epoch 4/25\n",
      "118/118 [==============================] - 0s 2ms/step - loss: 0.1303 - accuracy: 0.9598 - val_loss: 0.1424 - val_accuracy: 0.9579\n",
      "Epoch 5/25\n",
      "118/118 [==============================] - 0s 2ms/step - loss: 0.1054 - accuracy: 0.9664 - val_loss: 0.1156 - val_accuracy: 0.9650\n",
      "Epoch 6/25\n",
      "118/118 [==============================] - 0s 2ms/step - loss: 0.0938 - accuracy: 0.9707 - val_loss: 0.1187 - val_accuracy: 0.9637\n",
      "Epoch 7/25\n",
      "118/118 [==============================] - 0s 2ms/step - loss: 0.0802 - accuracy: 0.9750 - val_loss: 0.1079 - val_accuracy: 0.9667\n",
      "Epoch 8/25\n",
      "118/118 [==============================] - 0s 2ms/step - loss: 0.0748 - accuracy: 0.9763 - val_loss: 0.1232 - val_accuracy: 0.9620\n",
      "Epoch 9/25\n",
      "118/118 [==============================] - 0s 2ms/step - loss: 0.0737 - accuracy: 0.9764 - val_loss: 0.1122 - val_accuracy: 0.9675\n",
      "Epoch 10/25\n",
      "118/118 [==============================] - 0s 2ms/step - loss: 0.0683 - accuracy: 0.9776 - val_loss: 0.1283 - val_accuracy: 0.9644\n",
      "Epoch 11/25\n",
      "118/118 [==============================] - 0s 2ms/step - loss: 0.0634 - accuracy: 0.9795 - val_loss: 0.1260 - val_accuracy: 0.9648\n",
      "Epoch 12/25\n",
      "118/118 [==============================] - 0s 2ms/step - loss: 0.0591 - accuracy: 0.9808 - val_loss: 0.1406 - val_accuracy: 0.9638\n",
      "Epoch 13/25\n",
      "118/118 [==============================] - 0s 2ms/step - loss: 0.0579 - accuracy: 0.9813 - val_loss: 0.1191 - val_accuracy: 0.9673\n",
      "Epoch 14/25\n",
      "118/118 [==============================] - 0s 2ms/step - loss: 0.0514 - accuracy: 0.9834 - val_loss: 0.1363 - val_accuracy: 0.9658\n",
      "Epoch 15/25\n",
      "118/118 [==============================] - 0s 2ms/step - loss: 0.0475 - accuracy: 0.9842 - val_loss: 0.1419 - val_accuracy: 0.9658\n",
      "Epoch 16/25\n",
      "118/118 [==============================] - 0s 2ms/step - loss: 0.0523 - accuracy: 0.9834 - val_loss: 0.1431 - val_accuracy: 0.9631\n",
      "Epoch 17/25\n",
      "118/118 [==============================] - 0s 2ms/step - loss: 0.0432 - accuracy: 0.9847 - val_loss: 0.1493 - val_accuracy: 0.9676\n",
      "Epoch 18/25\n",
      "118/118 [==============================] - 0s 2ms/step - loss: 0.0397 - accuracy: 0.9870 - val_loss: 0.1547 - val_accuracy: 0.9646\n",
      "Epoch 19/25\n",
      "118/118 [==============================] - 0s 2ms/step - loss: 0.0470 - accuracy: 0.9851 - val_loss: 0.1432 - val_accuracy: 0.9667\n",
      "Epoch 20/25\n",
      "118/118 [==============================] - 0s 2ms/step - loss: 0.0369 - accuracy: 0.9875 - val_loss: 0.1509 - val_accuracy: 0.9683\n",
      "Epoch 21/25\n",
      "118/118 [==============================] - 0s 3ms/step - loss: 0.0375 - accuracy: 0.9870 - val_loss: 0.1500 - val_accuracy: 0.9673\n",
      "Epoch 22/25\n",
      "118/118 [==============================] - 0s 2ms/step - loss: 0.0328 - accuracy: 0.9888 - val_loss: 0.1816 - val_accuracy: 0.9674\n",
      "Epoch 23/25\n",
      "118/118 [==============================] - 0s 2ms/step - loss: 0.0446 - accuracy: 0.9860 - val_loss: 0.1771 - val_accuracy: 0.9636\n",
      "Epoch 24/25\n",
      "118/118 [==============================] - 0s 2ms/step - loss: 0.0416 - accuracy: 0.9861 - val_loss: 0.1780 - val_accuracy: 0.9649\n",
      "Epoch 25/25\n",
      "118/118 [==============================] - 0s 2ms/step - loss: 0.0433 - accuracy: 0.9858 - val_loss: 0.1809 - val_accuracy: 0.9618\n",
      "********* Fitting for lr=0.001 *********\n",
      "Epoch 1/25\n",
      "1875/1875 [==============================] - 2s 965us/step - loss: 0.9084 - accuracy: 0.6898 - val_loss: 0.2924 - val_accuracy: 0.9145\n",
      "Epoch 2/25\n",
      "1875/1875 [==============================] - 2s 842us/step - loss: 0.2726 - accuracy: 0.9179 - val_loss: 0.2111 - val_accuracy: 0.9372\n",
      "Epoch 3/25\n",
      "1875/1875 [==============================] - 1s 781us/step - loss: 0.1991 - accuracy: 0.9419 - val_loss: 0.1736 - val_accuracy: 0.9466\n",
      "Epoch 4/25\n",
      "1875/1875 [==============================] - 1s 731us/step - loss: 0.1586 - accuracy: 0.9539 - val_loss: 0.1578 - val_accuracy: 0.9521\n",
      "Epoch 5/25\n",
      "1875/1875 [==============================] - 1s 742us/step - loss: 0.1305 - accuracy: 0.9601 - val_loss: 0.1414 - val_accuracy: 0.9566\n",
      "Epoch 6/25\n",
      "1875/1875 [==============================] - 1s 726us/step - loss: 0.1129 - accuracy: 0.9650 - val_loss: 0.1388 - val_accuracy: 0.9602\n",
      "Epoch 7/25\n",
      "1875/1875 [==============================] - 2s 1ms/step - loss: 0.1049 - accuracy: 0.9675 - val_loss: 0.1290 - val_accuracy: 0.9625\n",
      "Epoch 8/25\n",
      "1875/1875 [==============================] - 2s 1ms/step - loss: 0.0930 - accuracy: 0.9716 - val_loss: 0.1285 - val_accuracy: 0.9633\n",
      "Epoch 9/25\n",
      "1875/1875 [==============================] - 1s 780us/step - loss: 0.0854 - accuracy: 0.9736 - val_loss: 0.1286 - val_accuracy: 0.9629\n",
      "Epoch 10/25\n",
      "1875/1875 [==============================] - 1s 729us/step - loss: 0.0771 - accuracy: 0.9761 - val_loss: 0.1133 - val_accuracy: 0.9679\n",
      "Epoch 11/25\n",
      "1875/1875 [==============================] - 1s 715us/step - loss: 0.0730 - accuracy: 0.9774 - val_loss: 0.1131 - val_accuracy: 0.9675\n",
      "Epoch 12/25\n",
      "1875/1875 [==============================] - 1s 710us/step - loss: 0.0662 - accuracy: 0.9796 - val_loss: 0.1298 - val_accuracy: 0.9634\n",
      "Epoch 13/25\n",
      "1875/1875 [==============================] - 2s 854us/step - loss: 0.0612 - accuracy: 0.9812 - val_loss: 0.1219 - val_accuracy: 0.9676\n",
      "Epoch 14/25\n",
      "1875/1875 [==============================] - 1s 709us/step - loss: 0.0591 - accuracy: 0.9820 - val_loss: 0.1196 - val_accuracy: 0.9675\n",
      "Epoch 15/25\n",
      "1875/1875 [==============================] - 1s 714us/step - loss: 0.0514 - accuracy: 0.9838 - val_loss: 0.1234 - val_accuracy: 0.9648\n",
      "Epoch 16/25\n",
      "1875/1875 [==============================] - 1s 743us/step - loss: 0.0523 - accuracy: 0.9831 - val_loss: 0.1224 - val_accuracy: 0.9680\n",
      "Epoch 17/25\n",
      "1875/1875 [==============================] - 1s 746us/step - loss: 0.0484 - accuracy: 0.9845 - val_loss: 0.1232 - val_accuracy: 0.9678\n",
      "Epoch 18/25\n",
      "1875/1875 [==============================] - 1s 725us/step - loss: 0.0438 - accuracy: 0.9864 - val_loss: 0.1294 - val_accuracy: 0.9690\n",
      "Epoch 19/25\n",
      "1875/1875 [==============================] - 1s 722us/step - loss: 0.0416 - accuracy: 0.9864 - val_loss: 0.1259 - val_accuracy: 0.9673\n",
      "Epoch 20/25\n",
      "1875/1875 [==============================] - 1s 707us/step - loss: 0.0389 - accuracy: 0.9869 - val_loss: 0.1338 - val_accuracy: 0.9648\n",
      "Epoch 21/25\n",
      "1875/1875 [==============================] - 1s 764us/step - loss: 0.0359 - accuracy: 0.9879 - val_loss: 0.1419 - val_accuracy: 0.9650\n",
      "Epoch 22/25\n",
      "1875/1875 [==============================] - 1s 731us/step - loss: 0.0362 - accuracy: 0.9885 - val_loss: 0.1544 - val_accuracy: 0.9635\n",
      "Epoch 23/25\n",
      "1875/1875 [==============================] - 1s 734us/step - loss: 0.0334 - accuracy: 0.9890 - val_loss: 0.1438 - val_accuracy: 0.9666\n",
      "Epoch 24/25\n",
      "1875/1875 [==============================] - 1s 747us/step - loss: 0.0295 - accuracy: 0.9910 - val_loss: 0.1424 - val_accuracy: 0.9669\n",
      "Epoch 25/25\n",
      "1875/1875 [==============================] - 1s 732us/step - loss: 0.0306 - accuracy: 0.9902 - val_loss: 0.1557 - val_accuracy: 0.9656\n",
      "********* Fitting for lr=1 *********\n",
      "Epoch 1/25\n",
      "1875/1875 [==============================] - 2s 801us/step - loss: 3.7486 - accuracy: 0.1020 - val_loss: 2.4301 - val_accuracy: 0.1135\n",
      "Epoch 2/25\n",
      "1875/1875 [==============================] - 1s 700us/step - loss: 2.4058 - accuracy: 0.1006 - val_loss: 2.4569 - val_accuracy: 0.1010\n",
      "Epoch 3/25\n",
      "1875/1875 [==============================] - 1s 699us/step - loss: 2.4115 - accuracy: 0.1010 - val_loss: 2.3800 - val_accuracy: 0.0982\n",
      "Epoch 4/25\n",
      "1875/1875 [==============================] - 1s 704us/step - loss: 2.4154 - accuracy: 0.0991 - val_loss: 2.3578 - val_accuracy: 0.1135\n",
      "Epoch 5/25\n",
      "1875/1875 [==============================] - 1s 707us/step - loss: 2.4026 - accuracy: 0.1006 - val_loss: 2.3989 - val_accuracy: 0.1032\n",
      "Epoch 6/25\n",
      "1875/1875 [==============================] - 1s 766us/step - loss: 2.4161 - accuracy: 0.1033 - val_loss: 2.4218 - val_accuracy: 0.0982\n",
      "Epoch 7/25\n",
      "1875/1875 [==============================] - 1s 726us/step - loss: 2.4146 - accuracy: 0.1015 - val_loss: 2.4232 - val_accuracy: 0.0892\n",
      "Epoch 8/25\n",
      "1875/1875 [==============================] - 1s 718us/step - loss: 2.4065 - accuracy: 0.1022 - val_loss: 2.5057 - val_accuracy: 0.0974\n",
      "Epoch 9/25\n",
      "1875/1875 [==============================] - 1s 732us/step - loss: 2.4136 - accuracy: 0.1001 - val_loss: 2.4351 - val_accuracy: 0.1032\n",
      "Epoch 10/25\n",
      "1875/1875 [==============================] - 1s 716us/step - loss: 2.4180 - accuracy: 0.1001 - val_loss: 2.3908 - val_accuracy: 0.1010\n",
      "Epoch 11/25\n",
      "1875/1875 [==============================] - 1s 718us/step - loss: 2.4054 - accuracy: 0.1037 - val_loss: 2.3964 - val_accuracy: 0.1009\n",
      "Epoch 12/25\n",
      "1875/1875 [==============================] - 1s 726us/step - loss: 2.4023 - accuracy: 0.0995 - val_loss: 2.4287 - val_accuracy: 0.1032\n",
      "Epoch 13/25\n",
      "1875/1875 [==============================] - 2s 849us/step - loss: 2.4219 - accuracy: 0.1015 - val_loss: 2.3879 - val_accuracy: 0.0958\n",
      "Epoch 14/25\n",
      "1875/1875 [==============================] - 1s 800us/step - loss: 2.4106 - accuracy: 0.0999 - val_loss: 2.4730 - val_accuracy: 0.0982\n",
      "Epoch 15/25\n",
      "1875/1875 [==============================] - 2s 897us/step - loss: 2.4062 - accuracy: 0.1030 - val_loss: 2.3639 - val_accuracy: 0.1010\n",
      "Epoch 16/25\n",
      "1875/1875 [==============================] - 1s 757us/step - loss: 2.4092 - accuracy: 0.1019 - val_loss: 2.3813 - val_accuracy: 0.1032\n",
      "Epoch 17/25\n",
      "1875/1875 [==============================] - 1s 725us/step - loss: 2.4121 - accuracy: 0.1004 - val_loss: 2.4338 - val_accuracy: 0.1032\n",
      "Epoch 18/25\n",
      "1875/1875 [==============================] - 1s 707us/step - loss: 2.4036 - accuracy: 0.0991 - val_loss: 2.4060 - val_accuracy: 0.0974\n",
      "Epoch 19/25\n",
      "1875/1875 [==============================] - 1s 716us/step - loss: 2.4088 - accuracy: 0.1014 - val_loss: 2.3613 - val_accuracy: 0.1135\n",
      "Epoch 20/25\n",
      "1875/1875 [==============================] - 1s 704us/step - loss: 2.4087 - accuracy: 0.1010 - val_loss: 2.3237 - val_accuracy: 0.1009\n",
      "Epoch 21/25\n",
      "1875/1875 [==============================] - 1s 690us/step - loss: 2.4091 - accuracy: 0.1036 - val_loss: 2.4044 - val_accuracy: 0.1028\n",
      "Epoch 22/25\n",
      "1875/1875 [==============================] - 1s 723us/step - loss: 2.4164 - accuracy: 0.1041 - val_loss: 2.5373 - val_accuracy: 0.0982\n",
      "Epoch 23/25\n",
      "1875/1875 [==============================] - 2s 836us/step - loss: 2.4159 - accuracy: 0.0991 - val_loss: 2.4815 - val_accuracy: 0.0982\n",
      "Epoch 24/25\n",
      "1875/1875 [==============================] - 2s 826us/step - loss: 2.4128 - accuracy: 0.1005 - val_loss: 2.4582 - val_accuracy: 0.0974\n",
      "Epoch 25/25\n",
      "1875/1875 [==============================] - 1s 798us/step - loss: 2.4114 - accuracy: 0.0976 - val_loss: 2.4220 - val_accuracy: 0.0974\n"
     ]
    }
   ],
   "source": [
    "batch_lst = [8, 512]\n",
    "lr_lst = [0.001, 1]\n",
    "opt_lst = [Adam, SGD]\n",
    "\n",
    "\"\"\"\n",
    "param_dic{parameter: [param_list, fit_dictionary, result_df, {other arguments}]}\n",
    "\"\"\"\n",
    "params_dic = { \n",
    "    \"optimizer\": [opt_lst, None, None, {\"lr\":0.01, \"batch\":32, \"epoch\":25, \"optimizer\":Adam}],\n",
    "    \"batch_size\": [batch_lst, None, None, {\"lr\":0.01, \"batch\":32, \"epoch\":25, \"optimizer\":Adam}],\n",
    "              \"lr\": [lr_lst, None, None, {\"lr\":0.01, \"batch\":32, \"epoch\":25, \"optimizer\":Adam}],\n",
    "             }\n",
    "df_lst = []\n",
    "\n",
    "for key, val in params_dic.items():\n",
    "    \n",
    "    kwargs = params_dic[key][3]\n",
    "    \n",
    "    # create model\n",
    "    params_dic[key][1] = fit_param(params_dic[key][0], key, **kwargs)\n",
    "\n",
    "    # create dataframe\n",
    "    params_dic[key][2] = data_param(params_dic[key][1])\n",
    "    \n",
    "    # append to df_lst\n",
    "    df_lst.append(params_dic[key][2])"
   ]
  },
  {
   "cell_type": "markdown",
   "metadata": {
    "colab_type": "text",
    "id": "B0ujUz6BKUGz"
   },
   "source": [
    "### Visualization of Results"
   ]
  },
  {
   "cell_type": "code",
   "execution_count": 175,
   "metadata": {
    "colab": {
     "base_uri": "https://localhost:8080/",
     "height": 1000
    },
    "colab_type": "code",
    "id": "rTix7aVRmzYU",
    "outputId": "4a63440a-9090-4cb6-b3ca-43f9c0f100e9"
   },
   "outputs": [
    {
     "name": "stdout",
     "output_type": "stream",
     "text": [
      "25\n"
     ]
    },
    {
     "data": {
      "text/plain": [
       "{'loss': [0.3569767475128174,\n",
       "  0.25760015845298767,\n",
       "  0.24061384797096252,\n",
       "  0.2292499542236328,\n",
       "  0.21753862500190735],\n",
       " 'accuracy': [0.8983666896820068,\n",
       "  0.9330333471298218,\n",
       "  0.9384166598320007,\n",
       "  0.9435999989509583,\n",
       "  0.9466666579246521],\n",
       " 'val_loss': [0.2682453691959381,\n",
       "  0.24287575483322144,\n",
       "  0.24101325869560242,\n",
       "  0.2789928913116455,\n",
       "  0.23894253373146057],\n",
       " 'val_accuracy': [0.9269000291824341,\n",
       "  0.9386000037193298,\n",
       "  0.9398000240325928,\n",
       "  0.9326000213623047,\n",
       "  0.9453999996185303]}"
      ]
     },
     "execution_count": 175,
     "metadata": {},
     "output_type": "execute_result"
    }
   ],
   "source": [
    "print(len((params_dic[\"batch_size\"][1]['8_'][1].history['loss'])))\n",
    "{key: val[:5] for key, val in params_dic[\"batch_size\"][1]['8_'][1].history.items()}"
   ]
  },
  {
   "cell_type": "code",
   "execution_count": 185,
   "metadata": {},
   "outputs": [
    {
     "data": {
      "image/png": "[encoded data removed]",
      "text/plain": [
       "<Figure size 1080x1080 with 2 Axes>"
      ]
     },
     "metadata": {
      "needs_background": "light"
     },
     "output_type": "display_data"
    },
    {
     "data": {
      "image/png": "[encoded data removed]",
      "text/plain": [
       "<Figure size 1080x1080 with 2 Axes>"
      ]
     },
     "metadata": {
      "needs_background": "light"
     },
     "output_type": "display_data"
    },
    {
     "data": {
      "image/png": "[encoded data removed]",
      "text/plain": [
       "<Figure size 1080x1080 with 2 Axes>"
      ]
     },
     "metadata": {
      "needs_background": "light"
     },
     "output_type": "display_data"
    }
   ],
   "source": [
    "viz_param(df_lst)"
   ]
  },
  {
   "cell_type": "markdown",
   "metadata": {},
   "source": [
    "> **In general, usually smaller batch size does more back propagation and tend to achieve higher accuracy per epoch. But it takes longer to complete each epoch**"
   ]
  },
  {
   "cell_type": "markdown",
   "metadata": {
    "colab_type": "text",
    "id": "QtYbKjRls55e"
   },
   "source": [
    "**Large learning rate cannot converge. Too small of a learning rate needs lots of epochs to get to high accuracy, and it's slow for the same value of batch_size**"
   ]
  },
  {
   "cell_type": "markdown",
   "metadata": {},
   "source": [
    "### epochs\n",
    "epoch is like iteration over the dataset. At some epoch we won't get more improvement.\n",
    "let's keep batch_size=32, and lr=0.01 and run for 50 epoch"
   ]
  },
  {
   "cell_type": "code",
   "execution_count": 178,
   "metadata": {},
   "outputs": [
    {
     "name": "stdout",
     "output_type": "stream",
     "text": [
      "********* Fitting for epochs=50 *********\n",
      "Epoch 1/50\n",
      "1875/1875 [==============================] - 2s 835us/step - loss: 0.4814 - accuracy: 0.8412 - val_loss: 0.2037 - val_accuracy: 0.9377\n",
      "Epoch 2/50\n",
      "1875/1875 [==============================] - 1s 744us/step - loss: 0.1878 - accuracy: 0.9443 - val_loss: 0.1604 - val_accuracy: 0.9552\n",
      "Epoch 3/50\n",
      "1875/1875 [==============================] - 1s 737us/step - loss: 0.1656 - accuracy: 0.9526 - val_loss: 0.1868 - val_accuracy: 0.9497\n",
      "Epoch 4/50\n",
      "1875/1875 [==============================] - 1s 737us/step - loss: 0.1452 - accuracy: 0.9583 - val_loss: 0.1683 - val_accuracy: 0.9556\n",
      "Epoch 5/50\n",
      "1875/1875 [==============================] - 1s 729us/step - loss: 0.1401 - accuracy: 0.9613 - val_loss: 0.1546 - val_accuracy: 0.9585\n",
      "Epoch 6/50\n",
      "1875/1875 [==============================] - 1s 741us/step - loss: 0.1301 - accuracy: 0.9629 - val_loss: 0.1977 - val_accuracy: 0.9547\n",
      "Epoch 7/50\n",
      "1875/1875 [==============================] - 1s 745us/step - loss: 0.1251 - accuracy: 0.9652 - val_loss: 0.1584 - val_accuracy: 0.9589\n",
      "Epoch 8/50\n",
      "1875/1875 [==============================] - 1s 739us/step - loss: 0.1168 - accuracy: 0.9671 - val_loss: 0.1589 - val_accuracy: 0.9559\n",
      "Epoch 9/50\n",
      "1875/1875 [==============================] - 1s 758us/step - loss: 0.1189 - accuracy: 0.9674 - val_loss: 0.1746 - val_accuracy: 0.9590\n",
      "Epoch 10/50\n",
      "1875/1875 [==============================] - 1s 733us/step - loss: 0.1121 - accuracy: 0.9694 - val_loss: 0.1665 - val_accuracy: 0.9589\n",
      "Epoch 11/50\n",
      "1875/1875 [==============================] - 1s 736us/step - loss: 0.1016 - accuracy: 0.9714 - val_loss: 0.1761 - val_accuracy: 0.9610\n",
      "Epoch 12/50\n",
      "1875/1875 [==============================] - 1s 744us/step - loss: 0.1054 - accuracy: 0.9724 - val_loss: 0.1633 - val_accuracy: 0.9635\n",
      "Epoch 13/50\n",
      "1875/1875 [==============================] - 1s 747us/step - loss: 0.1062 - accuracy: 0.9712 - val_loss: 0.1924 - val_accuracy: 0.9594\n",
      "Epoch 14/50\n",
      "1875/1875 [==============================] - 1s 744us/step - loss: 0.1052 - accuracy: 0.9720 - val_loss: 0.2058 - val_accuracy: 0.9595\n",
      "Epoch 15/50\n",
      "1875/1875 [==============================] - 1s 763us/step - loss: 0.1034 - accuracy: 0.9727 - val_loss: 0.2008 - val_accuracy: 0.9599\n",
      "Epoch 16/50\n",
      "1875/1875 [==============================] - 1s 756us/step - loss: 0.1010 - accuracy: 0.9734 - val_loss: 0.2131 - val_accuracy: 0.9582\n",
      "Epoch 17/50\n",
      "1875/1875 [==============================] - 2s 950us/step - loss: 0.0977 - accuracy: 0.9745 - val_loss: 0.2002 - val_accuracy: 0.9645\n",
      "Epoch 18/50\n",
      "1875/1875 [==============================] - 2s 921us/step - loss: 0.0899 - accuracy: 0.9763 - val_loss: 0.1788 - val_accuracy: 0.9613\n",
      "Epoch 19/50\n",
      "1875/1875 [==============================] - 2s 881us/step - loss: 0.0886 - accuracy: 0.9774 - val_loss: 0.2257 - val_accuracy: 0.9543\n",
      "Epoch 20/50\n",
      "1875/1875 [==============================] - 2s 885us/step - loss: 0.0873 - accuracy: 0.9772 - val_loss: 0.2058 - val_accuracy: 0.9575\n",
      "Epoch 21/50\n",
      "1875/1875 [==============================] - 2s 943us/step - loss: 0.0909 - accuracy: 0.9767 - val_loss: 0.2651 - val_accuracy: 0.9519\n",
      "Epoch 22/50\n",
      "1875/1875 [==============================] - 2s 900us/step - loss: 0.0913 - accuracy: 0.9765 - val_loss: 0.2138 - val_accuracy: 0.9605\n",
      "Epoch 23/50\n",
      "1875/1875 [==============================] - 2s 883us/step - loss: 0.0990 - accuracy: 0.9752 - val_loss: 0.2301 - val_accuracy: 0.9608\n",
      "Epoch 24/50\n",
      "1875/1875 [==============================] - 2s 858us/step - loss: 0.0899 - accuracy: 0.9776 - val_loss: 0.2402 - val_accuracy: 0.9622\n",
      "Epoch 25/50\n",
      "1875/1875 [==============================] - 2s 832us/step - loss: 0.0902 - accuracy: 0.9766 - val_loss: 0.2368 - val_accuracy: 0.9580\n",
      "Epoch 26/50\n",
      "1875/1875 [==============================] - 2s 848us/step - loss: 0.0823 - accuracy: 0.9782 - val_loss: 0.2383 - val_accuracy: 0.9602\n",
      "Epoch 27/50\n",
      "1875/1875 [==============================] - 2s 805us/step - loss: 0.0859 - accuracy: 0.9786 - val_loss: 0.2460 - val_accuracy: 0.9606\n",
      "Epoch 28/50\n",
      "1875/1875 [==============================] - 2s 818us/step - loss: 0.0806 - accuracy: 0.9787 - val_loss: 0.2937 - val_accuracy: 0.9625\n",
      "Epoch 29/50\n",
      "1875/1875 [==============================] - 2s 874us/step - loss: 0.0882 - accuracy: 0.9787 - val_loss: 0.2317 - val_accuracy: 0.9624\n",
      "Epoch 30/50\n",
      "1875/1875 [==============================] - 1s 793us/step - loss: 0.0851 - accuracy: 0.9783 - val_loss: 0.2446 - val_accuracy: 0.9633\n",
      "Epoch 31/50\n",
      "1875/1875 [==============================] - 1s 792us/step - loss: 0.0843 - accuracy: 0.9786 - val_loss: 0.2543 - val_accuracy: 0.9601\n",
      "Epoch 32/50\n",
      "1875/1875 [==============================] - 2s 803us/step - loss: 0.0798 - accuracy: 0.9795 - val_loss: 0.2570 - val_accuracy: 0.9641\n",
      "Epoch 33/50\n",
      "1875/1875 [==============================] - 2s 818us/step - loss: 0.0817 - accuracy: 0.9793 - val_loss: 0.3003 - val_accuracy: 0.9613\n",
      "Epoch 34/50\n",
      "1875/1875 [==============================] - 2s 842us/step - loss: 0.0989 - accuracy: 0.9776 - val_loss: 0.2576 - val_accuracy: 0.9576\n",
      "Epoch 35/50\n",
      "1875/1875 [==============================] - 1s 792us/step - loss: 0.0816 - accuracy: 0.9799 - val_loss: 0.3389 - val_accuracy: 0.9570\n",
      "Epoch 36/50\n",
      "1875/1875 [==============================] - 1s 799us/step - loss: 0.0837 - accuracy: 0.9792 - val_loss: 0.3014 - val_accuracy: 0.9631\n",
      "Epoch 37/50\n",
      "1875/1875 [==============================] - 1s 786us/step - loss: 0.0857 - accuracy: 0.9791 - val_loss: 0.2686 - val_accuracy: 0.9633\n",
      "Epoch 38/50\n",
      "1875/1875 [==============================] - 2s 845us/step - loss: 0.0824 - accuracy: 0.9809 - val_loss: 0.2778 - val_accuracy: 0.9645\n",
      "Epoch 39/50\n",
      "1875/1875 [==============================] - 2s 823us/step - loss: 0.0762 - accuracy: 0.9811 - val_loss: 0.2894 - val_accuracy: 0.9607\n",
      "Epoch 40/50\n",
      "1875/1875 [==============================] - 2s 831us/step - loss: 0.0789 - accuracy: 0.9798 - val_loss: 0.2959 - val_accuracy: 0.9662\n",
      "Epoch 41/50\n",
      "1875/1875 [==============================] - 1s 798us/step - loss: 0.0769 - accuracy: 0.9813 - val_loss: 0.3006 - val_accuracy: 0.9633\n",
      "Epoch 42/50\n",
      "1875/1875 [==============================] - 2s 804us/step - loss: 0.0796 - accuracy: 0.9809 - val_loss: 0.4308 - val_accuracy: 0.9457\n",
      "Epoch 43/50\n",
      "1875/1875 [==============================] - 1s 787us/step - loss: 0.0835 - accuracy: 0.9805 - val_loss: 0.3020 - val_accuracy: 0.9618\n",
      "Epoch 44/50\n",
      "1875/1875 [==============================] - 1s 799us/step - loss: 0.0758 - accuracy: 0.9812 - val_loss: 0.3110 - val_accuracy: 0.9611\n",
      "Epoch 45/50\n",
      "1875/1875 [==============================] - 2s 889us/step - loss: 0.0840 - accuracy: 0.9802 - val_loss: 0.3278 - val_accuracy: 0.9601\n",
      "Epoch 46/50\n",
      "1875/1875 [==============================] - 2s 851us/step - loss: 0.0760 - accuracy: 0.9812 - val_loss: 0.3067 - val_accuracy: 0.9588\n",
      "Epoch 47/50\n",
      "1875/1875 [==============================] - 2s 822us/step - loss: 0.0794 - accuracy: 0.9807 - val_loss: 0.3551 - val_accuracy: 0.9606\n",
      "Epoch 48/50\n",
      "1875/1875 [==============================] - 2s 821us/step - loss: 0.0730 - accuracy: 0.9831 - val_loss: 0.3445 - val_accuracy: 0.9599\n",
      "Epoch 49/50\n",
      "1875/1875 [==============================] - 2s 825us/step - loss: 0.0810 - accuracy: 0.9809 - val_loss: 0.4002 - val_accuracy: 0.9606\n",
      "Epoch 50/50\n",
      "1875/1875 [==============================] - 2s 831us/step - loss: 0.0790 - accuracy: 0.9810 - val_loss: 0.4023 - val_accuracy: 0.9620\n"
     ]
    }
   ],
   "source": [
    "epoch_lst = [50]\n",
    "model_epoch = fit_param(epoch_lst, \"epochs\")"
   ]
  },
  {
   "cell_type": "code",
   "execution_count": 181,
   "metadata": {},
   "outputs": [
    {
     "data": {
      "text/html": [
       "<div>\n",
       "<style scoped>\n",
       "    .dataframe tbody tr th:only-of-type {\n",
       "        vertical-align: middle;\n",
       "    }\n",
       "\n",
       "    .dataframe tbody tr th {\n",
       "        vertical-align: top;\n",
       "    }\n",
       "\n",
       "    .dataframe thead th {\n",
       "        text-align: right;\n",
       "    }\n",
       "</style>\n",
       "<table border=\"1\" class=\"dataframe\">\n",
       "  <thead>\n",
       "    <tr style=\"text-align: right;\">\n",
       "      <th></th>\n",
       "      <th>loss</th>\n",
       "      <th>accuracy</th>\n",
       "      <th>val_loss</th>\n",
       "      <th>val_accuracy</th>\n",
       "      <th>epoch</th>\n",
       "      <th>epochs_</th>\n",
       "    </tr>\n",
       "  </thead>\n",
       "  <tbody>\n",
       "    <tr>\n",
       "      <th>0</th>\n",
       "      <td>0.299422</td>\n",
       "      <td>0.907400</td>\n",
       "      <td>0.203667</td>\n",
       "      <td>0.9377</td>\n",
       "      <td>0</td>\n",
       "      <td>50_</td>\n",
       "    </tr>\n",
       "    <tr>\n",
       "      <th>1</th>\n",
       "      <td>0.182428</td>\n",
       "      <td>0.946050</td>\n",
       "      <td>0.160429</td>\n",
       "      <td>0.9552</td>\n",
       "      <td>1</td>\n",
       "      <td>50_</td>\n",
       "    </tr>\n",
       "    <tr>\n",
       "      <th>2</th>\n",
       "      <td>0.164255</td>\n",
       "      <td>0.953117</td>\n",
       "      <td>0.186818</td>\n",
       "      <td>0.9497</td>\n",
       "      <td>2</td>\n",
       "      <td>50_</td>\n",
       "    </tr>\n",
       "    <tr>\n",
       "      <th>3</th>\n",
       "      <td>0.150460</td>\n",
       "      <td>0.957417</td>\n",
       "      <td>0.168315</td>\n",
       "      <td>0.9556</td>\n",
       "      <td>3</td>\n",
       "      <td>50_</td>\n",
       "    </tr>\n",
       "    <tr>\n",
       "      <th>4</th>\n",
       "      <td>0.144594</td>\n",
       "      <td>0.959750</td>\n",
       "      <td>0.154644</td>\n",
       "      <td>0.9585</td>\n",
       "      <td>4</td>\n",
       "      <td>50_</td>\n",
       "    </tr>\n",
       "  </tbody>\n",
       "</table>\n",
       "</div>"
      ],
      "text/plain": [
       "       loss  accuracy  val_loss  val_accuracy  epoch epochs_\n",
       "0  0.299422  0.907400  0.203667        0.9377      0     50_\n",
       "1  0.182428  0.946050  0.160429        0.9552      1     50_\n",
       "2  0.164255  0.953117  0.186818        0.9497      2     50_\n",
       "3  0.150460  0.957417  0.168315        0.9556      3     50_\n",
       "4  0.144594  0.959750  0.154644        0.9585      4     50_"
      ]
     },
     "execution_count": 181,
     "metadata": {},
     "output_type": "execute_result"
    }
   ],
   "source": [
    "data_param(model_epoch).head()"
   ]
  },
  {
   "cell_type": "code",
   "execution_count": 186,
   "metadata": {},
   "outputs": [
    {
     "data": {
      "image/png": "[encoded data removed]",
      "text/plain": [
       "<Figure size 1080x360 with 2 Axes>"
      ]
     },
     "metadata": {
      "needs_background": "light"
     },
     "output_type": "display_data"
    }
   ],
   "source": [
    "viz_param([data_param(model_epoch)])"
   ]
  },
  {
   "cell_type": "code",
   "execution_count": null,
   "metadata": {},
   "outputs": [],
   "source": []
  }
 ],
 "metadata": {
  "accelerator": "GPU",
  "colab": {
   "collapsed_sections": [],
   "include_colab_link": true,
   "name": "LS_DS17_422_Train.ipynb",
   "provenance": []
  },
  "kernelspec": {
   "display_name": "ML_NN (Python3.7)",
   "language": "python",
   "name": "ml_nn"
  },
  "language_info": {
   "codemirror_mode": {
    "name": "ipython",
    "version": 3
   },
   "file_extension": ".py",
   "mimetype": "text/x-python",
   "name": "python",
   "nbconvert_exporter": "python",
   "pygments_lexer": "ipython3",
   "version": "3.7.0"
  }
 },
 "nbformat": 4,
 "nbformat_minor": 4
}
