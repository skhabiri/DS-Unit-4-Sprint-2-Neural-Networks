{
 "cells": [
  {
   "cell_type": "markdown",
   "metadata": {
    "colab_type": "text",
    "id": "view-in-github"
   },
   "source": [
    "<a href=\"https://colab.research.google.com/github/skhabiri/DS-Unit-4-Sprint-2-Neural-Networks/blob/main/module2-Train/LS_DS17_422_Train.ipynb\" target=\"_parent\"><img src=\"https://colab.research.google.com/assets/colab-badge.svg\" alt=\"Open In Colab\"/></a>"
   ]
  },
  {
   "cell_type": "markdown",
   "metadata": {
    "colab_type": "text",
    "id": "aS4GZ37Wgcjr"
   },
   "source": [
    "*Unit 4, Sprint 2, Module 2*\n",
    "\n",
    "---"
   ]
  },
  {
   "cell_type": "markdown",
   "metadata": {
    "colab_type": "text",
    "id": "etFf1WLWgcjt",
    "toc-hr-collapsed": false
   },
   "source": [
    "# Train (Prepare)\n",
    "__*Neural Network Foundations*__"
   ]
  },
  {
   "cell_type": "markdown",
   "metadata": {
    "colab_type": "text",
    "id": "hXB80QOhgcju"
   },
   "source": [
    "## Learning Objectives\n",
    "* <a href=\"#p1\">Part 1</a>: explain the intuition behind backpropagation and gradient descent\n",
    "* <a href=\"#p2\">Part 2</a>: able to discuss the importance of batch size\n",
    "* <a href=\"#p3\">Part 3</a>: able to discuss the importance of learning rate"
   ]
  },
  {
   "cell_type": "markdown",
   "metadata": {
    "colab_type": "text",
    "id": "8YuQu2lfgcju"
   },
   "source": [
    "## Summary of Yesterday\n",
    "\n",
    "Yesterday, we learned about some of the principal components of Neural Networks: Neurons, Weights, Activation Functions, and layers (input, output, & hidden). Today, we will reinforce our understanding of those components and introduce the mechanics of training a neural network. Feed-forward neural networks, such as multi-layer perceptrons (MLPs), are almost always trained using some variation of gradient descent where the gradient has been calculated by backpropagation.\n",
    "\n",
    "  <center><img src=\"https://raw.githubusercontent.com/LambdaSchool/DS-Unit-4-Sprint-2-Neural-Networks/main/module1-Architect/IMG_0167.jpeg\" width=400></center>\n",
    "\n",
    "- There are three kinds of layers: input, hidden, and output layers.\n",
    "- Each layer is made up of **n** individual neurons (aka activation units) which have a corresponding weight and bias.\n",
    "- Signal is passed from layer to layer through a network by:\n",
    " - Taking in inputs from the training data (or previous layer)\n",
    " - Multiplying each input by its corresponding weight (think arrow/connecting line)\n",
    " - Adding a bias to this weighted some of inputs and weights\n",
    " - Activating this weighted sum + bias by squishifying it with sigmoid or some other activation function. With a single perceptron with three inputs, calculating the output from the node is done like so:\n",
    "\\begin{align}\n",
    " y = sigmoid(\\sum(weight_{1}input_{1} + weight_{2}input_{2} + weight_{3}input_{3}) + bias)\n",
    "\\end{align}\n",
    " - this final activated value is the signal that gets passed onto the next layer of the network.\n",
    " "
   ]
  },
  {
   "cell_type": "markdown",
   "metadata": {
    "colab_type": "text",
    "id": "bpi4R03rgcjv"
   },
   "source": [
    "## Training a Neural Network: *Formal Summary*\n",
    "\n",
    "0. Pick a network architecture\n",
    "   - No. of input units = No. of features\n",
    "   - No. of output units = Number of Classes (or expected targets)\n",
    "   - Select the number of hidden layers and number of neurons within each hidden layer\n",
    "1. Randomly initialize weights, $\\theta$\n",
    "2. Implement forward propagation to get $h_{\\theta}(x^{(i)})$ for any $x^{(i)}$\n",
    "3. Implement code to compute a cost function $J(\\theta)$\n",
    "4. Implement backpropagation to compute partial derivatives $\\frac{\\delta}{\\delta\\theta_{jk}^{l}}{J(\\theta)}$\n",
    "5. Use gradient descent (or other advanced optimizer) with backpropagation to minimize $J(\\theta)$ as a function of parameters $\\theta$\n",
    "6. Repeat steps 2 - 5 until cost function is 'minimized' or some other stopping criteria is met. One pass over steps 2 - 5 is called an iteration or epoch."
   ]
  },
  {
   "cell_type": "markdown",
   "metadata": {
    "colab_type": "text",
    "id": "aM4CK1IarId4",
    "toc-hr-collapsed": false
   },
   "source": [
    "# Backpropagation & Gradient Descent (Learn)\n",
    "<a id=\"p1\"></a>"
   ]
  },
  {
   "cell_type": "markdown",
   "metadata": {
    "colab_type": "text",
    "id": "Ktm8Fmoagcjy",
    "toc-hr-collapsed": true
   },
   "source": [
    "## Overview\n",
    "\n",
    "Backpropagation is short for [\"Backwards Propagation of errors\"](https://en.wikipedia.org/wiki/Backpropagation) and refers to a specific (rather calculus intensive) algorithm for how weights in a neural network are updated in reverse order at the end of each training epoch. Our purpose today is to demonstrate the backpropagation algorithm on a simple Feedforward Neural Network and in doing so help you get a grasp on the main process. If you want to understand all of the underlying calculus of how the gradients are calculated then you'll need to dive into it yourself, [3Blue1Brown's video is a great starting place](https://www.youtube.com/watch?v=tIeHLnjs5U8). I also highly recommend this Welch Labs series [Neural Networks Demystified](https://www.youtube.com/watch?v=bxe2T-V8XRs) if you want a rapid yet orderly walk through of the main intuitions and math behind the backpropagation algorithm. "
   ]
  },
  {
   "cell_type": "markdown",
   "metadata": {
    "colab_type": "text",
    "id": "NXI2tEO9gcjy"
   },
   "source": [
    "### What is a Gradient?\n",
    "\n",
    "> In vector calculus, the gradient is a multi-variable generalization of the derivative. \n",
    "\n",
    "The gradients that we will deal with today will be vector representations of the derivative of the activation function. "
   ]
  },
  {
   "cell_type": "markdown",
   "metadata": {
    "colab_type": "text",
    "id": "UZY66kiUgcjz",
    "toc-hr-collapsed": true
   },
   "source": [
    "## Follow Along\n",
    "\n",
    "In this section, we will begin a simple neural network using base TensorFlow. We'll focus on using a __Feed Forward Neural Network__ to predict test scores. "
   ]
  },
  {
   "cell_type": "markdown",
   "metadata": {
    "colab_type": "text",
    "id": "Dm2HPETcrgy6",
    "toc-hr-collapsed": true
   },
   "source": [
    "<center><img src=\"https://raw.githubusercontent.com/LambdaSchool/DS-Unit-4-Sprint-2-Neural-Networks/main/module1-Architect/IMG_99C94113202D-1.jpeg\"width=500></center>"
   ]
  },
  {
   "cell_type": "markdown",
   "metadata": {
    "colab_type": "text",
    "id": "4d4tzpwO6B47"
   },
   "source": [
    "### Generate some Fake Data"
   ]
  },
  {
   "cell_type": "code",
   "execution_count": 1,
   "metadata": {
    "colab": {},
    "colab_type": "code",
    "id": "ERyVgeO_IWyV"
   },
   "outputs": [],
   "source": [
    "import tensorflow as tf\n",
    "\n",
    "# Imagine that our data is drawn from a linear function\n",
    "# y = 3.5*hours_studying + 50\n",
    "\n",
    "TRUE_W = 3.5\n",
    "TRUE_b = 50.0\n",
    "NUM_EXAMPLES = 1000\n",
    "\n",
    "# Default is mean=0 std=1, dtype=tf.float32, a subclass of numpy array!\n",
    "inputs = tf.random.normal(shape=[NUM_EXAMPLES], mean=0, stddev=0, dtype=tf.float32, seed=42)\n",
    "noise = tf.random.normal(shape=[NUM_EXAMPLES], mean=0, stddev=0, dtype=tf.float32, seed=42)\n",
    "\n",
    "outputs = inputs * TRUE_W + TRUE_b + noise"
   ]
  },
  {
   "cell_type": "code",
   "execution_count": 2,
   "metadata": {
    "colab": {
     "base_uri": "https://localhost:8080/",
     "height": 34
    },
    "colab_type": "code",
    "id": "2MJaPSr1OMuj",
    "outputId": "e2894df8-2534-4fbf-ddf1-6a8ca3406a5a"
   },
   "outputs": [
    {
     "data": {
      "text/plain": [
       "tensorflow.python.framework.ops.EagerTensor"
      ]
     },
     "execution_count": 2,
     "metadata": {},
     "output_type": "execute_result"
    }
   ],
   "source": [
    "type(inputs)"
   ]
  },
  {
   "cell_type": "code",
   "execution_count": 3,
   "metadata": {
    "colab": {
     "base_uri": "https://localhost:8080/",
     "height": 68
    },
    "colab_type": "code",
    "id": "2khtdq0uoI_P",
    "outputId": "0270cb95-5eb7-4831-c40b-967efd40f841"
   },
   "outputs": [
    {
     "data": {
      "text/plain": [
       "<tf.Tensor: shape=(5,), dtype=float32, numpy=\n",
       "array([-1.1565905 ,  0.9360708 , -0.3900228 , -1.4862837 , -0.26932803],\n",
       "      dtype=float32)>"
      ]
     },
     "execution_count": 3,
     "metadata": {},
     "output_type": "execute_result"
    }
   ],
   "source": [
    "inputs[:5]"
   ]
  },
  {
   "cell_type": "code",
   "execution_count": 4,
   "metadata": {
    "colab": {
     "base_uri": "https://localhost:8080/",
     "height": 68
    },
    "colab_type": "code",
    "id": "2sCoajXKoPmQ",
    "outputId": "c5edae47-89c6-4dbe-df76-bd956b09ba16"
   },
   "outputs": [
    {
     "data": {
      "text/plain": [
       "<tf.Tensor: shape=(5,), dtype=float32, numpy=\n",
       "array([ 1.8507488 ,  1.4934216 ,  0.18194261, -0.6067917 ,  0.5364568 ],\n",
       "      dtype=float32)>"
      ]
     },
     "execution_count": 4,
     "metadata": {},
     "output_type": "execute_result"
    }
   ],
   "source": [
    "noise[:5]"
   ]
  },
  {
   "cell_type": "code",
   "execution_count": 5,
   "metadata": {
    "colab": {
     "base_uri": "https://localhost:8080/",
     "height": 68
    },
    "colab_type": "code",
    "id": "rSCxwl_toRDS",
    "outputId": "a69cbb26-cd02-4c92-b3a3-cb526c3d068a"
   },
   "outputs": [
    {
     "data": {
      "text/plain": [
       "<tf.Tensor: shape=(5,), dtype=float32, numpy=\n",
       "array([47.802685, 54.76967 , 48.81686 , 44.191216, 49.593807],\n",
       "      dtype=float32)>"
      ]
     },
     "execution_count": 5,
     "metadata": {},
     "output_type": "execute_result"
    }
   ],
   "source": [
    "outputs[:5]"
   ]
  },
  {
   "cell_type": "markdown",
   "metadata": {
    "colab_type": "text",
    "id": "bCJesGEUgcj4"
   },
   "source": [
    "### Loss Function\n",
    "Here we will use Mean Squared Error (MSE), because this is a regression problem. We are trying to predict a continuous target."
   ]
  },
  {
   "cell_type": "code",
   "execution_count": 6,
   "metadata": {
    "colab": {},
    "colab_type": "code",
    "id": "cDeUBW6k4Ri4"
   },
   "outputs": [],
   "source": [
    "def loss(target_y, predicted_y):\n",
    "  \"MSE, Note that the loss function operates over the entire array\"\n",
    "  # Computes the mean of elements across dimensions of a tensor.\n",
    "  # Computes square of x element-wise.\n",
    "  return tf.reduce_mean(tf.square(target_y - predicted_y))"
   ]
  },
  {
   "cell_type": "markdown",
   "metadata": {
    "colab_type": "text",
    "id": "bgTf6vTS69Sw"
   },
   "source": [
    "### Neural Network Architecture\n",
    "Lets create a Neural Network class called \"Model\" to contain this functionality. Note: This is essentially a linear regression whose coefficients are trained by gradient descent. In practice, gradient descent works on much more complex function like the multi-layer networks we constructed yesterday."
   ]
  },
  {
   "cell_type": "code",
   "execution_count": 102,
   "metadata": {
    "colab": {
     "base_uri": "https://localhost:8080/",
     "height": 1000
    },
    "colab_type": "code",
    "id": "Cl8MpENgWM88",
    "outputId": "683fece6-c202-43df-dafc-487bdffd22a8"
   },
   "outputs": [
    {
     "data": {
      "text/plain": [
       "['AggregationMethod',\n",
       " 'Assert',\n",
       " 'CriticalSection',\n",
       " 'DType',\n",
       " 'DeviceSpec',\n",
       " 'GradientTape',\n",
       " 'Graph',\n",
       " 'IndexedSlices',\n",
       " 'IndexedSlicesSpec',\n",
       " 'Module',\n",
       " 'Operation',\n",
       " 'OptionalSpec',\n",
       " 'RaggedTensor',\n",
       " 'RaggedTensorSpec',\n",
       " 'RegisterGradient',\n",
       " 'SparseTensor',\n",
       " 'SparseTensorSpec',\n",
       " 'Tensor',\n",
       " 'TensorArray',\n",
       " 'TensorArraySpec',\n",
       " 'type_spec_from_value',\n",
       " 'types',\n",
       " 'uint16',\n",
       " 'uint32',\n",
       " 'uint64',\n",
       " 'uint8',\n",
       " 'unique',\n",
       " 'unique_with_counts',\n",
       " 'unravel_index',\n",
       " 'unstack',\n",
       " 'variable_creator_scope',\n",
       " 'variant',\n",
       " 'vectorized_map',\n",
       " 'version',\n",
       " 'where',\n",
       " 'while_loop',\n",
       " 'xla',\n",
       " 'zeros',\n",
       " 'zeros_initializer',\n",
       " 'zeros_like']"
      ]
     },
     "execution_count": 102,
     "metadata": {},
     "output_type": "execute_result"
    }
   ],
   "source": [
    "dir(tf)[:20] + dir(tf)[-20:]"
   ]
  },
  {
   "cell_type": "markdown",
   "metadata": {},
   "source": [
    "*In TensorFlow the differences between constants and variables are that when you declare some constant, its value can't be changed in the future (also the initialization should be with a value, not with operation). Nevertheless, when you declare a Variable, you can change its value in the future with tf.assign() method (and the initialization can be achieved with a value or operation).*"
   ]
  },
  {
   "cell_type": "code",
   "execution_count": 9,
   "metadata": {
    "colab": {
     "base_uri": "https://localhost:8080/",
     "height": 68
    },
    "colab_type": "code",
    "id": "GWN8tHfYV8JW",
    "outputId": "a60221b6-1500-4fac-c46a-adab5096cdc6"
   },
   "outputs": [
    {
     "name": "stdout",
     "output_type": "stream",
     "text": [
      "<tf.Variable 'Variable:0' shape=(2, 1) dtype=float32, numpy=\n",
      "array([[1.],\n",
      "       [2.]], dtype=float32)>\n"
     ]
    },
    {
     "data": {
      "text/plain": [
       "<tf.Tensor: shape=(1, 2), dtype=float32, numpy=array([[3., 4.]], dtype=float32)>"
      ]
     },
     "execution_count": 9,
     "metadata": {},
     "output_type": "execute_result"
    }
   ],
   "source": [
    "# Experiment with tensor operator\n",
    "w = tf.Variable([[1.], [2.]])\n",
    "x = tf.constant([[3., 4.]])\n",
    "print(w)\n",
    "x"
   ]
  },
  {
   "cell_type": "code",
   "execution_count": 10,
   "metadata": {},
   "outputs": [
    {
     "data": {
      "text/plain": [
       "<tf.Tensor: shape=(2, 2), dtype=float32, numpy=\n",
       "array([[4., 5.],\n",
       "       [5., 6.]], dtype=float32)>"
      ]
     },
     "execution_count": 10,
     "metadata": {},
     "output_type": "execute_result"
    }
   ],
   "source": [
    "# Like numpy expands dimensions:\n",
    "\"\"\"\n",
    "[1,1]   [3,4]   [4,5]\n",
    "[2,2] + [3,4] = [5,6]\n",
    "\"\"\"\n",
    "w+x"
   ]
  },
  {
   "cell_type": "code",
   "execution_count": 11,
   "metadata": {},
   "outputs": [
    {
     "data": {
      "text/plain": [
       "<tf.Tensor: shape=(2, 2), dtype=float32, numpy=\n",
       "array([[3., 4.],\n",
       "       [6., 8.]], dtype=float32)>"
      ]
     },
     "execution_count": 11,
     "metadata": {},
     "output_type": "execute_result"
    }
   ],
   "source": [
    "# It's an element-wise multiplication\n",
    "tf.matmul(w, x)"
   ]
  },
  {
   "cell_type": "code",
   "execution_count": 17,
   "metadata": {
    "colab": {},
    "colab_type": "code",
    "id": "RUI8VSR5zyBv"
   },
   "outputs": [],
   "source": [
    "# inherits from the object class\n",
    "class Model(object):\n",
    "\n",
    "  def __init__(self):\n",
    "    self.W = tf.Variable(8.0)\n",
    "    self.b = tf.Variable(40.0)\n",
    "\n",
    "  # So, the __init__ method is used when the class is called to initialize the instance, \n",
    "  # while the __call__ method allows the class's instance to be called as a function, and returns a value\n",
    "  def __call__(self, x):\n",
    "    return self.W * x + self.b\n",
    "\n",
    "model = Model()"
   ]
  },
  {
   "cell_type": "code",
   "execution_count": 34,
   "metadata": {
    "colab": {
     "base_uri": "https://localhost:8080/",
     "height": 51
    },
    "colab_type": "code",
    "id": "bz7uJ-TZdztX",
    "outputId": "f1cacd93-a717-4788-fefa-1cb50d659902"
   },
   "outputs": [
    {
     "name": "stdout",
     "output_type": "stream",
     "text": [
      "<class '__main__.Model'>\n",
      "<class 'tensorflow.python.framework.ops.EagerTensor'>\n",
      "tf.Tensor(64.0, shape=(), dtype=float32)\n",
      "64.0\n"
     ]
    }
   ],
   "source": [
    "print(type(model))\n",
    "# W and b are of type tensor\n",
    "print(type(model(3.0)))\n",
    "print(model(3.0))\n",
    "print(model(3.0).numpy())"
   ]
  },
  {
   "cell_type": "code",
   "execution_count": 27,
   "metadata": {},
   "outputs": [
    {
     "data": {
      "text/plain": [
       "<tf.Tensor: shape=(), dtype=bool, numpy=True>"
      ]
     },
     "execution_count": 27,
     "metadata": {},
     "output_type": "execute_result"
    }
   ],
   "source": [
    "# Model() passes self to __call__() method\n",
    "Model().__call__(3) == 64"
   ]
  },
  {
   "cell_type": "code",
   "execution_count": 32,
   "metadata": {},
   "outputs": [
    {
     "data": {
      "text/plain": [
       "<tf.Tensor: shape=(), dtype=float32, numpy=64.0>"
      ]
     },
     "execution_count": 32,
     "metadata": {},
     "output_type": "execute_result"
    }
   ],
   "source": [
    "# Alternative way to call the __call__() method on the instance of class Model: Model()\n",
    "Model()(3)"
   ]
  },
  {
   "cell_type": "markdown",
   "metadata": {},
   "source": [
    "**Tensor has a shape, dtype and numpy value**"
   ]
  },
  {
   "cell_type": "markdown",
   "metadata": {
    "colab_type": "text",
    "id": "gbyT_FJ88IlK"
   },
   "source": [
    "### Initial Weights\n",
    "The initial weights in our model were arbitrary. In practice, weights are initialized randomly. "
   ]
  },
  {
   "cell_type": "code",
   "execution_count": 31,
   "metadata": {
    "colab": {
     "base_uri": "https://localhost:8080/",
     "height": 34
    },
    "colab_type": "code",
    "id": "gDmoHdTrgBRU",
    "outputId": "1d96dc1f-ecad-41ca-8ea3-b8ecc46aa277"
   },
   "outputs": [
    {
     "data": {
      "text/plain": [
       "<tf.Tensor: shape=(), dtype=float32, numpy=120.73599>"
      ]
     },
     "execution_count": 31,
     "metadata": {},
     "output_type": "execute_result"
    }
   ],
   "source": [
    "loss(outputs, model(inputs))"
   ]
  },
  {
   "cell_type": "markdown",
   "metadata": {},
   "source": [
    "> *In **'%x.yf'** x is the <u>minimum</u> field width, and y is number of digits after the decimal point.*\n",
    "\n",
    "For example, to force the output to have at least 6 characters with 2 after the decimal point you do:\n",
    "```\n",
    "'%06.2f' % (3.141592653589793,)\n",
    "Output: 003.14```"
   ]
  },
  {
   "cell_type": "code",
   "execution_count": 35,
   "metadata": {
    "colab": {
     "base_uri": "https://localhost:8080/",
     "height": 286
    },
    "colab_type": "code",
    "id": "IreIDe6P8H0H",
    "outputId": "9e9da888-9394-4355-8735-fcfff291a02e"
   },
   "outputs": [
    {
     "data": {
      "image/png": "[encoded data removed]",
      "text/plain": [
       "<Figure size 432x288 with 1 Axes>"
      ]
     },
     "metadata": {
      "needs_background": "light"
     },
     "output_type": "display_data"
    },
    {
     "name": "stdout",
     "output_type": "stream",
     "text": [
      "Current loss: 120.735992\n"
     ]
    }
   ],
   "source": [
    "import matplotlib.pyplot as plt\n",
    "\n",
    "# blue is the provided target value\n",
    "plt.scatter(inputs, outputs, c='b')\n",
    "\n",
    "# red is the prediction.\n",
    "plt.scatter(inputs, model(inputs), c='r')\n",
    "plt.show()\n",
    "\n",
    "print('Current loss: %1.6f' % loss(outputs, model(inputs)).numpy())"
   ]
  },
  {
   "cell_type": "code",
   "execution_count": 37,
   "metadata": {},
   "outputs": [
    {
     "name": "stdout",
     "output_type": "stream",
     "text": [
      "Current loss: 120.74\n"
     ]
    }
   ],
   "source": [
    "print('Current loss: %1.2f' % loss(outputs, model(inputs)).numpy())"
   ]
  },
  {
   "cell_type": "markdown",
   "metadata": {
    "colab_type": "text",
    "id": "16Ujj6vNYQyX",
    "toc-hr-collapsed": true
   },
   "source": [
    "### Update Weights Based on Gradient\n",
    "\n",
    "> *Assigning blame for bad predictions and delivering justice - repeatedly and a little bit at a time*\n",
    "\n",
    "You should also know that with neural networks it is common to have gradients that are not convex (like what we saw when we applied gradient descent to linear regression). \n",
    "\n",
    "Due to the high complexity of these models and their nonlinearity, it is common for gradient descent to get stuck in a local minimum, but there are ways to combat this:\n",
    "\n",
    "1) Stochastic Gradient Descent\n",
    "\n",
    "2) More advanced Gradient-Descent-based \"Optimizers\" - See Stretch Goals."
   ]
  },
  {
   "cell_type": "markdown",
   "metadata": {},
   "source": [
    "GradientTape():\n",
    "Operations are recorded if they are executed within this context manager and at least one of their inputs is being \"watched\". Trainable variables (created by tf.Variable or tf.compat.v1.get_variable, where trainable=True is default in both cases) are automatically watched. Tensors can be manually watched by invoking the watch method on this context manager."
   ]
  },
  {
   "cell_type": "code",
   "execution_count": 39,
   "metadata": {
    "colab": {},
    "colab_type": "code",
    "id": "ZgaGD6YlHoid"
   },
   "outputs": [],
   "source": [
    " def train(model, inputs, outputs, learning_rate):\n",
    "    with tf.GradientTape() as t: \n",
    "        # recording :\n",
    "        current_loss = loss(outputs, model(inputs))\n",
    "\n",
    "    #takes the gradient of current_loss vs W and b, dw is actually d(Loss)/dW\n",
    "    dW, db = t.gradient(current_loss, [model.W, model.b])\n",
    "    # for dW>0 lowering W with lower Loss (Learning_rate>0): W = W - learning_rate * dW\n",
    "    # assign_sub(ref, value) >> ref = ref-value (assign subtraction)\n",
    "    model.W.assign_sub(learning_rate * dW)\n",
    "    model.b.assign_sub(learning_rate * db)\n",
    "\n",
    "    return current_loss"
   ]
  },
  {
   "cell_type": "code",
   "execution_count": 101,
   "metadata": {},
   "outputs": [
    {
     "data": {
      "text/plain": [
       "(1, 22, <tf.Tensor: shape=(), dtype=float32, numpy=-5.5>)"
      ]
     },
     "execution_count": 101,
     "metadata": {},
     "output_type": "execute_result"
    }
   ],
   "source": [
    "class B(object):\n",
    "    def __init__(self):\n",
    "        self.b1 = 20\n",
    "\n",
    "def test1(a, b, model1):\n",
    "    a = a + 2\n",
    "    b.b1 = b.b1 + 2\n",
    "    model1.W = tf.constant(-5.5)\n",
    "#     model1.W = model1.W.assign_sub(5.5)\n",
    "    return b\n",
    "\n",
    "model = Model()\n",
    "b = B()\n",
    "a = 1\n",
    "\n",
    "# model.W = tf.Variable(12.3)\n",
    "b = test1(a, b, model)\n",
    "a, b.b1, model.W\n"
   ]
  },
  {
   "cell_type": "markdown",
   "metadata": {
    "colab_type": "text",
    "id": "7iziWWURgck8"
   },
   "source": [
    "### Train the Network"
   ]
  },
  {
   "cell_type": "code",
   "execution_count": 40,
   "metadata": {
    "colab": {
     "base_uri": "https://localhost:8080/",
     "height": 187
    },
    "colab_type": "code",
    "id": "4zn_HgFuHhTr",
    "outputId": "3f338cc3-bc70-4ca2-8a9d-714796b67eab"
   },
   "outputs": [
    {
     "name": "stdout",
     "output_type": "stream",
     "text": [
      "Epoch  0: W=8.00 b=40.00 loss=120.73599\n",
      "Epoch  1: W=7.14 b=42.01 loss=77.77589\n",
      "Epoch  2: W=6.44 b=43.61 loss=50.23418\n",
      "Epoch  3: W=5.88 b=44.89 loss=32.57647\n",
      "Epoch  4: W=5.43 b=45.92 loss=21.25525\n",
      "Epoch  5: W=5.06 b=46.74 loss=13.99636\n",
      "Epoch  6: W=4.77 b=47.40 loss=9.34195\n",
      "Epoch  7: W=4.53 b=47.92 loss=6.35739\n",
      "Epoch  8: W=4.34 b=48.34 loss=4.44353\n",
      "Epoch  9: W=4.18 b=48.68 loss=3.21622\n"
     ]
    }
   ],
   "source": [
    "model = Model()\n",
    "\n",
    "# Store Some history of weights\n",
    "Ws, bs = [], []\n",
    "epochs = range(10)\n",
    "for epoch in epochs:\n",
    "    # W.numpy() gets the value of the tensor W\n",
    "    Ws.append(model.W.numpy())\n",
    "    bs.append(model.b.numpy())\n",
    "    # current_loss is the same as train return value\n",
    "    current_loss = loss(outputs, model(inputs))\n",
    "\n",
    "    train(model, inputs, outputs, learning_rate=0.1)\n",
    "    print('Epoch %2d: W=%1.2f b=%1.2f loss=%2.5f' % (epoch, Ws[-1], bs[-1], current_loss))"
   ]
  },
  {
   "cell_type": "code",
   "execution_count": 61,
   "metadata": {
    "colab": {
     "base_uri": "https://localhost:8080/",
     "height": 265
    },
    "colab_type": "code",
    "id": "FSEt07wdHvi2",
    "outputId": "98431028-d194-487a-ff17-77932552f0fe"
   },
   "outputs": [
    {
     "data": {
      "image/png": "[encoded data removed]",
      "text/plain": [
       "<Figure size 432x288 with 1 Axes>"
      ]
     },
     "metadata": {
      "needs_background": "light"
     },
     "output_type": "display_data"
    }
   ],
   "source": [
    "import matplotlib.pyplot as plt\n",
    "# Format Strings: fmt = '[marker][line][color]'\n",
    "#  plot([x], y, [fmt], [x2], y2, [fmt2], ..., **kwargs)\n",
    "plt.plot(epochs, Ws, 'r', epochs, bs, 'b')\n",
    "plt.plot([TRUE_W] * len(epochs), '.--r',\n",
    "         [TRUE_b] * len(epochs), 'o--b')\n",
    "plt.legend(['W', 'b', 'True W', 'True b'])\n",
    "plt.show()"
   ]
  },
  {
   "cell_type": "markdown",
   "metadata": {
    "colab_type": "text",
    "id": "vTqZg-6igclA",
    "toc-hr-collapsed": true
   },
   "source": [
    "# Batch Size (Learn)"
   ]
  },
  {
   "cell_type": "markdown",
   "metadata": {
    "colab_type": "text",
    "id": "0nrm-racgclA"
   },
   "source": [
    "## Overview\n",
    "\n",
    "The What - Stochastic Gradient Descent calculates an approximation of the gradient over the entire dataset by reviewing the predictions of a random sample. \n",
    "\n",
    "The Why - *Speed*. Calculating the gradient over the entire dataset is extremely expensive computationally. \n",
    "\n",
    "### Batch Size\n",
    "**Batches are the number of observations our model is shown to make predictions and update the weights. Batches are selected randomly during epoch. All observations are considered when passing thru an epoch at some point.**\n",
    "\n",
    "* Smaller Batch = Slower Run Time (but maybe more accurate results)\n",
    "* Default Batch = Balance between speed and accuracy\n",
    "* Large Batch = Very fast, but not nearly as accurate."
   ]
  },
  {
   "cell_type": "markdown",
   "metadata": {
    "colab_type": "text",
    "id": "oNQ2ZCi7I4i6"
   },
   "source": [
    "### Baseline Model"
   ]
  },
  {
   "cell_type": "code",
   "execution_count": 197,
   "metadata": {},
   "outputs": [
    {
     "data": {
      "text/plain": [
       "(60000, 28, 28)"
      ]
     },
     "execution_count": 197,
     "metadata": {},
     "output_type": "execute_result"
    }
   ],
   "source": [
    "from tensorflow.keras.datasets import mnist\n",
    "\n",
    "(X_train, y_train), (X_test, y_test) = mnist.load_data()\n",
    "X_train.shape"
   ]
  },
  {
   "cell_type": "code",
   "execution_count": 195,
   "metadata": {},
   "outputs": [
    {
     "name": "stdout",
     "output_type": "stream",
     "text": [
      "Accent\n"
     ]
    },
    {
     "data": {
      "image/png": "[encoded data removed]",
      "text/plain": [
       "<Figure size 720x1440 with 3 Axes>"
      ]
     },
     "metadata": {
      "needs_background": "light"
     },
     "output_type": "display_data"
    },
    {
     "name": "stdout",
     "output_type": "stream",
     "text": [
      "binary\n"
     ]
    },
    {
     "data": {
      "image/png": "[encoded data removed]",
      "text/plain": [
       "<Figure size 720x1440 with 3 Axes>"
      ]
     },
     "metadata": {
      "needs_background": "light"
     },
     "output_type": "display_data"
    }
   ],
   "source": [
    "import matplotlib.pyplot as plt\n",
    "cmaps = ['Accent', 'binary']\n",
    "for i, cmap in enumerate(cmaps):\n",
    "    fig= plt.figure(figsize=(10,20))\n",
    "    print(cmap)\n",
    "    plt.subplot(2,3,1+i*3)\n",
    "    plt.imshow(X_train[110], cmap)\n",
    "    ax2 = plt.subplot(2,3,2+i*3)\n",
    "    plt.imshow(X_train[110]/800, cmap)\n",
    "    plt.subplot(2,3,3+3*i).imshow(X_train[110]*800, cmap)\n",
    "    plt.show()"
   ]
  },
  {
   "cell_type": "markdown",
   "metadata": {},
   "source": [
    "> Seems like scaling down the number in the array does not change the color mapping. However, scaling up changes the color assignment."
   ]
  },
  {
   "cell_type": "code",
   "execution_count": 198,
   "metadata": {
    "colab": {
     "base_uri": "https://localhost:8080/",
     "height": 51
    },
    "colab_type": "code",
    "id": "mZjW2lYVI9Q2",
    "outputId": "69f2b412-26f1-4ec7-cfb5-a543c8d44616"
   },
   "outputs": [],
   "source": [
    "# Normalize the colors between 0 and 1, colors won't change\n",
    "X_train = X_train / 255.\n",
    "X_test = X_test / 255.\n",
    "\n",
    "# it's 28pixels * 28 pixels\n",
    "X_train = X_train.reshape((60000, 784))\n",
    "X_test = X_test.reshape((10000, 784))"
   ]
  },
  {
   "cell_type": "code",
   "execution_count": 300,
   "metadata": {
    "colab": {},
    "colab_type": "code",
    "id": "o7x17kDKJSy5"
   },
   "outputs": [],
   "source": [
    "# Our Model\n",
    "from tensorflow.keras import Sequential\n",
    "from tensorflow.keras.layers import Dense\n",
    "from tensorflow.keras.optimizers import SGD\n",
    "from tensorflow.keras import initializers\n",
    "\n",
    "def create_model(lr=.01):\n",
    "    \"\"\"\n",
    "    Stochastic Gradient Descent SGD optimizer\n",
    "    784+1 * 32+1 * 32+1 * 10\n",
    "    \"\"\"\n",
    "    opt = SGD(learning_rate=lr)\n",
    "\n",
    "    model = Sequential(\n",
    "        [\n",
    "        # 784 inputs + 1 bias connect to 32 1st layer Hiddent neurons\n",
    "        Dense(32, activation='relu', input_dim=784, \n",
    "            kernel_initializer=initializers.RandomNormal(mean=0.0, stddev=0.05, seed=42),\n",
    "            bias_initializer=initializers.Ones()\n",
    "             ),\n",
    "        # 32 1st-H-Neurons + 1 bias connected to 32 2'nd layer H-Neurons\n",
    "        Dense(32, activation='relu', \n",
    "            kernel_initializer=initializers.RandomUniform(minval=-0.05, maxval=0.05, seed=42), \n",
    "            bias_initializer=initializers.Zeros()\n",
    "             ),\n",
    "        # 32 2nd-H-neurons connect to 10 Output neurons\n",
    "        Dense(10, activation='softmax', \n",
    "            kernel_initializer=initializers.Ones(), \n",
    "            bias_initializer=initializers.Zeros()\n",
    "             )       \n",
    "        ]\n",
    "    )\n",
    "    # sparse_categorical_crossentropy is good for multilable classification, when target labels are integer\n",
    "    model.compile(optimizer=opt, loss='sparse_categorical_crossentropy', metrics=['accuracy'])\n",
    "    return model"
   ]
  },
  {
   "cell_type": "code",
   "execution_count": 253,
   "metadata": {
    "colab": {
     "base_uri": "https://localhost:8080/",
     "height": 1000
    },
    "colab_type": "code",
    "id": "JcypSML8xSNh",
    "outputId": "69545d40-87d7-4fa0-c0aa-be50cedb7ca7"
   },
   "outputs": [
    {
     "data": {
      "text/plain": [
       "['activity_regularizer',\n",
       " 'add',\n",
       " 'add_loss',\n",
       " 'add_metric',\n",
       " 'add_update',\n",
       " 'add_variable',\n",
       " 'add_weight',\n",
       " 'apply',\n",
       " 'build',\n",
       " 'built',\n",
       " 'call',\n",
       " 'compile',\n",
       " 'compiled_loss',\n",
       " 'compiled_metrics',\n",
       " 'compute_dtype',\n",
       " 'compute_mask',\n",
       " 'compute_output_shape',\n",
       " 'compute_output_signature',\n",
       " 'count_params',\n",
       " 'distribute_strategy',\n",
       " 'dtype',\n",
       " 'dtype_policy',\n",
       " 'dynamic',\n",
       " 'evaluate',\n",
       " 'evaluate_generator',\n",
       " 'fit',\n",
       " 'fit_generator',\n",
       " 'from_config',\n",
       " 'get_config',\n",
       " 'get_input_at',\n",
       " 'get_input_mask_at',\n",
       " 'get_input_shape_at',\n",
       " 'get_layer',\n",
       " 'get_losses_for',\n",
       " 'get_output_at',\n",
       " 'get_output_mask_at',\n",
       " 'get_output_shape_at',\n",
       " 'get_updates_for',\n",
       " 'get_weights',\n",
       " 'history',\n",
       " 'inbound_nodes',\n",
       " 'input',\n",
       " 'input_mask',\n",
       " 'input_names',\n",
       " 'input_shape',\n",
       " 'input_spec',\n",
       " 'inputs',\n",
       " 'layers',\n",
       " 'load_weights',\n",
       " 'loss',\n",
       " 'losses',\n",
       " 'make_predict_function',\n",
       " 'make_test_function',\n",
       " 'make_train_function',\n",
       " 'metrics',\n",
       " 'metrics_names',\n",
       " 'name',\n",
       " 'name_scope',\n",
       " 'non_trainable_variables',\n",
       " 'non_trainable_weights',\n",
       " 'optimizer',\n",
       " 'outbound_nodes',\n",
       " 'output',\n",
       " 'output_mask',\n",
       " 'output_names',\n",
       " 'output_shape',\n",
       " 'outputs',\n",
       " 'pop',\n",
       " 'predict',\n",
       " 'predict_classes',\n",
       " 'predict_function',\n",
       " 'predict_generator',\n",
       " 'predict_on_batch',\n",
       " 'predict_proba',\n",
       " 'predict_step',\n",
       " 'reset_metrics',\n",
       " 'reset_states',\n",
       " 'run_eagerly',\n",
       " 'save',\n",
       " 'save_weights',\n",
       " 'set_weights',\n",
       " 'state_updates',\n",
       " 'stateful',\n",
       " 'stop_training',\n",
       " 'submodules',\n",
       " 'summary',\n",
       " 'supports_masking',\n",
       " 'test_function',\n",
       " 'test_on_batch',\n",
       " 'test_step',\n",
       " 'to_json',\n",
       " 'to_yaml',\n",
       " 'train_function',\n",
       " 'train_on_batch',\n",
       " 'train_step',\n",
       " 'trainable',\n",
       " 'trainable_variables',\n",
       " 'trainable_weights',\n",
       " 'updates',\n",
       " 'variable_dtype',\n",
       " 'variables',\n",
       " 'weights',\n",
       " 'with_name_scope']"
      ]
     },
     "execution_count": 253,
     "metadata": {},
     "output_type": "execute_result"
    }
   ],
   "source": [
    "mnist_model = create_model()\n",
    "[m for m in dir(mnist_model) if not m.startswith(\"_\")]"
   ]
  },
  {
   "cell_type": "code",
   "execution_count": 254,
   "metadata": {
    "colab": {
     "base_uri": "https://localhost:8080/",
     "height": 255
    },
    "colab_type": "code",
    "id": "x1pNXBVPxfZU",
    "outputId": "6e72db22-e9e8-49e8-ebe6-fc196a7869b0"
   },
   "outputs": [
    {
     "name": "stdout",
     "output_type": "stream",
     "text": [
      "Model: \"sequential_9\"\n",
      "_________________________________________________________________\n",
      "Layer (type)                 Output Shape              Param #   \n",
      "=================================================================\n",
      "dense_27 (Dense)             (None, 32)                25120     \n",
      "_________________________________________________________________\n",
      "dense_28 (Dense)             (None, 32)                1056      \n",
      "_________________________________________________________________\n",
      "dense_29 (Dense)             (None, 10)                330       \n",
      "=================================================================\n",
      "Total params: 26,506\n",
      "Trainable params: 26,506\n",
      "Non-trainable params: 0\n",
      "_________________________________________________________________\n"
     ]
    }
   ],
   "source": [
    "mnist_model.summary()"
   ]
  },
  {
   "cell_type": "code",
   "execution_count": 255,
   "metadata": {},
   "outputs": [
    {
     "data": {
      "text/plain": [
       "((25120, 1056, 330), 26506)"
      ]
     },
     "execution_count": 255,
     "metadata": {},
     "output_type": "execute_result"
    }
   ],
   "source": [
    "a = (785*32, 33*32, 33*10)\n",
    "a, sum(list(a))"
   ]
  },
  {
   "cell_type": "markdown",
   "metadata": {},
   "source": [
    "### Fit the model for a parameter\n",
    "This is a function to fit the model for a parameter with a list of values"
   ]
  },
  {
   "cell_type": "code",
   "execution_count": 387,
   "metadata": {},
   "outputs": [],
   "source": [
    "def fit_param(param_lst, key):\n",
    "    \"\"\"\n",
    "    This function fits a ANN created by create_model() while sweeping a parameter\n",
    "    param_list: list of values for the parameter\n",
    "    key: a string representing the parameter. Choices are \"lr\", \"batch_size\", \"epochs\"\n",
    "    return: a dictionary with \n",
    "    {f\"{par}_\": [fitted model, fitted result],\n",
    "    \"key\": key, \"param_lst\": param_lst}\n",
    "    \"\"\"\n",
    "    lr_par = 0.01 \n",
    "    batch_par = 32\n",
    "    epoch_par = 25\n",
    "    param_dict = {\"lr\": lr_par, \"batch_size\": batch_par, \"epochs\": epoch_par}\n",
    "    model_dict={}\n",
    "    model_dict[\"key\"] = key\n",
    "    model_dict[\"param_lst\"] = param_lst\n",
    "    for par in param_lst:\n",
    "        param_dict[key] = par\n",
    "        print(f\"********* Fitting for {key}={param_dict[key]} *********\")\n",
    "        model_dict.setdefault(f\"{par}_\", [None, None])\n",
    "        model_dict[f\"{par}_\"][0] = create_model(param_dict[\"lr\"])\n",
    "        model_dict[f\"{par}_\"][1] = model_dict[f\"{par}_\"][0].fit(X_train, y_train,\n",
    "                                                                             # Hyperparameters!\n",
    "                                                                             epochs=param_dict[\"epochs\"],\n",
    "                                                                             batch_size=param_dict[\"batch_size\"],\n",
    "                                                                             validation_data=(X_test, y_test))\n",
    "    return model_dict"
   ]
  },
  {
   "cell_type": "markdown",
   "metadata": {},
   "source": [
    "### Visualize the metrics\n",
    "This is a function to plot the metrics for different values of a paramter"
   ]
  },
  {
   "cell_type": "code",
   "execution_count": 388,
   "metadata": {},
   "outputs": [],
   "source": [
    "import seaborn as sns\n",
    "import pandas as pd\n",
    "\n",
    "def viz_param(model_dict):\n",
    "    \"\"\"\n",
    "    Returns a concatinated dataframe of the fitted results and \n",
    "    plots the validation accuracy and loss for different values of the parameter\n",
    "    \"\"\"\n",
    "    results = []\n",
    "    for par in model_dict[\"param_lst\"]:\n",
    "        results.append(model_dict[f\"{par}_\"][1])\n",
    "\n",
    "    df_lst = []\n",
    "    param_name = f\"{model_dict['key']}_\"\n",
    "    \n",
    "    for res, par in zip(results, model_dict[\"param_lst\"]):\n",
    "        df = pd.DataFrame.from_dict(res.history)\n",
    "        df['epoch'] = df.index.values\n",
    "        df[param_name] = f\"{par}_\"\n",
    "        df_lst.append(df)\n",
    "\n",
    "    df = pd.concat(df_lst, axis=0)\n",
    "    df[param_name] = df[param_name].astype('str')\n",
    "    \n",
    "    plt.figure(figsize=(15,5))\n",
    "    ax1 = plt.subplot(1,2,1)\n",
    "    sns.lineplot(x='epoch', y='val_accuracy', hue=param_name, data=df, ax=ax1)\n",
    "    ax2 = plt.subplot(1,2,2)\n",
    "    sns.lineplot(x='epoch', y='val_loss', hue=param_name, data=df, ax=ax2);\n",
    "    return df"
   ]
  },
  {
   "cell_type": "markdown",
   "metadata": {
    "colab_type": "text",
    "id": "ZF7UE-KluPsX"
   },
   "source": [
    "### Batch Size\n",
    "Let's run a series of experiments for a default, small, and large batch size."
   ]
  },
  {
   "cell_type": "markdown",
   "metadata": {
    "colab_type": "text",
    "id": "VhpDaVFRJl3U"
   },
   "source": [
    "Default batch size is 32."
   ]
  },
  {
   "cell_type": "markdown",
   "metadata": {
    "colab_type": "text",
    "id": "lEKMmTNSICkb"
   },
   "source": [
    "> *Seems like the entire X is divided into batches of size n and the NN is trained on each batch of n samples and W, b get's updated at the end of each batch of n. Once all batches in a training dataset are trained the epoch counter goes up and we create another set of batches randomly and exclusively (like Kfold) and retrain based on each of the new batches again. For **stochastic GD, batch size is 1** and the accuracy of each update is low but number of updates are maximum, as the # of back propagation is maximum = \"one back-propagation for each batch of each epoch.\". That resuls in long computing time for each epoch. The training trend is very noisy since the updates are done based on individual samples. However in each epoch we get more correction and accuracy improves more.\n",
    "In **batch size GD, the batch size is equal to training set**. Hence the epoch looks at the same entire training dataset repeatedly and make an update on every epoch run. Less noisy and minimum number of back propagation = one back-propagation per epoch. Hence runtime is faster per epoch. However need a large memory to process the entire dataset in one shot.*"
   ]
  },
  {
   "cell_type": "code",
   "execution_count": 389,
   "metadata": {},
   "outputs": [
    {
     "name": "stdout",
     "output_type": "stream",
     "text": [
      "********* Fitting for batch_size=8 *********\n",
      "Epoch 1/25\n",
      "7500/7500 [==============================] - 5s 653us/step - loss: 1.5308 - accuracy: 0.4774 - val_loss: 0.3601 - val_accuracy: 0.8937\n",
      "Epoch 2/25\n",
      "7500/7500 [==============================] - 4s 587us/step - loss: 0.3344 - accuracy: 0.9012 - val_loss: 0.2704 - val_accuracy: 0.9198\n",
      "Epoch 3/25\n",
      "7500/7500 [==============================] - 4s 599us/step - loss: 0.2464 - accuracy: 0.9278 - val_loss: 0.2046 - val_accuracy: 0.9389\n",
      "Epoch 4/25\n",
      "7500/7500 [==============================] - 5s 606us/step - loss: 0.1922 - accuracy: 0.9438 - val_loss: 0.1852 - val_accuracy: 0.9427\n",
      "Epoch 5/25\n",
      "7500/7500 [==============================] - 5s 633us/step - loss: 0.1604 - accuracy: 0.9518 - val_loss: 0.1668 - val_accuracy: 0.9471\n",
      "Epoch 6/25\n",
      "7500/7500 [==============================] - 5s 640us/step - loss: 0.1407 - accuracy: 0.9572 - val_loss: 0.1440 - val_accuracy: 0.9573\n",
      "Epoch 7/25\n",
      "7500/7500 [==============================] - 5s 675us/step - loss: 0.1229 - accuracy: 0.9628 - val_loss: 0.1387 - val_accuracy: 0.9584\n",
      "Epoch 8/25\n",
      "7500/7500 [==============================] - 15s 2ms/step - loss: 0.1128 - accuracy: 0.9657 - val_loss: 0.1274 - val_accuracy: 0.9609\n",
      "Epoch 9/25\n",
      "7500/7500 [==============================] - 5s 701us/step - loss: 0.1024 - accuracy: 0.9689 - val_loss: 0.1280 - val_accuracy: 0.9622\n",
      "Epoch 10/25\n",
      "7500/7500 [==============================] - 5s 624us/step - loss: 0.0968 - accuracy: 0.9705 - val_loss: 0.1157 - val_accuracy: 0.9639\n",
      "Epoch 11/25\n",
      "7500/7500 [==============================] - 5s 647us/step - loss: 0.0884 - accuracy: 0.9738 - val_loss: 0.1293 - val_accuracy: 0.9588\n",
      "Epoch 12/25\n",
      "7500/7500 [==============================] - 5s 612us/step - loss: 0.0867 - accuracy: 0.9743 - val_loss: 0.1115 - val_accuracy: 0.9665\n",
      "Epoch 13/25\n",
      "7500/7500 [==============================] - 4s 592us/step - loss: 0.0779 - accuracy: 0.9758 - val_loss: 0.1187 - val_accuracy: 0.9627\n",
      "Epoch 14/25\n",
      "7500/7500 [==============================] - 4s 584us/step - loss: 0.0743 - accuracy: 0.9773 - val_loss: 0.1213 - val_accuracy: 0.9644\n",
      "Epoch 15/25\n",
      "7500/7500 [==============================] - 5s 609us/step - loss: 0.0710 - accuracy: 0.9782 - val_loss: 0.1128 - val_accuracy: 0.9659\n",
      "Epoch 16/25\n",
      "7500/7500 [==============================] - 5s 602us/step - loss: 0.0643 - accuracy: 0.9805 - val_loss: 0.1187 - val_accuracy: 0.9629\n",
      "Epoch 17/25\n",
      "7500/7500 [==============================] - 5s 620us/step - loss: 0.0615 - accuracy: 0.9809 - val_loss: 0.1132 - val_accuracy: 0.9674\n",
      "Epoch 18/25\n",
      "7500/7500 [==============================] - 5s 608us/step - loss: 0.0615 - accuracy: 0.9817 - val_loss: 0.1061 - val_accuracy: 0.9692\n",
      "Epoch 19/25\n",
      "7500/7500 [==============================] - 4s 591us/step - loss: 0.0572 - accuracy: 0.9818 - val_loss: 0.1169 - val_accuracy: 0.9661\n",
      "Epoch 20/25\n",
      "7500/7500 [==============================] - 4s 579us/step - loss: 0.0515 - accuracy: 0.9842 - val_loss: 0.1178 - val_accuracy: 0.9675\n",
      "Epoch 21/25\n",
      "7500/7500 [==============================] - 4s 586us/step - loss: 0.0512 - accuracy: 0.9842 - val_loss: 0.1128 - val_accuracy: 0.9680\n",
      "Epoch 22/25\n",
      "7500/7500 [==============================] - 4s 578us/step - loss: 0.0487 - accuracy: 0.9845 - val_loss: 0.1166 - val_accuracy: 0.9686\n",
      "Epoch 23/25\n",
      "7500/7500 [==============================] - 4s 575us/step - loss: 0.0455 - accuracy: 0.9854 - val_loss: 0.1143 - val_accuracy: 0.9671\n",
      "Epoch 24/25\n",
      "7500/7500 [==============================] - 5s 612us/step - loss: 0.0447 - accuracy: 0.9857 - val_loss: 0.1099 - val_accuracy: 0.9688\n",
      "Epoch 25/25\n",
      "7500/7500 [==============================] - 5s 605us/step - loss: 0.0394 - accuracy: 0.9878 - val_loss: 0.1145 - val_accuracy: 0.9706\n",
      "********* Fitting for batch_size=32 *********\n",
      "Epoch 1/25\n",
      "1875/1875 [==============================] - 2s 768us/step - loss: 2.2567 - accuracy: 0.2068 - val_loss: 1.1176 - val_accuracy: 0.6392\n",
      "Epoch 2/25\n",
      "1875/1875 [==============================] - 1s 693us/step - loss: 0.8302 - accuracy: 0.7399 - val_loss: 0.4947 - val_accuracy: 0.8480\n",
      "Epoch 3/25\n",
      "1875/1875 [==============================] - 1s 673us/step - loss: 0.4691 - accuracy: 0.8628 - val_loss: 0.4086 - val_accuracy: 0.8782\n",
      "Epoch 4/25\n",
      "1875/1875 [==============================] - 1s 646us/step - loss: 0.3939 - accuracy: 0.8877 - val_loss: 0.3458 - val_accuracy: 0.9008\n",
      "Epoch 5/25\n",
      "1875/1875 [==============================] - 3s 2ms/step - loss: 0.3520 - accuracy: 0.8967 - val_loss: 0.3195 - val_accuracy: 0.9074\n",
      "Epoch 6/25\n",
      "1875/1875 [==============================] - 1s 655us/step - loss: 0.3222 - accuracy: 0.9081 - val_loss: 0.2993 - val_accuracy: 0.9141\n",
      "Epoch 7/25\n",
      "1875/1875 [==============================] - 1s 655us/step - loss: 0.2926 - accuracy: 0.9147 - val_loss: 0.2751 - val_accuracy: 0.9217\n",
      "Epoch 8/25\n",
      "1875/1875 [==============================] - 1s 674us/step - loss: 0.2705 - accuracy: 0.9220 - val_loss: 0.2574 - val_accuracy: 0.9233\n",
      "Epoch 9/25\n",
      "1875/1875 [==============================] - 1s 661us/step - loss: 0.2479 - accuracy: 0.9288 - val_loss: 0.2370 - val_accuracy: 0.9315\n",
      "Epoch 10/25\n",
      "1875/1875 [==============================] - 1s 660us/step - loss: 0.2380 - accuracy: 0.9314 - val_loss: 0.2222 - val_accuracy: 0.9354\n",
      "Epoch 11/25\n",
      "1875/1875 [==============================] - 1s 664us/step - loss: 0.2149 - accuracy: 0.9374 - val_loss: 0.2152 - val_accuracy: 0.9377\n",
      "Epoch 12/25\n",
      "1875/1875 [==============================] - 1s 669us/step - loss: 0.2084 - accuracy: 0.9408 - val_loss: 0.2031 - val_accuracy: 0.9399\n",
      "Epoch 13/25\n",
      "1875/1875 [==============================] - 1s 733us/step - loss: 0.1986 - accuracy: 0.9415 - val_loss: 0.1918 - val_accuracy: 0.9439\n",
      "Epoch 14/25\n",
      "1875/1875 [==============================] - 1s 754us/step - loss: 0.1832 - accuracy: 0.9478 - val_loss: 0.1859 - val_accuracy: 0.9438\n",
      "Epoch 15/25\n",
      "1875/1875 [==============================] - 2s 828us/step - loss: 0.1778 - accuracy: 0.9501 - val_loss: 0.1799 - val_accuracy: 0.9443\n",
      "Epoch 16/25\n",
      "1875/1875 [==============================] - 1s 720us/step - loss: 0.1729 - accuracy: 0.9506 - val_loss: 0.1721 - val_accuracy: 0.9474\n",
      "Epoch 17/25\n",
      "1875/1875 [==============================] - 1s 780us/step - loss: 0.1620 - accuracy: 0.9534 - val_loss: 0.1724 - val_accuracy: 0.9489\n",
      "Epoch 18/25\n",
      "1875/1875 [==============================] - 1s 704us/step - loss: 0.1548 - accuracy: 0.9551 - val_loss: 0.1640 - val_accuracy: 0.9506\n",
      "Epoch 19/25\n",
      "1875/1875 [==============================] - 1s 776us/step - loss: 0.1514 - accuracy: 0.9563 - val_loss: 0.1603 - val_accuracy: 0.9529\n",
      "Epoch 20/25\n",
      "1875/1875 [==============================] - 1s 711us/step - loss: 0.1438 - accuracy: 0.9584 - val_loss: 0.1600 - val_accuracy: 0.9515\n",
      "Epoch 21/25\n",
      "1875/1875 [==============================] - 1s 758us/step - loss: 0.1435 - accuracy: 0.9591 - val_loss: 0.1534 - val_accuracy: 0.9542\n",
      "Epoch 22/25\n",
      "1875/1875 [==============================] - 1s 787us/step - loss: 0.1416 - accuracy: 0.9595 - val_loss: 0.1505 - val_accuracy: 0.9563\n",
      "Epoch 23/25\n",
      "1875/1875 [==============================] - 1s 700us/step - loss: 0.1326 - accuracy: 0.9625 - val_loss: 0.1500 - val_accuracy: 0.9550\n",
      "Epoch 24/25\n",
      "1875/1875 [==============================] - 1s 706us/step - loss: 0.1254 - accuracy: 0.9635 - val_loss: 0.1431 - val_accuracy: 0.9585\n",
      "Epoch 25/25\n",
      "1875/1875 [==============================] - 1s 722us/step - loss: 0.1289 - accuracy: 0.9638 - val_loss: 0.1425 - val_accuracy: 0.9575\n",
      "********* Fitting for batch_size=512 *********\n",
      "Epoch 1/25\n",
      "118/118 [==============================] - 1s 4ms/step - loss: 2.3022 - accuracy: 0.1337 - val_loss: 2.3010 - val_accuracy: 0.1136\n",
      "Epoch 2/25\n",
      "118/118 [==============================] - 0s 2ms/step - loss: 2.3005 - accuracy: 0.1134 - val_loss: 2.2992 - val_accuracy: 0.1144\n",
      "Epoch 3/25\n",
      "118/118 [==============================] - 0s 2ms/step - loss: 2.2986 - accuracy: 0.1164 - val_loss: 2.2970 - val_accuracy: 0.1272\n",
      "Epoch 4/25\n",
      "118/118 [==============================] - 0s 2ms/step - loss: 2.2966 - accuracy: 0.1291 - val_loss: 2.2941 - val_accuracy: 0.1581\n",
      "Epoch 5/25\n",
      "118/118 [==============================] - 0s 2ms/step - loss: 2.2933 - accuracy: 0.1661 - val_loss: 2.2900 - val_accuracy: 0.2072\n",
      "Epoch 6/25\n",
      "118/118 [==============================] - 0s 2ms/step - loss: 2.2891 - accuracy: 0.2133 - val_loss: 2.2841 - val_accuracy: 0.2486\n",
      "Epoch 7/25\n",
      "118/118 [==============================] - 0s 2ms/step - loss: 2.2822 - accuracy: 0.2534 - val_loss: 2.2745 - val_accuracy: 0.2882\n",
      "Epoch 8/25\n",
      "118/118 [==============================] - 0s 2ms/step - loss: 2.2715 - accuracy: 0.2913 - val_loss: 2.2581 - val_accuracy: 0.3138\n",
      "Epoch 9/25\n",
      "118/118 [==============================] - 0s 2ms/step - loss: 2.2525 - accuracy: 0.3204 - val_loss: 2.2275 - val_accuracy: 0.3254\n",
      "Epoch 10/25\n",
      "118/118 [==============================] - 0s 2ms/step - loss: 2.2163 - accuracy: 0.3301 - val_loss: 2.1671 - val_accuracy: 0.3278\n",
      "Epoch 11/25\n",
      "118/118 [==============================] - 0s 2ms/step - loss: 2.1435 - accuracy: 0.3320 - val_loss: 2.0513 - val_accuracy: 0.3344\n",
      "Epoch 12/25\n",
      "118/118 [==============================] - 0s 2ms/step - loss: 2.0158 - accuracy: 0.3415 - val_loss: 1.8698 - val_accuracy: 0.3751\n",
      "Epoch 13/25\n",
      "118/118 [==============================] - 0s 2ms/step - loss: 1.8207 - accuracy: 0.3932 - val_loss: 1.6452 - val_accuracy: 0.4439\n",
      "Epoch 14/25\n",
      "118/118 [==============================] - 0s 2ms/step - loss: 1.5963 - accuracy: 0.4667 - val_loss: 1.4198 - val_accuracy: 0.5294\n",
      "Epoch 15/25\n",
      "118/118 [==============================] - 0s 2ms/step - loss: 1.3788 - accuracy: 0.5505 - val_loss: 1.2377 - val_accuracy: 0.6110\n",
      "Epoch 16/25\n",
      "118/118 [==============================] - 0s 2ms/step - loss: 1.2088 - accuracy: 0.6189 - val_loss: 1.0915 - val_accuracy: 0.6638\n",
      "Epoch 17/25\n",
      "118/118 [==============================] - 0s 2ms/step - loss: 1.0664 - accuracy: 0.6712 - val_loss: 0.9682 - val_accuracy: 0.7020\n",
      "Epoch 18/25\n",
      "118/118 [==============================] - 0s 2ms/step - loss: 0.9484 - accuracy: 0.7105 - val_loss: 0.8680 - val_accuracy: 0.7338\n",
      "Epoch 19/25\n",
      "118/118 [==============================] - 0s 2ms/step - loss: 0.8521 - accuracy: 0.7417 - val_loss: 0.7941 - val_accuracy: 0.7578\n",
      "Epoch 20/25\n",
      "118/118 [==============================] - 0s 2ms/step - loss: 0.7855 - accuracy: 0.7615 - val_loss: 0.7332 - val_accuracy: 0.7759\n",
      "Epoch 21/25\n",
      "118/118 [==============================] - 0s 2ms/step - loss: 0.7304 - accuracy: 0.7785 - val_loss: 0.6861 - val_accuracy: 0.7920\n",
      "Epoch 22/25\n",
      "118/118 [==============================] - 0s 2ms/step - loss: 0.6849 - accuracy: 0.7941 - val_loss: 0.6490 - val_accuracy: 0.8038\n",
      "Epoch 23/25\n",
      "118/118 [==============================] - 0s 2ms/step - loss: 0.6496 - accuracy: 0.8038 - val_loss: 0.6183 - val_accuracy: 0.8129\n",
      "Epoch 24/25\n",
      "118/118 [==============================] - 0s 2ms/step - loss: 0.6273 - accuracy: 0.8113 - val_loss: 0.5932 - val_accuracy: 0.8208\n",
      "Epoch 25/25\n",
      "118/118 [==============================] - 0s 2ms/step - loss: 0.5902 - accuracy: 0.8249 - val_loss: 0.5714 - val_accuracy: 0.8277\n"
     ]
    }
   ],
   "source": [
    "batch_lst = [8, 32, 512]\n",
    "model_batch = fit_param(batch_lst, \"batch_size\")"
   ]
  },
  {
   "cell_type": "markdown",
   "metadata": {
    "colab_type": "text",
    "id": "B0ujUz6BKUGz"
   },
   "source": [
    "### Visualization of Results"
   ]
  },
  {
   "cell_type": "code",
   "execution_count": 390,
   "metadata": {
    "colab": {
     "base_uri": "https://localhost:8080/",
     "height": 1000
    },
    "colab_type": "code",
    "id": "rTix7aVRmzYU",
    "outputId": "4a63440a-9090-4cb6-b3ca-43f9c0f100e9"
   },
   "outputs": [
    {
     "data": {
      "text/plain": [
       "{'loss': [2.301809310913086,\n",
       "  2.3001580238342285,\n",
       "  2.2981884479522705,\n",
       "  2.2956862449645996,\n",
       "  2.2923336029052734,\n",
       "  2.287515640258789,\n",
       "  2.2800958156585693,\n",
       "  2.2677462100982666,\n",
       "  2.2455739974975586,\n",
       "  2.20272159576416,\n",
       "  2.118558168411255,\n",
       "  1.9713282585144043,\n",
       "  1.7688437700271606,\n",
       "  1.5399081707000732,\n",
       "  1.334890365600586,\n",
       "  1.1719529628753662,\n",
       "  1.0369874238967896,\n",
       "  0.9250653386116028,\n",
       "  0.836886465549469,\n",
       "  0.7694619297981262,\n",
       "  0.7168025970458984,\n",
       "  0.6748578548431396,\n",
       "  0.6411204934120178,\n",
       "  0.6134116649627686,\n",
       "  0.5903438329696655],\n",
       " 'accuracy': [0.12219999730587006,\n",
       "  0.11248333007097244,\n",
       "  0.11486666649580002,\n",
       "  0.13920000195503235,\n",
       "  0.17563332617282867,\n",
       "  0.2255166620016098,\n",
       "  0.26159998774528503,\n",
       "  0.2984499931335449,\n",
       "  0.3239666521549225,\n",
       "  0.32998332381248474,\n",
       "  0.3268333375453949,\n",
       "  0.35214999318122864,\n",
       "  0.4106333255767822,\n",
       "  0.4874666631221771,\n",
       "  0.5687166452407837,\n",
       "  0.6340333223342896,\n",
       "  0.680983304977417,\n",
       "  0.7171666622161865,\n",
       "  0.7448166608810425,\n",
       "  0.7660166621208191,\n",
       "  0.7828166484832764,\n",
       "  0.7954999804496765,\n",
       "  0.8065333366394043,\n",
       "  0.816349983215332,\n",
       "  0.8242499828338623],\n",
       " 'val_loss': [2.3009748458862305,\n",
       "  2.299175262451172,\n",
       "  2.2969508171081543,\n",
       "  2.2940516471862793,\n",
       "  2.290043354034424,\n",
       "  2.2840707302093506,\n",
       "  2.2745237350463867,\n",
       "  2.258103132247925,\n",
       "  2.2275125980377197,\n",
       "  2.167145252227783,\n",
       "  2.051337480545044,\n",
       "  1.869815468788147,\n",
       "  1.645246148109436,\n",
       "  1.4198169708251953,\n",
       "  1.2377177476882935,\n",
       "  1.0915217399597168,\n",
       "  0.9682402610778809,\n",
       "  0.8680224418640137,\n",
       "  0.7941206097602844,\n",
       "  0.7332442402839661,\n",
       "  0.6860796809196472,\n",
       "  0.6489524245262146,\n",
       "  0.6182643175125122,\n",
       "  0.5932353138923645,\n",
       "  0.5713788270950317],\n",
       " 'val_accuracy': [0.1136000007390976,\n",
       "  0.1143999993801117,\n",
       "  0.12720000743865967,\n",
       "  0.15809999406337738,\n",
       "  0.20720000565052032,\n",
       "  0.24860000610351562,\n",
       "  0.2881999909877777,\n",
       "  0.31380000710487366,\n",
       "  0.3253999948501587,\n",
       "  0.3278000056743622,\n",
       "  0.3343999981880188,\n",
       "  0.3750999867916107,\n",
       "  0.4438999891281128,\n",
       "  0.5293999910354614,\n",
       "  0.6110000014305115,\n",
       "  0.6638000011444092,\n",
       "  0.7020000219345093,\n",
       "  0.7337999939918518,\n",
       "  0.7577999830245972,\n",
       "  0.7759000062942505,\n",
       "  0.7919999957084656,\n",
       "  0.8037999868392944,\n",
       "  0.8129000067710876,\n",
       "  0.8208000063896179,\n",
       "  0.8277000188827515]}"
      ]
     },
     "execution_count": 390,
     "metadata": {},
     "output_type": "execute_result"
    }
   ],
   "source": [
    "model_batch[\"512_\"][1].history"
   ]
  },
  {
   "cell_type": "code",
   "execution_count": 391,
   "metadata": {},
   "outputs": [
    {
     "data": {
      "text/html": [
       "<div>\n",
       "<style scoped>\n",
       "    .dataframe tbody tr th:only-of-type {\n",
       "        vertical-align: middle;\n",
       "    }\n",
       "\n",
       "    .dataframe tbody tr th {\n",
       "        vertical-align: top;\n",
       "    }\n",
       "\n",
       "    .dataframe thead th {\n",
       "        text-align: right;\n",
       "    }\n",
       "</style>\n",
       "<table border=\"1\" class=\"dataframe\">\n",
       "  <thead>\n",
       "    <tr style=\"text-align: right;\">\n",
       "      <th></th>\n",
       "      <th>loss</th>\n",
       "      <th>accuracy</th>\n",
       "      <th>val_loss</th>\n",
       "      <th>val_accuracy</th>\n",
       "      <th>epoch</th>\n",
       "      <th>batch_size_</th>\n",
       "    </tr>\n",
       "  </thead>\n",
       "  <tbody>\n",
       "    <tr>\n",
       "      <th>0</th>\n",
       "      <td>0.904966</td>\n",
       "      <td>0.705683</td>\n",
       "      <td>0.360123</td>\n",
       "      <td>0.8937</td>\n",
       "      <td>0</td>\n",
       "      <td>8_</td>\n",
       "    </tr>\n",
       "    <tr>\n",
       "      <th>1</th>\n",
       "      <td>0.312134</td>\n",
       "      <td>0.907650</td>\n",
       "      <td>0.270353</td>\n",
       "      <td>0.9198</td>\n",
       "      <td>1</td>\n",
       "      <td>8_</td>\n",
       "    </tr>\n",
       "    <tr>\n",
       "      <th>2</th>\n",
       "      <td>0.233015</td>\n",
       "      <td>0.931550</td>\n",
       "      <td>0.204598</td>\n",
       "      <td>0.9389</td>\n",
       "      <td>2</td>\n",
       "      <td>8_</td>\n",
       "    </tr>\n",
       "    <tr>\n",
       "      <th>3</th>\n",
       "      <td>0.187764</td>\n",
       "      <td>0.944467</td>\n",
       "      <td>0.185239</td>\n",
       "      <td>0.9427</td>\n",
       "      <td>3</td>\n",
       "      <td>8_</td>\n",
       "    </tr>\n",
       "    <tr>\n",
       "      <th>4</th>\n",
       "      <td>0.160360</td>\n",
       "      <td>0.952217</td>\n",
       "      <td>0.166757</td>\n",
       "      <td>0.9471</td>\n",
       "      <td>4</td>\n",
       "      <td>8_</td>\n",
       "    </tr>\n",
       "  </tbody>\n",
       "</table>\n",
       "</div>"
      ],
      "text/plain": [
       "       loss  accuracy  val_loss  val_accuracy  epoch batch_size_\n",
       "0  0.904966  0.705683  0.360123        0.8937      0          8_\n",
       "1  0.312134  0.907650  0.270353        0.9198      1          8_\n",
       "2  0.233015  0.931550  0.204598        0.9389      2          8_\n",
       "3  0.187764  0.944467  0.185239        0.9427      3          8_\n",
       "4  0.160360  0.952217  0.166757        0.9471      4          8_"
      ]
     },
     "execution_count": 391,
     "metadata": {},
     "output_type": "execute_result"
    },
    {
     "data": {
      "image/png": "[encoded data removed]",
      "text/plain": [
       "<Figure size 1080x360 with 2 Axes>"
      ]
     },
     "metadata": {
      "needs_background": "light"
     },
     "output_type": "display_data"
    }
   ],
   "source": [
    "df_batch = viz_param(model_batch)\n",
    "df_batch.head()"
   ]
  },
  {
   "cell_type": "markdown",
   "metadata": {},
   "source": [
    "> **smaller batch size does more back propagation and achieve higher accuracy per epoch. But it takes longer to run each epoch**"
   ]
  },
  {
   "cell_type": "markdown",
   "metadata": {
    "colab_type": "text",
    "id": "46cP9Pm_gclS"
   },
   "source": [
    "# Learning Rate (Learn)"
   ]
  },
  {
   "cell_type": "markdown",
   "metadata": {
    "colab_type": "text",
    "id": "Bna67ADZgclT",
    "toc-hr-collapsed": true
   },
   "source": [
    "## Overview\n",
    "\n",
    "Learning Rate controls the size of the update to our weights that the optimization algorithm makes. VERY IMPORTANT hyperparameter.\n",
    "\n",
    "* Too high of a learning rate causes unstable results\n",
    "* Too Low of a learning rate the model will underfit\n",
    "* Goldilocks parameters - it needs to be \"just right\"\n",
    "* Scale of 0-1"
   ]
  },
  {
   "cell_type": "markdown",
   "metadata": {
    "colab_type": "text",
    "id": "gsVYOn7bgcle",
    "toc-hr-collapsed": true
   },
   "source": [
    "## Follow Along\n",
    "\n",
    "Same experiment with Batch but different learning rates:\n",
    "* High Learning = .75\n",
    "* Default Learning = .01\n",
    "* Low Learning Rate = .001"
   ]
  },
  {
   "cell_type": "markdown",
   "metadata": {
    "colab_type": "text",
    "id": "CI_H8Em1NOii"
   },
   "source": [
    "### Default Learning Rate\n",
    "Batch size is kept at default 32"
   ]
  },
  {
   "cell_type": "code",
   "execution_count": 392,
   "metadata": {},
   "outputs": [
    {
     "name": "stdout",
     "output_type": "stream",
     "text": [
      "********* Fitting for lr=0.001 *********\n",
      "Epoch 1/25\n",
      "1875/1875 [==============================] - 2s 817us/step - loss: 2.3020 - accuracy: 0.1262 - val_loss: 2.2999 - val_accuracy: 0.1136\n",
      "Epoch 2/25\n",
      "1875/1875 [==============================] - 1s 664us/step - loss: 2.2992 - accuracy: 0.1140 - val_loss: 2.2965 - val_accuracy: 0.1287\n",
      "Epoch 3/25\n",
      "1875/1875 [==============================] - 1s 653us/step - loss: 2.2954 - accuracy: 0.1458 - val_loss: 2.2911 - val_accuracy: 0.1945\n",
      "Epoch 4/25\n",
      "1875/1875 [==============================] - 1s 736us/step - loss: 2.2894 - accuracy: 0.2054 - val_loss: 2.2811 - val_accuracy: 0.2654\n",
      "Epoch 5/25\n",
      "1875/1875 [==============================] - 1s 707us/step - loss: 2.2774 - accuracy: 0.2749 - val_loss: 2.2591 - val_accuracy: 0.3116\n",
      "Epoch 6/25\n",
      "1875/1875 [==============================] - 1s 742us/step - loss: 2.2487 - accuracy: 0.3219 - val_loss: 2.1997 - val_accuracy: 0.3326\n",
      "Epoch 7/25\n",
      "1875/1875 [==============================] - 1s 733us/step - loss: 2.1702 - accuracy: 0.3316 - val_loss: 2.0298 - val_accuracy: 0.3350\n",
      "Epoch 8/25\n",
      "1875/1875 [==============================] - 1s 629us/step - loss: 1.9647 - accuracy: 0.3520 - val_loss: 1.7094 - val_accuracy: 0.4238\n",
      "Epoch 9/25\n",
      "1875/1875 [==============================] - 1s 650us/step - loss: 1.6205 - accuracy: 0.4603 - val_loss: 1.3569 - val_accuracy: 0.5684\n",
      "Epoch 10/25\n",
      "1875/1875 [==============================] - 1s 674us/step - loss: 1.3026 - accuracy: 0.5880 - val_loss: 1.1047 - val_accuracy: 0.6621\n",
      "Epoch 11/25\n",
      "1875/1875 [==============================] - 2s 1ms/step - loss: 1.0614 - accuracy: 0.6744 - val_loss: 0.9159 - val_accuracy: 0.7246\n",
      "Epoch 12/25\n",
      "1875/1875 [==============================] - 1s 682us/step - loss: 0.8865 - accuracy: 0.7299 - val_loss: 0.7864 - val_accuracy: 0.7585\n",
      "Epoch 13/25\n",
      "1875/1875 [==============================] - 1s 651us/step - loss: 0.7739 - accuracy: 0.7622 - val_loss: 0.6998 - val_accuracy: 0.7857\n",
      "Epoch 14/25\n",
      "1875/1875 [==============================] - 1s 648us/step - loss: 0.6918 - accuracy: 0.7892 - val_loss: 0.6400 - val_accuracy: 0.8044\n",
      "Epoch 15/25\n",
      "1875/1875 [==============================] - 1s 693us/step - loss: 0.6424 - accuracy: 0.8073 - val_loss: 0.5957 - val_accuracy: 0.8199\n",
      "Epoch 16/25\n",
      "1875/1875 [==============================] - 1s 644us/step - loss: 0.5914 - accuracy: 0.8215 - val_loss: 0.5624 - val_accuracy: 0.8307\n",
      "Epoch 17/25\n",
      "1875/1875 [==============================] - 1s 650us/step - loss: 0.5616 - accuracy: 0.8316 - val_loss: 0.5383 - val_accuracy: 0.8401\n",
      "Epoch 18/25\n",
      "1875/1875 [==============================] - 1s 669us/step - loss: 0.5435 - accuracy: 0.8401 - val_loss: 0.5163 - val_accuracy: 0.8474\n",
      "Epoch 19/25\n",
      "1875/1875 [==============================] - 1s 654us/step - loss: 0.5172 - accuracy: 0.8490 - val_loss: 0.4996 - val_accuracy: 0.8501\n",
      "Epoch 20/25\n",
      "1875/1875 [==============================] - 1s 655us/step - loss: 0.5042 - accuracy: 0.8510 - val_loss: 0.4861 - val_accuracy: 0.8549\n",
      "Epoch 21/25\n",
      "1875/1875 [==============================] - 1s 655us/step - loss: 0.4904 - accuracy: 0.8579 - val_loss: 0.4709 - val_accuracy: 0.8589\n",
      "Epoch 22/25\n",
      "1875/1875 [==============================] - 1s 716us/step - loss: 0.4758 - accuracy: 0.8612 - val_loss: 0.4597 - val_accuracy: 0.8620\n",
      "Epoch 23/25\n",
      "1875/1875 [==============================] - 1s 661us/step - loss: 0.4594 - accuracy: 0.8681 - val_loss: 0.4500 - val_accuracy: 0.8653\n",
      "Epoch 24/25\n",
      "1875/1875 [==============================] - 1s 653us/step - loss: 0.4545 - accuracy: 0.8693 - val_loss: 0.4401 - val_accuracy: 0.8689\n",
      "Epoch 25/25\n",
      "1875/1875 [==============================] - 1s 709us/step - loss: 0.4382 - accuracy: 0.8744 - val_loss: 0.4310 - val_accuracy: 0.8729\n",
      "********* Fitting for lr=0.01 *********\n",
      "Epoch 1/25\n",
      "1875/1875 [==============================] - 2s 806us/step - loss: 2.2561 - accuracy: 0.2091 - val_loss: 1.1127 - val_accuracy: 0.6478\n",
      "Epoch 2/25\n",
      "1875/1875 [==============================] - 1s 760us/step - loss: 0.8326 - accuracy: 0.7403 - val_loss: 0.4995 - val_accuracy: 0.8551\n",
      "Epoch 3/25\n",
      "1875/1875 [==============================] - 1s 712us/step - loss: 0.4686 - accuracy: 0.8640 - val_loss: 0.4098 - val_accuracy: 0.8795\n",
      "Epoch 4/25\n",
      "1875/1875 [==============================] - 1s 779us/step - loss: 0.3900 - accuracy: 0.8881 - val_loss: 0.3572 - val_accuracy: 0.8958\n",
      "Epoch 5/25\n",
      "1875/1875 [==============================] - 1s 708us/step - loss: 0.3536 - accuracy: 0.9001 - val_loss: 0.3236 - val_accuracy: 0.9063\n",
      "Epoch 6/25\n",
      "1875/1875 [==============================] - 1s 654us/step - loss: 0.3143 - accuracy: 0.9070 - val_loss: 0.2923 - val_accuracy: 0.9167\n",
      "Epoch 7/25\n",
      "1875/1875 [==============================] - 1s 743us/step - loss: 0.2891 - accuracy: 0.9159 - val_loss: 0.2741 - val_accuracy: 0.9204\n",
      "Epoch 8/25\n",
      "1875/1875 [==============================] - 1s 726us/step - loss: 0.2754 - accuracy: 0.9205 - val_loss: 0.2556 - val_accuracy: 0.9258\n",
      "Epoch 9/25\n",
      "1875/1875 [==============================] - 1s 720us/step - loss: 0.2498 - accuracy: 0.9272 - val_loss: 0.2401 - val_accuracy: 0.9306\n",
      "Epoch 10/25\n",
      "1875/1875 [==============================] - 1s 755us/step - loss: 0.2348 - accuracy: 0.9310 - val_loss: 0.2292 - val_accuracy: 0.9342\n",
      "Epoch 11/25\n",
      "1875/1875 [==============================] - 1s 691us/step - loss: 0.2127 - accuracy: 0.9376 - val_loss: 0.2121 - val_accuracy: 0.9389\n",
      "Epoch 12/25\n",
      "1875/1875 [==============================] - 1s 684us/step - loss: 0.2033 - accuracy: 0.9404 - val_loss: 0.2054 - val_accuracy: 0.9409\n",
      "Epoch 13/25\n",
      "1875/1875 [==============================] - 1s 752us/step - loss: 0.1881 - accuracy: 0.9441 - val_loss: 0.1920 - val_accuracy: 0.9424\n",
      "Epoch 14/25\n",
      "1875/1875 [==============================] - 1s 712us/step - loss: 0.1846 - accuracy: 0.9458 - val_loss: 0.1840 - val_accuracy: 0.9432\n",
      "Epoch 15/25\n",
      "1875/1875 [==============================] - 1s 731us/step - loss: 0.1701 - accuracy: 0.9502 - val_loss: 0.1780 - val_accuracy: 0.9463\n",
      "Epoch 16/25\n",
      "1875/1875 [==============================] - 1s 719us/step - loss: 0.1645 - accuracy: 0.9523 - val_loss: 0.1738 - val_accuracy: 0.9470\n",
      "Epoch 17/25\n",
      "1875/1875 [==============================] - 1s 709us/step - loss: 0.1598 - accuracy: 0.9541 - val_loss: 0.1678 - val_accuracy: 0.9494\n",
      "Epoch 18/25\n",
      "1875/1875 [==============================] - 1s 698us/step - loss: 0.1576 - accuracy: 0.9534 - val_loss: 0.1643 - val_accuracy: 0.9528\n",
      "Epoch 19/25\n",
      "1875/1875 [==============================] - 1s 698us/step - loss: 0.1537 - accuracy: 0.9553 - val_loss: 0.1609 - val_accuracy: 0.9510\n",
      "Epoch 20/25\n",
      "1875/1875 [==============================] - 1s 680us/step - loss: 0.1428 - accuracy: 0.9586 - val_loss: 0.1543 - val_accuracy: 0.9534\n",
      "Epoch 21/25\n",
      "1875/1875 [==============================] - 1s 672us/step - loss: 0.1374 - accuracy: 0.9594 - val_loss: 0.1587 - val_accuracy: 0.9528\n",
      "Epoch 22/25\n",
      "1875/1875 [==============================] - 1s 686us/step - loss: 0.1417 - accuracy: 0.9587 - val_loss: 0.1511 - val_accuracy: 0.9547\n",
      "Epoch 23/25\n",
      "1875/1875 [==============================] - 1s 784us/step - loss: 0.1305 - accuracy: 0.9616 - val_loss: 0.1450 - val_accuracy: 0.9566\n",
      "Epoch 24/25\n",
      "1875/1875 [==============================] - 1s 768us/step - loss: 0.1281 - accuracy: 0.9630 - val_loss: 0.1445 - val_accuracy: 0.9577\n",
      "Epoch 25/25\n",
      "1875/1875 [==============================] - 2s 877us/step - loss: 0.1217 - accuracy: 0.9647 - val_loss: 0.1469 - val_accuracy: 0.9566\n",
      "********* Fitting for lr=0.75 *********\n",
      "Epoch 1/25\n",
      "1875/1875 [==============================] - 2s 945us/step - loss: 0.8565 - accuracy: 0.7122 - val_loss: 0.2824 - val_accuracy: 0.9264\n",
      "Epoch 2/25\n",
      "1875/1875 [==============================] - 2s 813us/step - loss: 0.2753 - accuracy: 0.9262 - val_loss: 0.2451 - val_accuracy: 0.9335\n",
      "Epoch 3/25\n",
      "1875/1875 [==============================] - 2s 867us/step - loss: 0.2418 - accuracy: 0.9368 - val_loss: 0.2383 - val_accuracy: 0.9400\n",
      "Epoch 4/25\n",
      "1875/1875 [==============================] - 2s 829us/step - loss: 0.2271 - accuracy: 0.9401 - val_loss: 0.2552 - val_accuracy: 0.9367\n",
      "Epoch 5/25\n",
      "1875/1875 [==============================] - 1s 785us/step - loss: 0.2162 - accuracy: 0.9445 - val_loss: 0.2361 - val_accuracy: 0.9393\n",
      "Epoch 6/25\n",
      "1875/1875 [==============================] - 1s 726us/step - loss: 0.2104 - accuracy: 0.9458 - val_loss: 0.2845 - val_accuracy: 0.9275\n",
      "Epoch 7/25\n",
      "1875/1875 [==============================] - 1s 691us/step - loss: 0.2100 - accuracy: 0.9466 - val_loss: 0.3001 - val_accuracy: 0.9388\n",
      "Epoch 8/25\n",
      "1875/1875 [==============================] - 1s 772us/step - loss: 0.2105 - accuracy: 0.9471 - val_loss: 0.2887 - val_accuracy: 0.9296\n",
      "Epoch 9/25\n",
      "1875/1875 [==============================] - 1s 733us/step - loss: 0.2199 - accuracy: 0.9453 - val_loss: 0.2302 - val_accuracy: 0.9425\n",
      "Epoch 10/25\n",
      "1875/1875 [==============================] - 1s 697us/step - loss: 0.2013 - accuracy: 0.9502 - val_loss: 0.2560 - val_accuracy: 0.9416\n",
      "Epoch 11/25\n",
      "1875/1875 [==============================] - 1s 762us/step - loss: 0.2035 - accuracy: 0.9486 - val_loss: 0.2495 - val_accuracy: 0.9456\n",
      "Epoch 12/25\n",
      "1875/1875 [==============================] - 1s 741us/step - loss: 0.2026 - accuracy: 0.9511 - val_loss: 0.2738 - val_accuracy: 0.9361\n",
      "Epoch 13/25\n",
      "1875/1875 [==============================] - 1s 728us/step - loss: 0.1843 - accuracy: 0.9541 - val_loss: 0.2366 - val_accuracy: 0.9484\n",
      "Epoch 14/25\n",
      "1875/1875 [==============================] - 1s 768us/step - loss: 0.1831 - accuracy: 0.9552 - val_loss: 0.2751 - val_accuracy: 0.9406\n",
      "Epoch 15/25\n",
      "1875/1875 [==============================] - 2s 801us/step - loss: 0.1918 - accuracy: 0.9535 - val_loss: 0.2519 - val_accuracy: 0.9432\n",
      "Epoch 16/25\n",
      "1875/1875 [==============================] - 2s 863us/step - loss: 0.2008 - accuracy: 0.9526 - val_loss: 0.2369 - val_accuracy: 0.9453\n",
      "Epoch 17/25\n",
      "1875/1875 [==============================] - 2s 904us/step - loss: 0.1734 - accuracy: 0.9572 - val_loss: 0.2609 - val_accuracy: 0.9443\n",
      "Epoch 18/25\n",
      "1875/1875 [==============================] - 1s 791us/step - loss: 0.1784 - accuracy: 0.9552 - val_loss: 0.2601 - val_accuracy: 0.9499\n",
      "Epoch 19/25\n",
      "1875/1875 [==============================] - 2s 1ms/step - loss: 0.2468 - accuracy: 0.9453 - val_loss: 0.3360 - val_accuracy: 0.9384\n",
      "Epoch 20/25\n",
      "1875/1875 [==============================] - 1s 716us/step - loss: 0.2216 - accuracy: 0.9475 - val_loss: 0.3124 - val_accuracy: 0.9403\n",
      "Epoch 21/25\n",
      "1875/1875 [==============================] - 2s 822us/step - loss: 0.2054 - accuracy: 0.9520 - val_loss: 0.2549 - val_accuracy: 0.9490\n",
      "Epoch 22/25\n",
      "1875/1875 [==============================] - 1s 774us/step - loss: 0.1783 - accuracy: 0.9571 - val_loss: 0.2670 - val_accuracy: 0.9439\n",
      "Epoch 23/25\n",
      "1875/1875 [==============================] - 1s 777us/step - loss: 0.1913 - accuracy: 0.9555 - val_loss: 0.2815 - val_accuracy: 0.9432\n",
      "Epoch 24/25\n",
      "1875/1875 [==============================] - 2s 803us/step - loss: 0.1855 - accuracy: 0.9560 - val_loss: 0.2921 - val_accuracy: 0.9453\n",
      "Epoch 25/25\n",
      "1875/1875 [==============================] - 1s 678us/step - loss: 0.2604 - accuracy: 0.9421 - val_loss: 0.4357 - val_accuracy: 0.9233\n"
     ]
    }
   ],
   "source": [
    "lr_lst = [0.001,0.01,0.75]\n",
    "model_lr = fit_param(lr_lst, \"lr\")"
   ]
  },
  {
   "cell_type": "markdown",
   "metadata": {
    "colab_type": "text",
    "id": "sZe6DyhANXdU"
   },
   "source": [
    "### Visualization of Results"
   ]
  },
  {
   "cell_type": "code",
   "execution_count": 393,
   "metadata": {},
   "outputs": [
    {
     "data": {
      "text/html": [
       "<div>\n",
       "<style scoped>\n",
       "    .dataframe tbody tr th:only-of-type {\n",
       "        vertical-align: middle;\n",
       "    }\n",
       "\n",
       "    .dataframe tbody tr th {\n",
       "        vertical-align: top;\n",
       "    }\n",
       "\n",
       "    .dataframe thead th {\n",
       "        text-align: right;\n",
       "    }\n",
       "</style>\n",
       "<table border=\"1\" class=\"dataframe\">\n",
       "  <thead>\n",
       "    <tr style=\"text-align: right;\">\n",
       "      <th></th>\n",
       "      <th>loss</th>\n",
       "      <th>accuracy</th>\n",
       "      <th>val_loss</th>\n",
       "      <th>val_accuracy</th>\n",
       "      <th>epoch</th>\n",
       "      <th>lr_</th>\n",
       "    </tr>\n",
       "  </thead>\n",
       "  <tbody>\n",
       "    <tr>\n",
       "      <th>0</th>\n",
       "      <td>2.301324</td>\n",
       "      <td>0.120383</td>\n",
       "      <td>2.299946</td>\n",
       "      <td>0.1136</td>\n",
       "      <td>0</td>\n",
       "      <td>0.001_</td>\n",
       "    </tr>\n",
       "    <tr>\n",
       "      <th>1</th>\n",
       "      <td>2.298389</td>\n",
       "      <td>0.117367</td>\n",
       "      <td>2.296484</td>\n",
       "      <td>0.1287</td>\n",
       "      <td>1</td>\n",
       "      <td>0.001_</td>\n",
       "    </tr>\n",
       "    <tr>\n",
       "      <th>2</th>\n",
       "      <td>2.294137</td>\n",
       "      <td>0.161867</td>\n",
       "      <td>2.291074</td>\n",
       "      <td>0.1945</td>\n",
       "      <td>2</td>\n",
       "      <td>0.001_</td>\n",
       "    </tr>\n",
       "    <tr>\n",
       "      <th>3</th>\n",
       "      <td>2.286896</td>\n",
       "      <td>0.224217</td>\n",
       "      <td>2.281112</td>\n",
       "      <td>0.2654</td>\n",
       "      <td>3</td>\n",
       "      <td>0.001_</td>\n",
       "    </tr>\n",
       "    <tr>\n",
       "      <th>4</th>\n",
       "      <td>2.272140</td>\n",
       "      <td>0.291950</td>\n",
       "      <td>2.259059</td>\n",
       "      <td>0.3116</td>\n",
       "      <td>4</td>\n",
       "      <td>0.001_</td>\n",
       "    </tr>\n",
       "  </tbody>\n",
       "</table>\n",
       "</div>"
      ],
      "text/plain": [
       "       loss  accuracy  val_loss  val_accuracy  epoch     lr_\n",
       "0  2.301324  0.120383  2.299946        0.1136      0  0.001_\n",
       "1  2.298389  0.117367  2.296484        0.1287      1  0.001_\n",
       "2  2.294137  0.161867  2.291074        0.1945      2  0.001_\n",
       "3  2.286896  0.224217  2.281112        0.2654      3  0.001_\n",
       "4  2.272140  0.291950  2.259059        0.3116      4  0.001_"
      ]
     },
     "execution_count": 393,
     "metadata": {},
     "output_type": "execute_result"
    },
    {
     "data": {
      "image/png": "[encoded data removed]",
      "text/plain": [
       "<Figure size 1080x360 with 2 Axes>"
      ]
     },
     "metadata": {
      "needs_background": "light"
     },
     "output_type": "display_data"
    }
   ],
   "source": [
    "df_lr = viz_param(model_lr)\n",
    "df_lr.head()"
   ]
  },
  {
   "cell_type": "markdown",
   "metadata": {
    "colab_type": "text",
    "id": "QtYbKjRls55e"
   },
   "source": [
    "**Large learning rate cannot converge. Too small of a learning rate needs lots of epochs to get to high accuracy, and it's slow for the same batch_size**"
   ]
  },
  {
   "cell_type": "markdown",
   "metadata": {},
   "source": [
    "### epochs\n",
    "epoch is like iteration over the dataset. AT some epoch we won't get more improvement.\n",
    "let's keep batch_size=32, and lr=0.01 and run for 50 epoch"
   ]
  },
  {
   "cell_type": "code",
   "execution_count": 394,
   "metadata": {},
   "outputs": [
    {
     "name": "stdout",
     "output_type": "stream",
     "text": [
      "********* Fitting for epochs=50 *********\n",
      "Epoch 1/50\n",
      "1875/1875 [==============================] - 2s 740us/step - loss: 2.2560 - accuracy: 0.1815 - val_loss: 1.1180 - val_accuracy: 0.6415\n",
      "Epoch 2/50\n",
      "1875/1875 [==============================] - 1s 684us/step - loss: 0.8218 - accuracy: 0.7466 - val_loss: 0.5077 - val_accuracy: 0.8400\n",
      "Epoch 3/50\n",
      "1875/1875 [==============================] - 1s 651us/step - loss: 0.4687 - accuracy: 0.8633 - val_loss: 0.3997 - val_accuracy: 0.8832\n",
      "Epoch 4/50\n",
      "1875/1875 [==============================] - 1s 679us/step - loss: 0.3936 - accuracy: 0.8855 - val_loss: 0.3583 - val_accuracy: 0.8940\n",
      "Epoch 5/50\n",
      "1875/1875 [==============================] - 1s 668us/step - loss: 0.3434 - accuracy: 0.8990 - val_loss: 0.3176 - val_accuracy: 0.9094\n",
      "Epoch 6/50\n",
      "1875/1875 [==============================] - 1s 665us/step - loss: 0.3109 - accuracy: 0.9111 - val_loss: 0.2963 - val_accuracy: 0.9175\n",
      "Epoch 7/50\n",
      "1875/1875 [==============================] - 1s 675us/step - loss: 0.2944 - accuracy: 0.9154 - val_loss: 0.2769 - val_accuracy: 0.9229\n",
      "Epoch 8/50\n",
      "1875/1875 [==============================] - 1s 698us/step - loss: 0.2663 - accuracy: 0.9232 - val_loss: 0.2553 - val_accuracy: 0.9266\n",
      "Epoch 9/50\n",
      "1875/1875 [==============================] - 1s 688us/step - loss: 0.2522 - accuracy: 0.9260 - val_loss: 0.2321 - val_accuracy: 0.9333\n",
      "Epoch 10/50\n",
      "1875/1875 [==============================] - 2s 818us/step - loss: 0.2310 - accuracy: 0.9330 - val_loss: 0.2218 - val_accuracy: 0.9356\n",
      "Epoch 11/50\n",
      "1875/1875 [==============================] - 1s 729us/step - loss: 0.2154 - accuracy: 0.9379 - val_loss: 0.2166 - val_accuracy: 0.9344\n",
      "Epoch 12/50\n",
      "1875/1875 [==============================] - 1s 675us/step - loss: 0.2060 - accuracy: 0.9403 - val_loss: 0.1979 - val_accuracy: 0.9417\n",
      "Epoch 13/50\n",
      "1875/1875 [==============================] - 1s 660us/step - loss: 0.1889 - accuracy: 0.9460 - val_loss: 0.1908 - val_accuracy: 0.9438\n",
      "Epoch 14/50\n",
      "1875/1875 [==============================] - 1s 680us/step - loss: 0.1843 - accuracy: 0.9459 - val_loss: 0.1886 - val_accuracy: 0.9441\n",
      "Epoch 15/50\n",
      "1875/1875 [==============================] - 1s 663us/step - loss: 0.1741 - accuracy: 0.9495 - val_loss: 0.1752 - val_accuracy: 0.9472\n",
      "Epoch 16/50\n",
      "1875/1875 [==============================] - 1s 678us/step - loss: 0.1698 - accuracy: 0.9517 - val_loss: 0.1710 - val_accuracy: 0.9479\n",
      "Epoch 17/50\n",
      "1875/1875 [==============================] - 1s 660us/step - loss: 0.1615 - accuracy: 0.9533 - val_loss: 0.1704 - val_accuracy: 0.9498\n",
      "Epoch 18/50\n",
      "1875/1875 [==============================] - 1s 668us/step - loss: 0.1564 - accuracy: 0.9546 - val_loss: 0.1640 - val_accuracy: 0.9517\n",
      "Epoch 19/50\n",
      "1875/1875 [==============================] - 1s 657us/step - loss: 0.1524 - accuracy: 0.9550 - val_loss: 0.1583 - val_accuracy: 0.9537\n",
      "Epoch 20/50\n",
      "1875/1875 [==============================] - 1s 697us/step - loss: 0.1442 - accuracy: 0.9594 - val_loss: 0.1591 - val_accuracy: 0.9532\n",
      "Epoch 21/50\n",
      "1875/1875 [==============================] - 1s 660us/step - loss: 0.1382 - accuracy: 0.9592 - val_loss: 0.1503 - val_accuracy: 0.9562\n",
      "Epoch 22/50\n",
      "1875/1875 [==============================] - 1s 675us/step - loss: 0.1361 - accuracy: 0.9606 - val_loss: 0.1492 - val_accuracy: 0.9549\n",
      "Epoch 23/50\n",
      "1875/1875 [==============================] - 1s 681us/step - loss: 0.1320 - accuracy: 0.9622 - val_loss: 0.1466 - val_accuracy: 0.9566\n",
      "Epoch 24/50\n",
      "1875/1875 [==============================] - 1s 673us/step - loss: 0.1296 - accuracy: 0.9630 - val_loss: 0.1427 - val_accuracy: 0.9578\n",
      "Epoch 25/50\n",
      "1875/1875 [==============================] - 1s 663us/step - loss: 0.1270 - accuracy: 0.9623 - val_loss: 0.1409 - val_accuracy: 0.9584\n",
      "Epoch 26/50\n",
      "1875/1875 [==============================] - 1s 662us/step - loss: 0.1213 - accuracy: 0.9647 - val_loss: 0.1384 - val_accuracy: 0.9587\n",
      "Epoch 27/50\n",
      "1875/1875 [==============================] - 1s 717us/step - loss: 0.1202 - accuracy: 0.9646 - val_loss: 0.1344 - val_accuracy: 0.9610\n",
      "Epoch 28/50\n",
      "1875/1875 [==============================] - 1s 659us/step - loss: 0.1162 - accuracy: 0.9665 - val_loss: 0.1359 - val_accuracy: 0.9595\n",
      "Epoch 29/50\n",
      "1875/1875 [==============================] - 1s 657us/step - loss: 0.1140 - accuracy: 0.9661 - val_loss: 0.1311 - val_accuracy: 0.9605\n",
      "Epoch 30/50\n",
      "1875/1875 [==============================] - 1s 658us/step - loss: 0.1084 - accuracy: 0.9684 - val_loss: 0.1314 - val_accuracy: 0.9596\n",
      "Epoch 31/50\n",
      "1875/1875 [==============================] - 1s 728us/step - loss: 0.1069 - accuracy: 0.9691 - val_loss: 0.1284 - val_accuracy: 0.9597\n",
      "Epoch 32/50\n",
      "1875/1875 [==============================] - 1s 668us/step - loss: 0.1040 - accuracy: 0.9697 - val_loss: 0.1283 - val_accuracy: 0.9620\n",
      "Epoch 33/50\n",
      "1875/1875 [==============================] - 1s 739us/step - loss: 0.1002 - accuracy: 0.9714 - val_loss: 0.1252 - val_accuracy: 0.9622\n",
      "Epoch 34/50\n",
      "1875/1875 [==============================] - 1s 744us/step - loss: 0.0981 - accuracy: 0.9710 - val_loss: 0.1244 - val_accuracy: 0.9618\n",
      "Epoch 35/50\n",
      "1875/1875 [==============================] - 2s 818us/step - loss: 0.0972 - accuracy: 0.9724 - val_loss: 0.1261 - val_accuracy: 0.9620\n",
      "Epoch 36/50\n",
      "1875/1875 [==============================] - 1s 695us/step - loss: 0.0959 - accuracy: 0.9715 - val_loss: 0.1225 - val_accuracy: 0.9616\n",
      "Epoch 37/50\n",
      "1875/1875 [==============================] - 1s 717us/step - loss: 0.0883 - accuracy: 0.9743 - val_loss: 0.1197 - val_accuracy: 0.9645\n",
      "Epoch 38/50\n",
      "1875/1875 [==============================] - 1s 752us/step - loss: 0.0876 - accuracy: 0.9745 - val_loss: 0.1212 - val_accuracy: 0.9636\n",
      "Epoch 39/50\n",
      "1875/1875 [==============================] - 1s 745us/step - loss: 0.0855 - accuracy: 0.9745 - val_loss: 0.1204 - val_accuracy: 0.9634\n",
      "Epoch 40/50\n",
      "1875/1875 [==============================] - 1s 690us/step - loss: 0.0849 - accuracy: 0.9750 - val_loss: 0.1194 - val_accuracy: 0.9643\n",
      "Epoch 41/50\n",
      "1875/1875 [==============================] - 1s 794us/step - loss: 0.0847 - accuracy: 0.9763 - val_loss: 0.1222 - val_accuracy: 0.9639\n",
      "Epoch 42/50\n",
      "1875/1875 [==============================] - 1s 667us/step - loss: 0.0810 - accuracy: 0.9763 - val_loss: 0.1180 - val_accuracy: 0.9628\n",
      "Epoch 43/50\n",
      "1875/1875 [==============================] - 1s 701us/step - loss: 0.0814 - accuracy: 0.9760 - val_loss: 0.1151 - val_accuracy: 0.9644\n",
      "Epoch 44/50\n",
      "1875/1875 [==============================] - 2s 825us/step - loss: 0.0807 - accuracy: 0.9771 - val_loss: 0.1136 - val_accuracy: 0.9649\n",
      "Epoch 45/50\n",
      "1875/1875 [==============================] - 1s 762us/step - loss: 0.0765 - accuracy: 0.9775 - val_loss: 0.1163 - val_accuracy: 0.9646\n",
      "Epoch 46/50\n",
      "1875/1875 [==============================] - 1s 674us/step - loss: 0.0746 - accuracy: 0.9785 - val_loss: 0.1142 - val_accuracy: 0.9648\n",
      "Epoch 47/50\n",
      "1875/1875 [==============================] - 2s 860us/step - loss: 0.0742 - accuracy: 0.9789 - val_loss: 0.1153 - val_accuracy: 0.9649\n",
      "Epoch 48/50\n",
      "1875/1875 [==============================] - 1s 690us/step - loss: 0.0717 - accuracy: 0.9796 - val_loss: 0.1156 - val_accuracy: 0.9652\n",
      "Epoch 49/50\n",
      "1875/1875 [==============================] - 1s 669us/step - loss: 0.0705 - accuracy: 0.9785 - val_loss: 0.1137 - val_accuracy: 0.9662\n",
      "Epoch 50/50\n",
      "1875/1875 [==============================] - 1s 674us/step - loss: 0.0702 - accuracy: 0.9795 - val_loss: 0.1133 - val_accuracy: 0.9665\n"
     ]
    }
   ],
   "source": [
    "epoch_lst = [50]\n",
    "model_epoch = fit_param(epoch_lst, \"epochs\")"
   ]
  },
  {
   "cell_type": "code",
   "execution_count": 395,
   "metadata": {},
   "outputs": [
    {
     "data": {
      "text/html": [
       "<div>\n",
       "<style scoped>\n",
       "    .dataframe tbody tr th:only-of-type {\n",
       "        vertical-align: middle;\n",
       "    }\n",
       "\n",
       "    .dataframe tbody tr th {\n",
       "        vertical-align: top;\n",
       "    }\n",
       "\n",
       "    .dataframe thead th {\n",
       "        text-align: right;\n",
       "    }\n",
       "</style>\n",
       "<table border=\"1\" class=\"dataframe\">\n",
       "  <thead>\n",
       "    <tr style=\"text-align: right;\">\n",
       "      <th></th>\n",
       "      <th>loss</th>\n",
       "      <th>accuracy</th>\n",
       "      <th>val_loss</th>\n",
       "      <th>val_accuracy</th>\n",
       "      <th>epoch</th>\n",
       "      <th>epochs_</th>\n",
       "    </tr>\n",
       "  </thead>\n",
       "  <tbody>\n",
       "    <tr>\n",
       "      <th>0</th>\n",
       "      <td>2.049995</td>\n",
       "      <td>0.295683</td>\n",
       "      <td>1.117957</td>\n",
       "      <td>0.6415</td>\n",
       "      <td>0</td>\n",
       "      <td>50_</td>\n",
       "    </tr>\n",
       "    <tr>\n",
       "      <th>1</th>\n",
       "      <td>0.672956</td>\n",
       "      <td>0.795150</td>\n",
       "      <td>0.507652</td>\n",
       "      <td>0.8400</td>\n",
       "      <td>1</td>\n",
       "      <td>50_</td>\n",
       "    </tr>\n",
       "    <tr>\n",
       "      <th>2</th>\n",
       "      <td>0.449212</td>\n",
       "      <td>0.869800</td>\n",
       "      <td>0.399669</td>\n",
       "      <td>0.8832</td>\n",
       "      <td>2</td>\n",
       "      <td>50_</td>\n",
       "    </tr>\n",
       "    <tr>\n",
       "      <th>3</th>\n",
       "      <td>0.381581</td>\n",
       "      <td>0.889483</td>\n",
       "      <td>0.358283</td>\n",
       "      <td>0.8940</td>\n",
       "      <td>3</td>\n",
       "      <td>50_</td>\n",
       "    </tr>\n",
       "    <tr>\n",
       "      <th>4</th>\n",
       "      <td>0.341898</td>\n",
       "      <td>0.901450</td>\n",
       "      <td>0.317566</td>\n",
       "      <td>0.9094</td>\n",
       "      <td>4</td>\n",
       "      <td>50_</td>\n",
       "    </tr>\n",
       "  </tbody>\n",
       "</table>\n",
       "</div>"
      ],
      "text/plain": [
       "       loss  accuracy  val_loss  val_accuracy  epoch epochs_\n",
       "0  2.049995  0.295683  1.117957        0.6415      0     50_\n",
       "1  0.672956  0.795150  0.507652        0.8400      1     50_\n",
       "2  0.449212  0.869800  0.399669        0.8832      2     50_\n",
       "3  0.381581  0.889483  0.358283        0.8940      3     50_\n",
       "4  0.341898  0.901450  0.317566        0.9094      4     50_"
      ]
     },
     "execution_count": 395,
     "metadata": {},
     "output_type": "execute_result"
    },
    {
     "data": {
      "image/png": "[encoded data removed]",
      "text/plain": [
       "<Figure size 1080x360 with 2 Axes>"
      ]
     },
     "metadata": {
      "needs_background": "light"
     },
     "output_type": "display_data"
    }
   ],
   "source": [
    "df_epoch = viz_param(model_epoch)\n",
    "df_epoch.head()"
   ]
  },
  {
   "cell_type": "code",
   "execution_count": null,
   "metadata": {},
   "outputs": [],
   "source": []
  }
 ],
 "metadata": {
  "accelerator": "GPU",
  "colab": {
   "collapsed_sections": [],
   "include_colab_link": true,
   "name": "LS_DS17_422_Train.ipynb",
   "provenance": []
  },
  "kernelspec": {
   "display_name": "ML_NN (Python3.7)",
   "language": "python",
   "name": "ml_nn"
  },
  "language_info": {
   "codemirror_mode": {
    "name": "ipython",
    "version": 3
   },
   "file_extension": ".py",
   "mimetype": "text/x-python",
   "name": "python",
   "nbconvert_exporter": "python",
   "pygments_lexer": "ipython3",
   "version": "3.7.0"
  }
 },
 "nbformat": 4,
 "nbformat_minor": 4
}
